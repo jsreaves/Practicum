{
 "cells": [
  {
   "cell_type": "markdown",
   "metadata": {},
   "source": [
    "# Research on car sales ads\n",
    "In this project, we will explore a dataset from Crankshaft List, a free vehicle advertising site.  Our goal is to examine how different features of a vehicle impact its price.\n",
    "\n",
    "First, we will identify problems with the dataset, including missing data and incorrect data types.  After filling in the missing values and fixing the data types, we will draw histograms to identify anomalies and outliers.  After correcting the anomalies and filtering out the outliers, we will identify the most common vehicle types and determine how features of a vehicle affect its price."
   ]
  },
  {
   "cell_type": "markdown",
   "metadata": {},
   "source": [
    "## Open the data file and study the general information. "
   ]
  },
  {
   "cell_type": "code",
   "execution_count": 1,
   "metadata": {},
   "outputs": [
    {
     "name": "stdout",
     "output_type": "stream",
     "text": [
      "<class 'pandas.core.frame.DataFrame'>\n",
      "RangeIndex: 51525 entries, 0 to 51524\n",
      "Data columns (total 13 columns):\n",
      " #   Column        Non-Null Count  Dtype  \n",
      "---  ------        --------------  -----  \n",
      " 0   price         51525 non-null  int64  \n",
      " 1   model_year    47906 non-null  float64\n",
      " 2   model         51525 non-null  object \n",
      " 3   condition     51525 non-null  object \n",
      " 4   cylinders     46265 non-null  float64\n",
      " 5   fuel          51525 non-null  object \n",
      " 6   odometer      43633 non-null  float64\n",
      " 7   transmission  51525 non-null  object \n",
      " 8   type          51525 non-null  object \n",
      " 9   paint_color   42258 non-null  object \n",
      " 10  is_4wd        25572 non-null  float64\n",
      " 11  date_posted   51525 non-null  object \n",
      " 12  days_listed   51525 non-null  int64  \n",
      "dtypes: float64(4), int64(2), object(7)\n",
      "memory usage: 5.1+ MB\n"
     ]
    }
   ],
   "source": [
    "import pandas as pd\n",
    "import matplotlib.pyplot as plt\n",
    "import scipy.stats\n",
    "import warnings\n",
    "\n",
    "warnings.filterwarnings('ignore')\n",
    "\n",
    "try:\n",
    "    df = pd.read_csv('vehicles_us.csv')\n",
    "except:\n",
    "    df = pd.read_csv('/datasets/vehicles_us.csv')\n",
    "\n",
    "df.info()"
   ]
  },
  {
   "cell_type": "code",
   "execution_count": 2,
   "metadata": {},
   "outputs": [
    {
     "data": {
      "text/html": [
       "<div>\n",
       "<style scoped>\n",
       "    .dataframe tbody tr th:only-of-type {\n",
       "        vertical-align: middle;\n",
       "    }\n",
       "\n",
       "    .dataframe tbody tr th {\n",
       "        vertical-align: top;\n",
       "    }\n",
       "\n",
       "    .dataframe thead th {\n",
       "        text-align: right;\n",
       "    }\n",
       "</style>\n",
       "<table border=\"1\" class=\"dataframe\">\n",
       "  <thead>\n",
       "    <tr style=\"text-align: right;\">\n",
       "      <th></th>\n",
       "      <th>price</th>\n",
       "      <th>model_year</th>\n",
       "      <th>model</th>\n",
       "      <th>condition</th>\n",
       "      <th>cylinders</th>\n",
       "      <th>fuel</th>\n",
       "      <th>odometer</th>\n",
       "      <th>transmission</th>\n",
       "      <th>type</th>\n",
       "      <th>paint_color</th>\n",
       "      <th>is_4wd</th>\n",
       "      <th>date_posted</th>\n",
       "      <th>days_listed</th>\n",
       "    </tr>\n",
       "  </thead>\n",
       "  <tbody>\n",
       "    <tr>\n",
       "      <th>0</th>\n",
       "      <td>9400</td>\n",
       "      <td>2011.0</td>\n",
       "      <td>bmw x5</td>\n",
       "      <td>good</td>\n",
       "      <td>6.0</td>\n",
       "      <td>gas</td>\n",
       "      <td>145000.0</td>\n",
       "      <td>automatic</td>\n",
       "      <td>SUV</td>\n",
       "      <td>NaN</td>\n",
       "      <td>1.0</td>\n",
       "      <td>2018-06-23</td>\n",
       "      <td>19</td>\n",
       "    </tr>\n",
       "    <tr>\n",
       "      <th>1</th>\n",
       "      <td>25500</td>\n",
       "      <td>NaN</td>\n",
       "      <td>ford f-150</td>\n",
       "      <td>good</td>\n",
       "      <td>6.0</td>\n",
       "      <td>gas</td>\n",
       "      <td>88705.0</td>\n",
       "      <td>automatic</td>\n",
       "      <td>pickup</td>\n",
       "      <td>white</td>\n",
       "      <td>1.0</td>\n",
       "      <td>2018-10-19</td>\n",
       "      <td>50</td>\n",
       "    </tr>\n",
       "    <tr>\n",
       "      <th>2</th>\n",
       "      <td>5500</td>\n",
       "      <td>2013.0</td>\n",
       "      <td>hyundai sonata</td>\n",
       "      <td>like new</td>\n",
       "      <td>4.0</td>\n",
       "      <td>gas</td>\n",
       "      <td>110000.0</td>\n",
       "      <td>automatic</td>\n",
       "      <td>sedan</td>\n",
       "      <td>red</td>\n",
       "      <td>NaN</td>\n",
       "      <td>2019-02-07</td>\n",
       "      <td>79</td>\n",
       "    </tr>\n",
       "    <tr>\n",
       "      <th>3</th>\n",
       "      <td>1500</td>\n",
       "      <td>2003.0</td>\n",
       "      <td>ford f-150</td>\n",
       "      <td>fair</td>\n",
       "      <td>8.0</td>\n",
       "      <td>gas</td>\n",
       "      <td>NaN</td>\n",
       "      <td>automatic</td>\n",
       "      <td>pickup</td>\n",
       "      <td>NaN</td>\n",
       "      <td>NaN</td>\n",
       "      <td>2019-03-22</td>\n",
       "      <td>9</td>\n",
       "    </tr>\n",
       "    <tr>\n",
       "      <th>4</th>\n",
       "      <td>14900</td>\n",
       "      <td>2017.0</td>\n",
       "      <td>chrysler 200</td>\n",
       "      <td>excellent</td>\n",
       "      <td>4.0</td>\n",
       "      <td>gas</td>\n",
       "      <td>80903.0</td>\n",
       "      <td>automatic</td>\n",
       "      <td>sedan</td>\n",
       "      <td>black</td>\n",
       "      <td>NaN</td>\n",
       "      <td>2019-04-02</td>\n",
       "      <td>28</td>\n",
       "    </tr>\n",
       "  </tbody>\n",
       "</table>\n",
       "</div>"
      ],
      "text/plain": [
       "   price  model_year           model  condition  cylinders fuel  odometer  \\\n",
       "0   9400      2011.0          bmw x5       good        6.0  gas  145000.0   \n",
       "1  25500         NaN      ford f-150       good        6.0  gas   88705.0   \n",
       "2   5500      2013.0  hyundai sonata   like new        4.0  gas  110000.0   \n",
       "3   1500      2003.0      ford f-150       fair        8.0  gas       NaN   \n",
       "4  14900      2017.0    chrysler 200  excellent        4.0  gas   80903.0   \n",
       "\n",
       "  transmission    type paint_color  is_4wd date_posted  days_listed  \n",
       "0    automatic     SUV         NaN     1.0  2018-06-23           19  \n",
       "1    automatic  pickup       white     1.0  2018-10-19           50  \n",
       "2    automatic   sedan         red     NaN  2019-02-07           79  \n",
       "3    automatic  pickup         NaN     NaN  2019-03-22            9  \n",
       "4    automatic   sedan       black     NaN  2019-04-02           28  "
      ]
     },
     "execution_count": 2,
     "metadata": {},
     "output_type": "execute_result"
    }
   ],
   "source": [
    "df.head()"
   ]
  },
  {
   "cell_type": "code",
   "execution_count": 3,
   "metadata": {},
   "outputs": [
    {
     "data": {
      "text/html": [
       "<div>\n",
       "<style scoped>\n",
       "    .dataframe tbody tr th:only-of-type {\n",
       "        vertical-align: middle;\n",
       "    }\n",
       "\n",
       "    .dataframe tbody tr th {\n",
       "        vertical-align: top;\n",
       "    }\n",
       "\n",
       "    .dataframe thead th {\n",
       "        text-align: right;\n",
       "    }\n",
       "</style>\n",
       "<table border=\"1\" class=\"dataframe\">\n",
       "  <thead>\n",
       "    <tr style=\"text-align: right;\">\n",
       "      <th></th>\n",
       "      <th>price</th>\n",
       "      <th>model_year</th>\n",
       "      <th>model</th>\n",
       "      <th>condition</th>\n",
       "      <th>cylinders</th>\n",
       "      <th>fuel</th>\n",
       "      <th>odometer</th>\n",
       "      <th>transmission</th>\n",
       "      <th>type</th>\n",
       "      <th>paint_color</th>\n",
       "      <th>is_4wd</th>\n",
       "      <th>date_posted</th>\n",
       "      <th>days_listed</th>\n",
       "    </tr>\n",
       "  </thead>\n",
       "  <tbody>\n",
       "    <tr>\n",
       "      <th>51520</th>\n",
       "      <td>9249</td>\n",
       "      <td>2013.0</td>\n",
       "      <td>nissan maxima</td>\n",
       "      <td>like new</td>\n",
       "      <td>6.0</td>\n",
       "      <td>gas</td>\n",
       "      <td>88136.0</td>\n",
       "      <td>automatic</td>\n",
       "      <td>sedan</td>\n",
       "      <td>black</td>\n",
       "      <td>NaN</td>\n",
       "      <td>2018-10-03</td>\n",
       "      <td>37</td>\n",
       "    </tr>\n",
       "    <tr>\n",
       "      <th>51521</th>\n",
       "      <td>2700</td>\n",
       "      <td>2002.0</td>\n",
       "      <td>honda civic</td>\n",
       "      <td>salvage</td>\n",
       "      <td>4.0</td>\n",
       "      <td>gas</td>\n",
       "      <td>181500.0</td>\n",
       "      <td>automatic</td>\n",
       "      <td>sedan</td>\n",
       "      <td>white</td>\n",
       "      <td>NaN</td>\n",
       "      <td>2018-11-14</td>\n",
       "      <td>22</td>\n",
       "    </tr>\n",
       "    <tr>\n",
       "      <th>51522</th>\n",
       "      <td>3950</td>\n",
       "      <td>2009.0</td>\n",
       "      <td>hyundai sonata</td>\n",
       "      <td>excellent</td>\n",
       "      <td>4.0</td>\n",
       "      <td>gas</td>\n",
       "      <td>128000.0</td>\n",
       "      <td>automatic</td>\n",
       "      <td>sedan</td>\n",
       "      <td>blue</td>\n",
       "      <td>NaN</td>\n",
       "      <td>2018-11-15</td>\n",
       "      <td>32</td>\n",
       "    </tr>\n",
       "    <tr>\n",
       "      <th>51523</th>\n",
       "      <td>7455</td>\n",
       "      <td>2013.0</td>\n",
       "      <td>toyota corolla</td>\n",
       "      <td>good</td>\n",
       "      <td>4.0</td>\n",
       "      <td>gas</td>\n",
       "      <td>139573.0</td>\n",
       "      <td>automatic</td>\n",
       "      <td>sedan</td>\n",
       "      <td>black</td>\n",
       "      <td>NaN</td>\n",
       "      <td>2018-07-02</td>\n",
       "      <td>71</td>\n",
       "    </tr>\n",
       "    <tr>\n",
       "      <th>51524</th>\n",
       "      <td>6300</td>\n",
       "      <td>2014.0</td>\n",
       "      <td>nissan altima</td>\n",
       "      <td>good</td>\n",
       "      <td>4.0</td>\n",
       "      <td>gas</td>\n",
       "      <td>NaN</td>\n",
       "      <td>automatic</td>\n",
       "      <td>sedan</td>\n",
       "      <td>NaN</td>\n",
       "      <td>NaN</td>\n",
       "      <td>2018-06-05</td>\n",
       "      <td>10</td>\n",
       "    </tr>\n",
       "  </tbody>\n",
       "</table>\n",
       "</div>"
      ],
      "text/plain": [
       "       price  model_year           model  condition  cylinders fuel  odometer  \\\n",
       "51520   9249      2013.0   nissan maxima   like new        6.0  gas   88136.0   \n",
       "51521   2700      2002.0     honda civic    salvage        4.0  gas  181500.0   \n",
       "51522   3950      2009.0  hyundai sonata  excellent        4.0  gas  128000.0   \n",
       "51523   7455      2013.0  toyota corolla       good        4.0  gas  139573.0   \n",
       "51524   6300      2014.0   nissan altima       good        4.0  gas       NaN   \n",
       "\n",
       "      transmission   type paint_color  is_4wd date_posted  days_listed  \n",
       "51520    automatic  sedan       black     NaN  2018-10-03           37  \n",
       "51521    automatic  sedan       white     NaN  2018-11-14           22  \n",
       "51522    automatic  sedan        blue     NaN  2018-11-15           32  \n",
       "51523    automatic  sedan       black     NaN  2018-07-02           71  \n",
       "51524    automatic  sedan         NaN     NaN  2018-06-05           10  "
      ]
     },
     "execution_count": 3,
     "metadata": {},
     "output_type": "execute_result"
    }
   ],
   "source": [
    "df.tail()"
   ]
  },
  {
   "cell_type": "markdown",
   "metadata": {},
   "source": [
    "### Conclusion\n",
    "- There are 51,525 rows.\n",
    "- Columns with missing values: <code>model_year</code>, <code>cylinders</code>, <code>odometer</code>, <code>paint_color</code>, <code>is_4wd</code>\n",
    "- Data type changes\n",
    "    - <code>model_year</code> &rarr; <code>int</code>\n",
    "    - <code>condition</code>  &rarr; <code>int</code>\n",
    "    - <code>cylinders</code> &rarr; <code>int</code>\n",
    "    - <code>is_4wd</code> &rarr; <code>boolean</code>\n",
    "    - <code>date_posted</code> &rarr; <code>datetime</code>"
   ]
  },
  {
   "cell_type": "markdown",
   "metadata": {},
   "source": [
    "## Data preprocessing"
   ]
  },
  {
   "cell_type": "markdown",
   "metadata": {},
   "source": [
    "### model_year & odometer\n",
    "There are 3,619 entries with a missing <code>model year</code>.  The represents about 7% of total entries.  There are 7,892 entries with a missing <code>odometer</code> reading, representing about 15% of total entries.\n",
    "\n",
    "The missing values probably resulted from the user failing to enter the the data when placing the ad.  The web form could be improved by refusing to accept ad submissions without these values.\n",
    "\n",
    "How can we replace the missing values?  It makes sense that older cars will have higher mileage.  If so, then we can replace missing <code>model_year</code>s with the median <code>model_year</code> for the car's <code>odometer</code> reading.  Similarly, we can replace missing <code>odometer</code> readings with the median for the car's <code>model_year</code>.  The median was chosen instead instead of the mean because, as will be shown in a later section, there are outliers in the distributions of these parameters.\n",
    "\n",
    "There are 549 entries that are missing _both_ <code>model_year</code> and <code>odometer</code>.  For these, we will replace the missing values with the overall averages.\n",
    "\n",
    "First, let's check the degree of correlation between these variables."
   ]
  },
  {
   "cell_type": "code",
   "execution_count": 4,
   "metadata": {},
   "outputs": [
    {
     "data": {
      "text/plain": [
       "-0.47394785819529395"
      ]
     },
     "execution_count": 4,
     "metadata": {},
     "output_type": "execute_result"
    }
   ],
   "source": [
    "df['model_year'].corr(df['odometer'])"
   ]
  },
  {
   "cell_type": "markdown",
   "metadata": {},
   "source": [
    "As expected, the values are negatively correlated:  higher (newer) <code>model_year</code>s have lower <code>odometer</code> readings.  The degree of correlation could probably be described as \"moderate.\"\n",
    "\n",
    "First, we will fill in missing values for the rows missing both <code>model_year</code> and <code>odometer</code> with the overal averages."
   ]
  },
  {
   "cell_type": "code",
   "execution_count": 5,
   "metadata": {},
   "outputs": [
    {
     "data": {
      "text/plain": [
       "549"
      ]
     },
     "execution_count": 5,
     "metadata": {},
     "output_type": "execute_result"
    }
   ],
   "source": [
    "len(df[(df['model_year'].isnull()) & (df['odometer'].isnull())])"
   ]
  },
  {
   "cell_type": "code",
   "execution_count": 6,
   "metadata": {},
   "outputs": [],
   "source": [
    "df.loc[(df['model_year'].isnull()) & (df['odometer'].isnull()), 'model_year'] = df['model_year'].median(skipna=True)\n",
    "df.loc[(df['model_year'].isnull()) & (df['odometer'].isnull()), 'odometer'] = df['odometer'].median(skipna=True)"
   ]
  },
  {
   "cell_type": "code",
   "execution_count": 7,
   "metadata": {},
   "outputs": [
    {
     "data": {
      "text/plain": [
       "0"
      ]
     },
     "execution_count": 7,
     "metadata": {},
     "output_type": "execute_result"
    }
   ],
   "source": [
    "len(df[(df['model_year'].isnull()) & (df['odometer'].isnull())])"
   ]
  },
  {
   "cell_type": "markdown",
   "metadata": {},
   "source": [
    "With the \"doubly missing\" rows taken care of, we can proceed with filling in <code>odometer</code> readings based on the <code>model_year</code>, and vice versa."
   ]
  },
  {
   "cell_type": "code",
   "execution_count": 8,
   "metadata": {},
   "outputs": [
    {
     "data": {
      "text/plain": [
       "7892"
      ]
     },
     "execution_count": 8,
     "metadata": {},
     "output_type": "execute_result"
    }
   ],
   "source": [
    "df['odometer'].isnull().sum()"
   ]
  },
  {
   "cell_type": "code",
   "execution_count": 9,
   "metadata": {},
   "outputs": [
    {
     "data": {
      "text/plain": [
       "3070"
      ]
     },
     "execution_count": 9,
     "metadata": {},
     "output_type": "execute_result"
    }
   ],
   "source": [
    "df['model_year'].isnull().sum()"
   ]
  },
  {
   "cell_type": "code",
   "execution_count": 10,
   "metadata": {},
   "outputs": [],
   "source": [
    "# Fill in missing odometer readings based on the model year\n",
    "model_year_groups = pd.qcut(df['model_year'], 10)\n",
    "odo_lookup = df.groupby(model_year_groups)['odometer'].apply(lambda x: x.median())\n",
    "df.loc[df['odometer'].isnull(), 'odometer'] = df[df['odometer'].isnull()].apply(lambda x: odo_lookup.loc[x['model_year']], axis=1)\n",
    "\n",
    "# Fill in missing model years based on the odometer\n",
    "odo_groups = pd.qcut(df['odometer'], 10)\n",
    "model_year_lookup = df.groupby(odo_groups)['model_year'].apply(lambda x: x.median())\n",
    "df.loc[df['model_year'].isnull(), 'model_year'] = df[df['model_year'].isnull()].apply(lambda x: model_year_lookup.loc[x['odometer']], axis=1)"
   ]
  },
  {
   "cell_type": "code",
   "execution_count": 11,
   "metadata": {},
   "outputs": [
    {
     "data": {
      "text/plain": [
       "0"
      ]
     },
     "execution_count": 11,
     "metadata": {},
     "output_type": "execute_result"
    }
   ],
   "source": [
    "df['odometer'].isnull().sum()"
   ]
  },
  {
   "cell_type": "code",
   "execution_count": 12,
   "metadata": {},
   "outputs": [
    {
     "data": {
      "text/plain": [
       "0"
      ]
     },
     "execution_count": 12,
     "metadata": {},
     "output_type": "execute_result"
    }
   ],
   "source": [
    "df['model_year'].isnull().sum()"
   ]
  },
  {
   "cell_type": "markdown",
   "metadata": {},
   "source": [
    "There are no fractional <code>model_years</code>, so we will change the type of this column to <code>int</code>:"
   ]
  },
  {
   "cell_type": "code",
   "execution_count": 13,
   "metadata": {},
   "outputs": [
    {
     "data": {
      "text/html": [
       "<div>\n",
       "<style scoped>\n",
       "    .dataframe tbody tr th:only-of-type {\n",
       "        vertical-align: middle;\n",
       "    }\n",
       "\n",
       "    .dataframe tbody tr th {\n",
       "        vertical-align: top;\n",
       "    }\n",
       "\n",
       "    .dataframe thead th {\n",
       "        text-align: right;\n",
       "    }\n",
       "</style>\n",
       "<table border=\"1\" class=\"dataframe\">\n",
       "  <thead>\n",
       "    <tr style=\"text-align: right;\">\n",
       "      <th></th>\n",
       "      <th>price</th>\n",
       "      <th>model_year</th>\n",
       "      <th>model</th>\n",
       "      <th>condition</th>\n",
       "      <th>cylinders</th>\n",
       "      <th>fuel</th>\n",
       "      <th>odometer</th>\n",
       "      <th>transmission</th>\n",
       "      <th>type</th>\n",
       "      <th>paint_color</th>\n",
       "      <th>is_4wd</th>\n",
       "      <th>date_posted</th>\n",
       "      <th>days_listed</th>\n",
       "    </tr>\n",
       "  </thead>\n",
       "  <tbody>\n",
       "    <tr>\n",
       "      <th>0</th>\n",
       "      <td>9400</td>\n",
       "      <td>2011</td>\n",
       "      <td>bmw x5</td>\n",
       "      <td>good</td>\n",
       "      <td>6.0</td>\n",
       "      <td>gas</td>\n",
       "      <td>145000.0</td>\n",
       "      <td>automatic</td>\n",
       "      <td>SUV</td>\n",
       "      <td>NaN</td>\n",
       "      <td>1.0</td>\n",
       "      <td>2018-06-23</td>\n",
       "      <td>19</td>\n",
       "    </tr>\n",
       "    <tr>\n",
       "      <th>1</th>\n",
       "      <td>25500</td>\n",
       "      <td>2013</td>\n",
       "      <td>ford f-150</td>\n",
       "      <td>good</td>\n",
       "      <td>6.0</td>\n",
       "      <td>gas</td>\n",
       "      <td>88705.0</td>\n",
       "      <td>automatic</td>\n",
       "      <td>pickup</td>\n",
       "      <td>white</td>\n",
       "      <td>1.0</td>\n",
       "      <td>2018-10-19</td>\n",
       "      <td>50</td>\n",
       "    </tr>\n",
       "    <tr>\n",
       "      <th>2</th>\n",
       "      <td>5500</td>\n",
       "      <td>2013</td>\n",
       "      <td>hyundai sonata</td>\n",
       "      <td>like new</td>\n",
       "      <td>4.0</td>\n",
       "      <td>gas</td>\n",
       "      <td>110000.0</td>\n",
       "      <td>automatic</td>\n",
       "      <td>sedan</td>\n",
       "      <td>red</td>\n",
       "      <td>NaN</td>\n",
       "      <td>2019-02-07</td>\n",
       "      <td>79</td>\n",
       "    </tr>\n",
       "    <tr>\n",
       "      <th>3</th>\n",
       "      <td>1500</td>\n",
       "      <td>2003</td>\n",
       "      <td>ford f-150</td>\n",
       "      <td>fair</td>\n",
       "      <td>8.0</td>\n",
       "      <td>gas</td>\n",
       "      <td>156440.0</td>\n",
       "      <td>automatic</td>\n",
       "      <td>pickup</td>\n",
       "      <td>NaN</td>\n",
       "      <td>NaN</td>\n",
       "      <td>2019-03-22</td>\n",
       "      <td>9</td>\n",
       "    </tr>\n",
       "    <tr>\n",
       "      <th>4</th>\n",
       "      <td>14900</td>\n",
       "      <td>2017</td>\n",
       "      <td>chrysler 200</td>\n",
       "      <td>excellent</td>\n",
       "      <td>4.0</td>\n",
       "      <td>gas</td>\n",
       "      <td>80903.0</td>\n",
       "      <td>automatic</td>\n",
       "      <td>sedan</td>\n",
       "      <td>black</td>\n",
       "      <td>NaN</td>\n",
       "      <td>2019-04-02</td>\n",
       "      <td>28</td>\n",
       "    </tr>\n",
       "  </tbody>\n",
       "</table>\n",
       "</div>"
      ],
      "text/plain": [
       "   price  model_year           model  condition  cylinders fuel  odometer  \\\n",
       "0   9400        2011          bmw x5       good        6.0  gas  145000.0   \n",
       "1  25500        2013      ford f-150       good        6.0  gas   88705.0   \n",
       "2   5500        2013  hyundai sonata   like new        4.0  gas  110000.0   \n",
       "3   1500        2003      ford f-150       fair        8.0  gas  156440.0   \n",
       "4  14900        2017    chrysler 200  excellent        4.0  gas   80903.0   \n",
       "\n",
       "  transmission    type paint_color  is_4wd date_posted  days_listed  \n",
       "0    automatic     SUV         NaN     1.0  2018-06-23           19  \n",
       "1    automatic  pickup       white     1.0  2018-10-19           50  \n",
       "2    automatic   sedan         red     NaN  2019-02-07           79  \n",
       "3    automatic  pickup         NaN     NaN  2019-03-22            9  \n",
       "4    automatic   sedan       black     NaN  2019-04-02           28  "
      ]
     },
     "execution_count": 13,
     "metadata": {},
     "output_type": "execute_result"
    }
   ],
   "source": [
    "df['model_year'] = df['model_year'].astype('int')\n",
    "df.head()"
   ]
  },
  {
   "cell_type": "markdown",
   "metadata": {},
   "source": [
    "### type\n",
    "There are no missing values for the <code>type</code> column, but there are redundancies.  In particular, <code>truck</code> and <code>pickup</code> refer to the same <code>model</code>s.  We will combine these types into a single <code>type</code>. Similarly, we will roll <code>offroad</code> into the <code>SUV</code> type.  There are redundancies in several other categories as well (e.g., <code>other</code>), but because the counts are small and there is no clear, single replacement type, we will leave them as-is."
   ]
  },
  {
   "cell_type": "code",
   "execution_count": 14,
   "metadata": {},
   "outputs": [
    {
     "data": {
      "text/plain": [
       "truck          19341\n",
       "SUV            12619\n",
       "sedan          12154\n",
       "coupe           2303\n",
       "wagon           1541\n",
       "mini-van        1161\n",
       "hatchback       1047\n",
       "van              633\n",
       "convertible      446\n",
       "other            256\n",
       "bus               24\n",
       "Name: type, dtype: int64"
      ]
     },
     "execution_count": 14,
     "metadata": {},
     "output_type": "execute_result"
    }
   ],
   "source": [
    "df.loc[df['type'] == 'pickup', 'type'] = 'truck'\n",
    "df.loc[df['type'] == 'offroad', 'type'] = 'SUV'\n",
    "df['type'].value_counts()"
   ]
  },
  {
   "cell_type": "markdown",
   "metadata": {},
   "source": [
    "### cylinders\n",
    "<code>cylinders</code> is missing for 5,260 entries, representing about 10% of the total.  Is there another variable in the data that can help us fill in missing <code>cylinder</code> values?  Larger vehicles, like trucks and SUVs, tend to have more cylinders; smaller vehicles have fewer.  We can check this by finding the most common number of cylinders by vehicle type."
   ]
  },
  {
   "cell_type": "code",
   "execution_count": 15,
   "metadata": {},
   "outputs": [
    {
     "data": {
      "text/plain": [
       "type\n",
       "SUV             6.0\n",
       "bus            10.0\n",
       "convertible     8.0\n",
       "coupe           6.0\n",
       "hatchback       4.0\n",
       "mini-van        6.0\n",
       "other           6.0\n",
       "sedan           4.0\n",
       "truck           8.0\n",
       "van             6.0\n",
       "wagon           4.0\n",
       "Name: cylinders, dtype: float64"
      ]
     },
     "execution_count": 15,
     "metadata": {},
     "output_type": "execute_result"
    }
   ],
   "source": [
    "df.groupby('type')['cylinders'].agg('median')"
   ]
  },
  {
   "cell_type": "markdown",
   "metadata": {},
   "source": [
    "This confirms our intuition regarding the relationship between vehicle <code>type</code> and number of <code>cylinder</code>s.  We will fill in missing <code>cylinder</code> values with the median number of cylinders for that vehicle <code>type</code>.\n",
    "\n",
    "We will also convert to <code>int</code>, as there are no fractional cylinder values."
   ]
  },
  {
   "cell_type": "code",
   "execution_count": 16,
   "metadata": {},
   "outputs": [
    {
     "data": {
      "text/plain": [
       "8     17859\n",
       "6     17391\n",
       "4     15414\n",
       "10      553\n",
       "5       272\n",
       "3        34\n",
       "12        2\n",
       "Name: cylinders, dtype: int64"
      ]
     },
     "execution_count": 16,
     "metadata": {},
     "output_type": "execute_result"
    }
   ],
   "source": [
    "df['cylinders'] = df.groupby('type')['cylinders'].apply(lambda x: x.fillna(x.median()))\n",
    "df['cylinders'] = df['cylinders'].astype('int')\n",
    "df['cylinders'].value_counts(dropna=False)"
   ]
  },
  {
   "cell_type": "markdown",
   "metadata": {},
   "source": [
    "### paint_color\n",
    "There are 9,267 missing values for <code>paint_color</code>.  Most of these are probably while, black or silver &mdash; the most common colors &mdash; but because color isn't clearly tied to another feature of the vehicle, we don't have a logical way to \"guess\" the missing values.  Instead, we will set a default value of 'unavailable'."
   ]
  },
  {
   "cell_type": "code",
   "execution_count": 17,
   "metadata": {},
   "outputs": [
    {
     "data": {
      "text/plain": [
       "white          10029\n",
       "unavailable     9267\n",
       "black           7692\n",
       "silver          6244\n",
       "grey            5037\n",
       "blue            4475\n",
       "red             4421\n",
       "green           1396\n",
       "brown           1223\n",
       "custom          1153\n",
       "yellow           255\n",
       "orange           231\n",
       "purple           102\n",
       "Name: paint_color, dtype: int64"
      ]
     },
     "execution_count": 17,
     "metadata": {},
     "output_type": "execute_result"
    }
   ],
   "source": [
    "df['paint_color'] = df['paint_color'].fillna('unavailable')\n",
    "df['paint_color'].value_counts(dropna=False)"
   ]
  },
  {
   "cell_type": "markdown",
   "metadata": {},
   "source": [
    "### is_4wd\n",
    "The column name implies a <code>boolean</code> value.  Instead, we have 1.0 representing <code>True</code> and <code>NaN</code> representing <code>False</code>.  We will change this to boolean."
   ]
  },
  {
   "cell_type": "code",
   "execution_count": 18,
   "metadata": {},
   "outputs": [],
   "source": [
    "df['is_4wd'] = df['is_4wd'].apply(lambda x: True if x == 1.0 else False)"
   ]
  },
  {
   "cell_type": "markdown",
   "metadata": {},
   "source": [
    "### condition\n",
    "We will replace the string values with a numeric scale."
   ]
  },
  {
   "cell_type": "code",
   "execution_count": 19,
   "metadata": {},
   "outputs": [
    {
     "data": {
      "text/html": [
       "<div>\n",
       "<style scoped>\n",
       "    .dataframe tbody tr th:only-of-type {\n",
       "        vertical-align: middle;\n",
       "    }\n",
       "\n",
       "    .dataframe tbody tr th {\n",
       "        vertical-align: top;\n",
       "    }\n",
       "\n",
       "    .dataframe thead th {\n",
       "        text-align: right;\n",
       "    }\n",
       "</style>\n",
       "<table border=\"1\" class=\"dataframe\">\n",
       "  <thead>\n",
       "    <tr style=\"text-align: right;\">\n",
       "      <th></th>\n",
       "      <th>price</th>\n",
       "      <th>model_year</th>\n",
       "      <th>model</th>\n",
       "      <th>condition</th>\n",
       "      <th>cylinders</th>\n",
       "      <th>fuel</th>\n",
       "      <th>odometer</th>\n",
       "      <th>transmission</th>\n",
       "      <th>type</th>\n",
       "      <th>paint_color</th>\n",
       "      <th>is_4wd</th>\n",
       "      <th>date_posted</th>\n",
       "      <th>days_listed</th>\n",
       "    </tr>\n",
       "  </thead>\n",
       "  <tbody>\n",
       "    <tr>\n",
       "      <th>0</th>\n",
       "      <td>9400</td>\n",
       "      <td>2011</td>\n",
       "      <td>bmw x5</td>\n",
       "      <td>2</td>\n",
       "      <td>6</td>\n",
       "      <td>gas</td>\n",
       "      <td>145000.0</td>\n",
       "      <td>automatic</td>\n",
       "      <td>SUV</td>\n",
       "      <td>unavailable</td>\n",
       "      <td>True</td>\n",
       "      <td>2018-06-23</td>\n",
       "      <td>19</td>\n",
       "    </tr>\n",
       "    <tr>\n",
       "      <th>1</th>\n",
       "      <td>25500</td>\n",
       "      <td>2013</td>\n",
       "      <td>ford f-150</td>\n",
       "      <td>2</td>\n",
       "      <td>6</td>\n",
       "      <td>gas</td>\n",
       "      <td>88705.0</td>\n",
       "      <td>automatic</td>\n",
       "      <td>truck</td>\n",
       "      <td>white</td>\n",
       "      <td>True</td>\n",
       "      <td>2018-10-19</td>\n",
       "      <td>50</td>\n",
       "    </tr>\n",
       "    <tr>\n",
       "      <th>2</th>\n",
       "      <td>5500</td>\n",
       "      <td>2013</td>\n",
       "      <td>hyundai sonata</td>\n",
       "      <td>4</td>\n",
       "      <td>4</td>\n",
       "      <td>gas</td>\n",
       "      <td>110000.0</td>\n",
       "      <td>automatic</td>\n",
       "      <td>sedan</td>\n",
       "      <td>red</td>\n",
       "      <td>False</td>\n",
       "      <td>2019-02-07</td>\n",
       "      <td>79</td>\n",
       "    </tr>\n",
       "    <tr>\n",
       "      <th>3</th>\n",
       "      <td>1500</td>\n",
       "      <td>2003</td>\n",
       "      <td>ford f-150</td>\n",
       "      <td>1</td>\n",
       "      <td>8</td>\n",
       "      <td>gas</td>\n",
       "      <td>156440.0</td>\n",
       "      <td>automatic</td>\n",
       "      <td>truck</td>\n",
       "      <td>unavailable</td>\n",
       "      <td>False</td>\n",
       "      <td>2019-03-22</td>\n",
       "      <td>9</td>\n",
       "    </tr>\n",
       "    <tr>\n",
       "      <th>4</th>\n",
       "      <td>14900</td>\n",
       "      <td>2017</td>\n",
       "      <td>chrysler 200</td>\n",
       "      <td>3</td>\n",
       "      <td>4</td>\n",
       "      <td>gas</td>\n",
       "      <td>80903.0</td>\n",
       "      <td>automatic</td>\n",
       "      <td>sedan</td>\n",
       "      <td>black</td>\n",
       "      <td>False</td>\n",
       "      <td>2019-04-02</td>\n",
       "      <td>28</td>\n",
       "    </tr>\n",
       "  </tbody>\n",
       "</table>\n",
       "</div>"
      ],
      "text/plain": [
       "   price  model_year           model  condition  cylinders fuel  odometer  \\\n",
       "0   9400        2011          bmw x5          2          6  gas  145000.0   \n",
       "1  25500        2013      ford f-150          2          6  gas   88705.0   \n",
       "2   5500        2013  hyundai sonata          4          4  gas  110000.0   \n",
       "3   1500        2003      ford f-150          1          8  gas  156440.0   \n",
       "4  14900        2017    chrysler 200          3          4  gas   80903.0   \n",
       "\n",
       "  transmission   type  paint_color  is_4wd date_posted  days_listed  \n",
       "0    automatic    SUV  unavailable    True  2018-06-23           19  \n",
       "1    automatic  truck        white    True  2018-10-19           50  \n",
       "2    automatic  sedan          red   False  2019-02-07           79  \n",
       "3    automatic  truck  unavailable   False  2019-03-22            9  \n",
       "4    automatic  sedan        black   False  2019-04-02           28  "
      ]
     },
     "execution_count": 19,
     "metadata": {},
     "output_type": "execute_result"
    }
   ],
   "source": [
    "def replace_condition(c):\n",
    "    if c == 'new':\n",
    "        return 5\n",
    "    if c == 'like new':\n",
    "        return 4\n",
    "    if c == 'excellent':\n",
    "        return 3\n",
    "    if c == 'good':\n",
    "        return 2\n",
    "    if c == 'fair':\n",
    "        return 1\n",
    "    if c == 'salvage':\n",
    "        return 0\n",
    "    print('Error: ' + c)\n",
    "\n",
    "df['condition'] = df['condition'].apply(replace_condition)\n",
    "df.head()"
   ]
  },
  {
   "cell_type": "markdown",
   "metadata": {},
   "source": [
    "### date_posted\n",
    "We will convert this from <code>str</code> to <code>datetime</code>."
   ]
  },
  {
   "cell_type": "code",
   "execution_count": 20,
   "metadata": {},
   "outputs": [
    {
     "name": "stdout",
     "output_type": "stream",
     "text": [
      "<class 'pandas.core.frame.DataFrame'>\n",
      "RangeIndex: 51525 entries, 0 to 51524\n",
      "Data columns (total 13 columns):\n",
      " #   Column        Non-Null Count  Dtype         \n",
      "---  ------        --------------  -----         \n",
      " 0   price         51525 non-null  int64         \n",
      " 1   model_year    51525 non-null  int64         \n",
      " 2   model         51525 non-null  object        \n",
      " 3   condition     51525 non-null  int64         \n",
      " 4   cylinders     51525 non-null  int64         \n",
      " 5   fuel          51525 non-null  object        \n",
      " 6   odometer      51525 non-null  float64       \n",
      " 7   transmission  51525 non-null  object        \n",
      " 8   type          51525 non-null  object        \n",
      " 9   paint_color   51525 non-null  object        \n",
      " 10  is_4wd        51525 non-null  bool          \n",
      " 11  date_posted   51525 non-null  datetime64[ns]\n",
      " 12  days_listed   51525 non-null  int64         \n",
      "dtypes: bool(1), datetime64[ns](1), float64(1), int64(5), object(5)\n",
      "memory usage: 4.8+ MB\n"
     ]
    }
   ],
   "source": [
    "df['date_posted'] = pd.to_datetime(df['date_posted'], format='%Y-%m-%d')\n",
    "df.info()"
   ]
  },
  {
   "cell_type": "markdown",
   "metadata": {},
   "source": [
    "### Conclusion\n",
    "- Missing values have been replaced for <code>model_year</code>, <code>cylinders</code>, <code>odometer</code>, <code>paint_color</code>, <code>is_4wd</code>.  Where possible, defaults values based on other characteristics of the vehicle were used.\n",
    "- We changed from <code>float</code> to <code>int</code> for the <code>model_year</code> and <code>cylidners</code>, since these columns have no fractional data.\n",
    "- We changed <code>is_4wd</code> to <code>boolean</code>.\n",
    "- We changed <code>date_posted</code> to <code>datetime</code>."
   ]
  },
  {
   "cell_type": "markdown",
   "metadata": {},
   "source": [
    "## Make calculations and add them to the table"
   ]
  },
  {
   "cell_type": "markdown",
   "metadata": {},
   "source": [
    "### Day of the week, month, and year the ad was placed"
   ]
  },
  {
   "cell_type": "code",
   "execution_count": 21,
   "metadata": {},
   "outputs": [],
   "source": [
    "df['weekday_posted'] = df['date_posted'].dt.weekday\n",
    "df['month_posted'] = df['date_posted'].dt.month\n",
    "df['year_posted'] = df['date_posted'].dt.year"
   ]
  },
  {
   "cell_type": "markdown",
   "metadata": {},
   "source": [
    "### Age (in years) when the ad was placed\n",
    "We add 1 to the <code>age</code>.  We are, in effect, rounding the <code>age</code> up rather than rounding it down.  This avoids division by zero when calculating <code>miles_per_year</code>."
   ]
  },
  {
   "cell_type": "code",
   "execution_count": 22,
   "metadata": {},
   "outputs": [],
   "source": [
    "df['age'] = df['year_posted'] - df['model_year'] + 1"
   ]
  },
  {
   "cell_type": "markdown",
   "metadata": {},
   "source": [
    "### Average mileage per year"
   ]
  },
  {
   "cell_type": "code",
   "execution_count": 23,
   "metadata": {},
   "outputs": [],
   "source": [
    "df['miles_per_year'] = df['odometer'] / df['age']\n",
    "df['miles_per_year'] = df['miles_per_year'].round(0)"
   ]
  },
  {
   "cell_type": "markdown",
   "metadata": {},
   "source": [
    "### Conclusion\n",
    "In this section, we added several columns to the data:\n",
    "- From <code>date_posted</code>, we derived the additional columns  <code>weekday_posted</code>, <code>month_posted</code>, and <code>year_posted</code>\n",
    "- From <code>year_posted</code> and <code>model_year</code>, we derived <code>age</code>.\n",
    "- From <code>odometer</code> and <code>age</code>, we derived <code>miles_per_year</code>."
   ]
  },
  {
   "cell_type": "markdown",
   "metadata": {},
   "source": [
    "## Exploratory data analysis"
   ]
  },
  {
   "cell_type": "markdown",
   "metadata": {},
   "source": [
    "### Histograms for selected parameters"
   ]
  },
  {
   "cell_type": "markdown",
   "metadata": {},
   "source": [
    "#### model_year"
   ]
  },
  {
   "cell_type": "code",
   "execution_count": 24,
   "metadata": {},
   "outputs": [
    {
     "data": {
      "image/png": "[encoded data removed]",
      "text/plain": [
       "<Figure size 576x432 with 1 Axes>"
      ]
     },
     "metadata": {
      "needs_background": "light"
     },
     "output_type": "display_data"
    }
   ],
   "source": [
    "plt.figure(figsize=(8,6))\n",
    "plt.hist(df['model_year'], bins=20)\n",
    "plt.title('Number of Ads by Model Year')\n",
    "plt.xlabel('Model year')\n",
    "plt.ylabel('Number of ads')\n",
    "plt.grid()\n",
    "plt.show()"
   ]
  },
  {
   "cell_type": "markdown",
   "metadata": {},
   "source": [
    "Most of the ads are for <code>model_year</code>s after 2000, but there are outliers going as far back as 1908."
   ]
  },
  {
   "cell_type": "markdown",
   "metadata": {},
   "source": [
    "#### odometer"
   ]
  },
  {
   "cell_type": "code",
   "execution_count": 25,
   "metadata": {},
   "outputs": [
    {
     "data": {
      "image/png": "[encoded data removed]",
      "text/plain": [
       "<Figure size 576x432 with 1 Axes>"
      ]
     },
     "metadata": {
      "needs_background": "light"
     },
     "output_type": "display_data"
    }
   ],
   "source": [
    "plt.figure(figsize=(8,6))\n",
    "plt.hist(df['odometer'], bins=20)\n",
    "plt.title('Number of Ads by Odometer')\n",
    "plt.xlabel('Odometer')\n",
    "plt.ylabel('Number of ads')\n",
    "plt.grid()\n",
    "plt.show()"
   ]
  },
  {
   "cell_type": "markdown",
   "metadata": {},
   "source": [
    "The histogram shows that most vehicles have less than 200,000 miles, but there are high outliers with almost a million miles.  (The maximum value is 990,000 miles.)  There is also an unexpected peak near zero miles."
   ]
  },
  {
   "cell_type": "markdown",
   "metadata": {},
   "source": [
    "Let's \"zoom in\" on the vehicles with low odometer readings."
   ]
  },
  {
   "cell_type": "code",
   "execution_count": 26,
   "metadata": {},
   "outputs": [
    {
     "data": {
      "image/png": "[encoded data removed]",
      "text/plain": [
       "<Figure size 576x432 with 1 Axes>"
      ]
     },
     "metadata": {
      "needs_background": "light"
     },
     "output_type": "display_data"
    }
   ],
   "source": [
    "plt.figure(figsize=(8,6))\n",
    "plt.hist(df.query('odometer < 500')['odometer'], bins=20)\n",
    "plt.title('Number of Ads for Low-Odometer Listings (<500 miles)')\n",
    "plt.xlabel('Odometer')\n",
    "plt.ylabel('Number of ads')\n",
    "plt.grid()\n",
    "plt.show()"
   ]
  },
  {
   "cell_type": "markdown",
   "metadata": {},
   "source": [
    "This histogram, which focuses on low <code>odometer</code> readings, shows not just the peak at zero but also a surprisingly large number of vehicles with less than 300 miles.  Let's inspect these in greater detail."
   ]
  },
  {
   "cell_type": "code",
   "execution_count": 27,
   "metadata": {},
   "outputs": [
    {
     "data": {
      "text/html": [
       "<div>\n",
       "<style scoped>\n",
       "    .dataframe tbody tr th:only-of-type {\n",
       "        vertical-align: middle;\n",
       "    }\n",
       "\n",
       "    .dataframe tbody tr th {\n",
       "        vertical-align: top;\n",
       "    }\n",
       "\n",
       "    .dataframe thead th {\n",
       "        text-align: right;\n",
       "    }\n",
       "</style>\n",
       "<table border=\"1\" class=\"dataframe\">\n",
       "  <thead>\n",
       "    <tr style=\"text-align: right;\">\n",
       "      <th></th>\n",
       "      <th>price</th>\n",
       "      <th>model_year</th>\n",
       "      <th>model</th>\n",
       "      <th>condition</th>\n",
       "      <th>cylinders</th>\n",
       "      <th>fuel</th>\n",
       "      <th>odometer</th>\n",
       "      <th>transmission</th>\n",
       "      <th>type</th>\n",
       "      <th>paint_color</th>\n",
       "      <th>is_4wd</th>\n",
       "      <th>date_posted</th>\n",
       "      <th>days_listed</th>\n",
       "      <th>weekday_posted</th>\n",
       "      <th>month_posted</th>\n",
       "      <th>year_posted</th>\n",
       "      <th>age</th>\n",
       "      <th>miles_per_year</th>\n",
       "    </tr>\n",
       "  </thead>\n",
       "  <tbody>\n",
       "    <tr>\n",
       "      <th>73</th>\n",
       "      <td>1900</td>\n",
       "      <td>1994</td>\n",
       "      <td>jeep grand cherokee laredo</td>\n",
       "      <td>2</td>\n",
       "      <td>6</td>\n",
       "      <td>gas</td>\n",
       "      <td>207.0</td>\n",
       "      <td>automatic</td>\n",
       "      <td>SUV</td>\n",
       "      <td>grey</td>\n",
       "      <td>True</td>\n",
       "      <td>2018-07-27</td>\n",
       "      <td>9</td>\n",
       "      <td>4</td>\n",
       "      <td>7</td>\n",
       "      <td>2018</td>\n",
       "      <td>25</td>\n",
       "      <td>8.0</td>\n",
       "    </tr>\n",
       "    <tr>\n",
       "      <th>222</th>\n",
       "      <td>2750</td>\n",
       "      <td>2006</td>\n",
       "      <td>honda civic lx</td>\n",
       "      <td>2</td>\n",
       "      <td>4</td>\n",
       "      <td>gas</td>\n",
       "      <td>200.0</td>\n",
       "      <td>manual</td>\n",
       "      <td>sedan</td>\n",
       "      <td>black</td>\n",
       "      <td>False</td>\n",
       "      <td>2018-07-06</td>\n",
       "      <td>41</td>\n",
       "      <td>4</td>\n",
       "      <td>7</td>\n",
       "      <td>2018</td>\n",
       "      <td>13</td>\n",
       "      <td>15.0</td>\n",
       "    </tr>\n",
       "    <tr>\n",
       "      <th>352</th>\n",
       "      <td>7997</td>\n",
       "      <td>2009</td>\n",
       "      <td>gmc yukon</td>\n",
       "      <td>3</td>\n",
       "      <td>8</td>\n",
       "      <td>gas</td>\n",
       "      <td>0.0</td>\n",
       "      <td>automatic</td>\n",
       "      <td>SUV</td>\n",
       "      <td>white</td>\n",
       "      <td>True</td>\n",
       "      <td>2019-03-16</td>\n",
       "      <td>88</td>\n",
       "      <td>5</td>\n",
       "      <td>3</td>\n",
       "      <td>2019</td>\n",
       "      <td>11</td>\n",
       "      <td>0.0</td>\n",
       "    </tr>\n",
       "    <tr>\n",
       "      <th>501</th>\n",
       "      <td>6300</td>\n",
       "      <td>2003</td>\n",
       "      <td>toyota rav4</td>\n",
       "      <td>3</td>\n",
       "      <td>4</td>\n",
       "      <td>gas</td>\n",
       "      <td>107.0</td>\n",
       "      <td>automatic</td>\n",
       "      <td>SUV</td>\n",
       "      <td>red</td>\n",
       "      <td>True</td>\n",
       "      <td>2018-09-16</td>\n",
       "      <td>24</td>\n",
       "      <td>6</td>\n",
       "      <td>9</td>\n",
       "      <td>2018</td>\n",
       "      <td>16</td>\n",
       "      <td>7.0</td>\n",
       "    </tr>\n",
       "    <tr>\n",
       "      <th>510</th>\n",
       "      <td>3900</td>\n",
       "      <td>2008</td>\n",
       "      <td>ford escape</td>\n",
       "      <td>2</td>\n",
       "      <td>4</td>\n",
       "      <td>gas</td>\n",
       "      <td>137.0</td>\n",
       "      <td>automatic</td>\n",
       "      <td>SUV</td>\n",
       "      <td>unavailable</td>\n",
       "      <td>False</td>\n",
       "      <td>2018-08-02</td>\n",
       "      <td>59</td>\n",
       "      <td>3</td>\n",
       "      <td>8</td>\n",
       "      <td>2018</td>\n",
       "      <td>11</td>\n",
       "      <td>12.0</td>\n",
       "    </tr>\n",
       "  </tbody>\n",
       "</table>\n",
       "</div>"
      ],
      "text/plain": [
       "     price  model_year                       model  condition  cylinders fuel  \\\n",
       "73    1900        1994  jeep grand cherokee laredo          2          6  gas   \n",
       "222   2750        2006              honda civic lx          2          4  gas   \n",
       "352   7997        2009                   gmc yukon          3          8  gas   \n",
       "501   6300        2003                 toyota rav4          3          4  gas   \n",
       "510   3900        2008                 ford escape          2          4  gas   \n",
       "\n",
       "     odometer transmission   type  paint_color  is_4wd date_posted  \\\n",
       "73      207.0    automatic    SUV         grey    True  2018-07-27   \n",
       "222     200.0       manual  sedan        black   False  2018-07-06   \n",
       "352       0.0    automatic    SUV        white    True  2019-03-16   \n",
       "501     107.0    automatic    SUV          red    True  2018-09-16   \n",
       "510     137.0    automatic    SUV  unavailable   False  2018-08-02   \n",
       "\n",
       "     days_listed  weekday_posted  month_posted  year_posted  age  \\\n",
       "73             9               4             7         2018   25   \n",
       "222           41               4             7         2018   13   \n",
       "352           88               5             3         2019   11   \n",
       "501           24               6             9         2018   16   \n",
       "510           59               3             8         2018   11   \n",
       "\n",
       "     miles_per_year  \n",
       "73              8.0  \n",
       "222            15.0  \n",
       "352             0.0  \n",
       "501             7.0  \n",
       "510            12.0  "
      ]
     },
     "execution_count": 27,
     "metadata": {},
     "output_type": "execute_result"
    }
   ],
   "source": [
    "df.query('odometer < 400').head()"
   ]
  },
  {
   "cell_type": "markdown",
   "metadata": {},
   "source": [
    "Inspection of these listings reveals that these vehicles are fairly old, despite their low odometer readings.  Many of these would be more reasonable-looking if multiplied by 1,000."
   ]
  },
  {
   "cell_type": "markdown",
   "metadata": {},
   "source": [
    "#### cylinders"
   ]
  },
  {
   "cell_type": "code",
   "execution_count": 28,
   "metadata": {},
   "outputs": [
    {
     "data": {
      "image/png": "[encoded data removed]",
      "text/plain": [
       "<Figure size 576x432 with 1 Axes>"
      ]
     },
     "metadata": {
      "needs_background": "light"
     },
     "output_type": "display_data"
    }
   ],
   "source": [
    "cylinders = df['cylinders'].value_counts().index\n",
    "counts = df['cylinders'].value_counts().values\n",
    "plt.figure(figsize=(8,6))\n",
    "plt.bar(cylinders, height=counts)\n",
    "plt.title('Number of Ads by Cylinder Count')\n",
    "plt.xlabel('Cylinders')\n",
    "plt.ylabel('Number of ads')\n",
    "plt.grid()\n",
    "plt.show()"
   ]
  },
  {
   "cell_type": "markdown",
   "metadata": {},
   "source": [
    "The vast majority of vehicles have 4, 6, or 8 cylinders."
   ]
  },
  {
   "cell_type": "markdown",
   "metadata": {},
   "source": [
    "#### condition"
   ]
  },
  {
   "cell_type": "code",
   "execution_count": 29,
   "metadata": {},
   "outputs": [
    {
     "data": {
      "image/png": "[encoded data removed]",
      "text/plain": [
       "<Figure size 576x432 with 1 Axes>"
      ]
     },
     "metadata": {
      "needs_background": "light"
     },
     "output_type": "display_data"
    }
   ],
   "source": [
    "condition = df['condition'].value_counts().index\n",
    "counts = df['condition'].value_counts().values\n",
    "plt.figure(figsize=(8,6))\n",
    "plt.bar(condition, height=counts)\n",
    "plt.title('Number of Ads by Vehicle Condition')\n",
    "plt.xlabel('Condition')\n",
    "plt.ylabel('Number of ads')\n",
    "plt.grid()\n",
    "plt.show()"
   ]
  },
  {
   "cell_type": "markdown",
   "metadata": {},
   "source": [
    "- Most vehicles have a condition rated as 2 (\"good\") or 3 (\"excellent\").\n",
    "- A small number of vehicles are described as 1 (\"fair\") or 4 (\"like new\").\n",
    "- Almost no vehicles are rated as 0 (\"salvage\") or 5 (\"new\")."
   ]
  },
  {
   "cell_type": "markdown",
   "metadata": {},
   "source": [
    "#### days_listed"
   ]
  },
  {
   "cell_type": "code",
   "execution_count": 30,
   "metadata": {},
   "outputs": [
    {
     "data": {
      "image/png": "[encoded data removed]",
      "text/plain": [
       "<Figure size 576x432 with 1 Axes>"
      ]
     },
     "metadata": {
      "needs_background": "light"
     },
     "output_type": "display_data"
    }
   ],
   "source": [
    "plt.figure(figsize=(8,6))\n",
    "plt.hist(df['days_listed'], bins=20)\n",
    "plt.title('Number of Ads by Length of Listing')\n",
    "plt.xlabel('Days listed')\n",
    "plt.ylabel('Number of ads')\n",
    "plt.grid()\n",
    "plt.show()"
   ]
  },
  {
   "cell_type": "markdown",
   "metadata": {},
   "source": [
    "- Most ads are left up for about 30 days.\n",
    "- The distribution is skewed to the right by high outliers, with some ads left up for more than 100 days.\n",
    "- There is no huge peak at 0, as we saw above with <code>odometer</code>."
   ]
  },
  {
   "cell_type": "markdown",
   "metadata": {},
   "source": [
    "#### price"
   ]
  },
  {
   "cell_type": "code",
   "execution_count": 31,
   "metadata": {},
   "outputs": [
    {
     "data": {
      "image/png": "[encoded data removed]",
      "text/plain": [
       "<Figure size 576x432 with 1 Axes>"
      ]
     },
     "metadata": {
      "needs_background": "light"
     },
     "output_type": "display_data"
    },
    {
     "name": "stdout",
     "output_type": "stream",
     "text": [
      "Median price: $9000\n",
      "Max price: $375000\n"
     ]
    }
   ],
   "source": [
    "plt.figure(figsize=(8,6))\n",
    "plt.hist(df['price'], bins=40)\n",
    "plt.title('Number of Ads by Price')\n",
    "plt.xlabel('Price')\n",
    "plt.ylabel('Number of ads')\n",
    "plt.grid()\n",
    "plt.show()\n",
    "print('Median price: ${:.0f}'.format(df['price'].median()))\n",
    "print('Max price: ${}'.format(df['price'].max()))"
   ]
  },
  {
   "cell_type": "markdown",
   "metadata": {},
   "source": [
    "- The median price is \\\\$9,000.\n",
    "- There are some high outliers listed for as much as \\\\$375,000.\n",
    "- There appears to be a peak near zero.\n",
    "\n",
    "Let's zoom in on low-priced vehicles to examine the peak near zero."
   ]
  },
  {
   "cell_type": "code",
   "execution_count": 32,
   "metadata": {},
   "outputs": [
    {
     "data": {
      "image/png": "[encoded data removed]",
      "text/plain": [
       "<Figure size 576x432 with 1 Axes>"
      ]
     },
     "metadata": {
      "needs_background": "light"
     },
     "output_type": "display_data"
    }
   ],
   "source": [
    "plt.figure(figsize=(8,6))\n",
    "plt.hist(df.query('price < 100')['price'], bins=50)\n",
    "plt.title('Number of Ads for Low-Price Vehicles (Price <$100)')\n",
    "plt.xlabel('Price')\n",
    "plt.ylabel('Number of ads')\n",
    "plt.grid()\n",
    "plt.show()"
   ]
  },
  {
   "cell_type": "markdown",
   "metadata": {},
   "source": [
    "The histogram focusing on low-price vehicles shows a large peak just above \\\\$0.  Manual inspection of the data reveals that the anomalous price is \\\\$1.  In some jurisdictions, you can't give away a car for free; instead, you must sell the vehicle for \\\\$1 to be able to transfer the title to the buyer. These vehicles are not in 'salvage' condition, as one might expect."
   ]
  },
  {
   "cell_type": "markdown",
   "metadata": {},
   "source": [
    "### Identification of outliers"
   ]
  },
  {
   "cell_type": "markdown",
   "metadata": {},
   "source": [
    "#### model_year\n",
    "Defining a low outlier as <code>Q1 - 1.5 x IQR</code> and a high outlier as <code>Q3 + 1.5 x IQR</code>, we will discard <code>model_year</code>s before 1994 as low outliers.  (There are no high outliers for <code>model_year</code>.)"
   ]
  },
  {
   "cell_type": "code",
   "execution_count": 33,
   "metadata": {},
   "outputs": [
    {
     "name": "stdout",
     "output_type": "stream",
     "text": [
      "Discard models older than 1994 and newer than 2026.\n"
     ]
    }
   ],
   "source": [
    "def get_outliers(col):\n",
    "    Q1 = df[col].quantile(0.25)\n",
    "    Q3 = df[col].quantile(0.75)\n",
    "    IQR = Q3 - Q1\n",
    "    outlier_lower_bound = Q1 - 1.5 * IQR\n",
    "    outlier_upper_bound = Q3 + 1.5 * IQR\n",
    "    return outlier_lower_bound, outlier_upper_bound\n",
    "\n",
    "outlier_lower_bound, outlier_upper_bound = get_outliers('model_year')\n",
    "print('Discard models older than {:.0f} and newer than {:.0f}.'.format(outlier_lower_bound, outlier_upper_bound))\n",
    "min_model_year = outlier_lower_bound"
   ]
  },
  {
   "cell_type": "markdown",
   "metadata": {},
   "source": [
    "#### odometer\n",
    "In an earlier section, our histogram showed a large number of vehicles with suspicious <code>odometer</code> readings <300 miles.  Many had readings of 0 even though they were older vehicles, suggesting a missing value.  Others appeared to have readings that were too small by a factor of 1,000.  We will replace these anomalous values with the median based on the vehicle's <code>model_year</code>.  Then, based on the outlier formula, we will dischard odometer readings >270,206 miles.  (There are no low outliers.)"
   ]
  },
  {
   "cell_type": "code",
   "execution_count": 34,
   "metadata": {},
   "outputs": [
    {
     "name": "stdout",
     "output_type": "stream",
     "text": [
      "Discard vehicles with less than -39678 miles and and more than 270206.\n"
     ]
    }
   ],
   "source": [
    "odo_lookup = df.groupby('model_year')['odometer'].apply(lambda x: x.median())\n",
    "df.loc[df['odometer'] < 300, 'odometer'] = df[df['odometer'] < 300].apply(lambda x: odo_lookup.loc[x['model_year']], axis=1)\n",
    "\n",
    "outlier_lower_bound, outlier_upper_bound = get_outliers('odometer')\n",
    "print('Discard vehicles with less than {:.0f} miles and and more than {:.0f}.'.format(outlier_lower_bound, outlier_upper_bound))\n",
    "max_odometer = outlier_upper_bound"
   ]
  },
  {
   "cell_type": "markdown",
   "metadata": {},
   "source": [
    "#### cylinders\n",
    "Earlier, we found that the vast majority of vehicles have 4, 6, or 8 <code>cylinders</code>.  Manual inspection of the data for other cylinder counts (3, 5, 10, and 12) reveals a large proportion of \"bad data,\" such as\n",
    "- a ford f-150 with 3 cylinders\n",
    "- a toyota camry with 10 cylidners\n",
    "\n",
    "For these reasons, we will limit further analysis to vehicles with 4, 6, or 8 cylinders."
   ]
  },
  {
   "cell_type": "markdown",
   "metadata": {},
   "source": [
    "#### condition\n",
    "We found that there were almost no vehicles listed as condition 0 (salvage) or 5 (new).  We will focus further analysis on conditions 1-4."
   ]
  },
  {
   "cell_type": "markdown",
   "metadata": {},
   "source": [
    "#### days_listed\n",
    "We will discard outliers with days_listed > 104."
   ]
  },
  {
   "cell_type": "code",
   "execution_count": 35,
   "metadata": {},
   "outputs": [
    {
     "name": "stdout",
     "output_type": "stream",
     "text": [
      "Discard models with fewer than -32 and more 104 days_listed.\n"
     ]
    }
   ],
   "source": [
    "outlier_lower_bound, outlier_upper_bound = get_outliers('days_listed')\n",
    "print('Discard models with fewer than {:.0f} and more {:.0f} days_listed.'.format(outlier_lower_bound, outlier_upper_bound))\n",
    "max_days_listed = outlier_upper_bound"
   ]
  },
  {
   "cell_type": "markdown",
   "metadata": {},
   "source": [
    "#### price\n",
    "We found that <code>price</code> had a large peak at \\\\$1.  We will assign these the mean value based on <code>type</code>, <code>model_year</code>, and <code>condition</code>.  Using the outlier formula, we will filter out high prices >$34,388."
   ]
  },
  {
   "cell_type": "code",
   "execution_count": 36,
   "metadata": {},
   "outputs": [
    {
     "name": "stdout",
     "output_type": "stream",
     "text": [
      "Discard models with price less than $-11992 and more than $34388.\n"
     ]
    }
   ],
   "source": [
    "price_lookup = df.groupby(['type', 'model_year', 'condition'])['price'].apply(lambda x: x.mean())\n",
    "df.loc[df['price'] == 1, 'price'] = df[df['price'] == 1].apply(lambda x: price_lookup.loc[(x['type'], x['model_year'], x['condition'])], axis=1)\n",
    "\n",
    "# The filter above missed 2 entries. Applying a less selective filter to catch them:\n",
    "price_lookup = df.groupby(['model_year'])['price'].apply(lambda x: x.mean())\n",
    "df.loc[df['price'] == 1, 'price'] = df[df['price'] == 1].apply(lambda x: price_lookup.loc[(x['model_year'])], axis=1)\n",
    "\n",
    "outlier_lower_bound, outlier_upper_bound = get_outliers('price')\n",
    "print('Discard models with price less than ${:.0f} and more than ${:.0f}.'.format(outlier_lower_bound, outlier_upper_bound))\n",
    "\n",
    "max_price = outlier_upper_bound"
   ]
  },
  {
   "cell_type": "markdown",
   "metadata": {},
   "source": [
    "### Histograms with outliers filtered out"
   ]
  },
  {
   "cell_type": "code",
   "execution_count": 37,
   "metadata": {},
   "outputs": [],
   "source": [
    "df_filtered = df.query('model_year >= @min_model_year and \\\n",
    "                        odometer <= @max_odometer and \\\n",
    "                        (cylinders == 4 or \\\n",
    "                        cylinders == 6 or \\\n",
    "                        cylinders == 8) and \\\n",
    "                        condition >= 1 and \\\n",
    "                        condition <= 4 and \\\n",
    "                        days_listed <= @max_days_listed and \\\n",
    "                        price <= @max_price')"
   ]
  },
  {
   "cell_type": "markdown",
   "metadata": {},
   "source": [
    "#### model_year"
   ]
  },
  {
   "cell_type": "code",
   "execution_count": 38,
   "metadata": {},
   "outputs": [
    {
     "data": {
      "image/png": "[encoded data removed]",
      "text/plain": [
       "<Figure size 576x432 with 1 Axes>"
      ]
     },
     "metadata": {
      "needs_background": "light"
     },
     "output_type": "display_data"
    },
    {
     "name": "stdout",
     "output_type": "stream",
     "text": [
      "Mean model year: 2010.0\n",
      "Median model year: 2011.0\n"
     ]
    }
   ],
   "source": [
    "plt.figure(figsize=(8,6))\n",
    "plt.hist(df_filtered['model_year'], bins=20)\n",
    "plt.title('Number of Ads by Model Year')\n",
    "plt.xlabel('Model year')\n",
    "plt.ylabel('Number of ads')\n",
    "plt.grid()\n",
    "plt.show()\n",
    "print(\"Mean model year: {}\".format(round(df_filtered['model_year'].mean(), 0)))\n",
    "print(\"Median model year: {}\".format(df_filtered['model_year'].median()))"
   ]
  },
  {
   "cell_type": "markdown",
   "metadata": {},
   "source": [
    "This histogram, with outlier model years before 1994 removed, is still skewed slightly to the left by lower model years."
   ]
  },
  {
   "cell_type": "markdown",
   "metadata": {},
   "source": [
    "#### odometer"
   ]
  },
  {
   "cell_type": "code",
   "execution_count": 39,
   "metadata": {},
   "outputs": [
    {
     "data": {
      "image/png": "[encoded data removed]",
      "text/plain": [
       "<Figure size 576x432 with 1 Axes>"
      ]
     },
     "metadata": {
      "needs_background": "light"
     },
     "output_type": "display_data"
    },
    {
     "name": "stdout",
     "output_type": "stream",
     "text": [
      "Mean odometer: 117100.0\n",
      "Median odometer: 119000.0\n"
     ]
    }
   ],
   "source": [
    "plt.figure(figsize=(8,6))\n",
    "plt.hist(df_filtered['odometer'], bins=20)\n",
    "plt.title('Number of Ads by Odometer')\n",
    "plt.xlabel('Odometer')\n",
    "plt.ylabel('Number of ads')\n",
    "plt.grid()\n",
    "plt.show()\n",
    "print(\"Mean odometer: {}\".format(round(df_filtered['odometer'].mean(), 0)))\n",
    "print(\"Median odometer: {}\".format(df_filtered['odometer'].median()))"
   ]
  },
  {
   "cell_type": "markdown",
   "metadata": {},
   "source": [
    "In the above histogram, we have eliminated the anomalous low odometer readings (<300 miles) and have trimmed away the high outliers seen previously."
   ]
  },
  {
   "cell_type": "markdown",
   "metadata": {},
   "source": [
    "#### cylinders"
   ]
  },
  {
   "cell_type": "code",
   "execution_count": 40,
   "metadata": {},
   "outputs": [
    {
     "data": {
      "image/png": "[encoded data removed]",
      "text/plain": [
       "<Figure size 576x432 with 1 Axes>"
      ]
     },
     "metadata": {
      "needs_background": "light"
     },
     "output_type": "display_data"
    }
   ],
   "source": [
    "cylinders = df_filtered['cylinders'].value_counts().index\n",
    "counts = df_filtered['cylinders'].value_counts().values\n",
    "plt.figure(figsize=(8,6))\n",
    "plt.bar(cylinders, height=counts)\n",
    "plt.title('Number of Ads by Cylinder Count')\n",
    "plt.xlabel('Cylinders')\n",
    "plt.ylabel('Number of ads')\n",
    "plt.grid()\n",
    "plt.show()"
   ]
  },
  {
   "cell_type": "markdown",
   "metadata": {},
   "source": [
    "Earlier we found that most vehicles have 4, 6, or 8 cylinders.  We also manually inspected the data and found that some of the listings with other values were erroneous.  Going forward, we will focus on vehicles with 4, 6, or 8 cylinders."
   ]
  },
  {
   "cell_type": "markdown",
   "metadata": {},
   "source": [
    "#### condition"
   ]
  },
  {
   "cell_type": "code",
   "execution_count": 41,
   "metadata": {},
   "outputs": [
    {
     "data": {
      "image/png": "[encoded data removed]",
      "text/plain": [
       "<Figure size 576x432 with 1 Axes>"
      ]
     },
     "metadata": {
      "needs_background": "light"
     },
     "output_type": "display_data"
    }
   ],
   "source": [
    "condition = df_filtered['condition'].value_counts().index\n",
    "counts = df_filtered['condition'].value_counts().values\n",
    "plt.figure(figsize=(8,6))\n",
    "plt.bar(condition, height=counts)\n",
    "plt.xticks(range(1,5))\n",
    "plt.title('Number of Ads by Vehicle Condition')\n",
    "plt.xlabel('Condition')\n",
    "plt.ylabel('Number of ads')\n",
    "plt.grid()\n",
    "plt.show()"
   ]
  },
  {
   "cell_type": "markdown",
   "metadata": {},
   "source": [
    "Further analysis will focus on the most common conditions: fair (1), good (2), excellent (3), and like new (4). We have filtered out salvage (0) and new (5)."
   ]
  },
  {
   "cell_type": "markdown",
   "metadata": {},
   "source": [
    "#### days_listed"
   ]
  },
  {
   "cell_type": "code",
   "execution_count": 42,
   "metadata": {},
   "outputs": [
    {
     "data": {
      "image/png": "[encoded data removed]",
      "text/plain": [
       "<Figure size 576x432 with 1 Axes>"
      ]
     },
     "metadata": {
      "needs_background": "light"
     },
     "output_type": "display_data"
    },
    {
     "name": "stdout",
     "output_type": "stream",
     "text": [
      "Mean days_listed: 37.0\n",
      "Median days_listed: 32.0\n"
     ]
    }
   ],
   "source": [
    "plt.figure(figsize=(8,6))\n",
    "plt.hist(df_filtered['days_listed'], bins=20)\n",
    "plt.title('Number of Ads by Length of Listing')\n",
    "plt.xlabel('Days listed')\n",
    "plt.ylabel('Number of ads')\n",
    "plt.grid()\n",
    "plt.show()\n",
    "print(\"Mean days_listed: {}\".format(round(df_filtered['days_listed'].mean(), 0)))\n",
    "print(\"Median days_listed: {}\".format(df_filtered['days_listed'].median()))"
   ]
  },
  {
   "cell_type": "markdown",
   "metadata": {},
   "source": [
    "For this histogram, we have filtered high outliers for <code>days_listed</code>.  The distribution is still somewhat skewed to the right by long listing times."
   ]
  },
  {
   "cell_type": "markdown",
   "metadata": {},
   "source": [
    "#### price"
   ]
  },
  {
   "cell_type": "code",
   "execution_count": 43,
   "metadata": {},
   "outputs": [
    {
     "data": {
      "image/png": "[encoded data removed]",
      "text/plain": [
       "<Figure size 576x432 with 1 Axes>"
      ]
     },
     "metadata": {
      "needs_background": "light"
     },
     "output_type": "display_data"
    },
    {
     "name": "stdout",
     "output_type": "stream",
     "text": [
      "Mean price: $11468.0\n",
      "Median price: $9200.0\n"
     ]
    }
   ],
   "source": [
    "plt.figure(figsize=(8,6))\n",
    "plt.hist(df_filtered['price'], bins=40)\n",
    "plt.title('Number of Ads by Price')\n",
    "plt.xlabel('Price')\n",
    "plt.ylabel('Number of ads')\n",
    "plt.grid()\n",
    "plt.show()\n",
    "print(\"Mean price: ${}\".format(round(df_filtered['price'].mean(), 0)))\n",
    "print(\"Median price: ${}\".format(df_filtered['price'].median()))"
   ]
  },
  {
   "cell_type": "markdown",
   "metadata": {},
   "source": [
    "For this histogram, we have elimited vehicles with anomalous $1 prices and have trimmed high outliers.  The distribution is skewed to the right by higher-priced ads."
   ]
  },
  {
   "cell_type": "markdown",
   "metadata": {},
   "source": [
    "### Life cycle of an ad\n",
    "In the previous section, we found that the mean <code>days_listed</code> for an ad is about 37 days.  Even with high outliers filtered out, this is greater than the median, which is 32 days.\n",
    "\n",
    "Is there a pattern in the data to explain why some ads are taken down in a day or two, while others are left up for more than 100 days?  The table below, which shows vehicle features broken down by <code>days_listed</code>, is an attempt to answer this question."
   ]
  },
  {
   "cell_type": "code",
   "execution_count": 44,
   "metadata": {},
   "outputs": [
    {
     "data": {
      "text/html": [
       "<div>\n",
       "<style scoped>\n",
       "    .dataframe tbody tr th:only-of-type {\n",
       "        vertical-align: middle;\n",
       "    }\n",
       "\n",
       "    .dataframe tbody tr th {\n",
       "        vertical-align: top;\n",
       "    }\n",
       "\n",
       "    .dataframe thead th {\n",
       "        text-align: right;\n",
       "    }\n",
       "</style>\n",
       "<table border=\"1\" class=\"dataframe\">\n",
       "  <thead>\n",
       "    <tr style=\"text-align: right;\">\n",
       "      <th></th>\n",
       "      <th>price</th>\n",
       "      <th>model_year</th>\n",
       "      <th>model</th>\n",
       "      <th>condition</th>\n",
       "      <th>cylinders</th>\n",
       "      <th>fuel</th>\n",
       "      <th>odometer</th>\n",
       "      <th>transmission</th>\n",
       "      <th>type</th>\n",
       "      <th>paint_color</th>\n",
       "      <th>is_4wd</th>\n",
       "      <th>weekday_posted</th>\n",
       "      <th>month_posted</th>\n",
       "      <th>year_posted</th>\n",
       "      <th>age</th>\n",
       "      <th>miles_per_year</th>\n",
       "    </tr>\n",
       "    <tr>\n",
       "      <th>days_listed</th>\n",
       "      <th></th>\n",
       "      <th></th>\n",
       "      <th></th>\n",
       "      <th></th>\n",
       "      <th></th>\n",
       "      <th></th>\n",
       "      <th></th>\n",
       "      <th></th>\n",
       "      <th></th>\n",
       "      <th></th>\n",
       "      <th></th>\n",
       "      <th></th>\n",
       "      <th></th>\n",
       "      <th></th>\n",
       "      <th></th>\n",
       "      <th></th>\n",
       "    </tr>\n",
       "  </thead>\n",
       "  <tbody>\n",
       "    <tr>\n",
       "      <th>low</th>\n",
       "      <td>11468.734148</td>\n",
       "      <td>2011.0</td>\n",
       "      <td>ford f-150</td>\n",
       "      <td>2.633191</td>\n",
       "      <td>6</td>\n",
       "      <td>gas</td>\n",
       "      <td>116459.976567</td>\n",
       "      <td>automatic</td>\n",
       "      <td>truck</td>\n",
       "      <td>white</td>\n",
       "      <td>0.477886</td>\n",
       "      <td>0</td>\n",
       "      <td>10</td>\n",
       "      <td>2018</td>\n",
       "      <td>9.212112</td>\n",
       "      <td>14405.728748</td>\n",
       "    </tr>\n",
       "    <tr>\n",
       "      <th>below average</th>\n",
       "      <td>11442.235031</td>\n",
       "      <td>2011.0</td>\n",
       "      <td>ford f-150</td>\n",
       "      <td>2.634659</td>\n",
       "      <td>6</td>\n",
       "      <td>gas</td>\n",
       "      <td>117680.267442</td>\n",
       "      <td>automatic</td>\n",
       "      <td>truck</td>\n",
       "      <td>white</td>\n",
       "      <td>0.483014</td>\n",
       "      <td>1</td>\n",
       "      <td>7</td>\n",
       "      <td>2018</td>\n",
       "      <td>9.352481</td>\n",
       "      <td>14436.400493</td>\n",
       "    </tr>\n",
       "    <tr>\n",
       "      <th>average</th>\n",
       "      <td>11508.429943</td>\n",
       "      <td>2011.0</td>\n",
       "      <td>ford f-150</td>\n",
       "      <td>2.635070</td>\n",
       "      <td>6</td>\n",
       "      <td>gas</td>\n",
       "      <td>116532.102075</td>\n",
       "      <td>automatic</td>\n",
       "      <td>truck</td>\n",
       "      <td>white</td>\n",
       "      <td>0.482234</td>\n",
       "      <td>4</td>\n",
       "      <td>[9, 10]</td>\n",
       "      <td>2018</td>\n",
       "      <td>9.167844</td>\n",
       "      <td>14542.189583</td>\n",
       "    </tr>\n",
       "    <tr>\n",
       "      <th>above average</th>\n",
       "      <td>11423.883920</td>\n",
       "      <td>2011.0</td>\n",
       "      <td>ford f-150</td>\n",
       "      <td>2.623853</td>\n",
       "      <td>6</td>\n",
       "      <td>gas</td>\n",
       "      <td>117894.716874</td>\n",
       "      <td>automatic</td>\n",
       "      <td>truck</td>\n",
       "      <td>white</td>\n",
       "      <td>0.487400</td>\n",
       "      <td>3</td>\n",
       "      <td>5</td>\n",
       "      <td>2018</td>\n",
       "      <td>9.332598</td>\n",
       "      <td>14299.296133</td>\n",
       "    </tr>\n",
       "    <tr>\n",
       "      <th>high</th>\n",
       "      <td>11496.477969</td>\n",
       "      <td>2011.0</td>\n",
       "      <td>ford f-150</td>\n",
       "      <td>2.638797</td>\n",
       "      <td>6</td>\n",
       "      <td>gas</td>\n",
       "      <td>117009.708745</td>\n",
       "      <td>automatic</td>\n",
       "      <td>truck</td>\n",
       "      <td>white</td>\n",
       "      <td>0.486724</td>\n",
       "      <td>3</td>\n",
       "      <td>12</td>\n",
       "      <td>2018</td>\n",
       "      <td>9.244898</td>\n",
       "      <td>14441.179724</td>\n",
       "    </tr>\n",
       "  </tbody>\n",
       "</table>\n",
       "</div>"
      ],
      "text/plain": [
       "                      price  model_year       model  condition  cylinders  \\\n",
       "days_listed                                                                 \n",
       "low            11468.734148      2011.0  ford f-150   2.633191          6   \n",
       "below average  11442.235031      2011.0  ford f-150   2.634659          6   \n",
       "average        11508.429943      2011.0  ford f-150   2.635070          6   \n",
       "above average  11423.883920      2011.0  ford f-150   2.623853          6   \n",
       "high           11496.477969      2011.0  ford f-150   2.638797          6   \n",
       "\n",
       "              fuel       odometer transmission   type paint_color    is_4wd  \\\n",
       "days_listed                                                                   \n",
       "low            gas  116459.976567    automatic  truck       white  0.477886   \n",
       "below average  gas  117680.267442    automatic  truck       white  0.483014   \n",
       "average        gas  116532.102075    automatic  truck       white  0.482234   \n",
       "above average  gas  117894.716874    automatic  truck       white  0.487400   \n",
       "high           gas  117009.708745    automatic  truck       white  0.486724   \n",
       "\n",
       "               weekday_posted month_posted  year_posted       age  \\\n",
       "days_listed                                                         \n",
       "low                         0           10         2018  9.212112   \n",
       "below average               1            7         2018  9.352481   \n",
       "average                     4      [9, 10]         2018  9.167844   \n",
       "above average               3            5         2018  9.332598   \n",
       "high                        3           12         2018  9.244898   \n",
       "\n",
       "               miles_per_year  \n",
       "days_listed                    \n",
       "low              14405.728748  \n",
       "below average    14436.400493  \n",
       "average          14542.189583  \n",
       "above average    14299.296133  \n",
       "high             14441.179724  "
      ]
     },
     "execution_count": 44,
     "metadata": {},
     "output_type": "execute_result"
    }
   ],
   "source": [
    "def mode(x):\n",
    "    return scipy.stats.mode(x)[0]\n",
    "\n",
    "#df_filtered = df_filtered.query('model == \"ford f-150\"')\n",
    "\n",
    "df_filtered.groupby( pd.qcut(df_filtered['days_listed'], 5, \n",
    "                             ['low', 'below average', 'average', 'above average', 'high'])).agg(\n",
    "                                {'price':'mean',\n",
    "                                 'model_year':'median',\n",
    "                                 'model':lambda x: pd.Series.mode(x),\n",
    "                                 'condition':'mean',\n",
    "                                 'cylinders':lambda x: pd.Series.mode(x),\n",
    "                                 'fuel':lambda x: pd.Series.mode(x),\n",
    "                                 'odometer':'mean',\n",
    "                                 'transmission':lambda x: pd.Series.mode(x),\n",
    "                                 'type':lambda x: pd.Series.mode(x),\n",
    "                                 'paint_color':lambda x: pd.Series.mode(x),\n",
    "                                 'is_4wd':'mean',\n",
    "                                 'weekday_posted':lambda x: pd.Series.mode(x),\n",
    "                                 'month_posted':lambda x: pd.Series.mode(x),\n",
    "                                 'year_posted':lambda x: pd.Series.mode(x),\n",
    "                                 'age':'mean',\n",
    "                                 'miles_per_year':'mean'})"
   ]
  },
  {
   "cell_type": "markdown",
   "metadata": {},
   "source": [
    "This table shows that the features of ads in the bottom 20% for <code>days_listed</code> (which corresponds to <code>days_listed</code> <16) are similar to the features of ads in the top 20% (<code>days_listed</code> > 56).\n",
    "\n",
    "Does this patter (or lack of a pattern) hold up for even more extreme values?  The following two tables show the vehicles with the very lowest and the very highest listing times."
   ]
  },
  {
   "cell_type": "code",
   "execution_count": 45,
   "metadata": {},
   "outputs": [
    {
     "data": {
      "text/html": [
       "<div>\n",
       "<style scoped>\n",
       "    .dataframe tbody tr th:only-of-type {\n",
       "        vertical-align: middle;\n",
       "    }\n",
       "\n",
       "    .dataframe tbody tr th {\n",
       "        vertical-align: top;\n",
       "    }\n",
       "\n",
       "    .dataframe thead th {\n",
       "        text-align: right;\n",
       "    }\n",
       "</style>\n",
       "<table border=\"1\" class=\"dataframe\">\n",
       "  <thead>\n",
       "    <tr style=\"text-align: right;\">\n",
       "      <th></th>\n",
       "      <th>price</th>\n",
       "      <th>model_year</th>\n",
       "      <th>model</th>\n",
       "      <th>condition</th>\n",
       "      <th>cylinders</th>\n",
       "      <th>fuel</th>\n",
       "      <th>odometer</th>\n",
       "      <th>transmission</th>\n",
       "      <th>type</th>\n",
       "      <th>paint_color</th>\n",
       "      <th>is_4wd</th>\n",
       "      <th>date_posted</th>\n",
       "      <th>days_listed</th>\n",
       "      <th>weekday_posted</th>\n",
       "      <th>month_posted</th>\n",
       "      <th>year_posted</th>\n",
       "      <th>age</th>\n",
       "      <th>miles_per_year</th>\n",
       "    </tr>\n",
       "  </thead>\n",
       "  <tbody>\n",
       "    <tr>\n",
       "      <th>1247</th>\n",
       "      <td>14995.0</td>\n",
       "      <td>2008</td>\n",
       "      <td>chevrolet silverado 1500</td>\n",
       "      <td>3</td>\n",
       "      <td>8</td>\n",
       "      <td>gas</td>\n",
       "      <td>93300.0</td>\n",
       "      <td>automatic</td>\n",
       "      <td>truck</td>\n",
       "      <td>grey</td>\n",
       "      <td>True</td>\n",
       "      <td>2018-05-15</td>\n",
       "      <td>0</td>\n",
       "      <td>1</td>\n",
       "      <td>5</td>\n",
       "      <td>2018</td>\n",
       "      <td>11</td>\n",
       "      <td>8482.0</td>\n",
       "    </tr>\n",
       "    <tr>\n",
       "      <th>12869</th>\n",
       "      <td>21997.0</td>\n",
       "      <td>2014</td>\n",
       "      <td>honda pilot</td>\n",
       "      <td>3</td>\n",
       "      <td>6</td>\n",
       "      <td>gas</td>\n",
       "      <td>37093.0</td>\n",
       "      <td>automatic</td>\n",
       "      <td>SUV</td>\n",
       "      <td>silver</td>\n",
       "      <td>True</td>\n",
       "      <td>2019-03-04</td>\n",
       "      <td>0</td>\n",
       "      <td>0</td>\n",
       "      <td>3</td>\n",
       "      <td>2019</td>\n",
       "      <td>6</td>\n",
       "      <td>6182.0</td>\n",
       "    </tr>\n",
       "    <tr>\n",
       "      <th>1983</th>\n",
       "      <td>14000.0</td>\n",
       "      <td>1999</td>\n",
       "      <td>ford f250</td>\n",
       "      <td>3</td>\n",
       "      <td>8</td>\n",
       "      <td>diesel</td>\n",
       "      <td>137500.0</td>\n",
       "      <td>automatic</td>\n",
       "      <td>truck</td>\n",
       "      <td>red</td>\n",
       "      <td>True</td>\n",
       "      <td>2018-09-27</td>\n",
       "      <td>0</td>\n",
       "      <td>3</td>\n",
       "      <td>9</td>\n",
       "      <td>2018</td>\n",
       "      <td>20</td>\n",
       "      <td>6875.0</td>\n",
       "    </tr>\n",
       "    <tr>\n",
       "      <th>16138</th>\n",
       "      <td>3650.0</td>\n",
       "      <td>2013</td>\n",
       "      <td>kia soul</td>\n",
       "      <td>2</td>\n",
       "      <td>4</td>\n",
       "      <td>gas</td>\n",
       "      <td>95367.0</td>\n",
       "      <td>manual</td>\n",
       "      <td>hatchback</td>\n",
       "      <td>grey</td>\n",
       "      <td>False</td>\n",
       "      <td>2019-01-27</td>\n",
       "      <td>0</td>\n",
       "      <td>6</td>\n",
       "      <td>1</td>\n",
       "      <td>2019</td>\n",
       "      <td>7</td>\n",
       "      <td>13624.0</td>\n",
       "    </tr>\n",
       "    <tr>\n",
       "      <th>9607</th>\n",
       "      <td>4999.0</td>\n",
       "      <td>2012</td>\n",
       "      <td>nissan sentra</td>\n",
       "      <td>3</td>\n",
       "      <td>4</td>\n",
       "      <td>gas</td>\n",
       "      <td>125000.0</td>\n",
       "      <td>automatic</td>\n",
       "      <td>sedan</td>\n",
       "      <td>silver</td>\n",
       "      <td>False</td>\n",
       "      <td>2019-03-26</td>\n",
       "      <td>0</td>\n",
       "      <td>1</td>\n",
       "      <td>3</td>\n",
       "      <td>2019</td>\n",
       "      <td>8</td>\n",
       "      <td>15625.0</td>\n",
       "    </tr>\n",
       "  </tbody>\n",
       "</table>\n",
       "</div>"
      ],
      "text/plain": [
       "         price  model_year                     model  condition  cylinders  \\\n",
       "1247   14995.0        2008  chevrolet silverado 1500          3          8   \n",
       "12869  21997.0        2014               honda pilot          3          6   \n",
       "1983   14000.0        1999                 ford f250          3          8   \n",
       "16138   3650.0        2013                  kia soul          2          4   \n",
       "9607    4999.0        2012             nissan sentra          3          4   \n",
       "\n",
       "         fuel  odometer transmission       type paint_color  is_4wd  \\\n",
       "1247      gas   93300.0    automatic      truck        grey    True   \n",
       "12869     gas   37093.0    automatic        SUV      silver    True   \n",
       "1983   diesel  137500.0    automatic      truck         red    True   \n",
       "16138     gas   95367.0       manual  hatchback        grey   False   \n",
       "9607      gas  125000.0    automatic      sedan      silver   False   \n",
       "\n",
       "      date_posted  days_listed  weekday_posted  month_posted  year_posted  \\\n",
       "1247   2018-05-15            0               1             5         2018   \n",
       "12869  2019-03-04            0               0             3         2019   \n",
       "1983   2018-09-27            0               3             9         2018   \n",
       "16138  2019-01-27            0               6             1         2019   \n",
       "9607   2019-03-26            0               1             3         2019   \n",
       "\n",
       "       age  miles_per_year  \n",
       "1247    11          8482.0  \n",
       "12869    6          6182.0  \n",
       "1983    20          6875.0  \n",
       "16138    7         13624.0  \n",
       "9607     8         15625.0  "
      ]
     },
     "execution_count": 45,
     "metadata": {},
     "output_type": "execute_result"
    }
   ],
   "source": [
    "df_filtered.sort_values(by='days_listed').head()"
   ]
  },
  {
   "cell_type": "code",
   "execution_count": 46,
   "metadata": {},
   "outputs": [
    {
     "data": {
      "text/html": [
       "<div>\n",
       "<style scoped>\n",
       "    .dataframe tbody tr th:only-of-type {\n",
       "        vertical-align: middle;\n",
       "    }\n",
       "\n",
       "    .dataframe tbody tr th {\n",
       "        vertical-align: top;\n",
       "    }\n",
       "\n",
       "    .dataframe thead th {\n",
       "        text-align: right;\n",
       "    }\n",
       "</style>\n",
       "<table border=\"1\" class=\"dataframe\">\n",
       "  <thead>\n",
       "    <tr style=\"text-align: right;\">\n",
       "      <th></th>\n",
       "      <th>price</th>\n",
       "      <th>model_year</th>\n",
       "      <th>model</th>\n",
       "      <th>condition</th>\n",
       "      <th>cylinders</th>\n",
       "      <th>fuel</th>\n",
       "      <th>odometer</th>\n",
       "      <th>transmission</th>\n",
       "      <th>type</th>\n",
       "      <th>paint_color</th>\n",
       "      <th>is_4wd</th>\n",
       "      <th>date_posted</th>\n",
       "      <th>days_listed</th>\n",
       "      <th>weekday_posted</th>\n",
       "      <th>month_posted</th>\n",
       "      <th>year_posted</th>\n",
       "      <th>age</th>\n",
       "      <th>miles_per_year</th>\n",
       "    </tr>\n",
       "  </thead>\n",
       "  <tbody>\n",
       "    <tr>\n",
       "      <th>33720</th>\n",
       "      <td>16900.0</td>\n",
       "      <td>2014</td>\n",
       "      <td>ford f150</td>\n",
       "      <td>3</td>\n",
       "      <td>8</td>\n",
       "      <td>gas</td>\n",
       "      <td>100750.0</td>\n",
       "      <td>automatic</td>\n",
       "      <td>truck</td>\n",
       "      <td>unavailable</td>\n",
       "      <td>True</td>\n",
       "      <td>2019-04-17</td>\n",
       "      <td>104</td>\n",
       "      <td>2</td>\n",
       "      <td>4</td>\n",
       "      <td>2019</td>\n",
       "      <td>6</td>\n",
       "      <td>16792.0</td>\n",
       "    </tr>\n",
       "    <tr>\n",
       "      <th>29383</th>\n",
       "      <td>12900.0</td>\n",
       "      <td>2006</td>\n",
       "      <td>chevrolet silverado 2500hd</td>\n",
       "      <td>3</td>\n",
       "      <td>8</td>\n",
       "      <td>gas</td>\n",
       "      <td>185000.0</td>\n",
       "      <td>automatic</td>\n",
       "      <td>truck</td>\n",
       "      <td>unavailable</td>\n",
       "      <td>True</td>\n",
       "      <td>2019-03-30</td>\n",
       "      <td>104</td>\n",
       "      <td>5</td>\n",
       "      <td>3</td>\n",
       "      <td>2019</td>\n",
       "      <td>14</td>\n",
       "      <td>13214.0</td>\n",
       "    </tr>\n",
       "    <tr>\n",
       "      <th>29476</th>\n",
       "      <td>7995.0</td>\n",
       "      <td>2012</td>\n",
       "      <td>chevrolet cruze</td>\n",
       "      <td>3</td>\n",
       "      <td>4</td>\n",
       "      <td>gas</td>\n",
       "      <td>74000.0</td>\n",
       "      <td>automatic</td>\n",
       "      <td>sedan</td>\n",
       "      <td>blue</td>\n",
       "      <td>False</td>\n",
       "      <td>2018-06-18</td>\n",
       "      <td>104</td>\n",
       "      <td>0</td>\n",
       "      <td>6</td>\n",
       "      <td>2018</td>\n",
       "      <td>7</td>\n",
       "      <td>10571.0</td>\n",
       "    </tr>\n",
       "    <tr>\n",
       "      <th>38832</th>\n",
       "      <td>25500.0</td>\n",
       "      <td>2010</td>\n",
       "      <td>ram 2500</td>\n",
       "      <td>4</td>\n",
       "      <td>6</td>\n",
       "      <td>diesel</td>\n",
       "      <td>138000.0</td>\n",
       "      <td>automatic</td>\n",
       "      <td>truck</td>\n",
       "      <td>custom</td>\n",
       "      <td>True</td>\n",
       "      <td>2019-03-24</td>\n",
       "      <td>104</td>\n",
       "      <td>6</td>\n",
       "      <td>3</td>\n",
       "      <td>2019</td>\n",
       "      <td>10</td>\n",
       "      <td>13800.0</td>\n",
       "    </tr>\n",
       "    <tr>\n",
       "      <th>36178</th>\n",
       "      <td>3999.0</td>\n",
       "      <td>2002</td>\n",
       "      <td>ram 1500</td>\n",
       "      <td>3</td>\n",
       "      <td>8</td>\n",
       "      <td>gas</td>\n",
       "      <td>170000.0</td>\n",
       "      <td>automatic</td>\n",
       "      <td>truck</td>\n",
       "      <td>blue</td>\n",
       "      <td>False</td>\n",
       "      <td>2018-12-20</td>\n",
       "      <td>104</td>\n",
       "      <td>3</td>\n",
       "      <td>12</td>\n",
       "      <td>2018</td>\n",
       "      <td>17</td>\n",
       "      <td>10000.0</td>\n",
       "    </tr>\n",
       "  </tbody>\n",
       "</table>\n",
       "</div>"
      ],
      "text/plain": [
       "         price  model_year                       model  condition  cylinders  \\\n",
       "33720  16900.0        2014                   ford f150          3          8   \n",
       "29383  12900.0        2006  chevrolet silverado 2500hd          3          8   \n",
       "29476   7995.0        2012             chevrolet cruze          3          4   \n",
       "38832  25500.0        2010                    ram 2500          4          6   \n",
       "36178   3999.0        2002                    ram 1500          3          8   \n",
       "\n",
       "         fuel  odometer transmission   type  paint_color  is_4wd date_posted  \\\n",
       "33720     gas  100750.0    automatic  truck  unavailable    True  2019-04-17   \n",
       "29383     gas  185000.0    automatic  truck  unavailable    True  2019-03-30   \n",
       "29476     gas   74000.0    automatic  sedan         blue   False  2018-06-18   \n",
       "38832  diesel  138000.0    automatic  truck       custom    True  2019-03-24   \n",
       "36178     gas  170000.0    automatic  truck         blue   False  2018-12-20   \n",
       "\n",
       "       days_listed  weekday_posted  month_posted  year_posted  age  \\\n",
       "33720          104               2             4         2019    6   \n",
       "29383          104               5             3         2019   14   \n",
       "29476          104               0             6         2018    7   \n",
       "38832          104               6             3         2019   10   \n",
       "36178          104               3            12         2018   17   \n",
       "\n",
       "       miles_per_year  \n",
       "33720         16792.0  \n",
       "29383         13214.0  \n",
       "29476         10571.0  \n",
       "38832         13800.0  \n",
       "36178         10000.0  "
      ]
     },
     "execution_count": 46,
     "metadata": {},
     "output_type": "execute_result"
    }
   ],
   "source": [
    "df_filtered.sort_values(by='days_listed').tail()"
   ]
  },
  {
   "cell_type": "markdown",
   "metadata": {},
   "source": [
    "A clear pattern also fails to emerge when looking at the very top and very bottom of the data, sorted by <code>days_listed</code>.  (Although not shown, a pattern also does not emerge when looking at a single model.)"
   ]
  },
  {
   "cell_type": "markdown",
   "metadata": {},
   "source": [
    "### Relationship between vehicle type and number of ads\n",
    "Which vehicle types appear most frequently among ad listings?"
   ]
  },
  {
   "cell_type": "code",
   "execution_count": 47,
   "metadata": {},
   "outputs": [
    {
     "data": {
      "text/html": [
       "<div>\n",
       "<style scoped>\n",
       "    .dataframe tbody tr th:only-of-type {\n",
       "        vertical-align: middle;\n",
       "    }\n",
       "\n",
       "    .dataframe tbody tr th {\n",
       "        vertical-align: top;\n",
       "    }\n",
       "\n",
       "    .dataframe thead th {\n",
       "        text-align: right;\n",
       "    }\n",
       "</style>\n",
       "<table border=\"1\" class=\"dataframe\">\n",
       "  <thead>\n",
       "    <tr style=\"text-align: right;\">\n",
       "      <th></th>\n",
       "      <th>count</th>\n",
       "      <th>percent</th>\n",
       "      <th>average price</th>\n",
       "    </tr>\n",
       "    <tr>\n",
       "      <th>type</th>\n",
       "      <th></th>\n",
       "      <th></th>\n",
       "      <th></th>\n",
       "    </tr>\n",
       "  </thead>\n",
       "  <tbody>\n",
       "    <tr>\n",
       "      <th>truck</th>\n",
       "      <td>16537</td>\n",
       "      <td>0.359688</td>\n",
       "      <td>15434.781243</td>\n",
       "    </tr>\n",
       "    <tr>\n",
       "      <th>SUV</th>\n",
       "      <td>11586</td>\n",
       "      <td>0.252001</td>\n",
       "      <td>10801.891305</td>\n",
       "    </tr>\n",
       "    <tr>\n",
       "      <th>sedan</th>\n",
       "      <td>11336</td>\n",
       "      <td>0.246563</td>\n",
       "      <td>7085.465354</td>\n",
       "    </tr>\n",
       "    <tr>\n",
       "      <th>other</th>\n",
       "      <td>4617</td>\n",
       "      <td>0.100422</td>\n",
       "      <td>8676.502696</td>\n",
       "    </tr>\n",
       "    <tr>\n",
       "      <th>coupe</th>\n",
       "      <td>1900</td>\n",
       "      <td>0.041326</td>\n",
       "      <td>13941.944646</td>\n",
       "    </tr>\n",
       "  </tbody>\n",
       "</table>\n",
       "</div>"
      ],
      "text/plain": [
       "       count   percent  average price\n",
       "type                                 \n",
       "truck  16537  0.359688   15434.781243\n",
       "SUV    11586  0.252001   10801.891305\n",
       "sedan  11336  0.246563    7085.465354\n",
       "other   4617  0.100422    8676.502696\n",
       "coupe   1900  0.041326   13941.944646"
      ]
     },
     "execution_count": 47,
     "metadata": {},
     "output_type": "execute_result"
    }
   ],
   "source": [
    "total_rows = len(df_filtered)\n",
    "proportion_by_type = df_filtered['type'].value_counts()/total_rows\n",
    "most_popular_types = proportion_by_type[proportion_by_type > .04].index\n",
    "df_filtered['type_tmp'] = df_filtered['type'].where(df_filtered['type'].isin(most_popular_types), 'other')\n",
    "\n",
    "type_table = df_filtered.groupby('type_tmp')['price'].agg(['count', \n",
    "                                                           lambda x: x.count()/total_rows,\n",
    "                                                           lambda x: x.mean()]).sort_values(by='count', ascending=False)\n",
    "\n",
    "type_table.columns = ['count', 'percent', 'average price']\n",
    "type_table.index.names = ['type']\n",
    "type_table"
   ]
  },
  {
   "cell_type": "code",
   "execution_count": 48,
   "metadata": {},
   "outputs": [
    {
     "data": {
      "image/png": "[encoded data removed]",
      "text/plain": [
       "<Figure size 864x432 with 1 Axes>"
      ]
     },
     "metadata": {},
     "output_type": "display_data"
    }
   ],
   "source": [
    "title = 'Percentage of Ads by Vehicle Type'\n",
    "plt = type_table.plot(y='percent', kind='pie', legend=False, autopct='%1.1f%%', figsize=(12,6), title=title)"
   ]
  },
  {
   "cell_type": "markdown",
   "metadata": {},
   "source": [
    "The pie chart shows that trucks, SUV's, and sedans account for 85% of ads placed."
   ]
  },
  {
   "cell_type": "markdown",
   "metadata": {},
   "source": [
    "### Factors impacting price\n",
    "In this section, we focus on the top 2 types (trucks and SUVs) and examine factors that may affect the price."
   ]
  },
  {
   "cell_type": "markdown",
   "metadata": {},
   "source": [
    "#### age\n",
    "Not surprisingly, there is a strong, negative correlation between price and age, for both SUVs and trucks.\n",
    "\n",
    "The correlation coefficient was -0.66 for SUVs and -0.73 for trucks.  The hexbin plots show what appears to be a fairly linear pattern, with a negative slope."
   ]
  },
  {
   "cell_type": "markdown",
   "metadata": {},
   "source": [
    "##### SUV"
   ]
  },
  {
   "cell_type": "code",
   "execution_count": 49,
   "metadata": {},
   "outputs": [
    {
     "name": "stdout",
     "output_type": "stream",
     "text": [
      "SUV price-age correlation: -0.66.\n"
     ]
    },
    {
     "data": {
      "image/png": "[encoded data removed]",
      "text/plain": [
       "<Figure size 576x432 with 2 Axes>"
      ]
     },
     "metadata": {
      "needs_background": "light"
     },
     "output_type": "display_data"
    }
   ],
   "source": [
    "df_suv = df_filtered.query('type == \"SUV\"')\n",
    "df_truck = df_filtered.query('type == \"truck\"')\n",
    "gridsize = 40\n",
    "figsize = (8,6)\n",
    "print('SUV price-age correlation: {:.2f}.'.format(df_suv['price'].corr(df_suv['age'])))\n",
    "df_suv.plot(x='age', y='price', kind='hexbin', gridsize=gridsize, figsize=figsize, grid=True, sharex=False, title='SUV: Price vs. age');"
   ]
  },
  {
   "cell_type": "markdown",
   "metadata": {},
   "source": [
    "In addition to reflecting the negative correlation between price and age, the shape of the data hints at steep depreciation for newer vehicles, and a flattening of the depreciation curve for vehicles more than 15 years old."
   ]
  },
  {
   "cell_type": "markdown",
   "metadata": {},
   "source": [
    "##### truck"
   ]
  },
  {
   "cell_type": "code",
   "execution_count": 50,
   "metadata": {},
   "outputs": [
    {
     "name": "stdout",
     "output_type": "stream",
     "text": [
      "Truck price-age correlation: -0.73.\n"
     ]
    },
    {
     "data": {
      "image/png": "[encoded data removed]",
      "text/plain": [
       "<Figure size 576x432 with 2 Axes>"
      ]
     },
     "metadata": {
      "needs_background": "light"
     },
     "output_type": "display_data"
    }
   ],
   "source": [
    "print('Truck price-age correlation: {:.2f}.'.format(df_truck['price'].corr(df_truck['age'])))\n",
    "df_truck.plot(x='age', y='price', kind='hexbin', gridsize=gridsize, figsize=figsize, grid=True, sharex=False, title='Truck: Price vs. age');"
   ]
  },
  {
   "cell_type": "markdown",
   "metadata": {},
   "source": [
    "As with SUVs, the hexbin plot for trucks clearly shows the negative correlation bewteen price and age."
   ]
  },
  {
   "cell_type": "markdown",
   "metadata": {},
   "source": [
    "#### Mileage\n",
    "The relationship between price and mileage also showed a negative correlation.  The correlation coefficient for SUVs was -0.65, and for trucks was -0.62."
   ]
  },
  {
   "cell_type": "markdown",
   "metadata": {},
   "source": [
    "##### SUV"
   ]
  },
  {
   "cell_type": "code",
   "execution_count": 51,
   "metadata": {},
   "outputs": [
    {
     "name": "stdout",
     "output_type": "stream",
     "text": [
      "SUV price-mileage correlation: -0.65.\n"
     ]
    },
    {
     "data": {
      "image/png": "[encoded data removed]",
      "text/plain": [
       "<Figure size 576x432 with 2 Axes>"
      ]
     },
     "metadata": {
      "needs_background": "light"
     },
     "output_type": "display_data"
    }
   ],
   "source": [
    "print('SUV price-mileage correlation: {:.2f}.'.format(df_suv['price'].corr(df_suv['odometer'])))\n",
    "df_suv.plot(x='odometer', y='price', kind='hexbin', gridsize=gridsize, figsize=figsize, grid=True, sharex=False, title='SUV: Price vs. mileage');"
   ]
  },
  {
   "cell_type": "markdown",
   "metadata": {},
   "source": [
    "##### truck"
   ]
  },
  {
   "cell_type": "code",
   "execution_count": 52,
   "metadata": {},
   "outputs": [
    {
     "name": "stdout",
     "output_type": "stream",
     "text": [
      "Truck price-mileage correlation: -0.62.\n"
     ]
    },
    {
     "data": {
      "image/png": "[encoded data removed]",
      "text/plain": [
       "<Figure size 576x432 with 2 Axes>"
      ]
     },
     "metadata": {
      "needs_background": "light"
     },
     "output_type": "display_data"
    }
   ],
   "source": [
    "print('Truck price-mileage correlation: {:.2f}.'.format(df_truck['price'].corr(df_truck['odometer'])))\n",
    "df_truck.plot(x='odometer', y='price', kind='hexbin', gridsize=gridsize, figsize=figsize, grid=True, sharex=False, title='Trucks: Price vs. mileage');"
   ]
  },
  {
   "cell_type": "markdown",
   "metadata": {},
   "source": [
    "#### Condition"
   ]
  },
  {
   "cell_type": "markdown",
   "metadata": {},
   "source": [
    "##### SUV"
   ]
  },
  {
   "cell_type": "code",
   "execution_count": 53,
   "metadata": {},
   "outputs": [
    {
     "name": "stdout",
     "output_type": "stream",
     "text": [
      "SUV price-condition correlation: 0.29.\n"
     ]
    },
    {
     "data": {
      "text/plain": [
       "Text(0, 0.5, 'Price')"
      ]
     },
     "execution_count": 53,
     "metadata": {},
     "output_type": "execute_result"
    },
    {
     "data": {
      "image/png": "[encoded data removed]",
      "text/plain": [
       "<Figure size 576x432 with 1 Axes>"
      ]
     },
     "metadata": {
      "needs_background": "light"
     },
     "output_type": "display_data"
    }
   ],
   "source": [
    "print('SUV price-condition correlation: {:.2f}.'.format(df_suv['price'].corr(df_suv['condition'])))\n",
    "ax = df_suv.boxplot(column='price', by='condition', figsize=figsize)\n",
    "ax.set_ylabel('Price')"
   ]
  },
  {
   "cell_type": "markdown",
   "metadata": {},
   "source": [
    "The box plots show that as the condition increases, so does the price.  SUVs in excellent condition had a median price of about \\\\$13,500, while those in fair condition listed for about \\\\$2,500, a difference of \\\\$11,000.\n",
    "\n",
    "The range of typical prices for each condition, represented by the interquartile range, increases along with the condition and price.  There are high outliers, particularly for vehicles rated good (2) and excellent (3).  There are no high outliers for like-new vehicles (4) because these outliers were filtered."
   ]
  },
  {
   "cell_type": "markdown",
   "metadata": {},
   "source": [
    "##### truck"
   ]
  },
  {
   "cell_type": "code",
   "execution_count": 54,
   "metadata": {},
   "outputs": [
    {
     "name": "stdout",
     "output_type": "stream",
     "text": [
      "Truck price-condition correlation: 0.30.\n"
     ]
    },
    {
     "data": {
      "image/png": "[encoded data removed]",
      "text/plain": [
       "<Figure size 576x432 with 1 Axes>"
      ]
     },
     "metadata": {
      "needs_background": "light"
     },
     "output_type": "display_data"
    }
   ],
   "source": [
    "print('Truck price-condition correlation: {:.2f}.'.format(df_truck['price'].corr(df_truck['condition'])))\n",
    "ax = df_truck.boxplot(column='price', by='condition', figsize=figsize)\n",
    "ax.set_ylabel('Price')\n",
    "ax.set_title('Truck: Effect of condition on price');"
   ]
  },
  {
   "cell_type": "markdown",
   "metadata": {},
   "source": [
    "The boxplots relating price to condition for trucks also follows an intuitive trend.  Compared with SUVs, the relationship for trucks is even more pronounced.  Trucks in excellent condition had a median price of about \\\\$20,000, while those in fair condition listed for about \\\\$3,000, a difference of \\\\$17,000.  There were high outlier prices for trucks listed in fair condition."
   ]
  },
  {
   "cell_type": "markdown",
   "metadata": {},
   "source": [
    "#### Transmission"
   ]
  },
  {
   "cell_type": "markdown",
   "metadata": {},
   "source": [
    "##### SUV"
   ]
  },
  {
   "cell_type": "code",
   "execution_count": 55,
   "metadata": {},
   "outputs": [
    {
     "data": {
      "image/png": "[encoded data removed]",
      "text/plain": [
       "<Figure size 576x432 with 1 Axes>"
      ]
     },
     "metadata": {
      "needs_background": "light"
     },
     "output_type": "display_data"
    }
   ],
   "source": [
    "ax = df_suv.boxplot(column='price', by='transmission', figsize=figsize)\n",
    "ax.set_ylabel('Price')\n",
    "ax.set_title('SUV: Effect of transmission on price');"
   ]
  },
  {
   "cell_type": "markdown",
   "metadata": {},
   "source": [
    "For SUVs, there is almost no relationship between the type of transmission type and price.  The median price for manual transmission is slightly higher than for automatics, but the IQRs largely overlap."
   ]
  },
  {
   "cell_type": "markdown",
   "metadata": {},
   "source": [
    "##### truck"
   ]
  },
  {
   "cell_type": "code",
   "execution_count": 56,
   "metadata": {},
   "outputs": [
    {
     "data": {
      "image/png": "[encoded data removed]",
      "text/plain": [
       "<Figure size 576x432 with 1 Axes>"
      ]
     },
     "metadata": {
      "needs_background": "light"
     },
     "output_type": "display_data"
    }
   ],
   "source": [
    "ax = df_truck.boxplot(column='price', by='transmission', figsize=figsize)\n",
    "ax.set_ylabel('Price')\n",
    "ax.set_title('Truck: Effect of transmission on price');"
   ]
  },
  {
   "cell_type": "markdown",
   "metadata": {},
   "source": [
    "For trucks, manual transmission was associated with a lower price, but there are some high outliers. Let's examine these outliers."
   ]
  },
  {
   "cell_type": "code",
   "execution_count": 57,
   "metadata": {},
   "outputs": [
    {
     "data": {
      "text/html": [
       "<div>\n",
       "<style scoped>\n",
       "    .dataframe tbody tr th:only-of-type {\n",
       "        vertical-align: middle;\n",
       "    }\n",
       "\n",
       "    .dataframe tbody tr th {\n",
       "        vertical-align: top;\n",
       "    }\n",
       "\n",
       "    .dataframe thead th {\n",
       "        text-align: right;\n",
       "    }\n",
       "</style>\n",
       "<table border=\"1\" class=\"dataframe\">\n",
       "  <thead>\n",
       "    <tr style=\"text-align: right;\">\n",
       "      <th></th>\n",
       "      <th>price</th>\n",
       "      <th>model_year</th>\n",
       "      <th>model</th>\n",
       "      <th>condition</th>\n",
       "      <th>cylinders</th>\n",
       "      <th>fuel</th>\n",
       "      <th>odometer</th>\n",
       "      <th>transmission</th>\n",
       "      <th>type</th>\n",
       "      <th>paint_color</th>\n",
       "      <th>is_4wd</th>\n",
       "      <th>date_posted</th>\n",
       "      <th>days_listed</th>\n",
       "      <th>weekday_posted</th>\n",
       "      <th>month_posted</th>\n",
       "      <th>year_posted</th>\n",
       "      <th>age</th>\n",
       "      <th>miles_per_year</th>\n",
       "      <th>type_tmp</th>\n",
       "    </tr>\n",
       "  </thead>\n",
       "  <tbody>\n",
       "    <tr>\n",
       "      <th>5189</th>\n",
       "      <td>30995.0</td>\n",
       "      <td>2017</td>\n",
       "      <td>toyota tacoma</td>\n",
       "      <td>3</td>\n",
       "      <td>6</td>\n",
       "      <td>gas</td>\n",
       "      <td>30300.0</td>\n",
       "      <td>manual</td>\n",
       "      <td>truck</td>\n",
       "      <td>custom</td>\n",
       "      <td>True</td>\n",
       "      <td>2019-02-14</td>\n",
       "      <td>29</td>\n",
       "      <td>3</td>\n",
       "      <td>2</td>\n",
       "      <td>2019</td>\n",
       "      <td>3</td>\n",
       "      <td>10100.0</td>\n",
       "      <td>truck</td>\n",
       "    </tr>\n",
       "    <tr>\n",
       "      <th>7823</th>\n",
       "      <td>34000.0</td>\n",
       "      <td>2014</td>\n",
       "      <td>ram 2500</td>\n",
       "      <td>3</td>\n",
       "      <td>6</td>\n",
       "      <td>diesel</td>\n",
       "      <td>90000.0</td>\n",
       "      <td>manual</td>\n",
       "      <td>truck</td>\n",
       "      <td>white</td>\n",
       "      <td>False</td>\n",
       "      <td>2019-04-07</td>\n",
       "      <td>47</td>\n",
       "      <td>6</td>\n",
       "      <td>4</td>\n",
       "      <td>2019</td>\n",
       "      <td>6</td>\n",
       "      <td>15000.0</td>\n",
       "      <td>truck</td>\n",
       "    </tr>\n",
       "    <tr>\n",
       "      <th>8009</th>\n",
       "      <td>27500.0</td>\n",
       "      <td>2015</td>\n",
       "      <td>chevrolet silverado</td>\n",
       "      <td>4</td>\n",
       "      <td>8</td>\n",
       "      <td>gas</td>\n",
       "      <td>56000.0</td>\n",
       "      <td>manual</td>\n",
       "      <td>truck</td>\n",
       "      <td>white</td>\n",
       "      <td>True</td>\n",
       "      <td>2018-05-21</td>\n",
       "      <td>10</td>\n",
       "      <td>0</td>\n",
       "      <td>5</td>\n",
       "      <td>2018</td>\n",
       "      <td>4</td>\n",
       "      <td>14000.0</td>\n",
       "      <td>truck</td>\n",
       "    </tr>\n",
       "    <tr>\n",
       "      <th>13630</th>\n",
       "      <td>28950.0</td>\n",
       "      <td>2014</td>\n",
       "      <td>ram 2500</td>\n",
       "      <td>4</td>\n",
       "      <td>6</td>\n",
       "      <td>diesel</td>\n",
       "      <td>159875.0</td>\n",
       "      <td>manual</td>\n",
       "      <td>truck</td>\n",
       "      <td>white</td>\n",
       "      <td>True</td>\n",
       "      <td>2019-03-09</td>\n",
       "      <td>9</td>\n",
       "      <td>5</td>\n",
       "      <td>3</td>\n",
       "      <td>2019</td>\n",
       "      <td>6</td>\n",
       "      <td>26646.0</td>\n",
       "      <td>truck</td>\n",
       "    </tr>\n",
       "    <tr>\n",
       "      <th>14930</th>\n",
       "      <td>28900.0</td>\n",
       "      <td>2017</td>\n",
       "      <td>toyota tacoma</td>\n",
       "      <td>3</td>\n",
       "      <td>6</td>\n",
       "      <td>gas</td>\n",
       "      <td>47570.0</td>\n",
       "      <td>manual</td>\n",
       "      <td>truck</td>\n",
       "      <td>grey</td>\n",
       "      <td>True</td>\n",
       "      <td>2019-02-14</td>\n",
       "      <td>54</td>\n",
       "      <td>3</td>\n",
       "      <td>2</td>\n",
       "      <td>2019</td>\n",
       "      <td>3</td>\n",
       "      <td>15857.0</td>\n",
       "      <td>truck</td>\n",
       "    </tr>\n",
       "    <tr>\n",
       "      <th>15529</th>\n",
       "      <td>27000.0</td>\n",
       "      <td>2004</td>\n",
       "      <td>ram 2500</td>\n",
       "      <td>4</td>\n",
       "      <td>6</td>\n",
       "      <td>diesel</td>\n",
       "      <td>38400.0</td>\n",
       "      <td>manual</td>\n",
       "      <td>truck</td>\n",
       "      <td>unavailable</td>\n",
       "      <td>False</td>\n",
       "      <td>2018-07-31</td>\n",
       "      <td>38</td>\n",
       "      <td>1</td>\n",
       "      <td>7</td>\n",
       "      <td>2018</td>\n",
       "      <td>15</td>\n",
       "      <td>2560.0</td>\n",
       "      <td>truck</td>\n",
       "    </tr>\n",
       "    <tr>\n",
       "      <th>19639</th>\n",
       "      <td>31000.0</td>\n",
       "      <td>2017</td>\n",
       "      <td>chevrolet silverado 1500</td>\n",
       "      <td>3</td>\n",
       "      <td>8</td>\n",
       "      <td>gas</td>\n",
       "      <td>42400.0</td>\n",
       "      <td>manual</td>\n",
       "      <td>truck</td>\n",
       "      <td>white</td>\n",
       "      <td>True</td>\n",
       "      <td>2018-12-13</td>\n",
       "      <td>34</td>\n",
       "      <td>3</td>\n",
       "      <td>12</td>\n",
       "      <td>2018</td>\n",
       "      <td>2</td>\n",
       "      <td>21200.0</td>\n",
       "      <td>truck</td>\n",
       "    </tr>\n",
       "    <tr>\n",
       "      <th>20149</th>\n",
       "      <td>25500.0</td>\n",
       "      <td>2008</td>\n",
       "      <td>ram 2500</td>\n",
       "      <td>2</td>\n",
       "      <td>6</td>\n",
       "      <td>diesel</td>\n",
       "      <td>200000.0</td>\n",
       "      <td>manual</td>\n",
       "      <td>truck</td>\n",
       "      <td>blue</td>\n",
       "      <td>True</td>\n",
       "      <td>2018-12-29</td>\n",
       "      <td>27</td>\n",
       "      <td>5</td>\n",
       "      <td>12</td>\n",
       "      <td>2018</td>\n",
       "      <td>11</td>\n",
       "      <td>18182.0</td>\n",
       "      <td>truck</td>\n",
       "    </tr>\n",
       "    <tr>\n",
       "      <th>28577</th>\n",
       "      <td>29900.0</td>\n",
       "      <td>2014</td>\n",
       "      <td>ram 2500</td>\n",
       "      <td>3</td>\n",
       "      <td>6</td>\n",
       "      <td>diesel</td>\n",
       "      <td>95846.0</td>\n",
       "      <td>manual</td>\n",
       "      <td>truck</td>\n",
       "      <td>black</td>\n",
       "      <td>True</td>\n",
       "      <td>2018-11-27</td>\n",
       "      <td>44</td>\n",
       "      <td>1</td>\n",
       "      <td>11</td>\n",
       "      <td>2018</td>\n",
       "      <td>5</td>\n",
       "      <td>19169.0</td>\n",
       "      <td>truck</td>\n",
       "    </tr>\n",
       "    <tr>\n",
       "      <th>29751</th>\n",
       "      <td>25500.0</td>\n",
       "      <td>2007</td>\n",
       "      <td>ram 3500</td>\n",
       "      <td>3</td>\n",
       "      <td>6</td>\n",
       "      <td>diesel</td>\n",
       "      <td>91000.0</td>\n",
       "      <td>manual</td>\n",
       "      <td>truck</td>\n",
       "      <td>white</td>\n",
       "      <td>True</td>\n",
       "      <td>2019-01-07</td>\n",
       "      <td>11</td>\n",
       "      <td>0</td>\n",
       "      <td>1</td>\n",
       "      <td>2019</td>\n",
       "      <td>13</td>\n",
       "      <td>7000.0</td>\n",
       "      <td>truck</td>\n",
       "    </tr>\n",
       "  </tbody>\n",
       "</table>\n",
       "</div>"
      ],
      "text/plain": [
       "         price  model_year                     model  condition  cylinders  \\\n",
       "5189   30995.0        2017             toyota tacoma          3          6   \n",
       "7823   34000.0        2014                  ram 2500          3          6   \n",
       "8009   27500.0        2015       chevrolet silverado          4          8   \n",
       "13630  28950.0        2014                  ram 2500          4          6   \n",
       "14930  28900.0        2017             toyota tacoma          3          6   \n",
       "15529  27000.0        2004                  ram 2500          4          6   \n",
       "19639  31000.0        2017  chevrolet silverado 1500          3          8   \n",
       "20149  25500.0        2008                  ram 2500          2          6   \n",
       "28577  29900.0        2014                  ram 2500          3          6   \n",
       "29751  25500.0        2007                  ram 3500          3          6   \n",
       "\n",
       "         fuel  odometer transmission   type  paint_color  is_4wd date_posted  \\\n",
       "5189      gas   30300.0       manual  truck       custom    True  2019-02-14   \n",
       "7823   diesel   90000.0       manual  truck        white   False  2019-04-07   \n",
       "8009      gas   56000.0       manual  truck        white    True  2018-05-21   \n",
       "13630  diesel  159875.0       manual  truck        white    True  2019-03-09   \n",
       "14930     gas   47570.0       manual  truck         grey    True  2019-02-14   \n",
       "15529  diesel   38400.0       manual  truck  unavailable   False  2018-07-31   \n",
       "19639     gas   42400.0       manual  truck        white    True  2018-12-13   \n",
       "20149  diesel  200000.0       manual  truck         blue    True  2018-12-29   \n",
       "28577  diesel   95846.0       manual  truck        black    True  2018-11-27   \n",
       "29751  diesel   91000.0       manual  truck        white    True  2019-01-07   \n",
       "\n",
       "       days_listed  weekday_posted  month_posted  year_posted  age  \\\n",
       "5189            29               3             2         2019    3   \n",
       "7823            47               6             4         2019    6   \n",
       "8009            10               0             5         2018    4   \n",
       "13630            9               5             3         2019    6   \n",
       "14930           54               3             2         2019    3   \n",
       "15529           38               1             7         2018   15   \n",
       "19639           34               3            12         2018    2   \n",
       "20149           27               5            12         2018   11   \n",
       "28577           44               1            11         2018    5   \n",
       "29751           11               0             1         2019   13   \n",
       "\n",
       "       miles_per_year type_tmp  \n",
       "5189          10100.0    truck  \n",
       "7823          15000.0    truck  \n",
       "8009          14000.0    truck  \n",
       "13630         26646.0    truck  \n",
       "14930         15857.0    truck  \n",
       "15529          2560.0    truck  \n",
       "19639         21200.0    truck  \n",
       "20149         18182.0    truck  \n",
       "28577         19169.0    truck  \n",
       "29751          7000.0    truck  "
      ]
     },
     "execution_count": 57,
     "metadata": {},
     "output_type": "execute_result"
    }
   ],
   "source": [
    "df_truck.query('transmission == \"manual\" and price > 25000').head(10)"
   ]
  },
  {
   "cell_type": "markdown",
   "metadata": {},
   "source": [
    "The list of relatively expensive trucks with manual transmission is dominated by Toyota Tacomas and Dodge Rams with diesel engines."
   ]
  },
  {
   "cell_type": "markdown",
   "metadata": {},
   "source": [
    "#### Color"
   ]
  },
  {
   "cell_type": "code",
   "execution_count": 58,
   "metadata": {},
   "outputs": [
    {
     "data": {
      "text/html": [
       "<div>\n",
       "<style scoped>\n",
       "    .dataframe tbody tr th:only-of-type {\n",
       "        vertical-align: middle;\n",
       "    }\n",
       "\n",
       "    .dataframe tbody tr th {\n",
       "        vertical-align: top;\n",
       "    }\n",
       "\n",
       "    .dataframe thead th {\n",
       "        text-align: right;\n",
       "    }\n",
       "</style>\n",
       "<table border=\"1\" class=\"dataframe\">\n",
       "  <thead>\n",
       "    <tr style=\"text-align: right;\">\n",
       "      <th></th>\n",
       "      <th>count</th>\n",
       "      <th>percent</th>\n",
       "      <th>average price</th>\n",
       "    </tr>\n",
       "    <tr>\n",
       "      <th>paint_color</th>\n",
       "      <th></th>\n",
       "      <th></th>\n",
       "      <th></th>\n",
       "    </tr>\n",
       "  </thead>\n",
       "  <tbody>\n",
       "    <tr>\n",
       "      <th>white</th>\n",
       "      <td>8720</td>\n",
       "      <td>0.189664</td>\n",
       "      <td>13019.161627</td>\n",
       "    </tr>\n",
       "    <tr>\n",
       "      <th>black</th>\n",
       "      <td>6849</td>\n",
       "      <td>0.148969</td>\n",
       "      <td>12929.698605</td>\n",
       "    </tr>\n",
       "    <tr>\n",
       "      <th>unavailable</th>\n",
       "      <td>8295</td>\n",
       "      <td>0.180420</td>\n",
       "      <td>11584.268196</td>\n",
       "    </tr>\n",
       "    <tr>\n",
       "      <th>grey</th>\n",
       "      <td>4563</td>\n",
       "      <td>0.099247</td>\n",
       "      <td>10663.519061</td>\n",
       "    </tr>\n",
       "    <tr>\n",
       "      <th>silver</th>\n",
       "      <td>5764</td>\n",
       "      <td>0.125370</td>\n",
       "      <td>10307.200063</td>\n",
       "    </tr>\n",
       "    <tr>\n",
       "      <th>other</th>\n",
       "      <td>11785</td>\n",
       "      <td>0.256329</td>\n",
       "      <td>10269.257076</td>\n",
       "    </tr>\n",
       "  </tbody>\n",
       "</table>\n",
       "</div>"
      ],
      "text/plain": [
       "             count   percent  average price\n",
       "paint_color                                \n",
       "white         8720  0.189664   13019.161627\n",
       "black         6849  0.148969   12929.698605\n",
       "unavailable   8295  0.180420   11584.268196\n",
       "grey          4563  0.099247   10663.519061\n",
       "silver        5764  0.125370   10307.200063\n",
       "other        11785  0.256329   10269.257076"
      ]
     },
     "execution_count": 58,
     "metadata": {},
     "output_type": "execute_result"
    }
   ],
   "source": [
    "proportion_by_color = df_filtered['paint_color'].value_counts()/len(df_filtered)\n",
    "most_popular_colors = proportion_by_color[proportion_by_color > 0.09].index\n",
    "df_filtered['color_tmp'] = df_filtered['paint_color'].where(df_filtered['paint_color'].isin(most_popular_colors), 'other')\n",
    "\n",
    "color_table = df_filtered.groupby('color_tmp')['price'].agg(['count', \n",
    "                                                           lambda x: x.count()/total_rows,\n",
    "                                                           lambda x: x.mean()])#.sort_values(by='price', ascending=False)\n",
    "color_table.columns = ['count', 'percent', 'average price']\n",
    "color_table = color_table.sort_values('average price', ascending=False)\n",
    "color_table.index.names = ['paint_color']\n",
    "color_table"
   ]
  },
  {
   "cell_type": "markdown",
   "metadata": {},
   "source": [
    "White is the most popular color and is also associated with the highest average price.  Black comes in second place."
   ]
  },
  {
   "cell_type": "markdown",
   "metadata": {},
   "source": [
    "##### SUV"
   ]
  },
  {
   "cell_type": "code",
   "execution_count": 59,
   "metadata": {},
   "outputs": [
    {
     "data": {
      "image/png": "[encoded data removed]",
      "text/plain": [
       "<Figure size 576x432 with 1 Axes>"
      ]
     },
     "metadata": {
      "needs_background": "light"
     },
     "output_type": "display_data"
    }
   ],
   "source": [
    "# This is to pick up the color_tmp column defined above\n",
    "df_suv = df_filtered.query('type == \"SUV\"')\n",
    "df_truck = df_filtered.query('type == \"truck\"')\n",
    "\n",
    "def boxplot_sorted_df(df, by, column):\n",
    "    df2 = pd.DataFrame({col:vals[column] for col, vals in df.groupby(by)})\n",
    "    meds = df2.median().sort_values(ascending=False)\n",
    "    return df2[meds.index]\n",
    "\n",
    "ax = boxplot_sorted_df(df_suv, 'color_tmp', 'price').boxplot(figsize=figsize)\n",
    "ax.set_ylabel('Price')\n",
    "ax.set_xlabel('Color')\n",
    "ax.set_title('SUV: Effect of color on price');"
   ]
  },
  {
   "cell_type": "markdown",
   "metadata": {},
   "source": [
    "Although white is the most popular color overall, black is the most popular color for SUVs, and black also has the highest median price.  However, the IQRs for all colors overalap to a large degree.  This suggests that color does not have a strong influence on price."
   ]
  },
  {
   "cell_type": "markdown",
   "metadata": {},
   "source": [
    "##### truck"
   ]
  },
  {
   "cell_type": "code",
   "execution_count": 60,
   "metadata": {},
   "outputs": [
    {
     "data": {
      "image/png": "[encoded data removed]",
      "text/plain": [
       "<Figure size 576x432 with 1 Axes>"
      ]
     },
     "metadata": {
      "needs_background": "light"
     },
     "output_type": "display_data"
    }
   ],
   "source": [
    "ax = boxplot_sorted_df(df_truck, 'color_tmp', 'price').boxplot(figsize=figsize)\n",
    "ax.set_ylabel('Price')\n",
    "ax.set_xlabel('Color')\n",
    "ax.set_title('Truck: Effect of color on price');"
   ]
  },
  {
   "cell_type": "markdown",
   "metadata": {},
   "source": [
    "The boxplots showing the relationship between color and price for trucks follows a pattern similar to that seen for SUVs.  Again, black is the most popular color and has the highest median price.  The median price for other popular colors (white, silver, and grey) were about the same as each other, and the IQRs for all colors mostly overlap, suggesting a weak relationship between color and price."
   ]
  },
  {
   "cell_type": "markdown",
   "metadata": {},
   "source": [
    "### Conclusion (EDA)\n",
    "By drawing histograms for various features, we identified outliers and other anomalies in the data (e.g., odometer readings of 0, prices of $1).  In some cases, we limited the range of the histogram or manually inspected a subset of the data to identify anomalous values.\n",
    "\n",
    "We filtered out the outliers and anomalies, and using the filtered data, we redrew the histograms.  We also used the filtered data to answer some questions about the data.  We found the average time an ad stays up, but we did not find a typical profile for ads that were taken down quickly, vs. those that were left up for a long time.\n",
    "\n",
    "We identified the most popular vehicle types among ad listings (truck and SUV) and looked at factors that influence the price.  As expected, we found negative correlations between price and features such as mileage and age, and we found a positive correlation betwen price and condition.  We found that the price of vehicles with the most popular colors (black and white) was somewhat higher than for other colors."
   ]
  },
  {
   "cell_type": "markdown",
   "metadata": {},
   "source": [
    "## Overall conclusion\n",
    "In this project, we explored how various features in vehicle ads influence the price of the vehicle.\n",
    "\n",
    "Our initial look at the data revealed missing values and incorrect data types.  Where possible, we filled in missing values based on other features in the listings, and we converted data types to <code>int</code>, <code>boolean</code>, and <code>datetime</code> as appropriate.  We combined redundant vehicle types, such as \"truck\" and \"pickup.\"  The web form used for ad submission should be improved to reduce missing data and to ensure data consistency.\n",
    "\n",
    "Next, we proceeded with exploratory data analysis.  We drew histograms to explore the distributions of several features and to identify outliers.  We filtered out the outliers and redrew the histograms.  We investigated the life cycle of an ad.  We found that ads are left up for a little more than a month, on average.  We searched for features that distinguish ads that are quickly taken down from those that are left up for a long time, but we didn't find significant differences between the two groups.\n",
    "\n",
    "We found that trucks and SUVs account for more than half of the ads.  Focusing on these two vehicle types, we delved into factors that influence the price of the vehicle.  We used hexbin plots to show how the price relates to numerical variables such as mileage and age.  We used boxplots to show how price is relates to categorical variables like condition and color.  There were few surprises here.  Newer vehicles, with lower mileage, in better condition, sell for higher prices.  Black and white were the most common colors among ad listings, and these colors also were associated with slightly higher prices."
   ]
  }
 ],
 "metadata": {
  "ExecuteTimeLog": [
   {
    "duration": 1270,
    "start_time": "2021-09-29T13:42:50.414Z"
   },
   {
    "duration": 28,
    "start_time": "2021-09-29T13:42:51.686Z"
   },
   {
    "duration": 12,
    "start_time": "2021-09-29T13:42:51.719Z"
   },
   {
    "duration": 6,
    "start_time": "2021-09-29T13:42:51.733Z"
   },
   {
    "duration": 5,
    "start_time": "2021-09-29T13:42:51.740Z"
   },
   {
    "duration": 9,
    "start_time": "2021-09-29T13:42:51.747Z"
   },
   {
    "duration": 43,
    "start_time": "2021-09-29T13:42:51.758Z"
   },
   {
    "duration": 271,
    "start_time": "2021-09-29T13:42:51.803Z"
   },
   {
    "duration": -523,
    "start_time": "2021-09-29T13:42:52.601Z"
   },
   {
    "duration": -529,
    "start_time": "2021-09-29T13:42:52.608Z"
   },
   {
    "duration": -534,
    "start_time": "2021-09-29T13:42:52.614Z"
   },
   {
    "duration": -540,
    "start_time": "2021-09-29T13:42:52.621Z"
   },
   {
    "duration": -548,
    "start_time": "2021-09-29T13:42:52.630Z"
   },
   {
    "duration": -555,
    "start_time": "2021-09-29T13:42:52.638Z"
   },
   {
    "duration": -561,
    "start_time": "2021-09-29T13:42:52.645Z"
   },
   {
    "duration": -567,
    "start_time": "2021-09-29T13:42:52.652Z"
   },
   {
    "duration": -574,
    "start_time": "2021-09-29T13:42:52.660Z"
   },
   {
    "duration": -581,
    "start_time": "2021-09-29T13:42:52.668Z"
   },
   {
    "duration": -586,
    "start_time": "2021-09-29T13:42:52.674Z"
   },
   {
    "duration": -601,
    "start_time": "2021-09-29T13:42:52.689Z"
   },
   {
    "duration": -625,
    "start_time": "2021-09-29T13:42:52.714Z"
   },
   {
    "duration": -631,
    "start_time": "2021-09-29T13:42:52.721Z"
   },
   {
    "duration": -638,
    "start_time": "2021-09-29T13:42:52.729Z"
   },
   {
    "duration": -645,
    "start_time": "2021-09-29T13:42:52.737Z"
   },
   {
    "duration": -650,
    "start_time": "2021-09-29T13:42:52.743Z"
   },
   {
    "duration": -656,
    "start_time": "2021-09-29T13:42:52.750Z"
   },
   {
    "duration": -661,
    "start_time": "2021-09-29T13:42:52.756Z"
   },
   {
    "duration": -667,
    "start_time": "2021-09-29T13:42:52.763Z"
   },
   {
    "duration": -672,
    "start_time": "2021-09-29T13:42:52.769Z"
   },
   {
    "duration": -678,
    "start_time": "2021-09-29T13:42:52.776Z"
   },
   {
    "duration": -683,
    "start_time": "2021-09-29T13:42:52.783Z"
   },
   {
    "duration": -691,
    "start_time": "2021-09-29T13:42:52.793Z"
   },
   {
    "duration": -698,
    "start_time": "2021-09-29T13:42:52.801Z"
   },
   {
    "duration": -703,
    "start_time": "2021-09-29T13:42:52.808Z"
   },
   {
    "duration": -716,
    "start_time": "2021-09-29T13:42:52.823Z"
   },
   {
    "duration": -721,
    "start_time": "2021-09-29T13:42:52.830Z"
   },
   {
    "duration": -725,
    "start_time": "2021-09-29T13:42:52.836Z"
   },
   {
    "duration": -731,
    "start_time": "2021-09-29T13:42:52.843Z"
   },
   {
    "duration": -735,
    "start_time": "2021-09-29T13:42:52.848Z"
   },
   {
    "duration": -740,
    "start_time": "2021-09-29T13:42:52.854Z"
   },
   {
    "duration": -744,
    "start_time": "2021-09-29T13:42:52.859Z"
   },
   {
    "duration": -749,
    "start_time": "2021-09-29T13:42:52.866Z"
   },
   {
    "duration": -753,
    "start_time": "2021-09-29T13:42:52.871Z"
   },
   {
    "duration": -759,
    "start_time": "2021-09-29T13:42:52.878Z"
   },
   {
    "duration": -763,
    "start_time": "2021-09-29T13:42:52.883Z"
   },
   {
    "duration": -769,
    "start_time": "2021-09-29T13:42:52.890Z"
   },
   {
    "duration": -774,
    "start_time": "2021-09-29T13:42:52.896Z"
   },
   {
    "duration": -783,
    "start_time": "2021-09-29T13:42:52.909Z"
   },
   {
    "duration": -788,
    "start_time": "2021-09-29T13:42:52.915Z"
   },
   {
    "duration": -794,
    "start_time": "2021-09-29T13:42:52.923Z"
   },
   {
    "duration": -811,
    "start_time": "2021-09-29T13:42:52.941Z"
   },
   {
    "duration": -817,
    "start_time": "2021-09-29T13:42:52.949Z"
   },
   {
    "duration": -819,
    "start_time": "2021-09-29T13:42:52.952Z"
   },
   {
    "duration": -821,
    "start_time": "2021-09-29T13:42:52.956Z"
   },
   {
    "duration": -824,
    "start_time": "2021-09-29T13:42:52.960Z"
   },
   {
    "duration": -826,
    "start_time": "2021-09-29T13:42:52.964Z"
   },
   {
    "duration": -827,
    "start_time": "2021-09-29T13:42:52.967Z"
   },
   {
    "duration": -773,
    "start_time": "2021-09-29T13:42:52.971Z"
   },
   {
    "duration": 1835,
    "start_time": "2021-09-30T10:59:05.688Z"
   },
   {
    "duration": 43,
    "start_time": "2021-09-30T10:59:07.525Z"
   },
   {
    "duration": 31,
    "start_time": "2021-09-30T10:59:07.572Z"
   },
   {
    "duration": 11,
    "start_time": "2021-09-30T10:59:07.606Z"
   },
   {
    "duration": 8,
    "start_time": "2021-09-30T10:59:07.620Z"
   },
   {
    "duration": 53,
    "start_time": "2021-09-30T10:59:07.630Z"
   },
   {
    "duration": 7,
    "start_time": "2021-09-30T10:59:07.688Z"
   },
   {
    "duration": 453,
    "start_time": "2021-09-30T10:59:07.700Z"
   },
   {
    "duration": -59,
    "start_time": "2021-09-30T10:59:08.217Z"
   },
   {
    "duration": -61,
    "start_time": "2021-09-30T10:59:08.221Z"
   },
   {
    "duration": -64,
    "start_time": "2021-09-30T10:59:08.225Z"
   },
   {
    "duration": -69,
    "start_time": "2021-09-30T10:59:08.231Z"
   },
   {
    "duration": -72,
    "start_time": "2021-09-30T10:59:08.235Z"
   },
   {
    "duration": -76,
    "start_time": "2021-09-30T10:59:08.240Z"
   },
   {
    "duration": -77,
    "start_time": "2021-09-30T10:59:08.243Z"
   },
   {
    "duration": -89,
    "start_time": "2021-09-30T10:59:08.256Z"
   },
   {
    "duration": -92,
    "start_time": "2021-09-30T10:59:08.261Z"
   },
   {
    "duration": -95,
    "start_time": "2021-09-30T10:59:08.266Z"
   },
   {
    "duration": -97,
    "start_time": "2021-09-30T10:59:08.270Z"
   },
   {
    "duration": -100,
    "start_time": "2021-09-30T10:59:08.274Z"
   },
   {
    "duration": -104,
    "start_time": "2021-09-30T10:59:08.278Z"
   },
   {
    "duration": -108,
    "start_time": "2021-09-30T10:59:08.284Z"
   },
   {
    "duration": -111,
    "start_time": "2021-09-30T10:59:08.289Z"
   },
   {
    "duration": -115,
    "start_time": "2021-09-30T10:59:08.293Z"
   },
   {
    "duration": -119,
    "start_time": "2021-09-30T10:59:08.298Z"
   },
   {
    "duration": -128,
    "start_time": "2021-09-30T10:59:08.309Z"
   },
   {
    "duration": -134,
    "start_time": "2021-09-30T10:59:08.316Z"
   },
   {
    "duration": -138,
    "start_time": "2021-09-30T10:59:08.321Z"
   },
   {
    "duration": -140,
    "start_time": "2021-09-30T10:59:08.325Z"
   },
   {
    "duration": -145,
    "start_time": "2021-09-30T10:59:08.331Z"
   },
   {
    "duration": -147,
    "start_time": "2021-09-30T10:59:08.334Z"
   },
   {
    "duration": -150,
    "start_time": "2021-09-30T10:59:08.339Z"
   },
   {
    "duration": -153,
    "start_time": "2021-09-30T10:59:08.343Z"
   },
   {
    "duration": -175,
    "start_time": "2021-09-30T10:59:08.366Z"
   },
   {
    "duration": -179,
    "start_time": "2021-09-30T10:59:08.371Z"
   },
   {
    "duration": -182,
    "start_time": "2021-09-30T10:59:08.376Z"
   },
   {
    "duration": -210,
    "start_time": "2021-09-30T10:59:08.406Z"
   },
   {
    "duration": -216,
    "start_time": "2021-09-30T10:59:08.413Z"
   },
   {
    "duration": -218,
    "start_time": "2021-09-30T10:59:08.417Z"
   },
   {
    "duration": -222,
    "start_time": "2021-09-30T10:59:08.422Z"
   },
   {
    "duration": -226,
    "start_time": "2021-09-30T10:59:08.427Z"
   },
   {
    "duration": -229,
    "start_time": "2021-09-30T10:59:08.432Z"
   },
   {
    "duration": -246,
    "start_time": "2021-09-30T10:59:08.451Z"
   },
   {
    "duration": -250,
    "start_time": "2021-09-30T10:59:08.456Z"
   },
   {
    "duration": -281,
    "start_time": "2021-09-30T10:59:08.488Z"
   },
   {
    "duration": -284,
    "start_time": "2021-09-30T10:59:08.492Z"
   },
   {
    "duration": -294,
    "start_time": "2021-09-30T10:59:08.561Z"
   },
   {
    "duration": -365,
    "start_time": "2021-09-30T10:59:08.633Z"
   },
   {
    "duration": -367,
    "start_time": "2021-09-30T10:59:08.637Z"
   },
   {
    "duration": -370,
    "start_time": "2021-09-30T10:59:08.641Z"
   },
   {
    "duration": -373,
    "start_time": "2021-09-30T10:59:08.645Z"
   },
   {
    "duration": -376,
    "start_time": "2021-09-30T10:59:08.650Z"
   },
   {
    "duration": -377,
    "start_time": "2021-09-30T10:59:08.653Z"
   },
   {
    "duration": -378,
    "start_time": "2021-09-30T10:59:08.658Z"
   },
   {
    "duration": -375,
    "start_time": "2021-09-30T10:59:08.662Z"
   },
   {
    "duration": -380,
    "start_time": "2021-09-30T10:59:08.669Z"
   },
   {
    "duration": -382,
    "start_time": "2021-09-30T10:59:08.673Z"
   },
   {
    "duration": -384,
    "start_time": "2021-09-30T10:59:08.677Z"
   },
   {
    "duration": 1678,
    "start_time": "2021-09-30T20:43:51.858Z"
   },
   {
    "duration": 24,
    "start_time": "2021-09-30T20:43:53.539Z"
   },
   {
    "duration": 36,
    "start_time": "2021-09-30T20:43:53.566Z"
   },
   {
    "duration": 25,
    "start_time": "2021-09-30T20:43:53.604Z"
   },
   {
    "duration": 17,
    "start_time": "2021-09-30T20:43:53.632Z"
   },
   {
    "duration": 40,
    "start_time": "2021-09-30T20:43:53.652Z"
   },
   {
    "duration": 9,
    "start_time": "2021-09-30T20:43:53.694Z"
   },
   {
    "duration": 474,
    "start_time": "2021-09-30T20:44:00.311Z"
   },
   {
    "duration": 77,
    "start_time": "2021-09-30T21:25:15.702Z"
   },
   {
    "duration": 7,
    "start_time": "2021-09-30T21:26:10.591Z"
   },
   {
    "duration": 8,
    "start_time": "2021-09-30T21:26:11.074Z"
   },
   {
    "duration": 712,
    "start_time": "2021-09-30T21:50:30.568Z"
   },
   {
    "duration": 22,
    "start_time": "2021-09-30T21:50:31.283Z"
   },
   {
    "duration": 20,
    "start_time": "2021-09-30T21:50:31.324Z"
   },
   {
    "duration": 34,
    "start_time": "2021-09-30T21:50:31.347Z"
   },
   {
    "duration": 22,
    "start_time": "2021-09-30T21:50:31.384Z"
   },
   {
    "duration": 32,
    "start_time": "2021-09-30T21:50:31.409Z"
   },
   {
    "duration": 19,
    "start_time": "2021-09-30T21:50:31.443Z"
   },
   {
    "duration": 86,
    "start_time": "2021-09-30T21:50:31.466Z"
   },
   {
    "duration": 7,
    "start_time": "2021-09-30T21:50:31.555Z"
   },
   {
    "duration": 34,
    "start_time": "2021-09-30T21:50:31.564Z"
   },
   {
    "duration": 311,
    "start_time": "2021-09-30T21:50:31.600Z"
   },
   {
    "duration": -164,
    "start_time": "2021-09-30T21:50:32.079Z"
   },
   {
    "duration": -166,
    "start_time": "2021-09-30T21:50:32.083Z"
   },
   {
    "duration": -168,
    "start_time": "2021-09-30T21:50:32.086Z"
   },
   {
    "duration": -168,
    "start_time": "2021-09-30T21:50:32.088Z"
   },
   {
    "duration": -170,
    "start_time": "2021-09-30T21:50:32.091Z"
   },
   {
    "duration": -170,
    "start_time": "2021-09-30T21:50:32.093Z"
   },
   {
    "duration": -322,
    "start_time": "2021-09-30T21:50:32.246Z"
   },
   {
    "duration": -342,
    "start_time": "2021-09-30T21:50:32.267Z"
   },
   {
    "duration": -342,
    "start_time": "2021-09-30T21:50:32.269Z"
   },
   {
    "duration": -342,
    "start_time": "2021-09-30T21:50:32.270Z"
   },
   {
    "duration": -342,
    "start_time": "2021-09-30T21:50:32.271Z"
   },
   {
    "duration": -342,
    "start_time": "2021-09-30T21:50:32.273Z"
   },
   {
    "duration": -342,
    "start_time": "2021-09-30T21:50:32.274Z"
   },
   {
    "duration": -342,
    "start_time": "2021-09-30T21:50:32.275Z"
   },
   {
    "duration": -341,
    "start_time": "2021-09-30T21:50:32.276Z"
   },
   {
    "duration": -341,
    "start_time": "2021-09-30T21:50:32.277Z"
   },
   {
    "duration": -341,
    "start_time": "2021-09-30T21:50:32.278Z"
   },
   {
    "duration": -341,
    "start_time": "2021-09-30T21:50:32.280Z"
   },
   {
    "duration": -341,
    "start_time": "2021-09-30T21:50:32.281Z"
   },
   {
    "duration": -435,
    "start_time": "2021-09-30T21:50:32.376Z"
   },
   {
    "duration": -472,
    "start_time": "2021-09-30T21:50:32.414Z"
   },
   {
    "duration": -471,
    "start_time": "2021-09-30T21:50:32.415Z"
   },
   {
    "duration": -471,
    "start_time": "2021-09-30T21:50:32.416Z"
   },
   {
    "duration": -470,
    "start_time": "2021-09-30T21:50:32.417Z"
   },
   {
    "duration": -471,
    "start_time": "2021-09-30T21:50:32.419Z"
   },
   {
    "duration": -471,
    "start_time": "2021-09-30T21:50:32.420Z"
   },
   {
    "duration": -470,
    "start_time": "2021-09-30T21:50:32.421Z"
   },
   {
    "duration": -470,
    "start_time": "2021-09-30T21:50:32.422Z"
   },
   {
    "duration": -493,
    "start_time": "2021-09-30T21:50:32.446Z"
   },
   {
    "duration": -492,
    "start_time": "2021-09-30T21:50:32.447Z"
   },
   {
    "duration": -492,
    "start_time": "2021-09-30T21:50:32.448Z"
   },
   {
    "duration": -518,
    "start_time": "2021-09-30T21:50:32.476Z"
   },
   {
    "duration": -523,
    "start_time": "2021-09-30T21:50:32.482Z"
   },
   {
    "duration": -588,
    "start_time": "2021-09-30T21:50:32.548Z"
   },
   {
    "duration": -587,
    "start_time": "2021-09-30T21:50:32.549Z"
   },
   {
    "duration": -588,
    "start_time": "2021-09-30T21:50:32.551Z"
   },
   {
    "duration": -588,
    "start_time": "2021-09-30T21:50:32.552Z"
   },
   {
    "duration": -531,
    "start_time": "2021-09-30T21:50:32.553Z"
   },
   {
    "duration": -531,
    "start_time": "2021-09-30T21:50:32.554Z"
   },
   {
    "duration": -531,
    "start_time": "2021-09-30T21:50:32.555Z"
   },
   {
    "duration": -530,
    "start_time": "2021-09-30T21:50:32.556Z"
   },
   {
    "duration": -530,
    "start_time": "2021-09-30T21:50:32.557Z"
   },
   {
    "duration": -530,
    "start_time": "2021-09-30T21:50:32.558Z"
   },
   {
    "duration": -529,
    "start_time": "2021-09-30T21:50:32.559Z"
   },
   {
    "duration": -530,
    "start_time": "2021-09-30T21:50:32.561Z"
   },
   {
    "duration": -530,
    "start_time": "2021-09-30T21:50:32.562Z"
   },
   {
    "duration": -530,
    "start_time": "2021-09-30T21:50:32.563Z"
   },
   {
    "duration": 338,
    "start_time": "2021-09-30T21:51:00.125Z"
   },
   {
    "duration": 20,
    "start_time": "2021-09-30T21:51:01.461Z"
   },
   {
    "duration": 20,
    "start_time": "2021-09-30T21:51:03.145Z"
   },
   {
    "duration": 9,
    "start_time": "2021-09-30T21:51:10.195Z"
   },
   {
    "duration": 7,
    "start_time": "2021-09-30T21:51:13.122Z"
   },
   {
    "duration": 14,
    "start_time": "2021-09-30T21:51:14.162Z"
   },
   {
    "duration": 6,
    "start_time": "2021-09-30T21:51:15.461Z"
   },
   {
    "duration": 75,
    "start_time": "2021-09-30T21:51:19.894Z"
   },
   {
    "duration": 7,
    "start_time": "2021-09-30T21:51:20.644Z"
   },
   {
    "duration": 7,
    "start_time": "2021-09-30T21:51:21.513Z"
   },
   {
    "duration": 1666,
    "start_time": "2021-10-01T03:31:03.756Z"
   },
   {
    "duration": 23,
    "start_time": "2021-10-01T03:31:05.425Z"
   },
   {
    "duration": 44,
    "start_time": "2021-10-01T03:31:05.451Z"
   },
   {
    "duration": 31,
    "start_time": "2021-10-01T03:31:05.498Z"
   },
   {
    "duration": 22,
    "start_time": "2021-10-01T03:31:05.531Z"
   },
   {
    "duration": 22,
    "start_time": "2021-10-01T03:31:05.555Z"
   },
   {
    "duration": 14,
    "start_time": "2021-10-01T03:31:25.108Z"
   },
   {
    "duration": 7,
    "start_time": "2021-10-01T03:31:26.192Z"
   },
   {
    "duration": 281,
    "start_time": "2021-10-01T03:31:41.662Z"
   },
   {
    "duration": 20,
    "start_time": "2021-10-01T03:31:41.946Z"
   },
   {
    "duration": 18,
    "start_time": "2021-10-01T03:31:41.984Z"
   },
   {
    "duration": 7,
    "start_time": "2021-10-01T03:31:42.005Z"
   },
   {
    "duration": 5,
    "start_time": "2021-10-01T03:31:42.015Z"
   },
   {
    "duration": 13,
    "start_time": "2021-10-01T03:31:42.023Z"
   },
   {
    "duration": 46,
    "start_time": "2021-10-01T03:31:42.038Z"
   },
   {
    "duration": 8,
    "start_time": "2021-10-01T03:32:01.035Z"
   },
   {
    "duration": 296,
    "start_time": "2021-10-01T03:32:32.782Z"
   },
   {
    "duration": 279,
    "start_time": "2021-10-01T03:33:54.373Z"
   },
   {
    "duration": 27,
    "start_time": "2021-10-01T03:33:54.655Z"
   },
   {
    "duration": 20,
    "start_time": "2021-10-01T03:33:54.685Z"
   },
   {
    "duration": 9,
    "start_time": "2021-10-01T03:33:54.707Z"
   },
   {
    "duration": 7,
    "start_time": "2021-10-01T03:33:57.323Z"
   },
   {
    "duration": 14,
    "start_time": "2021-10-01T03:34:25.845Z"
   },
   {
    "duration": 6,
    "start_time": "2021-10-01T03:34:26.606Z"
   },
   {
    "duration": 7,
    "start_time": "2021-10-01T03:34:40.008Z"
   },
   {
    "duration": 276,
    "start_time": "2021-10-01T03:34:55.151Z"
   },
   {
    "duration": 20,
    "start_time": "2021-10-01T03:34:55.430Z"
   },
   {
    "duration": 36,
    "start_time": "2021-10-01T03:34:55.453Z"
   },
   {
    "duration": 8,
    "start_time": "2021-10-01T03:34:55.492Z"
   },
   {
    "duration": 6,
    "start_time": "2021-10-01T03:34:55.503Z"
   },
   {
    "duration": 7,
    "start_time": "2021-10-01T03:35:01.646Z"
   },
   {
    "duration": 469,
    "start_time": "2021-10-01T03:35:21.134Z"
   },
   {
    "duration": 18,
    "start_time": "2021-10-01T03:35:21.606Z"
   },
   {
    "duration": 19,
    "start_time": "2021-10-01T03:35:21.627Z"
   },
   {
    "duration": 34,
    "start_time": "2021-10-01T03:35:21.649Z"
   },
   {
    "duration": 6,
    "start_time": "2021-10-01T03:35:21.685Z"
   },
   {
    "duration": 14,
    "start_time": "2021-10-01T03:35:21.693Z"
   },
   {
    "duration": 14,
    "start_time": "2021-10-01T03:35:41.068Z"
   },
   {
    "duration": 7,
    "start_time": "2021-10-01T03:35:44.158Z"
   },
   {
    "duration": 309,
    "start_time": "2021-10-01T03:36:01.162Z"
   },
   {
    "duration": 19,
    "start_time": "2021-10-01T03:36:01.473Z"
   },
   {
    "duration": 21,
    "start_time": "2021-10-01T03:36:01.496Z"
   },
   {
    "duration": 12,
    "start_time": "2021-10-01T03:36:01.519Z"
   },
   {
    "duration": 11,
    "start_time": "2021-10-01T03:36:01.534Z"
   },
   {
    "duration": 8,
    "start_time": "2021-10-01T03:36:05.604Z"
   },
   {
    "duration": 14,
    "start_time": "2021-10-01T03:36:09.624Z"
   },
   {
    "duration": 8,
    "start_time": "2021-10-01T03:36:12.524Z"
   },
   {
    "duration": 17,
    "start_time": "2021-10-01T03:36:31.265Z"
   },
   {
    "duration": 6,
    "start_time": "2021-10-01T03:37:26.975Z"
   },
   {
    "duration": 10,
    "start_time": "2021-10-01T03:38:06.406Z"
   },
   {
    "duration": 9,
    "start_time": "2021-10-01T03:38:19.668Z"
   },
   {
    "duration": 107,
    "start_time": "2021-10-01T03:38:36.068Z"
   },
   {
    "duration": 15,
    "start_time": "2021-10-01T03:39:13.183Z"
   },
   {
    "duration": 312,
    "start_time": "2021-10-01T03:39:38.886Z"
   },
   {
    "duration": 19,
    "start_time": "2021-10-01T03:39:39.201Z"
   },
   {
    "duration": 26,
    "start_time": "2021-10-01T03:39:39.223Z"
   },
   {
    "duration": 31,
    "start_time": "2021-10-01T03:39:39.251Z"
   },
   {
    "duration": 38,
    "start_time": "2021-10-01T03:39:45.649Z"
   },
   {
    "duration": 22,
    "start_time": "2021-10-01T03:39:56.406Z"
   },
   {
    "duration": 12,
    "start_time": "2021-10-01T03:40:37.565Z"
   },
   {
    "duration": 11,
    "start_time": "2021-10-01T03:41:28.145Z"
   },
   {
    "duration": 2854,
    "start_time": "2021-10-01T03:41:35.801Z"
   },
   {
    "duration": 38,
    "start_time": "2021-10-01T03:42:11.784Z"
   },
   {
    "duration": 107,
    "start_time": "2021-10-01T03:42:49.376Z"
   },
   {
    "duration": 36,
    "start_time": "2021-10-01T03:42:58.454Z"
   },
   {
    "duration": 34,
    "start_time": "2021-10-01T03:43:17.381Z"
   },
   {
    "duration": 13,
    "start_time": "2021-10-01T03:43:35.591Z"
   },
   {
    "duration": 10,
    "start_time": "2021-10-01T03:43:46.470Z"
   },
   {
    "duration": 24,
    "start_time": "2021-10-01T03:44:28.081Z"
   },
   {
    "duration": 10,
    "start_time": "2021-10-01T03:45:14.278Z"
   },
   {
    "duration": 292,
    "start_time": "2021-10-01T03:45:42.173Z"
   },
   {
    "duration": 25,
    "start_time": "2021-10-01T03:45:42.467Z"
   },
   {
    "duration": 20,
    "start_time": "2021-10-01T03:45:42.495Z"
   },
   {
    "duration": 11,
    "start_time": "2021-10-01T03:45:42.518Z"
   },
   {
    "duration": 16,
    "start_time": "2021-10-01T03:45:42.533Z"
   },
   {
    "duration": 10,
    "start_time": "2021-10-01T03:45:45.578Z"
   },
   {
    "duration": 14,
    "start_time": "2021-10-01T03:45:47.810Z"
   },
   {
    "duration": 8,
    "start_time": "2021-10-01T03:45:51.257Z"
   },
   {
    "duration": 74,
    "start_time": "2021-10-01T03:46:48.791Z"
   },
   {
    "duration": 7,
    "start_time": "2021-10-01T03:47:03.484Z"
   },
   {
    "duration": 7,
    "start_time": "2021-10-01T03:47:05.858Z"
   },
   {
    "duration": 309,
    "start_time": "2021-10-01T03:55:23.682Z"
   },
   {
    "duration": 20,
    "start_time": "2021-10-01T03:55:23.994Z"
   },
   {
    "duration": 21,
    "start_time": "2021-10-01T03:55:24.018Z"
   },
   {
    "duration": 9,
    "start_time": "2021-10-01T03:55:24.042Z"
   },
   {
    "duration": 11,
    "start_time": "2021-10-01T03:55:24.083Z"
   },
   {
    "duration": 14,
    "start_time": "2021-10-01T03:55:24.096Z"
   },
   {
    "duration": 8,
    "start_time": "2021-10-01T03:55:24.112Z"
   },
   {
    "duration": 71,
    "start_time": "2021-10-01T03:55:43.750Z"
   },
   {
    "duration": 8,
    "start_time": "2021-10-01T03:55:59.346Z"
   },
   {
    "duration": 7,
    "start_time": "2021-10-01T03:56:00.522Z"
   },
   {
    "duration": 278,
    "start_time": "2021-10-01T03:59:48.541Z"
   },
   {
    "duration": 20,
    "start_time": "2021-10-01T03:59:48.822Z"
   },
   {
    "duration": 42,
    "start_time": "2021-10-01T03:59:48.847Z"
   },
   {
    "duration": 15,
    "start_time": "2021-10-01T03:59:48.893Z"
   },
   {
    "duration": 11,
    "start_time": "2021-10-01T03:59:48.911Z"
   },
   {
    "duration": 15,
    "start_time": "2021-10-01T03:59:48.925Z"
   },
   {
    "duration": 43,
    "start_time": "2021-10-01T03:59:48.943Z"
   },
   {
    "duration": 74,
    "start_time": "2021-10-01T04:00:00.871Z"
   },
   {
    "duration": 7,
    "start_time": "2021-10-01T04:00:33.823Z"
   },
   {
    "duration": 7,
    "start_time": "2021-10-01T04:00:35.224Z"
   },
   {
    "duration": 294,
    "start_time": "2021-10-01T04:05:11.518Z"
   },
   {
    "duration": 19,
    "start_time": "2021-10-01T04:05:11.814Z"
   },
   {
    "duration": 20,
    "start_time": "2021-10-01T04:05:11.836Z"
   },
   {
    "duration": 25,
    "start_time": "2021-10-01T04:05:11.858Z"
   },
   {
    "duration": 8,
    "start_time": "2021-10-01T04:05:11.886Z"
   },
   {
    "duration": 13,
    "start_time": "2021-10-01T04:05:11.897Z"
   },
   {
    "duration": 8,
    "start_time": "2021-10-01T04:05:11.912Z"
   },
   {
    "duration": 790,
    "start_time": "2021-10-01T04:05:21.568Z"
   },
   {
    "duration": 6,
    "start_time": "2021-10-01T04:05:22.504Z"
   },
   {
    "duration": 523,
    "start_time": "2021-10-01T04:07:26.658Z"
   },
   {
    "duration": 316,
    "start_time": "2021-10-01T04:08:12.846Z"
   },
   {
    "duration": 26,
    "start_time": "2021-10-01T04:08:13.165Z"
   },
   {
    "duration": 19,
    "start_time": "2021-10-01T04:08:13.194Z"
   },
   {
    "duration": 10,
    "start_time": "2021-10-01T04:08:13.215Z"
   },
   {
    "duration": 10,
    "start_time": "2021-10-01T04:08:13.227Z"
   },
   {
    "duration": 42,
    "start_time": "2021-10-01T04:08:13.240Z"
   },
   {
    "duration": 9,
    "start_time": "2021-10-01T04:08:13.285Z"
   },
   {
    "duration": 21,
    "start_time": "2021-10-01T04:08:17.160Z"
   },
   {
    "duration": 29,
    "start_time": "2021-10-01T04:08:43.010Z"
   },
   {
    "duration": 27,
    "start_time": "2021-10-01T04:09:29.811Z"
   },
   {
    "duration": 29,
    "start_time": "2021-10-01T04:10:14.531Z"
   },
   {
    "duration": 27,
    "start_time": "2021-10-01T04:13:07.173Z"
   },
   {
    "duration": 22,
    "start_time": "2021-10-01T04:16:14.554Z"
   },
   {
    "duration": 319,
    "start_time": "2021-10-01T04:16:45.565Z"
   },
   {
    "duration": 19,
    "start_time": "2021-10-01T04:16:45.887Z"
   },
   {
    "duration": 23,
    "start_time": "2021-10-01T04:16:45.909Z"
   },
   {
    "duration": 7,
    "start_time": "2021-10-01T04:16:45.935Z"
   },
   {
    "duration": 47,
    "start_time": "2021-10-01T04:16:45.944Z"
   },
   {
    "duration": 21,
    "start_time": "2021-10-01T04:16:45.993Z"
   },
   {
    "duration": 8,
    "start_time": "2021-10-01T04:16:46.016Z"
   },
   {
    "duration": 1518,
    "start_time": "2021-10-01T04:16:53.469Z"
   },
   {
    "duration": 7,
    "start_time": "2021-10-01T04:16:56.890Z"
   },
   {
    "duration": 323,
    "start_time": "2021-10-01T04:17:57.471Z"
   },
   {
    "duration": 20,
    "start_time": "2021-10-01T04:17:57.796Z"
   },
   {
    "duration": 21,
    "start_time": "2021-10-01T04:17:57.820Z"
   },
   {
    "duration": 40,
    "start_time": "2021-10-01T04:17:57.844Z"
   },
   {
    "duration": 9,
    "start_time": "2021-10-01T04:17:57.887Z"
   },
   {
    "duration": 18,
    "start_time": "2021-10-01T04:17:57.898Z"
   },
   {
    "duration": 8,
    "start_time": "2021-10-01T04:17:57.918Z"
   },
   {
    "duration": 1383,
    "start_time": "2021-10-01T04:18:02.927Z"
   },
   {
    "duration": 325,
    "start_time": "2021-10-01T04:20:04.977Z"
   },
   {
    "duration": 19,
    "start_time": "2021-10-01T04:20:05.304Z"
   },
   {
    "duration": 21,
    "start_time": "2021-10-01T04:20:05.326Z"
   },
   {
    "duration": 34,
    "start_time": "2021-10-01T04:20:05.350Z"
   },
   {
    "duration": 12,
    "start_time": "2021-10-01T04:20:05.386Z"
   },
   {
    "duration": 12,
    "start_time": "2021-10-01T04:20:05.401Z"
   },
   {
    "duration": 7,
    "start_time": "2021-10-01T04:20:05.416Z"
   },
   {
    "duration": 703,
    "start_time": "2021-10-01T04:20:10.928Z"
   },
   {
    "duration": 6,
    "start_time": "2021-10-01T04:20:13.578Z"
   },
   {
    "duration": 8,
    "start_time": "2021-10-01T04:20:52.289Z"
   },
   {
    "duration": 20,
    "start_time": "2021-10-01T04:21:26.246Z"
   },
   {
    "duration": 335,
    "start_time": "2021-10-01T04:25:55.668Z"
   },
   {
    "duration": 20,
    "start_time": "2021-10-01T04:25:56.006Z"
   },
   {
    "duration": 23,
    "start_time": "2021-10-01T04:25:56.030Z"
   },
   {
    "duration": 29,
    "start_time": "2021-10-01T04:25:56.056Z"
   },
   {
    "duration": 8,
    "start_time": "2021-10-01T04:25:56.087Z"
   },
   {
    "duration": 13,
    "start_time": "2021-10-01T04:25:56.098Z"
   },
   {
    "duration": 7,
    "start_time": "2021-10-01T04:25:56.113Z"
   },
   {
    "duration": 8203,
    "start_time": "2021-10-01T04:25:59.615Z"
   },
   {
    "duration": 6,
    "start_time": "2021-10-01T04:26:07.821Z"
   },
   {
    "duration": 7,
    "start_time": "2021-10-01T04:26:11.810Z"
   },
   {
    "duration": 6,
    "start_time": "2021-10-01T04:27:05.537Z"
   },
   {
    "duration": 294,
    "start_time": "2021-10-01T04:27:11.614Z"
   },
   {
    "duration": 21,
    "start_time": "2021-10-01T04:27:11.911Z"
   },
   {
    "duration": 46,
    "start_time": "2021-10-01T04:27:11.936Z"
   },
   {
    "duration": 9,
    "start_time": "2021-10-01T04:27:11.986Z"
   },
   {
    "duration": 11,
    "start_time": "2021-10-01T04:27:11.998Z"
   },
   {
    "duration": 17,
    "start_time": "2021-10-01T04:27:12.011Z"
   },
   {
    "duration": 9,
    "start_time": "2021-10-01T04:27:12.030Z"
   },
   {
    "duration": 8,
    "start_time": "2021-10-01T04:27:12.082Z"
   },
   {
    "duration": 7,
    "start_time": "2021-10-01T04:27:26.712Z"
   },
   {
    "duration": 8246,
    "start_time": "2021-10-01T04:27:28.922Z"
   },
   {
    "duration": 6,
    "start_time": "2021-10-01T04:27:37.171Z"
   },
   {
    "duration": 6,
    "start_time": "2021-10-01T04:27:46.453Z"
   },
   {
    "duration": 7505,
    "start_time": "2021-10-01T04:28:47.708Z"
   },
   {
    "duration": 7656,
    "start_time": "2021-10-01T04:29:00.648Z"
   },
   {
    "duration": 273,
    "start_time": "2021-10-01T04:32:37.540Z"
   },
   {
    "duration": 19,
    "start_time": "2021-10-01T04:32:37.815Z"
   },
   {
    "duration": 22,
    "start_time": "2021-10-01T04:32:37.838Z"
   },
   {
    "duration": 21,
    "start_time": "2021-10-01T04:32:37.863Z"
   },
   {
    "duration": 10,
    "start_time": "2021-10-01T04:32:37.886Z"
   },
   {
    "duration": 14,
    "start_time": "2021-10-01T04:32:37.899Z"
   },
   {
    "duration": 9,
    "start_time": "2021-10-01T04:32:37.915Z"
   },
   {
    "duration": 11,
    "start_time": "2021-10-01T04:32:37.926Z"
   },
   {
    "duration": 7,
    "start_time": "2021-10-01T04:32:41.856Z"
   },
   {
    "duration": 1354,
    "start_time": "2021-10-01T04:32:44.093Z"
   },
   {
    "duration": 6,
    "start_time": "2021-10-01T04:32:48.035Z"
   },
   {
    "duration": 267,
    "start_time": "2021-10-01T04:36:34.608Z"
   },
   {
    "duration": 20,
    "start_time": "2021-10-01T04:36:34.878Z"
   },
   {
    "duration": 19,
    "start_time": "2021-10-01T04:36:34.902Z"
   },
   {
    "duration": 8,
    "start_time": "2021-10-01T04:36:34.924Z"
   },
   {
    "duration": 11,
    "start_time": "2021-10-01T04:36:34.934Z"
   },
   {
    "duration": 14,
    "start_time": "2021-10-01T04:36:34.983Z"
   },
   {
    "duration": 8,
    "start_time": "2021-10-01T04:36:34.999Z"
   },
   {
    "duration": 6,
    "start_time": "2021-10-01T04:36:35.010Z"
   },
   {
    "duration": 7,
    "start_time": "2021-10-01T04:36:37.549Z"
   },
   {
    "duration": 1874,
    "start_time": "2021-10-01T04:36:42.982Z"
   },
   {
    "duration": -263,
    "start_time": "2021-10-01T04:36:45.121Z"
   },
   {
    "duration": 32,
    "start_time": "2021-10-01T04:37:32.274Z"
   },
   {
    "duration": 6,
    "start_time": "2021-10-01T04:37:40.234Z"
   },
   {
    "duration": 8,
    "start_time": "2021-10-01T04:37:44.028Z"
   },
   {
    "duration": 53,
    "start_time": "2021-10-01T04:38:07.734Z"
   },
   {
    "duration": 321,
    "start_time": "2021-10-01T04:40:04.924Z"
   },
   {
    "duration": 20,
    "start_time": "2021-10-01T04:40:05.248Z"
   },
   {
    "duration": 20,
    "start_time": "2021-10-01T04:40:05.284Z"
   },
   {
    "duration": 14,
    "start_time": "2021-10-01T04:40:05.307Z"
   },
   {
    "duration": 10,
    "start_time": "2021-10-01T04:40:05.324Z"
   },
   {
    "duration": 15,
    "start_time": "2021-10-01T04:40:05.336Z"
   },
   {
    "duration": 10,
    "start_time": "2021-10-01T04:40:05.383Z"
   },
   {
    "duration": 14,
    "start_time": "2021-10-01T04:40:05.396Z"
   },
   {
    "duration": 7,
    "start_time": "2021-10-01T04:40:09.067Z"
   },
   {
    "duration": 1630,
    "start_time": "2021-10-01T04:40:10.859Z"
   },
   {
    "duration": 52,
    "start_time": "2021-10-01T04:40:51.450Z"
   },
   {
    "duration": 567,
    "start_time": "2021-10-01T04:41:10.842Z"
   },
   {
    "duration": 7,
    "start_time": "2021-10-01T04:41:13.548Z"
   },
   {
    "duration": 7,
    "start_time": "2021-10-01T04:41:14.739Z"
   },
   {
    "duration": 283,
    "start_time": "2021-10-01T04:41:57.964Z"
   },
   {
    "duration": 19,
    "start_time": "2021-10-01T04:41:58.249Z"
   },
   {
    "duration": 28,
    "start_time": "2021-10-01T04:41:58.271Z"
   },
   {
    "duration": 9,
    "start_time": "2021-10-01T04:41:58.303Z"
   },
   {
    "duration": 10,
    "start_time": "2021-10-01T04:41:58.315Z"
   },
   {
    "duration": 60,
    "start_time": "2021-10-01T04:41:58.328Z"
   },
   {
    "duration": 10,
    "start_time": "2021-10-01T04:41:58.390Z"
   },
   {
    "duration": 7,
    "start_time": "2021-10-01T04:41:58.403Z"
   },
   {
    "duration": 6,
    "start_time": "2021-10-01T04:42:02.004Z"
   },
   {
    "duration": 1858,
    "start_time": "2021-10-01T04:42:03.810Z"
   },
   {
    "duration": 13,
    "start_time": "2021-10-01T04:42:05.670Z"
   },
   {
    "duration": 6,
    "start_time": "2021-10-01T04:42:06.529Z"
   },
   {
    "duration": 306,
    "start_time": "2021-10-01T04:43:28.746Z"
   },
   {
    "duration": 30,
    "start_time": "2021-10-01T04:43:29.054Z"
   },
   {
    "duration": 22,
    "start_time": "2021-10-01T04:43:29.087Z"
   },
   {
    "duration": 9,
    "start_time": "2021-10-01T04:43:29.111Z"
   },
   {
    "duration": 9,
    "start_time": "2021-10-01T04:43:29.123Z"
   },
   {
    "duration": 49,
    "start_time": "2021-10-01T04:43:29.134Z"
   },
   {
    "duration": 8,
    "start_time": "2021-10-01T04:43:29.186Z"
   },
   {
    "duration": 6,
    "start_time": "2021-10-01T04:43:32.610Z"
   },
   {
    "duration": 7,
    "start_time": "2021-10-01T04:43:34.268Z"
   },
   {
    "duration": 1956,
    "start_time": "2021-10-01T04:43:43.358Z"
   },
   {
    "duration": 7,
    "start_time": "2021-10-01T04:43:45.316Z"
   },
   {
    "duration": 6,
    "start_time": "2021-10-01T04:43:46.172Z"
   },
   {
    "duration": 6,
    "start_time": "2021-10-01T04:44:25.491Z"
   },
   {
    "duration": 22,
    "start_time": "2021-10-01T04:44:32.207Z"
   },
   {
    "duration": 30,
    "start_time": "2021-10-01T04:45:11.445Z"
   },
   {
    "duration": 31,
    "start_time": "2021-10-01T04:45:24.128Z"
   },
   {
    "duration": 16,
    "start_time": "2021-10-01T04:45:41.231Z"
   },
   {
    "duration": 19,
    "start_time": "2021-10-01T04:45:47.089Z"
   },
   {
    "duration": 52,
    "start_time": "2021-10-01T04:45:52.130Z"
   },
   {
    "duration": 42,
    "start_time": "2021-10-01T04:45:59.462Z"
   },
   {
    "duration": 302,
    "start_time": "2021-10-01T04:46:17.139Z"
   },
   {
    "duration": 19,
    "start_time": "2021-10-01T04:46:17.444Z"
   },
   {
    "duration": 34,
    "start_time": "2021-10-01T04:46:17.466Z"
   },
   {
    "duration": 8,
    "start_time": "2021-10-01T04:46:17.502Z"
   },
   {
    "duration": 9,
    "start_time": "2021-10-01T04:46:17.513Z"
   },
   {
    "duration": 14,
    "start_time": "2021-10-01T04:46:17.524Z"
   },
   {
    "duration": 46,
    "start_time": "2021-10-01T04:46:17.540Z"
   },
   {
    "duration": 14,
    "start_time": "2021-10-01T04:46:17.588Z"
   },
   {
    "duration": 9,
    "start_time": "2021-10-01T04:46:17.606Z"
   },
   {
    "duration": 1920,
    "start_time": "2021-10-01T04:46:17.618Z"
   },
   {
    "duration": 6,
    "start_time": "2021-10-01T04:46:19.541Z"
   },
   {
    "duration": 9,
    "start_time": "2021-10-01T04:46:19.549Z"
   },
   {
    "duration": 42,
    "start_time": "2021-10-01T04:46:19.560Z"
   },
   {
    "duration": 27,
    "start_time": "2021-10-01T04:46:19.605Z"
   },
   {
    "duration": 55,
    "start_time": "2021-10-01T04:46:19.634Z"
   },
   {
    "duration": 16,
    "start_time": "2021-10-01T04:46:19.691Z"
   },
   {
    "duration": 25,
    "start_time": "2021-10-01T04:46:19.710Z"
   },
   {
    "duration": 60,
    "start_time": "2021-10-01T04:46:19.738Z"
   },
   {
    "duration": 34,
    "start_time": "2021-10-01T04:46:19.801Z"
   },
   {
    "duration": 47,
    "start_time": "2021-10-01T04:46:19.837Z"
   },
   {
    "duration": 10,
    "start_time": "2021-10-01T04:46:19.887Z"
   },
   {
    "duration": 7,
    "start_time": "2021-10-01T04:46:19.900Z"
   },
   {
    "duration": 378,
    "start_time": "2021-10-01T04:46:19.910Z"
   },
   {
    "duration": 503,
    "start_time": "2021-10-01T04:46:20.291Z"
   },
   {
    "duration": 363,
    "start_time": "2021-10-01T04:46:20.797Z"
   },
   {
    "duration": 37,
    "start_time": "2021-10-01T04:46:21.163Z"
   },
   {
    "duration": 647,
    "start_time": "2021-10-01T04:46:21.206Z"
   },
   {
    "duration": -372,
    "start_time": "2021-10-01T04:46:22.229Z"
   },
   {
    "duration": -375,
    "start_time": "2021-10-01T04:46:22.234Z"
   },
   {
    "duration": -377,
    "start_time": "2021-10-01T04:46:22.237Z"
   },
   {
    "duration": -378,
    "start_time": "2021-10-01T04:46:22.240Z"
   },
   {
    "duration": -379,
    "start_time": "2021-10-01T04:46:22.242Z"
   },
   {
    "duration": -379,
    "start_time": "2021-10-01T04:46:22.244Z"
   },
   {
    "duration": -380,
    "start_time": "2021-10-01T04:46:22.246Z"
   },
   {
    "duration": -382,
    "start_time": "2021-10-01T04:46:22.249Z"
   },
   {
    "duration": -383,
    "start_time": "2021-10-01T04:46:22.251Z"
   },
   {
    "duration": -373,
    "start_time": "2021-10-01T04:46:22.254Z"
   },
   {
    "duration": -373,
    "start_time": "2021-10-01T04:46:22.256Z"
   },
   {
    "duration": -517,
    "start_time": "2021-10-01T04:46:22.401Z"
   },
   {
    "duration": -517,
    "start_time": "2021-10-01T04:46:22.403Z"
   },
   {
    "duration": -517,
    "start_time": "2021-10-01T04:46:22.404Z"
   },
   {
    "duration": -516,
    "start_time": "2021-10-01T04:46:22.405Z"
   },
   {
    "duration": -515,
    "start_time": "2021-10-01T04:46:22.406Z"
   },
   {
    "duration": -515,
    "start_time": "2021-10-01T04:46:22.407Z"
   },
   {
    "duration": -514,
    "start_time": "2021-10-01T04:46:22.408Z"
   },
   {
    "duration": -514,
    "start_time": "2021-10-01T04:46:22.409Z"
   },
   {
    "duration": -513,
    "start_time": "2021-10-01T04:46:22.410Z"
   },
   {
    "duration": -513,
    "start_time": "2021-10-01T04:46:22.411Z"
   },
   {
    "duration": -512,
    "start_time": "2021-10-01T04:46:22.412Z"
   },
   {
    "duration": -512,
    "start_time": "2021-10-01T04:46:22.414Z"
   },
   {
    "duration": -512,
    "start_time": "2021-10-01T04:46:22.415Z"
   },
   {
    "duration": -511,
    "start_time": "2021-10-01T04:46:22.416Z"
   },
   {
    "duration": -511,
    "start_time": "2021-10-01T04:46:22.417Z"
   },
   {
    "duration": -510,
    "start_time": "2021-10-01T04:46:22.418Z"
   },
   {
    "duration": -510,
    "start_time": "2021-10-01T04:46:22.419Z"
   },
   {
    "duration": -510,
    "start_time": "2021-10-01T04:46:22.420Z"
   },
   {
    "duration": -510,
    "start_time": "2021-10-01T04:46:22.422Z"
   },
   {
    "duration": -509,
    "start_time": "2021-10-01T04:46:22.423Z"
   },
   {
    "duration": -509,
    "start_time": "2021-10-01T04:46:22.424Z"
   },
   {
    "duration": -589,
    "start_time": "2021-10-01T04:46:22.506Z"
   },
   {
    "duration": 552,
    "start_time": "2021-10-01T04:46:57.915Z"
   },
   {
    "duration": 281,
    "start_time": "2021-10-01T04:56:40.068Z"
   },
   {
    "duration": 19,
    "start_time": "2021-10-01T04:56:40.352Z"
   },
   {
    "duration": 30,
    "start_time": "2021-10-01T04:56:40.374Z"
   },
   {
    "duration": 14,
    "start_time": "2021-10-01T04:56:40.407Z"
   },
   {
    "duration": 10,
    "start_time": "2021-10-01T04:56:40.424Z"
   },
   {
    "duration": 15,
    "start_time": "2021-10-01T04:56:40.436Z"
   },
   {
    "duration": 10,
    "start_time": "2021-10-01T04:56:40.481Z"
   },
   {
    "duration": 15,
    "start_time": "2021-10-01T04:56:40.494Z"
   },
   {
    "duration": 9,
    "start_time": "2021-10-01T04:56:40.512Z"
   },
   {
    "duration": 1940,
    "start_time": "2021-10-01T04:56:40.524Z"
   },
   {
    "duration": 16,
    "start_time": "2021-10-01T04:56:42.466Z"
   },
   {
    "duration": 7,
    "start_time": "2021-10-01T04:56:42.485Z"
   },
   {
    "duration": 26,
    "start_time": "2021-10-01T04:56:42.494Z"
   },
   {
    "duration": 61,
    "start_time": "2021-10-01T04:56:42.523Z"
   },
   {
    "duration": 33,
    "start_time": "2021-10-01T04:56:42.586Z"
   },
   {
    "duration": 18,
    "start_time": "2021-10-01T04:56:42.621Z"
   },
   {
    "duration": 49,
    "start_time": "2021-10-01T04:56:42.641Z"
   },
   {
    "duration": 52,
    "start_time": "2021-10-01T04:56:42.693Z"
   },
   {
    "duration": 59,
    "start_time": "2021-10-01T04:56:42.748Z"
   },
   {
    "duration": 29,
    "start_time": "2021-10-01T04:56:42.810Z"
   },
   {
    "duration": 6,
    "start_time": "2021-10-01T04:56:42.841Z"
   },
   {
    "duration": 36,
    "start_time": "2021-10-01T04:56:42.849Z"
   },
   {
    "duration": 361,
    "start_time": "2021-10-01T04:56:42.889Z"
   },
   {
    "duration": 391,
    "start_time": "2021-10-01T04:56:43.252Z"
   },
   {
    "duration": 446,
    "start_time": "2021-10-01T04:56:43.646Z"
   },
   {
    "duration": 26,
    "start_time": "2021-10-01T04:56:44.095Z"
   },
   {
    "duration": 293,
    "start_time": "2021-10-01T04:57:08.026Z"
   },
   {
    "duration": 19,
    "start_time": "2021-10-01T04:57:08.322Z"
   },
   {
    "duration": 38,
    "start_time": "2021-10-01T04:57:08.344Z"
   },
   {
    "duration": 7,
    "start_time": "2021-10-01T04:57:08.385Z"
   },
   {
    "duration": 9,
    "start_time": "2021-10-01T04:57:08.395Z"
   },
   {
    "duration": 14,
    "start_time": "2021-10-01T04:57:08.407Z"
   },
   {
    "duration": 8,
    "start_time": "2021-10-01T04:57:08.423Z"
   },
   {
    "duration": 49,
    "start_time": "2021-10-01T04:57:08.435Z"
   },
   {
    "duration": 6,
    "start_time": "2021-10-01T04:57:08.486Z"
   },
   {
    "duration": 1924,
    "start_time": "2021-10-01T04:57:08.495Z"
   },
   {
    "duration": 6,
    "start_time": "2021-10-01T04:57:10.421Z"
   },
   {
    "duration": 9,
    "start_time": "2021-10-01T04:57:10.429Z"
   },
   {
    "duration": 47,
    "start_time": "2021-10-01T04:57:10.440Z"
   },
   {
    "duration": 28,
    "start_time": "2021-10-01T04:57:10.489Z"
   },
   {
    "duration": 31,
    "start_time": "2021-10-01T04:57:10.519Z"
   },
   {
    "duration": 42,
    "start_time": "2021-10-01T04:57:10.552Z"
   },
   {
    "duration": 19,
    "start_time": "2021-10-01T04:57:10.597Z"
   },
   {
    "duration": 69,
    "start_time": "2021-10-01T04:57:10.618Z"
   },
   {
    "duration": 34,
    "start_time": "2021-10-01T04:57:10.689Z"
   },
   {
    "duration": 27,
    "start_time": "2021-10-01T04:57:10.725Z"
   },
   {
    "duration": 30,
    "start_time": "2021-10-01T04:57:10.755Z"
   },
   {
    "duration": 10,
    "start_time": "2021-10-01T04:57:10.788Z"
   },
   {
    "duration": 360,
    "start_time": "2021-10-01T04:57:10.802Z"
   },
   {
    "duration": 395,
    "start_time": "2021-10-01T04:57:11.164Z"
   },
   {
    "duration": 362,
    "start_time": "2021-10-01T04:57:11.562Z"
   },
   {
    "duration": 27,
    "start_time": "2021-10-01T04:57:11.926Z"
   },
   {
    "duration": 691,
    "start_time": "2021-10-01T04:57:23.810Z"
   },
   {
    "duration": 292,
    "start_time": "2021-10-01T05:00:18.674Z"
   },
   {
    "duration": 673,
    "start_time": "2021-10-01T05:00:29.601Z"
   },
   {
    "duration": 281,
    "start_time": "2021-10-01T05:00:38.010Z"
   },
   {
    "duration": 366,
    "start_time": "2021-10-01T05:00:47.381Z"
   },
   {
    "duration": 379,
    "start_time": "2021-10-01T05:00:53.733Z"
   },
   {
    "duration": 455,
    "start_time": "2021-10-01T05:00:59.818Z"
   },
   {
    "duration": 10,
    "start_time": "2021-10-01T05:01:07.914Z"
   },
   {
    "duration": 186,
    "start_time": "2021-10-01T05:01:13.601Z"
   },
   {
    "duration": 49,
    "start_time": "2021-10-01T05:01:46.694Z"
   },
   {
    "duration": 9,
    "start_time": "2021-10-01T05:02:19.183Z"
   },
   {
    "duration": 485,
    "start_time": "2021-10-01T05:02:43.127Z"
   },
   {
    "duration": 26,
    "start_time": "2021-10-01T05:03:17.026Z"
   },
   {
    "duration": 326,
    "start_time": "2021-10-01T05:03:19.789Z"
   },
   {
    "duration": 350,
    "start_time": "2021-10-01T05:03:24.403Z"
   },
   {
    "duration": 2240,
    "start_time": "2021-10-01T05:03:33.055Z"
   },
   {
    "duration": 267,
    "start_time": "2021-10-01T05:03:46.426Z"
   },
   {
    "duration": 512,
    "start_time": "2021-10-01T05:03:58.353Z"
   },
   {
    "duration": 254,
    "start_time": "2021-10-01T05:04:10.457Z"
   },
   {
    "duration": 342,
    "start_time": "2021-10-01T05:04:18.974Z"
   },
   {
    "duration": 365,
    "start_time": "2021-10-01T05:04:23.917Z"
   },
   {
    "duration": 344,
    "start_time": "2021-10-01T05:04:40.200Z"
   },
   {
    "duration": 8,
    "start_time": "2021-10-01T05:04:46.144Z"
   },
   {
    "duration": 705,
    "start_time": "2021-10-01T05:04:57.139Z"
   },
   {
    "duration": 42,
    "start_time": "2021-10-01T05:05:05.915Z"
   },
   {
    "duration": 40,
    "start_time": "2021-10-01T05:05:08.864Z"
   },
   {
    "duration": 51,
    "start_time": "2021-10-01T05:05:22.294Z"
   },
   {
    "duration": 193,
    "start_time": "2021-10-01T05:05:27.842Z"
   },
   {
    "duration": 572,
    "start_time": "2021-10-01T05:05:46.146Z"
   },
   {
    "duration": 544,
    "start_time": "2021-10-01T05:05:52.742Z"
   },
   {
    "duration": 580,
    "start_time": "2021-10-01T05:05:59.443Z"
   },
   {
    "duration": 689,
    "start_time": "2021-10-01T05:06:04.193Z"
   },
   {
    "duration": 377,
    "start_time": "2021-10-01T05:06:13.505Z"
   },
   {
    "duration": 382,
    "start_time": "2021-10-01T05:06:21.534Z"
   },
   {
    "duration": 368,
    "start_time": "2021-10-01T05:06:35.114Z"
   },
   {
    "duration": 353,
    "start_time": "2021-10-01T05:06:40.313Z"
   },
   {
    "duration": 49,
    "start_time": "2021-10-01T05:06:55.570Z"
   },
   {
    "duration": 435,
    "start_time": "2021-10-01T05:07:11.674Z"
   },
   {
    "duration": 425,
    "start_time": "2021-10-01T05:07:19.599Z"
   },
   {
    "duration": 7,
    "start_time": "2021-10-01T05:24:58.641Z"
   },
   {
    "duration": 6,
    "start_time": "2021-10-01T05:24:59.436Z"
   },
   {
    "duration": 314,
    "start_time": "2021-10-01T05:31:52.518Z"
   },
   {
    "duration": 20,
    "start_time": "2021-10-01T05:31:52.835Z"
   },
   {
    "duration": 37,
    "start_time": "2021-10-01T05:31:52.859Z"
   },
   {
    "duration": 12,
    "start_time": "2021-10-01T05:31:52.899Z"
   },
   {
    "duration": 9,
    "start_time": "2021-10-01T05:31:52.913Z"
   },
   {
    "duration": 16,
    "start_time": "2021-10-01T05:31:52.925Z"
   },
   {
    "duration": 41,
    "start_time": "2021-10-01T05:31:52.943Z"
   },
   {
    "duration": 7,
    "start_time": "2021-10-01T05:31:52.987Z"
   },
   {
    "duration": 6,
    "start_time": "2021-10-01T05:31:52.998Z"
   },
   {
    "duration": 1850,
    "start_time": "2021-10-01T05:31:53.007Z"
   },
   {
    "duration": 7,
    "start_time": "2021-10-01T05:31:54.860Z"
   },
   {
    "duration": 18,
    "start_time": "2021-10-01T05:31:54.869Z"
   },
   {
    "duration": 22,
    "start_time": "2021-10-01T05:31:54.889Z"
   },
   {
    "duration": 29,
    "start_time": "2021-10-01T05:31:54.913Z"
   },
   {
    "duration": 68,
    "start_time": "2021-10-01T05:31:54.944Z"
   },
   {
    "duration": 17,
    "start_time": "2021-10-01T05:31:55.015Z"
   },
   {
    "duration": 20,
    "start_time": "2021-10-01T05:31:55.034Z"
   },
   {
    "duration": 81,
    "start_time": "2021-10-01T05:31:55.056Z"
   },
   {
    "duration": 54,
    "start_time": "2021-10-01T05:31:55.140Z"
   },
   {
    "duration": 26,
    "start_time": "2021-10-01T05:31:55.197Z"
   },
   {
    "duration": 5,
    "start_time": "2021-10-01T05:31:55.225Z"
   },
   {
    "duration": 9,
    "start_time": "2021-10-01T05:31:55.233Z"
   },
   {
    "duration": 372,
    "start_time": "2021-10-01T05:31:55.244Z"
   },
   {
    "duration": 401,
    "start_time": "2021-10-01T05:31:55.618Z"
   },
   {
    "duration": 384,
    "start_time": "2021-10-01T05:31:56.022Z"
   },
   {
    "duration": 28,
    "start_time": "2021-10-01T05:31:56.408Z"
   },
   {
    "duration": 317,
    "start_time": "2021-10-01T05:31:56.442Z"
   },
   {
    "duration": 284,
    "start_time": "2021-10-01T05:31:56.762Z"
   },
   {
    "duration": 494,
    "start_time": "2021-10-01T05:31:57.049Z"
   },
   {
    "duration": 411,
    "start_time": "2021-10-01T05:31:57.545Z"
   },
   {
    "duration": 463,
    "start_time": "2021-10-01T05:31:57.959Z"
   },
   {
    "duration": 10,
    "start_time": "2021-10-01T05:31:58.425Z"
   },
   {
    "duration": 121,
    "start_time": "2021-10-01T05:31:58.438Z"
   },
   {
    "duration": 8,
    "start_time": "2021-10-01T05:31:58.562Z"
   },
   {
    "duration": 492,
    "start_time": "2021-10-01T05:31:58.583Z"
   },
   {
    "duration": 28,
    "start_time": "2021-10-01T05:31:59.078Z"
   },
   {
    "duration": 350,
    "start_time": "2021-10-01T05:31:59.108Z"
   },
   {
    "duration": 481,
    "start_time": "2021-10-01T05:31:59.460Z"
   },
   {
    "duration": 299,
    "start_time": "2021-10-01T05:31:59.944Z"
   },
   {
    "duration": 270,
    "start_time": "2021-10-01T05:32:00.246Z"
   },
   {
    "duration": 380,
    "start_time": "2021-10-01T05:32:00.519Z"
   },
   {
    "duration": 397,
    "start_time": "2021-10-01T05:32:00.902Z"
   },
   {
    "duration": 387,
    "start_time": "2021-10-01T05:32:01.302Z"
   },
   {
    "duration": 7,
    "start_time": "2021-10-01T05:32:01.692Z"
   },
   {
    "duration": 718,
    "start_time": "2021-10-01T05:32:01.701Z"
   },
   {
    "duration": 40,
    "start_time": "2021-10-01T05:32:02.422Z"
   },
   {
    "duration": 53,
    "start_time": "2021-10-01T05:32:02.464Z"
   },
   {
    "duration": 71,
    "start_time": "2021-10-01T05:32:02.519Z"
   },
   {
    "duration": 222,
    "start_time": "2021-10-01T05:32:02.593Z"
   },
   {
    "duration": 569,
    "start_time": "2021-10-01T05:32:02.817Z"
   },
   {
    "duration": 633,
    "start_time": "2021-10-01T05:32:03.389Z"
   },
   {
    "duration": 590,
    "start_time": "2021-10-01T05:32:04.024Z"
   },
   {
    "duration": 620,
    "start_time": "2021-10-01T05:32:04.617Z"
   },
   {
    "duration": 379,
    "start_time": "2021-10-01T05:32:05.239Z"
   },
   {
    "duration": 565,
    "start_time": "2021-10-01T05:32:05.621Z"
   },
   {
    "duration": 362,
    "start_time": "2021-10-01T05:32:06.188Z"
   },
   {
    "duration": 379,
    "start_time": "2021-10-01T05:32:06.554Z"
   },
   {
    "duration": 61,
    "start_time": "2021-10-01T05:32:06.936Z"
   },
   {
    "duration": 450,
    "start_time": "2021-10-01T05:32:07.000Z"
   },
   {
    "duration": 435,
    "start_time": "2021-10-01T05:32:07.452Z"
   },
   {
    "duration": 289,
    "start_time": "2021-10-01T05:38:29.541Z"
   },
   {
    "duration": 21,
    "start_time": "2021-10-01T05:38:29.832Z"
   },
   {
    "duration": 36,
    "start_time": "2021-10-01T05:38:29.856Z"
   },
   {
    "duration": 8,
    "start_time": "2021-10-01T05:38:29.896Z"
   },
   {
    "duration": 9,
    "start_time": "2021-10-01T05:38:29.907Z"
   },
   {
    "duration": 13,
    "start_time": "2021-10-01T05:38:29.918Z"
   },
   {
    "duration": 48,
    "start_time": "2021-10-01T05:38:29.934Z"
   },
   {
    "duration": 7,
    "start_time": "2021-10-01T05:38:29.985Z"
   },
   {
    "duration": 6,
    "start_time": "2021-10-01T05:38:29.996Z"
   },
   {
    "duration": 1931,
    "start_time": "2021-10-01T05:38:30.006Z"
   },
   {
    "duration": 7,
    "start_time": "2021-10-01T05:38:31.939Z"
   },
   {
    "duration": 10,
    "start_time": "2021-10-01T05:38:31.948Z"
   },
   {
    "duration": 24,
    "start_time": "2021-10-01T05:38:31.983Z"
   },
   {
    "duration": 30,
    "start_time": "2021-10-01T05:38:32.010Z"
   },
   {
    "duration": 64,
    "start_time": "2021-10-01T05:38:32.043Z"
   },
   {
    "duration": 18,
    "start_time": "2021-10-01T05:38:32.110Z"
   },
   {
    "duration": 56,
    "start_time": "2021-10-01T05:38:32.131Z"
   },
   {
    "duration": 51,
    "start_time": "2021-10-01T05:38:32.190Z"
   },
   {
    "duration": 55,
    "start_time": "2021-10-01T05:38:32.243Z"
   },
   {
    "duration": 28,
    "start_time": "2021-10-01T05:38:32.301Z"
   },
   {
    "duration": 6,
    "start_time": "2021-10-01T05:38:32.331Z"
   },
   {
    "duration": 11,
    "start_time": "2021-10-01T05:38:32.340Z"
   },
   {
    "duration": 454,
    "start_time": "2021-10-01T05:38:32.353Z"
   },
   {
    "duration": 475,
    "start_time": "2021-10-01T05:38:32.810Z"
   },
   {
    "duration": 439,
    "start_time": "2021-10-01T05:38:33.288Z"
   },
   {
    "duration": 28,
    "start_time": "2021-10-01T05:38:33.729Z"
   },
   {
    "duration": 304,
    "start_time": "2021-10-01T05:38:33.763Z"
   },
   {
    "duration": 315,
    "start_time": "2021-10-01T05:38:34.070Z"
   },
   {
    "duration": 545,
    "start_time": "2021-10-01T05:38:34.387Z"
   },
   {
    "duration": 601,
    "start_time": "2021-10-01T05:38:34.934Z"
   },
   {
    "duration": 467,
    "start_time": "2021-10-01T05:38:35.538Z"
   },
   {
    "duration": 10,
    "start_time": "2021-10-01T05:38:36.007Z"
   },
   {
    "duration": 121,
    "start_time": "2021-10-01T05:38:36.019Z"
   },
   {
    "duration": 9,
    "start_time": "2021-10-01T05:38:36.142Z"
   },
   {
    "duration": 512,
    "start_time": "2021-10-01T05:38:36.154Z"
   },
   {
    "duration": 33,
    "start_time": "2021-10-01T05:38:36.668Z"
   },
   {
    "duration": 355,
    "start_time": "2021-10-01T05:38:36.703Z"
   },
   {
    "duration": 383,
    "start_time": "2021-10-01T05:38:37.061Z"
   },
   {
    "duration": 326,
    "start_time": "2021-10-01T05:38:37.447Z"
   },
   {
    "duration": 289,
    "start_time": "2021-10-01T05:38:37.776Z"
   },
   {
    "duration": 376,
    "start_time": "2021-10-01T05:38:38.068Z"
   },
   {
    "duration": 577,
    "start_time": "2021-10-01T05:38:38.447Z"
   },
   {
    "duration": 369,
    "start_time": "2021-10-01T05:38:39.027Z"
   },
   {
    "duration": 7,
    "start_time": "2021-10-01T05:38:39.398Z"
   },
   {
    "duration": 688,
    "start_time": "2021-10-01T05:38:39.407Z"
   },
   {
    "duration": 39,
    "start_time": "2021-10-01T05:38:40.097Z"
   },
   {
    "duration": 62,
    "start_time": "2021-10-01T05:38:40.139Z"
   },
   {
    "duration": 52,
    "start_time": "2021-10-01T05:38:40.203Z"
   },
   {
    "duration": 215,
    "start_time": "2021-10-01T05:38:40.258Z"
   },
   {
    "duration": 559,
    "start_time": "2021-10-01T05:38:40.483Z"
   },
   {
    "duration": 552,
    "start_time": "2021-10-01T05:38:41.045Z"
   },
   {
    "duration": 567,
    "start_time": "2021-10-01T05:38:41.599Z"
   },
   {
    "duration": 575,
    "start_time": "2021-10-01T05:38:42.169Z"
   },
   {
    "duration": 435,
    "start_time": "2021-10-01T05:38:42.747Z"
   },
   {
    "duration": 394,
    "start_time": "2021-10-01T05:38:43.184Z"
   },
   {
    "duration": 373,
    "start_time": "2021-10-01T05:38:43.583Z"
   },
   {
    "duration": 382,
    "start_time": "2021-10-01T05:38:43.959Z"
   },
   {
    "duration": 70,
    "start_time": "2021-10-01T05:38:44.344Z"
   },
   {
    "duration": 468,
    "start_time": "2021-10-01T05:38:44.417Z"
   },
   {
    "duration": 448,
    "start_time": "2021-10-01T05:38:44.887Z"
   },
   {
    "duration": 1456,
    "start_time": "2021-10-02T06:55:45.577Z"
   },
   {
    "duration": 16,
    "start_time": "2021-10-02T06:55:47.035Z"
   },
   {
    "duration": 14,
    "start_time": "2021-10-02T06:55:47.054Z"
   },
   {
    "duration": 8,
    "start_time": "2021-10-02T06:55:47.069Z"
   },
   {
    "duration": 7,
    "start_time": "2021-10-02T06:55:47.079Z"
   },
   {
    "duration": 11,
    "start_time": "2021-10-02T06:55:47.088Z"
   },
   {
    "duration": 6,
    "start_time": "2021-10-02T06:55:47.101Z"
   },
   {
    "duration": 42,
    "start_time": "2021-10-02T06:55:47.110Z"
   },
   {
    "duration": 5,
    "start_time": "2021-10-02T06:55:47.155Z"
   },
   {
    "duration": 911,
    "start_time": "2021-10-02T06:55:47.162Z"
   },
   {
    "duration": 5,
    "start_time": "2021-10-02T06:55:48.074Z"
   },
   {
    "duration": 8,
    "start_time": "2021-10-02T06:55:48.080Z"
   },
   {
    "duration": 16,
    "start_time": "2021-10-02T06:55:48.090Z"
   },
   {
    "duration": 21,
    "start_time": "2021-10-02T06:55:48.108Z"
   },
   {
    "duration": 24,
    "start_time": "2021-10-02T06:55:48.150Z"
   },
   {
    "duration": 12,
    "start_time": "2021-10-02T06:55:48.175Z"
   },
   {
    "duration": 13,
    "start_time": "2021-10-02T06:55:48.188Z"
   },
   {
    "duration": 59,
    "start_time": "2021-10-02T06:55:48.203Z"
   },
   {
    "duration": 27,
    "start_time": "2021-10-02T06:55:48.263Z"
   },
   {
    "duration": 19,
    "start_time": "2021-10-02T06:55:48.292Z"
   },
   {
    "duration": 7,
    "start_time": "2021-10-02T06:55:48.313Z"
   },
   {
    "duration": 4,
    "start_time": "2021-10-02T06:55:48.322Z"
   },
   {
    "duration": 221,
    "start_time": "2021-10-02T06:55:48.352Z"
   },
   {
    "duration": 224,
    "start_time": "2021-10-02T06:55:48.576Z"
   },
   {
    "duration": 213,
    "start_time": "2021-10-02T06:55:48.802Z"
   },
   {
    "duration": 18,
    "start_time": "2021-10-02T06:55:49.016Z"
   },
   {
    "duration": 200,
    "start_time": "2021-10-02T06:55:49.035Z"
   },
   {
    "duration": 179,
    "start_time": "2021-10-02T06:55:49.237Z"
   },
   {
    "duration": 218,
    "start_time": "2021-10-02T06:55:49.418Z"
   },
   {
    "duration": 254,
    "start_time": "2021-10-02T06:55:49.638Z"
   },
   {
    "duration": 270,
    "start_time": "2021-10-02T06:55:49.894Z"
   },
   {
    "duration": 8,
    "start_time": "2021-10-02T06:55:50.165Z"
   },
   {
    "duration": 78,
    "start_time": "2021-10-02T06:55:50.175Z"
   },
   {
    "duration": 7,
    "start_time": "2021-10-02T06:55:50.255Z"
   },
   {
    "duration": 388,
    "start_time": "2021-10-02T06:55:50.263Z"
   },
   {
    "duration": 20,
    "start_time": "2021-10-02T06:55:50.653Z"
   },
   {
    "duration": 234,
    "start_time": "2021-10-02T06:55:50.675Z"
   },
   {
    "duration": 318,
    "start_time": "2021-10-02T06:55:50.911Z"
   },
   {
    "duration": 191,
    "start_time": "2021-10-02T06:55:51.231Z"
   },
   {
    "duration": 174,
    "start_time": "2021-10-02T06:55:51.424Z"
   },
   {
    "duration": 223,
    "start_time": "2021-10-02T06:55:51.600Z"
   },
   {
    "duration": 240,
    "start_time": "2021-10-02T06:55:51.824Z"
   },
   {
    "duration": 232,
    "start_time": "2021-10-02T06:55:52.066Z"
   },
   {
    "duration": 6,
    "start_time": "2021-10-02T06:55:52.299Z"
   },
   {
    "duration": 429,
    "start_time": "2021-10-02T06:55:52.307Z"
   },
   {
    "duration": 32,
    "start_time": "2021-10-02T06:55:52.738Z"
   },
   {
    "duration": 27,
    "start_time": "2021-10-02T06:55:52.772Z"
   },
   {
    "duration": 63,
    "start_time": "2021-10-02T06:55:52.801Z"
   },
   {
    "duration": 132,
    "start_time": "2021-10-02T06:55:52.866Z"
   },
   {
    "duration": 368,
    "start_time": "2021-10-02T06:55:52.999Z"
   },
   {
    "duration": 358,
    "start_time": "2021-10-02T06:55:53.369Z"
   },
   {
    "duration": 371,
    "start_time": "2021-10-02T06:55:53.729Z"
   },
   {
    "duration": 376,
    "start_time": "2021-10-02T06:55:54.102Z"
   },
   {
    "duration": 438,
    "start_time": "2021-10-02T06:55:54.480Z"
   },
   {
    "duration": 355,
    "start_time": "2021-10-02T06:55:54.920Z"
   },
   {
    "duration": 359,
    "start_time": "2021-10-02T06:55:55.277Z"
   },
   {
    "duration": 251,
    "start_time": "2021-10-02T06:55:55.638Z"
   },
   {
    "duration": 35,
    "start_time": "2021-10-02T06:55:55.891Z"
   },
   {
    "duration": 287,
    "start_time": "2021-10-02T06:55:55.928Z"
   },
   {
    "duration": 268,
    "start_time": "2021-10-02T06:55:56.216Z"
   },
   {
    "duration": 317,
    "start_time": "2021-10-02T08:35:44.466Z"
   },
   {
    "duration": 1778,
    "start_time": "2021-10-02T08:35:50.523Z"
   },
   {
    "duration": 27,
    "start_time": "2021-10-02T08:35:52.303Z"
   },
   {
    "duration": 18,
    "start_time": "2021-10-02T08:35:52.333Z"
   },
   {
    "duration": 34,
    "start_time": "2021-10-02T08:35:52.354Z"
   },
   {
    "duration": 10,
    "start_time": "2021-10-02T08:35:52.390Z"
   },
   {
    "duration": 19,
    "start_time": "2021-10-02T08:35:52.402Z"
   },
   {
    "duration": 8,
    "start_time": "2021-10-02T08:35:52.423Z"
   },
   {
    "duration": 47,
    "start_time": "2021-10-02T08:35:52.435Z"
   },
   {
    "duration": 7,
    "start_time": "2021-10-02T08:35:52.485Z"
   },
   {
    "duration": 1866,
    "start_time": "2021-10-02T08:35:52.494Z"
   },
   {
    "duration": 19,
    "start_time": "2021-10-02T08:35:54.363Z"
   },
   {
    "duration": 7,
    "start_time": "2021-10-02T08:35:54.384Z"
   },
   {
    "duration": 21,
    "start_time": "2021-10-02T08:35:54.393Z"
   },
   {
    "duration": 27,
    "start_time": "2021-10-02T08:35:54.417Z"
   },
   {
    "duration": 68,
    "start_time": "2021-10-02T08:35:54.446Z"
   },
   {
    "duration": 17,
    "start_time": "2021-10-02T08:35:54.517Z"
   },
   {
    "duration": 54,
    "start_time": "2021-10-02T08:35:54.537Z"
   },
   {
    "duration": 55,
    "start_time": "2021-10-02T08:35:54.593Z"
   },
   {
    "duration": 59,
    "start_time": "2021-10-02T08:35:54.651Z"
   },
   {
    "duration": 29,
    "start_time": "2021-10-02T08:35:54.713Z"
   },
   {
    "duration": 12,
    "start_time": "2021-10-02T08:35:54.744Z"
   },
   {
    "duration": 28,
    "start_time": "2021-10-02T08:35:54.759Z"
   },
   {
    "duration": 368,
    "start_time": "2021-10-02T08:35:54.791Z"
   },
   {
    "duration": 351,
    "start_time": "2021-10-02T08:36:05.340Z"
   },
   {
    "duration": 335,
    "start_time": "2021-10-02T08:38:16.920Z"
   },
   {
    "duration": 32,
    "start_time": "2021-10-02T08:38:17.258Z"
   },
   {
    "duration": 21,
    "start_time": "2021-10-02T08:38:17.293Z"
   },
   {
    "duration": 8,
    "start_time": "2021-10-02T08:38:17.319Z"
   },
   {
    "duration": 54,
    "start_time": "2021-10-02T08:38:17.329Z"
   },
   {
    "duration": 14,
    "start_time": "2021-10-02T08:38:17.385Z"
   },
   {
    "duration": 7,
    "start_time": "2021-10-02T08:38:17.402Z"
   },
   {
    "duration": 6,
    "start_time": "2021-10-02T08:38:17.411Z"
   },
   {
    "duration": 5,
    "start_time": "2021-10-02T08:38:17.421Z"
   },
   {
    "duration": 1848,
    "start_time": "2021-10-02T08:38:17.429Z"
   },
   {
    "duration": 6,
    "start_time": "2021-10-02T08:38:19.282Z"
   },
   {
    "duration": 8,
    "start_time": "2021-10-02T08:38:19.290Z"
   },
   {
    "duration": 25,
    "start_time": "2021-10-02T08:38:19.300Z"
   },
   {
    "duration": 57,
    "start_time": "2021-10-02T08:38:19.327Z"
   },
   {
    "duration": 31,
    "start_time": "2021-10-02T08:38:19.386Z"
   },
   {
    "duration": 17,
    "start_time": "2021-10-02T08:38:19.419Z"
   },
   {
    "duration": 51,
    "start_time": "2021-10-02T08:38:19.438Z"
   },
   {
    "duration": 48,
    "start_time": "2021-10-02T08:38:19.491Z"
   },
   {
    "duration": 48,
    "start_time": "2021-10-02T08:38:19.542Z"
   },
   {
    "duration": 29,
    "start_time": "2021-10-02T08:38:19.593Z"
   },
   {
    "duration": 5,
    "start_time": "2021-10-02T08:38:19.625Z"
   },
   {
    "duration": 15,
    "start_time": "2021-10-02T08:38:19.632Z"
   },
   {
    "duration": 356,
    "start_time": "2021-10-02T08:38:19.650Z"
   },
   {
    "duration": 385,
    "start_time": "2021-10-02T08:38:20.009Z"
   },
   {
    "duration": 349,
    "start_time": "2021-10-02T08:38:20.396Z"
   },
   {
    "duration": 40,
    "start_time": "2021-10-02T08:38:20.747Z"
   },
   {
    "duration": 312,
    "start_time": "2021-10-02T08:38:20.792Z"
   },
   {
    "duration": 299,
    "start_time": "2021-10-02T08:38:21.106Z"
   },
   {
    "duration": 357,
    "start_time": "2021-10-02T08:38:21.407Z"
   },
   {
    "duration": 381,
    "start_time": "2021-10-02T08:38:21.766Z"
   },
   {
    "duration": 546,
    "start_time": "2021-10-02T08:38:22.150Z"
   },
   {
    "duration": 13,
    "start_time": "2021-10-02T08:38:22.699Z"
   },
   {
    "duration": 129,
    "start_time": "2021-10-02T08:38:22.715Z"
   },
   {
    "duration": 10,
    "start_time": "2021-10-02T08:38:22.847Z"
   },
   {
    "duration": 516,
    "start_time": "2021-10-02T08:38:22.860Z"
   },
   {
    "duration": 26,
    "start_time": "2021-10-02T08:38:23.379Z"
   },
   {
    "duration": 334,
    "start_time": "2021-10-02T08:38:23.408Z"
   },
   {
    "duration": 362,
    "start_time": "2021-10-02T08:38:23.745Z"
   },
   {
    "duration": 282,
    "start_time": "2021-10-02T08:38:24.110Z"
   },
   {
    "duration": 278,
    "start_time": "2021-10-02T08:38:24.395Z"
   },
   {
    "duration": 343,
    "start_time": "2021-10-02T08:38:24.683Z"
   },
   {
    "duration": 379,
    "start_time": "2021-10-02T08:38:25.028Z"
   },
   {
    "duration": 354,
    "start_time": "2021-10-02T08:38:25.410Z"
   },
   {
    "duration": 20,
    "start_time": "2021-10-02T08:38:25.766Z"
   },
   {
    "duration": 710,
    "start_time": "2021-10-02T08:38:25.788Z"
   },
   {
    "duration": 39,
    "start_time": "2021-10-02T08:38:26.501Z"
   },
   {
    "duration": 59,
    "start_time": "2021-10-02T08:38:26.543Z"
   },
   {
    "duration": 48,
    "start_time": "2021-10-02T08:38:26.605Z"
   },
   {
    "duration": 206,
    "start_time": "2021-10-02T08:38:26.655Z"
   },
   {
    "duration": 543,
    "start_time": "2021-10-02T08:38:26.864Z"
   },
   {
    "duration": 551,
    "start_time": "2021-10-02T08:38:27.410Z"
   },
   {
    "duration": 660,
    "start_time": "2021-10-02T08:38:27.964Z"
   },
   {
    "duration": 567,
    "start_time": "2021-10-02T08:38:28.627Z"
   },
   {
    "duration": 356,
    "start_time": "2021-10-02T08:38:31.645Z"
   },
   {
    "duration": 370,
    "start_time": "2021-10-02T08:38:40.294Z"
   },
   {
    "duration": 318,
    "start_time": "2021-10-02T08:39:09.105Z"
   },
   {
    "duration": 19,
    "start_time": "2021-10-02T08:39:09.426Z"
   },
   {
    "duration": 40,
    "start_time": "2021-10-02T08:39:09.448Z"
   },
   {
    "duration": 9,
    "start_time": "2021-10-02T08:39:09.491Z"
   },
   {
    "duration": 8,
    "start_time": "2021-10-02T08:39:09.502Z"
   },
   {
    "duration": 13,
    "start_time": "2021-10-02T08:39:09.513Z"
   },
   {
    "duration": 56,
    "start_time": "2021-10-02T08:39:09.528Z"
   },
   {
    "duration": 6,
    "start_time": "2021-10-02T08:39:09.588Z"
   },
   {
    "duration": 8,
    "start_time": "2021-10-02T08:39:09.596Z"
   },
   {
    "duration": 1869,
    "start_time": "2021-10-02T08:39:09.606Z"
   },
   {
    "duration": 7,
    "start_time": "2021-10-02T08:39:11.478Z"
   },
   {
    "duration": 7,
    "start_time": "2021-10-02T08:39:11.488Z"
   },
   {
    "duration": 23,
    "start_time": "2021-10-02T08:39:11.497Z"
   },
   {
    "duration": 73,
    "start_time": "2021-10-02T08:39:11.523Z"
   },
   {
    "duration": 31,
    "start_time": "2021-10-02T08:39:11.599Z"
   },
   {
    "duration": 16,
    "start_time": "2021-10-02T08:39:11.633Z"
   },
   {
    "duration": 45,
    "start_time": "2021-10-02T08:39:11.651Z"
   },
   {
    "duration": 50,
    "start_time": "2021-10-02T08:39:11.699Z"
   },
   {
    "duration": 60,
    "start_time": "2021-10-02T08:39:11.752Z"
   },
   {
    "duration": 31,
    "start_time": "2021-10-02T08:39:11.814Z"
   },
   {
    "duration": 6,
    "start_time": "2021-10-02T08:39:11.847Z"
   },
   {
    "duration": 7,
    "start_time": "2021-10-02T08:39:11.883Z"
   },
   {
    "duration": 369,
    "start_time": "2021-10-02T08:39:11.896Z"
   },
   {
    "duration": 379,
    "start_time": "2021-10-02T08:39:12.268Z"
   },
   {
    "duration": 406,
    "start_time": "2021-10-02T08:39:12.649Z"
   },
   {
    "duration": 34,
    "start_time": "2021-10-02T08:39:13.058Z"
   },
   {
    "duration": 301,
    "start_time": "2021-10-02T08:39:13.095Z"
   },
   {
    "duration": 278,
    "start_time": "2021-10-02T08:39:13.399Z"
   },
   {
    "duration": 351,
    "start_time": "2021-10-02T08:39:13.683Z"
   },
   {
    "duration": 387,
    "start_time": "2021-10-02T08:39:14.037Z"
   },
   {
    "duration": 545,
    "start_time": "2021-10-02T08:39:14.427Z"
   },
   {
    "duration": 14,
    "start_time": "2021-10-02T08:39:14.974Z"
   },
   {
    "duration": 124,
    "start_time": "2021-10-02T08:39:14.990Z"
   },
   {
    "duration": 8,
    "start_time": "2021-10-02T08:39:15.116Z"
   },
   {
    "duration": 487,
    "start_time": "2021-10-02T08:39:15.127Z"
   },
   {
    "duration": 24,
    "start_time": "2021-10-02T08:39:15.616Z"
   },
   {
    "duration": 322,
    "start_time": "2021-10-02T08:39:15.642Z"
   },
   {
    "duration": 353,
    "start_time": "2021-10-02T08:39:15.967Z"
   },
   {
    "duration": 281,
    "start_time": "2021-10-02T08:39:16.323Z"
   },
   {
    "duration": 269,
    "start_time": "2021-10-02T08:39:16.607Z"
   },
   {
    "duration": 337,
    "start_time": "2021-10-02T08:39:16.879Z"
   },
   {
    "duration": 352,
    "start_time": "2021-10-02T08:39:17.218Z"
   },
   {
    "duration": 346,
    "start_time": "2021-10-02T08:39:17.573Z"
   },
   {
    "duration": 7,
    "start_time": "2021-10-02T08:39:17.922Z"
   },
   {
    "duration": 746,
    "start_time": "2021-10-02T08:39:17.931Z"
   },
   {
    "duration": 39,
    "start_time": "2021-10-02T08:39:18.679Z"
   },
   {
    "duration": 41,
    "start_time": "2021-10-02T08:39:18.720Z"
   },
   {
    "duration": 50,
    "start_time": "2021-10-02T08:39:18.783Z"
   },
   {
    "duration": 216,
    "start_time": "2021-10-02T08:39:18.835Z"
   },
   {
    "duration": 543,
    "start_time": "2021-10-02T08:39:19.054Z"
   },
   {
    "duration": 540,
    "start_time": "2021-10-02T08:39:19.600Z"
   },
   {
    "duration": 644,
    "start_time": "2021-10-02T08:39:20.143Z"
   },
   {
    "duration": 559,
    "start_time": "2021-10-02T08:39:20.789Z"
   },
   {
    "duration": 377,
    "start_time": "2021-10-02T08:39:21.350Z"
   },
   {
    "duration": 373,
    "start_time": "2021-10-02T08:39:21.729Z"
   },
   {
    "duration": 338,
    "start_time": "2021-10-02T08:39:22.105Z"
   },
   {
    "duration": 355,
    "start_time": "2021-10-02T08:39:22.445Z"
   },
   {
    "duration": 50,
    "start_time": "2021-10-02T08:39:22.802Z"
   },
   {
    "duration": 451,
    "start_time": "2021-10-02T08:39:22.854Z"
   },
   {
    "duration": 392,
    "start_time": "2021-10-02T08:39:35.583Z"
   },
   {
    "duration": 1617,
    "start_time": "2021-10-02T11:40:55.995Z"
   },
   {
    "duration": 31,
    "start_time": "2021-10-02T11:40:57.615Z"
   },
   {
    "duration": 33,
    "start_time": "2021-10-02T11:40:57.649Z"
   },
   {
    "duration": 10,
    "start_time": "2021-10-02T11:40:57.685Z"
   },
   {
    "duration": 11,
    "start_time": "2021-10-02T11:40:57.698Z"
   },
   {
    "duration": 59,
    "start_time": "2021-10-02T11:40:57.712Z"
   },
   {
    "duration": 9,
    "start_time": "2021-10-02T11:40:57.775Z"
   },
   {
    "duration": 7,
    "start_time": "2021-10-02T11:40:57.789Z"
   },
   {
    "duration": 5,
    "start_time": "2021-10-02T11:40:57.800Z"
   },
   {
    "duration": 2108,
    "start_time": "2021-10-02T11:40:57.808Z"
   },
   {
    "duration": 19,
    "start_time": "2021-10-02T11:40:59.927Z"
   },
   {
    "duration": 7,
    "start_time": "2021-10-02T11:41:00.883Z"
   },
   {
    "duration": 25,
    "start_time": "2021-10-02T11:41:09.070Z"
   },
   {
    "duration": 34,
    "start_time": "2021-10-02T11:41:19.180Z"
   },
   {
    "duration": 280,
    "start_time": "2021-10-02T11:45:04.382Z"
   },
   {
    "duration": 21,
    "start_time": "2021-10-02T11:45:04.667Z"
   },
   {
    "duration": 22,
    "start_time": "2021-10-02T11:45:04.693Z"
   },
   {
    "duration": 49,
    "start_time": "2021-10-02T11:45:04.719Z"
   },
   {
    "duration": 12,
    "start_time": "2021-10-02T11:45:04.771Z"
   },
   {
    "duration": 16,
    "start_time": "2021-10-02T11:45:04.785Z"
   },
   {
    "duration": 8,
    "start_time": "2021-10-02T11:45:04.803Z"
   },
   {
    "duration": 7,
    "start_time": "2021-10-02T11:45:04.814Z"
   },
   {
    "duration": 7,
    "start_time": "2021-10-02T11:45:04.868Z"
   },
   {
    "duration": 1949,
    "start_time": "2021-10-02T11:45:04.877Z"
   },
   {
    "duration": 6,
    "start_time": "2021-10-02T11:45:06.829Z"
   },
   {
    "duration": 29,
    "start_time": "2021-10-02T11:45:06.838Z"
   },
   {
    "duration": 22,
    "start_time": "2021-10-02T11:45:06.869Z"
   },
   {
    "duration": 30,
    "start_time": "2021-10-02T11:45:06.893Z"
   },
   {
    "duration": 619,
    "start_time": "2021-10-02T11:45:12.820Z"
   },
   {
    "duration": 20,
    "start_time": "2021-10-02T11:45:33.770Z"
   },
   {
    "duration": 259,
    "start_time": "2021-10-02T11:45:58.506Z"
   },
   {
    "duration": 280,
    "start_time": "2021-10-02T11:52:38.490Z"
   },
   {
    "duration": 315,
    "start_time": "2021-10-02T11:52:58.827Z"
   },
   {
    "duration": 24,
    "start_time": "2021-10-02T11:52:59.144Z"
   },
   {
    "duration": 29,
    "start_time": "2021-10-02T11:52:59.171Z"
   },
   {
    "duration": 9,
    "start_time": "2021-10-02T11:52:59.203Z"
   },
   {
    "duration": 10,
    "start_time": "2021-10-02T11:52:59.215Z"
   },
   {
    "duration": 51,
    "start_time": "2021-10-02T11:52:59.229Z"
   },
   {
    "duration": 11,
    "start_time": "2021-10-02T11:52:59.283Z"
   },
   {
    "duration": 8,
    "start_time": "2021-10-02T11:52:59.297Z"
   },
   {
    "duration": 7,
    "start_time": "2021-10-02T11:52:59.309Z"
   },
   {
    "duration": 1928,
    "start_time": "2021-10-02T11:52:59.366Z"
   },
   {
    "duration": 7,
    "start_time": "2021-10-02T11:53:01.297Z"
   },
   {
    "duration": 27,
    "start_time": "2021-10-02T11:53:01.307Z"
   },
   {
    "duration": 35,
    "start_time": "2021-10-02T11:53:01.337Z"
   },
   {
    "duration": 36,
    "start_time": "2021-10-02T11:53:01.375Z"
   },
   {
    "duration": 260,
    "start_time": "2021-10-02T11:53:01.414Z"
   },
   {
    "duration": 20,
    "start_time": "2021-10-02T11:53:16.755Z"
   },
   {
    "duration": 287,
    "start_time": "2021-10-02T11:53:24.058Z"
   },
   {
    "duration": 985,
    "start_time": "2021-10-02T11:54:46.678Z"
   },
   {
    "duration": 994,
    "start_time": "2021-10-02T11:58:18.818Z"
   },
   {
    "duration": 6891,
    "start_time": "2021-10-02T11:58:57.355Z"
   },
   {
    "duration": -216,
    "start_time": "2021-10-02T11:59:04.465Z"
   },
   {
    "duration": -217,
    "start_time": "2021-10-02T11:59:04.468Z"
   },
   {
    "duration": -322,
    "start_time": "2021-10-02T11:59:04.574Z"
   },
   {
    "duration": -323,
    "start_time": "2021-10-02T11:59:04.576Z"
   },
   {
    "duration": -323,
    "start_time": "2021-10-02T11:59:04.578Z"
   },
   {
    "duration": -323,
    "start_time": "2021-10-02T11:59:04.579Z"
   },
   {
    "duration": -323,
    "start_time": "2021-10-02T11:59:04.581Z"
   },
   {
    "duration": -323,
    "start_time": "2021-10-02T11:59:04.582Z"
   },
   {
    "duration": -323,
    "start_time": "2021-10-02T11:59:04.584Z"
   },
   {
    "duration": -323,
    "start_time": "2021-10-02T11:59:04.585Z"
   },
   {
    "duration": -323,
    "start_time": "2021-10-02T11:59:04.587Z"
   },
   {
    "duration": -323,
    "start_time": "2021-10-02T11:59:04.588Z"
   },
   {
    "duration": -322,
    "start_time": "2021-10-02T11:59:04.589Z"
   },
   {
    "duration": -322,
    "start_time": "2021-10-02T11:59:04.590Z"
   },
   {
    "duration": -322,
    "start_time": "2021-10-02T11:59:04.592Z"
   },
   {
    "duration": 288,
    "start_time": "2021-10-02T11:59:09.936Z"
   },
   {
    "duration": 20,
    "start_time": "2021-10-02T11:59:10.227Z"
   },
   {
    "duration": 25,
    "start_time": "2021-10-02T11:59:10.267Z"
   },
   {
    "duration": 11,
    "start_time": "2021-10-02T11:59:10.295Z"
   },
   {
    "duration": 8,
    "start_time": "2021-10-02T11:59:10.309Z"
   },
   {
    "duration": 53,
    "start_time": "2021-10-02T11:59:10.320Z"
   },
   {
    "duration": 12,
    "start_time": "2021-10-02T11:59:10.376Z"
   },
   {
    "duration": 8,
    "start_time": "2021-10-02T11:59:10.391Z"
   },
   {
    "duration": 6,
    "start_time": "2021-10-02T11:59:10.402Z"
   },
   {
    "duration": 2063,
    "start_time": "2021-10-02T11:59:10.411Z"
   },
   {
    "duration": 10,
    "start_time": "2021-10-02T11:59:12.476Z"
   },
   {
    "duration": 8,
    "start_time": "2021-10-02T11:59:12.488Z"
   },
   {
    "duration": 24,
    "start_time": "2021-10-02T11:59:12.499Z"
   },
   {
    "duration": 72,
    "start_time": "2021-10-02T11:59:12.526Z"
   },
   {
    "duration": 20,
    "start_time": "2021-10-02T11:59:12.600Z"
   },
   {
    "duration": 7169,
    "start_time": "2021-10-02T11:59:17.624Z"
   },
   {
    "duration": 36,
    "start_time": "2021-10-02T12:04:15.223Z"
   },
   {
    "duration": 16,
    "start_time": "2021-10-02T12:05:15.712Z"
   },
   {
    "duration": 14,
    "start_time": "2021-10-02T12:07:03.438Z"
   },
   {
    "duration": 15,
    "start_time": "2021-10-02T12:07:36.273Z"
   },
   {
    "duration": 13,
    "start_time": "2021-10-02T12:08:05.596Z"
   },
   {
    "duration": 32,
    "start_time": "2021-10-02T12:11:31.914Z"
   },
   {
    "duration": 32,
    "start_time": "2021-10-02T12:12:24.099Z"
   },
   {
    "duration": 378,
    "start_time": "2021-10-02T12:23:08.411Z"
   },
   {
    "duration": 290,
    "start_time": "2021-10-02T12:24:15.609Z"
   },
   {
    "duration": 19,
    "start_time": "2021-10-02T12:24:15.902Z"
   },
   {
    "duration": 20,
    "start_time": "2021-10-02T12:24:15.924Z"
   },
   {
    "duration": 9,
    "start_time": "2021-10-02T12:24:15.967Z"
   },
   {
    "duration": 11,
    "start_time": "2021-10-02T12:24:15.980Z"
   },
   {
    "duration": 17,
    "start_time": "2021-10-02T12:24:15.993Z"
   },
   {
    "duration": 8,
    "start_time": "2021-10-02T12:24:16.013Z"
   },
   {
    "duration": 50,
    "start_time": "2021-10-02T12:24:16.023Z"
   },
   {
    "duration": 8,
    "start_time": "2021-10-02T12:24:16.078Z"
   },
   {
    "duration": 2064,
    "start_time": "2021-10-02T12:24:16.089Z"
   },
   {
    "duration": 13,
    "start_time": "2021-10-02T12:24:18.156Z"
   },
   {
    "duration": 9,
    "start_time": "2021-10-02T12:24:18.172Z"
   },
   {
    "duration": 23,
    "start_time": "2021-10-02T12:24:18.185Z"
   },
   {
    "duration": 64,
    "start_time": "2021-10-02T12:24:18.211Z"
   },
   {
    "duration": 16,
    "start_time": "2021-10-02T12:24:18.278Z"
   },
   {
    "duration": 34,
    "start_time": "2021-10-02T12:24:18.297Z"
   },
   {
    "duration": 44,
    "start_time": "2021-10-02T12:24:18.333Z"
   },
   {
    "duration": 44,
    "start_time": "2021-10-02T12:24:18.379Z"
   },
   {
    "duration": 66,
    "start_time": "2021-10-02T12:24:18.425Z"
   },
   {
    "duration": 75,
    "start_time": "2021-10-02T12:24:18.494Z"
   },
   {
    "duration": 37,
    "start_time": "2021-10-02T12:24:18.573Z"
   },
   {
    "duration": 10,
    "start_time": "2021-10-02T12:24:18.612Z"
   },
   {
    "duration": 6,
    "start_time": "2021-10-02T12:24:18.625Z"
   },
   {
    "duration": 402,
    "start_time": "2021-10-02T12:24:18.633Z"
   },
   {
    "duration": 416,
    "start_time": "2021-10-02T12:24:19.038Z"
   },
   {
    "duration": 395,
    "start_time": "2021-10-02T12:24:19.456Z"
   },
   {
    "duration": 42,
    "start_time": "2021-10-02T12:24:19.857Z"
   },
   {
    "duration": 350,
    "start_time": "2021-10-02T12:24:19.903Z"
   },
   {
    "duration": 327,
    "start_time": "2021-10-02T12:24:20.255Z"
   },
   {
    "duration": 408,
    "start_time": "2021-10-02T12:24:20.585Z"
   },
   {
    "duration": 426,
    "start_time": "2021-10-02T12:24:20.995Z"
   },
   {
    "duration": 507,
    "start_time": "2021-10-02T12:24:21.424Z"
   },
   {
    "duration": 11,
    "start_time": "2021-10-02T12:24:21.934Z"
   },
   {
    "duration": 218,
    "start_time": "2021-10-02T12:24:21.948Z"
   },
   {
    "duration": 12,
    "start_time": "2021-10-02T12:24:22.169Z"
   },
   {
    "duration": 576,
    "start_time": "2021-10-02T12:24:22.184Z"
   },
   {
    "duration": 29,
    "start_time": "2021-10-02T12:24:22.766Z"
   },
   {
    "duration": 366,
    "start_time": "2021-10-02T12:24:22.797Z"
   },
   {
    "duration": 404,
    "start_time": "2021-10-02T12:24:23.166Z"
   },
   {
    "duration": 318,
    "start_time": "2021-10-02T12:24:23.576Z"
   },
   {
    "duration": 314,
    "start_time": "2021-10-02T12:24:23.897Z"
   },
   {
    "duration": 402,
    "start_time": "2021-10-02T12:24:24.214Z"
   },
   {
    "duration": 421,
    "start_time": "2021-10-02T12:24:24.619Z"
   },
   {
    "duration": 405,
    "start_time": "2021-10-02T12:24:25.042Z"
   },
   {
    "duration": 17,
    "start_time": "2021-10-02T12:24:25.450Z"
   },
   {
    "duration": 781,
    "start_time": "2021-10-02T12:24:25.470Z"
   },
   {
    "duration": 54,
    "start_time": "2021-10-02T12:24:26.253Z"
   },
   {
    "duration": 61,
    "start_time": "2021-10-02T12:24:26.309Z"
   },
   {
    "duration": 59,
    "start_time": "2021-10-02T12:24:26.373Z"
   },
   {
    "duration": 236,
    "start_time": "2021-10-02T12:24:26.435Z"
   },
   {
    "duration": 634,
    "start_time": "2021-10-02T12:24:26.674Z"
   },
   {
    "duration": 631,
    "start_time": "2021-10-02T12:24:27.311Z"
   },
   {
    "duration": 628,
    "start_time": "2021-10-02T12:24:27.945Z"
   },
   {
    "duration": 727,
    "start_time": "2021-10-02T12:24:28.576Z"
   },
   {
    "duration": 437,
    "start_time": "2021-10-02T12:24:29.306Z"
   },
   {
    "duration": 422,
    "start_time": "2021-10-02T12:24:29.745Z"
   },
   {
    "duration": 391,
    "start_time": "2021-10-02T12:24:30.171Z"
   },
   {
    "duration": 400,
    "start_time": "2021-10-02T12:24:30.567Z"
   },
   {
    "duration": 52,
    "start_time": "2021-10-02T12:24:30.970Z"
   },
   {
    "duration": 519,
    "start_time": "2021-10-02T12:24:31.024Z"
   },
   {
    "duration": 477,
    "start_time": "2021-10-02T12:24:31.545Z"
   },
   {
    "duration": 616,
    "start_time": "2021-10-02T12:35:17.462Z"
   },
   {
    "duration": 1180,
    "start_time": "2021-10-02T12:36:26.929Z"
   },
   {
    "duration": 622,
    "start_time": "2021-10-02T12:36:40.334Z"
   },
   {
    "duration": 1003,
    "start_time": "2021-10-02T12:42:00.858Z"
   },
   {
    "duration": 855,
    "start_time": "2021-10-02T12:43:36.784Z"
   },
   {
    "duration": 887,
    "start_time": "2021-10-02T12:48:11.653Z"
   },
   {
    "duration": 349,
    "start_time": "2021-10-02T12:48:31.999Z"
   },
   {
    "duration": 368,
    "start_time": "2021-10-02T12:48:36.835Z"
   },
   {
    "duration": 588,
    "start_time": "2021-10-02T12:48:47.521Z"
   },
   {
    "duration": 353,
    "start_time": "2021-10-02T12:48:56.211Z"
   },
   {
    "duration": 20,
    "start_time": "2021-10-02T12:55:31.489Z"
   },
   {
    "duration": 239,
    "start_time": "2021-10-02T12:55:45.635Z"
   },
   {
    "duration": 283,
    "start_time": "2021-10-02T12:57:46.412Z"
   },
   {
    "duration": 290,
    "start_time": "2021-10-02T12:57:58.732Z"
   },
   {
    "duration": 555,
    "start_time": "2021-10-02T12:58:14.451Z"
   },
   {
    "duration": 304,
    "start_time": "2021-10-02T13:00:44.675Z"
   },
   {
    "duration": 402,
    "start_time": "2021-10-02T13:00:51.574Z"
   },
   {
    "duration": 326,
    "start_time": "2021-10-02T13:02:47.783Z"
   },
   {
    "duration": 341,
    "start_time": "2021-10-02T13:05:59.189Z"
   },
   {
    "duration": 559,
    "start_time": "2021-10-02T13:07:22.280Z"
   },
   {
    "duration": 586,
    "start_time": "2021-10-02T13:07:29.555Z"
   },
   {
    "duration": 342,
    "start_time": "2021-10-02T13:10:05.543Z"
   },
   {
    "duration": 341,
    "start_time": "2021-10-02T13:10:39.371Z"
   },
   {
    "duration": 355,
    "start_time": "2021-10-02T13:10:47.518Z"
   },
   {
    "duration": 323,
    "start_time": "2021-10-02T13:11:52.014Z"
   },
   {
    "duration": 619,
    "start_time": "2021-10-02T13:12:44.163Z"
   },
   {
    "duration": 467,
    "start_time": "2021-10-02T13:13:27.652Z"
   },
   {
    "duration": 399,
    "start_time": "2021-10-02T13:13:40.594Z"
   },
   {
    "duration": 443,
    "start_time": "2021-10-02T13:14:53.452Z"
   },
   {
    "duration": 447,
    "start_time": "2021-10-02T13:15:05.095Z"
   },
   {
    "duration": 385,
    "start_time": "2021-10-02T13:15:22.128Z"
   },
   {
    "duration": 1073,
    "start_time": "2021-10-02T13:21:01.104Z"
   },
   {
    "duration": 468,
    "start_time": "2021-10-02T13:21:09.650Z"
   },
   {
    "duration": 392,
    "start_time": "2021-10-02T13:22:55.638Z"
   },
   {
    "duration": 255,
    "start_time": "2021-10-02T13:28:18.572Z"
   },
   {
    "duration": 381,
    "start_time": "2021-10-02T13:28:38.001Z"
   },
   {
    "duration": 250,
    "start_time": "2021-10-02T13:29:47.847Z"
   },
   {
    "duration": 79,
    "start_time": "2021-10-02T13:30:14.255Z"
   },
   {
    "duration": 402,
    "start_time": "2021-10-02T13:30:17.981Z"
   },
   {
    "duration": 214,
    "start_time": "2021-10-02T13:32:07.074Z"
   },
   {
    "duration": 257,
    "start_time": "2021-10-02T13:32:28.197Z"
   },
   {
    "duration": 216,
    "start_time": "2021-10-02T13:32:37.169Z"
   },
   {
    "duration": 206,
    "start_time": "2021-10-02T13:33:02.282Z"
   },
   {
    "duration": 274,
    "start_time": "2021-10-02T13:35:16.880Z"
   },
   {
    "duration": 377,
    "start_time": "2021-10-02T13:37:02.496Z"
   },
   {
    "duration": 264,
    "start_time": "2021-10-02T13:37:32.185Z"
   },
   {
    "duration": 25,
    "start_time": "2021-10-02T13:37:32.452Z"
   },
   {
    "duration": 20,
    "start_time": "2021-10-02T13:37:32.480Z"
   },
   {
    "duration": 9,
    "start_time": "2021-10-02T13:37:32.503Z"
   },
   {
    "duration": 10,
    "start_time": "2021-10-02T13:37:32.514Z"
   },
   {
    "duration": 51,
    "start_time": "2021-10-02T13:37:32.526Z"
   },
   {
    "duration": 7,
    "start_time": "2021-10-02T13:37:32.580Z"
   },
   {
    "duration": 6,
    "start_time": "2021-10-02T13:37:32.590Z"
   },
   {
    "duration": 5,
    "start_time": "2021-10-02T13:37:32.600Z"
   },
   {
    "duration": 1976,
    "start_time": "2021-10-02T13:37:32.608Z"
   },
   {
    "duration": 7,
    "start_time": "2021-10-02T13:37:34.586Z"
   },
   {
    "duration": 7,
    "start_time": "2021-10-02T13:37:34.595Z"
   },
   {
    "duration": 22,
    "start_time": "2021-10-02T13:37:34.604Z"
   },
   {
    "duration": 66,
    "start_time": "2021-10-02T13:37:34.629Z"
   },
   {
    "duration": 13,
    "start_time": "2021-10-02T13:37:34.697Z"
   },
   {
    "duration": 56,
    "start_time": "2021-10-02T13:37:34.712Z"
   },
   {
    "duration": 17,
    "start_time": "2021-10-02T13:37:34.771Z"
   },
   {
    "duration": 21,
    "start_time": "2021-10-02T13:37:34.791Z"
   },
   {
    "duration": 78,
    "start_time": "2021-10-02T13:37:34.815Z"
   },
   {
    "duration": 36,
    "start_time": "2021-10-02T13:37:34.896Z"
   },
   {
    "duration": 51,
    "start_time": "2021-10-02T13:37:34.934Z"
   },
   {
    "duration": 5,
    "start_time": "2021-10-02T13:37:34.987Z"
   },
   {
    "duration": 9,
    "start_time": "2021-10-02T13:37:34.995Z"
   },
   {
    "duration": 392,
    "start_time": "2021-10-02T13:37:35.006Z"
   },
   {
    "duration": 407,
    "start_time": "2021-10-02T13:37:35.400Z"
   },
   {
    "duration": 358,
    "start_time": "2021-10-02T13:37:40.984Z"
   },
   {
    "duration": 361,
    "start_time": "2021-10-02T13:37:47.035Z"
   },
   {
    "duration": 300,
    "start_time": "2021-10-03T02:27:09.660Z"
   },
   {
    "duration": 23,
    "start_time": "2021-10-03T02:27:09.964Z"
   },
   {
    "duration": 23,
    "start_time": "2021-10-03T02:27:09.991Z"
   },
   {
    "duration": 12,
    "start_time": "2021-10-03T02:27:10.017Z"
   },
   {
    "duration": 44,
    "start_time": "2021-10-03T02:27:10.032Z"
   },
   {
    "duration": 15,
    "start_time": "2021-10-03T02:27:10.079Z"
   },
   {
    "duration": 9,
    "start_time": "2021-10-03T02:27:10.096Z"
   },
   {
    "duration": 9,
    "start_time": "2021-10-03T02:27:10.108Z"
   },
   {
    "duration": 6,
    "start_time": "2021-10-03T02:27:10.120Z"
   },
   {
    "duration": 1904,
    "start_time": "2021-10-03T02:27:10.128Z"
   },
   {
    "duration": 6,
    "start_time": "2021-10-03T02:27:12.034Z"
   },
   {
    "duration": 26,
    "start_time": "2021-10-03T02:27:12.042Z"
   },
   {
    "duration": 22,
    "start_time": "2021-10-03T02:27:12.071Z"
   },
   {
    "duration": 31,
    "start_time": "2021-10-03T02:27:12.095Z"
   },
   {
    "duration": 45,
    "start_time": "2021-10-03T02:27:12.128Z"
   },
   {
    "duration": 36,
    "start_time": "2021-10-03T02:27:12.176Z"
   },
   {
    "duration": 18,
    "start_time": "2021-10-03T02:27:12.214Z"
   },
   {
    "duration": 50,
    "start_time": "2021-10-03T02:27:12.234Z"
   },
   {
    "duration": 58,
    "start_time": "2021-10-03T02:27:12.287Z"
   },
   {
    "duration": 42,
    "start_time": "2021-10-03T02:27:12.347Z"
   },
   {
    "duration": 29,
    "start_time": "2021-10-03T02:27:12.392Z"
   },
   {
    "duration": 6,
    "start_time": "2021-10-03T02:27:12.423Z"
   },
   {
    "duration": 35,
    "start_time": "2021-10-03T02:27:12.433Z"
   },
   {
    "duration": 367,
    "start_time": "2021-10-03T02:27:12.470Z"
   },
   {
    "duration": 587,
    "start_time": "2021-10-03T02:27:12.839Z"
   },
   {
    "duration": 385,
    "start_time": "2021-10-03T02:27:13.428Z"
   },
   {
    "duration": 29,
    "start_time": "2021-10-03T02:27:13.815Z"
   },
   {
    "duration": 260,
    "start_time": "2021-10-03T02:27:35.548Z"
   },
   {
    "duration": 42,
    "start_time": "2021-10-03T02:29:08.203Z"
   },
   {
    "duration": -162,
    "start_time": "2021-10-03T02:29:31.794Z"
   },
   {
    "duration": 5614,
    "start_time": "2021-10-03T02:29:39.190Z"
   },
   {
    "duration": 30,
    "start_time": "2021-10-03T02:29:57.392Z"
   },
   {
    "duration": 54,
    "start_time": "2021-10-03T02:30:10.782Z"
   },
   {
    "duration": 672,
    "start_time": "2021-10-03T02:31:12.423Z"
   },
   {
    "duration": 58,
    "start_time": "2021-10-03T02:32:10.937Z"
   },
   {
    "duration": 58,
    "start_time": "2021-10-03T02:32:27.359Z"
   },
   {
    "duration": 58,
    "start_time": "2021-10-03T02:32:31.376Z"
   },
   {
    "duration": 8,
    "start_time": "2021-10-03T02:33:02.644Z"
   },
   {
    "duration": 274,
    "start_time": "2021-10-03T02:33:10.489Z"
   },
   {
    "duration": 318,
    "start_time": "2021-10-03T02:33:28.071Z"
   },
   {
    "duration": 339,
    "start_time": "2021-10-03T02:35:02.049Z"
   },
   {
    "duration": 344,
    "start_time": "2021-10-03T02:35:31.581Z"
   },
   {
    "duration": 336,
    "start_time": "2021-10-03T02:36:52.561Z"
   },
   {
    "duration": 330,
    "start_time": "2021-10-03T02:40:07.815Z"
   },
   {
    "duration": 375,
    "start_time": "2021-10-03T02:52:05.586Z"
   },
   {
    "duration": 494,
    "start_time": "2021-10-03T02:58:09.777Z"
   },
   {
    "duration": 403,
    "start_time": "2021-10-03T02:58:41.849Z"
   },
   {
    "duration": 441,
    "start_time": "2021-10-03T02:59:06.191Z"
   },
   {
    "duration": 432,
    "start_time": "2021-10-03T03:02:16.976Z"
   },
   {
    "duration": 438,
    "start_time": "2021-10-03T03:04:18.851Z"
   },
   {
    "duration": 99,
    "start_time": "2021-10-03T03:06:33.862Z"
   },
   {
    "duration": 232,
    "start_time": "2021-10-03T03:07:11.995Z"
   },
   {
    "duration": 464,
    "start_time": "2021-10-03T03:08:31.136Z"
   },
   {
    "duration": 1655,
    "start_time": "2021-10-04T12:17:16.683Z"
   },
   {
    "duration": 29,
    "start_time": "2021-10-04T12:17:18.341Z"
   },
   {
    "duration": 20,
    "start_time": "2021-10-04T12:17:18.373Z"
   },
   {
    "duration": 9,
    "start_time": "2021-10-04T12:17:18.396Z"
   },
   {
    "duration": 10,
    "start_time": "2021-10-04T12:17:18.409Z"
   },
   {
    "duration": 59,
    "start_time": "2021-10-04T12:17:18.421Z"
   },
   {
    "duration": 10,
    "start_time": "2021-10-04T12:17:18.483Z"
   },
   {
    "duration": 7,
    "start_time": "2021-10-04T12:17:18.498Z"
   },
   {
    "duration": 8,
    "start_time": "2021-10-04T12:17:18.509Z"
   },
   {
    "duration": 1979,
    "start_time": "2021-10-04T12:17:18.519Z"
   },
   {
    "duration": 8,
    "start_time": "2021-10-04T12:17:20.501Z"
   },
   {
    "duration": 24,
    "start_time": "2021-10-04T12:17:20.512Z"
   },
   {
    "duration": 39,
    "start_time": "2021-10-04T12:17:20.539Z"
   },
   {
    "duration": 33,
    "start_time": "2021-10-04T12:17:20.581Z"
   },
   {
    "duration": 15,
    "start_time": "2021-10-04T12:17:20.616Z"
   },
   {
    "duration": 68,
    "start_time": "2021-10-04T12:17:20.634Z"
   },
   {
    "duration": 19,
    "start_time": "2021-10-04T12:17:20.705Z"
   },
   {
    "duration": 55,
    "start_time": "2021-10-04T12:17:20.727Z"
   },
   {
    "duration": 56,
    "start_time": "2021-10-04T12:17:20.785Z"
   },
   {
    "duration": 58,
    "start_time": "2021-10-04T12:17:20.844Z"
   },
   {
    "duration": 30,
    "start_time": "2021-10-04T12:17:20.905Z"
   },
   {
    "duration": 33,
    "start_time": "2021-10-04T12:17:20.937Z"
   },
   {
    "duration": 7,
    "start_time": "2021-10-04T12:17:20.974Z"
   },
   {
    "duration": 399,
    "start_time": "2021-10-04T12:17:29.622Z"
   },
   {
    "duration": 270,
    "start_time": "2021-10-04T12:17:48.089Z"
   },
   {
    "duration": 22,
    "start_time": "2021-10-04T12:17:48.362Z"
   },
   {
    "duration": 48,
    "start_time": "2021-10-04T12:17:48.387Z"
   },
   {
    "duration": 8,
    "start_time": "2021-10-04T12:17:48.438Z"
   },
   {
    "duration": 20,
    "start_time": "2021-10-04T12:17:48.448Z"
   },
   {
    "duration": 16,
    "start_time": "2021-10-04T12:17:48.471Z"
   },
   {
    "duration": 10,
    "start_time": "2021-10-04T12:17:48.490Z"
   },
   {
    "duration": 6,
    "start_time": "2021-10-04T12:17:48.505Z"
   },
   {
    "duration": 6,
    "start_time": "2021-10-04T12:17:48.514Z"
   },
   {
    "duration": 2100,
    "start_time": "2021-10-04T12:17:48.523Z"
   },
   {
    "duration": 6,
    "start_time": "2021-10-04T12:17:50.625Z"
   },
   {
    "duration": 8,
    "start_time": "2021-10-04T12:17:50.633Z"
   },
   {
    "duration": 34,
    "start_time": "2021-10-04T12:17:50.649Z"
   },
   {
    "duration": 31,
    "start_time": "2021-10-04T12:17:50.686Z"
   },
   {
    "duration": 49,
    "start_time": "2021-10-04T12:17:50.720Z"
   },
   {
    "duration": 34,
    "start_time": "2021-10-04T12:17:50.772Z"
   },
   {
    "duration": 20,
    "start_time": "2021-10-04T12:17:50.808Z"
   },
   {
    "duration": 56,
    "start_time": "2021-10-04T12:17:50.831Z"
   },
   {
    "duration": 79,
    "start_time": "2021-10-04T12:17:50.890Z"
   },
   {
    "duration": 40,
    "start_time": "2021-10-04T12:17:50.971Z"
   },
   {
    "duration": 55,
    "start_time": "2021-10-04T12:17:51.014Z"
   },
   {
    "duration": 8,
    "start_time": "2021-10-04T12:17:51.072Z"
   },
   {
    "duration": 7,
    "start_time": "2021-10-04T12:17:51.086Z"
   },
   {
    "duration": 431,
    "start_time": "2021-10-04T12:17:51.096Z"
   },
   {
    "duration": 413,
    "start_time": "2021-10-04T12:17:51.530Z"
   },
   {
    "duration": 394,
    "start_time": "2021-10-04T12:17:51.946Z"
   },
   {
    "duration": 41,
    "start_time": "2021-10-04T12:17:52.343Z"
   },
   {
    "duration": 356,
    "start_time": "2021-10-04T12:17:52.386Z"
   },
   {
    "duration": 347,
    "start_time": "2021-10-04T12:17:52.745Z"
   },
   {
    "duration": 494,
    "start_time": "2021-10-04T12:17:53.095Z"
   },
   {
    "duration": 467,
    "start_time": "2021-10-04T12:17:53.592Z"
   },
   {
    "duration": 489,
    "start_time": "2021-10-04T12:17:54.061Z"
   },
   {
    "duration": 19,
    "start_time": "2021-10-04T12:17:54.554Z"
   },
   {
    "duration": 199,
    "start_time": "2021-10-04T12:17:54.575Z"
   },
   {
    "duration": 8,
    "start_time": "2021-10-04T12:17:54.776Z"
   },
   {
    "duration": 542,
    "start_time": "2021-10-04T12:17:54.787Z"
   },
   {
    "duration": 39,
    "start_time": "2021-10-04T12:17:55.332Z"
   },
   {
    "duration": 403,
    "start_time": "2021-10-04T12:18:05.600Z"
   },
   {
    "duration": 387,
    "start_time": "2021-10-04T12:18:18.414Z"
   },
   {
    "duration": 88,
    "start_time": "2021-10-04T12:19:42.774Z"
   },
   {
    "duration": 402,
    "start_time": "2021-10-04T12:19:50.765Z"
   },
   {
    "duration": 402,
    "start_time": "2021-10-04T12:21:44.766Z"
   },
   {
    "duration": 382,
    "start_time": "2021-10-04T12:22:20.225Z"
   },
   {
    "duration": 386,
    "start_time": "2021-10-04T12:22:37.668Z"
   },
   {
    "duration": 382,
    "start_time": "2021-10-04T12:23:47.923Z"
   },
   {
    "duration": 490,
    "start_time": "2021-10-04T12:24:04.649Z"
   },
   {
    "duration": 383,
    "start_time": "2021-10-04T12:24:45.520Z"
   },
   {
    "duration": 384,
    "start_time": "2021-10-04T12:26:57.462Z"
   },
   {
    "duration": 580,
    "start_time": "2021-10-04T12:29:55.798Z"
   },
   {
    "duration": 563,
    "start_time": "2021-10-04T12:33:38.068Z"
   },
   {
    "duration": 374,
    "start_time": "2021-10-04T12:33:46.637Z"
   },
   {
    "duration": 374,
    "start_time": "2021-10-04T12:36:23.418Z"
   },
   {
    "duration": 349,
    "start_time": "2021-10-04T12:37:38.926Z"
   },
   {
    "duration": 269,
    "start_time": "2021-10-04T12:39:46.916Z"
   },
   {
    "duration": 278,
    "start_time": "2021-10-04T12:40:01.207Z"
   },
   {
    "duration": 271,
    "start_time": "2021-10-04T12:43:06.086Z"
   },
   {
    "duration": 365,
    "start_time": "2021-10-04T12:44:23.303Z"
   },
   {
    "duration": 375,
    "start_time": "2021-10-04T12:45:03.792Z"
   },
   {
    "duration": 10,
    "start_time": "2021-10-04T12:45:36.545Z"
   },
   {
    "duration": 462,
    "start_time": "2021-10-04T12:49:46.178Z"
   },
   {
    "duration": 461,
    "start_time": "2021-10-04T12:51:28.551Z"
   },
   {
    "duration": 553,
    "start_time": "2021-10-04T12:52:01.086Z"
   },
   {
    "duration": 468,
    "start_time": "2021-10-04T12:52:21.607Z"
   },
   {
    "duration": 748,
    "start_time": "2021-10-04T12:56:44.749Z"
   },
   {
    "duration": 44,
    "start_time": "2021-10-04T13:01:55.728Z"
   },
   {
    "duration": 306,
    "start_time": "2021-10-04T13:02:37.765Z"
   },
   {
    "duration": 20,
    "start_time": "2021-10-04T13:02:38.073Z"
   },
   {
    "duration": 26,
    "start_time": "2021-10-04T13:02:38.096Z"
   },
   {
    "duration": 14,
    "start_time": "2021-10-04T13:02:38.124Z"
   },
   {
    "duration": 31,
    "start_time": "2021-10-04T13:02:38.140Z"
   },
   {
    "duration": 17,
    "start_time": "2021-10-04T13:02:38.173Z"
   },
   {
    "duration": 9,
    "start_time": "2021-10-04T13:02:38.192Z"
   },
   {
    "duration": 7,
    "start_time": "2021-10-04T13:02:38.203Z"
   },
   {
    "duration": 7,
    "start_time": "2021-10-04T13:02:38.214Z"
   },
   {
    "duration": 2030,
    "start_time": "2021-10-04T13:02:38.224Z"
   },
   {
    "duration": 11,
    "start_time": "2021-10-04T13:02:40.257Z"
   },
   {
    "duration": 14,
    "start_time": "2021-10-04T13:02:40.271Z"
   },
   {
    "duration": 26,
    "start_time": "2021-10-04T13:02:40.287Z"
   },
   {
    "duration": 65,
    "start_time": "2021-10-04T13:02:40.315Z"
   },
   {
    "duration": 13,
    "start_time": "2021-10-04T13:02:40.383Z"
   },
   {
    "duration": 34,
    "start_time": "2021-10-04T13:02:40.399Z"
   },
   {
    "duration": 48,
    "start_time": "2021-10-04T13:02:40.436Z"
   },
   {
    "duration": 20,
    "start_time": "2021-10-04T13:02:40.487Z"
   },
   {
    "duration": 83,
    "start_time": "2021-10-04T13:02:40.510Z"
   },
   {
    "duration": 35,
    "start_time": "2021-10-04T13:02:40.595Z"
   },
   {
    "duration": 53,
    "start_time": "2021-10-04T13:02:40.633Z"
   },
   {
    "duration": 5,
    "start_time": "2021-10-04T13:02:40.689Z"
   },
   {
    "duration": 16,
    "start_time": "2021-10-04T13:02:40.696Z"
   },
   {
    "duration": 423,
    "start_time": "2021-10-04T13:02:40.715Z"
   },
   {
    "duration": 412,
    "start_time": "2021-10-04T13:02:41.141Z"
   },
   {
    "duration": 394,
    "start_time": "2021-10-04T13:02:41.556Z"
   },
   {
    "duration": 38,
    "start_time": "2021-10-04T13:02:41.956Z"
   },
   {
    "duration": 376,
    "start_time": "2021-10-04T13:02:41.996Z"
   },
   {
    "duration": 341,
    "start_time": "2021-10-04T13:02:42.374Z"
   },
   {
    "duration": 592,
    "start_time": "2021-10-04T13:02:42.717Z"
   },
   {
    "duration": 462,
    "start_time": "2021-10-04T13:02:43.312Z"
   },
   {
    "duration": 490,
    "start_time": "2021-10-04T13:02:43.777Z"
   },
   {
    "duration": 13,
    "start_time": "2021-10-04T13:02:44.269Z"
   },
   {
    "duration": 133,
    "start_time": "2021-10-04T13:02:44.285Z"
   },
   {
    "duration": 9,
    "start_time": "2021-10-04T13:02:44.420Z"
   },
   {
    "duration": 539,
    "start_time": "2021-10-04T13:02:44.432Z"
   },
   {
    "duration": 26,
    "start_time": "2021-10-04T13:02:44.974Z"
   },
   {
    "duration": 406,
    "start_time": "2021-10-04T13:02:45.003Z"
   },
   {
    "duration": 496,
    "start_time": "2021-10-04T13:02:45.411Z"
   },
   {
    "duration": 353,
    "start_time": "2021-10-04T13:02:45.910Z"
   },
   {
    "duration": 275,
    "start_time": "2021-10-04T13:02:46.268Z"
   },
   {
    "duration": 394,
    "start_time": "2021-10-04T13:02:46.546Z"
   },
   {
    "duration": 480,
    "start_time": "2021-10-04T13:02:46.942Z"
   },
   {
    "duration": 753,
    "start_time": "2021-10-04T13:02:47.424Z"
   },
   {
    "duration": 40,
    "start_time": "2021-10-04T13:02:48.179Z"
   },
   {
    "duration": 65,
    "start_time": "2021-10-04T13:02:48.222Z"
   },
   {
    "duration": 55,
    "start_time": "2021-10-04T13:03:19.648Z"
   },
   {
    "duration": 593,
    "start_time": "2021-10-04T13:06:35.280Z"
   },
   {
    "duration": 575,
    "start_time": "2021-10-04T13:06:39.310Z"
   },
   {
    "duration": 575,
    "start_time": "2021-10-04T13:06:43.559Z"
   },
   {
    "duration": 607,
    "start_time": "2021-10-04T13:06:48.403Z"
   },
   {
    "duration": 41,
    "start_time": "2021-10-04T14:28:17.323Z"
   },
   {
    "duration": 29,
    "start_time": "2021-10-04T14:28:53.499Z"
   },
   {
    "duration": 44,
    "start_time": "2021-10-04T14:29:25.943Z"
   },
   {
    "duration": 34,
    "start_time": "2021-10-04T14:29:48.867Z"
   },
   {
    "duration": 33,
    "start_time": "2021-10-04T14:30:15.124Z"
   },
   {
    "duration": 34,
    "start_time": "2021-10-04T14:32:28.068Z"
   },
   {
    "duration": 281,
    "start_time": "2021-10-04T14:42:06.775Z"
   },
   {
    "duration": 25,
    "start_time": "2021-10-04T14:42:07.059Z"
   },
   {
    "duration": 29,
    "start_time": "2021-10-04T14:42:07.087Z"
   },
   {
    "duration": 12,
    "start_time": "2021-10-04T14:42:07.119Z"
   },
   {
    "duration": 36,
    "start_time": "2021-10-04T14:42:07.134Z"
   },
   {
    "duration": 16,
    "start_time": "2021-10-04T14:42:07.173Z"
   },
   {
    "duration": 9,
    "start_time": "2021-10-04T14:42:07.192Z"
   },
   {
    "duration": 9,
    "start_time": "2021-10-04T14:42:07.204Z"
   },
   {
    "duration": 10,
    "start_time": "2021-10-04T14:42:07.216Z"
   },
   {
    "duration": 1997,
    "start_time": "2021-10-04T14:42:07.229Z"
   },
   {
    "duration": 8,
    "start_time": "2021-10-04T14:42:09.228Z"
   },
   {
    "duration": 30,
    "start_time": "2021-10-04T14:42:09.239Z"
   },
   {
    "duration": 26,
    "start_time": "2021-10-04T14:42:09.271Z"
   },
   {
    "duration": 31,
    "start_time": "2021-10-04T14:42:09.300Z"
   },
   {
    "duration": 44,
    "start_time": "2021-10-04T14:42:09.333Z"
   },
   {
    "duration": 33,
    "start_time": "2021-10-04T14:42:09.380Z"
   },
   {
    "duration": 17,
    "start_time": "2021-10-04T14:42:09.416Z"
   },
   {
    "duration": 22,
    "start_time": "2021-10-04T14:42:09.468Z"
   },
   {
    "duration": 54,
    "start_time": "2021-10-04T14:42:09.493Z"
   },
   {
    "duration": 37,
    "start_time": "2021-10-04T14:42:09.568Z"
   },
   {
    "duration": 30,
    "start_time": "2021-10-04T14:42:09.607Z"
   },
   {
    "duration": 30,
    "start_time": "2021-10-04T14:42:09.640Z"
   },
   {
    "duration": 12,
    "start_time": "2021-10-04T14:42:09.672Z"
   },
   {
    "duration": 418,
    "start_time": "2021-10-04T14:42:09.687Z"
   },
   {
    "duration": 413,
    "start_time": "2021-10-04T14:42:10.108Z"
   },
   {
    "duration": 474,
    "start_time": "2021-10-04T14:42:10.523Z"
   },
   {
    "duration": 29,
    "start_time": "2021-10-04T14:42:11.003Z"
   },
   {
    "duration": 362,
    "start_time": "2021-10-04T14:42:11.035Z"
   },
   {
    "duration": 344,
    "start_time": "2021-10-04T14:42:11.399Z"
   },
   {
    "duration": 414,
    "start_time": "2021-10-04T14:42:11.746Z"
   },
   {
    "duration": 465,
    "start_time": "2021-10-04T14:42:12.162Z"
   },
   {
    "duration": 508,
    "start_time": "2021-10-04T14:42:12.629Z"
   },
   {
    "duration": 10,
    "start_time": "2021-10-04T14:42:13.139Z"
   },
   {
    "duration": 124,
    "start_time": "2021-10-04T14:42:13.152Z"
   },
   {
    "duration": 8,
    "start_time": "2021-10-04T14:42:13.279Z"
   },
   {
    "duration": 541,
    "start_time": "2021-10-04T14:42:13.289Z"
   },
   {
    "duration": 36,
    "start_time": "2021-10-04T14:42:13.832Z"
   },
   {
    "duration": 605,
    "start_time": "2021-10-04T14:42:13.871Z"
   },
   {
    "duration": 400,
    "start_time": "2021-10-04T14:42:14.479Z"
   },
   {
    "duration": 352,
    "start_time": "2021-10-04T14:42:14.882Z"
   },
   {
    "duration": 288,
    "start_time": "2021-10-04T14:42:15.237Z"
   },
   {
    "duration": 475,
    "start_time": "2021-10-04T14:42:15.527Z"
   },
   {
    "duration": 484,
    "start_time": "2021-10-04T14:42:16.004Z"
   },
   {
    "duration": 796,
    "start_time": "2021-10-04T14:42:16.491Z"
   },
   {
    "duration": 40,
    "start_time": "2021-10-04T14:42:17.289Z"
   },
   {
    "duration": 64,
    "start_time": "2021-10-04T14:42:17.331Z"
   },
   {
    "duration": 52,
    "start_time": "2021-10-04T14:42:17.397Z"
   },
   {
    "duration": 209,
    "start_time": "2021-10-04T14:42:17.467Z"
   },
   {
    "duration": 595,
    "start_time": "2021-10-04T14:42:17.679Z"
   },
   {
    "duration": 662,
    "start_time": "2021-10-04T14:42:18.277Z"
   },
   {
    "duration": 595,
    "start_time": "2021-10-04T14:42:18.941Z"
   },
   {
    "duration": 620,
    "start_time": "2021-10-04T14:42:19.538Z"
   },
   {
    "duration": 408,
    "start_time": "2021-10-04T14:42:20.160Z"
   },
   {
    "duration": 400,
    "start_time": "2021-10-04T14:42:20.570Z"
   },
   {
    "duration": 371,
    "start_time": "2021-10-04T14:42:20.973Z"
   },
   {
    "duration": 390,
    "start_time": "2021-10-04T14:42:21.347Z"
   },
   {
    "duration": 49,
    "start_time": "2021-10-04T14:42:21.740Z"
   },
   {
    "duration": 172,
    "start_time": "2021-10-04T14:42:21.792Z"
   },
   {
    "duration": 487,
    "start_time": "2021-10-04T14:42:21.967Z"
   },
   {
    "duration": 454,
    "start_time": "2021-10-04T14:42:22.457Z"
   },
   {
    "duration": 37,
    "start_time": "2021-10-04T14:45:05.545Z"
   },
   {
    "duration": 33,
    "start_time": "2021-10-04T14:45:38.658Z"
   },
   {
    "duration": 341,
    "start_time": "2021-10-04T14:56:35.999Z"
   },
   {
    "duration": 25,
    "start_time": "2021-10-04T14:56:36.344Z"
   },
   {
    "duration": 28,
    "start_time": "2021-10-04T14:56:36.373Z"
   },
   {
    "duration": 10,
    "start_time": "2021-10-04T14:56:36.404Z"
   },
   {
    "duration": 10,
    "start_time": "2021-10-04T14:56:36.417Z"
   },
   {
    "duration": 48,
    "start_time": "2021-10-04T14:56:36.430Z"
   },
   {
    "duration": 9,
    "start_time": "2021-10-04T14:56:36.481Z"
   },
   {
    "duration": 15,
    "start_time": "2021-10-04T14:56:36.492Z"
   },
   {
    "duration": 9,
    "start_time": "2021-10-04T14:56:36.511Z"
   },
   {
    "duration": 1990,
    "start_time": "2021-10-04T14:56:36.523Z"
   },
   {
    "duration": 6,
    "start_time": "2021-10-04T14:56:38.516Z"
   },
   {
    "duration": 39,
    "start_time": "2021-10-04T14:56:38.525Z"
   },
   {
    "duration": 21,
    "start_time": "2021-10-04T14:56:38.567Z"
   },
   {
    "duration": 30,
    "start_time": "2021-10-04T14:56:38.590Z"
   },
   {
    "duration": 13,
    "start_time": "2021-10-04T14:56:38.622Z"
   },
   {
    "duration": 64,
    "start_time": "2021-10-04T14:56:38.637Z"
   },
   {
    "duration": 18,
    "start_time": "2021-10-04T14:56:38.704Z"
   },
   {
    "duration": 54,
    "start_time": "2021-10-04T14:56:38.724Z"
   },
   {
    "duration": 52,
    "start_time": "2021-10-04T14:56:38.780Z"
   },
   {
    "duration": 56,
    "start_time": "2021-10-04T14:56:38.835Z"
   },
   {
    "duration": 29,
    "start_time": "2021-10-04T14:56:38.894Z"
   },
   {
    "duration": 5,
    "start_time": "2021-10-04T14:56:38.926Z"
   },
   {
    "duration": 35,
    "start_time": "2021-10-04T14:56:38.933Z"
   },
   {
    "duration": 405,
    "start_time": "2021-10-04T14:56:38.970Z"
   },
   {
    "duration": 413,
    "start_time": "2021-10-04T14:56:39.378Z"
   },
   {
    "duration": 412,
    "start_time": "2021-10-04T14:56:39.794Z"
   },
   {
    "duration": 74,
    "start_time": "2021-10-04T14:56:40.215Z"
   },
   {
    "duration": 356,
    "start_time": "2021-10-04T14:56:40.292Z"
   },
   {
    "duration": 366,
    "start_time": "2021-10-04T14:56:40.650Z"
   },
   {
    "duration": 471,
    "start_time": "2021-10-04T14:56:41.019Z"
   },
   {
    "duration": 632,
    "start_time": "2021-10-04T14:56:41.492Z"
   },
   {
    "duration": 493,
    "start_time": "2021-10-04T14:56:42.126Z"
   },
   {
    "duration": 10,
    "start_time": "2021-10-04T14:56:42.621Z"
   },
   {
    "duration": 125,
    "start_time": "2021-10-04T14:56:42.634Z"
   },
   {
    "duration": 14,
    "start_time": "2021-10-04T14:56:42.761Z"
   },
   {
    "duration": 538,
    "start_time": "2021-10-04T14:56:42.777Z"
   },
   {
    "duration": 25,
    "start_time": "2021-10-04T14:56:43.318Z"
   },
   {
    "duration": 417,
    "start_time": "2021-10-04T14:56:43.346Z"
   },
   {
    "duration": 502,
    "start_time": "2021-10-04T14:56:43.768Z"
   },
   {
    "duration": 361,
    "start_time": "2021-10-04T14:56:44.273Z"
   },
   {
    "duration": 297,
    "start_time": "2021-10-04T14:56:44.637Z"
   },
   {
    "duration": 399,
    "start_time": "2021-10-04T14:56:44.937Z"
   },
   {
    "duration": 487,
    "start_time": "2021-10-04T14:56:45.339Z"
   },
   {
    "duration": 758,
    "start_time": "2021-10-04T14:56:45.828Z"
   },
   {
    "duration": 40,
    "start_time": "2021-10-04T14:56:46.588Z"
   },
   {
    "duration": 64,
    "start_time": "2021-10-04T14:56:46.631Z"
   },
   {
    "duration": 55,
    "start_time": "2021-10-04T14:56:46.697Z"
   },
   {
    "duration": 219,
    "start_time": "2021-10-04T14:56:46.767Z"
   },
   {
    "duration": 591,
    "start_time": "2021-10-04T14:56:46.989Z"
   },
   {
    "duration": 588,
    "start_time": "2021-10-04T14:56:47.583Z"
   },
   {
    "duration": 715,
    "start_time": "2021-10-04T14:56:48.173Z"
   },
   {
    "duration": 606,
    "start_time": "2021-10-04T14:56:48.891Z"
   },
   {
    "duration": 405,
    "start_time": "2021-10-04T14:56:49.500Z"
   },
   {
    "duration": 504,
    "start_time": "2021-10-04T14:56:49.907Z"
   },
   {
    "duration": 370,
    "start_time": "2021-10-04T14:56:50.414Z"
   },
   {
    "duration": 377,
    "start_time": "2021-10-04T14:56:50.786Z"
   },
   {
    "duration": 34,
    "start_time": "2021-10-04T14:56:51.168Z"
   },
   {
    "duration": 77,
    "start_time": "2021-10-04T14:56:51.205Z"
   },
   {
    "duration": 465,
    "start_time": "2021-10-04T14:56:51.284Z"
   },
   {
    "duration": 448,
    "start_time": "2021-10-04T14:56:51.752Z"
   },
   {
    "duration": 1722,
    "start_time": "2021-10-07T09:55:05.044Z"
   },
   {
    "duration": 29,
    "start_time": "2021-10-07T09:55:06.769Z"
   },
   {
    "duration": 19,
    "start_time": "2021-10-07T09:55:06.802Z"
   },
   {
    "duration": 19,
    "start_time": "2021-10-07T09:55:06.824Z"
   },
   {
    "duration": 21,
    "start_time": "2021-10-07T09:55:06.846Z"
   },
   {
    "duration": 11,
    "start_time": "2021-10-07T09:55:06.882Z"
   },
   {
    "duration": 12,
    "start_time": "2021-10-07T09:55:06.895Z"
   },
   {
    "duration": 9,
    "start_time": "2021-10-07T09:55:06.911Z"
   },
   {
    "duration": 21,
    "start_time": "2021-10-07T09:55:06.922Z"
   },
   {
    "duration": 2006,
    "start_time": "2021-10-07T09:55:06.945Z"
   },
   {
    "duration": 7,
    "start_time": "2021-10-07T09:55:08.953Z"
   },
   {
    "duration": 22,
    "start_time": "2021-10-07T09:55:08.963Z"
   },
   {
    "duration": 22,
    "start_time": "2021-10-07T09:55:08.987Z"
   },
   {
    "duration": 22,
    "start_time": "2021-10-07T09:55:09.012Z"
   },
   {
    "duration": 13,
    "start_time": "2021-10-07T09:55:09.036Z"
   },
   {
    "duration": 40,
    "start_time": "2021-10-07T09:55:09.083Z"
   },
   {
    "duration": 14,
    "start_time": "2021-10-07T09:55:09.126Z"
   },
   {
    "duration": 48,
    "start_time": "2021-10-07T09:55:09.143Z"
   },
   {
    "duration": 50,
    "start_time": "2021-10-07T09:55:09.194Z"
   },
   {
    "duration": 52,
    "start_time": "2021-10-07T09:55:09.247Z"
   },
   {
    "duration": 28,
    "start_time": "2021-10-07T09:55:09.301Z"
   },
   {
    "duration": 4,
    "start_time": "2021-10-07T09:55:09.332Z"
   },
   {
    "duration": 9,
    "start_time": "2021-10-07T09:55:09.342Z"
   },
   {
    "duration": 403,
    "start_time": "2021-10-07T09:55:09.355Z"
   },
   {
    "duration": 496,
    "start_time": "2021-10-07T09:55:09.760Z"
   },
   {
    "duration": 381,
    "start_time": "2021-10-07T09:55:10.259Z"
   },
   {
    "duration": 41,
    "start_time": "2021-10-07T09:55:10.643Z"
   },
   {
    "duration": 341,
    "start_time": "2021-10-07T09:55:10.686Z"
   },
   {
    "duration": 334,
    "start_time": "2021-10-07T09:55:11.030Z"
   },
   {
    "duration": 373,
    "start_time": "2021-10-07T09:55:11.367Z"
   },
   {
    "duration": 449,
    "start_time": "2021-10-07T09:55:11.742Z"
   },
   {
    "duration": 540,
    "start_time": "2021-10-07T09:55:12.193Z"
   },
   {
    "duration": 10,
    "start_time": "2021-10-07T09:55:12.736Z"
   },
   {
    "duration": 94,
    "start_time": "2021-10-07T09:55:12.750Z"
   },
   {
    "duration": 9,
    "start_time": "2021-10-07T09:55:12.846Z"
   },
   {
    "duration": 315,
    "start_time": "2021-10-07T09:55:12.858Z"
   },
   {
    "duration": 21,
    "start_time": "2021-10-07T09:55:13.183Z"
   },
   {
    "duration": 381,
    "start_time": "2021-10-07T09:55:13.206Z"
   },
   {
    "duration": 369,
    "start_time": "2021-10-07T09:55:13.589Z"
   },
   {
    "duration": 353,
    "start_time": "2021-10-07T09:55:13.960Z"
   },
   {
    "duration": 282,
    "start_time": "2021-10-07T09:55:14.316Z"
   },
   {
    "duration": 366,
    "start_time": "2021-10-07T09:55:14.601Z"
   },
   {
    "duration": 451,
    "start_time": "2021-10-07T09:55:14.969Z"
   },
   {
    "duration": 725,
    "start_time": "2021-10-07T09:55:15.423Z"
   },
   {
    "duration": 52,
    "start_time": "2021-10-07T09:55:16.151Z"
   },
   {
    "duration": 42,
    "start_time": "2021-10-07T09:55:16.206Z"
   },
   {
    "duration": 54,
    "start_time": "2021-10-07T09:55:16.251Z"
   },
   {
    "duration": 960,
    "start_time": "2021-10-07T09:55:16.308Z"
   },
   {
    "duration": 649,
    "start_time": "2021-10-07T09:55:17.271Z"
   },
   {
    "duration": 598,
    "start_time": "2021-10-07T09:55:17.923Z"
   },
   {
    "duration": 554,
    "start_time": "2021-10-07T09:55:18.523Z"
   },
   {
    "duration": 566,
    "start_time": "2021-10-07T09:55:19.083Z"
   },
   {
    "duration": 383,
    "start_time": "2021-10-07T09:55:19.651Z"
   },
   {
    "duration": 390,
    "start_time": "2021-10-07T09:55:20.036Z"
   },
   {
    "duration": 356,
    "start_time": "2021-10-07T09:55:20.429Z"
   },
   {
    "duration": 380,
    "start_time": "2021-10-07T09:55:20.788Z"
   },
   {
    "duration": 39,
    "start_time": "2021-10-07T09:55:21.170Z"
   },
   {
    "duration": 36,
    "start_time": "2021-10-07T09:55:21.211Z"
   },
   {
    "duration": 485,
    "start_time": "2021-10-07T09:55:21.249Z"
   },
   {
    "duration": 441,
    "start_time": "2021-10-07T09:55:21.736Z"
   },
   {
    "duration": 457,
    "start_time": "2021-10-07T10:01:18.032Z"
   },
   {
    "duration": 1756,
    "start_time": "2021-10-07T10:01:28.416Z"
   },
   {
    "duration": 30,
    "start_time": "2021-10-07T10:01:30.175Z"
   },
   {
    "duration": 31,
    "start_time": "2021-10-07T10:01:30.209Z"
   },
   {
    "duration": 39,
    "start_time": "2021-10-07T10:01:30.244Z"
   },
   {
    "duration": 21,
    "start_time": "2021-10-07T10:01:30.286Z"
   },
   {
    "duration": 42,
    "start_time": "2021-10-07T10:01:30.310Z"
   },
   {
    "duration": 42,
    "start_time": "2021-10-07T10:01:30.355Z"
   },
   {
    "duration": 27,
    "start_time": "2021-10-07T10:01:30.403Z"
   },
   {
    "duration": 24,
    "start_time": "2021-10-07T10:01:30.434Z"
   },
   {
    "duration": 2054,
    "start_time": "2021-10-07T10:01:30.460Z"
   },
   {
    "duration": 6,
    "start_time": "2021-10-07T10:01:32.517Z"
   },
   {
    "duration": 9,
    "start_time": "2021-10-07T10:01:32.525Z"
   },
   {
    "duration": 47,
    "start_time": "2021-10-07T10:01:32.536Z"
   },
   {
    "duration": 21,
    "start_time": "2021-10-07T10:01:32.586Z"
   },
   {
    "duration": 12,
    "start_time": "2021-10-07T10:01:32.610Z"
   },
   {
    "duration": 74,
    "start_time": "2021-10-07T10:01:32.624Z"
   },
   {
    "duration": 18,
    "start_time": "2021-10-07T10:01:32.701Z"
   },
   {
    "duration": 28,
    "start_time": "2021-10-07T10:01:32.723Z"
   },
   {
    "duration": 102,
    "start_time": "2021-10-07T10:01:32.754Z"
   },
   {
    "duration": 50,
    "start_time": "2021-10-07T10:01:32.859Z"
   },
   {
    "duration": 26,
    "start_time": "2021-10-07T10:01:32.912Z"
   },
   {
    "duration": 5,
    "start_time": "2021-10-07T10:01:32.941Z"
   },
   {
    "duration": 31,
    "start_time": "2021-10-07T10:01:32.951Z"
   },
   {
    "duration": 389,
    "start_time": "2021-10-07T10:01:32.985Z"
   },
   {
    "duration": 431,
    "start_time": "2021-10-07T10:01:33.377Z"
   },
   {
    "duration": 379,
    "start_time": "2021-10-07T10:01:33.811Z"
   },
   {
    "duration": 28,
    "start_time": "2021-10-07T10:01:34.192Z"
   },
   {
    "duration": 365,
    "start_time": "2021-10-07T10:01:34.223Z"
   },
   {
    "duration": 374,
    "start_time": "2021-10-07T10:01:34.590Z"
   },
   {
    "duration": 378,
    "start_time": "2021-10-07T10:01:34.966Z"
   },
   {
    "duration": 451,
    "start_time": "2021-10-07T10:01:35.347Z"
   },
   {
    "duration": 727,
    "start_time": "2021-10-07T10:01:35.801Z"
   },
   {
    "duration": 52,
    "start_time": "2021-10-07T10:01:36.530Z"
   },
   {
    "duration": 96,
    "start_time": "2021-10-07T10:01:36.586Z"
   },
   {
    "duration": 9,
    "start_time": "2021-10-07T10:01:36.685Z"
   },
   {
    "duration": 307,
    "start_time": "2021-10-07T10:01:36.697Z"
   },
   {
    "duration": 21,
    "start_time": "2021-10-07T10:01:37.006Z"
   },
   {
    "duration": 396,
    "start_time": "2021-10-07T10:01:37.029Z"
   },
   {
    "duration": 387,
    "start_time": "2021-10-07T10:01:37.428Z"
   },
   {
    "duration": 357,
    "start_time": "2021-10-07T10:01:37.818Z"
   },
   {
    "duration": 283,
    "start_time": "2021-10-07T10:01:38.183Z"
   },
   {
    "duration": 366,
    "start_time": "2021-10-07T10:01:38.468Z"
   },
   {
    "duration": 449,
    "start_time": "2021-10-07T10:01:38.836Z"
   },
   {
    "duration": 715,
    "start_time": "2021-10-07T10:01:39.287Z"
   },
   {
    "duration": 43,
    "start_time": "2021-10-07T10:01:40.004Z"
   },
   {
    "duration": 68,
    "start_time": "2021-10-07T10:01:40.050Z"
   },
   {
    "duration": 36,
    "start_time": "2021-10-07T10:01:40.121Z"
   },
   {
    "duration": 944,
    "start_time": "2021-10-07T10:01:40.160Z"
   },
   {
    "duration": 658,
    "start_time": "2021-10-07T10:01:41.106Z"
   },
   {
    "duration": 560,
    "start_time": "2021-10-07T10:01:41.767Z"
   },
   {
    "duration": 568,
    "start_time": "2021-10-07T10:01:42.329Z"
   },
   {
    "duration": 576,
    "start_time": "2021-10-07T10:01:42.899Z"
   },
   {
    "duration": 383,
    "start_time": "2021-10-07T10:01:43.482Z"
   },
   {
    "duration": 403,
    "start_time": "2021-10-07T10:01:43.867Z"
   },
   {
    "duration": 347,
    "start_time": "2021-10-07T10:01:44.273Z"
   },
   {
    "duration": 349,
    "start_time": "2021-10-07T10:01:44.622Z"
   },
   {
    "duration": 42,
    "start_time": "2021-10-07T10:01:44.974Z"
   },
   {
    "duration": 35,
    "start_time": "2021-10-07T10:01:45.018Z"
   },
   {
    "duration": 469,
    "start_time": "2021-10-07T10:01:45.055Z"
   },
   {
    "duration": 422,
    "start_time": "2021-10-07T10:01:45.527Z"
   },
   {
    "duration": 96,
    "start_time": "2021-10-07T10:03:46.529Z"
   }
  ],
  "kernelspec": {
   "display_name": "Python 3 (ipykernel)",
   "language": "python",
   "name": "python3"
  },
  "language_info": {
   "codemirror_mode": {
    "name": "ipython",
    "version": 3
   },
   "file_extension": ".py",
   "mimetype": "text/x-python",
   "name": "python",
   "nbconvert_exporter": "python",
   "pygments_lexer": "ipython3",
   "version": "3.9.12"
  },
  "toc": {
   "base_numbering": 1,
   "nav_menu": {},
   "number_sections": true,
   "sideBar": true,
   "skip_h1_title": true,
   "title_cell": "Table of Contents",
   "title_sidebar": "Contents",
   "toc_cell": false,
   "toc_position": {},
   "toc_section_display": true,
   "toc_window_display": false
  }
 },
 "nbformat": 4,
 "nbformat_minor": 2
}
