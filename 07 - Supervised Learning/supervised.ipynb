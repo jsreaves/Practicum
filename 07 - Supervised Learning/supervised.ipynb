{
 "cells": [
  {
   "cell_type": "markdown",
   "id": "96d97e71",
   "metadata": {},
   "source": [
    "# Introduction\n",
    "Beta Bank customers are leaving: little by little, chipping away every month.  The bankers figured out that it's cheaper to save the existing customers rather than to attract new ones.  In this project, we will use customer churn data to develop a machine learning model to predict whether a customer will leave the bank soon.\n",
    "\n",
    "First, we will review the data to gain a general familiarity and to identify preprocessing requirements. During the preprocessing phase, we will fill missing values, eliminate unnecessary columns, prepare the data for machine learning, and split the data into subsets for model development and testing. Next, we will build several machine learning models, with the goal achieving an _f1_ score of at least 0.59.  Our initial model will retain the class imbalance in the data.  Then, we will remedy the class imbalance in an effort to improve the model."
   ]
  },
  {
   "cell_type": "markdown",
   "id": "7a7a2055",
   "metadata": {},
   "source": [
    "# Preliminary data review"
   ]
  },
  {
   "cell_type": "code",
   "execution_count": 1,
   "id": "ab743a97",
   "metadata": {},
   "outputs": [],
   "source": [
    "from sklearn.dummy import DummyClassifier\n",
    "from sklearn.ensemble import RandomForestClassifier\n",
    "from sklearn.linear_model import LogisticRegression\n",
    "from sklearn.metrics import confusion_matrix, accuracy_score, recall_score, precision_score, \\\n",
    "                            f1_score, classification_report, roc_curve, auc\n",
    "from sklearn.model_selection import GridSearchCV, train_test_split\n",
    "from sklearn.preprocessing import StandardScaler\n",
    "from sklearn.utils import shuffle\n",
    "import matplotlib.pyplot as plt\n",
    "import numpy as np\n",
    "import pandas as pd\n",
    "import seaborn as sns\n",
    "import warnings"
   ]
  },
  {
   "cell_type": "code",
   "execution_count": 2,
   "id": "fc819e96",
   "metadata": {},
   "outputs": [],
   "source": [
    "warnings.filterwarnings('ignore')\n",
    "\n",
    "random_state = 12345\n",
    "scoring = 'f1'\n",
    "\n",
    "try:\n",
    "    df = pd.read_csv('Churn.csv')\n",
    "except:\n",
    "    df = pd.read_csv('/datasets/Churn.csv')"
   ]
  },
  {
   "cell_type": "code",
   "execution_count": 3,
   "id": "d0cc7458",
   "metadata": {},
   "outputs": [
    {
     "name": "stdout",
     "output_type": "stream",
     "text": [
      "<class 'pandas.core.frame.DataFrame'>\n",
      "RangeIndex: 10000 entries, 0 to 9999\n",
      "Data columns (total 14 columns):\n",
      " #   Column           Non-Null Count  Dtype  \n",
      "---  ------           --------------  -----  \n",
      " 0   RowNumber        10000 non-null  int64  \n",
      " 1   CustomerId       10000 non-null  int64  \n",
      " 2   Surname          10000 non-null  object \n",
      " 3   CreditScore      10000 non-null  int64  \n",
      " 4   Geography        10000 non-null  object \n",
      " 5   Gender           10000 non-null  object \n",
      " 6   Age              10000 non-null  int64  \n",
      " 7   Tenure           9091 non-null   float64\n",
      " 8   Balance          10000 non-null  float64\n",
      " 9   NumOfProducts    10000 non-null  int64  \n",
      " 10  HasCrCard        10000 non-null  int64  \n",
      " 11  IsActiveMember   10000 non-null  int64  \n",
      " 12  EstimatedSalary  10000 non-null  float64\n",
      " 13  Exited           10000 non-null  int64  \n",
      "dtypes: float64(3), int64(8), object(3)\n",
      "memory usage: 1.1+ MB\n"
     ]
    }
   ],
   "source": [
    "df.info()"
   ]
  },
  {
   "cell_type": "markdown",
   "id": "0274c24a",
   "metadata": {},
   "source": [
    "There are 909 missing values for <code>Tenure</code>.  Several columns can be eliminated because they will not contribute to a predictive model.  Data types seem appropriate, but <code>Geography</code> and <code>Gender</code> will need to be converted to dummy variables."
   ]
  },
  {
   "cell_type": "code",
   "execution_count": 4,
   "id": "3b66faaf",
   "metadata": {},
   "outputs": [
    {
     "data": {
      "text/html": [
       "<div>\n",
       "<style scoped>\n",
       "    .dataframe tbody tr th:only-of-type {\n",
       "        vertical-align: middle;\n",
       "    }\n",
       "\n",
       "    .dataframe tbody tr th {\n",
       "        vertical-align: top;\n",
       "    }\n",
       "\n",
       "    .dataframe thead th {\n",
       "        text-align: right;\n",
       "    }\n",
       "</style>\n",
       "<table border=\"1\" class=\"dataframe\">\n",
       "  <thead>\n",
       "    <tr style=\"text-align: right;\">\n",
       "      <th></th>\n",
       "      <th>RowNumber</th>\n",
       "      <th>CustomerId</th>\n",
       "      <th>Surname</th>\n",
       "      <th>CreditScore</th>\n",
       "      <th>Geography</th>\n",
       "      <th>Gender</th>\n",
       "      <th>Age</th>\n",
       "      <th>Tenure</th>\n",
       "      <th>Balance</th>\n",
       "      <th>NumOfProducts</th>\n",
       "      <th>HasCrCard</th>\n",
       "      <th>IsActiveMember</th>\n",
       "      <th>EstimatedSalary</th>\n",
       "      <th>Exited</th>\n",
       "    </tr>\n",
       "  </thead>\n",
       "  <tbody>\n",
       "    <tr>\n",
       "      <th>0</th>\n",
       "      <td>1</td>\n",
       "      <td>15634602</td>\n",
       "      <td>Hargrave</td>\n",
       "      <td>619</td>\n",
       "      <td>France</td>\n",
       "      <td>Female</td>\n",
       "      <td>42</td>\n",
       "      <td>2.0</td>\n",
       "      <td>0.00</td>\n",
       "      <td>1</td>\n",
       "      <td>1</td>\n",
       "      <td>1</td>\n",
       "      <td>101348.88</td>\n",
       "      <td>1</td>\n",
       "    </tr>\n",
       "    <tr>\n",
       "      <th>1</th>\n",
       "      <td>2</td>\n",
       "      <td>15647311</td>\n",
       "      <td>Hill</td>\n",
       "      <td>608</td>\n",
       "      <td>Spain</td>\n",
       "      <td>Female</td>\n",
       "      <td>41</td>\n",
       "      <td>1.0</td>\n",
       "      <td>83807.86</td>\n",
       "      <td>1</td>\n",
       "      <td>0</td>\n",
       "      <td>1</td>\n",
       "      <td>112542.58</td>\n",
       "      <td>0</td>\n",
       "    </tr>\n",
       "    <tr>\n",
       "      <th>2</th>\n",
       "      <td>3</td>\n",
       "      <td>15619304</td>\n",
       "      <td>Onio</td>\n",
       "      <td>502</td>\n",
       "      <td>France</td>\n",
       "      <td>Female</td>\n",
       "      <td>42</td>\n",
       "      <td>8.0</td>\n",
       "      <td>159660.80</td>\n",
       "      <td>3</td>\n",
       "      <td>1</td>\n",
       "      <td>0</td>\n",
       "      <td>113931.57</td>\n",
       "      <td>1</td>\n",
       "    </tr>\n",
       "    <tr>\n",
       "      <th>3</th>\n",
       "      <td>4</td>\n",
       "      <td>15701354</td>\n",
       "      <td>Boni</td>\n",
       "      <td>699</td>\n",
       "      <td>France</td>\n",
       "      <td>Female</td>\n",
       "      <td>39</td>\n",
       "      <td>1.0</td>\n",
       "      <td>0.00</td>\n",
       "      <td>2</td>\n",
       "      <td>0</td>\n",
       "      <td>0</td>\n",
       "      <td>93826.63</td>\n",
       "      <td>0</td>\n",
       "    </tr>\n",
       "    <tr>\n",
       "      <th>4</th>\n",
       "      <td>5</td>\n",
       "      <td>15737888</td>\n",
       "      <td>Mitchell</td>\n",
       "      <td>850</td>\n",
       "      <td>Spain</td>\n",
       "      <td>Female</td>\n",
       "      <td>43</td>\n",
       "      <td>2.0</td>\n",
       "      <td>125510.82</td>\n",
       "      <td>1</td>\n",
       "      <td>1</td>\n",
       "      <td>1</td>\n",
       "      <td>79084.10</td>\n",
       "      <td>0</td>\n",
       "    </tr>\n",
       "  </tbody>\n",
       "</table>\n",
       "</div>"
      ],
      "text/plain": [
       "   RowNumber  CustomerId   Surname  CreditScore Geography  Gender  Age  \\\n",
       "0          1    15634602  Hargrave          619    France  Female   42   \n",
       "1          2    15647311      Hill          608     Spain  Female   41   \n",
       "2          3    15619304      Onio          502    France  Female   42   \n",
       "3          4    15701354      Boni          699    France  Female   39   \n",
       "4          5    15737888  Mitchell          850     Spain  Female   43   \n",
       "\n",
       "   Tenure    Balance  NumOfProducts  HasCrCard  IsActiveMember  \\\n",
       "0     2.0       0.00              1          1               1   \n",
       "1     1.0   83807.86              1          0               1   \n",
       "2     8.0  159660.80              3          1               0   \n",
       "3     1.0       0.00              2          0               0   \n",
       "4     2.0  125510.82              1          1               1   \n",
       "\n",
       "   EstimatedSalary  Exited  \n",
       "0        101348.88       1  \n",
       "1        112542.58       0  \n",
       "2        113931.57       1  \n",
       "3         93826.63       0  \n",
       "4         79084.10       0  "
      ]
     },
     "execution_count": 4,
     "metadata": {},
     "output_type": "execute_result"
    }
   ],
   "source": [
    "df.head()"
   ]
  },
  {
   "cell_type": "markdown",
   "id": "6c638b44",
   "metadata": {},
   "source": [
    "## Missing data: <code>Tenure</code>"
   ]
  },
  {
   "cell_type": "code",
   "execution_count": 5,
   "id": "85c59416",
   "metadata": {},
   "outputs": [
    {
     "data": {
      "text/html": [
       "<div>\n",
       "<style scoped>\n",
       "    .dataframe tbody tr th:only-of-type {\n",
       "        vertical-align: middle;\n",
       "    }\n",
       "\n",
       "    .dataframe tbody tr th {\n",
       "        vertical-align: top;\n",
       "    }\n",
       "\n",
       "    .dataframe thead th {\n",
       "        text-align: right;\n",
       "    }\n",
       "</style>\n",
       "<table border=\"1\" class=\"dataframe\">\n",
       "  <thead>\n",
       "    <tr style=\"text-align: right;\">\n",
       "      <th></th>\n",
       "      <th>RowNumber</th>\n",
       "      <th>CustomerId</th>\n",
       "      <th>Surname</th>\n",
       "      <th>CreditScore</th>\n",
       "      <th>Geography</th>\n",
       "      <th>Gender</th>\n",
       "      <th>Age</th>\n",
       "      <th>Tenure</th>\n",
       "      <th>Balance</th>\n",
       "      <th>NumOfProducts</th>\n",
       "      <th>HasCrCard</th>\n",
       "      <th>IsActiveMember</th>\n",
       "      <th>EstimatedSalary</th>\n",
       "      <th>Exited</th>\n",
       "    </tr>\n",
       "  </thead>\n",
       "  <tbody>\n",
       "    <tr>\n",
       "      <th>30</th>\n",
       "      <td>31</td>\n",
       "      <td>15589475</td>\n",
       "      <td>Azikiwe</td>\n",
       "      <td>591</td>\n",
       "      <td>Spain</td>\n",
       "      <td>Female</td>\n",
       "      <td>39</td>\n",
       "      <td>NaN</td>\n",
       "      <td>0.00</td>\n",
       "      <td>3</td>\n",
       "      <td>1</td>\n",
       "      <td>0</td>\n",
       "      <td>140469.38</td>\n",
       "      <td>1</td>\n",
       "    </tr>\n",
       "    <tr>\n",
       "      <th>48</th>\n",
       "      <td>49</td>\n",
       "      <td>15766205</td>\n",
       "      <td>Yin</td>\n",
       "      <td>550</td>\n",
       "      <td>Germany</td>\n",
       "      <td>Male</td>\n",
       "      <td>38</td>\n",
       "      <td>NaN</td>\n",
       "      <td>103391.38</td>\n",
       "      <td>1</td>\n",
       "      <td>0</td>\n",
       "      <td>1</td>\n",
       "      <td>90878.13</td>\n",
       "      <td>0</td>\n",
       "    </tr>\n",
       "    <tr>\n",
       "      <th>51</th>\n",
       "      <td>52</td>\n",
       "      <td>15768193</td>\n",
       "      <td>Trevisani</td>\n",
       "      <td>585</td>\n",
       "      <td>Germany</td>\n",
       "      <td>Male</td>\n",
       "      <td>36</td>\n",
       "      <td>NaN</td>\n",
       "      <td>146050.97</td>\n",
       "      <td>2</td>\n",
       "      <td>0</td>\n",
       "      <td>0</td>\n",
       "      <td>86424.57</td>\n",
       "      <td>0</td>\n",
       "    </tr>\n",
       "    <tr>\n",
       "      <th>53</th>\n",
       "      <td>54</td>\n",
       "      <td>15702298</td>\n",
       "      <td>Parkhill</td>\n",
       "      <td>655</td>\n",
       "      <td>Germany</td>\n",
       "      <td>Male</td>\n",
       "      <td>41</td>\n",
       "      <td>NaN</td>\n",
       "      <td>125561.97</td>\n",
       "      <td>1</td>\n",
       "      <td>0</td>\n",
       "      <td>0</td>\n",
       "      <td>164040.94</td>\n",
       "      <td>1</td>\n",
       "    </tr>\n",
       "    <tr>\n",
       "      <th>60</th>\n",
       "      <td>61</td>\n",
       "      <td>15651280</td>\n",
       "      <td>Hunter</td>\n",
       "      <td>742</td>\n",
       "      <td>Germany</td>\n",
       "      <td>Male</td>\n",
       "      <td>35</td>\n",
       "      <td>NaN</td>\n",
       "      <td>136857.00</td>\n",
       "      <td>1</td>\n",
       "      <td>0</td>\n",
       "      <td>0</td>\n",
       "      <td>84509.57</td>\n",
       "      <td>0</td>\n",
       "    </tr>\n",
       "  </tbody>\n",
       "</table>\n",
       "</div>"
      ],
      "text/plain": [
       "    RowNumber  CustomerId    Surname  CreditScore Geography  Gender  Age  \\\n",
       "30         31    15589475    Azikiwe          591     Spain  Female   39   \n",
       "48         49    15766205        Yin          550   Germany    Male   38   \n",
       "51         52    15768193  Trevisani          585   Germany    Male   36   \n",
       "53         54    15702298   Parkhill          655   Germany    Male   41   \n",
       "60         61    15651280     Hunter          742   Germany    Male   35   \n",
       "\n",
       "    Tenure    Balance  NumOfProducts  HasCrCard  IsActiveMember  \\\n",
       "30     NaN       0.00              3          1               0   \n",
       "48     NaN  103391.38              1          0               1   \n",
       "51     NaN  146050.97              2          0               0   \n",
       "53     NaN  125561.97              1          0               0   \n",
       "60     NaN  136857.00              1          0               0   \n",
       "\n",
       "    EstimatedSalary  Exited  \n",
       "30        140469.38       1  \n",
       "48         90878.13       0  \n",
       "51         86424.57       0  \n",
       "53        164040.94       1  \n",
       "60         84509.57       0  "
      ]
     },
     "execution_count": 5,
     "metadata": {},
     "output_type": "execute_result"
    }
   ],
   "source": [
    "df[df['Tenure'].isnull()].head()"
   ]
  },
  {
   "cell_type": "markdown",
   "id": "6a944934",
   "metadata": {},
   "source": [
    "In rows with missing <code>Tenure</code>, the other columns seem to be correct."
   ]
  },
  {
   "cell_type": "code",
   "execution_count": 6,
   "id": "71f2ee77",
   "metadata": {},
   "outputs": [
    {
     "data": {
      "text/html": [
       "<div>\n",
       "<style scoped>\n",
       "    .dataframe tbody tr th:only-of-type {\n",
       "        vertical-align: middle;\n",
       "    }\n",
       "\n",
       "    .dataframe tbody tr th {\n",
       "        vertical-align: top;\n",
       "    }\n",
       "\n",
       "    .dataframe thead th {\n",
       "        text-align: right;\n",
       "    }\n",
       "</style>\n",
       "<table border=\"1\" class=\"dataframe\">\n",
       "  <thead>\n",
       "    <tr style=\"text-align: right;\">\n",
       "      <th></th>\n",
       "      <th>RowNumber</th>\n",
       "      <th>CustomerId</th>\n",
       "      <th>Surname</th>\n",
       "      <th>CreditScore</th>\n",
       "      <th>Geography</th>\n",
       "      <th>Gender</th>\n",
       "      <th>Age</th>\n",
       "      <th>Tenure</th>\n",
       "      <th>Balance</th>\n",
       "      <th>NumOfProducts</th>\n",
       "      <th>HasCrCard</th>\n",
       "      <th>IsActiveMember</th>\n",
       "      <th>EstimatedSalary</th>\n",
       "      <th>Exited</th>\n",
       "    </tr>\n",
       "  </thead>\n",
       "  <tbody>\n",
       "    <tr>\n",
       "      <th>29</th>\n",
       "      <td>30</td>\n",
       "      <td>15656300</td>\n",
       "      <td>Lucciano</td>\n",
       "      <td>411</td>\n",
       "      <td>France</td>\n",
       "      <td>Male</td>\n",
       "      <td>29</td>\n",
       "      <td>0.0</td>\n",
       "      <td>59697.17</td>\n",
       "      <td>2</td>\n",
       "      <td>1</td>\n",
       "      <td>1</td>\n",
       "      <td>53483.21</td>\n",
       "      <td>0</td>\n",
       "    </tr>\n",
       "    <tr>\n",
       "      <th>35</th>\n",
       "      <td>36</td>\n",
       "      <td>15794171</td>\n",
       "      <td>Lombardo</td>\n",
       "      <td>475</td>\n",
       "      <td>France</td>\n",
       "      <td>Female</td>\n",
       "      <td>45</td>\n",
       "      <td>0.0</td>\n",
       "      <td>134264.04</td>\n",
       "      <td>1</td>\n",
       "      <td>1</td>\n",
       "      <td>0</td>\n",
       "      <td>27822.99</td>\n",
       "      <td>1</td>\n",
       "    </tr>\n",
       "    <tr>\n",
       "      <th>57</th>\n",
       "      <td>58</td>\n",
       "      <td>15647091</td>\n",
       "      <td>Endrizzi</td>\n",
       "      <td>725</td>\n",
       "      <td>Germany</td>\n",
       "      <td>Male</td>\n",
       "      <td>19</td>\n",
       "      <td>0.0</td>\n",
       "      <td>75888.20</td>\n",
       "      <td>1</td>\n",
       "      <td>0</td>\n",
       "      <td>0</td>\n",
       "      <td>45613.75</td>\n",
       "      <td>0</td>\n",
       "    </tr>\n",
       "    <tr>\n",
       "      <th>72</th>\n",
       "      <td>73</td>\n",
       "      <td>15812518</td>\n",
       "      <td>Palermo</td>\n",
       "      <td>657</td>\n",
       "      <td>Spain</td>\n",
       "      <td>Female</td>\n",
       "      <td>37</td>\n",
       "      <td>0.0</td>\n",
       "      <td>163607.18</td>\n",
       "      <td>1</td>\n",
       "      <td>0</td>\n",
       "      <td>1</td>\n",
       "      <td>44203.55</td>\n",
       "      <td>0</td>\n",
       "    </tr>\n",
       "    <tr>\n",
       "      <th>127</th>\n",
       "      <td>128</td>\n",
       "      <td>15782688</td>\n",
       "      <td>Piccio</td>\n",
       "      <td>625</td>\n",
       "      <td>Germany</td>\n",
       "      <td>Male</td>\n",
       "      <td>56</td>\n",
       "      <td>0.0</td>\n",
       "      <td>148507.24</td>\n",
       "      <td>1</td>\n",
       "      <td>1</td>\n",
       "      <td>0</td>\n",
       "      <td>46824.08</td>\n",
       "      <td>1</td>\n",
       "    </tr>\n",
       "  </tbody>\n",
       "</table>\n",
       "</div>"
      ],
      "text/plain": [
       "     RowNumber  CustomerId   Surname  CreditScore Geography  Gender  Age  \\\n",
       "29          30    15656300  Lucciano          411    France    Male   29   \n",
       "35          36    15794171  Lombardo          475    France  Female   45   \n",
       "57          58    15647091  Endrizzi          725   Germany    Male   19   \n",
       "72          73    15812518   Palermo          657     Spain  Female   37   \n",
       "127        128    15782688    Piccio          625   Germany    Male   56   \n",
       "\n",
       "     Tenure    Balance  NumOfProducts  HasCrCard  IsActiveMember  \\\n",
       "29      0.0   59697.17              2          1               1   \n",
       "35      0.0  134264.04              1          1               0   \n",
       "57      0.0   75888.20              1          0               0   \n",
       "72      0.0  163607.18              1          0               1   \n",
       "127     0.0  148507.24              1          1               0   \n",
       "\n",
       "     EstimatedSalary  Exited  \n",
       "29          53483.21       0  \n",
       "35          27822.99       1  \n",
       "57          45613.75       0  \n",
       "72          44203.55       0  \n",
       "127         46824.08       1  "
      ]
     },
     "execution_count": 6,
     "metadata": {},
     "output_type": "execute_result"
    }
   ],
   "source": [
    "df[df['Tenure'] == 0.0].head()"
   ]
  },
  {
   "cell_type": "markdown",
   "id": "09eb9187",
   "metadata": {},
   "source": [
    "A <code>Tenure</code> of 0.0 is not the same as a missing <code>Tenure</code>."
   ]
  },
  {
   "cell_type": "code",
   "execution_count": 7,
   "id": "7f453a81",
   "metadata": {},
   "outputs": [
    {
     "data": {
      "text/html": [
       "<style type=\"text/css\">\n",
       "#T_97ad6_row0_col0, #T_97ad6_row10_col0 {\n",
       "  background-color: #e2d9e2;\n",
       "  color: #000000;\n",
       "}\n",
       "#T_97ad6_row1_col0 {\n",
       "  background-color: #c7d0d5;\n",
       "  color: #000000;\n",
       "}\n",
       "#T_97ad6_row2_col0, #T_97ad6_row3_col0 {\n",
       "  background-color: #d1d5da;\n",
       "  color: #000000;\n",
       "}\n",
       "#T_97ad6_row4_col0 {\n",
       "  background-color: #d7d7dd;\n",
       "  color: #000000;\n",
       "}\n",
       "#T_97ad6_row5_col0 {\n",
       "  background-color: #dad8df;\n",
       "  color: #000000;\n",
       "}\n",
       "#T_97ad6_row6_col0 {\n",
       "  background-color: #dbd8df;\n",
       "  color: #000000;\n",
       "}\n",
       "#T_97ad6_row7_col0 {\n",
       "  background-color: #dcd9e0;\n",
       "  color: #000000;\n",
       "}\n",
       "#T_97ad6_row8_col0 {\n",
       "  background-color: #ded9e1;\n",
       "  color: #000000;\n",
       "}\n",
       "#T_97ad6_row9_col0 {\n",
       "  background-color: #dfd9e1;\n",
       "  color: #000000;\n",
       "}\n",
       "</style>\n",
       "<table id=\"T_97ad6\">\n",
       "  <thead>\n",
       "    <tr>\n",
       "      <th class=\"blank level0\" >&nbsp;</th>\n",
       "      <th id=\"T_97ad6_level0_col0\" class=\"col_heading level0 col0\" >Tenure</th>\n",
       "    </tr>\n",
       "  </thead>\n",
       "  <tbody>\n",
       "    <tr>\n",
       "      <th id=\"T_97ad6_level0_row0\" class=\"row_heading level0 row0\" >Tenure</th>\n",
       "      <td id=\"T_97ad6_row0_col0\" class=\"data row0 col0\" >1.000000</td>\n",
       "    </tr>\n",
       "    <tr>\n",
       "      <th id=\"T_97ad6_level0_row1\" class=\"row_heading level0 row1\" >HasCrCard</th>\n",
       "      <td id=\"T_97ad6_row1_col0\" class=\"data row1 col0\" >0.027232</td>\n",
       "    </tr>\n",
       "    <tr>\n",
       "      <th id=\"T_97ad6_level0_row2\" class=\"row_heading level0 row2\" >NumOfProducts</th>\n",
       "      <td id=\"T_97ad6_row2_col0\" class=\"data row2 col0\" >0.011979</td>\n",
       "    </tr>\n",
       "    <tr>\n",
       "      <th id=\"T_97ad6_level0_row3\" class=\"row_heading level0 row3\" >EstimatedSalary</th>\n",
       "      <td id=\"T_97ad6_row3_col0\" class=\"data row3 col0\" >0.010520</td>\n",
       "    </tr>\n",
       "    <tr>\n",
       "      <th id=\"T_97ad6_level0_row4\" class=\"row_heading level0 row4\" >CreditScore</th>\n",
       "      <td id=\"T_97ad6_row4_col0\" class=\"data row4 col0\" >-0.000062</td>\n",
       "    </tr>\n",
       "    <tr>\n",
       "      <th id=\"T_97ad6_level0_row5\" class=\"row_heading level0 row5\" >RowNumber</th>\n",
       "      <td id=\"T_97ad6_row5_col0\" class=\"data row5 col0\" >-0.007322</td>\n",
       "    </tr>\n",
       "    <tr>\n",
       "      <th id=\"T_97ad6_level0_row6\" class=\"row_heading level0 row6\" >Balance</th>\n",
       "      <td id=\"T_97ad6_row6_col0\" class=\"data row6 col0\" >-0.007911</td>\n",
       "    </tr>\n",
       "    <tr>\n",
       "      <th id=\"T_97ad6_level0_row7\" class=\"row_heading level0 row7\" >Age</th>\n",
       "      <td id=\"T_97ad6_row7_col0\" class=\"data row7 col0\" >-0.013134</td>\n",
       "    </tr>\n",
       "    <tr>\n",
       "      <th id=\"T_97ad6_level0_row8\" class=\"row_heading level0 row8\" >Exited</th>\n",
       "      <td id=\"T_97ad6_row8_col0\" class=\"data row8 col0\" >-0.016761</td>\n",
       "    </tr>\n",
       "    <tr>\n",
       "      <th id=\"T_97ad6_level0_row9\" class=\"row_heading level0 row9\" >CustomerId</th>\n",
       "      <td id=\"T_97ad6_row9_col0\" class=\"data row9 col0\" >-0.021418</td>\n",
       "    </tr>\n",
       "    <tr>\n",
       "      <th id=\"T_97ad6_level0_row10\" class=\"row_heading level0 row10\" >IsActiveMember</th>\n",
       "      <td id=\"T_97ad6_row10_col0\" class=\"data row10 col0\" >-0.032178</td>\n",
       "    </tr>\n",
       "  </tbody>\n",
       "</table>\n"
      ],
      "text/plain": [
       "<pandas.io.formats.style.Styler at 0x7fbee808d790>"
      ]
     },
     "execution_count": 7,
     "metadata": {},
     "output_type": "execute_result"
    }
   ],
   "source": [
    "pd.DataFrame(df.corr()['Tenure']).sort_values(by='Tenure',ascending=False).style.background_gradient(cmap='twilight')"
   ]
  },
  {
   "cell_type": "markdown",
   "id": "85b71f1b",
   "metadata": {},
   "source": [
    "<code>Tenure</code> is not strongly correlated with any other variable."
   ]
  },
  {
   "cell_type": "markdown",
   "id": "174ee137",
   "metadata": {},
   "source": [
    "## Class distribution"
   ]
  },
  {
   "cell_type": "code",
   "execution_count": 8,
   "id": "adadd014",
   "metadata": {},
   "outputs": [
    {
     "data": {
      "image/png": "[encoded data removed]",
      "text/plain": [
       "<Figure size 432x288 with 1 Axes>"
      ]
     },
     "metadata": {
      "needs_background": "light"
     },
     "output_type": "display_data"
    }
   ],
   "source": [
    "labels ='No Exit=0   |   ' + 'Exit=1'\n",
    "sns.countplot(x=df['Exited'], palette='Blues')\n",
    "plt.title('Class Distribution')\n",
    "plt.xlabel(labels);"
   ]
  },
  {
   "cell_type": "markdown",
   "id": "9bf30fe1",
   "metadata": {},
   "source": [
    "There is significant class imbalance.  There are about 4 times as many customers who didn't leave the bank."
   ]
  },
  {
   "cell_type": "markdown",
   "id": "a0d62218",
   "metadata": {},
   "source": [
    "## Conclusion\n",
    "- There are 909 missing values for <code>Tenure</code>, representing 9% of the data.  There are other rows with a <code>Tenure</code> of 0.0, so the missing values probably do not mean 0.0.  <code>Tenure</code> is not strongly correlated with other variables.  These values seem to be missing at random.  We will fill the missing <code>Tenure</code> values with the mean.\n",
    "- Several columns do not have predictive value with respect to customer churn:  <code>RowNumber</code>, <code>CustomerId</code>, and <code>Surname</code>.  These will be dropped from the dataset.\n",
    "- Two columns represent categorical variables but are currently strings:  <code>Geography</code> and <code>Gender</code>.  These will be converted to dummy variables.\n",
    "- <code>NumOfProducts</code> is ordinal and does not require conversion.  <code>HasCrCard</code> and <code>IsActiveMember</code> are already ready to go as indicator variables.\n",
    "- The numerical variables have very different magnitudes and standard deviations.  Some models, such as logistic regression, would require scaling/standardization of features.  However, we will be using a random forest model, which can handle varying ranges of features and does not require feature scaling.\n",
    "- There is significant imbalance between the two target classes.  We will develop a model that retains this class imbalance and then address the imbalance to improve the model."
   ]
  },
  {
   "cell_type": "markdown",
   "id": "e64f8a69",
   "metadata": {},
   "source": [
    "# Preprocessing"
   ]
  },
  {
   "cell_type": "markdown",
   "id": "964b0b30",
   "metadata": {},
   "source": [
    "## Fill missing values\n",
    "As discussed above, we will fill missing <code>Tenure</code> values with the mean."
   ]
  },
  {
   "cell_type": "code",
   "execution_count": 9,
   "id": "05fb66b5",
   "metadata": {},
   "outputs": [],
   "source": [
    "df.loc[df['Tenure'].isna(), 'Tenure'] = df['Tenure'].mean(skipna=True)"
   ]
  },
  {
   "cell_type": "markdown",
   "id": "4191c20c",
   "metadata": {},
   "source": [
    "## Drop unnecessary columns\n",
    "<code>RowNumber</code>, <code>CustomerId</code>, <code>Surname</code> are unlikely to predict whether a customer is likely to leave the bank soon, so we will drop these columns from the data set."
   ]
  },
  {
   "cell_type": "code",
   "execution_count": 10,
   "id": "afcff202",
   "metadata": {},
   "outputs": [
    {
     "data": {
      "text/html": [
       "<div>\n",
       "<style scoped>\n",
       "    .dataframe tbody tr th:only-of-type {\n",
       "        vertical-align: middle;\n",
       "    }\n",
       "\n",
       "    .dataframe tbody tr th {\n",
       "        vertical-align: top;\n",
       "    }\n",
       "\n",
       "    .dataframe thead th {\n",
       "        text-align: right;\n",
       "    }\n",
       "</style>\n",
       "<table border=\"1\" class=\"dataframe\">\n",
       "  <thead>\n",
       "    <tr style=\"text-align: right;\">\n",
       "      <th></th>\n",
       "      <th>CreditScore</th>\n",
       "      <th>Geography</th>\n",
       "      <th>Gender</th>\n",
       "      <th>Age</th>\n",
       "      <th>Tenure</th>\n",
       "      <th>Balance</th>\n",
       "      <th>NumOfProducts</th>\n",
       "      <th>HasCrCard</th>\n",
       "      <th>IsActiveMember</th>\n",
       "      <th>EstimatedSalary</th>\n",
       "      <th>Exited</th>\n",
       "    </tr>\n",
       "  </thead>\n",
       "  <tbody>\n",
       "    <tr>\n",
       "      <th>0</th>\n",
       "      <td>619</td>\n",
       "      <td>France</td>\n",
       "      <td>Female</td>\n",
       "      <td>42</td>\n",
       "      <td>2.0</td>\n",
       "      <td>0.00</td>\n",
       "      <td>1</td>\n",
       "      <td>1</td>\n",
       "      <td>1</td>\n",
       "      <td>101348.88</td>\n",
       "      <td>1</td>\n",
       "    </tr>\n",
       "    <tr>\n",
       "      <th>1</th>\n",
       "      <td>608</td>\n",
       "      <td>Spain</td>\n",
       "      <td>Female</td>\n",
       "      <td>41</td>\n",
       "      <td>1.0</td>\n",
       "      <td>83807.86</td>\n",
       "      <td>1</td>\n",
       "      <td>0</td>\n",
       "      <td>1</td>\n",
       "      <td>112542.58</td>\n",
       "      <td>0</td>\n",
       "    </tr>\n",
       "    <tr>\n",
       "      <th>2</th>\n",
       "      <td>502</td>\n",
       "      <td>France</td>\n",
       "      <td>Female</td>\n",
       "      <td>42</td>\n",
       "      <td>8.0</td>\n",
       "      <td>159660.80</td>\n",
       "      <td>3</td>\n",
       "      <td>1</td>\n",
       "      <td>0</td>\n",
       "      <td>113931.57</td>\n",
       "      <td>1</td>\n",
       "    </tr>\n",
       "    <tr>\n",
       "      <th>3</th>\n",
       "      <td>699</td>\n",
       "      <td>France</td>\n",
       "      <td>Female</td>\n",
       "      <td>39</td>\n",
       "      <td>1.0</td>\n",
       "      <td>0.00</td>\n",
       "      <td>2</td>\n",
       "      <td>0</td>\n",
       "      <td>0</td>\n",
       "      <td>93826.63</td>\n",
       "      <td>0</td>\n",
       "    </tr>\n",
       "    <tr>\n",
       "      <th>4</th>\n",
       "      <td>850</td>\n",
       "      <td>Spain</td>\n",
       "      <td>Female</td>\n",
       "      <td>43</td>\n",
       "      <td>2.0</td>\n",
       "      <td>125510.82</td>\n",
       "      <td>1</td>\n",
       "      <td>1</td>\n",
       "      <td>1</td>\n",
       "      <td>79084.10</td>\n",
       "      <td>0</td>\n",
       "    </tr>\n",
       "  </tbody>\n",
       "</table>\n",
       "</div>"
      ],
      "text/plain": [
       "   CreditScore Geography  Gender  Age  Tenure    Balance  NumOfProducts  \\\n",
       "0          619    France  Female   42     2.0       0.00              1   \n",
       "1          608     Spain  Female   41     1.0   83807.86              1   \n",
       "2          502    France  Female   42     8.0  159660.80              3   \n",
       "3          699    France  Female   39     1.0       0.00              2   \n",
       "4          850     Spain  Female   43     2.0  125510.82              1   \n",
       "\n",
       "   HasCrCard  IsActiveMember  EstimatedSalary  Exited  \n",
       "0          1               1        101348.88       1  \n",
       "1          0               1        112542.58       0  \n",
       "2          1               0        113931.57       1  \n",
       "3          0               0         93826.63       0  \n",
       "4          1               1         79084.10       0  "
      ]
     },
     "execution_count": 10,
     "metadata": {},
     "output_type": "execute_result"
    }
   ],
   "source": [
    "df.drop(['RowNumber', 'CustomerId', 'Surname'], axis=1, inplace=True)\n",
    "df.head()"
   ]
  },
  {
   "cell_type": "markdown",
   "id": "9b421f53",
   "metadata": {},
   "source": [
    "## Feature preparation"
   ]
  },
  {
   "cell_type": "markdown",
   "id": "dcbaa7e1",
   "metadata": {},
   "source": [
    "### Encoding of categorical variables\n",
    "Our data includes two categorical columns with <code>object (string)</code> type: <code>Geography</code> and <code>Gender</code>.  These will be converted to dummy variables."
   ]
  },
  {
   "cell_type": "code",
   "execution_count": 11,
   "id": "349e91c3",
   "metadata": {},
   "outputs": [
    {
     "data": {
      "text/html": [
       "<div>\n",
       "<style scoped>\n",
       "    .dataframe tbody tr th:only-of-type {\n",
       "        vertical-align: middle;\n",
       "    }\n",
       "\n",
       "    .dataframe tbody tr th {\n",
       "        vertical-align: top;\n",
       "    }\n",
       "\n",
       "    .dataframe thead th {\n",
       "        text-align: right;\n",
       "    }\n",
       "</style>\n",
       "<table border=\"1\" class=\"dataframe\">\n",
       "  <thead>\n",
       "    <tr style=\"text-align: right;\">\n",
       "      <th></th>\n",
       "      <th>CreditScore</th>\n",
       "      <th>Age</th>\n",
       "      <th>Tenure</th>\n",
       "      <th>Balance</th>\n",
       "      <th>NumOfProducts</th>\n",
       "      <th>HasCrCard</th>\n",
       "      <th>IsActiveMember</th>\n",
       "      <th>EstimatedSalary</th>\n",
       "      <th>Exited</th>\n",
       "      <th>Geography_Germany</th>\n",
       "      <th>Geography_Spain</th>\n",
       "      <th>Gender_Male</th>\n",
       "    </tr>\n",
       "  </thead>\n",
       "  <tbody>\n",
       "    <tr>\n",
       "      <th>0</th>\n",
       "      <td>619</td>\n",
       "      <td>42</td>\n",
       "      <td>2.0</td>\n",
       "      <td>0.00</td>\n",
       "      <td>1</td>\n",
       "      <td>1</td>\n",
       "      <td>1</td>\n",
       "      <td>101348.88</td>\n",
       "      <td>1</td>\n",
       "      <td>0</td>\n",
       "      <td>0</td>\n",
       "      <td>0</td>\n",
       "    </tr>\n",
       "    <tr>\n",
       "      <th>1</th>\n",
       "      <td>608</td>\n",
       "      <td>41</td>\n",
       "      <td>1.0</td>\n",
       "      <td>83807.86</td>\n",
       "      <td>1</td>\n",
       "      <td>0</td>\n",
       "      <td>1</td>\n",
       "      <td>112542.58</td>\n",
       "      <td>0</td>\n",
       "      <td>0</td>\n",
       "      <td>1</td>\n",
       "      <td>0</td>\n",
       "    </tr>\n",
       "    <tr>\n",
       "      <th>2</th>\n",
       "      <td>502</td>\n",
       "      <td>42</td>\n",
       "      <td>8.0</td>\n",
       "      <td>159660.80</td>\n",
       "      <td>3</td>\n",
       "      <td>1</td>\n",
       "      <td>0</td>\n",
       "      <td>113931.57</td>\n",
       "      <td>1</td>\n",
       "      <td>0</td>\n",
       "      <td>0</td>\n",
       "      <td>0</td>\n",
       "    </tr>\n",
       "    <tr>\n",
       "      <th>3</th>\n",
       "      <td>699</td>\n",
       "      <td>39</td>\n",
       "      <td>1.0</td>\n",
       "      <td>0.00</td>\n",
       "      <td>2</td>\n",
       "      <td>0</td>\n",
       "      <td>0</td>\n",
       "      <td>93826.63</td>\n",
       "      <td>0</td>\n",
       "      <td>0</td>\n",
       "      <td>0</td>\n",
       "      <td>0</td>\n",
       "    </tr>\n",
       "    <tr>\n",
       "      <th>4</th>\n",
       "      <td>850</td>\n",
       "      <td>43</td>\n",
       "      <td>2.0</td>\n",
       "      <td>125510.82</td>\n",
       "      <td>1</td>\n",
       "      <td>1</td>\n",
       "      <td>1</td>\n",
       "      <td>79084.10</td>\n",
       "      <td>0</td>\n",
       "      <td>0</td>\n",
       "      <td>1</td>\n",
       "      <td>0</td>\n",
       "    </tr>\n",
       "  </tbody>\n",
       "</table>\n",
       "</div>"
      ],
      "text/plain": [
       "   CreditScore  Age  Tenure    Balance  NumOfProducts  HasCrCard  \\\n",
       "0          619   42     2.0       0.00              1          1   \n",
       "1          608   41     1.0   83807.86              1          0   \n",
       "2          502   42     8.0  159660.80              3          1   \n",
       "3          699   39     1.0       0.00              2          0   \n",
       "4          850   43     2.0  125510.82              1          1   \n",
       "\n",
       "   IsActiveMember  EstimatedSalary  Exited  Geography_Germany  \\\n",
       "0               1        101348.88       1                  0   \n",
       "1               1        112542.58       0                  0   \n",
       "2               0        113931.57       1                  0   \n",
       "3               0         93826.63       0                  0   \n",
       "4               1         79084.10       0                  0   \n",
       "\n",
       "   Geography_Spain  Gender_Male  \n",
       "0                0            0  \n",
       "1                1            0  \n",
       "2                0            0  \n",
       "3                0            0  \n",
       "4                1            0  "
      ]
     },
     "execution_count": 11,
     "metadata": {},
     "output_type": "execute_result"
    }
   ],
   "source": [
    "df = pd.get_dummies(df, drop_first=True)\n",
    "df.head()"
   ]
  },
  {
   "cell_type": "markdown",
   "id": "3dc25350",
   "metadata": {},
   "source": [
    "### Scaling of numeric variables\n",
    "The random forest classifier that we will be using does not benefit from scaling of features."
   ]
  },
  {
   "cell_type": "code",
   "execution_count": 12,
   "id": "02054b0e",
   "metadata": {},
   "outputs": [],
   "source": [
    "#scaler = StandardScaler()\n",
    "#numeric = ['CreditScore', 'Age', 'Tenure', 'Balance', 'NumOfProducts', 'EstimatedSalary']\n",
    "#scaler.fit(df[numeric])\n",
    "#df[numeric] = scaler.transform(df[numeric])\n",
    "#df.head()"
   ]
  },
  {
   "cell_type": "markdown",
   "id": "4882580a",
   "metadata": {},
   "source": [
    "## Training and test datasets"
   ]
  },
  {
   "cell_type": "markdown",
   "id": "dc38d2af",
   "metadata": {},
   "source": [
    "We will not create a separate validation set because we will be using <code>GridSearchCV</code>, which performs k-fold cross validation.  This saves us from the need for a separate validation set and allows us to use more of our data for model development. "
   ]
  },
  {
   "cell_type": "code",
   "execution_count": 13,
   "id": "7bb6c1e4",
   "metadata": {
    "scrolled": true
   },
   "outputs": [
    {
     "name": "stdout",
     "output_type": "stream",
     "text": [
      "Training features shape 7500 rows, 11 columns\n",
      "           target shape 7500 columns\n",
      "\n",
      "Test features shape 2500 rows, 11 columns\n",
      "       target shape 2500 columns\n",
      "\n"
     ]
    }
   ],
   "source": [
    "X = df.drop(columns=['Exited']).copy()\n",
    "y = df['Exited']\n",
    "X_train, X_test, y_train, y_test = train_test_split(X, y, train_size=0.75, random_state=random_state)\n",
    "\n",
    "print('Training features shape {} rows, {} columns\\n           target shape {} columns\\n'.format(\n",
    "    X_train.shape[0], \n",
    "    X_train.shape[1], \n",
    "    y_train.shape[0]))\n",
    "print('Test features shape {} rows, {} columns\\n       target shape {} columns\\n'.format(\n",
    "    X_test.shape[0], \n",
    "    X_test.shape[1], \n",
    "    y_test.shape[0]))"
   ]
  },
  {
   "cell_type": "markdown",
   "id": "b6d7ec91",
   "metadata": {},
   "source": [
    "## Model evaluation function\n",
    "<code>evaluate_model()</code> fits the model on the training set and evaluates the model on the test set.  It prints a performance report including _accuracy_, _recall_, and _f1_ scores, as well as a classification report, confusion matrix, and ROC curve."
   ]
  },
  {
   "cell_type": "code",
   "execution_count": 14,
   "id": "29cf146b",
   "metadata": {},
   "outputs": [],
   "source": [
    "def evaluate_model(model, X_train, y_train, X_test, y_test):\n",
    "    # Fit model on training set\n",
    "    fit_model = model.fit(X_train, y_train)\n",
    "\n",
    "    # Predict on test, training data\n",
    "    y_hat_test = fit_model.predict(X_test)\n",
    "    y_hat_train = fit_model.predict(X_train)\n",
    "\n",
    "    # Accuracy, precision, and recall scores\n",
    "    print(\"\\nTraining data\")\n",
    "    print('-' * 13)\n",
    "    print(f\"Accuracy: {accuracy_score(y_train, y_hat_train)}\")\n",
    "    print(f\"Precision: {precision_score(y_train, y_hat_train)}\")\n",
    "    print(f\"Recall: {recall_score(y_train, y_hat_train)}\")\n",
    "    print(f\"f1: {f1_score(y_train, y_hat_train)}\")\n",
    "    print(\"\\nTest data\")\n",
    "    print('-' * 9)\n",
    "    print(f\"Accuracy: {accuracy_score(y_test, y_hat_test)}\")\n",
    "    print(f\"Precision: {precision_score(y_test, y_hat_test)}\")\n",
    "    print(f\"Recall: {recall_score(y_test, y_hat_test)}\")\n",
    "    print(f\"f1: {f1_score(y_test, y_hat_test)}\")\n",
    "    \n",
    "    # Classification report\n",
    "    print(\"\\nClassification Report\")\n",
    "    print('-' * 21)\n",
    "    print(classification_report(y_test, y_hat_test))\n",
    "    \n",
    "    # Confusion matrix\n",
    "    cm = confusion_matrix(y_test, y_hat_test)\n",
    "    ax = sns.heatmap(cm, annot=True, fmt='d', cmap='Blues')\n",
    "    plt.title('Confusion Matrix')\n",
    "    plt.xlabel('Predicted')\n",
    "    plt.ylabel('Actual')\n",
    "    plt.show()\n",
    "    \n",
    "    # ROC curve on second ax\n",
    "    probs = model.predict_proba(X_test)\n",
    "    preds = probs[:,1]\n",
    "    fpr, tpr, threshold = roc_curve(y_test, preds)\n",
    "    roc_auc = auc(fpr, tpr)\n",
    "    plt.title('ROC')\n",
    "    plt.plot(fpr, tpr, 'b', label = 'AUC = %0.2f' % roc_auc)\n",
    "    plt.legend(loc = 'lower right')\n",
    "    plt.plot([0, 1], [0, 1],'r--')\n",
    "    plt.xlim([0, 1])\n",
    "    plt.ylim([0, 1])\n",
    "    plt.ylabel('True Positive Rate')\n",
    "    plt.xlabel('False Positive Rate')\n",
    "    plt.show()"
   ]
  },
  {
   "cell_type": "markdown",
   "id": "be5f82f2",
   "metadata": {},
   "source": [
    "## Conclusion\n",
    "In this section, we filled missing values for <code>Tenure</code>, dropped several unnecessary columns, and encoded <code>Geography</code> and <code>Gender</code> as indicator variables.  We split our data into training and test sets, and we defined a function that will be used to evaluate our models."
   ]
  },
  {
   "cell_type": "markdown",
   "id": "2f532c0e",
   "metadata": {},
   "source": [
    "# Model development\n",
    "In this section, we will develop models to predict whether a customer will leave the bank soon.  We will be using the <code>RandomForestClassifier</code>.  Earlier, we identified significant class imbalance for our target.  Our initial model will retain this class imbalance.  Then, we will improve upon the initial model by eliminating the class imbalance, first by class weight adjustment and then by upsampling."
   ]
  },
  {
   "cell_type": "markdown",
   "id": "8810aaa7",
   "metadata": {},
   "source": [
    "## Imbalanced classes"
   ]
  },
  {
   "cell_type": "markdown",
   "id": "981dbb28",
   "metadata": {},
   "source": [
    "### Hyperparameter selection"
   ]
  },
  {
   "cell_type": "code",
   "execution_count": 15,
   "id": "01fed79f",
   "metadata": {},
   "outputs": [],
   "source": [
    "params = {'n_estimators': range(50, 300, 50), \n",
    "          'max_depth': range(10, 24, 2), \n",
    "          'class_weight': [None]\n",
    "         }\n",
    "\n",
    "# Best\n",
    "params = {'n_estimators': [200], \n",
    "          'max_depth': [20], \n",
    "          'class_weight': [None]\n",
    "         }"
   ]
  },
  {
   "cell_type": "code",
   "execution_count": 16,
   "id": "d0f25c35",
   "metadata": {},
   "outputs": [
    {
     "data": {
      "text/plain": [
       "{'class_weight': None, 'max_depth': 20, 'n_estimators': 200}"
      ]
     },
     "execution_count": 16,
     "metadata": {},
     "output_type": "execute_result"
    }
   ],
   "source": [
    "forest = RandomForestClassifier(random_state=random_state)\n",
    "clf = GridSearchCV(estimator=forest, param_grid=params, scoring=scoring, cv=10, verbose=0)\n",
    "clf.fit(X_train, y_train)\n",
    "best_params = clf.best_params_\n",
    "best_params"
   ]
  },
  {
   "cell_type": "code",
   "execution_count": 17,
   "id": "d7ea138a",
   "metadata": {},
   "outputs": [
    {
     "data": {
      "text/plain": [
       "{'bootstrap': True,\n",
       " 'ccp_alpha': 0.0,\n",
       " 'class_weight': None,\n",
       " 'criterion': 'gini',\n",
       " 'max_depth': 20,\n",
       " 'max_features': 'auto',\n",
       " 'max_leaf_nodes': None,\n",
       " 'max_samples': None,\n",
       " 'min_impurity_decrease': 0.0,\n",
       " 'min_samples_leaf': 1,\n",
       " 'min_samples_split': 2,\n",
       " 'min_weight_fraction_leaf': 0.0,\n",
       " 'n_estimators': 200,\n",
       " 'n_jobs': None,\n",
       " 'oob_score': False,\n",
       " 'random_state': 12345,\n",
       " 'verbose': 0,\n",
       " 'warm_start': False}"
      ]
     },
     "execution_count": 17,
     "metadata": {},
     "output_type": "execute_result"
    }
   ],
   "source": [
    "best_forest = RandomForestClassifier(**best_params, random_state=random_state)\n",
    "best_forest.get_params()"
   ]
  },
  {
   "cell_type": "markdown",
   "id": "25cf1b73",
   "metadata": {},
   "source": [
    "### Model evaluation"
   ]
  },
  {
   "cell_type": "code",
   "execution_count": 18,
   "id": "7fc1b6ea",
   "metadata": {},
   "outputs": [
    {
     "name": "stdout",
     "output_type": "stream",
     "text": [
      "\n",
      "Training data\n",
      "-------------\n",
      "Accuracy: 1.0\n",
      "Precision: 1.0\n",
      "Recall: 1.0\n",
      "f1: 1.0\n",
      "\n",
      "Test data\n",
      "---------\n",
      "Accuracy: 0.8532\n",
      "Precision: 0.7745098039215687\n",
      "Recall: 0.44299065420560746\n",
      "f1: 0.563614744351962\n",
      "\n",
      "Classification Report\n",
      "---------------------\n",
      "              precision    recall  f1-score   support\n",
      "\n",
      "           0       0.86      0.96      0.91      1965\n",
      "           1       0.77      0.44      0.56       535\n",
      "\n",
      "    accuracy                           0.85      2500\n",
      "   macro avg       0.82      0.70      0.74      2500\n",
      "weighted avg       0.84      0.85      0.84      2500\n",
      "\n"
     ]
    },
    {
     "data": {
      "image/png": "[encoded data removed]",
      "text/plain": [
       "<Figure size 432x288 with 2 Axes>"
      ]
     },
     "metadata": {
      "needs_background": "light"
     },
     "output_type": "display_data"
    },
    {
     "data": {
      "image/png": "[encoded data removed]",
      "text/plain": [
       "<Figure size 432x288 with 1 Axes>"
      ]
     },
     "metadata": {
      "needs_background": "light"
     },
     "output_type": "display_data"
    }
   ],
   "source": [
    "evaluate_model(best_forest, X_train, y_train, X_test, y_test)"
   ]
  },
  {
   "cell_type": "markdown",
   "id": "c2897daf",
   "metadata": {},
   "source": [
    "Our intial model did not do a very good job of identifying the minority class, i.e., customers who left the bank.  This resulted in low _recall_ and _f1_ scores."
   ]
  },
  {
   "cell_type": "markdown",
   "id": "8ccbe897",
   "metadata": {},
   "source": [
    "## Balanced classes\n",
    "In this section, we attempt to improve on the initial model by compensating for imbalance in the target class.  The idea is to incentivize selection of the minority class, thereby improving the _recall_ and _f1_ scores."
   ]
  },
  {
   "cell_type": "markdown",
   "id": "a971100f",
   "metadata": {},
   "source": [
    "### Class weight adjustment\n",
    "First, we will address class imbalance by specifying <code>class_weight=balanced</code>.  This will produce inverse frequency weighting."
   ]
  },
  {
   "cell_type": "markdown",
   "id": "1d2d75d4",
   "metadata": {},
   "source": [
    "#### Hyperparameter selection"
   ]
  },
  {
   "cell_type": "code",
   "execution_count": 19,
   "id": "856b05e0",
   "metadata": {},
   "outputs": [],
   "source": [
    "params = {'n_estimators': range(450, 650, 50), \n",
    "          'max_depth': range(4, 14, 2), \n",
    "          'class_weight': ['balanced']\n",
    "         }\n",
    "\n",
    "# Best\n",
    "params = {'n_estimators': [500], \n",
    "          'max_depth': [10], \n",
    "          'class_weight': ['balanced']\n",
    "         }"
   ]
  },
  {
   "cell_type": "code",
   "execution_count": 20,
   "id": "6d31f97a",
   "metadata": {},
   "outputs": [
    {
     "data": {
      "text/plain": [
       "{'class_weight': 'balanced', 'max_depth': 10, 'n_estimators': 500}"
      ]
     },
     "execution_count": 20,
     "metadata": {},
     "output_type": "execute_result"
    }
   ],
   "source": [
    "forest = RandomForestClassifier(random_state=random_state)\n",
    "clf = GridSearchCV(estimator=forest, param_grid=params, scoring=scoring, cv=10, verbose=0)\n",
    "clf.fit(X_train, y_train)\n",
    "best_params = clf.best_params_\n",
    "best_params"
   ]
  },
  {
   "cell_type": "code",
   "execution_count": 21,
   "id": "0ee86d3a",
   "metadata": {},
   "outputs": [
    {
     "data": {
      "text/plain": [
       "{'bootstrap': True,\n",
       " 'ccp_alpha': 0.0,\n",
       " 'class_weight': 'balanced',\n",
       " 'criterion': 'gini',\n",
       " 'max_depth': 10,\n",
       " 'max_features': 'auto',\n",
       " 'max_leaf_nodes': None,\n",
       " 'max_samples': None,\n",
       " 'min_impurity_decrease': 0.0,\n",
       " 'min_samples_leaf': 1,\n",
       " 'min_samples_split': 2,\n",
       " 'min_weight_fraction_leaf': 0.0,\n",
       " 'n_estimators': 500,\n",
       " 'n_jobs': None,\n",
       " 'oob_score': False,\n",
       " 'random_state': 12345,\n",
       " 'verbose': 0,\n",
       " 'warm_start': False}"
      ]
     },
     "execution_count": 21,
     "metadata": {},
     "output_type": "execute_result"
    }
   ],
   "source": [
    "best_forest = RandomForestClassifier(**best_params, random_state=random_state)\n",
    "best_forest.get_params()"
   ]
  },
  {
   "cell_type": "markdown",
   "id": "aec5224c",
   "metadata": {},
   "source": [
    "#### Model evaluation"
   ]
  },
  {
   "cell_type": "code",
   "execution_count": 22,
   "id": "a0f067e7",
   "metadata": {},
   "outputs": [
    {
     "name": "stdout",
     "output_type": "stream",
     "text": [
      "\n",
      "Training data\n",
      "-------------\n",
      "Accuracy: 0.912\n",
      "Precision: 0.7560827250608273\n",
      "Recall: 0.8275632490013316\n",
      "f1: 0.7902097902097903\n",
      "\n",
      "Test data\n",
      "---------\n",
      "Accuracy: 0.8432\n",
      "Precision: 0.627906976744186\n",
      "Recall: 0.6560747663551402\n",
      "f1: 0.6416819012797074\n",
      "\n",
      "Classification Report\n",
      "---------------------\n",
      "              precision    recall  f1-score   support\n",
      "\n",
      "           0       0.91      0.89      0.90      1965\n",
      "           1       0.63      0.66      0.64       535\n",
      "\n",
      "    accuracy                           0.84      2500\n",
      "   macro avg       0.77      0.78      0.77      2500\n",
      "weighted avg       0.85      0.84      0.84      2500\n",
      "\n"
     ]
    },
    {
     "data": {
      "image/png": "[encoded data removed]",
      "text/plain": [
       "<Figure size 432x288 with 2 Axes>"
      ]
     },
     "metadata": {
      "needs_background": "light"
     },
     "output_type": "display_data"
    },
    {
     "data": {
      "image/png": "[encoded data removed]",
      "text/plain": [
       "<Figure size 432x288 with 1 Axes>"
      ]
     },
     "metadata": {
      "needs_background": "light"
     },
     "output_type": "display_data"
    }
   ],
   "source": [
    "evaluate_model(best_forest, X_train, y_train, X_test, y_test)"
   ]
  },
  {
   "cell_type": "markdown",
   "id": "1309a8a6",
   "metadata": {},
   "source": [
    "As expected, class weight adjustment improved our model's ability to identify the minority class and increased our _recall_ and _f1_ scores."
   ]
  },
  {
   "cell_type": "markdown",
   "id": "a668aa98",
   "metadata": {},
   "source": [
    "### Upsampling\n",
    "Now we will try another method to address class imbalance:  upsampling.  This method involves randomly selecting members of the minority class and shuffling them into our training data.  We will upsample such that we have the same number of customers in both target classes."
   ]
  },
  {
   "cell_type": "code",
   "execution_count": 23,
   "id": "4330989b",
   "metadata": {},
   "outputs": [
    {
     "data": {
      "text/plain": [
       "4"
      ]
     },
     "execution_count": 23,
     "metadata": {},
     "output_type": "execute_result"
    }
   ],
   "source": [
    "def upsample(features, target, repeat):\n",
    "    features_zeros = features[target == 0]\n",
    "    features_ones = features[target == 1]\n",
    "    target_zeros = target[target == 0]\n",
    "    target_ones = target[target == 1]\n",
    "\n",
    "    features_upsampled = pd.concat([features_zeros] + [features_ones] * repeat)\n",
    "    target_upsampled = pd.concat([target_zeros] + [target_ones] * repeat)\n",
    "\n",
    "    features_upsampled, target_upsampled = shuffle(\n",
    "        features_upsampled, target_upsampled, random_state=random_state\n",
    "    )\n",
    "\n",
    "    return features_upsampled, target_upsampled\n",
    "\n",
    "repeat = int(round(len(y_train[y_train == 0])/len(y_train[y_train == 1])))\n",
    "X_upsampled, y_upsampled = upsample(X_train, y_train, repeat)\n",
    "repeat"
   ]
  },
  {
   "cell_type": "code",
   "execution_count": 24,
   "id": "d4e5b2b6",
   "metadata": {},
   "outputs": [
    {
     "data": {
      "image/png": "[encoded data removed]",
      "text/plain": [
       "<Figure size 432x288 with 1 Axes>"
      ]
     },
     "metadata": {
      "needs_background": "light"
     },
     "output_type": "display_data"
    }
   ],
   "source": [
    "labels ='No Exit=0   |   ' + 'Exit=1'\n",
    "sns.countplot(x=y_upsampled, palette='Blues')\n",
    "plt.title('Class Distribution (Upsampled)')\n",
    "plt.xlabel(labels);"
   ]
  },
  {
   "cell_type": "markdown",
   "id": "b310dd5e",
   "metadata": {},
   "source": [
    "#### Hyperparameter selection"
   ]
  },
  {
   "cell_type": "code",
   "execution_count": 25,
   "id": "337539cc",
   "metadata": {},
   "outputs": [],
   "source": [
    "params = {'n_estimators': [350], \n",
    "          'max_depth': range(18, 32, 2), \n",
    "          'class_weight': [None]\n",
    "         }\n",
    "\n",
    "# Best\n",
    "params = {'n_estimators': [350], \n",
    "          'max_depth': [20], \n",
    "          'class_weight': [None]\n",
    "         }"
   ]
  },
  {
   "cell_type": "code",
   "execution_count": 26,
   "id": "3bfc49e4",
   "metadata": {},
   "outputs": [
    {
     "data": {
      "text/plain": [
       "{'class_weight': None, 'max_depth': 20, 'n_estimators': 350}"
      ]
     },
     "execution_count": 26,
     "metadata": {},
     "output_type": "execute_result"
    }
   ],
   "source": [
    "forest = RandomForestClassifier(random_state=random_state)\n",
    "clf = GridSearchCV(estimator=forest, param_grid=params, scoring=scoring, cv=10, verbose=0)\n",
    "clf.fit(X_upsampled, y_upsampled)\n",
    "best_params = clf.best_params_\n",
    "best_params"
   ]
  },
  {
   "cell_type": "code",
   "execution_count": 27,
   "id": "13b19343",
   "metadata": {},
   "outputs": [
    {
     "data": {
      "text/plain": [
       "{'bootstrap': True,\n",
       " 'ccp_alpha': 0.0,\n",
       " 'class_weight': None,\n",
       " 'criterion': 'gini',\n",
       " 'max_depth': 20,\n",
       " 'max_features': 'auto',\n",
       " 'max_leaf_nodes': None,\n",
       " 'max_samples': None,\n",
       " 'min_impurity_decrease': 0.0,\n",
       " 'min_samples_leaf': 1,\n",
       " 'min_samples_split': 2,\n",
       " 'min_weight_fraction_leaf': 0.0,\n",
       " 'n_estimators': 350,\n",
       " 'n_jobs': None,\n",
       " 'oob_score': False,\n",
       " 'random_state': 12345,\n",
       " 'verbose': 0,\n",
       " 'warm_start': False}"
      ]
     },
     "execution_count": 27,
     "metadata": {},
     "output_type": "execute_result"
    }
   ],
   "source": [
    "best_forest = RandomForestClassifier(**best_params, random_state=random_state)\n",
    "best_forest.get_params()"
   ]
  },
  {
   "cell_type": "markdown",
   "id": "f2e75636",
   "metadata": {},
   "source": [
    "#### Model evaluation"
   ]
  },
  {
   "cell_type": "code",
   "execution_count": 28,
   "id": "03417b22",
   "metadata": {},
   "outputs": [
    {
     "name": "stdout",
     "output_type": "stream",
     "text": [
      "\n",
      "Training data\n",
      "-------------\n",
      "Accuracy: 1.0\n",
      "Precision: 1.0\n",
      "Recall: 1.0\n",
      "f1: 1.0\n",
      "\n",
      "Test data\n",
      "---------\n",
      "Accuracy: 0.8504\n",
      "Precision: 0.6842105263157895\n",
      "Recall: 0.5588785046728972\n",
      "f1: 0.6152263374485597\n",
      "\n",
      "Classification Report\n",
      "---------------------\n",
      "              precision    recall  f1-score   support\n",
      "\n",
      "           0       0.89      0.93      0.91      1965\n",
      "           1       0.68      0.56      0.62       535\n",
      "\n",
      "    accuracy                           0.85      2500\n",
      "   macro avg       0.78      0.74      0.76      2500\n",
      "weighted avg       0.84      0.85      0.84      2500\n",
      "\n"
     ]
    },
    {
     "data": {
      "image/png": "[encoded data removed]",
      "text/plain": [
       "<Figure size 432x288 with 2 Axes>"
      ]
     },
     "metadata": {
      "needs_background": "light"
     },
     "output_type": "display_data"
    },
    {
     "data": {
      "image/png": "[encoded data removed]",
      "text/plain": [
       "<Figure size 432x288 with 1 Axes>"
      ]
     },
     "metadata": {
      "needs_background": "light"
     },
     "output_type": "display_data"
    }
   ],
   "source": [
    "evaluate_model(best_forest, X_upsampled, y_upsampled, X_test, y_test)"
   ]
  },
  {
   "cell_type": "markdown",
   "id": "32eaa014",
   "metadata": {},
   "source": [
    "As with class weight adjustment, upsampling improved upon the _recall_ and _f1_ scores of our initial model.  Of the two methods for addressing target class imbalance, class weight adjustment produced slightly better results."
   ]
  },
  {
   "cell_type": "markdown",
   "id": "3b0e0535",
   "metadata": {},
   "source": [
    "## Conclusion\n",
    "In this section, we used the <code>RandomForestClassifer</code> to develop a model to predict whether a client will leave the bank soon.  We used <code>GridSearchCV</code> to select a good set of hyperparameters.  Our intial model, which retained the target class imbalance, failed to achieve our minimum target _f1_ score of 0.59.  However, when the imbalance was addressed through class weight adjustment or upsampling, our models exceeded the target.\n",
    "\n",
    "Our best model, which used class weight adjustment, had an _f1_ of __0.64__ and an _AUC_ of __0.87__.  This _AUC_ score means that when given one randomly selected positive instance and one randomly selected negative instance, our classifier has a 87% chance of telling which one is which."
   ]
  },
  {
   "cell_type": "markdown",
   "id": "450b145a",
   "metadata": {},
   "source": [
    "# Conclusion\n",
    "Managers at the Beta Bank have identified a need to improve customer retention.  Using data on customer churn, we developed a machine learning classifer that can identify customers who are likely to leave soon.  Using the model, bank managers will know where to focus their customer retention efforts."
   ]
  }
 ],
 "metadata": {
  "kernelspec": {
   "display_name": "Python 3 (ipykernel)",
   "language": "python",
   "name": "python3"
  },
  "language_info": {
   "codemirror_mode": {
    "name": "ipython",
    "version": 3
   },
   "file_extension": ".py",
   "mimetype": "text/x-python",
   "name": "python",
   "nbconvert_exporter": "python",
   "pygments_lexer": "ipython3",
   "version": "3.9.12"
  },
  "toc": {
   "base_numbering": 1,
   "nav_menu": {},
   "number_sections": true,
   "sideBar": true,
   "skip_h1_title": true,
   "title_cell": "Table of Contents",
   "title_sidebar": "Contents",
   "toc_cell": false,
   "toc_position": {},
   "toc_section_display": true,
   "toc_window_display": false
  }
 },
 "nbformat": 4,
 "nbformat_minor": 5
}
