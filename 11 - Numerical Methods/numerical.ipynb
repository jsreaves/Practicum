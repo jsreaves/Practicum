{
 "cells": [
  {
   "cell_type": "markdown",
   "metadata": {},
   "source": [
    "# Introduction\n",
    "\n",
    "Used car service *Rusty Bargain* is developing an app to attract new customers.  In the app, the user can quickly find out the market value of their car.  In this project, we will use historical car sales data to develop machine learning models to predict the value of the user's car.  We will evaluate linear regression, random forest, and gradient boosting models, in terms of prediction accuracy, prediciton speed, and training time."
   ]
  },
  {
   "cell_type": "markdown",
   "metadata": {},
   "source": [
    "# Data preparation"
   ]
  },
  {
   "cell_type": "markdown",
   "metadata": {},
   "source": [
    "## Preliminary data review"
   ]
  },
  {
   "cell_type": "code",
   "execution_count": 1,
   "metadata": {},
   "outputs": [
    {
     "name": "stdout",
     "output_type": "stream",
     "text": [
      "Requirement already satisfied: hyperopt in /Users/jasonreaves/opt/anaconda3/lib/python3.9/site-packages (0.2.7)\n",
      "Requirement already satisfied: cloudpickle in /Users/jasonreaves/opt/anaconda3/lib/python3.9/site-packages (from hyperopt) (2.0.0)\n",
      "Requirement already satisfied: future in /Users/jasonreaves/opt/anaconda3/lib/python3.9/site-packages (from hyperopt) (0.18.2)\n",
      "Requirement already satisfied: scipy in /Users/jasonreaves/opt/anaconda3/lib/python3.9/site-packages (from hyperopt) (1.7.3)\n",
      "Requirement already satisfied: numpy in /Users/jasonreaves/opt/anaconda3/lib/python3.9/site-packages (from hyperopt) (1.21.5)\n",
      "Requirement already satisfied: networkx>=2.2 in /Users/jasonreaves/opt/anaconda3/lib/python3.9/site-packages (from hyperopt) (2.7.1)\n",
      "Requirement already satisfied: tqdm in /Users/jasonreaves/opt/anaconda3/lib/python3.9/site-packages (from hyperopt) (4.64.0)\n",
      "Requirement already satisfied: py4j in /Users/jasonreaves/opt/anaconda3/lib/python3.9/site-packages (from hyperopt) (0.10.9.5)\n",
      "Requirement already satisfied: six in /Users/jasonreaves/opt/anaconda3/lib/python3.9/site-packages (from hyperopt) (1.16.0)\n",
      "Note: you may need to restart the kernel to use updated packages.\n"
     ]
    }
   ],
   "source": [
    "pip install hyperopt"
   ]
  },
  {
   "cell_type": "code",
   "execution_count": 2,
   "metadata": {},
   "outputs": [
    {
     "name": "stdout",
     "output_type": "stream",
     "text": [
      "Requirement already satisfied: catboost in /Users/jasonreaves/opt/anaconda3/lib/python3.9/site-packages (1.0.6)\n",
      "Requirement already satisfied: scipy in /Users/jasonreaves/opt/anaconda3/lib/python3.9/site-packages (from catboost) (1.7.3)\n",
      "Requirement already satisfied: plotly in /Users/jasonreaves/opt/anaconda3/lib/python3.9/site-packages (from catboost) (5.6.0)\n",
      "Requirement already satisfied: graphviz in /Users/jasonreaves/opt/anaconda3/lib/python3.9/site-packages (from catboost) (0.20)\n",
      "Requirement already satisfied: matplotlib in /Users/jasonreaves/opt/anaconda3/lib/python3.9/site-packages (from catboost) (3.5.1)\n",
      "Requirement already satisfied: pandas>=0.24.0 in /Users/jasonreaves/opt/anaconda3/lib/python3.9/site-packages (from catboost) (1.4.2)\n",
      "Requirement already satisfied: six in /Users/jasonreaves/opt/anaconda3/lib/python3.9/site-packages (from catboost) (1.16.0)\n",
      "Requirement already satisfied: numpy>=1.16.0 in /Users/jasonreaves/opt/anaconda3/lib/python3.9/site-packages (from catboost) (1.21.5)\n",
      "Requirement already satisfied: python-dateutil>=2.8.1 in /Users/jasonreaves/opt/anaconda3/lib/python3.9/site-packages (from pandas>=0.24.0->catboost) (2.8.2)\n",
      "Requirement already satisfied: pytz>=2020.1 in /Users/jasonreaves/opt/anaconda3/lib/python3.9/site-packages (from pandas>=0.24.0->catboost) (2021.3)\n",
      "Requirement already satisfied: packaging>=20.0 in /Users/jasonreaves/opt/anaconda3/lib/python3.9/site-packages (from matplotlib->catboost) (21.3)\n",
      "Requirement already satisfied: fonttools>=4.22.0 in /Users/jasonreaves/opt/anaconda3/lib/python3.9/site-packages (from matplotlib->catboost) (4.25.0)\n",
      "Requirement already satisfied: pyparsing>=2.2.1 in /Users/jasonreaves/opt/anaconda3/lib/python3.9/site-packages (from matplotlib->catboost) (3.0.4)\n",
      "Requirement already satisfied: kiwisolver>=1.0.1 in /Users/jasonreaves/opt/anaconda3/lib/python3.9/site-packages (from matplotlib->catboost) (1.3.2)\n",
      "Requirement already satisfied: cycler>=0.10 in /Users/jasonreaves/opt/anaconda3/lib/python3.9/site-packages (from matplotlib->catboost) (0.11.0)\n",
      "Requirement already satisfied: pillow>=6.2.0 in /Users/jasonreaves/opt/anaconda3/lib/python3.9/site-packages (from matplotlib->catboost) (9.0.1)\n",
      "Requirement already satisfied: tenacity>=6.2.0 in /Users/jasonreaves/opt/anaconda3/lib/python3.9/site-packages (from plotly->catboost) (8.0.1)\n",
      "Note: you may need to restart the kernel to use updated packages.\n"
     ]
    }
   ],
   "source": [
    "pip install catboost"
   ]
  },
  {
   "cell_type": "code",
   "execution_count": 3,
   "metadata": {},
   "outputs": [
    {
     "name": "stdout",
     "output_type": "stream",
     "text": [
      "Collecting package metadata (current_repodata.json): done\n",
      "Solving environment: done\n",
      "\n",
      "# All requested packages already installed.\n",
      "\n",
      "\n",
      "Note: you may need to restart the kernel to use updated packages.\n"
     ]
    }
   ],
   "source": [
    "conda install lightgbm"
   ]
  },
  {
   "cell_type": "code",
   "execution_count": 4,
   "metadata": {},
   "outputs": [],
   "source": [
    "from catboost import CatBoostRegressor\n",
    "from hyperopt import tpe, STATUS_OK, Trials, hp, fmin\n",
    "from lightgbm import LGBMRegressor\n",
    "from numpy.random import RandomState\n",
    "from sklearn.ensemble import RandomForestRegressor\n",
    "from sklearn.linear_model import LinearRegression\n",
    "from sklearn.metrics import mean_squared_error, r2_score\n",
    "from sklearn.model_selection import GridSearchCV, train_test_split, cross_val_score\n",
    "from sklearn.preprocessing import StandardScaler, MaxAbsScaler\n",
    "\n",
    "import catboost as cb\n",
    "import hyperopt\n",
    "import lightgbm as lgb\n",
    "import numpy as np\n",
    "import pandas as pd\n",
    "import seaborn as sns\n",
    "import sklearn\n",
    "import warnings"
   ]
  },
  {
   "cell_type": "code",
   "execution_count": 5,
   "metadata": {},
   "outputs": [],
   "source": [
    "warnings.filterwarnings('ignore')"
   ]
  },
  {
   "cell_type": "code",
   "execution_count": 6,
   "metadata": {},
   "outputs": [],
   "source": [
    "RANDOM_STATE = 54321\n",
    "\n",
    "# hyperopt parameters\n",
    "FINDING_HYPERPARAMETERS = False\n",
    "N_FOLDS = 3\n",
    "MAX_EVALS = 50 # Number of parameter space iterations"
   ]
  },
  {
   "cell_type": "code",
   "execution_count": 7,
   "metadata": {},
   "outputs": [],
   "source": [
    "try:\n",
    "    df = pd.read_csv('/datasets/car_data.csv')\n",
    "except:\n",
    "    df = pd.read_csv('car_data.csv')"
   ]
  },
  {
   "cell_type": "code",
   "execution_count": 8,
   "metadata": {},
   "outputs": [
    {
     "name": "stdout",
     "output_type": "stream",
     "text": [
      "<class 'pandas.core.frame.DataFrame'>\n",
      "RangeIndex: 354369 entries, 0 to 354368\n",
      "Data columns (total 16 columns):\n",
      " #   Column             Non-Null Count   Dtype \n",
      "---  ------             --------------   ----- \n",
      " 0   DateCrawled        354369 non-null  object\n",
      " 1   Price              354369 non-null  int64 \n",
      " 2   VehicleType        316879 non-null  object\n",
      " 3   RegistrationYear   354369 non-null  int64 \n",
      " 4   Gearbox            334536 non-null  object\n",
      " 5   Power              354369 non-null  int64 \n",
      " 6   Model              334664 non-null  object\n",
      " 7   Mileage            354369 non-null  int64 \n",
      " 8   RegistrationMonth  354369 non-null  int64 \n",
      " 9   FuelType           321474 non-null  object\n",
      " 10  Brand              354369 non-null  object\n",
      " 11  NotRepaired        283215 non-null  object\n",
      " 12  DateCreated        354369 non-null  object\n",
      " 13  NumberOfPictures   354369 non-null  int64 \n",
      " 14  PostalCode         354369 non-null  int64 \n",
      " 15  LastSeen           354369 non-null  object\n",
      "dtypes: int64(7), object(9)\n",
      "memory usage: 43.3+ MB\n"
     ]
    }
   ],
   "source": [
    "df.info()"
   ]
  },
  {
   "cell_type": "code",
   "execution_count": 9,
   "metadata": {},
   "outputs": [
    {
     "data": {
      "text/html": [
       "<div>\n",
       "<style scoped>\n",
       "    .dataframe tbody tr th:only-of-type {\n",
       "        vertical-align: middle;\n",
       "    }\n",
       "\n",
       "    .dataframe tbody tr th {\n",
       "        vertical-align: top;\n",
       "    }\n",
       "\n",
       "    .dataframe thead th {\n",
       "        text-align: right;\n",
       "    }\n",
       "</style>\n",
       "<table border=\"1\" class=\"dataframe\">\n",
       "  <thead>\n",
       "    <tr style=\"text-align: right;\">\n",
       "      <th></th>\n",
       "      <th>DateCrawled</th>\n",
       "      <th>Price</th>\n",
       "      <th>VehicleType</th>\n",
       "      <th>RegistrationYear</th>\n",
       "      <th>Gearbox</th>\n",
       "      <th>Power</th>\n",
       "      <th>Model</th>\n",
       "      <th>Mileage</th>\n",
       "      <th>RegistrationMonth</th>\n",
       "      <th>FuelType</th>\n",
       "      <th>Brand</th>\n",
       "      <th>NotRepaired</th>\n",
       "      <th>DateCreated</th>\n",
       "      <th>NumberOfPictures</th>\n",
       "      <th>PostalCode</th>\n",
       "      <th>LastSeen</th>\n",
       "    </tr>\n",
       "  </thead>\n",
       "  <tbody>\n",
       "    <tr>\n",
       "      <th>18864</th>\n",
       "      <td>28/03/2016 18:37</td>\n",
       "      <td>8000</td>\n",
       "      <td>sedan</td>\n",
       "      <td>2005</td>\n",
       "      <td>manual</td>\n",
       "      <td>177</td>\n",
       "      <td>5er</td>\n",
       "      <td>150000</td>\n",
       "      <td>2</td>\n",
       "      <td>gasoline</td>\n",
       "      <td>bmw</td>\n",
       "      <td>no</td>\n",
       "      <td>28/03/2016 00:00</td>\n",
       "      <td>0</td>\n",
       "      <td>36251</td>\n",
       "      <td>07/04/2016 00:17</td>\n",
       "    </tr>\n",
       "    <tr>\n",
       "      <th>217923</th>\n",
       "      <td>23/03/2016 12:46</td>\n",
       "      <td>14300</td>\n",
       "      <td>sedan</td>\n",
       "      <td>2008</td>\n",
       "      <td>auto</td>\n",
       "      <td>156</td>\n",
       "      <td>c_klasse</td>\n",
       "      <td>70000</td>\n",
       "      <td>7</td>\n",
       "      <td>petrol</td>\n",
       "      <td>mercedes_benz</td>\n",
       "      <td>no</td>\n",
       "      <td>23/03/2016 00:00</td>\n",
       "      <td>0</td>\n",
       "      <td>27386</td>\n",
       "      <td>05/04/2016 11:50</td>\n",
       "    </tr>\n",
       "    <tr>\n",
       "      <th>3546</th>\n",
       "      <td>27/03/2016 18:53</td>\n",
       "      <td>10950</td>\n",
       "      <td>small</td>\n",
       "      <td>2013</td>\n",
       "      <td>manual</td>\n",
       "      <td>90</td>\n",
       "      <td>fabia</td>\n",
       "      <td>50000</td>\n",
       "      <td>3</td>\n",
       "      <td>gasoline</td>\n",
       "      <td>skoda</td>\n",
       "      <td>no</td>\n",
       "      <td>27/03/2016 00:00</td>\n",
       "      <td>0</td>\n",
       "      <td>68723</td>\n",
       "      <td>05/04/2016 17:21</td>\n",
       "    </tr>\n",
       "    <tr>\n",
       "      <th>265033</th>\n",
       "      <td>19/03/2016 14:55</td>\n",
       "      <td>850</td>\n",
       "      <td>NaN</td>\n",
       "      <td>2017</td>\n",
       "      <td>manual</td>\n",
       "      <td>116</td>\n",
       "      <td>other</td>\n",
       "      <td>150000</td>\n",
       "      <td>10</td>\n",
       "      <td>petrol</td>\n",
       "      <td>mazda</td>\n",
       "      <td>NaN</td>\n",
       "      <td>19/03/2016 00:00</td>\n",
       "      <td>0</td>\n",
       "      <td>10179</td>\n",
       "      <td>19/03/2016 14:55</td>\n",
       "    </tr>\n",
       "    <tr>\n",
       "      <th>280470</th>\n",
       "      <td>21/03/2016 21:44</td>\n",
       "      <td>2400</td>\n",
       "      <td>wagon</td>\n",
       "      <td>2000</td>\n",
       "      <td>manual</td>\n",
       "      <td>101</td>\n",
       "      <td>golf</td>\n",
       "      <td>150000</td>\n",
       "      <td>8</td>\n",
       "      <td>petrol</td>\n",
       "      <td>volkswagen</td>\n",
       "      <td>no</td>\n",
       "      <td>21/03/2016 00:00</td>\n",
       "      <td>0</td>\n",
       "      <td>73342</td>\n",
       "      <td>07/04/2016 01:17</td>\n",
       "    </tr>\n",
       "  </tbody>\n",
       "</table>\n",
       "</div>"
      ],
      "text/plain": [
       "             DateCrawled  Price VehicleType  RegistrationYear Gearbox  Power  \\\n",
       "18864   28/03/2016 18:37   8000       sedan              2005  manual    177   \n",
       "217923  23/03/2016 12:46  14300       sedan              2008    auto    156   \n",
       "3546    27/03/2016 18:53  10950       small              2013  manual     90   \n",
       "265033  19/03/2016 14:55    850         NaN              2017  manual    116   \n",
       "280470  21/03/2016 21:44   2400       wagon              2000  manual    101   \n",
       "\n",
       "           Model  Mileage  RegistrationMonth  FuelType          Brand  \\\n",
       "18864        5er   150000                  2  gasoline            bmw   \n",
       "217923  c_klasse    70000                  7    petrol  mercedes_benz   \n",
       "3546       fabia    50000                  3  gasoline          skoda   \n",
       "265033     other   150000                 10    petrol          mazda   \n",
       "280470      golf   150000                  8    petrol     volkswagen   \n",
       "\n",
       "       NotRepaired       DateCreated  NumberOfPictures  PostalCode  \\\n",
       "18864           no  28/03/2016 00:00                 0       36251   \n",
       "217923          no  23/03/2016 00:00                 0       27386   \n",
       "3546            no  27/03/2016 00:00                 0       68723   \n",
       "265033         NaN  19/03/2016 00:00                 0       10179   \n",
       "280470          no  21/03/2016 00:00                 0       73342   \n",
       "\n",
       "                LastSeen  \n",
       "18864   07/04/2016 00:17  \n",
       "217923  05/04/2016 11:50  \n",
       "3546    05/04/2016 17:21  \n",
       "265033  19/03/2016 14:55  \n",
       "280470  07/04/2016 01:17  "
      ]
     },
     "execution_count": 9,
     "metadata": {},
     "output_type": "execute_result"
    }
   ],
   "source": [
    "df.sample(5)"
   ]
  },
  {
   "cell_type": "code",
   "execution_count": 10,
   "metadata": {},
   "outputs": [
    {
     "data": {
      "text/html": [
       "<div>\n",
       "<style scoped>\n",
       "    .dataframe tbody tr th:only-of-type {\n",
       "        vertical-align: middle;\n",
       "    }\n",
       "\n",
       "    .dataframe tbody tr th {\n",
       "        vertical-align: top;\n",
       "    }\n",
       "\n",
       "    .dataframe thead th {\n",
       "        text-align: right;\n",
       "    }\n",
       "</style>\n",
       "<table border=\"1\" class=\"dataframe\">\n",
       "  <thead>\n",
       "    <tr style=\"text-align: right;\">\n",
       "      <th></th>\n",
       "      <th>Price</th>\n",
       "      <th>RegistrationYear</th>\n",
       "      <th>Power</th>\n",
       "      <th>Mileage</th>\n",
       "      <th>RegistrationMonth</th>\n",
       "      <th>NumberOfPictures</th>\n",
       "      <th>PostalCode</th>\n",
       "    </tr>\n",
       "  </thead>\n",
       "  <tbody>\n",
       "    <tr>\n",
       "      <th>count</th>\n",
       "      <td>354369.000000</td>\n",
       "      <td>354369.000000</td>\n",
       "      <td>354369.000000</td>\n",
       "      <td>354369.000000</td>\n",
       "      <td>354369.000000</td>\n",
       "      <td>354369.0</td>\n",
       "      <td>354369.000000</td>\n",
       "    </tr>\n",
       "    <tr>\n",
       "      <th>mean</th>\n",
       "      <td>4416.656776</td>\n",
       "      <td>2004.234448</td>\n",
       "      <td>110.094337</td>\n",
       "      <td>128211.172535</td>\n",
       "      <td>5.714645</td>\n",
       "      <td>0.0</td>\n",
       "      <td>50508.689087</td>\n",
       "    </tr>\n",
       "    <tr>\n",
       "      <th>std</th>\n",
       "      <td>4514.158514</td>\n",
       "      <td>90.227958</td>\n",
       "      <td>189.850405</td>\n",
       "      <td>37905.341530</td>\n",
       "      <td>3.726421</td>\n",
       "      <td>0.0</td>\n",
       "      <td>25783.096248</td>\n",
       "    </tr>\n",
       "    <tr>\n",
       "      <th>min</th>\n",
       "      <td>0.000000</td>\n",
       "      <td>1000.000000</td>\n",
       "      <td>0.000000</td>\n",
       "      <td>5000.000000</td>\n",
       "      <td>0.000000</td>\n",
       "      <td>0.0</td>\n",
       "      <td>1067.000000</td>\n",
       "    </tr>\n",
       "    <tr>\n",
       "      <th>25%</th>\n",
       "      <td>1050.000000</td>\n",
       "      <td>1999.000000</td>\n",
       "      <td>69.000000</td>\n",
       "      <td>125000.000000</td>\n",
       "      <td>3.000000</td>\n",
       "      <td>0.0</td>\n",
       "      <td>30165.000000</td>\n",
       "    </tr>\n",
       "    <tr>\n",
       "      <th>50%</th>\n",
       "      <td>2700.000000</td>\n",
       "      <td>2003.000000</td>\n",
       "      <td>105.000000</td>\n",
       "      <td>150000.000000</td>\n",
       "      <td>6.000000</td>\n",
       "      <td>0.0</td>\n",
       "      <td>49413.000000</td>\n",
       "    </tr>\n",
       "    <tr>\n",
       "      <th>75%</th>\n",
       "      <td>6400.000000</td>\n",
       "      <td>2008.000000</td>\n",
       "      <td>143.000000</td>\n",
       "      <td>150000.000000</td>\n",
       "      <td>9.000000</td>\n",
       "      <td>0.0</td>\n",
       "      <td>71083.000000</td>\n",
       "    </tr>\n",
       "    <tr>\n",
       "      <th>max</th>\n",
       "      <td>20000.000000</td>\n",
       "      <td>9999.000000</td>\n",
       "      <td>20000.000000</td>\n",
       "      <td>150000.000000</td>\n",
       "      <td>12.000000</td>\n",
       "      <td>0.0</td>\n",
       "      <td>99998.000000</td>\n",
       "    </tr>\n",
       "  </tbody>\n",
       "</table>\n",
       "</div>"
      ],
      "text/plain": [
       "               Price  RegistrationYear          Power        Mileage  \\\n",
       "count  354369.000000     354369.000000  354369.000000  354369.000000   \n",
       "mean     4416.656776       2004.234448     110.094337  128211.172535   \n",
       "std      4514.158514         90.227958     189.850405   37905.341530   \n",
       "min         0.000000       1000.000000       0.000000    5000.000000   \n",
       "25%      1050.000000       1999.000000      69.000000  125000.000000   \n",
       "50%      2700.000000       2003.000000     105.000000  150000.000000   \n",
       "75%      6400.000000       2008.000000     143.000000  150000.000000   \n",
       "max     20000.000000       9999.000000   20000.000000  150000.000000   \n",
       "\n",
       "       RegistrationMonth  NumberOfPictures     PostalCode  \n",
       "count      354369.000000          354369.0  354369.000000  \n",
       "mean            5.714645               0.0   50508.689087  \n",
       "std             3.726421               0.0   25783.096248  \n",
       "min             0.000000               0.0    1067.000000  \n",
       "25%             3.000000               0.0   30165.000000  \n",
       "50%             6.000000               0.0   49413.000000  \n",
       "75%             9.000000               0.0   71083.000000  \n",
       "max            12.000000               0.0   99998.000000  "
      ]
     },
     "execution_count": 10,
     "metadata": {},
     "output_type": "execute_result"
    }
   ],
   "source": [
    "df.describe()"
   ]
  },
  {
   "cell_type": "markdown",
   "metadata": {},
   "source": [
    "Unfortunately, there a lot of missing data.  In the next section, we will go through each column one by one and address this."
   ]
  },
  {
   "cell_type": "markdown",
   "metadata": {},
   "source": [
    "## Preprocessing"
   ]
  },
  {
   "cell_type": "markdown",
   "metadata": {},
   "source": [
    "### DateCrawled\n",
    "This column is the date the profile was downloaded from the database.  Since this is not related to our target, `Price`,  we will drop it."
   ]
  },
  {
   "cell_type": "code",
   "execution_count": 11,
   "metadata": {},
   "outputs": [],
   "source": [
    "df.drop('DateCrawled', axis=1, inplace=True)"
   ]
  },
  {
   "cell_type": "markdown",
   "metadata": {},
   "source": [
    "### Price"
   ]
  },
  {
   "cell_type": "markdown",
   "metadata": {},
   "source": [
    "Data type (`int64`) is appropriate.  `Price` ranges from €0 to €20,000.  The maximum is reasonable, but the minimum is not.  Maybe a price of €0 means that the value is missing, for instance, because the car was donated or the ad was taken down before the car sold.  Since `Price` will be the target of our regression models, it doesn't make sense to replace these values with estimates.  We will drop records with a price of €0.  These records represent only 3% of our data set."
   ]
  },
  {
   "cell_type": "code",
   "execution_count": 12,
   "metadata": {},
   "outputs": [
    {
     "name": "stdout",
     "output_type": "stream",
     "text": [
      "Percent of records with Price of €0: 3.0%\n"
     ]
    }
   ],
   "source": [
    "print('Percent of records with Price of €0: {:.1%}'.format(\n",
    "    len(df[df.Price == 0])/len(df)))"
   ]
  },
  {
   "cell_type": "code",
   "execution_count": 13,
   "metadata": {},
   "outputs": [],
   "source": [
    "df = df[df.Price != 0]"
   ]
  },
  {
   "cell_type": "markdown",
   "metadata": {},
   "source": [
    "### VehicleType"
   ]
  },
  {
   "cell_type": "code",
   "execution_count": 14,
   "metadata": {},
   "outputs": [
    {
     "data": {
      "text/plain": [
       "33750"
      ]
     },
     "execution_count": 14,
     "metadata": {},
     "output_type": "execute_result"
    }
   ],
   "source": [
    "df.VehicleType.isna().sum()"
   ]
  },
  {
   "cell_type": "code",
   "execution_count": 15,
   "metadata": {},
   "outputs": [
    {
     "data": {
      "text/plain": [
       "sedan          89405\n",
       "small          78018\n",
       "wagon          63701\n",
       "bus            28345\n",
       "convertible    19865\n",
       "coupe          15636\n",
       "suv            11791\n",
       "other           3086\n",
       "Name: VehicleType, dtype: int64"
      ]
     },
     "execution_count": 15,
     "metadata": {},
     "output_type": "execute_result"
    }
   ],
   "source": [
    "df.VehicleType.value_counts()"
   ]
  },
  {
   "cell_type": "markdown",
   "metadata": {},
   "source": [
    "The set of `VehicleType`s is clean-looking (e.g., no obvious duplication), but there are 33,750 missing values.  We will replace missing values with 'unknown'."
   ]
  },
  {
   "cell_type": "code",
   "execution_count": 16,
   "metadata": {},
   "outputs": [],
   "source": [
    "df.VehicleType = df.VehicleType.fillna('unknown')"
   ]
  },
  {
   "cell_type": "markdown",
   "metadata": {},
   "source": [
    "### RegistrationYear\n",
    "The descriptive statistics show that `RegistrationYear` ranges from 1,000 to 9,000. Let's examine some of these erroneous values."
   ]
  },
  {
   "cell_type": "code",
   "execution_count": 17,
   "metadata": {},
   "outputs": [
    {
     "data": {
      "text/html": [
       "<div>\n",
       "<style scoped>\n",
       "    .dataframe tbody tr th:only-of-type {\n",
       "        vertical-align: middle;\n",
       "    }\n",
       "\n",
       "    .dataframe tbody tr th {\n",
       "        vertical-align: top;\n",
       "    }\n",
       "\n",
       "    .dataframe thead th {\n",
       "        text-align: right;\n",
       "    }\n",
       "</style>\n",
       "<table border=\"1\" class=\"dataframe\">\n",
       "  <thead>\n",
       "    <tr style=\"text-align: right;\">\n",
       "      <th></th>\n",
       "      <th>Price</th>\n",
       "      <th>VehicleType</th>\n",
       "      <th>RegistrationYear</th>\n",
       "      <th>Gearbox</th>\n",
       "      <th>Power</th>\n",
       "      <th>Model</th>\n",
       "      <th>Mileage</th>\n",
       "      <th>RegistrationMonth</th>\n",
       "      <th>FuelType</th>\n",
       "      <th>Brand</th>\n",
       "      <th>NotRepaired</th>\n",
       "      <th>DateCreated</th>\n",
       "      <th>NumberOfPictures</th>\n",
       "      <th>PostalCode</th>\n",
       "      <th>LastSeen</th>\n",
       "    </tr>\n",
       "  </thead>\n",
       "  <tbody>\n",
       "    <tr>\n",
       "      <th>167937</th>\n",
       "      <td>1000</td>\n",
       "      <td>unknown</td>\n",
       "      <td>9999</td>\n",
       "      <td>NaN</td>\n",
       "      <td>0</td>\n",
       "      <td>NaN</td>\n",
       "      <td>10000</td>\n",
       "      <td>0</td>\n",
       "      <td>NaN</td>\n",
       "      <td>mazda</td>\n",
       "      <td>NaN</td>\n",
       "      <td>23/03/2016 00:00</td>\n",
       "      <td>0</td>\n",
       "      <td>40822</td>\n",
       "      <td>23/03/2016 13:49</td>\n",
       "    </tr>\n",
       "    <tr>\n",
       "      <th>195855</th>\n",
       "      <td>1</td>\n",
       "      <td>unknown</td>\n",
       "      <td>1800</td>\n",
       "      <td>NaN</td>\n",
       "      <td>0</td>\n",
       "      <td>zafira</td>\n",
       "      <td>5000</td>\n",
       "      <td>0</td>\n",
       "      <td>NaN</td>\n",
       "      <td>opel</td>\n",
       "      <td>NaN</td>\n",
       "      <td>28/03/2016 00:00</td>\n",
       "      <td>0</td>\n",
       "      <td>50171</td>\n",
       "      <td>05/04/2016 03:44</td>\n",
       "    </tr>\n",
       "    <tr>\n",
       "      <th>110123</th>\n",
       "      <td>400</td>\n",
       "      <td>unknown</td>\n",
       "      <td>1000</td>\n",
       "      <td>NaN</td>\n",
       "      <td>0</td>\n",
       "      <td>NaN</td>\n",
       "      <td>5000</td>\n",
       "      <td>0</td>\n",
       "      <td>NaN</td>\n",
       "      <td>mercedes_benz</td>\n",
       "      <td>no</td>\n",
       "      <td>19/03/2016 00:00</td>\n",
       "      <td>0</td>\n",
       "      <td>8060</td>\n",
       "      <td>25/03/2016 13:46</td>\n",
       "    </tr>\n",
       "    <tr>\n",
       "      <th>17346</th>\n",
       "      <td>6500</td>\n",
       "      <td>unknown</td>\n",
       "      <td>8888</td>\n",
       "      <td>NaN</td>\n",
       "      <td>0</td>\n",
       "      <td>NaN</td>\n",
       "      <td>10000</td>\n",
       "      <td>0</td>\n",
       "      <td>NaN</td>\n",
       "      <td>sonstige_autos</td>\n",
       "      <td>NaN</td>\n",
       "      <td>06/03/2016 00:00</td>\n",
       "      <td>0</td>\n",
       "      <td>55262</td>\n",
       "      <td>30/03/2016 20:46</td>\n",
       "    </tr>\n",
       "    <tr>\n",
       "      <th>139360</th>\n",
       "      <td>450</td>\n",
       "      <td>unknown</td>\n",
       "      <td>1800</td>\n",
       "      <td>NaN</td>\n",
       "      <td>1800</td>\n",
       "      <td>NaN</td>\n",
       "      <td>5000</td>\n",
       "      <td>2</td>\n",
       "      <td>NaN</td>\n",
       "      <td>mitsubishi</td>\n",
       "      <td>no</td>\n",
       "      <td>02/04/2016 00:00</td>\n",
       "      <td>0</td>\n",
       "      <td>63322</td>\n",
       "      <td>04/04/2016 14:46</td>\n",
       "    </tr>\n",
       "  </tbody>\n",
       "</table>\n",
       "</div>"
      ],
      "text/plain": [
       "        Price VehicleType  RegistrationYear Gearbox  Power   Model  Mileage  \\\n",
       "167937   1000     unknown              9999     NaN      0     NaN    10000   \n",
       "195855      1     unknown              1800     NaN      0  zafira     5000   \n",
       "110123    400     unknown              1000     NaN      0     NaN     5000   \n",
       "17346    6500     unknown              8888     NaN      0     NaN    10000   \n",
       "139360    450     unknown              1800     NaN   1800     NaN     5000   \n",
       "\n",
       "        RegistrationMonth FuelType           Brand NotRepaired  \\\n",
       "167937                  0      NaN           mazda         NaN   \n",
       "195855                  0      NaN            opel         NaN   \n",
       "110123                  0      NaN   mercedes_benz          no   \n",
       "17346                   0      NaN  sonstige_autos         NaN   \n",
       "139360                  2      NaN      mitsubishi          no   \n",
       "\n",
       "             DateCreated  NumberOfPictures  PostalCode          LastSeen  \n",
       "167937  23/03/2016 00:00                 0       40822  23/03/2016 13:49  \n",
       "195855  28/03/2016 00:00                 0       50171  05/04/2016 03:44  \n",
       "110123  19/03/2016 00:00                 0        8060  25/03/2016 13:46  \n",
       "17346   06/03/2016 00:00                 0       55262  30/03/2016 20:46  \n",
       "139360  02/04/2016 00:00                 0       63322  04/04/2016 14:46  "
      ]
     },
     "execution_count": 17,
     "metadata": {},
     "output_type": "execute_result"
    }
   ],
   "source": [
    "df[(df.RegistrationYear < 1900) | (df.RegistrationYear > 2022)].sample(5)"
   ]
  },
  {
   "cell_type": "code",
   "execution_count": 18,
   "metadata": {},
   "outputs": [
    {
     "data": {
      "image/png": "[encoded data removed]",
      "text/plain": [
       "<Figure size 432x288 with 1 Axes>"
      ]
     },
     "metadata": {
      "needs_background": "light"
     },
     "output_type": "display_data"
    }
   ],
   "source": [
    "df.hist(column='RegistrationYear', range=[1900, 2022]);"
   ]
  },
  {
   "cell_type": "markdown",
   "metadata": {},
   "source": [
    "The `RegistrationYear` for the vast majority of records falls between 1960 and 2022, as expected.  Records with anomalously high or low `RegistrationYear`'s have a lot of other missing data.  For these reasons, we will drop records with `RegistrationYear` falling outside the range 1960-2022."
   ]
  },
  {
   "cell_type": "code",
   "execution_count": 19,
   "metadata": {},
   "outputs": [],
   "source": [
    "df = df[(df.RegistrationYear > 1960) & (df.RegistrationYear <= 2022)]"
   ]
  },
  {
   "cell_type": "markdown",
   "metadata": {},
   "source": [
    "### Gearbox\n",
    "There are 17,084 missing values.  We will fill missing values with 'unknown'."
   ]
  },
  {
   "cell_type": "code",
   "execution_count": 20,
   "metadata": {},
   "outputs": [
    {
     "data": {
      "text/plain": [
       "17084"
      ]
     },
     "execution_count": 20,
     "metadata": {},
     "output_type": "execute_result"
    }
   ],
   "source": [
    "df.Gearbox.isna().sum()"
   ]
  },
  {
   "cell_type": "code",
   "execution_count": 21,
   "metadata": {},
   "outputs": [
    {
     "data": {
      "text/plain": [
       "manual    261112\n",
       "auto       64839\n",
       "Name: Gearbox, dtype: int64"
      ]
     },
     "execution_count": 21,
     "metadata": {},
     "output_type": "execute_result"
    }
   ],
   "source": [
    "df.Gearbox.value_counts()"
   ]
  },
  {
   "cell_type": "code",
   "execution_count": 22,
   "metadata": {},
   "outputs": [],
   "source": [
    "df.Gearbox = df.Gearbox.fillna('unknown')"
   ]
  },
  {
   "cell_type": "markdown",
   "metadata": {},
   "source": [
    "### Power\n",
    "There are no missing values.  The descriptive statistics show a range from 0 to 20,000 and an IQR of 69 to 143.  Clearly, there are some outliers on both the high and low ends.  Let's examine the low and high outliers with histograms."
   ]
  },
  {
   "cell_type": "code",
   "execution_count": 23,
   "metadata": {},
   "outputs": [
    {
     "data": {
      "image/png": "[encoded data removed]",
      "text/plain": [
       "<Figure size 432x288 with 1 Axes>"
      ]
     },
     "metadata": {
      "needs_background": "light"
     },
     "output_type": "display_data"
    }
   ],
   "source": [
    "df.hist(column='Power', range=[0, 100]);"
   ]
  },
  {
   "cell_type": "code",
   "execution_count": 24,
   "metadata": {},
   "outputs": [
    {
     "data": {
      "image/png": "[encoded data removed]",
      "text/plain": [
       "<Figure size 432x288 with 1 Axes>"
      ]
     },
     "metadata": {
      "needs_background": "light"
     },
     "output_type": "display_data"
    }
   ],
   "source": [
    "df.hist(column='Power', range=[400, 2000]);"
   ]
  },
  {
   "cell_type": "markdown",
   "metadata": {},
   "source": [
    "The histogram for the low end of `Power` suggests that values less than 20 are anomalous.  The cutoff on the high end is less clear.  Internet research shows that 1,000 hp is typical of *supercars*.  I doubt that anyone is selling a supercar on *Rusty Bargain*.  We will consider values greater than 500 to be anomalous.  We will replace these outliers with the mean value based on vehicle type."
   ]
  },
  {
   "cell_type": "code",
   "execution_count": 25,
   "metadata": {},
   "outputs": [],
   "source": [
    "df.loc[(df.Power < 20) | (df.Power > 500), 'Power'] = np.nan\n",
    "df.Power = df.groupby('VehicleType')['Power'].apply(lambda x: x.fillna(x.mean())) "
   ]
  },
  {
   "cell_type": "markdown",
   "metadata": {},
   "source": [
    "### Model\n",
    "There are 250 unique model names.  The model is missing for 17,292 records, which will be filled with 'unknown'."
   ]
  },
  {
   "cell_type": "code",
   "execution_count": 26,
   "metadata": {},
   "outputs": [
    {
     "data": {
      "text/plain": [
       "250"
      ]
     },
     "execution_count": 26,
     "metadata": {},
     "output_type": "execute_result"
    }
   ],
   "source": [
    "df.Model.nunique()"
   ]
  },
  {
   "cell_type": "code",
   "execution_count": 27,
   "metadata": {},
   "outputs": [
    {
     "data": {
      "text/plain": [
       "17292"
      ]
     },
     "execution_count": 27,
     "metadata": {},
     "output_type": "execute_result"
    }
   ],
   "source": [
    "df.Model.isna().sum()"
   ]
  },
  {
   "cell_type": "code",
   "execution_count": 28,
   "metadata": {},
   "outputs": [],
   "source": [
    "df.Model = df.Model.fillna('unknown')"
   ]
  },
  {
   "cell_type": "markdown",
   "metadata": {},
   "source": [
    "### Mileage\n",
    "There are no missing values, and the minimum and maximum values seem reasonable."
   ]
  },
  {
   "cell_type": "code",
   "execution_count": 29,
   "metadata": {},
   "outputs": [
    {
     "data": {
      "image/png": "[encoded data removed]",
      "text/plain": [
       "<Figure size 432x288 with 1 Axes>"
      ]
     },
     "metadata": {
      "needs_background": "light"
     },
     "output_type": "display_data"
    }
   ],
   "source": [
    "df.hist(column='Mileage');"
   ]
  },
  {
   "cell_type": "markdown",
   "metadata": {},
   "source": [
    "The histogram, as well as direct inspection of the data, suggests that a mileage of 150,000 is listed for vehicles *greater than* 150,000 miles."
   ]
  },
  {
   "cell_type": "markdown",
   "metadata": {},
   "source": [
    "### RegistrationMonth\n",
    "There are no missing values, but there appear to be 13 months.  Is January month 0 or month 1?  Does month 0 represent a missing value?  This is not clear from inspection of the data.\n",
    "\n",
    "Since `RegistrationYear` seems to reflect the age of the vehicle, this field seems to reflect the month the vehicle was first registered with the department of motor vehicles. This is unlikely to have a significant impact on the value of the vehicle.\n",
    "\n",
    "Although the data type is `int`, in order to be meeaningful in a regression model, `RegistrationMonth` should probably be encoded as a categorical variable.  Otherwise, January and December would be far away from each other, which is incorrect in terms of season, weather, etc.\n",
    "\n",
    "Because of the complexity in properly encoding this column, and its quesitionable relationship to vehicle price, we will exlude `RegistrationMonth` from our models."
   ]
  },
  {
   "cell_type": "code",
   "execution_count": 30,
   "metadata": {},
   "outputs": [],
   "source": [
    "df.drop('RegistrationMonth', axis=1, inplace=True)"
   ]
  },
  {
   "cell_type": "markdown",
   "metadata": {},
   "source": [
    "### FuelType\n",
    "`FuelType` is missing for 29,215 records.  These will be filled with 'unknown'.  Since 'petrol' and 'gasoline' are the same thing, these will be consolidated."
   ]
  },
  {
   "cell_type": "code",
   "execution_count": 31,
   "metadata": {},
   "outputs": [
    {
     "data": {
      "text/plain": [
       "29215"
      ]
     },
     "execution_count": 31,
     "metadata": {},
     "output_type": "execute_result"
    }
   ],
   "source": [
    "df.FuelType.isna().sum()"
   ]
  },
  {
   "cell_type": "code",
   "execution_count": 32,
   "metadata": {},
   "outputs": [
    {
     "data": {
      "text/plain": [
       "petrol      210473\n",
       "gasoline     97146\n",
       "lpg           5166\n",
       "cng            553\n",
       "hybrid         227\n",
       "other          167\n",
       "electric        88\n",
       "Name: FuelType, dtype: int64"
      ]
     },
     "execution_count": 32,
     "metadata": {},
     "output_type": "execute_result"
    }
   ],
   "source": [
    "df.FuelType.value_counts()"
   ]
  },
  {
   "cell_type": "code",
   "execution_count": 33,
   "metadata": {},
   "outputs": [],
   "source": [
    "df.FuelType = df.FuelType.fillna('unknown')"
   ]
  },
  {
   "cell_type": "code",
   "execution_count": 34,
   "metadata": {},
   "outputs": [],
   "source": [
    "df.loc[df.FuelType == 'petrol', 'FuelType'] = 'gasoline'"
   ]
  },
  {
   "cell_type": "markdown",
   "metadata": {},
   "source": [
    "### Brand\n",
    "There are no missing values or obvious duplications.  Car companies give their cars unique model names, so if you know the model name, the brand is implied.  This means that if we include `Model` in our machine learning models, `Brand` is redundant.  For this reason, we will drop `Brand` to simplify our models and speed up model development."
   ]
  },
  {
   "cell_type": "code",
   "execution_count": 35,
   "metadata": {},
   "outputs": [],
   "source": [
    "#df.Brand.value_counts()"
   ]
  },
  {
   "cell_type": "code",
   "execution_count": 36,
   "metadata": {},
   "outputs": [],
   "source": [
    "df.drop('Brand', axis=1, inplace=True)"
   ]
  },
  {
   "cell_type": "markdown",
   "metadata": {},
   "source": [
    "### NotRepaired\n",
    "As we have done for other columns, we will replace missing values with 'unknown'."
   ]
  },
  {
   "cell_type": "code",
   "execution_count": 37,
   "metadata": {},
   "outputs": [
    {
     "data": {
      "text/plain": [
       "65542"
      ]
     },
     "execution_count": 37,
     "metadata": {},
     "output_type": "execute_result"
    }
   ],
   "source": [
    "df.NotRepaired.isna().sum()"
   ]
  },
  {
   "cell_type": "code",
   "execution_count": 38,
   "metadata": {},
   "outputs": [
    {
     "data": {
      "text/plain": [
       "no     243500\n",
       "yes     33993\n",
       "Name: NotRepaired, dtype: int64"
      ]
     },
     "execution_count": 38,
     "metadata": {},
     "output_type": "execute_result"
    }
   ],
   "source": [
    "df.NotRepaired.value_counts()"
   ]
  },
  {
   "cell_type": "code",
   "execution_count": 39,
   "metadata": {},
   "outputs": [],
   "source": [
    "df.NotRepaired = df.NotRepaired.fillna('unknown')"
   ]
  },
  {
   "cell_type": "markdown",
   "metadata": {},
   "source": [
    "### DateCreated\n",
    "This column refers to the date the profile was created.  We will drop this column since it is not related to `Price`."
   ]
  },
  {
   "cell_type": "code",
   "execution_count": 40,
   "metadata": {},
   "outputs": [],
   "source": [
    "df.drop('DateCreated', axis=1, inplace=True)"
   ]
  },
  {
   "cell_type": "markdown",
   "metadata": {},
   "source": [
    "### NumberOfPictures\n",
    "This is actually 0 for *all* records.  We will drop this column."
   ]
  },
  {
   "cell_type": "code",
   "execution_count": 41,
   "metadata": {},
   "outputs": [
    {
     "data": {
      "text/plain": [
       "0"
      ]
     },
     "execution_count": 41,
     "metadata": {},
     "output_type": "execute_result"
    }
   ],
   "source": [
    "df.NumberOfPictures.isna().sum()"
   ]
  },
  {
   "cell_type": "code",
   "execution_count": 42,
   "metadata": {},
   "outputs": [
    {
     "data": {
      "text/plain": [
       "0    343035\n",
       "Name: NumberOfPictures, dtype: int64"
      ]
     },
     "execution_count": 42,
     "metadata": {},
     "output_type": "execute_result"
    }
   ],
   "source": [
    "df.NumberOfPictures.value_counts()"
   ]
  },
  {
   "cell_type": "code",
   "execution_count": 43,
   "metadata": {},
   "outputs": [],
   "source": [
    "df.drop('NumberOfPictures', axis=1, inplace=True)"
   ]
  },
  {
   "cell_type": "markdown",
   "metadata": {},
   "source": [
    "### PostalCode\n",
    "There are no missing values.  This is really a categorical variable with 8,138 categories because the *order* of postal codes is not very meaningful; affluent postal codes might be numerically close to depressed areas.  While it might be possible to reduce `PostalCode` to a smaller, yet still meaningful, set of categories using the first 2 or 3 digits (which might correlate to region), this would be complicated and would be of questionable benefit for predicting `Price`.  We will not include `PostalCode` as a feature and will drop it from our data."
   ]
  },
  {
   "cell_type": "code",
   "execution_count": 44,
   "metadata": {},
   "outputs": [
    {
     "data": {
      "text/plain": [
       "0"
      ]
     },
     "execution_count": 44,
     "metadata": {},
     "output_type": "execute_result"
    }
   ],
   "source": [
    "df.PostalCode.isna().sum()"
   ]
  },
  {
   "cell_type": "code",
   "execution_count": 45,
   "metadata": {},
   "outputs": [
    {
     "data": {
      "text/plain": [
       "8138"
      ]
     },
     "execution_count": 45,
     "metadata": {},
     "output_type": "execute_result"
    }
   ],
   "source": [
    "df.PostalCode.nunique()"
   ]
  },
  {
   "cell_type": "code",
   "execution_count": 46,
   "metadata": {},
   "outputs": [],
   "source": [
    "df.drop('PostalCode', axis=1, inplace=True)"
   ]
  },
  {
   "cell_type": "markdown",
   "metadata": {},
   "source": [
    "### LastSeen\n",
    "This is the date of last activity of the user.  Since this does not have a direct bearing on the vehicle itself, we will not include it as a feature."
   ]
  },
  {
   "cell_type": "code",
   "execution_count": 47,
   "metadata": {},
   "outputs": [],
   "source": [
    "df.drop('LastSeen', axis=1, inplace=True)"
   ]
  },
  {
   "cell_type": "markdown",
   "metadata": {},
   "source": [
    "### Further feature reduction"
   ]
  },
  {
   "cell_type": "markdown",
   "metadata": {},
   "source": [
    "At this point, we have eliminated several potential features that are redundant or that have no clear relationship to vehicle price.  The remaining features *could* impact vehicle price, but intuitively, some of these remaining features are more important that others.  In order to speed up model development, we will raise the bar a little higher, and eliminate three more features:  `Gearbox`, `Power`, and `FuelType`.  These features are probably somewhat redundant because they are correlated with both `VehicleType` and `Model`.  These features could be added back to the model once the best model has been selected."
   ]
  },
  {
   "cell_type": "code",
   "execution_count": 48,
   "metadata": {},
   "outputs": [],
   "source": [
    "df.drop('Gearbox', axis=1, inplace=True)\n",
    "df.drop('Power', axis=1, inplace=True)\n",
    "df.drop('FuelType', axis=1, inplace=True)"
   ]
  },
  {
   "cell_type": "markdown",
   "metadata": {},
   "source": [
    "### Preprocessing Results"
   ]
  },
  {
   "cell_type": "code",
   "execution_count": 49,
   "metadata": {},
   "outputs": [
    {
     "name": "stdout",
     "output_type": "stream",
     "text": [
      "<class 'pandas.core.frame.DataFrame'>\n",
      "Int64Index: 343035 entries, 0 to 354368\n",
      "Data columns (total 6 columns):\n",
      " #   Column            Non-Null Count   Dtype \n",
      "---  ------            --------------   ----- \n",
      " 0   Price             343035 non-null  int64 \n",
      " 1   VehicleType       343035 non-null  object\n",
      " 2   RegistrationYear  343035 non-null  int64 \n",
      " 3   Model             343035 non-null  object\n",
      " 4   Mileage           343035 non-null  int64 \n",
      " 5   NotRepaired       343035 non-null  object\n",
      "dtypes: int64(3), object(3)\n",
      "memory usage: 18.3+ MB\n"
     ]
    }
   ],
   "source": [
    "df.info()"
   ]
  },
  {
   "cell_type": "code",
   "execution_count": 50,
   "metadata": {},
   "outputs": [
    {
     "data": {
      "text/html": [
       "<div>\n",
       "<style scoped>\n",
       "    .dataframe tbody tr th:only-of-type {\n",
       "        vertical-align: middle;\n",
       "    }\n",
       "\n",
       "    .dataframe tbody tr th {\n",
       "        vertical-align: top;\n",
       "    }\n",
       "\n",
       "    .dataframe thead th {\n",
       "        text-align: right;\n",
       "    }\n",
       "</style>\n",
       "<table border=\"1\" class=\"dataframe\">\n",
       "  <thead>\n",
       "    <tr style=\"text-align: right;\">\n",
       "      <th></th>\n",
       "      <th>Price</th>\n",
       "      <th>VehicleType</th>\n",
       "      <th>RegistrationYear</th>\n",
       "      <th>Model</th>\n",
       "      <th>Mileage</th>\n",
       "      <th>NotRepaired</th>\n",
       "    </tr>\n",
       "  </thead>\n",
       "  <tbody>\n",
       "    <tr>\n",
       "      <th>0</th>\n",
       "      <td>480</td>\n",
       "      <td>unknown</td>\n",
       "      <td>1993</td>\n",
       "      <td>golf</td>\n",
       "      <td>150000</td>\n",
       "      <td>unknown</td>\n",
       "    </tr>\n",
       "    <tr>\n",
       "      <th>1</th>\n",
       "      <td>18300</td>\n",
       "      <td>coupe</td>\n",
       "      <td>2011</td>\n",
       "      <td>unknown</td>\n",
       "      <td>125000</td>\n",
       "      <td>yes</td>\n",
       "    </tr>\n",
       "    <tr>\n",
       "      <th>2</th>\n",
       "      <td>9800</td>\n",
       "      <td>suv</td>\n",
       "      <td>2004</td>\n",
       "      <td>grand</td>\n",
       "      <td>125000</td>\n",
       "      <td>unknown</td>\n",
       "    </tr>\n",
       "    <tr>\n",
       "      <th>3</th>\n",
       "      <td>1500</td>\n",
       "      <td>small</td>\n",
       "      <td>2001</td>\n",
       "      <td>golf</td>\n",
       "      <td>150000</td>\n",
       "      <td>no</td>\n",
       "    </tr>\n",
       "    <tr>\n",
       "      <th>4</th>\n",
       "      <td>3600</td>\n",
       "      <td>small</td>\n",
       "      <td>2008</td>\n",
       "      <td>fabia</td>\n",
       "      <td>90000</td>\n",
       "      <td>no</td>\n",
       "    </tr>\n",
       "  </tbody>\n",
       "</table>\n",
       "</div>"
      ],
      "text/plain": [
       "   Price VehicleType  RegistrationYear    Model  Mileage NotRepaired\n",
       "0    480     unknown              1993     golf   150000     unknown\n",
       "1  18300       coupe              2011  unknown   125000         yes\n",
       "2   9800         suv              2004    grand   125000     unknown\n",
       "3   1500       small              2001     golf   150000          no\n",
       "4   3600       small              2008    fabia    90000          no"
      ]
     },
     "execution_count": 50,
     "metadata": {},
     "output_type": "execute_result"
    }
   ],
   "source": [
    "df.head()"
   ]
  },
  {
   "cell_type": "markdown",
   "metadata": {},
   "source": [
    "## Encode categorical features\n",
    "Some libraries require one-hot encoding of categorical features.  Others work directly with the `category` type.  We will prepare features both ways."
   ]
  },
  {
   "cell_type": "code",
   "execution_count": 51,
   "metadata": {},
   "outputs": [
    {
     "data": {
      "text/html": [
       "<div>\n",
       "<style scoped>\n",
       "    .dataframe tbody tr th:only-of-type {\n",
       "        vertical-align: middle;\n",
       "    }\n",
       "\n",
       "    .dataframe tbody tr th {\n",
       "        vertical-align: top;\n",
       "    }\n",
       "\n",
       "    .dataframe thead th {\n",
       "        text-align: right;\n",
       "    }\n",
       "</style>\n",
       "<table border=\"1\" class=\"dataframe\">\n",
       "  <thead>\n",
       "    <tr style=\"text-align: right;\">\n",
       "      <th></th>\n",
       "      <th>VehicleType</th>\n",
       "      <th>Model</th>\n",
       "      <th>NotRepaired</th>\n",
       "    </tr>\n",
       "  </thead>\n",
       "  <tbody>\n",
       "    <tr>\n",
       "      <th>0</th>\n",
       "      <td>unknown</td>\n",
       "      <td>golf</td>\n",
       "      <td>unknown</td>\n",
       "    </tr>\n",
       "    <tr>\n",
       "      <th>1</th>\n",
       "      <td>coupe</td>\n",
       "      <td>unknown</td>\n",
       "      <td>yes</td>\n",
       "    </tr>\n",
       "    <tr>\n",
       "      <th>2</th>\n",
       "      <td>suv</td>\n",
       "      <td>grand</td>\n",
       "      <td>unknown</td>\n",
       "    </tr>\n",
       "    <tr>\n",
       "      <th>3</th>\n",
       "      <td>small</td>\n",
       "      <td>golf</td>\n",
       "      <td>no</td>\n",
       "    </tr>\n",
       "    <tr>\n",
       "      <th>4</th>\n",
       "      <td>small</td>\n",
       "      <td>fabia</td>\n",
       "      <td>no</td>\n",
       "    </tr>\n",
       "  </tbody>\n",
       "</table>\n",
       "</div>"
      ],
      "text/plain": [
       "  VehicleType    Model NotRepaired\n",
       "0     unknown     golf     unknown\n",
       "1       coupe  unknown         yes\n",
       "2         suv    grand     unknown\n",
       "3       small     golf          no\n",
       "4       small    fabia          no"
      ]
     },
     "execution_count": 51,
     "metadata": {},
     "output_type": "execute_result"
    }
   ],
   "source": [
    "#categorical_features = \\\n",
    "#['VehicleType', 'Gearbox', 'Model', 'FuelType', 'NotRepaired']\n",
    "\n",
    "categorical_features = ['VehicleType', 'Model', 'NotRepaired']\n",
    "\n",
    "# Convert from object to category type (e.g., for LightGBM)\n",
    "for feature in categorical_features:\n",
    "    df[feature] = pd.Series(df[feature], dtype='category')\n",
    "\n",
    "X_categorical = df[categorical_features]\n",
    "X_categorical.head()"
   ]
  },
  {
   "cell_type": "code",
   "execution_count": 52,
   "metadata": {},
   "outputs": [
    {
     "data": {
      "text/html": [
       "<div>\n",
       "<style scoped>\n",
       "    .dataframe tbody tr th:only-of-type {\n",
       "        vertical-align: middle;\n",
       "    }\n",
       "\n",
       "    .dataframe tbody tr th {\n",
       "        vertical-align: top;\n",
       "    }\n",
       "\n",
       "    .dataframe thead th {\n",
       "        text-align: right;\n",
       "    }\n",
       "</style>\n",
       "<table border=\"1\" class=\"dataframe\">\n",
       "  <thead>\n",
       "    <tr style=\"text-align: right;\">\n",
       "      <th></th>\n",
       "      <th>VehicleType_convertible</th>\n",
       "      <th>VehicleType_coupe</th>\n",
       "      <th>VehicleType_other</th>\n",
       "      <th>VehicleType_sedan</th>\n",
       "      <th>VehicleType_small</th>\n",
       "      <th>VehicleType_suv</th>\n",
       "      <th>VehicleType_unknown</th>\n",
       "      <th>VehicleType_wagon</th>\n",
       "      <th>Model_145</th>\n",
       "      <th>Model_147</th>\n",
       "      <th>...</th>\n",
       "      <th>Model_x_trail</th>\n",
       "      <th>Model_x_type</th>\n",
       "      <th>Model_xc_reihe</th>\n",
       "      <th>Model_yaris</th>\n",
       "      <th>Model_yeti</th>\n",
       "      <th>Model_ypsilon</th>\n",
       "      <th>Model_z_reihe</th>\n",
       "      <th>Model_zafira</th>\n",
       "      <th>NotRepaired_unknown</th>\n",
       "      <th>NotRepaired_yes</th>\n",
       "    </tr>\n",
       "  </thead>\n",
       "  <tbody>\n",
       "    <tr>\n",
       "      <th>0</th>\n",
       "      <td>0</td>\n",
       "      <td>0</td>\n",
       "      <td>0</td>\n",
       "      <td>0</td>\n",
       "      <td>0</td>\n",
       "      <td>0</td>\n",
       "      <td>1</td>\n",
       "      <td>0</td>\n",
       "      <td>0</td>\n",
       "      <td>0</td>\n",
       "      <td>...</td>\n",
       "      <td>0</td>\n",
       "      <td>0</td>\n",
       "      <td>0</td>\n",
       "      <td>0</td>\n",
       "      <td>0</td>\n",
       "      <td>0</td>\n",
       "      <td>0</td>\n",
       "      <td>0</td>\n",
       "      <td>1</td>\n",
       "      <td>0</td>\n",
       "    </tr>\n",
       "    <tr>\n",
       "      <th>1</th>\n",
       "      <td>0</td>\n",
       "      <td>1</td>\n",
       "      <td>0</td>\n",
       "      <td>0</td>\n",
       "      <td>0</td>\n",
       "      <td>0</td>\n",
       "      <td>0</td>\n",
       "      <td>0</td>\n",
       "      <td>0</td>\n",
       "      <td>0</td>\n",
       "      <td>...</td>\n",
       "      <td>0</td>\n",
       "      <td>0</td>\n",
       "      <td>0</td>\n",
       "      <td>0</td>\n",
       "      <td>0</td>\n",
       "      <td>0</td>\n",
       "      <td>0</td>\n",
       "      <td>0</td>\n",
       "      <td>0</td>\n",
       "      <td>1</td>\n",
       "    </tr>\n",
       "    <tr>\n",
       "      <th>2</th>\n",
       "      <td>0</td>\n",
       "      <td>0</td>\n",
       "      <td>0</td>\n",
       "      <td>0</td>\n",
       "      <td>0</td>\n",
       "      <td>1</td>\n",
       "      <td>0</td>\n",
       "      <td>0</td>\n",
       "      <td>0</td>\n",
       "      <td>0</td>\n",
       "      <td>...</td>\n",
       "      <td>0</td>\n",
       "      <td>0</td>\n",
       "      <td>0</td>\n",
       "      <td>0</td>\n",
       "      <td>0</td>\n",
       "      <td>0</td>\n",
       "      <td>0</td>\n",
       "      <td>0</td>\n",
       "      <td>1</td>\n",
       "      <td>0</td>\n",
       "    </tr>\n",
       "    <tr>\n",
       "      <th>3</th>\n",
       "      <td>0</td>\n",
       "      <td>0</td>\n",
       "      <td>0</td>\n",
       "      <td>0</td>\n",
       "      <td>1</td>\n",
       "      <td>0</td>\n",
       "      <td>0</td>\n",
       "      <td>0</td>\n",
       "      <td>0</td>\n",
       "      <td>0</td>\n",
       "      <td>...</td>\n",
       "      <td>0</td>\n",
       "      <td>0</td>\n",
       "      <td>0</td>\n",
       "      <td>0</td>\n",
       "      <td>0</td>\n",
       "      <td>0</td>\n",
       "      <td>0</td>\n",
       "      <td>0</td>\n",
       "      <td>0</td>\n",
       "      <td>0</td>\n",
       "    </tr>\n",
       "    <tr>\n",
       "      <th>4</th>\n",
       "      <td>0</td>\n",
       "      <td>0</td>\n",
       "      <td>0</td>\n",
       "      <td>0</td>\n",
       "      <td>1</td>\n",
       "      <td>0</td>\n",
       "      <td>0</td>\n",
       "      <td>0</td>\n",
       "      <td>0</td>\n",
       "      <td>0</td>\n",
       "      <td>...</td>\n",
       "      <td>0</td>\n",
       "      <td>0</td>\n",
       "      <td>0</td>\n",
       "      <td>0</td>\n",
       "      <td>0</td>\n",
       "      <td>0</td>\n",
       "      <td>0</td>\n",
       "      <td>0</td>\n",
       "      <td>0</td>\n",
       "      <td>0</td>\n",
       "    </tr>\n",
       "  </tbody>\n",
       "</table>\n",
       "<p>5 rows × 260 columns</p>\n",
       "</div>"
      ],
      "text/plain": [
       "   VehicleType_convertible  VehicleType_coupe  VehicleType_other  \\\n",
       "0                        0                  0                  0   \n",
       "1                        0                  1                  0   \n",
       "2                        0                  0                  0   \n",
       "3                        0                  0                  0   \n",
       "4                        0                  0                  0   \n",
       "\n",
       "   VehicleType_sedan  VehicleType_small  VehicleType_suv  VehicleType_unknown  \\\n",
       "0                  0                  0                0                    1   \n",
       "1                  0                  0                0                    0   \n",
       "2                  0                  0                1                    0   \n",
       "3                  0                  1                0                    0   \n",
       "4                  0                  1                0                    0   \n",
       "\n",
       "   VehicleType_wagon  Model_145  Model_147  ...  Model_x_trail  Model_x_type  \\\n",
       "0                  0          0          0  ...              0             0   \n",
       "1                  0          0          0  ...              0             0   \n",
       "2                  0          0          0  ...              0             0   \n",
       "3                  0          0          0  ...              0             0   \n",
       "4                  0          0          0  ...              0             0   \n",
       "\n",
       "   Model_xc_reihe  Model_yaris  Model_yeti  Model_ypsilon  Model_z_reihe  \\\n",
       "0               0            0           0              0              0   \n",
       "1               0            0           0              0              0   \n",
       "2               0            0           0              0              0   \n",
       "3               0            0           0              0              0   \n",
       "4               0            0           0              0              0   \n",
       "\n",
       "   Model_zafira  NotRepaired_unknown  NotRepaired_yes  \n",
       "0             0                    1                0  \n",
       "1             0                    0                1  \n",
       "2             0                    1                0  \n",
       "3             0                    0                0  \n",
       "4             0                    0                0  \n",
       "\n",
       "[5 rows x 260 columns]"
      ]
     },
     "execution_count": 52,
     "metadata": {},
     "output_type": "execute_result"
    }
   ],
   "source": [
    "X_categorical_ohe = pd.get_dummies(X_categorical, drop_first=True)\n",
    "X_categorical_ohe.head()"
   ]
  },
  {
   "cell_type": "markdown",
   "metadata": {},
   "source": [
    "## Define features and target"
   ]
  },
  {
   "cell_type": "code",
   "execution_count": 53,
   "metadata": {},
   "outputs": [
    {
     "data": {
      "text/html": [
       "<div>\n",
       "<style scoped>\n",
       "    .dataframe tbody tr th:only-of-type {\n",
       "        vertical-align: middle;\n",
       "    }\n",
       "\n",
       "    .dataframe tbody tr th {\n",
       "        vertical-align: top;\n",
       "    }\n",
       "\n",
       "    .dataframe thead th {\n",
       "        text-align: right;\n",
       "    }\n",
       "</style>\n",
       "<table border=\"1\" class=\"dataframe\">\n",
       "  <thead>\n",
       "    <tr style=\"text-align: right;\">\n",
       "      <th></th>\n",
       "      <th>RegistrationYear</th>\n",
       "      <th>Mileage</th>\n",
       "    </tr>\n",
       "  </thead>\n",
       "  <tbody>\n",
       "    <tr>\n",
       "      <th>0</th>\n",
       "      <td>1993</td>\n",
       "      <td>150000</td>\n",
       "    </tr>\n",
       "    <tr>\n",
       "      <th>1</th>\n",
       "      <td>2011</td>\n",
       "      <td>125000</td>\n",
       "    </tr>\n",
       "    <tr>\n",
       "      <th>2</th>\n",
       "      <td>2004</td>\n",
       "      <td>125000</td>\n",
       "    </tr>\n",
       "    <tr>\n",
       "      <th>3</th>\n",
       "      <td>2001</td>\n",
       "      <td>150000</td>\n",
       "    </tr>\n",
       "    <tr>\n",
       "      <th>4</th>\n",
       "      <td>2008</td>\n",
       "      <td>90000</td>\n",
       "    </tr>\n",
       "  </tbody>\n",
       "</table>\n",
       "</div>"
      ],
      "text/plain": [
       "   RegistrationYear  Mileage\n",
       "0              1993   150000\n",
       "1              2011   125000\n",
       "2              2004   125000\n",
       "3              2001   150000\n",
       "4              2008    90000"
      ]
     },
     "execution_count": 53,
     "metadata": {},
     "output_type": "execute_result"
    }
   ],
   "source": [
    "#numeric_features = ['RegistrationYear', 'Power', 'Mileage']\n",
    "numeric_features = ['RegistrationYear', 'Mileage']\n",
    "X_numeric = df[numeric_features]\n",
    "X_numeric.head()"
   ]
  },
  {
   "cell_type": "code",
   "execution_count": 54,
   "metadata": {},
   "outputs": [
    {
     "data": {
      "text/html": [
       "<div>\n",
       "<style scoped>\n",
       "    .dataframe tbody tr th:only-of-type {\n",
       "        vertical-align: middle;\n",
       "    }\n",
       "\n",
       "    .dataframe tbody tr th {\n",
       "        vertical-align: top;\n",
       "    }\n",
       "\n",
       "    .dataframe thead th {\n",
       "        text-align: right;\n",
       "    }\n",
       "</style>\n",
       "<table border=\"1\" class=\"dataframe\">\n",
       "  <thead>\n",
       "    <tr style=\"text-align: right;\">\n",
       "      <th></th>\n",
       "      <th>RegistrationYear</th>\n",
       "      <th>Mileage</th>\n",
       "      <th>VehicleType_convertible</th>\n",
       "      <th>VehicleType_coupe</th>\n",
       "      <th>VehicleType_other</th>\n",
       "      <th>VehicleType_sedan</th>\n",
       "      <th>VehicleType_small</th>\n",
       "      <th>VehicleType_suv</th>\n",
       "      <th>VehicleType_unknown</th>\n",
       "      <th>VehicleType_wagon</th>\n",
       "      <th>...</th>\n",
       "      <th>Model_x_trail</th>\n",
       "      <th>Model_x_type</th>\n",
       "      <th>Model_xc_reihe</th>\n",
       "      <th>Model_yaris</th>\n",
       "      <th>Model_yeti</th>\n",
       "      <th>Model_ypsilon</th>\n",
       "      <th>Model_z_reihe</th>\n",
       "      <th>Model_zafira</th>\n",
       "      <th>NotRepaired_unknown</th>\n",
       "      <th>NotRepaired_yes</th>\n",
       "    </tr>\n",
       "  </thead>\n",
       "  <tbody>\n",
       "    <tr>\n",
       "      <th>0</th>\n",
       "      <td>1993</td>\n",
       "      <td>150000</td>\n",
       "      <td>0</td>\n",
       "      <td>0</td>\n",
       "      <td>0</td>\n",
       "      <td>0</td>\n",
       "      <td>0</td>\n",
       "      <td>0</td>\n",
       "      <td>1</td>\n",
       "      <td>0</td>\n",
       "      <td>...</td>\n",
       "      <td>0</td>\n",
       "      <td>0</td>\n",
       "      <td>0</td>\n",
       "      <td>0</td>\n",
       "      <td>0</td>\n",
       "      <td>0</td>\n",
       "      <td>0</td>\n",
       "      <td>0</td>\n",
       "      <td>1</td>\n",
       "      <td>0</td>\n",
       "    </tr>\n",
       "    <tr>\n",
       "      <th>1</th>\n",
       "      <td>2011</td>\n",
       "      <td>125000</td>\n",
       "      <td>0</td>\n",
       "      <td>1</td>\n",
       "      <td>0</td>\n",
       "      <td>0</td>\n",
       "      <td>0</td>\n",
       "      <td>0</td>\n",
       "      <td>0</td>\n",
       "      <td>0</td>\n",
       "      <td>...</td>\n",
       "      <td>0</td>\n",
       "      <td>0</td>\n",
       "      <td>0</td>\n",
       "      <td>0</td>\n",
       "      <td>0</td>\n",
       "      <td>0</td>\n",
       "      <td>0</td>\n",
       "      <td>0</td>\n",
       "      <td>0</td>\n",
       "      <td>1</td>\n",
       "    </tr>\n",
       "    <tr>\n",
       "      <th>2</th>\n",
       "      <td>2004</td>\n",
       "      <td>125000</td>\n",
       "      <td>0</td>\n",
       "      <td>0</td>\n",
       "      <td>0</td>\n",
       "      <td>0</td>\n",
       "      <td>0</td>\n",
       "      <td>1</td>\n",
       "      <td>0</td>\n",
       "      <td>0</td>\n",
       "      <td>...</td>\n",
       "      <td>0</td>\n",
       "      <td>0</td>\n",
       "      <td>0</td>\n",
       "      <td>0</td>\n",
       "      <td>0</td>\n",
       "      <td>0</td>\n",
       "      <td>0</td>\n",
       "      <td>0</td>\n",
       "      <td>1</td>\n",
       "      <td>0</td>\n",
       "    </tr>\n",
       "    <tr>\n",
       "      <th>3</th>\n",
       "      <td>2001</td>\n",
       "      <td>150000</td>\n",
       "      <td>0</td>\n",
       "      <td>0</td>\n",
       "      <td>0</td>\n",
       "      <td>0</td>\n",
       "      <td>1</td>\n",
       "      <td>0</td>\n",
       "      <td>0</td>\n",
       "      <td>0</td>\n",
       "      <td>...</td>\n",
       "      <td>0</td>\n",
       "      <td>0</td>\n",
       "      <td>0</td>\n",
       "      <td>0</td>\n",
       "      <td>0</td>\n",
       "      <td>0</td>\n",
       "      <td>0</td>\n",
       "      <td>0</td>\n",
       "      <td>0</td>\n",
       "      <td>0</td>\n",
       "    </tr>\n",
       "    <tr>\n",
       "      <th>4</th>\n",
       "      <td>2008</td>\n",
       "      <td>90000</td>\n",
       "      <td>0</td>\n",
       "      <td>0</td>\n",
       "      <td>0</td>\n",
       "      <td>0</td>\n",
       "      <td>1</td>\n",
       "      <td>0</td>\n",
       "      <td>0</td>\n",
       "      <td>0</td>\n",
       "      <td>...</td>\n",
       "      <td>0</td>\n",
       "      <td>0</td>\n",
       "      <td>0</td>\n",
       "      <td>0</td>\n",
       "      <td>0</td>\n",
       "      <td>0</td>\n",
       "      <td>0</td>\n",
       "      <td>0</td>\n",
       "      <td>0</td>\n",
       "      <td>0</td>\n",
       "    </tr>\n",
       "  </tbody>\n",
       "</table>\n",
       "<p>5 rows × 262 columns</p>\n",
       "</div>"
      ],
      "text/plain": [
       "   RegistrationYear  Mileage  VehicleType_convertible  VehicleType_coupe  \\\n",
       "0              1993   150000                        0                  0   \n",
       "1              2011   125000                        0                  1   \n",
       "2              2004   125000                        0                  0   \n",
       "3              2001   150000                        0                  0   \n",
       "4              2008    90000                        0                  0   \n",
       "\n",
       "   VehicleType_other  VehicleType_sedan  VehicleType_small  VehicleType_suv  \\\n",
       "0                  0                  0                  0                0   \n",
       "1                  0                  0                  0                0   \n",
       "2                  0                  0                  0                1   \n",
       "3                  0                  0                  1                0   \n",
       "4                  0                  0                  1                0   \n",
       "\n",
       "   VehicleType_unknown  VehicleType_wagon  ...  Model_x_trail  Model_x_type  \\\n",
       "0                    1                  0  ...              0             0   \n",
       "1                    0                  0  ...              0             0   \n",
       "2                    0                  0  ...              0             0   \n",
       "3                    0                  0  ...              0             0   \n",
       "4                    0                  0  ...              0             0   \n",
       "\n",
       "   Model_xc_reihe  Model_yaris  Model_yeti  Model_ypsilon  Model_z_reihe  \\\n",
       "0               0            0           0              0              0   \n",
       "1               0            0           0              0              0   \n",
       "2               0            0           0              0              0   \n",
       "3               0            0           0              0              0   \n",
       "4               0            0           0              0              0   \n",
       "\n",
       "   Model_zafira  NotRepaired_unknown  NotRepaired_yes  \n",
       "0             0                    1                0  \n",
       "1             0                    0                1  \n",
       "2             0                    1                0  \n",
       "3             0                    0                0  \n",
       "4             0                    0                0  \n",
       "\n",
       "[5 rows x 262 columns]"
      ]
     },
     "execution_count": 54,
     "metadata": {},
     "output_type": "execute_result"
    }
   ],
   "source": [
    "X_ohe = pd.concat([X_numeric, X_categorical_ohe], axis=1)\n",
    "X_ohe.head()"
   ]
  },
  {
   "cell_type": "code",
   "execution_count": 55,
   "metadata": {},
   "outputs": [
    {
     "data": {
      "text/html": [
       "<div>\n",
       "<style scoped>\n",
       "    .dataframe tbody tr th:only-of-type {\n",
       "        vertical-align: middle;\n",
       "    }\n",
       "\n",
       "    .dataframe tbody tr th {\n",
       "        vertical-align: top;\n",
       "    }\n",
       "\n",
       "    .dataframe thead th {\n",
       "        text-align: right;\n",
       "    }\n",
       "</style>\n",
       "<table border=\"1\" class=\"dataframe\">\n",
       "  <thead>\n",
       "    <tr style=\"text-align: right;\">\n",
       "      <th></th>\n",
       "      <th>RegistrationYear</th>\n",
       "      <th>Mileage</th>\n",
       "      <th>VehicleType</th>\n",
       "      <th>Model</th>\n",
       "      <th>NotRepaired</th>\n",
       "    </tr>\n",
       "  </thead>\n",
       "  <tbody>\n",
       "    <tr>\n",
       "      <th>0</th>\n",
       "      <td>1993</td>\n",
       "      <td>150000</td>\n",
       "      <td>unknown</td>\n",
       "      <td>golf</td>\n",
       "      <td>unknown</td>\n",
       "    </tr>\n",
       "    <tr>\n",
       "      <th>1</th>\n",
       "      <td>2011</td>\n",
       "      <td>125000</td>\n",
       "      <td>coupe</td>\n",
       "      <td>unknown</td>\n",
       "      <td>yes</td>\n",
       "    </tr>\n",
       "    <tr>\n",
       "      <th>2</th>\n",
       "      <td>2004</td>\n",
       "      <td>125000</td>\n",
       "      <td>suv</td>\n",
       "      <td>grand</td>\n",
       "      <td>unknown</td>\n",
       "    </tr>\n",
       "    <tr>\n",
       "      <th>3</th>\n",
       "      <td>2001</td>\n",
       "      <td>150000</td>\n",
       "      <td>small</td>\n",
       "      <td>golf</td>\n",
       "      <td>no</td>\n",
       "    </tr>\n",
       "    <tr>\n",
       "      <th>4</th>\n",
       "      <td>2008</td>\n",
       "      <td>90000</td>\n",
       "      <td>small</td>\n",
       "      <td>fabia</td>\n",
       "      <td>no</td>\n",
       "    </tr>\n",
       "  </tbody>\n",
       "</table>\n",
       "</div>"
      ],
      "text/plain": [
       "   RegistrationYear  Mileage VehicleType    Model NotRepaired\n",
       "0              1993   150000     unknown     golf     unknown\n",
       "1              2011   125000       coupe  unknown         yes\n",
       "2              2004   125000         suv    grand     unknown\n",
       "3              2001   150000       small     golf          no\n",
       "4              2008    90000       small    fabia          no"
      ]
     },
     "execution_count": 55,
     "metadata": {},
     "output_type": "execute_result"
    }
   ],
   "source": [
    "X = pd.concat([X_numeric, X_categorical], axis=1)\n",
    "X.head()"
   ]
  },
  {
   "cell_type": "code",
   "execution_count": 56,
   "metadata": {},
   "outputs": [
    {
     "data": {
      "text/html": [
       "<div>\n",
       "<style scoped>\n",
       "    .dataframe tbody tr th:only-of-type {\n",
       "        vertical-align: middle;\n",
       "    }\n",
       "\n",
       "    .dataframe tbody tr th {\n",
       "        vertical-align: top;\n",
       "    }\n",
       "\n",
       "    .dataframe thead th {\n",
       "        text-align: right;\n",
       "    }\n",
       "</style>\n",
       "<table border=\"1\" class=\"dataframe\">\n",
       "  <thead>\n",
       "    <tr style=\"text-align: right;\">\n",
       "      <th></th>\n",
       "      <th>Price</th>\n",
       "    </tr>\n",
       "  </thead>\n",
       "  <tbody>\n",
       "    <tr>\n",
       "      <th>0</th>\n",
       "      <td>480</td>\n",
       "    </tr>\n",
       "    <tr>\n",
       "      <th>1</th>\n",
       "      <td>18300</td>\n",
       "    </tr>\n",
       "    <tr>\n",
       "      <th>2</th>\n",
       "      <td>9800</td>\n",
       "    </tr>\n",
       "    <tr>\n",
       "      <th>3</th>\n",
       "      <td>1500</td>\n",
       "    </tr>\n",
       "    <tr>\n",
       "      <th>4</th>\n",
       "      <td>3600</td>\n",
       "    </tr>\n",
       "  </tbody>\n",
       "</table>\n",
       "</div>"
      ],
      "text/plain": [
       "   Price\n",
       "0    480\n",
       "1  18300\n",
       "2   9800\n",
       "3   1500\n",
       "4   3600"
      ]
     },
     "execution_count": 56,
     "metadata": {},
     "output_type": "execute_result"
    }
   ],
   "source": [
    "y = pd.DataFrame(df['Price'])\n",
    "y.head()"
   ]
  },
  {
   "cell_type": "markdown",
   "metadata": {},
   "source": [
    "## Split data into training and test sets"
   ]
  },
  {
   "cell_type": "code",
   "execution_count": 57,
   "metadata": {},
   "outputs": [
    {
     "data": {
      "text/html": [
       "<div>\n",
       "<style scoped>\n",
       "    .dataframe tbody tr th:only-of-type {\n",
       "        vertical-align: middle;\n",
       "    }\n",
       "\n",
       "    .dataframe tbody tr th {\n",
       "        vertical-align: top;\n",
       "    }\n",
       "\n",
       "    .dataframe thead th {\n",
       "        text-align: right;\n",
       "    }\n",
       "</style>\n",
       "<table border=\"1\" class=\"dataframe\">\n",
       "  <thead>\n",
       "    <tr style=\"text-align: right;\">\n",
       "      <th></th>\n",
       "      <th>RegistrationYear</th>\n",
       "      <th>Mileage</th>\n",
       "      <th>VehicleType_convertible</th>\n",
       "      <th>VehicleType_coupe</th>\n",
       "      <th>VehicleType_other</th>\n",
       "      <th>VehicleType_sedan</th>\n",
       "      <th>VehicleType_small</th>\n",
       "      <th>VehicleType_suv</th>\n",
       "      <th>VehicleType_unknown</th>\n",
       "      <th>VehicleType_wagon</th>\n",
       "      <th>...</th>\n",
       "      <th>Model_x_trail</th>\n",
       "      <th>Model_x_type</th>\n",
       "      <th>Model_xc_reihe</th>\n",
       "      <th>Model_yaris</th>\n",
       "      <th>Model_yeti</th>\n",
       "      <th>Model_ypsilon</th>\n",
       "      <th>Model_z_reihe</th>\n",
       "      <th>Model_zafira</th>\n",
       "      <th>NotRepaired_unknown</th>\n",
       "      <th>NotRepaired_yes</th>\n",
       "    </tr>\n",
       "  </thead>\n",
       "  <tbody>\n",
       "    <tr>\n",
       "      <th>12084</th>\n",
       "      <td>2018</td>\n",
       "      <td>100000</td>\n",
       "      <td>0</td>\n",
       "      <td>0</td>\n",
       "      <td>0</td>\n",
       "      <td>0</td>\n",
       "      <td>0</td>\n",
       "      <td>0</td>\n",
       "      <td>1</td>\n",
       "      <td>0</td>\n",
       "      <td>...</td>\n",
       "      <td>0</td>\n",
       "      <td>0</td>\n",
       "      <td>0</td>\n",
       "      <td>0</td>\n",
       "      <td>0</td>\n",
       "      <td>0</td>\n",
       "      <td>0</td>\n",
       "      <td>0</td>\n",
       "      <td>0</td>\n",
       "      <td>0</td>\n",
       "    </tr>\n",
       "    <tr>\n",
       "      <th>228454</th>\n",
       "      <td>1991</td>\n",
       "      <td>150000</td>\n",
       "      <td>0</td>\n",
       "      <td>0</td>\n",
       "      <td>0</td>\n",
       "      <td>1</td>\n",
       "      <td>0</td>\n",
       "      <td>0</td>\n",
       "      <td>0</td>\n",
       "      <td>0</td>\n",
       "      <td>...</td>\n",
       "      <td>0</td>\n",
       "      <td>0</td>\n",
       "      <td>0</td>\n",
       "      <td>0</td>\n",
       "      <td>0</td>\n",
       "      <td>0</td>\n",
       "      <td>0</td>\n",
       "      <td>0</td>\n",
       "      <td>0</td>\n",
       "      <td>0</td>\n",
       "    </tr>\n",
       "    <tr>\n",
       "      <th>282719</th>\n",
       "      <td>2002</td>\n",
       "      <td>150000</td>\n",
       "      <td>0</td>\n",
       "      <td>0</td>\n",
       "      <td>0</td>\n",
       "      <td>0</td>\n",
       "      <td>1</td>\n",
       "      <td>0</td>\n",
       "      <td>0</td>\n",
       "      <td>0</td>\n",
       "      <td>...</td>\n",
       "      <td>0</td>\n",
       "      <td>0</td>\n",
       "      <td>0</td>\n",
       "      <td>0</td>\n",
       "      <td>0</td>\n",
       "      <td>0</td>\n",
       "      <td>0</td>\n",
       "      <td>0</td>\n",
       "      <td>0</td>\n",
       "      <td>0</td>\n",
       "    </tr>\n",
       "    <tr>\n",
       "      <th>270418</th>\n",
       "      <td>1999</td>\n",
       "      <td>150000</td>\n",
       "      <td>0</td>\n",
       "      <td>0</td>\n",
       "      <td>0</td>\n",
       "      <td>0</td>\n",
       "      <td>1</td>\n",
       "      <td>0</td>\n",
       "      <td>0</td>\n",
       "      <td>0</td>\n",
       "      <td>...</td>\n",
       "      <td>0</td>\n",
       "      <td>0</td>\n",
       "      <td>0</td>\n",
       "      <td>0</td>\n",
       "      <td>0</td>\n",
       "      <td>0</td>\n",
       "      <td>0</td>\n",
       "      <td>0</td>\n",
       "      <td>0</td>\n",
       "      <td>0</td>\n",
       "    </tr>\n",
       "    <tr>\n",
       "      <th>290987</th>\n",
       "      <td>2000</td>\n",
       "      <td>150000</td>\n",
       "      <td>0</td>\n",
       "      <td>0</td>\n",
       "      <td>0</td>\n",
       "      <td>0</td>\n",
       "      <td>0</td>\n",
       "      <td>0</td>\n",
       "      <td>1</td>\n",
       "      <td>0</td>\n",
       "      <td>...</td>\n",
       "      <td>0</td>\n",
       "      <td>0</td>\n",
       "      <td>0</td>\n",
       "      <td>0</td>\n",
       "      <td>0</td>\n",
       "      <td>0</td>\n",
       "      <td>0</td>\n",
       "      <td>0</td>\n",
       "      <td>1</td>\n",
       "      <td>0</td>\n",
       "    </tr>\n",
       "  </tbody>\n",
       "</table>\n",
       "<p>5 rows × 262 columns</p>\n",
       "</div>"
      ],
      "text/plain": [
       "        RegistrationYear  Mileage  VehicleType_convertible  VehicleType_coupe  \\\n",
       "12084               2018   100000                        0                  0   \n",
       "228454              1991   150000                        0                  0   \n",
       "282719              2002   150000                        0                  0   \n",
       "270418              1999   150000                        0                  0   \n",
       "290987              2000   150000                        0                  0   \n",
       "\n",
       "        VehicleType_other  VehicleType_sedan  VehicleType_small  \\\n",
       "12084                   0                  0                  0   \n",
       "228454                  0                  1                  0   \n",
       "282719                  0                  0                  1   \n",
       "270418                  0                  0                  1   \n",
       "290987                  0                  0                  0   \n",
       "\n",
       "        VehicleType_suv  VehicleType_unknown  VehicleType_wagon  ...  \\\n",
       "12084                 0                    1                  0  ...   \n",
       "228454                0                    0                  0  ...   \n",
       "282719                0                    0                  0  ...   \n",
       "270418                0                    0                  0  ...   \n",
       "290987                0                    1                  0  ...   \n",
       "\n",
       "        Model_x_trail  Model_x_type  Model_xc_reihe  Model_yaris  Model_yeti  \\\n",
       "12084               0             0               0            0           0   \n",
       "228454              0             0               0            0           0   \n",
       "282719              0             0               0            0           0   \n",
       "270418              0             0               0            0           0   \n",
       "290987              0             0               0            0           0   \n",
       "\n",
       "        Model_ypsilon  Model_z_reihe  Model_zafira  NotRepaired_unknown  \\\n",
       "12084               0              0             0                    0   \n",
       "228454              0              0             0                    0   \n",
       "282719              0              0             0                    0   \n",
       "270418              0              0             0                    0   \n",
       "290987              0              0             0                    1   \n",
       "\n",
       "        NotRepaired_yes  \n",
       "12084                 0  \n",
       "228454                0  \n",
       "282719                0  \n",
       "270418                0  \n",
       "290987                0  \n",
       "\n",
       "[5 rows x 262 columns]"
      ]
     },
     "execution_count": 57,
     "metadata": {},
     "output_type": "execute_result"
    }
   ],
   "source": [
    "X_ohe_train, X_ohe_test, y_train, y_test = train_test_split(X_ohe, y, train_size=0.75, random_state=RANDOM_STATE)\n",
    "X_ohe_train.head()"
   ]
  },
  {
   "cell_type": "code",
   "execution_count": 58,
   "metadata": {},
   "outputs": [
    {
     "data": {
      "text/html": [
       "<div>\n",
       "<style scoped>\n",
       "    .dataframe tbody tr th:only-of-type {\n",
       "        vertical-align: middle;\n",
       "    }\n",
       "\n",
       "    .dataframe tbody tr th {\n",
       "        vertical-align: top;\n",
       "    }\n",
       "\n",
       "    .dataframe thead th {\n",
       "        text-align: right;\n",
       "    }\n",
       "</style>\n",
       "<table border=\"1\" class=\"dataframe\">\n",
       "  <thead>\n",
       "    <tr style=\"text-align: right;\">\n",
       "      <th></th>\n",
       "      <th>RegistrationYear</th>\n",
       "      <th>Mileage</th>\n",
       "      <th>VehicleType</th>\n",
       "      <th>Model</th>\n",
       "      <th>NotRepaired</th>\n",
       "    </tr>\n",
       "  </thead>\n",
       "  <tbody>\n",
       "    <tr>\n",
       "      <th>12084</th>\n",
       "      <td>2018</td>\n",
       "      <td>100000</td>\n",
       "      <td>unknown</td>\n",
       "      <td>unknown</td>\n",
       "      <td>no</td>\n",
       "    </tr>\n",
       "    <tr>\n",
       "      <th>228454</th>\n",
       "      <td>1991</td>\n",
       "      <td>150000</td>\n",
       "      <td>sedan</td>\n",
       "      <td>passat</td>\n",
       "      <td>no</td>\n",
       "    </tr>\n",
       "    <tr>\n",
       "      <th>282719</th>\n",
       "      <td>2002</td>\n",
       "      <td>150000</td>\n",
       "      <td>small</td>\n",
       "      <td>polo</td>\n",
       "      <td>no</td>\n",
       "    </tr>\n",
       "    <tr>\n",
       "      <th>270418</th>\n",
       "      <td>1999</td>\n",
       "      <td>150000</td>\n",
       "      <td>small</td>\n",
       "      <td>lupo</td>\n",
       "      <td>no</td>\n",
       "    </tr>\n",
       "    <tr>\n",
       "      <th>290987</th>\n",
       "      <td>2000</td>\n",
       "      <td>150000</td>\n",
       "      <td>unknown</td>\n",
       "      <td>4_reihe</td>\n",
       "      <td>unknown</td>\n",
       "    </tr>\n",
       "  </tbody>\n",
       "</table>\n",
       "</div>"
      ],
      "text/plain": [
       "        RegistrationYear  Mileage VehicleType    Model NotRepaired\n",
       "12084               2018   100000     unknown  unknown          no\n",
       "228454              1991   150000       sedan   passat          no\n",
       "282719              2002   150000       small     polo          no\n",
       "270418              1999   150000       small     lupo          no\n",
       "290987              2000   150000     unknown  4_reihe     unknown"
      ]
     },
     "execution_count": 58,
     "metadata": {},
     "output_type": "execute_result"
    }
   ],
   "source": [
    "X_train, X_test, y_train, y_test = train_test_split(X, y, train_size=0.75, random_state=RANDOM_STATE)\n",
    "X_train.head()"
   ]
  },
  {
   "cell_type": "markdown",
   "metadata": {},
   "source": [
    "## Scale numeric features"
   ]
  },
  {
   "cell_type": "code",
   "execution_count": 59,
   "metadata": {},
   "outputs": [],
   "source": [
    "scaler = MaxAbsScaler()\n",
    "scaler.fit(X_train[numeric_features])\n",
    "\n",
    "# Training data, with and without OHE\n",
    "X_train[numeric_features] = scaler.transform(X_train[numeric_features])\n",
    "X_ohe_train[numeric_features] = scaler.transform(X_ohe_train[numeric_features])\n",
    "\n",
    "# Test data, with and without OHE\n",
    "X_test[numeric_features] = scaler.transform(X_test[numeric_features])\n",
    "X_ohe_test[numeric_features] = scaler.transform(X_ohe_test[numeric_features])"
   ]
  },
  {
   "cell_type": "markdown",
   "metadata": {},
   "source": [
    "## Conclusion:  Data prepration\n",
    "In this section, we took a preliminary look at the data and found quite a few missing values.  Next, we went through each column, filling in values or dropping records as appropriate to eliminate the missing values.  Along the way, we dropped several features that were redundant or that had no clear relationship to car price.  Finally, we created our target and feature data sets for training and testing."
   ]
  },
  {
   "cell_type": "markdown",
   "metadata": {},
   "source": [
    "# Model training\n",
    "In this section, we will develop regression models to predict car price.  We will use linear regression, random forest, and gradient boosting (LightGBM and CatBoost).  Once we have tuned the models, we will record data on model quality (root rean squared error) and the time required for training and prediction."
   ]
  },
  {
   "cell_type": "markdown",
   "metadata": {},
   "source": [
    "## Linear regression"
   ]
  },
  {
   "cell_type": "code",
   "execution_count": 60,
   "metadata": {},
   "outputs": [],
   "source": [
    "regr = LinearRegression() "
   ]
  },
  {
   "cell_type": "code",
   "execution_count": 61,
   "metadata": {},
   "outputs": [
    {
     "name": "stdout",
     "output_type": "stream",
     "text": [
      "1.76 s ± 0 ns per loop (mean ± std. dev. of 1 run, 1 loop each)\n"
     ]
    },
    {
     "data": {
      "text/plain": [
       "<TimeitResult : 1.76 s ± 0 ns per loop (mean ± std. dev. of 1 run, 1 loop each)>"
      ]
     },
     "execution_count": 61,
     "metadata": {},
     "output_type": "execute_result"
    }
   ],
   "source": [
    "%%timeit -n1 -r1 -o\n",
    "regr.fit(X_ohe_train, y_train)"
   ]
  },
  {
   "cell_type": "code",
   "execution_count": 62,
   "metadata": {},
   "outputs": [],
   "source": [
    "training_time = _.best"
   ]
  },
  {
   "cell_type": "code",
   "execution_count": 63,
   "metadata": {},
   "outputs": [
    {
     "name": "stdout",
     "output_type": "stream",
     "text": [
      "69 ms ± 0 ns per loop (mean ± std. dev. of 1 run, 1 loop each)\n"
     ]
    },
    {
     "data": {
      "text/plain": [
       "<TimeitResult : 69 ms ± 0 ns per loop (mean ± std. dev. of 1 run, 1 loop each)>"
      ]
     },
     "execution_count": 63,
     "metadata": {},
     "output_type": "execute_result"
    }
   ],
   "source": [
    "%%timeit -n1 -r1 -o \n",
    " regr.predict(X_ohe_test)"
   ]
  },
  {
   "cell_type": "code",
   "execution_count": 64,
   "metadata": {},
   "outputs": [],
   "source": [
    "prediction_time = _.best"
   ]
  },
  {
   "cell_type": "code",
   "execution_count": 65,
   "metadata": {},
   "outputs": [],
   "source": [
    "y_hat = regr.predict(X_ohe_test)"
   ]
  },
  {
   "cell_type": "code",
   "execution_count": 66,
   "metadata": {},
   "outputs": [],
   "source": [
    "prediction_time = 0.0677"
   ]
  },
  {
   "cell_type": "code",
   "execution_count": 67,
   "metadata": {},
   "outputs": [
    {
     "data": {
      "text/plain": [
       "2935.5284426645476"
      ]
     },
     "execution_count": 67,
     "metadata": {},
     "output_type": "execute_result"
    }
   ],
   "source": [
    "rmse = mean_squared_error(y_test, y_hat)**0.5\n",
    "rmse"
   ]
  },
  {
   "cell_type": "code",
   "execution_count": 68,
   "metadata": {},
   "outputs": [],
   "source": [
    "# Save results\n",
    "results_table = {}\n",
    "results_table['Linear Regression'] = (training_time, prediction_time, rmse)"
   ]
  },
  {
   "cell_type": "markdown",
   "metadata": {},
   "source": [
    "## Random forest regression\n",
    "We will user Hyperopt to improve the efficiency of hyperparameter selection for our random forest and gradient boosting models.  Hyperopt uses a form of Bayesian optimization for parameter tuning that allows you to get the best parameters for a given model more quickly than using grid search or random search."
   ]
  },
  {
   "cell_type": "code",
   "execution_count": 69,
   "metadata": {},
   "outputs": [],
   "source": [
    "def objective(params, n_folds=N_FOLDS):\n",
    "    regressor = RandomForestRegressor(**params, random_state=RANDOM_STATE)\n",
    "    scores = cross_val_score(regressor, X_ohe_train, y_train, cv=N_FOLDS, scoring='neg_mean_squared_error')\n",
    "    best_score = max(scores)\n",
    "    loss = -1 * best_score\n",
    "    return {'loss': loss, 'params': params, 'status': STATUS_OK}"
   ]
  },
  {
   "cell_type": "code",
   "execution_count": 70,
   "metadata": {},
   "outputs": [],
   "source": [
    "# Ideas on setting up this sample space from \n",
    "# https://towardsdatascience.com/hyperparameter-tuning-the-random-forest-in-python-using-scikit-learn-28d2aa77dd74\n",
    "\n",
    "space = {\n",
    "    'n_estimators' : hp.randint('n_estimators', 50, 500),\n",
    "    'max_depth' : hp.randint('max_depth', 10, 110),\n",
    "    'min_samples_split' : hp.randint('min_samples_split', 2, 5),\n",
    "    'min_samples_leaf' : hp.randint('min_samples_leaf', 1, 4)\n",
    "}"
   ]
  },
  {
   "cell_type": "code",
   "execution_count": 71,
   "metadata": {},
   "outputs": [],
   "source": [
    "if FINDING_HYPERPARAMETERS:\n",
    "    best = fmin(fn=objective, space=space, algo=tpe.suggest, max_evals=MAX_EVALS, trials=Trials())\n",
    "else:\n",
    "    # rmse = 2091\n",
    "    best = {'bootstrap': 0,\n",
    "            'max_depth': 99,\n",
    "            'min_samples_leaf': 2,\n",
    "            'min_samples_split': 4,\n",
    "            'n_estimators': 203}"
   ]
  },
  {
   "cell_type": "code",
   "execution_count": 72,
   "metadata": {
    "scrolled": true
   },
   "outputs": [
    {
     "data": {
      "text/plain": [
       "{'bootstrap': 0,\n",
       " 'max_depth': 99,\n",
       " 'min_samples_leaf': 2,\n",
       " 'min_samples_split': 4,\n",
       " 'n_estimators': 203}"
      ]
     },
     "execution_count": 72,
     "metadata": {},
     "output_type": "execute_result"
    }
   ],
   "source": [
    "best"
   ]
  },
  {
   "cell_type": "code",
   "execution_count": 73,
   "metadata": {},
   "outputs": [],
   "source": [
    "best_forest = RandomForestRegressor(**best, random_state=RANDOM_STATE)"
   ]
  },
  {
   "cell_type": "code",
   "execution_count": 74,
   "metadata": {},
   "outputs": [
    {
     "name": "stdout",
     "output_type": "stream",
     "text": [
      "13min 39s ± 0 ns per loop (mean ± std. dev. of 1 run, 1 loop each)\n"
     ]
    },
    {
     "data": {
      "text/plain": [
       "<TimeitResult : 13min 39s ± 0 ns per loop (mean ± std. dev. of 1 run, 1 loop each)>"
      ]
     },
     "execution_count": 74,
     "metadata": {},
     "output_type": "execute_result"
    }
   ],
   "source": [
    "%%timeit -n1 -r1 -o\n",
    "best_forest.fit(X_ohe_train, y_train)"
   ]
  },
  {
   "cell_type": "code",
   "execution_count": 75,
   "metadata": {},
   "outputs": [],
   "source": [
    "training_time = _.best"
   ]
  },
  {
   "cell_type": "code",
   "execution_count": 76,
   "metadata": {},
   "outputs": [
    {
     "name": "stdout",
     "output_type": "stream",
     "text": [
      "4.25 s ± 0 ns per loop (mean ± std. dev. of 1 run, 1 loop each)\n"
     ]
    },
    {
     "data": {
      "text/plain": [
       "<TimeitResult : 4.25 s ± 0 ns per loop (mean ± std. dev. of 1 run, 1 loop each)>"
      ]
     },
     "execution_count": 76,
     "metadata": {},
     "output_type": "execute_result"
    }
   ],
   "source": [
    "%%timeit -n1 -r1 -o\n",
    "best_forest.predict(X_ohe_test)"
   ]
  },
  {
   "cell_type": "code",
   "execution_count": 77,
   "metadata": {},
   "outputs": [],
   "source": [
    "prediction_time = _.best"
   ]
  },
  {
   "cell_type": "code",
   "execution_count": 78,
   "metadata": {},
   "outputs": [],
   "source": [
    "y_hat = best_forest.predict(X_ohe_test)"
   ]
  },
  {
   "cell_type": "code",
   "execution_count": 79,
   "metadata": {},
   "outputs": [
    {
     "name": "stdout",
     "output_type": "stream",
     "text": [
      "RMSE for test data set: 2090.7358762886997\n"
     ]
    }
   ],
   "source": [
    "rmse = mean_squared_error(y_test, y_hat)**0.5\n",
    "print('RMSE for test data set:', rmse)"
   ]
  },
  {
   "cell_type": "code",
   "execution_count": 80,
   "metadata": {},
   "outputs": [],
   "source": [
    "results_table['RandomForest'] = (training_time, prediction_time, rmse)"
   ]
  },
  {
   "cell_type": "code",
   "execution_count": 81,
   "metadata": {},
   "outputs": [
    {
     "name": "stdout",
     "output_type": "stream",
     "text": [
      "RMSE for training data set: 1718.2982166285974\n"
     ]
    }
   ],
   "source": [
    "y_hat_train = best_forest.predict(X_ohe_train)\n",
    "rmse = mean_squared_error(y_train, y_hat_train)**0.5\n",
    "print('RMSE for training data set:', rmse)"
   ]
  },
  {
   "cell_type": "markdown",
   "metadata": {},
   "source": [
    "## Gradient boosting:  LightGBM"
   ]
  },
  {
   "cell_type": "code",
   "execution_count": 82,
   "metadata": {},
   "outputs": [],
   "source": [
    "def objective(params, n_folds=N_FOLDS):\n",
    "    regressor = LGBMRegressor(**params, random_state=RANDOM_STATE)\n",
    "    scores = cross_val_score(regressor, X_train, y_train, cv=N_FOLDS, scoring='neg_mean_squared_error')\n",
    "    best_score = max(scores)\n",
    "    loss = -1 * best_score\n",
    "    return {'loss': loss, 'params': params, 'status': STATUS_OK}"
   ]
  },
  {
   "cell_type": "code",
   "execution_count": 83,
   "metadata": {},
   "outputs": [],
   "source": [
    "# Adopted from https://www.kaggle.com/vladgriguta/lightgbm-hyperopt\n",
    "\n",
    "# Sample space ranges adopted from \n",
    "# https://medium.com/@sergei740/hyperparameter-tuning-lightgbm-using-random-grid-search-dc11c2f8c805\n",
    "\n",
    "space = {\n",
    "    'learning_rate' : hp.uniform('learning_rate', 0, 1),\n",
    "    'boosting_type' :'gbdt',\n",
    "    'objective' : 'regression',\n",
    "    'sub_feature' : hp.uniform('sub_feature', 0, 1),\n",
    "    'num_leaves' : hp.randint('num_leaves', 20, 300),\n",
    "    'min_data' : hp.randint('min_data', 10, 100),\n",
    "    'max_depth' : hp.randint('max_depth', 5, 200),\n",
    "    'num_iterations' : hp.randint('num_iterations', 10, 10000)\n",
    "}"
   ]
  },
  {
   "cell_type": "code",
   "execution_count": 84,
   "metadata": {},
   "outputs": [],
   "source": [
    "if FINDING_HYPERPARAMETERS:\n",
    "    best = fmin(fn=objective, space=space, algo=tpe.suggest, max_evals=MAX_EVALS, trials=Trials())\n",
    "else:\n",
    "    # rmse = 1981\n",
    "    best = {'learning_rate': 0.5416934372701716,\n",
    "            'max_depth': 80,\n",
    "            'min_data': 85,\n",
    "            'num_iterations': 1015,\n",
    "            'num_leaves': 180,\n",
    "            'sub_feature': 0.5832443162727308}"
   ]
  },
  {
   "cell_type": "code",
   "execution_count": 85,
   "metadata": {},
   "outputs": [
    {
     "data": {
      "text/plain": [
       "{'learning_rate': 0.5416934372701716,\n",
       " 'max_depth': 80,\n",
       " 'min_data': 85,\n",
       " 'num_iterations': 1015,\n",
       " 'num_leaves': 180,\n",
       " 'sub_feature': 0.5832443162727308}"
      ]
     },
     "execution_count": 85,
     "metadata": {},
     "output_type": "execute_result"
    }
   ],
   "source": [
    "best"
   ]
  },
  {
   "cell_type": "code",
   "execution_count": 86,
   "metadata": {},
   "outputs": [],
   "source": [
    "best_lbgm = LGBMRegressor(**best, random_state=RANDOM_STATE)"
   ]
  },
  {
   "cell_type": "code",
   "execution_count": 87,
   "metadata": {},
   "outputs": [
    {
     "name": "stdout",
     "output_type": "stream",
     "text": [
      "[LightGBM] [Warning] feature_fraction is set with sub_feature=0.5832443162727308, colsample_bytree=1.0 will be ignored. Current value: feature_fraction=0.5832443162727308\n",
      "[LightGBM] [Warning] min_data_in_leaf is set with min_data=85, min_child_samples=20 will be ignored. Current value: min_data_in_leaf=85\n",
      "12.6 s ± 0 ns per loop (mean ± std. dev. of 1 run, 1 loop each)\n"
     ]
    },
    {
     "data": {
      "text/plain": [
       "<TimeitResult : 12.6 s ± 0 ns per loop (mean ± std. dev. of 1 run, 1 loop each)>"
      ]
     },
     "execution_count": 87,
     "metadata": {},
     "output_type": "execute_result"
    }
   ],
   "source": [
    "%%timeit -n1 -r1 -o\n",
    "best_lbgm.fit(X_train, y_train)"
   ]
  },
  {
   "cell_type": "code",
   "execution_count": 88,
   "metadata": {},
   "outputs": [],
   "source": [
    "training_time = _.best"
   ]
  },
  {
   "cell_type": "code",
   "execution_count": 89,
   "metadata": {},
   "outputs": [
    {
     "name": "stdout",
     "output_type": "stream",
     "text": [
      "2.51 s ± 0 ns per loop (mean ± std. dev. of 1 run, 1 loop each)\n"
     ]
    },
    {
     "data": {
      "text/plain": [
       "<TimeitResult : 2.51 s ± 0 ns per loop (mean ± std. dev. of 1 run, 1 loop each)>"
      ]
     },
     "execution_count": 89,
     "metadata": {},
     "output_type": "execute_result"
    }
   ],
   "source": [
    "%%timeit -n1 -r1 -o\n",
    "best_lbgm.predict(X_test)"
   ]
  },
  {
   "cell_type": "code",
   "execution_count": 90,
   "metadata": {},
   "outputs": [],
   "source": [
    "prediction_time = _.best"
   ]
  },
  {
   "cell_type": "code",
   "execution_count": 91,
   "metadata": {},
   "outputs": [],
   "source": [
    "y_hat = best_lbgm.predict(X_test)"
   ]
  },
  {
   "cell_type": "code",
   "execution_count": 92,
   "metadata": {},
   "outputs": [
    {
     "name": "stdout",
     "output_type": "stream",
     "text": [
      "RMSE for test data set: 1980.5494929483486\n"
     ]
    }
   ],
   "source": [
    "rmse = mean_squared_error(y_test, y_hat)**0.5\n",
    "print('RMSE for test data set:', rmse)"
   ]
  },
  {
   "cell_type": "code",
   "execution_count": 93,
   "metadata": {},
   "outputs": [],
   "source": [
    "results_table['LightGBM'] = (training_time, prediction_time, rmse)"
   ]
  },
  {
   "cell_type": "code",
   "execution_count": 94,
   "metadata": {},
   "outputs": [
    {
     "name": "stdout",
     "output_type": "stream",
     "text": [
      "RMSE for training data set: 1746.1244769124942\n"
     ]
    }
   ],
   "source": [
    "y_hat_train = best_lbgm.predict(X_train)\n",
    "rmse = mean_squared_error(y_train, y_hat_train)**0.5\n",
    "print('RMSE for training data set:', rmse)"
   ]
  },
  {
   "cell_type": "markdown",
   "metadata": {},
   "source": [
    "## Gradient boosting:  CatBoost"
   ]
  },
  {
   "cell_type": "code",
   "execution_count": 95,
   "metadata": {},
   "outputs": [],
   "source": [
    "def objective(params, n_folds=N_FOLDS):\n",
    "    regressor = CatBoostRegressor(**params, random_state=RANDOM_STATE)\n",
    "    scores = cross_val_score(regressor, X_train, y_train, cv=N_FOLDS, scoring='neg_mean_squared_error')\n",
    "    best_score = max(scores)\n",
    "    loss = -1 * best_score\n",
    "    return {'loss': loss, 'params': params, 'status': STATUS_OK}"
   ]
  },
  {
   "cell_type": "code",
   "execution_count": 96,
   "metadata": {},
   "outputs": [],
   "source": [
    "# Official docs: https://catboost.ai/en/docs/concepts/python-reference_catboostregressor\n",
    "\n",
    "# Example: https://towardsdatascience.com/catboost-regression-in-6-minutes-3487f3e5b329\n",
    "\n",
    "space = {\n",
    "    'iterations' : hp.randint('iterations', 10, 1000),\n",
    "    'learning_rate' : hp.uniform('learning_rate', 0, 1),\n",
    "    'depth' : hp.randint('depth', 2, 12),\n",
    "    'l2_leaf_reg': hp.choice('l2_leaf_reg', [None, 0.2, 0.5, 1, 3]),    \n",
    "    'use_best_model' : hp.choice('use_best_model', [None, True]),\n",
    "    'cat_features' : categorical_features,\n",
    "    'verbose' : False\n",
    "}"
   ]
  },
  {
   "cell_type": "code",
   "execution_count": 97,
   "metadata": {},
   "outputs": [],
   "source": [
    "if FINDING_HYPERPARAMETERS:\n",
    "    best = fmin(fn=objective, space=space, algo=tpe.suggest, max_evals=MAX_EVALS, trials=Trials())\n",
    "else:\n",
    "    # rmse = 1995\n",
    "    best = {'depth': 9,\n",
    "            'iterations': 664,\n",
    "            'l2_leaf_reg': 0,\n",
    "            'learning_rate': 0,\n",
    "            'use_best_model': 0}\n",
    "    \n",
    "    # rmse = 1986\n",
    "    best = {'depth': 10,\n",
    "            'iterations': 561,\n",
    "            'l2_leaf_reg': 3,\n",
    "            'learning_rate': 0.168716645726527,\n",
    "            'use_best_model': 0}"
   ]
  },
  {
   "cell_type": "code",
   "execution_count": 98,
   "metadata": {},
   "outputs": [
    {
     "data": {
      "text/plain": [
       "{'depth': 10,\n",
       " 'iterations': 561,\n",
       " 'l2_leaf_reg': 3,\n",
       " 'learning_rate': 0.168716645726527,\n",
       " 'use_best_model': 0}"
      ]
     },
     "execution_count": 98,
     "metadata": {},
     "output_type": "execute_result"
    }
   ],
   "source": [
    "best"
   ]
  },
  {
   "cell_type": "code",
   "execution_count": 99,
   "metadata": {},
   "outputs": [],
   "source": [
    "for item in best:\n",
    "    if best[item] == 0:\n",
    "        best[item] = None\n",
    "\n",
    "best['cat_features'] = categorical_features\n",
    "best['verbose'] = False"
   ]
  },
  {
   "cell_type": "code",
   "execution_count": 100,
   "metadata": {},
   "outputs": [],
   "source": [
    "best_cat = CatBoostRegressor(**best, random_state=RANDOM_STATE)"
   ]
  },
  {
   "cell_type": "code",
   "execution_count": 101,
   "metadata": {},
   "outputs": [
    {
     "name": "stdout",
     "output_type": "stream",
     "text": [
      "29.3 s ± 0 ns per loop (mean ± std. dev. of 1 run, 1 loop each)\n"
     ]
    },
    {
     "data": {
      "text/plain": [
       "<TimeitResult : 29.3 s ± 0 ns per loop (mean ± std. dev. of 1 run, 1 loop each)>"
      ]
     },
     "execution_count": 101,
     "metadata": {},
     "output_type": "execute_result"
    }
   ],
   "source": [
    "%%timeit -n1 -r1 -o\n",
    "best_cat.fit(X_train, y_train)"
   ]
  },
  {
   "cell_type": "code",
   "execution_count": 102,
   "metadata": {},
   "outputs": [],
   "source": [
    "training_time = _.best"
   ]
  },
  {
   "cell_type": "code",
   "execution_count": 103,
   "metadata": {},
   "outputs": [
    {
     "name": "stdout",
     "output_type": "stream",
     "text": [
      "156 ms ± 0 ns per loop (mean ± std. dev. of 1 run, 1 loop each)\n"
     ]
    },
    {
     "data": {
      "text/plain": [
       "<TimeitResult : 156 ms ± 0 ns per loop (mean ± std. dev. of 1 run, 1 loop each)>"
      ]
     },
     "execution_count": 103,
     "metadata": {},
     "output_type": "execute_result"
    }
   ],
   "source": [
    "%%timeit -n1 -r1 -o\n",
    "best_cat.predict(X_test)"
   ]
  },
  {
   "cell_type": "code",
   "execution_count": 104,
   "metadata": {},
   "outputs": [],
   "source": [
    "prediction_time = _.best"
   ]
  },
  {
   "cell_type": "code",
   "execution_count": 105,
   "metadata": {},
   "outputs": [],
   "source": [
    "y_hat = best_cat.predict(X_test)"
   ]
  },
  {
   "cell_type": "code",
   "execution_count": 106,
   "metadata": {},
   "outputs": [
    {
     "name": "stdout",
     "output_type": "stream",
     "text": [
      "RMSE for test data set: 1985.629741508436\n"
     ]
    }
   ],
   "source": [
    "rmse = mean_squared_error(y_test, y_hat)**0.5\n",
    "print('RMSE for test data set:', rmse)"
   ]
  },
  {
   "cell_type": "code",
   "execution_count": 107,
   "metadata": {},
   "outputs": [],
   "source": [
    "results_table['CatBoost'] = (training_time, prediction_time, rmse)"
   ]
  },
  {
   "cell_type": "code",
   "execution_count": 108,
   "metadata": {},
   "outputs": [
    {
     "name": "stdout",
     "output_type": "stream",
     "text": [
      "RMSE for training data set: 1914.901563827963\n"
     ]
    }
   ],
   "source": [
    "y_hat_train = best_cat.predict(X_train)\n",
    "rmse = mean_squared_error(y_train, y_hat_train)**0.5\n",
    "print('RMSE for training data set:', rmse)"
   ]
  },
  {
   "cell_type": "markdown",
   "metadata": {},
   "source": [
    "## Conclusion:  Model training\n",
    "In this section, we developed linear regression, random forest, and gradient boosting models to predict car price using historical sales data.  We used Hyperopt to assist with hyperparameter selection.  We recorded the fitting time, prediction time, and RMSE in order to compare the different models."
   ]
  },
  {
   "cell_type": "markdown",
   "metadata": {},
   "source": [
    "# Model analysis"
   ]
  },
  {
   "cell_type": "code",
   "execution_count": 109,
   "metadata": {},
   "outputs": [
    {
     "data": {
      "text/html": [
       "<div>\n",
       "<style scoped>\n",
       "    .dataframe tbody tr th:only-of-type {\n",
       "        vertical-align: middle;\n",
       "    }\n",
       "\n",
       "    .dataframe tbody tr th {\n",
       "        vertical-align: top;\n",
       "    }\n",
       "\n",
       "    .dataframe thead th {\n",
       "        text-align: right;\n",
       "    }\n",
       "</style>\n",
       "<table border=\"1\" class=\"dataframe\">\n",
       "  <thead>\n",
       "    <tr style=\"text-align: right;\">\n",
       "      <th></th>\n",
       "      <th>Fitting time (s)</th>\n",
       "      <th>Prediction time (s)</th>\n",
       "      <th>RMSE</th>\n",
       "    </tr>\n",
       "  </thead>\n",
       "  <tbody>\n",
       "    <tr>\n",
       "      <th>Linear Regression</th>\n",
       "      <td>1.760193</td>\n",
       "      <td>0.067700</td>\n",
       "      <td>2935.528443</td>\n",
       "    </tr>\n",
       "    <tr>\n",
       "      <th>RandomForest</th>\n",
       "      <td>819.355483</td>\n",
       "      <td>4.245765</td>\n",
       "      <td>2090.735876</td>\n",
       "    </tr>\n",
       "    <tr>\n",
       "      <th>LightGBM</th>\n",
       "      <td>12.629603</td>\n",
       "      <td>2.511441</td>\n",
       "      <td>1980.549493</td>\n",
       "    </tr>\n",
       "    <tr>\n",
       "      <th>CatBoost</th>\n",
       "      <td>29.332076</td>\n",
       "      <td>0.156095</td>\n",
       "      <td>1985.629742</td>\n",
       "    </tr>\n",
       "  </tbody>\n",
       "</table>\n",
       "</div>"
      ],
      "text/plain": [
       "                   Fitting time (s)  Prediction time (s)         RMSE\n",
       "Linear Regression          1.760193             0.067700  2935.528443\n",
       "RandomForest             819.355483             4.245765  2090.735876\n",
       "LightGBM                  12.629603             2.511441  1980.549493\n",
       "CatBoost                  29.332076             0.156095  1985.629742"
      ]
     },
     "execution_count": 109,
     "metadata": {},
     "output_type": "execute_result"
    }
   ],
   "source": [
    "pd.DataFrame(results_table, index=['Fitting time (s)', 'Prediction time (s)', 'RMSE']).T"
   ]
  },
  {
   "cell_type": "markdown",
   "metadata": {},
   "source": [
    "The table above summarizes the results of our models for predicting car price.\n",
    "\n",
    "- The linear regression model was used as a \"sanity check\" for the other models.  Linear regression requires no hyperparameter tuning and had the fastest times for fitting and prediction, but linear regression was not very accurate.\n",
    "- The random forest model was much more accurate than linear regression.  Random forest had the most computationally intensive hyperparameter tuning.  It took many hours to go through just 15 iterations through the parameter space with hyperopt.  Due to this time constraint, the hyperparameters for the random forest model were not well-optimized.  Random forest had the highest fitting time of all the models tested.  Prediction time was also relatively high.\n",
    "- LightGBM was the most accurate model.  Hyperparameter tuning was computationally intensive; it took several hours to go through 15 hyperopt iterations.\n",
    "- As a developer, CatBoost was my favorite library.  Hyperparameter tuning was an order of magnitude faster than with random forest or LightGBM.  The model passed through 50 hyperopt iterations in less than 20 minutes.  Although accuracy with CatBoost was slightly lower than with LightGBM, there are many other hyperparameters available for tuning, and because hyperparameter tuning is so fast with CatBoost, it would not be difficult to surpass LightGBM's accuracy with further tuning.  Prediction time for CatBoost was faster than for random forest and LightGBM.\n",
    "- The objective functions used with hyperopt incorporated cross validation to reduce overfitting.  (To reduce computation time, only 3 folds were used.)  CatBoost had almost no overfitting:  RMSE for the training data was very close to RMSE for the test data."
   ]
  },
  {
   "cell_type": "markdown",
   "metadata": {},
   "source": [
    "# Conclusion"
   ]
  },
  {
   "cell_type": "markdown",
   "metadata": {},
   "source": [
    "In this project, we developed several models to predict car price for use in *Rusty Bargain*'s app.  We began with a large data set of used car features and prices.  We preprocessed the data, eliminating anomalous records and filling in missing values.  We limited the data set to focus on the features that were most likely to predict car price.  Next, we developed linear regression, random forest, and gradient boosting models to predict car price.  The gradient boosting models were the most accurate and were able to make predictions quickly."
   ]
  }
 ],
 "metadata": {
  "ExecuteTimeLog": [
   {
    "duration": 1504,
    "start_time": "2022-02-09T13:20:14.094Z"
   },
   {
    "duration": 4,
    "start_time": "2022-02-09T13:20:54.418Z"
   },
   {
    "duration": 6,
    "start_time": "2022-02-09T13:20:54.424Z"
   },
   {
    "duration": 5,
    "start_time": "2022-02-09T13:20:54.432Z"
   },
   {
    "duration": 893,
    "start_time": "2022-02-09T13:20:54.439Z"
   },
   {
    "duration": 125,
    "start_time": "2022-02-09T13:20:55.334Z"
   },
   {
    "duration": 36,
    "start_time": "2022-02-09T13:20:55.462Z"
   },
   {
    "duration": 112,
    "start_time": "2022-02-09T13:20:55.500Z"
   },
   {
    "duration": 47,
    "start_time": "2022-02-09T13:20:55.615Z"
   },
   {
    "duration": 11,
    "start_time": "2022-02-09T13:20:55.664Z"
   },
   {
    "duration": 65,
    "start_time": "2022-02-09T13:20:55.677Z"
   },
   {
    "duration": 20,
    "start_time": "2022-02-09T13:20:55.743Z"
   },
   {
    "duration": 59,
    "start_time": "2022-02-09T13:20:55.765Z"
   },
   {
    "duration": 24,
    "start_time": "2022-02-09T13:20:55.827Z"
   },
   {
    "duration": 17,
    "start_time": "2022-02-09T13:20:55.853Z"
   },
   {
    "duration": 35,
    "start_time": "2022-02-09T13:20:55.872Z"
   },
   {
    "duration": 255,
    "start_time": "2022-02-09T13:20:55.909Z"
   },
   {
    "duration": 52,
    "start_time": "2022-02-09T13:20:56.167Z"
   },
   {
    "duration": 20,
    "start_time": "2022-02-09T13:20:56.221Z"
   },
   {
    "duration": 37,
    "start_time": "2022-02-09T13:20:56.243Z"
   },
   {
    "duration": 36,
    "start_time": "2022-02-09T13:20:56.282Z"
   },
   {
    "duration": 234,
    "start_time": "2022-02-09T13:20:56.320Z"
   },
   {
    "duration": 248,
    "start_time": "2022-02-09T13:20:56.556Z"
   },
   {
    "duration": 58,
    "start_time": "2022-02-09T13:20:56.808Z"
   },
   {
    "duration": 40,
    "start_time": "2022-02-09T13:20:56.869Z"
   },
   {
    "duration": 19,
    "start_time": "2022-02-09T13:20:56.911Z"
   },
   {
    "duration": 22,
    "start_time": "2022-02-09T13:20:56.932Z"
   },
   {
    "duration": 243,
    "start_time": "2022-02-09T13:20:56.955Z"
   },
   {
    "duration": 27,
    "start_time": "2022-02-09T13:20:57.200Z"
   },
   {
    "duration": 18,
    "start_time": "2022-02-09T13:20:57.229Z"
   },
   {
    "duration": 59,
    "start_time": "2022-02-09T13:20:57.249Z"
   },
   {
    "duration": 23,
    "start_time": "2022-02-09T13:20:57.310Z"
   },
   {
    "duration": 3,
    "start_time": "2022-02-09T13:20:57.335Z"
   },
   {
    "duration": 19,
    "start_time": "2022-02-09T13:20:57.340Z"
   },
   {
    "duration": 60,
    "start_time": "2022-02-09T13:20:57.361Z"
   },
   {
    "duration": 27,
    "start_time": "2022-02-09T13:20:57.423Z"
   },
   {
    "duration": 26,
    "start_time": "2022-02-09T13:20:57.452Z"
   },
   {
    "duration": 22,
    "start_time": "2022-02-09T13:20:57.480Z"
   },
   {
    "duration": 9,
    "start_time": "2022-02-09T13:20:57.504Z"
   },
   {
    "duration": 24,
    "start_time": "2022-02-09T13:20:57.514Z"
   },
   {
    "duration": 5,
    "start_time": "2022-02-09T13:20:57.539Z"
   },
   {
    "duration": 93,
    "start_time": "2022-02-09T13:20:57.546Z"
   },
   {
    "duration": 25,
    "start_time": "2022-02-09T13:20:57.641Z"
   },
   {
    "duration": 45,
    "start_time": "2022-02-09T13:20:57.668Z"
   },
   {
    "duration": 95,
    "start_time": "2022-02-09T13:20:57.714Z"
   },
   {
    "duration": 12,
    "start_time": "2022-02-09T13:20:57.810Z"
   },
   {
    "duration": 963,
    "start_time": "2022-02-09T13:20:57.824Z"
   },
   {
    "duration": 17,
    "start_time": "2022-02-09T13:20:58.789Z"
   },
   {
    "duration": 163,
    "start_time": "2022-02-09T13:20:58.808Z"
   },
   {
    "duration": 7,
    "start_time": "2022-02-09T13:20:58.972Z"
   },
   {
    "duration": 778,
    "start_time": "2022-02-09T13:20:58.981Z"
   },
   {
    "duration": 2,
    "start_time": "2022-02-09T13:20:59.761Z"
   },
   {
    "duration": 219645,
    "start_time": "2022-02-09T13:20:59.764Z"
   },
   {
    "duration": 3,
    "start_time": "2022-02-09T13:24:39.500Z"
   },
   {
    "duration": 22300,
    "start_time": "2022-02-09T13:24:39.505Z"
   },
   {
    "duration": 293,
    "start_time": "2022-02-09T13:25:01.808Z"
   },
   {
    "duration": 3,
    "start_time": "2022-02-09T13:25:02.104Z"
   },
   {
    "duration": 487,
    "start_time": "2022-02-09T13:25:02.110Z"
   },
   {
    "duration": -55,
    "start_time": "2022-02-09T13:25:02.654Z"
   },
   {
    "duration": 5,
    "start_time": "2022-02-09T13:35:53.431Z"
   },
   {
    "duration": 2,
    "start_time": "2022-02-09T13:35:55.825Z"
   },
   {
    "duration": 3,
    "start_time": "2022-02-09T13:36:05.246Z"
   },
   {
    "duration": 5,
    "start_time": "2022-02-09T13:46:33.715Z"
   },
   {
    "duration": 300,
    "start_time": "2022-02-09T13:46:35.027Z"
   },
   {
    "duration": 262,
    "start_time": "2022-02-09T13:46:54.269Z"
   },
   {
    "duration": 4,
    "start_time": "2022-02-09T13:47:13.439Z"
   },
   {
    "duration": 4,
    "start_time": "2022-02-09T13:47:26.365Z"
   },
   {
    "duration": 444,
    "start_time": "2022-02-09T13:49:47.016Z"
   },
   {
    "duration": 264,
    "start_time": "2022-02-09T13:49:57.628Z"
   },
   {
    "duration": 1265,
    "start_time": "2022-02-09T13:50:21.151Z"
   },
   {
    "duration": 3,
    "start_time": "2022-02-09T13:50:22.418Z"
   },
   {
    "duration": 7,
    "start_time": "2022-02-09T13:50:22.423Z"
   },
   {
    "duration": 849,
    "start_time": "2022-02-09T13:50:22.432Z"
   },
   {
    "duration": 160,
    "start_time": "2022-02-09T13:50:23.283Z"
   },
   {
    "duration": 29,
    "start_time": "2022-02-09T13:50:23.444Z"
   },
   {
    "duration": 130,
    "start_time": "2022-02-09T13:50:23.475Z"
   },
   {
    "duration": 50,
    "start_time": "2022-02-09T13:50:23.607Z"
   },
   {
    "duration": 14,
    "start_time": "2022-02-09T13:50:23.661Z"
   },
   {
    "duration": 76,
    "start_time": "2022-02-09T13:50:23.678Z"
   },
   {
    "duration": 41,
    "start_time": "2022-02-09T13:50:23.757Z"
   },
   {
    "duration": 64,
    "start_time": "2022-02-09T13:50:23.801Z"
   },
   {
    "duration": 50,
    "start_time": "2022-02-09T13:50:23.867Z"
   },
   {
    "duration": 17,
    "start_time": "2022-02-09T13:50:23.919Z"
   },
   {
    "duration": 14,
    "start_time": "2022-02-09T13:50:23.938Z"
   },
   {
    "duration": 263,
    "start_time": "2022-02-09T13:50:23.954Z"
   },
   {
    "duration": 43,
    "start_time": "2022-02-09T13:50:24.219Z"
   },
   {
    "duration": 34,
    "start_time": "2022-02-09T13:50:24.264Z"
   },
   {
    "duration": 37,
    "start_time": "2022-02-09T13:50:24.300Z"
   },
   {
    "duration": 36,
    "start_time": "2022-02-09T13:50:24.339Z"
   },
   {
    "duration": 245,
    "start_time": "2022-02-09T13:50:24.377Z"
   },
   {
    "duration": 238,
    "start_time": "2022-02-09T13:50:24.624Z"
   },
   {
    "duration": 70,
    "start_time": "2022-02-09T13:50:24.864Z"
   },
   {
    "duration": 22,
    "start_time": "2022-02-09T13:50:24.936Z"
   },
   {
    "duration": 20,
    "start_time": "2022-02-09T13:50:24.959Z"
   },
   {
    "duration": 38,
    "start_time": "2022-02-09T13:50:24.981Z"
   },
   {
    "duration": 241,
    "start_time": "2022-02-09T13:50:25.025Z"
   },
   {
    "duration": 38,
    "start_time": "2022-02-09T13:50:25.268Z"
   },
   {
    "duration": 19,
    "start_time": "2022-02-09T13:50:25.308Z"
   },
   {
    "duration": 42,
    "start_time": "2022-02-09T13:50:25.329Z"
   },
   {
    "duration": 56,
    "start_time": "2022-02-09T13:50:25.373Z"
   },
   {
    "duration": 2,
    "start_time": "2022-02-09T13:50:25.431Z"
   },
   {
    "duration": 23,
    "start_time": "2022-02-09T13:50:25.435Z"
   },
   {
    "duration": 58,
    "start_time": "2022-02-09T13:50:25.460Z"
   },
   {
    "duration": 41,
    "start_time": "2022-02-09T13:50:25.521Z"
   },
   {
    "duration": 28,
    "start_time": "2022-02-09T13:50:25.564Z"
   },
   {
    "duration": 6,
    "start_time": "2022-02-09T13:50:25.594Z"
   },
   {
    "duration": 16,
    "start_time": "2022-02-09T13:50:25.602Z"
   },
   {
    "duration": 24,
    "start_time": "2022-02-09T13:50:25.620Z"
   },
   {
    "duration": 5,
    "start_time": "2022-02-09T13:50:25.646Z"
   },
   {
    "duration": 12,
    "start_time": "2022-02-09T13:50:25.653Z"
   },
   {
    "duration": 56,
    "start_time": "2022-02-09T13:50:25.667Z"
   },
   {
    "duration": 99,
    "start_time": "2022-02-09T13:50:25.725Z"
   },
   {
    "duration": 95,
    "start_time": "2022-02-09T13:50:25.826Z"
   },
   {
    "duration": 13,
    "start_time": "2022-02-09T13:50:25.923Z"
   },
   {
    "duration": 981,
    "start_time": "2022-02-09T13:50:25.938Z"
   },
   {
    "duration": 13,
    "start_time": "2022-02-09T13:50:26.922Z"
   },
   {
    "duration": 172,
    "start_time": "2022-02-09T13:50:26.937Z"
   },
   {
    "duration": 9,
    "start_time": "2022-02-09T13:50:27.112Z"
   },
   {
    "duration": 817,
    "start_time": "2022-02-09T13:50:27.123Z"
   },
   {
    "duration": 4,
    "start_time": "2022-02-09T13:50:37.076Z"
   },
   {
    "duration": 315,
    "start_time": "2022-02-09T13:52:43.614Z"
   },
   {
    "duration": 1316,
    "start_time": "2022-02-09T13:53:01.352Z"
   },
   {
    "duration": 3,
    "start_time": "2022-02-09T13:53:02.670Z"
   },
   {
    "duration": 36,
    "start_time": "2022-02-09T13:53:02.676Z"
   },
   {
    "duration": 851,
    "start_time": "2022-02-09T13:53:02.714Z"
   },
   {
    "duration": 125,
    "start_time": "2022-02-09T13:53:03.567Z"
   },
   {
    "duration": 33,
    "start_time": "2022-02-09T13:53:03.694Z"
   },
   {
    "duration": 118,
    "start_time": "2022-02-09T13:53:03.729Z"
   },
   {
    "duration": 55,
    "start_time": "2022-02-09T13:53:03.849Z"
   },
   {
    "duration": 35,
    "start_time": "2022-02-09T13:53:03.907Z"
   },
   {
    "duration": 53,
    "start_time": "2022-02-09T13:53:03.944Z"
   },
   {
    "duration": 18,
    "start_time": "2022-02-09T13:53:03.999Z"
   },
   {
    "duration": 48,
    "start_time": "2022-02-09T13:53:04.019Z"
   },
   {
    "duration": 53,
    "start_time": "2022-02-09T13:53:04.069Z"
   },
   {
    "duration": 33,
    "start_time": "2022-02-09T13:53:04.124Z"
   },
   {
    "duration": 30,
    "start_time": "2022-02-09T13:53:04.160Z"
   },
   {
    "duration": 258,
    "start_time": "2022-02-09T13:53:04.192Z"
   },
   {
    "duration": 52,
    "start_time": "2022-02-09T13:53:04.452Z"
   },
   {
    "duration": 18,
    "start_time": "2022-02-09T13:53:04.506Z"
   },
   {
    "duration": 45,
    "start_time": "2022-02-09T13:53:04.526Z"
   },
   {
    "duration": 42,
    "start_time": "2022-02-09T13:53:04.573Z"
   },
   {
    "duration": 227,
    "start_time": "2022-02-09T13:53:04.617Z"
   },
   {
    "duration": 245,
    "start_time": "2022-02-09T13:53:04.846Z"
   },
   {
    "duration": 65,
    "start_time": "2022-02-09T13:53:05.099Z"
   },
   {
    "duration": 35,
    "start_time": "2022-02-09T13:53:05.165Z"
   },
   {
    "duration": 43,
    "start_time": "2022-02-09T13:53:05.203Z"
   },
   {
    "duration": 43,
    "start_time": "2022-02-09T13:53:05.248Z"
   },
   {
    "duration": 243,
    "start_time": "2022-02-09T13:53:05.296Z"
   },
   {
    "duration": 33,
    "start_time": "2022-02-09T13:53:05.542Z"
   },
   {
    "duration": 27,
    "start_time": "2022-02-09T13:53:05.577Z"
   },
   {
    "duration": 50,
    "start_time": "2022-02-09T13:53:05.605Z"
   },
   {
    "duration": 38,
    "start_time": "2022-02-09T13:53:05.657Z"
   },
   {
    "duration": 21,
    "start_time": "2022-02-09T13:53:05.697Z"
   },
   {
    "duration": 32,
    "start_time": "2022-02-09T13:53:05.720Z"
   },
   {
    "duration": 62,
    "start_time": "2022-02-09T13:53:05.753Z"
   },
   {
    "duration": 41,
    "start_time": "2022-02-09T13:53:05.817Z"
   },
   {
    "duration": 47,
    "start_time": "2022-02-09T13:53:05.860Z"
   },
   {
    "duration": 19,
    "start_time": "2022-02-09T13:53:05.909Z"
   },
   {
    "duration": 37,
    "start_time": "2022-02-09T13:53:05.931Z"
   },
   {
    "duration": 45,
    "start_time": "2022-02-09T13:53:05.970Z"
   },
   {
    "duration": 15,
    "start_time": "2022-02-09T13:53:06.017Z"
   },
   {
    "duration": 18,
    "start_time": "2022-02-09T13:53:06.034Z"
   },
   {
    "duration": 35,
    "start_time": "2022-02-09T13:53:06.054Z"
   },
   {
    "duration": 98,
    "start_time": "2022-02-09T13:53:06.091Z"
   },
   {
    "duration": 85,
    "start_time": "2022-02-09T13:53:06.191Z"
   },
   {
    "duration": 22,
    "start_time": "2022-02-09T13:53:06.277Z"
   },
   {
    "duration": 968,
    "start_time": "2022-02-09T13:53:06.300Z"
   },
   {
    "duration": 12,
    "start_time": "2022-02-09T13:53:07.270Z"
   },
   {
    "duration": 175,
    "start_time": "2022-02-09T13:53:07.284Z"
   },
   {
    "duration": 7,
    "start_time": "2022-02-09T13:53:07.461Z"
   },
   {
    "duration": 786,
    "start_time": "2022-02-09T13:53:07.470Z"
   },
   {
    "duration": 3,
    "start_time": "2022-02-09T13:53:16.434Z"
   },
   {
    "duration": 1174843,
    "start_time": "2022-02-09T13:53:19.807Z"
   },
   {
    "duration": 5,
    "start_time": "2022-02-09T14:12:54.653Z"
   },
   {
    "duration": 416,
    "start_time": "2022-02-09T14:14:37.923Z"
   },
   {
    "duration": 3,
    "start_time": "2022-02-09T14:15:00.401Z"
   },
   {
    "duration": 2273344,
    "start_time": "2022-02-09T14:15:05.368Z"
   },
   {
    "duration": 3,
    "start_time": "2022-02-09T14:53:44.802Z"
   },
   {
    "duration": 12682,
    "start_time": "2022-02-09T14:53:45.734Z"
   },
   {
    "duration": 3,
    "start_time": "2022-02-09T15:01:54.192Z"
   },
   {
    "duration": 11979,
    "start_time": "2022-02-09T15:01:54.656Z"
   },
   {
    "duration": 3,
    "start_time": "2022-02-09T15:07:18.693Z"
   },
   {
    "duration": 277,
    "start_time": "2022-02-09T15:07:19.043Z"
   },
   {
    "duration": 276,
    "start_time": "2022-02-09T15:07:19.523Z"
   },
   {
    "duration": 1488,
    "start_time": "2022-02-09T15:07:30.807Z"
   },
   {
    "duration": 3,
    "start_time": "2022-02-09T15:07:35.272Z"
   },
   {
    "duration": 7,
    "start_time": "2022-02-09T15:07:35.798Z"
   },
   {
    "duration": 261,
    "start_time": "2022-02-09T15:07:38.100Z"
   },
   {
    "duration": 5,
    "start_time": "2022-02-09T15:07:51.356Z"
   },
   {
    "duration": 3,
    "start_time": "2022-02-11T03:54:55.455Z"
   },
   {
    "duration": 829,
    "start_time": "2022-02-11T03:54:55.462Z"
   },
   {
    "duration": -95,
    "start_time": "2022-02-11T03:54:56.393Z"
   },
   {
    "duration": -96,
    "start_time": "2022-02-11T03:54:56.395Z"
   },
   {
    "duration": -97,
    "start_time": "2022-02-11T03:54:56.398Z"
   },
   {
    "duration": -292,
    "start_time": "2022-02-11T03:54:56.594Z"
   },
   {
    "duration": -291,
    "start_time": "2022-02-11T03:54:56.595Z"
   },
   {
    "duration": -292,
    "start_time": "2022-02-11T03:54:56.597Z"
   },
   {
    "duration": -292,
    "start_time": "2022-02-11T03:54:56.598Z"
   },
   {
    "duration": -291,
    "start_time": "2022-02-11T03:54:56.599Z"
   },
   {
    "duration": -291,
    "start_time": "2022-02-11T03:54:56.600Z"
   },
   {
    "duration": -291,
    "start_time": "2022-02-11T03:54:56.601Z"
   },
   {
    "duration": -291,
    "start_time": "2022-02-11T03:54:56.602Z"
   },
   {
    "duration": -290,
    "start_time": "2022-02-11T03:54:56.603Z"
   },
   {
    "duration": -290,
    "start_time": "2022-02-11T03:54:56.604Z"
   },
   {
    "duration": -291,
    "start_time": "2022-02-11T03:54:56.606Z"
   },
   {
    "duration": -291,
    "start_time": "2022-02-11T03:54:56.607Z"
   },
   {
    "duration": -286,
    "start_time": "2022-02-11T03:54:56.608Z"
   },
   {
    "duration": -286,
    "start_time": "2022-02-11T03:54:56.609Z"
   },
   {
    "duration": -286,
    "start_time": "2022-02-11T03:54:56.610Z"
   },
   {
    "duration": -285,
    "start_time": "2022-02-11T03:54:56.611Z"
   },
   {
    "duration": -285,
    "start_time": "2022-02-11T03:54:56.612Z"
   },
   {
    "duration": -286,
    "start_time": "2022-02-11T03:54:56.614Z"
   },
   {
    "duration": -286,
    "start_time": "2022-02-11T03:54:56.615Z"
   },
   {
    "duration": -286,
    "start_time": "2022-02-11T03:54:56.616Z"
   },
   {
    "duration": -286,
    "start_time": "2022-02-11T03:54:56.617Z"
   },
   {
    "duration": -553,
    "start_time": "2022-02-11T03:54:56.885Z"
   },
   {
    "duration": -642,
    "start_time": "2022-02-11T03:54:56.975Z"
   },
   {
    "duration": -642,
    "start_time": "2022-02-11T03:54:56.977Z"
   },
   {
    "duration": -642,
    "start_time": "2022-02-11T03:54:56.978Z"
   },
   {
    "duration": -642,
    "start_time": "2022-02-11T03:54:56.979Z"
   },
   {
    "duration": -642,
    "start_time": "2022-02-11T03:54:56.980Z"
   },
   {
    "duration": -642,
    "start_time": "2022-02-11T03:54:56.981Z"
   },
   {
    "duration": -641,
    "start_time": "2022-02-11T03:54:56.982Z"
   },
   {
    "duration": -641,
    "start_time": "2022-02-11T03:54:56.983Z"
   },
   {
    "duration": -640,
    "start_time": "2022-02-11T03:54:56.984Z"
   },
   {
    "duration": -640,
    "start_time": "2022-02-11T03:54:56.985Z"
   },
   {
    "duration": -640,
    "start_time": "2022-02-11T03:54:56.986Z"
   },
   {
    "duration": -639,
    "start_time": "2022-02-11T03:54:56.987Z"
   },
   {
    "duration": -639,
    "start_time": "2022-02-11T03:54:56.988Z"
   },
   {
    "duration": -639,
    "start_time": "2022-02-11T03:54:56.989Z"
   },
   {
    "duration": -639,
    "start_time": "2022-02-11T03:54:56.990Z"
   },
   {
    "duration": -639,
    "start_time": "2022-02-11T03:54:56.991Z"
   },
   {
    "duration": -638,
    "start_time": "2022-02-11T03:54:56.992Z"
   },
   {
    "duration": -638,
    "start_time": "2022-02-11T03:54:56.993Z"
   },
   {
    "duration": -636,
    "start_time": "2022-02-11T03:54:56.994Z"
   },
   {
    "duration": -635,
    "start_time": "2022-02-11T03:54:56.995Z"
   },
   {
    "duration": -635,
    "start_time": "2022-02-11T03:54:56.996Z"
   },
   {
    "duration": -636,
    "start_time": "2022-02-11T03:54:56.998Z"
   },
   {
    "duration": -587,
    "start_time": "2022-02-11T03:54:56.999Z"
   },
   {
    "duration": -587,
    "start_time": "2022-02-11T03:54:57.000Z"
   },
   {
    "duration": -587,
    "start_time": "2022-02-11T03:54:57.001Z"
   },
   {
    "duration": -587,
    "start_time": "2022-02-11T03:54:57.002Z"
   },
   {
    "duration": -587,
    "start_time": "2022-02-11T03:54:57.003Z"
   },
   {
    "duration": -587,
    "start_time": "2022-02-11T03:54:57.004Z"
   },
   {
    "duration": -587,
    "start_time": "2022-02-11T03:54:57.005Z"
   },
   {
    "duration": -587,
    "start_time": "2022-02-11T03:54:57.006Z"
   },
   {
    "duration": -587,
    "start_time": "2022-02-11T03:54:57.007Z"
   },
   {
    "duration": -587,
    "start_time": "2022-02-11T03:54:57.008Z"
   },
   {
    "duration": -587,
    "start_time": "2022-02-11T03:54:57.009Z"
   },
   {
    "duration": -587,
    "start_time": "2022-02-11T03:54:57.010Z"
   },
   {
    "duration": -587,
    "start_time": "2022-02-11T03:54:57.011Z"
   },
   {
    "duration": -587,
    "start_time": "2022-02-11T03:54:57.012Z"
   },
   {
    "duration": -587,
    "start_time": "2022-02-11T03:54:57.013Z"
   },
   {
    "duration": -587,
    "start_time": "2022-02-11T03:54:57.014Z"
   },
   {
    "duration": -587,
    "start_time": "2022-02-11T03:54:57.015Z"
   },
   {
    "duration": -587,
    "start_time": "2022-02-11T03:54:57.016Z"
   },
   {
    "duration": -587,
    "start_time": "2022-02-11T03:54:57.017Z"
   },
   {
    "duration": -591,
    "start_time": "2022-02-11T03:54:57.022Z"
   },
   {
    "duration": -592,
    "start_time": "2022-02-11T03:54:57.024Z"
   },
   {
    "duration": -592,
    "start_time": "2022-02-11T03:54:57.025Z"
   },
   {
    "duration": -592,
    "start_time": "2022-02-11T03:54:57.026Z"
   },
   {
    "duration": -592,
    "start_time": "2022-02-11T03:54:57.027Z"
   },
   {
    "duration": -592,
    "start_time": "2022-02-11T03:54:57.028Z"
   },
   {
    "duration": -592,
    "start_time": "2022-02-11T03:54:57.029Z"
   },
   {
    "duration": -592,
    "start_time": "2022-02-11T03:54:57.030Z"
   },
   {
    "duration": -592,
    "start_time": "2022-02-11T03:54:57.031Z"
   },
   {
    "duration": -592,
    "start_time": "2022-02-11T03:54:57.032Z"
   },
   {
    "duration": -592,
    "start_time": "2022-02-11T03:54:57.033Z"
   },
   {
    "duration": -592,
    "start_time": "2022-02-11T03:54:57.034Z"
   },
   {
    "duration": -592,
    "start_time": "2022-02-11T03:54:57.035Z"
   },
   {
    "duration": -592,
    "start_time": "2022-02-11T03:54:57.036Z"
   },
   {
    "duration": -592,
    "start_time": "2022-02-11T03:54:57.037Z"
   },
   {
    "duration": -592,
    "start_time": "2022-02-11T03:54:57.038Z"
   },
   {
    "duration": -592,
    "start_time": "2022-02-11T03:54:57.039Z"
   },
   {
    "duration": -592,
    "start_time": "2022-02-11T03:54:57.040Z"
   },
   {
    "duration": -592,
    "start_time": "2022-02-11T03:54:57.041Z"
   },
   {
    "duration": -592,
    "start_time": "2022-02-11T03:54:57.042Z"
   },
   {
    "duration": -592,
    "start_time": "2022-02-11T03:54:57.043Z"
   },
   {
    "duration": -532,
    "start_time": "2022-02-11T03:54:57.044Z"
   },
   {
    "duration": -532,
    "start_time": "2022-02-11T03:54:57.045Z"
   },
   {
    "duration": -532,
    "start_time": "2022-02-11T03:54:57.046Z"
   },
   {
    "duration": -533,
    "start_time": "2022-02-11T03:54:57.048Z"
   },
   {
    "duration": -532,
    "start_time": "2022-02-11T03:54:57.048Z"
   },
   {
    "duration": -533,
    "start_time": "2022-02-11T03:54:57.050Z"
   },
   {
    "duration": -532,
    "start_time": "2022-02-11T03:54:57.050Z"
   },
   {
    "duration": -532,
    "start_time": "2022-02-11T03:54:57.051Z"
   },
   {
    "duration": -532,
    "start_time": "2022-02-11T03:54:57.052Z"
   },
   {
    "duration": -531,
    "start_time": "2022-02-11T03:54:57.053Z"
   },
   {
    "duration": -532,
    "start_time": "2022-02-11T03:54:57.054Z"
   },
   {
    "duration": -532,
    "start_time": "2022-02-11T03:54:57.055Z"
   },
   {
    "duration": -532,
    "start_time": "2022-02-11T03:54:57.056Z"
   },
   {
    "duration": -532,
    "start_time": "2022-02-11T03:54:57.057Z"
   },
   {
    "duration": -533,
    "start_time": "2022-02-11T03:54:57.059Z"
   },
   {
    "duration": -533,
    "start_time": "2022-02-11T03:54:57.060Z"
   },
   {
    "duration": -533,
    "start_time": "2022-02-11T03:54:57.061Z"
   },
   {
    "duration": -533,
    "start_time": "2022-02-11T03:54:57.062Z"
   },
   {
    "duration": 88392,
    "start_time": "2022-02-11T03:55:07.751Z"
   },
   {
    "duration": 1129,
    "start_time": "2022-02-11T03:56:41.226Z"
   },
   {
    "duration": 4,
    "start_time": "2022-02-11T03:56:54.194Z"
   },
   {
    "duration": 4,
    "start_time": "2022-02-11T03:56:54.200Z"
   },
   {
    "duration": 4,
    "start_time": "2022-02-11T03:56:54.206Z"
   },
   {
    "duration": 652,
    "start_time": "2022-02-11T03:56:54.211Z"
   },
   {
    "duration": 117,
    "start_time": "2022-02-11T03:56:54.864Z"
   },
   {
    "duration": 31,
    "start_time": "2022-02-11T03:56:54.982Z"
   },
   {
    "duration": 98,
    "start_time": "2022-02-11T03:56:55.014Z"
   },
   {
    "duration": 49,
    "start_time": "2022-02-11T03:56:55.113Z"
   },
   {
    "duration": 11,
    "start_time": "2022-02-11T03:56:55.164Z"
   },
   {
    "duration": 58,
    "start_time": "2022-02-11T03:56:55.177Z"
   },
   {
    "duration": 15,
    "start_time": "2022-02-11T03:56:55.236Z"
   },
   {
    "duration": 31,
    "start_time": "2022-02-11T03:56:55.252Z"
   },
   {
    "duration": 32,
    "start_time": "2022-02-11T03:56:55.285Z"
   },
   {
    "duration": 14,
    "start_time": "2022-02-11T03:56:55.318Z"
   },
   {
    "duration": 196,
    "start_time": "2022-02-11T03:56:55.333Z"
   },
   {
    "duration": 41,
    "start_time": "2022-02-11T03:56:55.530Z"
   },
   {
    "duration": 16,
    "start_time": "2022-02-11T03:56:55.573Z"
   },
   {
    "duration": 48,
    "start_time": "2022-02-11T03:56:55.590Z"
   },
   {
    "duration": 18,
    "start_time": "2022-02-11T03:56:55.639Z"
   },
   {
    "duration": 198,
    "start_time": "2022-02-11T03:56:55.658Z"
   },
   {
    "duration": 198,
    "start_time": "2022-02-11T03:56:55.858Z"
   },
   {
    "duration": 60,
    "start_time": "2022-02-11T03:56:56.057Z"
   },
   {
    "duration": 18,
    "start_time": "2022-02-11T03:56:56.118Z"
   },
   {
    "duration": 15,
    "start_time": "2022-02-11T03:56:56.138Z"
   },
   {
    "duration": 17,
    "start_time": "2022-02-11T03:56:56.155Z"
   },
   {
    "duration": 229,
    "start_time": "2022-02-11T03:56:56.173Z"
   },
   {
    "duration": 31,
    "start_time": "2022-02-11T03:56:56.406Z"
   },
   {
    "duration": 15,
    "start_time": "2022-02-11T03:56:56.440Z"
   },
   {
    "duration": 31,
    "start_time": "2022-02-11T03:56:56.456Z"
   },
   {
    "duration": 18,
    "start_time": "2022-02-11T03:56:56.512Z"
   },
   {
    "duration": 30,
    "start_time": "2022-02-11T03:56:56.531Z"
   },
   {
    "duration": 2,
    "start_time": "2022-02-11T03:56:56.563Z"
   },
   {
    "duration": 27,
    "start_time": "2022-02-11T03:56:56.567Z"
   },
   {
    "duration": 16,
    "start_time": "2022-02-11T03:56:56.613Z"
   },
   {
    "duration": 32,
    "start_time": "2022-02-11T03:56:56.631Z"
   },
   {
    "duration": 19,
    "start_time": "2022-02-11T03:56:56.665Z"
   },
   {
    "duration": 43,
    "start_time": "2022-02-11T03:56:56.686Z"
   },
   {
    "duration": 5,
    "start_time": "2022-02-11T03:56:56.731Z"
   },
   {
    "duration": 8,
    "start_time": "2022-02-11T03:56:56.737Z"
   },
   {
    "duration": 21,
    "start_time": "2022-02-11T03:56:56.747Z"
   },
   {
    "duration": 5,
    "start_time": "2022-02-11T03:56:56.770Z"
   },
   {
    "duration": 36,
    "start_time": "2022-02-11T03:56:56.777Z"
   },
   {
    "duration": 42,
    "start_time": "2022-02-11T03:56:56.815Z"
   },
   {
    "duration": 20,
    "start_time": "2022-02-11T03:56:56.859Z"
   },
   {
    "duration": 36,
    "start_time": "2022-02-11T03:56:56.881Z"
   },
   {
    "duration": 39,
    "start_time": "2022-02-11T03:56:56.918Z"
   },
   {
    "duration": 8,
    "start_time": "2022-02-11T03:56:56.959Z"
   },
   {
    "duration": 71,
    "start_time": "2022-02-11T03:56:56.969Z"
   },
   {
    "duration": 513,
    "start_time": "2022-02-11T03:56:57.042Z"
   },
   {
    "duration": 8,
    "start_time": "2022-02-11T03:56:57.557Z"
   },
   {
    "duration": 137,
    "start_time": "2022-02-11T03:56:57.567Z"
   },
   {
    "duration": 14,
    "start_time": "2022-02-11T03:56:57.706Z"
   },
   {
    "duration": 5,
    "start_time": "2022-02-11T03:56:57.722Z"
   },
   {
    "duration": 614,
    "start_time": "2022-02-11T03:56:57.729Z"
   },
   {
    "duration": 38,
    "start_time": "2022-02-11T03:56:58.345Z"
   },
   {
    "duration": 172,
    "start_time": "2022-02-11T03:56:58.384Z"
   },
   {
    "duration": 3,
    "start_time": "2022-02-11T03:56:58.558Z"
   },
   {
    "duration": 17055,
    "start_time": "2022-02-11T03:56:58.562Z"
   },
   {
    "duration": 3,
    "start_time": "2022-02-11T03:57:15.618Z"
   },
   {
    "duration": 192,
    "start_time": "2022-02-11T03:57:15.623Z"
   },
   {
    "duration": 4,
    "start_time": "2022-02-11T03:57:15.817Z"
   },
   {
    "duration": 105,
    "start_time": "2022-02-11T03:57:15.912Z"
   },
   {
    "duration": 94,
    "start_time": "2022-02-11T03:57:16.019Z"
   },
   {
    "duration": 100,
    "start_time": "2022-02-11T03:57:16.116Z"
   },
   {
    "duration": 4,
    "start_time": "2022-02-11T03:57:16.218Z"
   },
   {
    "duration": 4,
    "start_time": "2022-02-11T03:57:16.224Z"
   },
   {
    "duration": 6,
    "start_time": "2022-02-11T03:57:16.229Z"
   },
   {
    "duration": 5,
    "start_time": "2022-02-11T03:57:16.236Z"
   },
   {
    "duration": 5,
    "start_time": "2022-02-11T03:57:16.242Z"
   },
   {
    "duration": 3,
    "start_time": "2022-02-11T03:57:16.248Z"
   },
   {
    "duration": 1779422,
    "start_time": "2022-02-11T03:57:16.253Z"
   },
   {
    "duration": 3,
    "start_time": "2022-02-11T04:26:55.676Z"
   },
   {
    "duration": 7500,
    "start_time": "2022-02-11T04:26:55.680Z"
   },
   {
    "duration": 3,
    "start_time": "2022-02-11T04:27:03.181Z"
   },
   {
    "duration": 7650,
    "start_time": "2022-02-11T04:27:03.185Z"
   },
   {
    "duration": 4,
    "start_time": "2022-02-11T04:27:10.837Z"
   },
   {
    "duration": 5,
    "start_time": "2022-02-11T04:27:10.842Z"
   },
   {
    "duration": 21803,
    "start_time": "2022-02-11T04:27:10.848Z"
   },
   {
    "duration": 3,
    "start_time": "2022-02-11T04:27:32.652Z"
   },
   {
    "duration": 14,
    "start_time": "2022-02-11T04:27:32.657Z"
   },
   {
    "duration": 9,
    "start_time": "2022-02-11T04:27:32.677Z"
   },
   {
    "duration": 16,
    "start_time": "2022-02-11T04:27:32.688Z"
   },
   {
    "duration": 5,
    "start_time": "2022-02-11T04:27:32.705Z"
   },
   {
    "duration": 92808,
    "start_time": "2022-02-11T04:27:32.711Z"
   },
   {
    "duration": 3,
    "start_time": "2022-02-11T04:29:05.521Z"
   },
   {
    "duration": 32364,
    "start_time": "2022-02-11T04:29:05.526Z"
   },
   {
    "duration": 20,
    "start_time": "2022-02-11T04:29:37.892Z"
   },
   {
    "duration": 31879,
    "start_time": "2022-02-11T04:29:37.914Z"
   },
   {
    "duration": 6,
    "start_time": "2022-02-11T04:30:09.813Z"
   },
   {
    "duration": 3,
    "start_time": "2022-02-11T04:30:09.820Z"
   },
   {
    "duration": 96312,
    "start_time": "2022-02-11T04:30:09.825Z"
   },
   {
    "duration": 4,
    "start_time": "2022-02-11T04:31:46.138Z"
   },
   {
    "duration": 7,
    "start_time": "2022-02-11T04:31:46.144Z"
   },
   {
    "duration": 6,
    "start_time": "2022-02-11T04:31:46.152Z"
   },
   {
    "duration": 7,
    "start_time": "2022-02-11T04:31:46.160Z"
   },
   {
    "duration": 3,
    "start_time": "2022-02-11T04:31:46.168Z"
   },
   {
    "duration": 39,
    "start_time": "2022-02-11T04:31:46.173Z"
   },
   {
    "duration": 353098,
    "start_time": "2022-02-11T04:31:46.214Z"
   },
   {
    "duration": 3,
    "start_time": "2022-02-11T04:37:39.313Z"
   },
   {
    "duration": 1513,
    "start_time": "2022-02-11T04:37:39.317Z"
   },
   {
    "duration": 2,
    "start_time": "2022-02-11T04:37:40.832Z"
   },
   {
    "duration": 1388,
    "start_time": "2022-02-11T04:37:40.836Z"
   },
   {
    "duration": 6,
    "start_time": "2022-02-11T04:37:42.226Z"
   },
   {
    "duration": 4,
    "start_time": "2022-02-11T04:37:42.234Z"
   },
   {
    "duration": 4310,
    "start_time": "2022-02-11T04:37:42.240Z"
   },
   {
    "duration": 10,
    "start_time": "2022-02-11T04:37:46.552Z"
   }
  ],
  "kernelspec": {
   "display_name": "Python 3 (ipykernel)",
   "language": "python",
   "name": "python3"
  },
  "language_info": {
   "codemirror_mode": {
    "name": "ipython",
    "version": 3
   },
   "file_extension": ".py",
   "mimetype": "text/x-python",
   "name": "python",
   "nbconvert_exporter": "python",
   "pygments_lexer": "ipython3",
   "version": "3.9.12"
  },
  "toc": {
   "base_numbering": 1,
   "nav_menu": {},
   "number_sections": true,
   "sideBar": true,
   "skip_h1_title": true,
   "title_cell": "Table of Contents",
   "title_sidebar": "Contents",
   "toc_cell": false,
   "toc_position": {},
   "toc_section_display": true,
   "toc_window_display": false
  }
 },
 "nbformat": 4,
 "nbformat_minor": 2
}
