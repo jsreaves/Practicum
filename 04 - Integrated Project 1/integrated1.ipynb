{
 "cells": [
  {
   "cell_type": "markdown",
   "id": "3f17a82f",
   "metadata": {},
   "source": [
    "# Introduction\n",
    "In this project, we will be analyzing video game sales data for Ice, an online store.  The data set shows video games released from 1980 to 2016.  In addition to sales broken down by region, the data shows gaming platforms, ESRB datings, user scores, and critic scores.\n",
    "\n",
    "We will begin with a preliminary data review, followed by data preprocessing.  Moving on to exploratory data analysis, we will examine the number of game releases and total sales over time.  We will examine trends for various gaming platforms and the life-cycle of a platform.  We will identify the most profitable platforms in recent years and focus further analysis on those platforms.\n",
    "\n",
    "We will examine the effect that game reviews, platform, genre on sales, and we will look at regional differences in the video game market.  Finally, we will perform statistical hypothesis testing to determine the relationship bewteen platform and user rating, and genre and user rating."
   ]
  },
  {
   "cell_type": "code",
   "execution_count": 1,
   "id": "cd6eda36",
   "metadata": {},
   "outputs": [],
   "source": [
    "import pandas as pd\n",
    "import matplotlib.pyplot as plt\n",
    "from scipy import stats as st\n",
    "import numpy as np\n",
    "from scipy.stats import levene\n",
    "import warnings\n",
    "\n",
    "warnings.filterwarnings('ignore')\n",
    "\n",
    "try:\n",
    "    df = pd.read_csv('games.csv')\n",
    "except:\n",
    "    df = pd.read_csv('/datasets/games.csv')"
   ]
  },
  {
   "cell_type": "markdown",
   "id": "33351b6f",
   "metadata": {},
   "source": [
    "# Preliminary data review\n",
    "In this section, we will take an initial look at the data to identify preprocessing requirements, including data type conversion and missing values."
   ]
  },
  {
   "cell_type": "code",
   "execution_count": 2,
   "id": "0aa6d038",
   "metadata": {},
   "outputs": [
    {
     "name": "stdout",
     "output_type": "stream",
     "text": [
      "<class 'pandas.core.frame.DataFrame'>\n",
      "RangeIndex: 16715 entries, 0 to 16714\n",
      "Data columns (total 11 columns):\n",
      " #   Column           Non-Null Count  Dtype  \n",
      "---  ------           --------------  -----  \n",
      " 0   Name             16713 non-null  object \n",
      " 1   Platform         16715 non-null  object \n",
      " 2   Year_of_Release  16446 non-null  float64\n",
      " 3   Genre            16713 non-null  object \n",
      " 4   NA_sales         16715 non-null  float64\n",
      " 5   EU_sales         16715 non-null  float64\n",
      " 6   JP_sales         16715 non-null  float64\n",
      " 7   Other_sales      16715 non-null  float64\n",
      " 8   Critic_Score     8137 non-null   float64\n",
      " 9   User_Score       10014 non-null  object \n",
      " 10  Rating           9949 non-null   object \n",
      "dtypes: float64(6), object(5)\n",
      "memory usage: 1.4+ MB\n"
     ]
    }
   ],
   "source": [
    "df.info()"
   ]
  },
  {
   "cell_type": "code",
   "execution_count": 3,
   "id": "f0f1b9de",
   "metadata": {},
   "outputs": [
    {
     "data": {
      "text/html": [
       "<div>\n",
       "<style scoped>\n",
       "    .dataframe tbody tr th:only-of-type {\n",
       "        vertical-align: middle;\n",
       "    }\n",
       "\n",
       "    .dataframe tbody tr th {\n",
       "        vertical-align: top;\n",
       "    }\n",
       "\n",
       "    .dataframe thead th {\n",
       "        text-align: right;\n",
       "    }\n",
       "</style>\n",
       "<table border=\"1\" class=\"dataframe\">\n",
       "  <thead>\n",
       "    <tr style=\"text-align: right;\">\n",
       "      <th></th>\n",
       "      <th>Name</th>\n",
       "      <th>Platform</th>\n",
       "      <th>Year_of_Release</th>\n",
       "      <th>Genre</th>\n",
       "      <th>NA_sales</th>\n",
       "      <th>EU_sales</th>\n",
       "      <th>JP_sales</th>\n",
       "      <th>Other_sales</th>\n",
       "      <th>Critic_Score</th>\n",
       "      <th>User_Score</th>\n",
       "      <th>Rating</th>\n",
       "    </tr>\n",
       "  </thead>\n",
       "  <tbody>\n",
       "    <tr>\n",
       "      <th>0</th>\n",
       "      <td>Wii Sports</td>\n",
       "      <td>Wii</td>\n",
       "      <td>2006.0</td>\n",
       "      <td>Sports</td>\n",
       "      <td>41.36</td>\n",
       "      <td>28.96</td>\n",
       "      <td>3.77</td>\n",
       "      <td>8.45</td>\n",
       "      <td>76.0</td>\n",
       "      <td>8</td>\n",
       "      <td>E</td>\n",
       "    </tr>\n",
       "    <tr>\n",
       "      <th>1</th>\n",
       "      <td>Super Mario Bros.</td>\n",
       "      <td>NES</td>\n",
       "      <td>1985.0</td>\n",
       "      <td>Platform</td>\n",
       "      <td>29.08</td>\n",
       "      <td>3.58</td>\n",
       "      <td>6.81</td>\n",
       "      <td>0.77</td>\n",
       "      <td>NaN</td>\n",
       "      <td>NaN</td>\n",
       "      <td>NaN</td>\n",
       "    </tr>\n",
       "    <tr>\n",
       "      <th>2</th>\n",
       "      <td>Mario Kart Wii</td>\n",
       "      <td>Wii</td>\n",
       "      <td>2008.0</td>\n",
       "      <td>Racing</td>\n",
       "      <td>15.68</td>\n",
       "      <td>12.76</td>\n",
       "      <td>3.79</td>\n",
       "      <td>3.29</td>\n",
       "      <td>82.0</td>\n",
       "      <td>8.3</td>\n",
       "      <td>E</td>\n",
       "    </tr>\n",
       "    <tr>\n",
       "      <th>3</th>\n",
       "      <td>Wii Sports Resort</td>\n",
       "      <td>Wii</td>\n",
       "      <td>2009.0</td>\n",
       "      <td>Sports</td>\n",
       "      <td>15.61</td>\n",
       "      <td>10.93</td>\n",
       "      <td>3.28</td>\n",
       "      <td>2.95</td>\n",
       "      <td>80.0</td>\n",
       "      <td>8</td>\n",
       "      <td>E</td>\n",
       "    </tr>\n",
       "    <tr>\n",
       "      <th>4</th>\n",
       "      <td>Pokemon Red/Pokemon Blue</td>\n",
       "      <td>GB</td>\n",
       "      <td>1996.0</td>\n",
       "      <td>Role-Playing</td>\n",
       "      <td>11.27</td>\n",
       "      <td>8.89</td>\n",
       "      <td>10.22</td>\n",
       "      <td>1.00</td>\n",
       "      <td>NaN</td>\n",
       "      <td>NaN</td>\n",
       "      <td>NaN</td>\n",
       "    </tr>\n",
       "  </tbody>\n",
       "</table>\n",
       "</div>"
      ],
      "text/plain": [
       "                       Name Platform  Year_of_Release         Genre  NA_sales  \\\n",
       "0                Wii Sports      Wii           2006.0        Sports     41.36   \n",
       "1         Super Mario Bros.      NES           1985.0      Platform     29.08   \n",
       "2            Mario Kart Wii      Wii           2008.0        Racing     15.68   \n",
       "3         Wii Sports Resort      Wii           2009.0        Sports     15.61   \n",
       "4  Pokemon Red/Pokemon Blue       GB           1996.0  Role-Playing     11.27   \n",
       "\n",
       "   EU_sales  JP_sales  Other_sales  Critic_Score User_Score Rating  \n",
       "0     28.96      3.77         8.45          76.0          8      E  \n",
       "1      3.58      6.81         0.77           NaN        NaN    NaN  \n",
       "2     12.76      3.79         3.29          82.0        8.3      E  \n",
       "3     10.93      3.28         2.95          80.0          8      E  \n",
       "4      8.89     10.22         1.00           NaN        NaN    NaN  "
      ]
     },
     "execution_count": 3,
     "metadata": {},
     "output_type": "execute_result"
    }
   ],
   "source": [
    "df.head()"
   ]
  },
  {
   "cell_type": "code",
   "execution_count": 4,
   "id": "2ad2f927",
   "metadata": {},
   "outputs": [
    {
     "data": {
      "text/html": [
       "<div>\n",
       "<style scoped>\n",
       "    .dataframe tbody tr th:only-of-type {\n",
       "        vertical-align: middle;\n",
       "    }\n",
       "\n",
       "    .dataframe tbody tr th {\n",
       "        vertical-align: top;\n",
       "    }\n",
       "\n",
       "    .dataframe thead th {\n",
       "        text-align: right;\n",
       "    }\n",
       "</style>\n",
       "<table border=\"1\" class=\"dataframe\">\n",
       "  <thead>\n",
       "    <tr style=\"text-align: right;\">\n",
       "      <th></th>\n",
       "      <th>missing_values</th>\n",
       "      <th>%</th>\n",
       "    </tr>\n",
       "  </thead>\n",
       "  <tbody>\n",
       "    <tr>\n",
       "      <th>Critic_Score</th>\n",
       "      <td>8578</td>\n",
       "      <td>0.513</td>\n",
       "    </tr>\n",
       "    <tr>\n",
       "      <th>Rating</th>\n",
       "      <td>6766</td>\n",
       "      <td>0.405</td>\n",
       "    </tr>\n",
       "    <tr>\n",
       "      <th>User_Score</th>\n",
       "      <td>6701</td>\n",
       "      <td>0.401</td>\n",
       "    </tr>\n",
       "    <tr>\n",
       "      <th>Year_of_Release</th>\n",
       "      <td>269</td>\n",
       "      <td>0.016</td>\n",
       "    </tr>\n",
       "    <tr>\n",
       "      <th>Name</th>\n",
       "      <td>2</td>\n",
       "      <td>0.000</td>\n",
       "    </tr>\n",
       "    <tr>\n",
       "      <th>Platform</th>\n",
       "      <td>0</td>\n",
       "      <td>0.000</td>\n",
       "    </tr>\n",
       "    <tr>\n",
       "      <th>Genre</th>\n",
       "      <td>2</td>\n",
       "      <td>0.000</td>\n",
       "    </tr>\n",
       "    <tr>\n",
       "      <th>NA_sales</th>\n",
       "      <td>0</td>\n",
       "      <td>0.000</td>\n",
       "    </tr>\n",
       "    <tr>\n",
       "      <th>EU_sales</th>\n",
       "      <td>0</td>\n",
       "      <td>0.000</td>\n",
       "    </tr>\n",
       "    <tr>\n",
       "      <th>JP_sales</th>\n",
       "      <td>0</td>\n",
       "      <td>0.000</td>\n",
       "    </tr>\n",
       "    <tr>\n",
       "      <th>Other_sales</th>\n",
       "      <td>0</td>\n",
       "      <td>0.000</td>\n",
       "    </tr>\n",
       "  </tbody>\n",
       "</table>\n",
       "</div>"
      ],
      "text/plain": [
       "                 missing_values      %\n",
       "Critic_Score               8578  0.513\n",
       "Rating                     6766  0.405\n",
       "User_Score                 6701  0.401\n",
       "Year_of_Release             269  0.016\n",
       "Name                          2  0.000\n",
       "Platform                      0  0.000\n",
       "Genre                         2  0.000\n",
       "NA_sales                      0  0.000\n",
       "EU_sales                      0  0.000\n",
       "JP_sales                      0  0.000\n",
       "Other_sales                   0  0.000"
      ]
     },
     "execution_count": 4,
     "metadata": {},
     "output_type": "execute_result"
    }
   ],
   "source": [
    "mis_values = df.isnull().sum().to_frame('missing_values')\n",
    "mis_values['%'] = round(df.isnull().sum()/len(df),3)\n",
    "mis_values.sort_values(by='%', ascending=False)"
   ]
  },
  {
   "cell_type": "markdown",
   "id": "bcc35e37",
   "metadata": {},
   "source": [
    "## Conclusion"
   ]
  },
  {
   "cell_type": "markdown",
   "id": "9dd2420a",
   "metadata": {},
   "source": [
    "- Column names will be converted to lowercase.\n",
    "- <code>year_of_release</code> will be converted to <code>int</code>.\n",
    "- Missing values\n",
    "    - <code>name</code>: 2 missing\n",
    "    - <code>year_of_release</code>: 269 missing\n",
    "    - <code>genre</code>: 2 missing\n",
    "    - <code>critic_score</code>: 8,578 missing\n",
    "    - <code>user_score</code>: 6,701 missing\n",
    "    - <code>rating</code>: 6,766 missing\n",
    "- Additional checks needed\n",
    "    - Consistency in naming: name, platform, genre, rating"
   ]
  },
  {
   "cell_type": "markdown",
   "id": "b93975c2",
   "metadata": {},
   "source": [
    "# Preprocessing"
   ]
  },
  {
   "cell_type": "markdown",
   "id": "b602739b",
   "metadata": {},
   "source": [
    "## Convert column names to lowercase"
   ]
  },
  {
   "cell_type": "code",
   "execution_count": 5,
   "id": "00a3ce84",
   "metadata": {},
   "outputs": [
    {
     "data": {
      "text/plain": [
       "Index(['name', 'platform', 'year_of_release', 'genre', 'na_sales', 'eu_sales',\n",
       "       'jp_sales', 'other_sales', 'critic_score', 'user_score', 'rating'],\n",
       "      dtype='object')"
      ]
     },
     "execution_count": 5,
     "metadata": {},
     "output_type": "execute_result"
    }
   ],
   "source": [
    "df.columns = df.columns.str.lower()\n",
    "df.columns"
   ]
  },
  {
   "cell_type": "markdown",
   "id": "80ccbe8f",
   "metadata": {},
   "source": [
    "## Total sales\n",
    "Calculate the total sales (the sum of sales in all regions) for each game and put these values in a separate column."
   ]
  },
  {
   "cell_type": "code",
   "execution_count": 6,
   "id": "1b03e220",
   "metadata": {},
   "outputs": [
    {
     "data": {
      "text/html": [
       "<div>\n",
       "<style scoped>\n",
       "    .dataframe tbody tr th:only-of-type {\n",
       "        vertical-align: middle;\n",
       "    }\n",
       "\n",
       "    .dataframe tbody tr th {\n",
       "        vertical-align: top;\n",
       "    }\n",
       "\n",
       "    .dataframe thead th {\n",
       "        text-align: right;\n",
       "    }\n",
       "</style>\n",
       "<table border=\"1\" class=\"dataframe\">\n",
       "  <thead>\n",
       "    <tr style=\"text-align: right;\">\n",
       "      <th></th>\n",
       "      <th>name</th>\n",
       "      <th>platform</th>\n",
       "      <th>year_of_release</th>\n",
       "      <th>genre</th>\n",
       "      <th>na_sales</th>\n",
       "      <th>eu_sales</th>\n",
       "      <th>jp_sales</th>\n",
       "      <th>other_sales</th>\n",
       "      <th>total_sales</th>\n",
       "      <th>critic_score</th>\n",
       "      <th>user_score</th>\n",
       "      <th>rating</th>\n",
       "    </tr>\n",
       "  </thead>\n",
       "  <tbody>\n",
       "    <tr>\n",
       "      <th>0</th>\n",
       "      <td>Wii Sports</td>\n",
       "      <td>Wii</td>\n",
       "      <td>2006.0</td>\n",
       "      <td>Sports</td>\n",
       "      <td>41.36</td>\n",
       "      <td>28.96</td>\n",
       "      <td>3.77</td>\n",
       "      <td>8.45</td>\n",
       "      <td>82.54</td>\n",
       "      <td>76.0</td>\n",
       "      <td>8</td>\n",
       "      <td>E</td>\n",
       "    </tr>\n",
       "    <tr>\n",
       "      <th>1</th>\n",
       "      <td>Super Mario Bros.</td>\n",
       "      <td>NES</td>\n",
       "      <td>1985.0</td>\n",
       "      <td>Platform</td>\n",
       "      <td>29.08</td>\n",
       "      <td>3.58</td>\n",
       "      <td>6.81</td>\n",
       "      <td>0.77</td>\n",
       "      <td>40.24</td>\n",
       "      <td>NaN</td>\n",
       "      <td>NaN</td>\n",
       "      <td>NaN</td>\n",
       "    </tr>\n",
       "    <tr>\n",
       "      <th>2</th>\n",
       "      <td>Mario Kart Wii</td>\n",
       "      <td>Wii</td>\n",
       "      <td>2008.0</td>\n",
       "      <td>Racing</td>\n",
       "      <td>15.68</td>\n",
       "      <td>12.76</td>\n",
       "      <td>3.79</td>\n",
       "      <td>3.29</td>\n",
       "      <td>35.52</td>\n",
       "      <td>82.0</td>\n",
       "      <td>8.3</td>\n",
       "      <td>E</td>\n",
       "    </tr>\n",
       "    <tr>\n",
       "      <th>3</th>\n",
       "      <td>Wii Sports Resort</td>\n",
       "      <td>Wii</td>\n",
       "      <td>2009.0</td>\n",
       "      <td>Sports</td>\n",
       "      <td>15.61</td>\n",
       "      <td>10.93</td>\n",
       "      <td>3.28</td>\n",
       "      <td>2.95</td>\n",
       "      <td>32.77</td>\n",
       "      <td>80.0</td>\n",
       "      <td>8</td>\n",
       "      <td>E</td>\n",
       "    </tr>\n",
       "    <tr>\n",
       "      <th>4</th>\n",
       "      <td>Pokemon Red/Pokemon Blue</td>\n",
       "      <td>GB</td>\n",
       "      <td>1996.0</td>\n",
       "      <td>Role-Playing</td>\n",
       "      <td>11.27</td>\n",
       "      <td>8.89</td>\n",
       "      <td>10.22</td>\n",
       "      <td>1.00</td>\n",
       "      <td>31.38</td>\n",
       "      <td>NaN</td>\n",
       "      <td>NaN</td>\n",
       "      <td>NaN</td>\n",
       "    </tr>\n",
       "  </tbody>\n",
       "</table>\n",
       "</div>"
      ],
      "text/plain": [
       "                       name platform  year_of_release         genre  na_sales  \\\n",
       "0                Wii Sports      Wii           2006.0        Sports     41.36   \n",
       "1         Super Mario Bros.      NES           1985.0      Platform     29.08   \n",
       "2            Mario Kart Wii      Wii           2008.0        Racing     15.68   \n",
       "3         Wii Sports Resort      Wii           2009.0        Sports     15.61   \n",
       "4  Pokemon Red/Pokemon Blue       GB           1996.0  Role-Playing     11.27   \n",
       "\n",
       "   eu_sales  jp_sales  other_sales  total_sales  critic_score user_score  \\\n",
       "0     28.96      3.77         8.45        82.54          76.0          8   \n",
       "1      3.58      6.81         0.77        40.24           NaN        NaN   \n",
       "2     12.76      3.79         3.29        35.52          82.0        8.3   \n",
       "3     10.93      3.28         2.95        32.77          80.0          8   \n",
       "4      8.89     10.22         1.00        31.38           NaN        NaN   \n",
       "\n",
       "  rating  \n",
       "0      E  \n",
       "1    NaN  \n",
       "2      E  \n",
       "3      E  \n",
       "4    NaN  "
      ]
     },
     "execution_count": 6,
     "metadata": {},
     "output_type": "execute_result"
    }
   ],
   "source": [
    "df.insert(8, 'total_sales', df[['na_sales','eu_sales','jp_sales', 'other_sales']].sum(axis = 1))\n",
    "df.head()"
   ]
  },
  {
   "cell_type": "markdown",
   "id": "34f5cca1",
   "metadata": {},
   "source": [
    "## name"
   ]
  },
  {
   "cell_type": "code",
   "execution_count": 7,
   "id": "cecba5c7",
   "metadata": {},
   "outputs": [
    {
     "data": {
      "text/html": [
       "<div>\n",
       "<style scoped>\n",
       "    .dataframe tbody tr th:only-of-type {\n",
       "        vertical-align: middle;\n",
       "    }\n",
       "\n",
       "    .dataframe tbody tr th {\n",
       "        vertical-align: top;\n",
       "    }\n",
       "\n",
       "    .dataframe thead th {\n",
       "        text-align: right;\n",
       "    }\n",
       "</style>\n",
       "<table border=\"1\" class=\"dataframe\">\n",
       "  <thead>\n",
       "    <tr style=\"text-align: right;\">\n",
       "      <th></th>\n",
       "      <th>name</th>\n",
       "      <th>platform</th>\n",
       "      <th>year_of_release</th>\n",
       "      <th>genre</th>\n",
       "      <th>na_sales</th>\n",
       "      <th>eu_sales</th>\n",
       "      <th>jp_sales</th>\n",
       "      <th>other_sales</th>\n",
       "      <th>total_sales</th>\n",
       "      <th>critic_score</th>\n",
       "      <th>user_score</th>\n",
       "      <th>rating</th>\n",
       "    </tr>\n",
       "  </thead>\n",
       "  <tbody>\n",
       "    <tr>\n",
       "      <th>659</th>\n",
       "      <td>NaN</td>\n",
       "      <td>GEN</td>\n",
       "      <td>1993.0</td>\n",
       "      <td>NaN</td>\n",
       "      <td>1.78</td>\n",
       "      <td>0.53</td>\n",
       "      <td>0.00</td>\n",
       "      <td>0.08</td>\n",
       "      <td>2.39</td>\n",
       "      <td>NaN</td>\n",
       "      <td>NaN</td>\n",
       "      <td>NaN</td>\n",
       "    </tr>\n",
       "    <tr>\n",
       "      <th>14244</th>\n",
       "      <td>NaN</td>\n",
       "      <td>GEN</td>\n",
       "      <td>1993.0</td>\n",
       "      <td>NaN</td>\n",
       "      <td>0.00</td>\n",
       "      <td>0.00</td>\n",
       "      <td>0.03</td>\n",
       "      <td>0.00</td>\n",
       "      <td>0.03</td>\n",
       "      <td>NaN</td>\n",
       "      <td>NaN</td>\n",
       "      <td>NaN</td>\n",
       "    </tr>\n",
       "  </tbody>\n",
       "</table>\n",
       "</div>"
      ],
      "text/plain": [
       "      name platform  year_of_release genre  na_sales  eu_sales  jp_sales  \\\n",
       "659    NaN      GEN           1993.0   NaN      1.78      0.53      0.00   \n",
       "14244  NaN      GEN           1993.0   NaN      0.00      0.00      0.03   \n",
       "\n",
       "       other_sales  total_sales  critic_score user_score rating  \n",
       "659           0.08         2.39           NaN        NaN    NaN  \n",
       "14244         0.00         0.03           NaN        NaN    NaN  "
      ]
     },
     "execution_count": 7,
     "metadata": {},
     "output_type": "execute_result"
    }
   ],
   "source": [
    "df[df['name'].isna()]"
   ]
  },
  {
   "cell_type": "markdown",
   "id": "1b8d3fae",
   "metadata": {},
   "source": [
    "In our preliminary data review, we found 2 missing values for the <code>name</code> and <code>genre</code> fields.  Here, we see that the missing values belong to the same 2 rows, and these rows are missing other fields as well.  We will drop them from the dataframe."
   ]
  },
  {
   "cell_type": "code",
   "execution_count": 8,
   "id": "c7215060",
   "metadata": {},
   "outputs": [],
   "source": [
    "df.drop(df[df['name'].isna()].index, inplace=True)"
   ]
  },
  {
   "cell_type": "markdown",
   "id": "ed2b6eb0",
   "metadata": {},
   "source": [
    "## platform"
   ]
  },
  {
   "cell_type": "code",
   "execution_count": 9,
   "id": "ab61f67a",
   "metadata": {},
   "outputs": [
    {
     "data": {
      "text/plain": [
       "2600     133\n",
       "3DO        3\n",
       "3DS      520\n",
       "DC        52\n",
       "DS      2151\n",
       "GB        98\n",
       "GBA      822\n",
       "GC       556\n",
       "GEN       27\n",
       "GG         1\n",
       "N64      319\n",
       "NES       98\n",
       "NG        12\n",
       "PC       974\n",
       "PCFX       1\n",
       "PS      1197\n",
       "PS2     2161\n",
       "PS3     1331\n",
       "PS4      392\n",
       "PSP     1209\n",
       "PSV      430\n",
       "SAT      173\n",
       "SCD        6\n",
       "SNES     239\n",
       "TG16       2\n",
       "WS         6\n",
       "Wii     1320\n",
       "WiiU     147\n",
       "X360    1262\n",
       "XB       824\n",
       "XOne     247\n",
       "Name: platform, dtype: int64"
      ]
     },
     "execution_count": 9,
     "metadata": {},
     "output_type": "execute_result"
    }
   ],
   "source": [
    "df['platform'].value_counts().sort_index()"
   ]
  },
  {
   "cell_type": "markdown",
   "id": "57003987",
   "metadata": {},
   "source": [
    "There do not appear to be any duplicates or inconsistencies in the <code>platform</code> field."
   ]
  },
  {
   "cell_type": "markdown",
   "id": "6d8a5cd6",
   "metadata": {},
   "source": [
    "## year_of_release"
   ]
  },
  {
   "cell_type": "code",
   "execution_count": 10,
   "id": "58fbe630",
   "metadata": {},
   "outputs": [
    {
     "data": {
      "text/plain": [
       "269"
      ]
     },
     "execution_count": 10,
     "metadata": {},
     "output_type": "execute_result"
    }
   ],
   "source": [
    "df['year_of_release'].isna().sum()"
   ]
  },
  {
   "cell_type": "code",
   "execution_count": 11,
   "id": "14a28bce",
   "metadata": {},
   "outputs": [
    {
     "data": {
      "text/html": [
       "<div>\n",
       "<style scoped>\n",
       "    .dataframe tbody tr th:only-of-type {\n",
       "        vertical-align: middle;\n",
       "    }\n",
       "\n",
       "    .dataframe tbody tr th {\n",
       "        vertical-align: top;\n",
       "    }\n",
       "\n",
       "    .dataframe thead th {\n",
       "        text-align: right;\n",
       "    }\n",
       "</style>\n",
       "<table border=\"1\" class=\"dataframe\">\n",
       "  <thead>\n",
       "    <tr style=\"text-align: right;\">\n",
       "      <th></th>\n",
       "      <th>name</th>\n",
       "      <th>platform</th>\n",
       "      <th>year_of_release</th>\n",
       "      <th>genre</th>\n",
       "      <th>na_sales</th>\n",
       "      <th>eu_sales</th>\n",
       "      <th>jp_sales</th>\n",
       "      <th>other_sales</th>\n",
       "      <th>total_sales</th>\n",
       "      <th>critic_score</th>\n",
       "      <th>user_score</th>\n",
       "      <th>rating</th>\n",
       "    </tr>\n",
       "  </thead>\n",
       "  <tbody>\n",
       "    <tr>\n",
       "      <th>183</th>\n",
       "      <td>Madden NFL 2004</td>\n",
       "      <td>PS2</td>\n",
       "      <td>NaN</td>\n",
       "      <td>Sports</td>\n",
       "      <td>4.26</td>\n",
       "      <td>0.26</td>\n",
       "      <td>0.01</td>\n",
       "      <td>0.71</td>\n",
       "      <td>5.24</td>\n",
       "      <td>94.0</td>\n",
       "      <td>8.5</td>\n",
       "      <td>E</td>\n",
       "    </tr>\n",
       "    <tr>\n",
       "      <th>377</th>\n",
       "      <td>FIFA Soccer 2004</td>\n",
       "      <td>PS2</td>\n",
       "      <td>NaN</td>\n",
       "      <td>Sports</td>\n",
       "      <td>0.59</td>\n",
       "      <td>2.36</td>\n",
       "      <td>0.04</td>\n",
       "      <td>0.51</td>\n",
       "      <td>3.50</td>\n",
       "      <td>84.0</td>\n",
       "      <td>6.4</td>\n",
       "      <td>E</td>\n",
       "    </tr>\n",
       "    <tr>\n",
       "      <th>456</th>\n",
       "      <td>LEGO Batman: The Videogame</td>\n",
       "      <td>Wii</td>\n",
       "      <td>NaN</td>\n",
       "      <td>Action</td>\n",
       "      <td>1.80</td>\n",
       "      <td>0.97</td>\n",
       "      <td>0.00</td>\n",
       "      <td>0.29</td>\n",
       "      <td>3.06</td>\n",
       "      <td>74.0</td>\n",
       "      <td>7.9</td>\n",
       "      <td>E10+</td>\n",
       "    </tr>\n",
       "    <tr>\n",
       "      <th>475</th>\n",
       "      <td>wwe Smackdown vs. Raw 2006</td>\n",
       "      <td>PS2</td>\n",
       "      <td>NaN</td>\n",
       "      <td>Fighting</td>\n",
       "      <td>1.57</td>\n",
       "      <td>1.02</td>\n",
       "      <td>0.00</td>\n",
       "      <td>0.41</td>\n",
       "      <td>3.00</td>\n",
       "      <td>NaN</td>\n",
       "      <td>NaN</td>\n",
       "      <td>NaN</td>\n",
       "    </tr>\n",
       "    <tr>\n",
       "      <th>609</th>\n",
       "      <td>Space Invaders</td>\n",
       "      <td>2600</td>\n",
       "      <td>NaN</td>\n",
       "      <td>Shooter</td>\n",
       "      <td>2.36</td>\n",
       "      <td>0.14</td>\n",
       "      <td>0.00</td>\n",
       "      <td>0.03</td>\n",
       "      <td>2.53</td>\n",
       "      <td>NaN</td>\n",
       "      <td>NaN</td>\n",
       "      <td>NaN</td>\n",
       "    </tr>\n",
       "  </tbody>\n",
       "</table>\n",
       "</div>"
      ],
      "text/plain": [
       "                           name platform  year_of_release     genre  na_sales  \\\n",
       "183             Madden NFL 2004      PS2              NaN    Sports      4.26   \n",
       "377            FIFA Soccer 2004      PS2              NaN    Sports      0.59   \n",
       "456  LEGO Batman: The Videogame      Wii              NaN    Action      1.80   \n",
       "475  wwe Smackdown vs. Raw 2006      PS2              NaN  Fighting      1.57   \n",
       "609              Space Invaders     2600              NaN   Shooter      2.36   \n",
       "\n",
       "     eu_sales  jp_sales  other_sales  total_sales  critic_score user_score  \\\n",
       "183      0.26      0.01         0.71         5.24          94.0        8.5   \n",
       "377      2.36      0.04         0.51         3.50          84.0        6.4   \n",
       "456      0.97      0.00         0.29         3.06          74.0        7.9   \n",
       "475      1.02      0.00         0.41         3.00           NaN        NaN   \n",
       "609      0.14      0.00         0.03         2.53           NaN        NaN   \n",
       "\n",
       "    rating  \n",
       "183      E  \n",
       "377      E  \n",
       "456   E10+  \n",
       "475    NaN  \n",
       "609    NaN  "
      ]
     },
     "execution_count": 11,
     "metadata": {},
     "output_type": "execute_result"
    }
   ],
   "source": [
    "df[df['year_of_release'].isna()].head()"
   ]
  },
  {
   "cell_type": "code",
   "execution_count": 12,
   "id": "d207a498",
   "metadata": {},
   "outputs": [
    {
     "data": {
      "text/html": [
       "<div>\n",
       "<style scoped>\n",
       "    .dataframe tbody tr th:only-of-type {\n",
       "        vertical-align: middle;\n",
       "    }\n",
       "\n",
       "    .dataframe tbody tr th {\n",
       "        vertical-align: top;\n",
       "    }\n",
       "\n",
       "    .dataframe thead th {\n",
       "        text-align: right;\n",
       "    }\n",
       "</style>\n",
       "<table border=\"1\" class=\"dataframe\">\n",
       "  <thead>\n",
       "    <tr style=\"text-align: right;\">\n",
       "      <th></th>\n",
       "      <th>name</th>\n",
       "      <th>platform</th>\n",
       "      <th>year_of_release</th>\n",
       "      <th>genre</th>\n",
       "      <th>na_sales</th>\n",
       "      <th>eu_sales</th>\n",
       "      <th>jp_sales</th>\n",
       "      <th>other_sales</th>\n",
       "      <th>total_sales</th>\n",
       "      <th>critic_score</th>\n",
       "      <th>user_score</th>\n",
       "      <th>rating</th>\n",
       "    </tr>\n",
       "  </thead>\n",
       "  <tbody>\n",
       "    <tr>\n",
       "      <th>183</th>\n",
       "      <td>Madden NFL 2004</td>\n",
       "      <td>PS2</td>\n",
       "      <td>NaN</td>\n",
       "      <td>Sports</td>\n",
       "      <td>4.26</td>\n",
       "      <td>0.26</td>\n",
       "      <td>0.01</td>\n",
       "      <td>0.71</td>\n",
       "      <td>5.24</td>\n",
       "      <td>94.0</td>\n",
       "      <td>8.5</td>\n",
       "      <td>E</td>\n",
       "    </tr>\n",
       "    <tr>\n",
       "      <th>1881</th>\n",
       "      <td>Madden NFL 2004</td>\n",
       "      <td>XB</td>\n",
       "      <td>2003.0</td>\n",
       "      <td>Sports</td>\n",
       "      <td>1.02</td>\n",
       "      <td>0.02</td>\n",
       "      <td>0.00</td>\n",
       "      <td>0.05</td>\n",
       "      <td>1.09</td>\n",
       "      <td>92.0</td>\n",
       "      <td>8.3</td>\n",
       "      <td>E</td>\n",
       "    </tr>\n",
       "    <tr>\n",
       "      <th>3889</th>\n",
       "      <td>Madden NFL 2004</td>\n",
       "      <td>GC</td>\n",
       "      <td>2003.0</td>\n",
       "      <td>Sports</td>\n",
       "      <td>0.40</td>\n",
       "      <td>0.10</td>\n",
       "      <td>0.00</td>\n",
       "      <td>0.01</td>\n",
       "      <td>0.51</td>\n",
       "      <td>94.0</td>\n",
       "      <td>7.7</td>\n",
       "      <td>E</td>\n",
       "    </tr>\n",
       "    <tr>\n",
       "      <th>5708</th>\n",
       "      <td>Madden NFL 2004</td>\n",
       "      <td>GBA</td>\n",
       "      <td>2003.0</td>\n",
       "      <td>Sports</td>\n",
       "      <td>0.22</td>\n",
       "      <td>0.08</td>\n",
       "      <td>0.00</td>\n",
       "      <td>0.01</td>\n",
       "      <td>0.31</td>\n",
       "      <td>70.0</td>\n",
       "      <td>6.6</td>\n",
       "      <td>E</td>\n",
       "    </tr>\n",
       "  </tbody>\n",
       "</table>\n",
       "</div>"
      ],
      "text/plain": [
       "                 name platform  year_of_release   genre  na_sales  eu_sales  \\\n",
       "183   Madden NFL 2004      PS2              NaN  Sports      4.26      0.26   \n",
       "1881  Madden NFL 2004       XB           2003.0  Sports      1.02      0.02   \n",
       "3889  Madden NFL 2004       GC           2003.0  Sports      0.40      0.10   \n",
       "5708  Madden NFL 2004      GBA           2003.0  Sports      0.22      0.08   \n",
       "\n",
       "      jp_sales  other_sales  total_sales  critic_score user_score rating  \n",
       "183       0.01         0.71         5.24          94.0        8.5      E  \n",
       "1881      0.00         0.05         1.09          92.0        8.3      E  \n",
       "3889      0.00         0.01         0.51          94.0        7.7      E  \n",
       "5708      0.00         0.01         0.31          70.0        6.6      E  "
      ]
     },
     "execution_count": 12,
     "metadata": {},
     "output_type": "execute_result"
    }
   ],
   "source": [
    "df[df['name'] == 'Madden NFL 2004']"
   ]
  },
  {
   "cell_type": "code",
   "execution_count": 13,
   "id": "ad29f381",
   "metadata": {},
   "outputs": [
    {
     "data": {
      "text/html": [
       "<div>\n",
       "<style scoped>\n",
       "    .dataframe tbody tr th:only-of-type {\n",
       "        vertical-align: middle;\n",
       "    }\n",
       "\n",
       "    .dataframe tbody tr th {\n",
       "        vertical-align: top;\n",
       "    }\n",
       "\n",
       "    .dataframe thead th {\n",
       "        text-align: right;\n",
       "    }\n",
       "</style>\n",
       "<table border=\"1\" class=\"dataframe\">\n",
       "  <thead>\n",
       "    <tr style=\"text-align: right;\">\n",
       "      <th></th>\n",
       "      <th>name</th>\n",
       "      <th>platform</th>\n",
       "      <th>year_of_release</th>\n",
       "      <th>genre</th>\n",
       "      <th>na_sales</th>\n",
       "      <th>eu_sales</th>\n",
       "      <th>jp_sales</th>\n",
       "      <th>other_sales</th>\n",
       "      <th>total_sales</th>\n",
       "      <th>critic_score</th>\n",
       "      <th>user_score</th>\n",
       "      <th>rating</th>\n",
       "    </tr>\n",
       "  </thead>\n",
       "  <tbody>\n",
       "    <tr>\n",
       "      <th>183</th>\n",
       "      <td>Madden NFL 2004</td>\n",
       "      <td>PS2</td>\n",
       "      <td>2003.0</td>\n",
       "      <td>Sports</td>\n",
       "      <td>4.26</td>\n",
       "      <td>0.26</td>\n",
       "      <td>0.01</td>\n",
       "      <td>0.71</td>\n",
       "      <td>5.24</td>\n",
       "      <td>94.0</td>\n",
       "      <td>8.5</td>\n",
       "      <td>E</td>\n",
       "    </tr>\n",
       "    <tr>\n",
       "      <th>1881</th>\n",
       "      <td>Madden NFL 2004</td>\n",
       "      <td>XB</td>\n",
       "      <td>2003.0</td>\n",
       "      <td>Sports</td>\n",
       "      <td>1.02</td>\n",
       "      <td>0.02</td>\n",
       "      <td>0.00</td>\n",
       "      <td>0.05</td>\n",
       "      <td>1.09</td>\n",
       "      <td>92.0</td>\n",
       "      <td>8.3</td>\n",
       "      <td>E</td>\n",
       "    </tr>\n",
       "    <tr>\n",
       "      <th>3889</th>\n",
       "      <td>Madden NFL 2004</td>\n",
       "      <td>GC</td>\n",
       "      <td>2003.0</td>\n",
       "      <td>Sports</td>\n",
       "      <td>0.40</td>\n",
       "      <td>0.10</td>\n",
       "      <td>0.00</td>\n",
       "      <td>0.01</td>\n",
       "      <td>0.51</td>\n",
       "      <td>94.0</td>\n",
       "      <td>7.7</td>\n",
       "      <td>E</td>\n",
       "    </tr>\n",
       "    <tr>\n",
       "      <th>5708</th>\n",
       "      <td>Madden NFL 2004</td>\n",
       "      <td>GBA</td>\n",
       "      <td>2003.0</td>\n",
       "      <td>Sports</td>\n",
       "      <td>0.22</td>\n",
       "      <td>0.08</td>\n",
       "      <td>0.00</td>\n",
       "      <td>0.01</td>\n",
       "      <td>0.31</td>\n",
       "      <td>70.0</td>\n",
       "      <td>6.6</td>\n",
       "      <td>E</td>\n",
       "    </tr>\n",
       "  </tbody>\n",
       "</table>\n",
       "</div>"
      ],
      "text/plain": [
       "                 name platform  year_of_release   genre  na_sales  eu_sales  \\\n",
       "183   Madden NFL 2004      PS2           2003.0  Sports      4.26      0.26   \n",
       "1881  Madden NFL 2004       XB           2003.0  Sports      1.02      0.02   \n",
       "3889  Madden NFL 2004       GC           2003.0  Sports      0.40      0.10   \n",
       "5708  Madden NFL 2004      GBA           2003.0  Sports      0.22      0.08   \n",
       "\n",
       "      jp_sales  other_sales  total_sales  critic_score user_score rating  \n",
       "183       0.01         0.71         5.24          94.0        8.5      E  \n",
       "1881      0.00         0.05         1.09          92.0        8.3      E  \n",
       "3889      0.00         0.01         0.51          94.0        7.7      E  \n",
       "5708      0.00         0.01         0.31          70.0        6.6      E  "
      ]
     },
     "execution_count": 13,
     "metadata": {},
     "output_type": "execute_result"
    }
   ],
   "source": [
    "df['year_of_release'] = df.groupby('name')['year_of_release'].apply(lambda x: x.fillna(x.mean()))\n",
    "df[df['name'] == 'Madden NFL 2004']"
   ]
  },
  {
   "cell_type": "code",
   "execution_count": 14,
   "id": "df23d264",
   "metadata": {},
   "outputs": [
    {
     "data": {
      "text/plain": [
       "146"
      ]
     },
     "execution_count": 14,
     "metadata": {},
     "output_type": "execute_result"
    }
   ],
   "source": [
    "df['year_of_release'].isna().sum()"
   ]
  },
  {
   "cell_type": "markdown",
   "id": "351e1029",
   "metadata": {},
   "source": [
    "Initially, there were 269 missing values for <code>year_of_release</code>.  In some cases, the data set did have a <code>year_of_release</code> for the the same game on other platforms.  Assuming that games are released on different platforms in the same year, we were able to fill in some of the missing values.  (In later sections, we will employ a similar process to fill other missing values.)\n",
    "\n",
    "Unfortunately, we were left with 146 missing values for <code>year_of_release</code>.  There is no intuitive way to fill these missing values, and since the proportion of missing values is small (<2%), we will simply delete them."
   ]
  },
  {
   "cell_type": "code",
   "execution_count": 15,
   "id": "52e0c565",
   "metadata": {},
   "outputs": [
    {
     "data": {
      "text/plain": [
       "0"
      ]
     },
     "execution_count": 15,
     "metadata": {},
     "output_type": "execute_result"
    }
   ],
   "source": [
    "df.drop(df[df['year_of_release'].isna()].index, inplace=True)\n",
    "df['year_of_release'].isna().sum()"
   ]
  },
  {
   "cell_type": "markdown",
   "id": "57b3e282",
   "metadata": {},
   "source": [
    "Finally, we will convert <code>year_of_release</code> to <code>int<code>."
   ]
  },
  {
   "cell_type": "code",
   "execution_count": 16,
   "id": "33c1ada2",
   "metadata": {},
   "outputs": [],
   "source": [
    "df['year_of_release'] = df['year_of_release'].fillna(0).astype(int)"
   ]
  },
  {
   "cell_type": "markdown",
   "id": "7e098bc0",
   "metadata": {},
   "source": [
    "## genre\n",
    "2 missing values handled above"
   ]
  },
  {
   "cell_type": "code",
   "execution_count": 17,
   "id": "01dd3f7b",
   "metadata": {},
   "outputs": [
    {
     "data": {
      "text/plain": [
       "Action          3342\n",
       "Sports          2333\n",
       "Misc            1735\n",
       "Role-Playing    1484\n",
       "Shooter         1311\n",
       "Adventure       1294\n",
       "Racing          1236\n",
       "Platform         879\n",
       "Simulation       860\n",
       "Fighting         842\n",
       "Strategy         678\n",
       "Puzzle           573\n",
       "Name: genre, dtype: int64"
      ]
     },
     "execution_count": 17,
     "metadata": {},
     "output_type": "execute_result"
    }
   ],
   "source": [
    "df['genre'].value_counts()"
   ]
  },
  {
   "cell_type": "markdown",
   "id": "e5ed0380",
   "metadata": {},
   "source": [
    "There are no obvious duplications or inconsistencies in the <code>genre</code> field."
   ]
  },
  {
   "cell_type": "markdown",
   "id": "4eeb8bce",
   "metadata": {},
   "source": [
    "## critic_score"
   ]
  },
  {
   "cell_type": "code",
   "execution_count": 18,
   "id": "6ddb416b",
   "metadata": {},
   "outputs": [
    {
     "data": {
      "text/plain": [
       "8492"
      ]
     },
     "execution_count": 18,
     "metadata": {},
     "output_type": "execute_result"
    }
   ],
   "source": [
    "df['critic_score'].isna().sum()"
   ]
  },
  {
   "cell_type": "code",
   "execution_count": 19,
   "id": "f68364de",
   "metadata": {},
   "outputs": [
    {
     "data": {
      "text/html": [
       "<div>\n",
       "<style scoped>\n",
       "    .dataframe tbody tr th:only-of-type {\n",
       "        vertical-align: middle;\n",
       "    }\n",
       "\n",
       "    .dataframe tbody tr th {\n",
       "        vertical-align: top;\n",
       "    }\n",
       "\n",
       "    .dataframe thead th {\n",
       "        text-align: right;\n",
       "    }\n",
       "</style>\n",
       "<table border=\"1\" class=\"dataframe\">\n",
       "  <thead>\n",
       "    <tr style=\"text-align: right;\">\n",
       "      <th></th>\n",
       "      <th>name</th>\n",
       "      <th>platform</th>\n",
       "      <th>year_of_release</th>\n",
       "      <th>genre</th>\n",
       "      <th>na_sales</th>\n",
       "      <th>eu_sales</th>\n",
       "      <th>jp_sales</th>\n",
       "      <th>other_sales</th>\n",
       "      <th>total_sales</th>\n",
       "      <th>critic_score</th>\n",
       "      <th>user_score</th>\n",
       "      <th>rating</th>\n",
       "    </tr>\n",
       "  </thead>\n",
       "  <tbody>\n",
       "    <tr>\n",
       "      <th>1</th>\n",
       "      <td>Super Mario Bros.</td>\n",
       "      <td>NES</td>\n",
       "      <td>1985</td>\n",
       "      <td>Platform</td>\n",
       "      <td>29.08</td>\n",
       "      <td>3.58</td>\n",
       "      <td>6.81</td>\n",
       "      <td>0.77</td>\n",
       "      <td>40.24</td>\n",
       "      <td>NaN</td>\n",
       "      <td>NaN</td>\n",
       "      <td>NaN</td>\n",
       "    </tr>\n",
       "    <tr>\n",
       "      <th>4</th>\n",
       "      <td>Pokemon Red/Pokemon Blue</td>\n",
       "      <td>GB</td>\n",
       "      <td>1996</td>\n",
       "      <td>Role-Playing</td>\n",
       "      <td>11.27</td>\n",
       "      <td>8.89</td>\n",
       "      <td>10.22</td>\n",
       "      <td>1.00</td>\n",
       "      <td>31.38</td>\n",
       "      <td>NaN</td>\n",
       "      <td>NaN</td>\n",
       "      <td>NaN</td>\n",
       "    </tr>\n",
       "    <tr>\n",
       "      <th>5</th>\n",
       "      <td>Tetris</td>\n",
       "      <td>GB</td>\n",
       "      <td>1989</td>\n",
       "      <td>Puzzle</td>\n",
       "      <td>23.20</td>\n",
       "      <td>2.26</td>\n",
       "      <td>4.22</td>\n",
       "      <td>0.58</td>\n",
       "      <td>30.26</td>\n",
       "      <td>NaN</td>\n",
       "      <td>NaN</td>\n",
       "      <td>NaN</td>\n",
       "    </tr>\n",
       "    <tr>\n",
       "      <th>9</th>\n",
       "      <td>Duck Hunt</td>\n",
       "      <td>NES</td>\n",
       "      <td>1984</td>\n",
       "      <td>Shooter</td>\n",
       "      <td>26.93</td>\n",
       "      <td>0.63</td>\n",
       "      <td>0.28</td>\n",
       "      <td>0.47</td>\n",
       "      <td>28.31</td>\n",
       "      <td>NaN</td>\n",
       "      <td>NaN</td>\n",
       "      <td>NaN</td>\n",
       "    </tr>\n",
       "    <tr>\n",
       "      <th>10</th>\n",
       "      <td>Nintendogs</td>\n",
       "      <td>DS</td>\n",
       "      <td>2005</td>\n",
       "      <td>Simulation</td>\n",
       "      <td>9.05</td>\n",
       "      <td>10.95</td>\n",
       "      <td>1.93</td>\n",
       "      <td>2.74</td>\n",
       "      <td>24.67</td>\n",
       "      <td>NaN</td>\n",
       "      <td>NaN</td>\n",
       "      <td>NaN</td>\n",
       "    </tr>\n",
       "  </tbody>\n",
       "</table>\n",
       "</div>"
      ],
      "text/plain": [
       "                        name platform  year_of_release         genre  \\\n",
       "1          Super Mario Bros.      NES             1985      Platform   \n",
       "4   Pokemon Red/Pokemon Blue       GB             1996  Role-Playing   \n",
       "5                     Tetris       GB             1989        Puzzle   \n",
       "9                  Duck Hunt      NES             1984       Shooter   \n",
       "10                Nintendogs       DS             2005    Simulation   \n",
       "\n",
       "    na_sales  eu_sales  jp_sales  other_sales  total_sales  critic_score  \\\n",
       "1      29.08      3.58      6.81         0.77        40.24           NaN   \n",
       "4      11.27      8.89     10.22         1.00        31.38           NaN   \n",
       "5      23.20      2.26      4.22         0.58        30.26           NaN   \n",
       "9      26.93      0.63      0.28         0.47        28.31           NaN   \n",
       "10      9.05     10.95      1.93         2.74        24.67           NaN   \n",
       "\n",
       "   user_score rating  \n",
       "1         NaN    NaN  \n",
       "4         NaN    NaN  \n",
       "5         NaN    NaN  \n",
       "9         NaN    NaN  \n",
       "10        NaN    NaN  "
      ]
     },
     "execution_count": 19,
     "metadata": {},
     "output_type": "execute_result"
    }
   ],
   "source": [
    "df[df['critic_score'].isna()].head()"
   ]
  },
  {
   "cell_type": "code",
   "execution_count": 20,
   "id": "85acddc5",
   "metadata": {},
   "outputs": [],
   "source": [
    "df['critic_score'] = df.groupby('name')['critic_score'].apply(lambda x: x.fillna(x.mean()))"
   ]
  },
  {
   "cell_type": "code",
   "execution_count": 21,
   "id": "861507dd",
   "metadata": {},
   "outputs": [
    {
     "data": {
      "text/plain": [
       "7532"
      ]
     },
     "execution_count": 21,
     "metadata": {},
     "output_type": "execute_result"
    }
   ],
   "source": [
    "df['critic_score'].isna().sum()"
   ]
  },
  {
   "cell_type": "markdown",
   "id": "25df3dc3",
   "metadata": {},
   "source": [
    "We were able to fill 961 values for <code>critic_score</code> using the method described above for <code>year_of_release</code>.  We are still missing <code>critic_score</code> for almost half of the records in the data set.  There does not appear to be a reliable way to fill in these missing values, and filling in such a large proportion of the data set with estimates would probably lead to erroneous conclusions.  We will leave the records in the data set, and when necessary, we will filter out records with missing <code>critic_score</code>s."
   ]
  },
  {
   "cell_type": "code",
   "execution_count": 22,
   "id": "edd5281d",
   "metadata": {},
   "outputs": [],
   "source": [
    "# Replace NaN values with -5 and convert to float\n",
    "df['critic_score'] = df['critic_score'].replace(np.NaN, -5)\n",
    "df['critic_score'] = df['critic_score'].astype('int')"
   ]
  },
  {
   "cell_type": "markdown",
   "id": "df5f2e42",
   "metadata": {},
   "source": [
    "There is some consolation for the large number of missing values.  Though not shown here, analysis shows that records with missing <code>critic_score</code>s tend to be for older games (mean <code>year_of_release</code> 1983 for games with missing scores, vs. 1993 for others) and lower-revenue games (0.38 for games with missing scores, vs. 0.66 for others)."
   ]
  },
  {
   "cell_type": "markdown",
   "id": "e9edb4b1",
   "metadata": {},
   "source": [
    "## user_score"
   ]
  },
  {
   "cell_type": "code",
   "execution_count": 23,
   "id": "a4a79570",
   "metadata": {},
   "outputs": [
    {
     "data": {
      "text/html": [
       "<div>\n",
       "<style scoped>\n",
       "    .dataframe tbody tr th:only-of-type {\n",
       "        vertical-align: middle;\n",
       "    }\n",
       "\n",
       "    .dataframe tbody tr th {\n",
       "        vertical-align: top;\n",
       "    }\n",
       "\n",
       "    .dataframe thead th {\n",
       "        text-align: right;\n",
       "    }\n",
       "</style>\n",
       "<table border=\"1\" class=\"dataframe\">\n",
       "  <thead>\n",
       "    <tr style=\"text-align: right;\">\n",
       "      <th></th>\n",
       "      <th>name</th>\n",
       "      <th>platform</th>\n",
       "      <th>year_of_release</th>\n",
       "      <th>genre</th>\n",
       "      <th>na_sales</th>\n",
       "      <th>eu_sales</th>\n",
       "      <th>jp_sales</th>\n",
       "      <th>other_sales</th>\n",
       "      <th>total_sales</th>\n",
       "      <th>critic_score</th>\n",
       "      <th>user_score</th>\n",
       "      <th>rating</th>\n",
       "    </tr>\n",
       "  </thead>\n",
       "  <tbody>\n",
       "    <tr>\n",
       "      <th>119</th>\n",
       "      <td>Zumba Fitness</td>\n",
       "      <td>Wii</td>\n",
       "      <td>2010</td>\n",
       "      <td>Sports</td>\n",
       "      <td>3.45</td>\n",
       "      <td>2.59</td>\n",
       "      <td>0.0</td>\n",
       "      <td>0.66</td>\n",
       "      <td>6.70</td>\n",
       "      <td>42</td>\n",
       "      <td>tbd</td>\n",
       "      <td>E</td>\n",
       "    </tr>\n",
       "    <tr>\n",
       "      <th>301</th>\n",
       "      <td>Namco Museum: 50th Anniversary</td>\n",
       "      <td>PS2</td>\n",
       "      <td>2005</td>\n",
       "      <td>Misc</td>\n",
       "      <td>2.08</td>\n",
       "      <td>1.35</td>\n",
       "      <td>0.0</td>\n",
       "      <td>0.54</td>\n",
       "      <td>3.97</td>\n",
       "      <td>61</td>\n",
       "      <td>tbd</td>\n",
       "      <td>E10+</td>\n",
       "    </tr>\n",
       "    <tr>\n",
       "      <th>520</th>\n",
       "      <td>Zumba Fitness 2</td>\n",
       "      <td>Wii</td>\n",
       "      <td>2011</td>\n",
       "      <td>Sports</td>\n",
       "      <td>1.51</td>\n",
       "      <td>1.03</td>\n",
       "      <td>0.0</td>\n",
       "      <td>0.27</td>\n",
       "      <td>2.81</td>\n",
       "      <td>-5</td>\n",
       "      <td>tbd</td>\n",
       "      <td>T</td>\n",
       "    </tr>\n",
       "    <tr>\n",
       "      <th>645</th>\n",
       "      <td>uDraw Studio</td>\n",
       "      <td>Wii</td>\n",
       "      <td>2010</td>\n",
       "      <td>Misc</td>\n",
       "      <td>1.65</td>\n",
       "      <td>0.57</td>\n",
       "      <td>0.0</td>\n",
       "      <td>0.20</td>\n",
       "      <td>2.42</td>\n",
       "      <td>71</td>\n",
       "      <td>tbd</td>\n",
       "      <td>E</td>\n",
       "    </tr>\n",
       "    <tr>\n",
       "      <th>718</th>\n",
       "      <td>Just Dance Kids</td>\n",
       "      <td>Wii</td>\n",
       "      <td>2010</td>\n",
       "      <td>Misc</td>\n",
       "      <td>1.52</td>\n",
       "      <td>0.54</td>\n",
       "      <td>0.0</td>\n",
       "      <td>0.18</td>\n",
       "      <td>2.24</td>\n",
       "      <td>-5</td>\n",
       "      <td>tbd</td>\n",
       "      <td>E</td>\n",
       "    </tr>\n",
       "  </tbody>\n",
       "</table>\n",
       "</div>"
      ],
      "text/plain": [
       "                               name platform  year_of_release   genre  \\\n",
       "119                   Zumba Fitness      Wii             2010  Sports   \n",
       "301  Namco Museum: 50th Anniversary      PS2             2005    Misc   \n",
       "520                 Zumba Fitness 2      Wii             2011  Sports   \n",
       "645                    uDraw Studio      Wii             2010    Misc   \n",
       "718                 Just Dance Kids      Wii             2010    Misc   \n",
       "\n",
       "     na_sales  eu_sales  jp_sales  other_sales  total_sales  critic_score  \\\n",
       "119      3.45      2.59       0.0         0.66         6.70            42   \n",
       "301      2.08      1.35       0.0         0.54         3.97            61   \n",
       "520      1.51      1.03       0.0         0.27         2.81            -5   \n",
       "645      1.65      0.57       0.0         0.20         2.42            71   \n",
       "718      1.52      0.54       0.0         0.18         2.24            -5   \n",
       "\n",
       "    user_score rating  \n",
       "119        tbd      E  \n",
       "301        tbd   E10+  \n",
       "520        tbd      T  \n",
       "645        tbd      E  \n",
       "718        tbd      E  "
      ]
     },
     "execution_count": 23,
     "metadata": {},
     "output_type": "execute_result"
    }
   ],
   "source": [
    "df[df['user_score'] == 'tbd'].head()"
   ]
  },
  {
   "cell_type": "code",
   "execution_count": 24,
   "id": "b3a90e63",
   "metadata": {},
   "outputs": [],
   "source": [
    "df.loc[df['user_score'] == 'tbd', 'user_score'] = np.NaN"
   ]
  },
  {
   "cell_type": "markdown",
   "id": "1ed6e10d",
   "metadata": {},
   "source": [
    "\"tbd\" probably stands for \"to be determined.\"  These are missing values, so we converted them to <code>NaN</code>, like other missing values."
   ]
  },
  {
   "cell_type": "code",
   "execution_count": 25,
   "id": "023ea1c5",
   "metadata": {},
   "outputs": [
    {
     "data": {
      "text/plain": [
       "9027"
      ]
     },
     "execution_count": 25,
     "metadata": {},
     "output_type": "execute_result"
    }
   ],
   "source": [
    "df['user_score'].isna().sum()"
   ]
  },
  {
   "cell_type": "code",
   "execution_count": 26,
   "id": "cfd5102c",
   "metadata": {},
   "outputs": [],
   "source": [
    "df['user_score'] = pd.to_numeric(df['user_score'], errors='raise')"
   ]
  },
  {
   "cell_type": "code",
   "execution_count": 27,
   "id": "34362bea",
   "metadata": {},
   "outputs": [],
   "source": [
    "df['user_score'] = df.groupby('name')['user_score'].apply(lambda x: x.fillna(x.mean()))"
   ]
  },
  {
   "cell_type": "code",
   "execution_count": 28,
   "id": "38d5f189",
   "metadata": {},
   "outputs": [
    {
     "data": {
      "text/plain": [
       "7928"
      ]
     },
     "execution_count": 28,
     "metadata": {},
     "output_type": "execute_result"
    }
   ],
   "source": [
    "df['user_score'].isna().sum()"
   ]
  },
  {
   "cell_type": "markdown",
   "id": "dcd678d7",
   "metadata": {},
   "source": [
    "We used the same name/different platform method to fill about 1,000 of the missing values, as we have done for other fields.  We were left with 7,928 missing values.  Once again, we will replace the <code>NaN</code> values with -5 as a dummy numeric value."
   ]
  },
  {
   "cell_type": "code",
   "execution_count": 29,
   "id": "5fe7824a",
   "metadata": {},
   "outputs": [],
   "source": [
    "df['user_score'] = df['user_score'].replace(np.NaN, -5)\n",
    "df['user_score'] = df['user_score'].astype('float')"
   ]
  },
  {
   "cell_type": "markdown",
   "id": "e87eb2d4",
   "metadata": {},
   "source": [
    "## rating"
   ]
  },
  {
   "cell_type": "code",
   "execution_count": 30,
   "id": "d3c66d5d",
   "metadata": {},
   "outputs": [
    {
     "data": {
      "text/plain": [
       "NaN     6699\n",
       "E       3958\n",
       "T       2930\n",
       "M       1554\n",
       "E10+    1412\n",
       "EC         8\n",
       "K-A        3\n",
       "RP         2\n",
       "AO         1\n",
       "Name: rating, dtype: int64"
      ]
     },
     "execution_count": 30,
     "metadata": {},
     "output_type": "execute_result"
    }
   ],
   "source": [
    "df['rating'].value_counts(dropna=False)"
   ]
  },
  {
   "cell_type": "markdown",
   "id": "f6ffb266",
   "metadata": {},
   "source": [
    "Internet research allows us to consolidate the last 4 categories into the more common ones.\n",
    "\n",
    "- EC = \"Early Childhood\" → E (Everyone)\n",
    "- K-A = \"Kids to Adults\" → E (Everyone)\n",
    "- AO = \"Adults Only\" → M (Mature)\n",
    "\n",
    "RP likely means Rating Pending.  We will fill these three with the most common rating, based on the game's genre."
   ]
  },
  {
   "cell_type": "code",
   "execution_count": 31,
   "id": "d02b5787",
   "metadata": {},
   "outputs": [],
   "source": [
    "df.loc[df['rating'] == 'EC', 'rating'] = 'E'\n",
    "df.loc[df['rating'] == 'K-A', 'rating'] = 'E'\n",
    "df.loc[df['rating'] == 'AO', 'rating'] = 'M'"
   ]
  },
  {
   "cell_type": "code",
   "execution_count": 32,
   "id": "b5446dbf",
   "metadata": {},
   "outputs": [
    {
     "data": {
      "text/html": [
       "<div>\n",
       "<style scoped>\n",
       "    .dataframe tbody tr th:only-of-type {\n",
       "        vertical-align: middle;\n",
       "    }\n",
       "\n",
       "    .dataframe tbody tr th {\n",
       "        vertical-align: top;\n",
       "    }\n",
       "\n",
       "    .dataframe thead th {\n",
       "        text-align: right;\n",
       "    }\n",
       "</style>\n",
       "<table border=\"1\" class=\"dataframe\">\n",
       "  <thead>\n",
       "    <tr style=\"text-align: right;\">\n",
       "      <th></th>\n",
       "      <th>name</th>\n",
       "      <th>platform</th>\n",
       "      <th>year_of_release</th>\n",
       "      <th>genre</th>\n",
       "      <th>na_sales</th>\n",
       "      <th>eu_sales</th>\n",
       "      <th>jp_sales</th>\n",
       "      <th>other_sales</th>\n",
       "      <th>total_sales</th>\n",
       "      <th>critic_score</th>\n",
       "      <th>user_score</th>\n",
       "      <th>rating</th>\n",
       "    </tr>\n",
       "  </thead>\n",
       "  <tbody>\n",
       "    <tr>\n",
       "      <th>14270</th>\n",
       "      <td>Supreme Ruler: Cold War</td>\n",
       "      <td>PC</td>\n",
       "      <td>2011</td>\n",
       "      <td>Strategy</td>\n",
       "      <td>0.0</td>\n",
       "      <td>0.03</td>\n",
       "      <td>0.0</td>\n",
       "      <td>0.01</td>\n",
       "      <td>0.04</td>\n",
       "      <td>63</td>\n",
       "      <td>6.8</td>\n",
       "      <td>RP</td>\n",
       "    </tr>\n",
       "    <tr>\n",
       "      <th>16180</th>\n",
       "      <td>WRC: FIA World Rally Championship</td>\n",
       "      <td>PC</td>\n",
       "      <td>2005</td>\n",
       "      <td>Racing</td>\n",
       "      <td>0.0</td>\n",
       "      <td>0.01</td>\n",
       "      <td>0.0</td>\n",
       "      <td>0.00</td>\n",
       "      <td>0.01</td>\n",
       "      <td>65</td>\n",
       "      <td>6.1</td>\n",
       "      <td>RP</td>\n",
       "    </tr>\n",
       "  </tbody>\n",
       "</table>\n",
       "</div>"
      ],
      "text/plain": [
       "                                    name platform  year_of_release     genre  \\\n",
       "14270            Supreme Ruler: Cold War       PC             2011  Strategy   \n",
       "16180  WRC: FIA World Rally Championship       PC             2005    Racing   \n",
       "\n",
       "       na_sales  eu_sales  jp_sales  other_sales  total_sales  critic_score  \\\n",
       "14270       0.0      0.03       0.0         0.01         0.04            63   \n",
       "16180       0.0      0.01       0.0         0.00         0.01            65   \n",
       "\n",
       "       user_score rating  \n",
       "14270         6.8     RP  \n",
       "16180         6.1     RP  "
      ]
     },
     "execution_count": 32,
     "metadata": {},
     "output_type": "execute_result"
    }
   ],
   "source": [
    "df[df['rating'] == 'RP']"
   ]
  },
  {
   "cell_type": "code",
   "execution_count": 33,
   "id": "0869b770",
   "metadata": {},
   "outputs": [
    {
     "data": {
      "text/plain": [
       "T       162\n",
       "E10+     76\n",
       "E        72\n",
       "M        25\n",
       "RP        1\n",
       "Name: rating, dtype: int64"
      ]
     },
     "execution_count": 33,
     "metadata": {},
     "output_type": "execute_result"
    }
   ],
   "source": [
    "df[df['genre'] == 'Strategy']['rating'].value_counts()"
   ]
  },
  {
   "cell_type": "code",
   "execution_count": 34,
   "id": "5261850b",
   "metadata": {},
   "outputs": [
    {
     "data": {
      "text/plain": [
       "E       581\n",
       "T       169\n",
       "E10+     96\n",
       "M        18\n",
       "RP        1\n",
       "Name: rating, dtype: int64"
      ]
     },
     "execution_count": 34,
     "metadata": {},
     "output_type": "execute_result"
    }
   ],
   "source": [
    "df[df['genre'] == 'Racing']['rating'].value_counts()"
   ]
  },
  {
   "cell_type": "code",
   "execution_count": 35,
   "id": "72872cb2",
   "metadata": {},
   "outputs": [],
   "source": [
    "df.loc[df['name'] == 'Clockwork Empires', 'rating'] = 'T'\n",
    "df.loc[df['name'] == 'Supreme Ruler: Cold War', 'rating'] = 'T'\n",
    "df.loc[df['name'] == 'WRC: FIA World Rally Championship', 'rating'] = 'E'"
   ]
  },
  {
   "cell_type": "code",
   "execution_count": 36,
   "id": "bc3236d7",
   "metadata": {},
   "outputs": [],
   "source": [
    "df['rating'] = df.groupby('name')['rating'].apply(lambda x: x.fillna(st.mode(x)[0][0]))"
   ]
  },
  {
   "cell_type": "code",
   "execution_count": 37,
   "id": "03b73267",
   "metadata": {},
   "outputs": [
    {
     "data": {
      "text/plain": [
       "0       6262\n",
       "E       4137\n",
       "T       3060\n",
       "M       1646\n",
       "E10+    1462\n",
       "Name: rating, dtype: int64"
      ]
     },
     "execution_count": 37,
     "metadata": {},
     "output_type": "execute_result"
    }
   ],
   "source": [
    "df['rating'].value_counts(dropna=False)"
   ]
  },
  {
   "cell_type": "markdown",
   "id": "d3bb9db5",
   "metadata": {},
   "source": [
    "We have 6,262 missing ESBR ratings.  We will fill these missing values with \"Unknown.\""
   ]
  },
  {
   "cell_type": "code",
   "execution_count": 38,
   "id": "941aae51",
   "metadata": {},
   "outputs": [],
   "source": [
    "df['rating'] = df['rating'].fillna('Unknown')"
   ]
  },
  {
   "cell_type": "markdown",
   "id": "4b08915e",
   "metadata": {},
   "source": [
    "## Data type conversion\n"
   ]
  },
  {
   "cell_type": "code",
   "execution_count": 39,
   "id": "14c75193",
   "metadata": {},
   "outputs": [
    {
     "name": "stdout",
     "output_type": "stream",
     "text": [
      "<class 'pandas.core.frame.DataFrame'>\n",
      "Int64Index: 16567 entries, 0 to 16714\n",
      "Data columns (total 12 columns):\n",
      " #   Column           Non-Null Count  Dtype  \n",
      "---  ------           --------------  -----  \n",
      " 0   name             16567 non-null  object \n",
      " 1   platform         16567 non-null  object \n",
      " 2   year_of_release  16567 non-null  int64  \n",
      " 3   genre            16567 non-null  object \n",
      " 4   na_sales         16567 non-null  float64\n",
      " 5   eu_sales         16567 non-null  float64\n",
      " 6   jp_sales         16567 non-null  float64\n",
      " 7   other_sales      16567 non-null  float64\n",
      " 8   total_sales      16567 non-null  float64\n",
      " 9   critic_score     16567 non-null  int64  \n",
      " 10  user_score       16567 non-null  float64\n",
      " 11  rating           16567 non-null  object \n",
      "dtypes: float64(6), int64(2), object(4)\n",
      "memory usage: 1.6+ MB\n"
     ]
    }
   ],
   "source": [
    "df.info()"
   ]
  },
  {
   "cell_type": "markdown",
   "id": "1f176f8b",
   "metadata": {},
   "source": [
    "In the preceding sections, <code>year_of_release</code> was converted to <code>int</code>, <code>critic_score</code> was converted to <code>int</code>, and <code>user_score</code> was converted to <code>float</code>."
   ]
  },
  {
   "cell_type": "markdown",
   "id": "12f10245",
   "metadata": {},
   "source": [
    "## Handle missing values\n",
    "- Explain why you filled in the missing values as you did or why you decided to leave them blank.\n",
    "- Why do you think the values are missing? Give possible reasons.\n",
    "- Pay attention to the abbreviation TBD (to be determined). Specify how you intend to handle such cases."
   ]
  },
  {
   "cell_type": "markdown",
   "id": "42f23310",
   "metadata": {},
   "source": [
    "## Conclusion\n",
    "In this section we performed data preprocessing.  In particular, we\n",
    "\n",
    "- Converted column names to lower case.\n",
    "- Created a column for <code>total_sales</code> by adding sales for North America, Europe, Japan, and other regions.\n",
    "- Dropped two records that were missing both <code>name</code> and <code>genre</code>.\n",
    "- Filled some values for <code>year_of_release</code>, <code>critic_score</code>, and <code>user_score</code> based on games with the same <code>name</code> that were not missing those values.\n",
    "- Consolidated several rarely used ESRB ratings with more common ratings based on internet research.\n",
    "- Converted <code>year_of_release</code> from <code>float</code> to <code>int</code>.\n",
    "- Converted <code>critic_score</code> and <code>user_score</code> to numeric types.\n",
    "\n",
    "For several fields, even after filling with default values, we were left with a large number of missing values without a reliable way to fill them.  We filled these with a dummy numeric value (-5), which can be filteted out as needed in subsequent analysis steps."
   ]
  },
  {
   "cell_type": "markdown",
   "id": "72dba400",
   "metadata": {},
   "source": [
    "# Exploratory data analysis\n",
    "In this section, we will\n",
    "\n",
    "- Examine trends in the number of game releases and sales.\n",
    "- Examine sales trends for various platforms.\n",
    "- Define a time period for subsequent analysis.\n",
    "- Identify top platforms recent years.\n",
    "- Look how several factors (reviews, platform, and genre) relate to sales.\n"
   ]
  },
  {
   "cell_type": "markdown",
   "id": "7bfc93da",
   "metadata": {},
   "source": [
    "## Game releases by year"
   ]
  },
  {
   "cell_type": "code",
   "execution_count": 40,
   "id": "d3ea4e28",
   "metadata": {},
   "outputs": [
    {
     "data": {
      "image/png": "[encoded data removed]",
      "text/plain": [
       "<Figure size 720x432 with 1 Axes>"
      ]
     },
     "metadata": {
      "needs_background": "light"
     },
     "output_type": "display_data"
    }
   ],
   "source": [
    "releases_by_year = df[df['year_of_release'] != 0].groupby('year_of_release')['name'].agg('count')\n",
    "plt.figure(figsize=(10,6))\n",
    "plt.bar(x=releases_by_year.index, height=releases_by_year.values)\n",
    "plt.title('Game Releases by Year')\n",
    "plt.xlabel(\"Year of release\")\n",
    "plt.ylabel(\"Number of releases\")\n",
    "plt.grid()\n",
    "plt.show()"
   ]
  },
  {
   "cell_type": "markdown",
   "id": "9a00d863",
   "metadata": {},
   "source": [
    "It appears that 2008 was the high water mark for number of video game releases.  Is this actually true, or does it reflect a problem with the data? The following link suggests that it's true: https://en.wikipedia.org/wiki/Category:Video_games_by_year."
   ]
  },
  {
   "cell_type": "markdown",
   "id": "9efb817c",
   "metadata": {},
   "source": [
    "## Sales trends"
   ]
  },
  {
   "cell_type": "code",
   "execution_count": 41,
   "id": "f9e2c9ef",
   "metadata": {},
   "outputs": [
    {
     "data": {
      "image/png": "[encoded data removed]",
      "text/plain": [
       "<Figure size 720x432 with 1 Axes>"
      ]
     },
     "metadata": {
      "needs_background": "light"
     },
     "output_type": "display_data"
    }
   ],
   "source": [
    "sales_by_year = df[df['year_of_release'] != 0].groupby('year_of_release')['total_sales'].agg('sum')\n",
    "plt.figure(figsize=(10,6))\n",
    "plt.bar(x=sales_by_year.index, height=sales_by_year.values)\n",
    "plt.title('Total Sales by Year')\n",
    "plt.xlabel(\"Year\")\n",
    "plt.ylabel(\"Total sales\")\n",
    "plt.grid()\n",
    "plt.show()"
   ]
  },
  {
   "cell_type": "markdown",
   "id": "1e940459",
   "metadata": {},
   "source": [
    "We see a marked decline in both the number of game release and total sales after 2008.  This is likely due to a rise in gaming on non-dedicated mobile devices such as the iPhone (released in 2007), the iPad (released in 2010), as well as similar Android devices.  Game sales on these mobile platforms are not included in our data set."
   ]
  },
  {
   "cell_type": "markdown",
   "id": "6024afb5",
   "metadata": {},
   "source": [
    "## Sales by platform\n",
    "In this section, we examine sales for various platforms.  First, we examine sales over a long period of time (2000-2015).  This will give us an idea of long-term trends and the life cycle of a gaming platform.  Next, we focus on more recent years to identify a time period, and set of gaming platforms, relavent to the current market."
   ]
  },
  {
   "cell_type": "markdown",
   "id": "6257acf5",
   "metadata": {},
   "source": [
    "### Sales (2000-15)"
   ]
  },
  {
   "cell_type": "code",
   "execution_count": 42,
   "id": "e5fc08ec",
   "metadata": {},
   "outputs": [
    {
     "data": {
      "text/html": [
       "<div>\n",
       "<style scoped>\n",
       "    .dataframe tbody tr th:only-of-type {\n",
       "        vertical-align: middle;\n",
       "    }\n",
       "\n",
       "    .dataframe tbody tr th {\n",
       "        vertical-align: top;\n",
       "    }\n",
       "\n",
       "    .dataframe thead th {\n",
       "        text-align: right;\n",
       "    }\n",
       "</style>\n",
       "<table border=\"1\" class=\"dataframe\">\n",
       "  <thead>\n",
       "    <tr style=\"text-align: right;\">\n",
       "      <th></th>\n",
       "      <th>na_sales</th>\n",
       "      <th>eu_sales</th>\n",
       "      <th>jp_sales</th>\n",
       "      <th>other_sales</th>\n",
       "      <th>total_sales</th>\n",
       "    </tr>\n",
       "    <tr>\n",
       "      <th>platform</th>\n",
       "      <th></th>\n",
       "      <th></th>\n",
       "      <th></th>\n",
       "      <th></th>\n",
       "      <th></th>\n",
       "    </tr>\n",
       "  </thead>\n",
       "  <tbody>\n",
       "    <tr>\n",
       "      <th>PS2</th>\n",
       "      <td>580.09</td>\n",
       "      <td>337.05</td>\n",
       "      <td>137.74</td>\n",
       "      <td>192.28</td>\n",
       "      <td>1247.16</td>\n",
       "    </tr>\n",
       "    <tr>\n",
       "      <th>X360</th>\n",
       "      <td>599.15</td>\n",
       "      <td>269.79</td>\n",
       "      <td>12.33</td>\n",
       "      <td>85.34</td>\n",
       "      <td>966.61</td>\n",
       "    </tr>\n",
       "    <tr>\n",
       "      <th>PS3</th>\n",
       "      <td>391.60</td>\n",
       "      <td>328.97</td>\n",
       "      <td>79.52</td>\n",
       "      <td>135.10</td>\n",
       "      <td>935.19</td>\n",
       "    </tr>\n",
       "    <tr>\n",
       "      <th>Wii</th>\n",
       "      <td>494.01</td>\n",
       "      <td>261.48</td>\n",
       "      <td>69.05</td>\n",
       "      <td>78.77</td>\n",
       "      <td>903.31</td>\n",
       "    </tr>\n",
       "    <tr>\n",
       "      <th>DS</th>\n",
       "      <td>381.38</td>\n",
       "      <td>188.72</td>\n",
       "      <td>175.02</td>\n",
       "      <td>59.16</td>\n",
       "      <td>804.28</td>\n",
       "    </tr>\n",
       "  </tbody>\n",
       "</table>\n",
       "</div>"
      ],
      "text/plain": [
       "          na_sales  eu_sales  jp_sales  other_sales  total_sales\n",
       "platform                                                        \n",
       "PS2         580.09    337.05    137.74       192.28      1247.16\n",
       "X360        599.15    269.79     12.33        85.34       966.61\n",
       "PS3         391.60    328.97     79.52       135.10       935.19\n",
       "Wii         494.01    261.48     69.05        78.77       903.31\n",
       "DS          381.38    188.72    175.02        59.16       804.28"
      ]
     },
     "execution_count": 42,
     "metadata": {},
     "output_type": "execute_result"
    }
   ],
   "source": [
    "platform_sales = df.groupby('platform')['na_sales', 'eu_sales', 'jp_sales', 'other_sales', 'total_sales'].agg('sum').sort_values('total_sales', ascending=False)\n",
    "top_platforms = platform_sales.head(5)\n",
    "top_platforms"
   ]
  },
  {
   "cell_type": "code",
   "execution_count": 43,
   "id": "ead0dfe8",
   "metadata": {},
   "outputs": [
    {
     "data": {
      "text/html": [
       "<div>\n",
       "<style scoped>\n",
       "    .dataframe tbody tr th:only-of-type {\n",
       "        vertical-align: middle;\n",
       "    }\n",
       "\n",
       "    .dataframe tbody tr th {\n",
       "        vertical-align: top;\n",
       "    }\n",
       "\n",
       "    .dataframe thead th {\n",
       "        text-align: right;\n",
       "    }\n",
       "</style>\n",
       "<table border=\"1\" class=\"dataframe\">\n",
       "  <thead>\n",
       "    <tr style=\"text-align: right;\">\n",
       "      <th>platform</th>\n",
       "      <th>DS</th>\n",
       "      <th>PS2</th>\n",
       "      <th>PS3</th>\n",
       "      <th>Wii</th>\n",
       "      <th>X360</th>\n",
       "    </tr>\n",
       "    <tr>\n",
       "      <th>year_of_release</th>\n",
       "      <th></th>\n",
       "      <th></th>\n",
       "      <th></th>\n",
       "      <th></th>\n",
       "      <th></th>\n",
       "    </tr>\n",
       "  </thead>\n",
       "  <tbody>\n",
       "    <tr>\n",
       "      <th>2000</th>\n",
       "      <td>0.00</td>\n",
       "      <td>39.17</td>\n",
       "      <td>0.00</td>\n",
       "      <td>0.00</td>\n",
       "      <td>0.00</td>\n",
       "    </tr>\n",
       "    <tr>\n",
       "      <th>2001</th>\n",
       "      <td>0.00</td>\n",
       "      <td>166.43</td>\n",
       "      <td>0.48</td>\n",
       "      <td>0.00</td>\n",
       "      <td>0.00</td>\n",
       "    </tr>\n",
       "    <tr>\n",
       "      <th>2002</th>\n",
       "      <td>0.00</td>\n",
       "      <td>208.36</td>\n",
       "      <td>0.00</td>\n",
       "      <td>0.00</td>\n",
       "      <td>0.00</td>\n",
       "    </tr>\n",
       "    <tr>\n",
       "      <th>2003</th>\n",
       "      <td>0.00</td>\n",
       "      <td>194.00</td>\n",
       "      <td>0.00</td>\n",
       "      <td>0.00</td>\n",
       "      <td>0.00</td>\n",
       "    </tr>\n",
       "    <tr>\n",
       "      <th>2004</th>\n",
       "      <td>17.27</td>\n",
       "      <td>211.81</td>\n",
       "      <td>0.00</td>\n",
       "      <td>0.00</td>\n",
       "      <td>0.00</td>\n",
       "    </tr>\n",
       "    <tr>\n",
       "      <th>2005</th>\n",
       "      <td>130.14</td>\n",
       "      <td>160.91</td>\n",
       "      <td>0.19</td>\n",
       "      <td>0.00</td>\n",
       "      <td>9.22</td>\n",
       "    </tr>\n",
       "    <tr>\n",
       "      <th>2006</th>\n",
       "      <td>119.81</td>\n",
       "      <td>103.99</td>\n",
       "      <td>20.96</td>\n",
       "      <td>140.19</td>\n",
       "      <td>51.79</td>\n",
       "    </tr>\n",
       "    <tr>\n",
       "      <th>2007</th>\n",
       "      <td>147.23</td>\n",
       "      <td>76.10</td>\n",
       "      <td>73.19</td>\n",
       "      <td>153.41</td>\n",
       "      <td>95.41</td>\n",
       "    </tr>\n",
       "    <tr>\n",
       "      <th>2008</th>\n",
       "      <td>145.36</td>\n",
       "      <td>53.90</td>\n",
       "      <td>118.79</td>\n",
       "      <td>177.68</td>\n",
       "      <td>136.07</td>\n",
       "    </tr>\n",
       "    <tr>\n",
       "      <th>2009</th>\n",
       "      <td>119.56</td>\n",
       "      <td>26.40</td>\n",
       "      <td>130.93</td>\n",
       "      <td>206.97</td>\n",
       "      <td>120.82</td>\n",
       "    </tr>\n",
       "    <tr>\n",
       "      <th>2010</th>\n",
       "      <td>85.35</td>\n",
       "      <td>5.64</td>\n",
       "      <td>142.96</td>\n",
       "      <td>128.67</td>\n",
       "      <td>170.55</td>\n",
       "    </tr>\n",
       "    <tr>\n",
       "      <th>2011</th>\n",
       "      <td>26.33</td>\n",
       "      <td>0.45</td>\n",
       "      <td>157.98</td>\n",
       "      <td>59.79</td>\n",
       "      <td>145.23</td>\n",
       "    </tr>\n",
       "    <tr>\n",
       "      <th>2012</th>\n",
       "      <td>11.67</td>\n",
       "      <td>0.00</td>\n",
       "      <td>108.28</td>\n",
       "      <td>22.94</td>\n",
       "      <td>100.72</td>\n",
       "    </tr>\n",
       "    <tr>\n",
       "      <th>2013</th>\n",
       "      <td>1.54</td>\n",
       "      <td>0.00</td>\n",
       "      <td>113.25</td>\n",
       "      <td>8.59</td>\n",
       "      <td>88.58</td>\n",
       "    </tr>\n",
       "    <tr>\n",
       "      <th>2014</th>\n",
       "      <td>0.00</td>\n",
       "      <td>0.00</td>\n",
       "      <td>47.76</td>\n",
       "      <td>3.75</td>\n",
       "      <td>34.74</td>\n",
       "    </tr>\n",
       "    <tr>\n",
       "      <th>2015</th>\n",
       "      <td>0.00</td>\n",
       "      <td>0.00</td>\n",
       "      <td>16.82</td>\n",
       "      <td>1.14</td>\n",
       "      <td>11.96</td>\n",
       "    </tr>\n",
       "    <tr>\n",
       "      <th>2016</th>\n",
       "      <td>0.00</td>\n",
       "      <td>0.00</td>\n",
       "      <td>3.60</td>\n",
       "      <td>0.18</td>\n",
       "      <td>1.52</td>\n",
       "    </tr>\n",
       "  </tbody>\n",
       "</table>\n",
       "</div>"
      ],
      "text/plain": [
       "platform             DS     PS2     PS3     Wii    X360\n",
       "year_of_release                                        \n",
       "2000               0.00   39.17    0.00    0.00    0.00\n",
       "2001               0.00  166.43    0.48    0.00    0.00\n",
       "2002               0.00  208.36    0.00    0.00    0.00\n",
       "2003               0.00  194.00    0.00    0.00    0.00\n",
       "2004              17.27  211.81    0.00    0.00    0.00\n",
       "2005             130.14  160.91    0.19    0.00    9.22\n",
       "2006             119.81  103.99   20.96  140.19   51.79\n",
       "2007             147.23   76.10   73.19  153.41   95.41\n",
       "2008             145.36   53.90  118.79  177.68  136.07\n",
       "2009             119.56   26.40  130.93  206.97  120.82\n",
       "2010              85.35    5.64  142.96  128.67  170.55\n",
       "2011              26.33    0.45  157.98   59.79  145.23\n",
       "2012              11.67    0.00  108.28   22.94  100.72\n",
       "2013               1.54    0.00  113.25    8.59   88.58\n",
       "2014               0.00    0.00   47.76    3.75   34.74\n",
       "2015               0.00    0.00   16.82    1.14   11.96\n",
       "2016               0.00    0.00    3.60    0.18    1.52"
      ]
     },
     "execution_count": 43,
     "metadata": {},
     "output_type": "execute_result"
    }
   ],
   "source": [
    "platform_df = df[df['platform'].isin(top_platforms.index)].pivot_table(index='year_of_release',\n",
    "                                                                       columns='platform',\n",
    "                                                                       values='total_sales',\n",
    "                                                                       aggfunc='sum')\n",
    "platform_df.fillna(0).tail(17)"
   ]
  },
  {
   "cell_type": "code",
   "execution_count": 44,
   "id": "bb60b690",
   "metadata": {},
   "outputs": [
    {
     "data": {
      "image/png": "[encoded data removed]",
      "text/plain": [
       "<Figure size 1080x576 with 1 Axes>"
      ]
     },
     "metadata": {
      "needs_background": "light"
     },
     "output_type": "display_data"
    }
   ],
   "source": [
    "platform_df.reset_index().plot(x='year_of_release', figsize=(15,8), grid=True)\n",
    "plt.xlim(2000, 2015)\n",
    "plt.title('Top Platforms: Sales by Year')\n",
    "plt.xlabel(\"Year\")\n",
    "plt.ylabel(\"Total Sales\")\n",
    "plt.show()"
   ]
  },
  {
   "cell_type": "markdown",
   "id": "b1b7a5de",
   "metadata": {},
   "source": [
    "Over this long period (2000-15) we observe the rise and fall of several gaming platforms.  During this period, the PS2 had the greatest total sales.  We can get an idea of the life cycle of a platform.\n",
    "\n",
    "- PS2: 11 years (2000-11)\n",
    "- DS: 9 years (2004-13)\n",
    "- X360: 10 years 2005-2015)\n",
    "- Wii 8 years (2006-14)\n",
    "- PS3: 10 years (2005-15)"
   ]
  },
  {
   "cell_type": "markdown",
   "id": "5dec59e3",
   "metadata": {},
   "source": [
    "## Recent Sales (2010-2015)\n",
    "In this section, we focus on sales in more recent years.  As we have seen, this is a period of declining sales overall, but this period does see a rise in two newer platforms, XOne and PS4."
   ]
  },
  {
   "cell_type": "code",
   "execution_count": 45,
   "id": "5f15aa26",
   "metadata": {},
   "outputs": [
    {
     "data": {
      "text/html": [
       "<div>\n",
       "<style scoped>\n",
       "    .dataframe tbody tr th:only-of-type {\n",
       "        vertical-align: middle;\n",
       "    }\n",
       "\n",
       "    .dataframe tbody tr th {\n",
       "        vertical-align: top;\n",
       "    }\n",
       "\n",
       "    .dataframe thead th {\n",
       "        text-align: right;\n",
       "    }\n",
       "</style>\n",
       "<table border=\"1\" class=\"dataframe\">\n",
       "  <thead>\n",
       "    <tr style=\"text-align: right;\">\n",
       "      <th></th>\n",
       "      <th>na_sales</th>\n",
       "      <th>eu_sales</th>\n",
       "      <th>jp_sales</th>\n",
       "      <th>other_sales</th>\n",
       "      <th>total_sales</th>\n",
       "    </tr>\n",
       "    <tr>\n",
       "      <th>platform</th>\n",
       "      <th></th>\n",
       "      <th></th>\n",
       "      <th></th>\n",
       "      <th></th>\n",
       "      <th></th>\n",
       "    </tr>\n",
       "  </thead>\n",
       "  <tbody>\n",
       "    <tr>\n",
       "      <th>PS3</th>\n",
       "      <td>168.96</td>\n",
       "      <td>164.15</td>\n",
       "      <td>49.40</td>\n",
       "      <td>65.18</td>\n",
       "      <td>447.69</td>\n",
       "    </tr>\n",
       "    <tr>\n",
       "      <th>X360</th>\n",
       "      <td>228.18</td>\n",
       "      <td>117.87</td>\n",
       "      <td>3.36</td>\n",
       "      <td>33.34</td>\n",
       "      <td>382.75</td>\n",
       "    </tr>\n",
       "    <tr>\n",
       "      <th>PS4</th>\n",
       "      <td>108.74</td>\n",
       "      <td>141.09</td>\n",
       "      <td>15.96</td>\n",
       "      <td>48.35</td>\n",
       "      <td>314.14</td>\n",
       "    </tr>\n",
       "    <tr>\n",
       "      <th>3DS</th>\n",
       "      <td>82.83</td>\n",
       "      <td>61.46</td>\n",
       "      <td>100.62</td>\n",
       "      <td>13.30</td>\n",
       "      <td>258.21</td>\n",
       "    </tr>\n",
       "    <tr>\n",
       "      <th>XOne</th>\n",
       "      <td>93.12</td>\n",
       "      <td>51.59</td>\n",
       "      <td>0.34</td>\n",
       "      <td>14.27</td>\n",
       "      <td>159.32</td>\n",
       "    </tr>\n",
       "    <tr>\n",
       "      <th>PC</th>\n",
       "      <td>30.08</td>\n",
       "      <td>57.38</td>\n",
       "      <td>0.00</td>\n",
       "      <td>11.21</td>\n",
       "      <td>98.67</td>\n",
       "    </tr>\n",
       "  </tbody>\n",
       "</table>\n",
       "</div>"
      ],
      "text/plain": [
       "          na_sales  eu_sales  jp_sales  other_sales  total_sales\n",
       "platform                                                        \n",
       "PS3         168.96    164.15     49.40        65.18       447.69\n",
       "X360        228.18    117.87      3.36        33.34       382.75\n",
       "PS4         108.74    141.09     15.96        48.35       314.14\n",
       "3DS          82.83     61.46    100.62        13.30       258.21\n",
       "XOne         93.12     51.59      0.34        14.27       159.32\n",
       "PC           30.08     57.38      0.00        11.21        98.67"
      ]
     },
     "execution_count": 45,
     "metadata": {},
     "output_type": "execute_result"
    }
   ],
   "source": [
    "recent_platform_sales = df.query('year_of_release > 2010').groupby('platform')['na_sales', 'eu_sales', 'jp_sales', 'other_sales', 'total_sales'].agg('sum').sort_values('total_sales', ascending=False)\n",
    "recent_top_platforms = recent_platform_sales.head(6)\n",
    "recent_top_platforms"
   ]
  },
  {
   "cell_type": "code",
   "execution_count": 46,
   "id": "039cb782",
   "metadata": {},
   "outputs": [
    {
     "data": {
      "text/html": [
       "<div>\n",
       "<style scoped>\n",
       "    .dataframe tbody tr th:only-of-type {\n",
       "        vertical-align: middle;\n",
       "    }\n",
       "\n",
       "    .dataframe tbody tr th {\n",
       "        vertical-align: top;\n",
       "    }\n",
       "\n",
       "    .dataframe thead th {\n",
       "        text-align: right;\n",
       "    }\n",
       "</style>\n",
       "<table border=\"1\" class=\"dataframe\">\n",
       "  <thead>\n",
       "    <tr style=\"text-align: right;\">\n",
       "      <th>platform</th>\n",
       "      <th>3DS</th>\n",
       "      <th>PC</th>\n",
       "      <th>PS3</th>\n",
       "      <th>PS4</th>\n",
       "      <th>X360</th>\n",
       "      <th>XOne</th>\n",
       "    </tr>\n",
       "    <tr>\n",
       "      <th>year_of_release</th>\n",
       "      <th></th>\n",
       "      <th></th>\n",
       "      <th></th>\n",
       "      <th></th>\n",
       "      <th></th>\n",
       "      <th></th>\n",
       "    </tr>\n",
       "  </thead>\n",
       "  <tbody>\n",
       "    <tr>\n",
       "      <th>2012</th>\n",
       "      <td>51.76</td>\n",
       "      <td>23.45</td>\n",
       "      <td>108.28</td>\n",
       "      <td>0.00</td>\n",
       "      <td>100.72</td>\n",
       "      <td>0.00</td>\n",
       "    </tr>\n",
       "    <tr>\n",
       "      <th>2013</th>\n",
       "      <td>56.57</td>\n",
       "      <td>13.01</td>\n",
       "      <td>113.25</td>\n",
       "      <td>25.99</td>\n",
       "      <td>88.58</td>\n",
       "      <td>18.96</td>\n",
       "    </tr>\n",
       "    <tr>\n",
       "      <th>2014</th>\n",
       "      <td>43.76</td>\n",
       "      <td>13.28</td>\n",
       "      <td>47.76</td>\n",
       "      <td>100.00</td>\n",
       "      <td>34.74</td>\n",
       "      <td>54.07</td>\n",
       "    </tr>\n",
       "    <tr>\n",
       "      <th>2015</th>\n",
       "      <td>27.78</td>\n",
       "      <td>8.52</td>\n",
       "      <td>16.82</td>\n",
       "      <td>118.90</td>\n",
       "      <td>11.96</td>\n",
       "      <td>60.14</td>\n",
       "    </tr>\n",
       "    <tr>\n",
       "      <th>2016</th>\n",
       "      <td>15.14</td>\n",
       "      <td>5.25</td>\n",
       "      <td>3.60</td>\n",
       "      <td>69.25</td>\n",
       "      <td>1.52</td>\n",
       "      <td>26.15</td>\n",
       "    </tr>\n",
       "  </tbody>\n",
       "</table>\n",
       "</div>"
      ],
      "text/plain": [
       "platform           3DS     PC     PS3     PS4    X360   XOne\n",
       "year_of_release                                             \n",
       "2012             51.76  23.45  108.28    0.00  100.72   0.00\n",
       "2013             56.57  13.01  113.25   25.99   88.58  18.96\n",
       "2014             43.76  13.28   47.76  100.00   34.74  54.07\n",
       "2015             27.78   8.52   16.82  118.90   11.96  60.14\n",
       "2016             15.14   5.25    3.60   69.25    1.52  26.15"
      ]
     },
     "execution_count": 46,
     "metadata": {},
     "output_type": "execute_result"
    }
   ],
   "source": [
    "recent_platform_df = df[df['platform'].isin(recent_top_platforms.index)].pivot_table(index='year_of_release',\n",
    "                                                                 columns='platform',\n",
    "                                                                 values='total_sales',\n",
    "                                                                 aggfunc='sum')\n",
    "\n",
    "recent_platform_df.fillna(0).tail()"
   ]
  },
  {
   "cell_type": "code",
   "execution_count": 47,
   "id": "ad89744c",
   "metadata": {},
   "outputs": [
    {
     "data": {
      "image/png": "[encoded data removed]",
      "text/plain": [
       "<Figure size 1080x576 with 1 Axes>"
      ]
     },
     "metadata": {
      "needs_background": "light"
     },
     "output_type": "display_data"
    }
   ],
   "source": [
    "recent_platform_df.reset_index().plot(x='year_of_release', figsize=(15,8), grid=True)\n",
    "plt.xlim()\n",
    "plt.xlim(2010, 2015)\n",
    "plt.title('Top Platforms since 2010: Sales by Year')\n",
    "plt.xlabel(\"Year\")\n",
    "plt.ylabel(\"Total Sales\")\n",
    "plt.show()"
   ]
  },
  {
   "cell_type": "markdown",
   "id": "195ce3e3",
   "metadata": {},
   "source": [
    "## Define period for analysis\n",
    "The market changed in 2013, with the introduction of XOne and PS4.  Since then, we have seen growth of these new platforms and declines older ones.  The data for 2016 appears to be incomplete, as it shows a sudden decilne in sales of these two new platforms.  In order to capture recent market trends, and to avoid erroneous conclusions based on incomplete data from 2016, we will focus on 2013-2015."
   ]
  },
  {
   "cell_type": "code",
   "execution_count": 48,
   "id": "39bbf862",
   "metadata": {},
   "outputs": [],
   "source": [
    "# Filter original dataframe for top selling platforms in recent years\n",
    "df_sel = df[df['platform'].isin(recent_top_platforms.index)]\n",
    "\n",
    "# Further limit to 2013-2015\n",
    "df_sel = df_sel.query('2013 <= year_of_release <= 2015')"
   ]
  },
  {
   "cell_type": "markdown",
   "id": "82fd0261",
   "metadata": {},
   "source": [
    "## Profitable platforms\n",
    "As of 2015, there are 6 platforms that can be deemed \"active.\"  Two are growing, and the other 4 are declining.\n",
    "\n",
    "Growing:\n",
    "\n",
    "- PS4:  Released in 2013.  Current sales leader.\n",
    "- XOne:  Released in 2013.\n",
    "\n",
    "Declining:\n",
    "\n",
    "- 3DS\n",
    "- PS3\n",
    "- X360\n",
    "- PC:  Declining very slowly."
   ]
  },
  {
   "cell_type": "code",
   "execution_count": 49,
   "id": "445efefb",
   "metadata": {},
   "outputs": [
    {
     "data": {
      "image/png": "[encoded data removed]",
      "text/plain": [
       "<Figure size 1080x576 with 1 Axes>"
      ]
     },
     "metadata": {
      "needs_background": "light"
     },
     "output_type": "display_data"
    }
   ],
   "source": [
    "ax = df_sel.boxplot(column='total_sales', by='platform', figsize=(15,8), showfliers=False)\n",
    "ax.set_ylabel('Total Sales')\n",
    "ax.set_title('Total Sales for Popular Platforms (2013-2015)');"
   ]
  },
  {
   "cell_type": "code",
   "execution_count": 50,
   "id": "2f8a5955",
   "metadata": {},
   "outputs": [
    {
     "data": {
      "text/html": [
       "<div>\n",
       "<style scoped>\n",
       "    .dataframe tbody tr th:only-of-type {\n",
       "        vertical-align: middle;\n",
       "    }\n",
       "\n",
       "    .dataframe tbody tr th {\n",
       "        vertical-align: top;\n",
       "    }\n",
       "\n",
       "    .dataframe thead th {\n",
       "        text-align: right;\n",
       "    }\n",
       "</style>\n",
       "<table border=\"1\" class=\"dataframe\">\n",
       "  <thead>\n",
       "    <tr style=\"text-align: right;\">\n",
       "      <th></th>\n",
       "      <th>mean</th>\n",
       "      <th>median</th>\n",
       "    </tr>\n",
       "    <tr>\n",
       "      <th>platform</th>\n",
       "      <th></th>\n",
       "      <th></th>\n",
       "    </tr>\n",
       "  </thead>\n",
       "  <tbody>\n",
       "    <tr>\n",
       "      <th>PS4</th>\n",
       "      <td>1.074079</td>\n",
       "      <td>0.31</td>\n",
       "    </tr>\n",
       "    <tr>\n",
       "      <th>XOne</th>\n",
       "      <td>0.832312</td>\n",
       "      <td>0.35</td>\n",
       "    </tr>\n",
       "    <tr>\n",
       "      <th>X360</th>\n",
       "      <td>0.781965</td>\n",
       "      <td>0.29</td>\n",
       "    </tr>\n",
       "    <tr>\n",
       "      <th>PS3</th>\n",
       "      <td>0.579251</td>\n",
       "      <td>0.19</td>\n",
       "    </tr>\n",
       "    <tr>\n",
       "      <th>3DS</th>\n",
       "      <td>0.498482</td>\n",
       "      <td>0.10</td>\n",
       "    </tr>\n",
       "    <tr>\n",
       "      <th>PC</th>\n",
       "      <td>0.252246</td>\n",
       "      <td>0.10</td>\n",
       "    </tr>\n",
       "  </tbody>\n",
       "</table>\n",
       "</div>"
      ],
      "text/plain": [
       "              mean  median\n",
       "platform                  \n",
       "PS4       1.074079    0.31\n",
       "XOne      0.832312    0.35\n",
       "X360      0.781965    0.29\n",
       "PS3       0.579251    0.19\n",
       "3DS       0.498482    0.10\n",
       "PC        0.252246    0.10"
      ]
     },
     "execution_count": 50,
     "metadata": {},
     "output_type": "execute_result"
    }
   ],
   "source": [
    "df_sel.groupby('platform')['total_sales'].agg(['mean', 'median']).sort_values(by='mean', ascending=False)"
   ]
  },
  {
   "cell_type": "markdown",
   "id": "c3fd20f3",
   "metadata": {},
   "source": [
    "The boxplots show the distribution of sales broken down by platform.  The growth platforms (PS4 and XOne) exhibit the highest mean and median sales.  The most noteworthy finding here is that sales are driven by blockbuster titles. For each plot, the mean is much greater than the median, indicating that a relatively small number of blockbuster games are skewing skew the distribution toward higher total sales."
   ]
  },
  {
   "cell_type": "markdown",
   "id": "c5668433",
   "metadata": {},
   "source": [
    "## Effect of reviews\n",
    "In this section we examine the relationship between game reviews and sales for the current leading platform, the PS4."
   ]
  },
  {
   "cell_type": "markdown",
   "id": "56fca79b",
   "metadata": {},
   "source": [
    "### Critic score"
   ]
  },
  {
   "cell_type": "code",
   "execution_count": 51,
   "id": "f92bae5b",
   "metadata": {},
   "outputs": [
    {
     "data": {
      "image/png": "[encoded data removed]",
      "text/plain": [
       "<Figure size 720x432 with 1 Axes>"
      ]
     },
     "metadata": {
      "needs_background": "light"
     },
     "output_type": "display_data"
    }
   ],
   "source": [
    "df_review = df_sel.query('platform == \"PS4\" & critic_score != -5')\n",
    "df_review.plot(kind='scatter', x='critic_score', y='total_sales', figsize=(10,6))\n",
    "plt.title('Total Sales vs. Critic Score')\n",
    "plt.xlabel('Critic score')\n",
    "plt.ylabel('Total sales')\n",
    "plt.grid()\n",
    "plt.show()"
   ]
  },
  {
   "cell_type": "code",
   "execution_count": 52,
   "id": "99996646",
   "metadata": {},
   "outputs": [
    {
     "data": {
      "text/plain": [
       "0.4063256431988396"
      ]
     },
     "execution_count": 52,
     "metadata": {},
     "output_type": "execute_result"
    }
   ],
   "source": [
    "df_review['critic_score'].corr(df_review['total_sales'])"
   ]
  },
  {
   "cell_type": "markdown",
   "id": "1ff5affc",
   "metadata": {},
   "source": [
    "Although not readily apparent from the graph, there are no zero or missing values for either <code>total_sales</code> or <code>critic_score</code>.  We could say that a high critic score is necessary, but not sufficient, for high sales.  In other words, there are no poorly-reviewed games with high sales, but there are well-reviewed games with low sales.  Overall, there is little correlation between the two variables, and this is reflected by the correlation coefficient of 0.4."
   ]
  },
  {
   "cell_type": "markdown",
   "id": "b9d106fd",
   "metadata": {},
   "source": [
    "### User score"
   ]
  },
  {
   "cell_type": "code",
   "execution_count": 53,
   "id": "e4a5c173",
   "metadata": {},
   "outputs": [
    {
     "data": {
      "image/png": "[encoded data removed]",
      "text/plain": [
       "<Figure size 720x432 with 1 Axes>"
      ]
     },
     "metadata": {
      "needs_background": "light"
     },
     "output_type": "display_data"
    }
   ],
   "source": [
    "df_review = df_sel.query('platform == \"PS4\" & user_score != -5')\n",
    "df_review.plot(kind='scatter', x='user_score', y='total_sales', figsize=(10,6))\n",
    "plt.title('Total Sales vs. User Score')\n",
    "plt.xlabel('User score')\n",
    "plt.ylabel('Total sales')\n",
    "plt.grid()\n",
    "plt.show()"
   ]
  },
  {
   "cell_type": "code",
   "execution_count": 54,
   "id": "381154ec",
   "metadata": {},
   "outputs": [
    {
     "data": {
      "text/plain": [
       "0.0227178477576005"
      ]
     },
     "execution_count": 54,
     "metadata": {},
     "output_type": "execute_result"
    }
   ],
   "source": [
    "df_review['user_score'].corr(df_review['total_sales'])"
   ]
  },
  {
   "cell_type": "markdown",
   "id": "a7eaf25e",
   "metadata": {},
   "source": [
    "Here we see that users may be even more discriminating than critics, in the sense that there are several games that sold well yet had poor user scores.  Overall, there is almost no correlation bewteen <code>user_score</code> and <code>total_sales</code>, and this is confirmed by the correlation coefficient of 0.02."
   ]
  },
  {
   "cell_type": "markdown",
   "id": "f9e2ab22",
   "metadata": {},
   "source": [
    "## Effect of platform"
   ]
  },
  {
   "cell_type": "code",
   "execution_count": 55,
   "id": "7541b8ee",
   "metadata": {},
   "outputs": [
    {
     "data": {
      "text/html": [
       "<div>\n",
       "<style scoped>\n",
       "    .dataframe tbody tr th:only-of-type {\n",
       "        vertical-align: middle;\n",
       "    }\n",
       "\n",
       "    .dataframe tbody tr th {\n",
       "        vertical-align: top;\n",
       "    }\n",
       "\n",
       "    .dataframe thead th {\n",
       "        text-align: right;\n",
       "    }\n",
       "</style>\n",
       "<table border=\"1\" class=\"dataframe\">\n",
       "  <thead>\n",
       "    <tr style=\"text-align: right;\">\n",
       "      <th>platform</th>\n",
       "      <th>3DS</th>\n",
       "      <th>PC</th>\n",
       "      <th>PS3</th>\n",
       "      <th>PS4</th>\n",
       "      <th>X360</th>\n",
       "      <th>XOne</th>\n",
       "      <th>total</th>\n",
       "    </tr>\n",
       "    <tr>\n",
       "      <th>name</th>\n",
       "      <th></th>\n",
       "      <th></th>\n",
       "      <th></th>\n",
       "      <th></th>\n",
       "      <th></th>\n",
       "      <th></th>\n",
       "      <th></th>\n",
       "    </tr>\n",
       "  </thead>\n",
       "  <tbody>\n",
       "    <tr>\n",
       "      <th>Grand Theft Auto V</th>\n",
       "      <td>0.0</td>\n",
       "      <td>1.17</td>\n",
       "      <td>21.05</td>\n",
       "      <td>12.62</td>\n",
       "      <td>16.27</td>\n",
       "      <td>5.47</td>\n",
       "      <td>56.58</td>\n",
       "    </tr>\n",
       "    <tr>\n",
       "      <th>Call of Duty: Ghosts</th>\n",
       "      <td>0.0</td>\n",
       "      <td>0.69</td>\n",
       "      <td>9.36</td>\n",
       "      <td>3.83</td>\n",
       "      <td>10.24</td>\n",
       "      <td>2.92</td>\n",
       "      <td>27.04</td>\n",
       "    </tr>\n",
       "    <tr>\n",
       "      <th>Call of Duty: Black Ops 3</th>\n",
       "      <td>0.0</td>\n",
       "      <td>0.26</td>\n",
       "      <td>1.69</td>\n",
       "      <td>14.63</td>\n",
       "      <td>1.70</td>\n",
       "      <td>7.39</td>\n",
       "      <td>25.67</td>\n",
       "    </tr>\n",
       "    <tr>\n",
       "      <th>Call of Duty: Advanced Warfare</th>\n",
       "      <td>0.0</td>\n",
       "      <td>0.41</td>\n",
       "      <td>4.36</td>\n",
       "      <td>7.66</td>\n",
       "      <td>4.28</td>\n",
       "      <td>5.26</td>\n",
       "      <td>21.97</td>\n",
       "    </tr>\n",
       "    <tr>\n",
       "      <th>Minecraft</th>\n",
       "      <td>0.0</td>\n",
       "      <td>0.00</td>\n",
       "      <td>5.27</td>\n",
       "      <td>4.32</td>\n",
       "      <td>9.18</td>\n",
       "      <td>2.76</td>\n",
       "      <td>21.53</td>\n",
       "    </tr>\n",
       "  </tbody>\n",
       "</table>\n",
       "</div>"
      ],
      "text/plain": [
       "platform                        3DS    PC    PS3    PS4   X360  XOne  total\n",
       "name                                                                       \n",
       "Grand Theft Auto V              0.0  1.17  21.05  12.62  16.27  5.47  56.58\n",
       "Call of Duty: Ghosts            0.0  0.69   9.36   3.83  10.24  2.92  27.04\n",
       "Call of Duty: Black Ops 3       0.0  0.26   1.69  14.63   1.70  7.39  25.67\n",
       "Call of Duty: Advanced Warfare  0.0  0.41   4.36   7.66   4.28  5.26  21.97\n",
       "Minecraft                       0.0  0.00   5.27   4.32   9.18  2.76  21.53"
      ]
     },
     "execution_count": 55,
     "metadata": {},
     "output_type": "execute_result"
    }
   ],
   "source": [
    "df_platform = df_sel.pivot_table(index='name', columns='platform', values='total_sales')\n",
    "df_platform = df_platform.fillna(0)\n",
    "df_platform['total'] = df_platform.apply(lambda x: sum(x), axis=1)\n",
    "df_platform = df_platform.sort_values(by='total', ascending=False).head(5)\n",
    "#df_platform = df_platform.drop(columns=['3DS'])\n",
    "df_platform"
   ]
  },
  {
   "cell_type": "markdown",
   "id": "4fdce313",
   "metadata": {},
   "source": [
    "These are some of the \"blockbuster\" games mentioned earlier.  The highest selling game (_Grand Theft Auto V_) is not the leader on the top platform (PS4) and has higher sales on other platforms (PS3 and X360).  Another top seller (_Call of Duty: Black Ops 3_) sells very well on PS4 but not as well on X360.  The 3DS, while in the list of the top 6 platforms, does not support any of these blockbusters, which require more hardware power than is available on a portable device."
   ]
  },
  {
   "cell_type": "code",
   "execution_count": 56,
   "id": "5f2338a0",
   "metadata": {},
   "outputs": [
    {
     "data": {
      "text/html": [
       "<div>\n",
       "<style scoped>\n",
       "    .dataframe tbody tr th:only-of-type {\n",
       "        vertical-align: middle;\n",
       "    }\n",
       "\n",
       "    .dataframe tbody tr th {\n",
       "        vertical-align: top;\n",
       "    }\n",
       "\n",
       "    .dataframe thead th {\n",
       "        text-align: right;\n",
       "    }\n",
       "</style>\n",
       "<table border=\"1\" class=\"dataframe\">\n",
       "  <thead>\n",
       "    <tr style=\"text-align: right;\">\n",
       "      <th>platform</th>\n",
       "      <th>3DS</th>\n",
       "      <th>PC</th>\n",
       "      <th>PS3</th>\n",
       "      <th>PS4</th>\n",
       "      <th>X360</th>\n",
       "      <th>XOne</th>\n",
       "      <th>total</th>\n",
       "    </tr>\n",
       "    <tr>\n",
       "      <th>name</th>\n",
       "      <th></th>\n",
       "      <th></th>\n",
       "      <th></th>\n",
       "      <th></th>\n",
       "      <th></th>\n",
       "      <th></th>\n",
       "      <th></th>\n",
       "    </tr>\n",
       "  </thead>\n",
       "  <tbody>\n",
       "    <tr>\n",
       "      <th>FIFA 15</th>\n",
       "      <td>0.46</td>\n",
       "      <td>0.29</td>\n",
       "      <td>4.28</td>\n",
       "      <td>6.08</td>\n",
       "      <td>2.92</td>\n",
       "      <td>2.18</td>\n",
       "      <td>16.21</td>\n",
       "    </tr>\n",
       "    <tr>\n",
       "      <th>FIFA 14</th>\n",
       "      <td>0.23</td>\n",
       "      <td>0.40</td>\n",
       "      <td>6.46</td>\n",
       "      <td>3.01</td>\n",
       "      <td>4.22</td>\n",
       "      <td>1.16</td>\n",
       "      <td>15.48</td>\n",
       "    </tr>\n",
       "    <tr>\n",
       "      <th>LEGO Marvel Super Heroes</th>\n",
       "      <td>0.89</td>\n",
       "      <td>0.17</td>\n",
       "      <td>1.83</td>\n",
       "      <td>1.62</td>\n",
       "      <td>2.22</td>\n",
       "      <td>1.05</td>\n",
       "      <td>7.78</td>\n",
       "    </tr>\n",
       "    <tr>\n",
       "      <th>The LEGO Movie Videogame</th>\n",
       "      <td>0.69</td>\n",
       "      <td>0.06</td>\n",
       "      <td>0.93</td>\n",
       "      <td>0.67</td>\n",
       "      <td>1.27</td>\n",
       "      <td>0.53</td>\n",
       "      <td>4.15</td>\n",
       "    </tr>\n",
       "    <tr>\n",
       "      <th>LEGO Jurassic World</th>\n",
       "      <td>0.62</td>\n",
       "      <td>0.04</td>\n",
       "      <td>0.85</td>\n",
       "      <td>0.90</td>\n",
       "      <td>0.87</td>\n",
       "      <td>0.66</td>\n",
       "      <td>3.94</td>\n",
       "    </tr>\n",
       "  </tbody>\n",
       "</table>\n",
       "</div>"
      ],
      "text/plain": [
       "platform                   3DS    PC   PS3   PS4  X360  XOne  total\n",
       "name                                                               \n",
       "FIFA 15                   0.46  0.29  4.28  6.08  2.92  2.18  16.21\n",
       "FIFA 14                   0.23  0.40  6.46  3.01  4.22  1.16  15.48\n",
       "LEGO Marvel Super Heroes  0.89  0.17  1.83  1.62  2.22  1.05   7.78\n",
       "The LEGO Movie Videogame  0.69  0.06  0.93  0.67  1.27  0.53   4.15\n",
       "LEGO Jurassic World       0.62  0.04  0.85  0.90  0.87  0.66   3.94"
      ]
     },
     "execution_count": 56,
     "metadata": {},
     "output_type": "execute_result"
    }
   ],
   "source": [
    "df_platform = df_sel.pivot_table(index='name', columns='platform', values='total_sales')\n",
    "df_platform = df_platform.dropna((0))\n",
    "df_platform['total'] = df_platform.apply(lambda x: sum(x), axis=1)\n",
    "df_platform = df_platform.sort_values(by='total', ascending=False).head(5)\n",
    "df_platform"
   ]
  },
  {
   "cell_type": "markdown",
   "id": "c98258ba",
   "metadata": {},
   "source": [
    "There are the top sellers that are available on all 6 platforms (i.e., including the DS).  Again, the leading platform (PS4) is not the leading platform for every game.  For instance, some of the Lego games have higher sales on the X360 and the older PS3 than on the market-leading PS4."
   ]
  },
  {
   "cell_type": "markdown",
   "id": "e285e22e",
   "metadata": {},
   "source": [
    "## Genre"
   ]
  },
  {
   "cell_type": "code",
   "execution_count": 57,
   "id": "a72bfcd2",
   "metadata": {},
   "outputs": [
    {
     "data": {
      "image/png": "[encoded data removed]",
      "text/plain": [
       "<Figure size 720x720 with 1 Axes>"
      ]
     },
     "metadata": {},
     "output_type": "display_data"
    }
   ],
   "source": [
    "by_genre = pd.DataFrame(df_sel.groupby('genre')['total_sales'].agg('sum')).sort_values(by='total_sales')\n",
    "title = 'Total Sales by Genre'\n",
    "by_genre.plot(y='total_sales', kind='pie', legend=False, autopct='%1.1f%%', figsize=(10,10), title=title);"
   ]
  },
  {
   "cell_type": "markdown",
   "id": "6781e7a8",
   "metadata": {},
   "source": [
    "The Action and Shooter genres are the top genres, accounting for more than 50% of the market in recent years.  One explanation is that these genres take fuller advantages of technological advancements in graphics technology than some of the less-popular genres, such as Platform, Simulation, Strategy, and Puzzle."
   ]
  },
  {
   "cell_type": "markdown",
   "id": "11315d3f",
   "metadata": {},
   "source": [
    "## Conclusion\n",
    "In this section, we performed exploratory data analysis and made the following observations:\n",
    "\n",
    "-  The video game market, at least as reflected in this data set, appears to be declining.  The number of new releases and total yearly sales have been declining since about 2008.  This may be due to the rise of general purpose portable devices such as the iPhone and iPad, as well as the increasing popularity of watching others play games on Youtube.\n",
    "- A look at platform trends from 2000 to 2015 shows the rise and fall of several platforms.  Historically, the life cycle of a platform is about 10 years.\n",
    "- The video game market changed in 2013 with the introduction of XOne and PS4.  These platforms have been growing in recent years, while others have been declining.\n",
    "- While many games are released each year, most have low sales.  Sales are driven by a relatively small number of blockbuster games.\n",
    "- Critic reviews exhibit low correlation with sales.  High critic reviews are necessary but not sufficient to have high sales.  User reviews show even less correlation with sales, as some games sell well despite poor user reviews.\n",
    "- The leading platform (PS4) is not the leader for all games, even for blockbuster games.  The most popular games are not available on portable devices (DS3).\n",
    "- The Action and Shooter genres account for slightly more than half of the market.  These genres tend to exploit technological advances in gaming platforms more than less popular genres."
   ]
  },
  {
   "cell_type": "markdown",
   "id": "34e32ac0",
   "metadata": {},
   "source": [
    "# Regional user profile"
   ]
  },
  {
   "cell_type": "markdown",
   "id": "61166981",
   "metadata": {},
   "source": [
    "## Top platforms by region"
   ]
  },
  {
   "cell_type": "code",
   "execution_count": 58,
   "id": "4910dd34",
   "metadata": {},
   "outputs": [
    {
     "data": {
      "image/png": "[encoded data removed]",
      "text/plain": [
       "<Figure size 1080x360 with 3 Axes>"
      ]
     },
     "metadata": {},
     "output_type": "display_data"
    }
   ],
   "source": [
    "na_platforms = pd.DataFrame(df_sel.groupby('platform')['na_sales'].agg('sum'))\n",
    "eu_platforms = pd.DataFrame(df_sel.groupby('platform')['eu_sales'].agg('sum'))\n",
    "jp_platforms = pd.DataFrame(df_sel.groupby('platform')['jp_sales'].agg('sum'))\n",
    "\n",
    "fig, (ax1, ax2, ax3) = plt.subplots(1, 3, figsize=(15, 5))\n",
    "fig.suptitle('Platform Market Share')\n",
    "\n",
    "ax1.set_title('North America')\n",
    "ax1.pie(na_platforms['na_sales'], labels=na_platforms.index)\n",
    "\n",
    "ax2.set_title('Europe')\n",
    "ax2.pie(eu_platforms['eu_sales'], labels=eu_platforms.index)\n",
    "\n",
    "ax3.set_title('Japan')\n",
    "jp_labels = jp_platforms.index.tolist()[:-2]\n",
    "jp_labels.append('XOne & X360')\n",
    "jp_labels.append('')\n",
    "ax3.pie(jp_platforms['jp_sales'], labels=jp_labels)\n",
    "\n",
    "plt.show()"
   ]
  },
  {
   "cell_type": "code",
   "execution_count": 59,
   "id": "36ac3f68",
   "metadata": {},
   "outputs": [
    {
     "data": {
      "text/html": [
       "<div>\n",
       "<style scoped>\n",
       "    .dataframe tbody tr th:only-of-type {\n",
       "        vertical-align: middle;\n",
       "    }\n",
       "\n",
       "    .dataframe tbody tr th {\n",
       "        vertical-align: top;\n",
       "    }\n",
       "\n",
       "    .dataframe thead th {\n",
       "        text-align: right;\n",
       "    }\n",
       "</style>\n",
       "<table border=\"1\" class=\"dataframe\">\n",
       "  <thead>\n",
       "    <tr style=\"text-align: right;\">\n",
       "      <th></th>\n",
       "      <th>NA %</th>\n",
       "      <th>EU %</th>\n",
       "      <th>JP %</th>\n",
       "    </tr>\n",
       "    <tr>\n",
       "      <th>platform</th>\n",
       "      <th></th>\n",
       "      <th></th>\n",
       "      <th></th>\n",
       "    </tr>\n",
       "  </thead>\n",
       "  <tbody>\n",
       "    <tr>\n",
       "      <th>3DS</th>\n",
       "      <td>9.6</td>\n",
       "      <td>9.2</td>\n",
       "      <td>64.4</td>\n",
       "    </tr>\n",
       "    <tr>\n",
       "      <th>PC</th>\n",
       "      <td>2.8</td>\n",
       "      <td>7.2</td>\n",
       "      <td>0.0</td>\n",
       "    </tr>\n",
       "    <tr>\n",
       "      <th>PS3</th>\n",
       "      <td>17.8</td>\n",
       "      <td>21.4</td>\n",
       "      <td>23.7</td>\n",
       "    </tr>\n",
       "    <tr>\n",
       "      <th>PS4</th>\n",
       "      <td>24.7</td>\n",
       "      <td>35.2</td>\n",
       "      <td>11.0</td>\n",
       "    </tr>\n",
       "    <tr>\n",
       "      <th>X360</th>\n",
       "      <td>22.9</td>\n",
       "      <td>13.5</td>\n",
       "      <td>0.5</td>\n",
       "    </tr>\n",
       "    <tr>\n",
       "      <th>XOne</th>\n",
       "      <td>22.3</td>\n",
       "      <td>13.5</td>\n",
       "      <td>0.4</td>\n",
       "    </tr>\n",
       "  </tbody>\n",
       "</table>\n",
       "</div>"
      ],
      "text/plain": [
       "          NA %  EU %  JP %\n",
       "platform                  \n",
       "3DS        9.6   9.2  64.4\n",
       "PC         2.8   7.2   0.0\n",
       "PS3       17.8  21.4  23.7\n",
       "PS4       24.7  35.2  11.0\n",
       "X360      22.9  13.5   0.5\n",
       "XOne      22.3  13.5   0.4"
      ]
     },
     "execution_count": 59,
     "metadata": {},
     "output_type": "execute_result"
    }
   ],
   "source": [
    "na_platforms = round(na_platforms/na_platforms.sum()*100, 1)\n",
    "na_platforms.columns = ['NA %']\n",
    "eu_platforms = round(eu_platforms/eu_platforms.sum()*100, 1)\n",
    "eu_platforms.columns = ['EU %']\n",
    "jp_platforms = round(jp_platforms/jp_platforms.sum()*100, 1)\n",
    "jp_platforms.columns = ['JP %']\n",
    "na_platforms.join(eu_platforms).join(jp_platforms)"
   ]
  },
  {
   "cell_type": "markdown",
   "id": "43b45500",
   "metadata": {},
   "source": [
    "The market shares of various platforms are similar for North America and Europe, but there is a difference in the adoption of the newer platforms, PS4 and XOne.  North America has been friendlier to the XOne, while Europe has been faster to adopt the PS4.  PC gaming appears to retain a bit more popularity in Europe than in North America.\n",
    "\n",
    "While North America and Europe showed similar market shares for various platforms, Japan presents a very different picture.  In Japan, the portable 3DS is dominant, and among consoles, the PS3 and PS4 dwarf the popularity of Microsoft's platforms."
   ]
  },
  {
   "cell_type": "markdown",
   "id": "432887d2",
   "metadata": {},
   "source": [
    "## Top genres by region"
   ]
  },
  {
   "cell_type": "code",
   "execution_count": 60,
   "id": "8997c923",
   "metadata": {},
   "outputs": [
    {
     "data": {
      "text/html": [
       "<div>\n",
       "<style scoped>\n",
       "    .dataframe tbody tr th:only-of-type {\n",
       "        vertical-align: middle;\n",
       "    }\n",
       "\n",
       "    .dataframe tbody tr th {\n",
       "        vertical-align: top;\n",
       "    }\n",
       "\n",
       "    .dataframe thead th {\n",
       "        text-align: right;\n",
       "    }\n",
       "</style>\n",
       "<table border=\"1\" class=\"dataframe\">\n",
       "  <thead>\n",
       "    <tr style=\"text-align: right;\">\n",
       "      <th></th>\n",
       "      <th>NA ranking</th>\n",
       "      <th>EU ranking</th>\n",
       "      <th>JP ranking</th>\n",
       "    </tr>\n",
       "  </thead>\n",
       "  <tbody>\n",
       "    <tr>\n",
       "      <th>0</th>\n",
       "      <td>Action</td>\n",
       "      <td>Action</td>\n",
       "      <td>Role-Playing</td>\n",
       "    </tr>\n",
       "    <tr>\n",
       "      <th>1</th>\n",
       "      <td>Shooter</td>\n",
       "      <td>Shooter</td>\n",
       "      <td>Action</td>\n",
       "    </tr>\n",
       "    <tr>\n",
       "      <th>2</th>\n",
       "      <td>Sports</td>\n",
       "      <td>Sports</td>\n",
       "      <td>Fighting</td>\n",
       "    </tr>\n",
       "    <tr>\n",
       "      <th>3</th>\n",
       "      <td>Role-Playing</td>\n",
       "      <td>Role-Playing</td>\n",
       "      <td>Misc</td>\n",
       "    </tr>\n",
       "    <tr>\n",
       "      <th>4</th>\n",
       "      <td>Misc</td>\n",
       "      <td>Racing</td>\n",
       "      <td>Simulation</td>\n",
       "    </tr>\n",
       "  </tbody>\n",
       "</table>\n",
       "</div>"
      ],
      "text/plain": [
       "     NA ranking    EU ranking    JP ranking\n",
       "0        Action        Action  Role-Playing\n",
       "1       Shooter       Shooter        Action\n",
       "2        Sports        Sports      Fighting\n",
       "3  Role-Playing  Role-Playing          Misc\n",
       "4          Misc        Racing    Simulation"
      ]
     },
     "execution_count": 60,
     "metadata": {},
     "output_type": "execute_result"
    }
   ],
   "source": [
    "na_rank = df_sel.groupby('genre')['na_sales'].agg('sum').sort_values(ascending=False).head(5).index\n",
    "eu_rank = df_sel.groupby('genre')['eu_sales'].agg('sum').sort_values(ascending=False).head(5).index\n",
    "jp_rank = df_sel.groupby('genre')['jp_sales'].agg('sum').sort_values(ascending=False).head(5).index\n",
    "pd.DataFrame({'NA ranking' : na_rank, 'EU ranking' : eu_rank, 'JP ranking' : jp_rank})"
   ]
  },
  {
   "cell_type": "markdown",
   "id": "fb6bd9d5",
   "metadata": {},
   "source": [
    "Just as the market shares of platform are similar for Europe and North America, so, too, are market shares of various genres.\n",
    "\n",
    "Again, Japan is different, with Role-Playing games taking the lead and Shooter and Sports games failing to make the top 5.  The difference in the popularity of various genres may reflect cultural differences, as well as the fact that some blockbuster games are not available on the 3DS, while is so popular in Japan."
   ]
  },
  {
   "cell_type": "markdown",
   "id": "5271f378",
   "metadata": {},
   "source": [
    "## Regional effect of ESRB rating"
   ]
  },
  {
   "cell_type": "code",
   "execution_count": 61,
   "id": "d90ca25d",
   "metadata": {},
   "outputs": [
    {
     "data": {
      "text/html": [
       "<div>\n",
       "<style scoped>\n",
       "    .dataframe tbody tr th:only-of-type {\n",
       "        vertical-align: middle;\n",
       "    }\n",
       "\n",
       "    .dataframe tbody tr th {\n",
       "        vertical-align: top;\n",
       "    }\n",
       "\n",
       "    .dataframe thead th {\n",
       "        text-align: right;\n",
       "    }\n",
       "</style>\n",
       "<table border=\"1\" class=\"dataframe\">\n",
       "  <thead>\n",
       "    <tr style=\"text-align: right;\">\n",
       "      <th></th>\n",
       "      <th>na_sales</th>\n",
       "      <th>eu_sales</th>\n",
       "      <th>jp_sales</th>\n",
       "    </tr>\n",
       "    <tr>\n",
       "      <th>rating</th>\n",
       "      <th></th>\n",
       "      <th></th>\n",
       "      <th></th>\n",
       "    </tr>\n",
       "  </thead>\n",
       "  <tbody>\n",
       "    <tr>\n",
       "      <th>E</th>\n",
       "      <td>20.3</td>\n",
       "      <td>23.3</td>\n",
       "      <td>23.7</td>\n",
       "    </tr>\n",
       "    <tr>\n",
       "      <th>E10+</th>\n",
       "      <td>13.1</td>\n",
       "      <td>11.5</td>\n",
       "      <td>9.3</td>\n",
       "    </tr>\n",
       "    <tr>\n",
       "      <th>M</th>\n",
       "      <td>53.1</td>\n",
       "      <td>53.0</td>\n",
       "      <td>30.7</td>\n",
       "    </tr>\n",
       "    <tr>\n",
       "      <th>T</th>\n",
       "      <td>13.4</td>\n",
       "      <td>12.1</td>\n",
       "      <td>36.4</td>\n",
       "    </tr>\n",
       "  </tbody>\n",
       "</table>\n",
       "</div>"
      ],
      "text/plain": [
       "        na_sales  eu_sales  jp_sales\n",
       "rating                              \n",
       "E           20.3      23.3      23.7\n",
       "E10+        13.1      11.5       9.3\n",
       "M           53.1      53.0      30.7\n",
       "T           13.4      12.1      36.4"
      ]
     },
     "execution_count": 61,
     "metadata": {},
     "output_type": "execute_result"
    }
   ],
   "source": [
    "na = df_sel.groupby('rating')['na_sales'].agg('sum')[1:]\n",
    "na = pd.DataFrame(round(na/na.sum()*100, 1))\n",
    "eu = df_sel.groupby('rating')['eu_sales'].agg('sum')[1:]\n",
    "eu = pd.DataFrame(round(eu/eu.sum()*100, 1))\n",
    "jp = df_sel.groupby('rating')['jp_sales'].agg('sum')[1:]\n",
    "jp = round(jp/jp.sum()*100, 1)\n",
    "rating = na.join(eu).join(jp)\n",
    "rating"
   ]
  },
  {
   "cell_type": "markdown",
   "id": "b707c9f6",
   "metadata": {},
   "source": [
    "Does ESRB rating affect game sales in different regions?  We have insufficient data to answer this question.  In fact, rating systems vary by country.  ESRB is used in North America, but Europe uses a system called PEGI and Japan uses a system called CERO (https://www.makeuseof.com/tag/video-game-ratings-guide-esrb-pegi/).  What we can observe is that, once again, the North American and European markets are similar, while the Japanese market is different.  In the Japanese market, games rated M (Mature) have lower sales, while games rated T (Teen) are have higher sales."
   ]
  },
  {
   "cell_type": "markdown",
   "id": "3497e840",
   "metadata": {},
   "source": [
    "## Conclusion\n",
    "In this section, we looked at platform market share, genre popularity, and ESRB ratings by region.\n",
    "\n",
    "- Platform market share is similar in North America and Europe, but North America has shown slightly greater adoption of XOne.\n",
    "- Platform market share is different in Japan, where the 3DS is relatively popular, and among consoles, the PS3 and PS4 are dominant, while the X360 and XOne have almost no market share.\n",
    "- In terms of genre popularity, again, North America and Europe are similar, and Action is the most popular genre.  In Japan, role playing is the most popular genre.  The differences in genre popularity may reflect cultural differences as well as the fact that genre is somewhat related to platform, and as we've seen, platform market share is different in Japan.\n",
    "- North America and Europe show similar sales percentages for various ESRB ratings.  However, comparing ESRB ratings among regions is problematic because ESRB a North American system, and Europe and Japan use different systems."
   ]
  },
  {
   "cell_type": "markdown",
   "id": "fd3ea44a",
   "metadata": {},
   "source": [
    "# Statistical data analysis\n",
    "In this section, we perform statistical hypothesis tests two answer two questions, as stated below.\n",
    "\n",
    "For our hypothesis tests, we will use a signifiance level (alpha) of 0.05. This is a conventional, albeit arbitrary, choice. If we were to choose a higher alpha, such as 0.1, we would increase the risk making a type I error, i.e., mistakenly concluding that there is a difference (rejecting the null hypothesis) when in fact there is no difference. On the other hand, if we were to select a lower alpha, such as 0.01, we would increase the risk of making a type II error, mistakenly concluding that is is no difference (failing to reject the null hypothesis), when in fact there is a difference."
   ]
  },
  {
   "cell_type": "markdown",
   "id": "a683d2c8",
   "metadata": {},
   "source": [
    "## Are the average user ratings of the Xbox One and PC platforms are the same?"
   ]
  },
  {
   "cell_type": "code",
   "execution_count": 62,
   "id": "fc7299d6",
   "metadata": {},
   "outputs": [
    {
     "name": "stdout",
     "output_type": "stream",
     "text": [
      "Xbox One: 132 user scores with mean of 6.55 and variance of 1.70.\n",
      "PC: 115 user scores with mean of 6.25 and variance of 3.03.\n"
     ]
    }
   ],
   "source": [
    "df_xbox_ratings = df_sel.query('platform == \"XOne\" & platform == platform & user_score != -5')['user_score'].values\n",
    "print('Xbox One: {:.0f} user scores with mean of {:.2f} and variance of {:.2f}.'.format(len(df_xbox_ratings), df_xbox_ratings.mean(), np.var(df_xbox_ratings)))\n",
    "\n",
    "df_pc_ratings = df_sel.query('platform == \"PC\" & platform == platform & user_score != -5')['user_score'].values\n",
    "print('PC: {:.0f} user scores with mean of {:.2f} and variance of {:.2f}.'.format(len(df_pc_ratings), df_pc_ratings.mean(), np.var(df_pc_ratings)))"
   ]
  },
  {
   "cell_type": "markdown",
   "id": "f0700e81",
   "metadata": {},
   "source": [
    "The Xbox One has higher average user scores, but could this difference be due to chance?  To answer this question, we will construct a hypothesis test.\n",
    "- **H<sub>0</sub>**: The average user scores of the Xbox One and PC are equal.\n",
    "- **H<sub>1</sub>**: The average user scores of the Xbox One and PC are not equal."
   ]
  },
  {
   "cell_type": "code",
   "execution_count": 63,
   "id": "43e19af5",
   "metadata": {},
   "outputs": [
    {
     "name": "stdout",
     "output_type": "stream",
     "text": [
      "Levene test: user score distributions do NOT have equal variance. (p=2.19e-03)\n"
     ]
    }
   ],
   "source": [
    "results = levene(df_xbox_ratings, df_pc_ratings)\n",
    "if results.pvalue < 0.05:\n",
    "    print('Levene test: user score distributions do NOT have equal variance. (p={:.2e})'.format(results.pvalue))\n",
    "else:\n",
    "    print('Levene test: user score distributions DO have equal variance. (p={:.2e})'.format(results.pvalue))"
   ]
  },
  {
   "cell_type": "code",
   "execution_count": 64,
   "id": "bd6ffc36",
   "metadata": {},
   "outputs": [
    {
     "name": "stdout",
     "output_type": "stream",
     "text": [
      "p-value: 1.39e-01\n",
      "We can't reject the null hypothesis.\n"
     ]
    }
   ],
   "source": [
    "alpha = 0.05\n",
    "results = st.ttest_ind(df_xbox_ratings, df_pc_ratings, equal_var=False)\n",
    "\n",
    "print('p-value: {:.2e}'.format(results.pvalue))\n",
    "\n",
    "if results.pvalue < alpha:\n",
    "    print(\"We reject the null hypothesis.\")\n",
    "else:\n",
    "    print(\"We can't reject the null hypothesis.\") "
   ]
  },
  {
   "cell_type": "markdown",
   "id": "e2394a01",
   "metadata": {},
   "source": [
    "Assuming that the null hypothesis (that the average user scores for Xbox One and PC are equal) is true, there is a 14%  of observing a difference in average user scores of 0.3 (6.55 - 6.25).  Therefore, we can't reject the null hypothesis, and we conclude that there is no statistical difference in average user scores for the two platforms."
   ]
  },
  {
   "cell_type": "markdown",
   "id": "ade39a6c",
   "metadata": {},
   "source": [
    "## Are the average user ratings for the Action and Sports genres different?"
   ]
  },
  {
   "cell_type": "code",
   "execution_count": 65,
   "id": "4fdf6e73",
   "metadata": {},
   "outputs": [
    {
     "name": "stdout",
     "output_type": "stream",
     "text": [
      "Action genre: 291 user scores with mean of 6.87 and variance of 1.63.\n",
      "Sports genre: 121 user scores with mean of 5.10 and variance of 2.64.\n"
     ]
    }
   ],
   "source": [
    "df_action_ratings = df_sel.query('genre == \"Action\" & user_score != -5')['user_score'].values\n",
    "print('Action genre: {:.0f} user scores with mean of {:.2f} and variance of {:.2f}.'.format(len(df_action_ratings), df_action_ratings.mean(), np.var(df_action_ratings)))\n",
    "\n",
    "df_sports_ratings = df_sel.query('genre == \"Sports\" & user_score != -5')['user_score'].values\n",
    "print('Sports genre: {:.0f} user scores with mean of {:.2f} and variance of {:.2f}.'.format(len(df_sports_ratings), df_sports_ratings.mean(), np.var(df_sports_ratings)))"
   ]
  },
  {
   "cell_type": "markdown",
   "id": "4aa2d658",
   "metadata": {},
   "source": [
    "The Action genre higher average user scores, but could this difference be due to chance?  To answer this question, we will construct a hypothesis test.\n",
    "- **H<sub>0</sub>**: The average user scores for the Action and Sports genres are equal.\n",
    "- **H<sub>1</sub>**: The average user scores of the Action and Sports genres are not equal."
   ]
  },
  {
   "cell_type": "code",
   "execution_count": 66,
   "id": "844b21ae",
   "metadata": {},
   "outputs": [
    {
     "name": "stdout",
     "output_type": "stream",
     "text": [
      "Levene test: user score distributions do NOT have equal variance. (p=6.27e-05)\n"
     ]
    }
   ],
   "source": [
    "results = levene(df_action_ratings, df_sports_ratings)\n",
    "if results.pvalue < 0.05:\n",
    "    print('Levene test: user score distributions do NOT have equal variance. (p={:.2e})'.format(results.pvalue))\n",
    "else:\n",
    "    print('Levene test: user score distributions DO have equal variance. (p={:.2e})'.format(results.pvalue))"
   ]
  },
  {
   "cell_type": "code",
   "execution_count": 67,
   "id": "39613072",
   "metadata": {},
   "outputs": [
    {
     "name": "stdout",
     "output_type": "stream",
     "text": [
      "p-value: 6.60e-21\n",
      "We reject the null hypothesis.\n"
     ]
    }
   ],
   "source": [
    "alpha = 0.05\n",
    "results = st.ttest_ind(df_action_ratings, df_sports_ratings, equal_var=False)\n",
    "\n",
    "print('p-value: {:.2e}'.format(results.pvalue))\n",
    "\n",
    "if results.pvalue < alpha:\n",
    "    print(\"We reject the null hypothesis.\")\n",
    "else:\n",
    "    print(\"We can't reject the null hypothesis.\") "
   ]
  },
  {
   "cell_type": "markdown",
   "id": "52a71128",
   "metadata": {},
   "source": [
    "Assuming that the null hypothesis (that the average rates for the Action an Sports genres are equal) is true, there is essentially zero probability of observing a difference of 1.77 (6.87 - 5.1).  Therefore, we reject the null hypothesis and conclude that there is a statistically significant difference in average user ratings for the two genres."
   ]
  },
  {
   "cell_type": "markdown",
   "id": "5020bec5",
   "metadata": {},
   "source": [
    "## Conclusion\n",
    "In this section, we performed hypothesis tests to answer two questions:\n",
    "\n",
    "1. Are the average user ratings of the Xbox One and PC platforms are the same?\n",
    "    - We failed to find a statistically significant difference in the average user ratings for these two platforms.\n",
    "2. Are the average user ratings for the Action and Sports genres different?\n",
    "    - We did find a statistically significant difference in the average ratings for these two genres."
   ]
  },
  {
   "cell_type": "markdown",
   "id": "2ce1d5b5",
   "metadata": {},
   "source": [
    "# Conclusion\n",
    "In this project, analyzed video game sales data for Ice, an online store.\n",
    "\n",
    "- During our preliminary data review, we identified missing values and other preprocessing needs.\n",
    "- In data preprocessing, we carried out the preprocessing requirements as identified.  We added a column for <code>total_sales</code>, changed the data type for <code>year_of_release</code>, and filled in default values where possible.  However, our data set had many missing values that could not be filled by anything other than a dummy value.\n",
    "- In the exploratory data analysis phase, we made several observations:\n",
    "    - The video game market, as reflected in this data set, appears to be declining.  This is likely due to the introduction of smart phones and tablets.\n",
    "    - Current conditions in the market were established in 2013, with the introduction of XOne and PS4.  We found that data for 2016 was incomplete, so we focused subsequent analysis on three years: 2013-2015.\n",
    "    - Total video game sales are driven by a relatively small number of blockbuster releases.\n",
    "    - Critic and user reviews exhibit poor correlation with sales.\n",
    "    - The PS4 is the leading platform, but it is not the leading platform for all games.  The DS3 is a popular mobile platform that doesn't support graphics-intensive blockbuster games.\n",
    "    - The Action and Shooter genres account for slightly more than half of the market. These genres tend to exploit technological advances in gaming platforms more than less popular genres.\n",
    "- Next, we developed a regional user profile for the video game market.\n",
    "    - North America and Europe exhibit similar characteristics in terms of platform market share and genre popularity.\n",
    "    - In Japan, the DS3 platform is very popular, and Role Playing is a more popular genre.\n",
    "    - North America and Europe exhibit similar sales breakdown by ESRB rating, but ESRB may be inappropriate for comparison between regions because Europe and Japan use different rating systems.\n",
    "- Finally, we performed statistical hypothesis testing.\n",
    "    - We did not find a statistically significant difference in average user rating between the Xbox One and PC platforms.\n",
    "    - We did find a statistically significant difference in average user rating between the Action and Sports genres.\n"
   ]
  }
 ],
 "metadata": {
  "ExecuteTimeLog": [
   {
    "duration": 1454,
    "start_time": "2021-11-04T21:24:59.570Z"
   },
   {
    "duration": 11,
    "start_time": "2021-11-04T21:25:01.027Z"
   },
   {
    "duration": 19,
    "start_time": "2021-11-04T21:25:01.042Z"
   },
   {
    "duration": 10,
    "start_time": "2021-11-04T21:25:01.063Z"
   },
   {
    "duration": 28,
    "start_time": "2021-11-04T21:25:01.074Z"
   },
   {
    "duration": 15,
    "start_time": "2021-11-04T21:25:01.104Z"
   },
   {
    "duration": 7,
    "start_time": "2021-11-04T21:25:01.121Z"
   },
   {
    "duration": 20,
    "start_time": "2021-11-04T21:25:01.130Z"
   },
   {
    "duration": 15,
    "start_time": "2021-11-04T21:25:01.152Z"
   },
   {
    "duration": 25,
    "start_time": "2021-11-04T21:25:01.169Z"
   },
   {
    "duration": 14,
    "start_time": "2021-11-04T21:25:01.196Z"
   },
   {
    "duration": 4197,
    "start_time": "2021-11-04T21:25:01.212Z"
   },
   {
    "duration": 5,
    "start_time": "2021-11-04T21:25:05.410Z"
   },
   {
    "duration": 15,
    "start_time": "2021-11-04T21:25:05.417Z"
   },
   {
    "duration": 14,
    "start_time": "2021-11-04T21:25:05.434Z"
   },
   {
    "duration": 15,
    "start_time": "2021-11-04T21:25:05.450Z"
   },
   {
    "duration": 25,
    "start_time": "2021-11-04T21:25:05.467Z"
   },
   {
    "duration": 3539,
    "start_time": "2021-11-04T21:25:05.494Z"
   },
   {
    "duration": 9,
    "start_time": "2021-11-04T21:25:09.035Z"
   },
   {
    "duration": 17,
    "start_time": "2021-11-04T21:25:09.046Z"
   },
   {
    "duration": 7,
    "start_time": "2021-11-04T21:25:09.065Z"
   },
   {
    "duration": 5,
    "start_time": "2021-11-04T21:25:09.077Z"
   },
   {
    "duration": 7,
    "start_time": "2021-11-04T21:25:09.085Z"
   },
   {
    "duration": 3432,
    "start_time": "2021-11-04T21:25:09.094Z"
   },
   {
    "duration": 5,
    "start_time": "2021-11-04T21:25:12.527Z"
   },
   {
    "duration": 14,
    "start_time": "2021-11-04T21:25:12.533Z"
   },
   {
    "duration": 19,
    "start_time": "2021-11-04T21:25:12.548Z"
   },
   {
    "duration": 12,
    "start_time": "2021-11-04T21:25:12.568Z"
   },
   {
    "duration": 14,
    "start_time": "2021-11-04T21:25:12.581Z"
   },
   {
    "duration": 11,
    "start_time": "2021-11-04T21:25:12.597Z"
   },
   {
    "duration": 15,
    "start_time": "2021-11-04T21:25:12.609Z"
   },
   {
    "duration": 5387,
    "start_time": "2021-11-04T21:25:12.625Z"
   },
   {
    "duration": 7,
    "start_time": "2021-11-04T21:25:18.013Z"
   },
   {
    "duration": 28,
    "start_time": "2021-11-04T21:25:18.022Z"
   },
   {
    "duration": 271,
    "start_time": "2021-11-04T21:25:18.051Z"
   },
   {
    "duration": 274,
    "start_time": "2021-11-04T21:25:18.324Z"
   },
   {
    "duration": 13,
    "start_time": "2021-11-04T21:25:18.599Z"
   },
   {
    "duration": 31,
    "start_time": "2021-11-04T21:25:18.614Z"
   },
   {
    "duration": 355,
    "start_time": "2021-11-04T21:25:18.647Z"
   },
   {
    "duration": 43,
    "start_time": "2021-11-04T21:25:19.003Z"
   },
   {
    "duration": 22,
    "start_time": "2021-11-04T21:25:19.048Z"
   },
   {
    "duration": 378,
    "start_time": "2021-11-04T21:25:19.072Z"
   },
   {
    "duration": 11,
    "start_time": "2021-11-04T21:25:19.452Z"
   },
   {
    "duration": 337,
    "start_time": "2021-11-04T21:25:19.465Z"
   },
   {
    "duration": 10,
    "start_time": "2021-11-04T21:25:19.803Z"
   },
   {
    "duration": 384,
    "start_time": "2021-11-04T21:25:19.815Z"
   },
   {
    "duration": 4,
    "start_time": "2021-11-04T21:25:20.201Z"
   },
   {
    "duration": 349,
    "start_time": "2021-11-04T21:25:20.207Z"
   },
   {
    "duration": 5,
    "start_time": "2021-11-04T21:25:20.557Z"
   },
   {
    "duration": 47,
    "start_time": "2021-11-04T21:25:20.564Z"
   },
   {
    "duration": 31,
    "start_time": "2021-11-04T21:25:20.613Z"
   },
   {
    "duration": 205,
    "start_time": "2021-11-04T21:25:20.645Z"
   },
   {
    "duration": 125,
    "start_time": "2021-11-04T21:25:20.852Z"
   },
   {
    "duration": 122,
    "start_time": "2021-11-04T21:25:20.979Z"
   },
   {
    "duration": 117,
    "start_time": "2021-11-04T21:25:21.103Z"
   },
   {
    "duration": 23,
    "start_time": "2021-11-04T21:25:21.222Z"
   },
   {
    "duration": 19,
    "start_time": "2021-11-04T21:25:21.247Z"
   },
   {
    "duration": 13,
    "start_time": "2021-11-04T21:25:21.267Z"
   },
   {
    "duration": 16,
    "start_time": "2021-11-04T21:25:21.282Z"
   },
   {
    "duration": 12,
    "start_time": "2021-11-04T21:25:21.299Z"
   },
   {
    "duration": 32,
    "start_time": "2021-11-04T21:25:21.313Z"
   },
   {
    "duration": 5,
    "start_time": "2021-11-04T21:25:21.347Z"
   },
   {
    "duration": 5,
    "start_time": "2021-11-04T21:25:21.354Z"
   },
   {
    "duration": 90,
    "start_time": "2021-11-04T21:28:42.177Z"
   },
   {
    "duration": 10,
    "start_time": "2021-11-04T21:43:59.991Z"
   },
   {
    "duration": 6,
    "start_time": "2021-11-04T21:44:54.164Z"
   },
   {
    "duration": 87,
    "start_time": "2021-11-04T21:50:17.801Z"
   },
   {
    "duration": 435,
    "start_time": "2021-11-05T07:18:47.068Z"
   },
   {
    "duration": 1733,
    "start_time": "2021-11-05T07:18:53.014Z"
   },
   {
    "duration": 17,
    "start_time": "2021-11-05T07:18:54.750Z"
   },
   {
    "duration": 32,
    "start_time": "2021-11-05T07:18:54.770Z"
   },
   {
    "duration": 19,
    "start_time": "2021-11-05T07:18:57.410Z"
   },
   {
    "duration": 30,
    "start_time": "2021-11-05T07:18:58.215Z"
   },
   {
    "duration": 503,
    "start_time": "2021-11-05T07:29:30.482Z"
   },
   {
    "duration": -181,
    "start_time": "2021-11-05T07:29:31.172Z"
   },
   {
    "duration": -184,
    "start_time": "2021-11-05T07:29:31.176Z"
   },
   {
    "duration": -343,
    "start_time": "2021-11-05T07:29:31.337Z"
   },
   {
    "duration": -344,
    "start_time": "2021-11-05T07:29:31.339Z"
   },
   {
    "duration": -345,
    "start_time": "2021-11-05T07:29:31.341Z"
   },
   {
    "duration": -345,
    "start_time": "2021-11-05T07:29:31.343Z"
   },
   {
    "duration": -345,
    "start_time": "2021-11-05T07:29:31.344Z"
   },
   {
    "duration": -346,
    "start_time": "2021-11-05T07:29:31.347Z"
   },
   {
    "duration": -347,
    "start_time": "2021-11-05T07:29:31.349Z"
   },
   {
    "duration": -348,
    "start_time": "2021-11-05T07:29:31.351Z"
   },
   {
    "duration": -348,
    "start_time": "2021-11-05T07:29:31.352Z"
   },
   {
    "duration": -348,
    "start_time": "2021-11-05T07:29:31.354Z"
   },
   {
    "duration": -349,
    "start_time": "2021-11-05T07:29:31.356Z"
   },
   {
    "duration": -348,
    "start_time": "2021-11-05T07:29:31.357Z"
   },
   {
    "duration": -349,
    "start_time": "2021-11-05T07:29:31.359Z"
   },
   {
    "duration": -348,
    "start_time": "2021-11-05T07:29:31.360Z"
   },
   {
    "duration": -349,
    "start_time": "2021-11-05T07:29:31.362Z"
   },
   {
    "duration": -350,
    "start_time": "2021-11-05T07:29:31.364Z"
   },
   {
    "duration": -349,
    "start_time": "2021-11-05T07:29:31.365Z"
   },
   {
    "duration": -350,
    "start_time": "2021-11-05T07:29:31.367Z"
   },
   {
    "duration": -353,
    "start_time": "2021-11-05T07:29:31.371Z"
   },
   {
    "duration": -353,
    "start_time": "2021-11-05T07:29:31.373Z"
   },
   {
    "duration": -353,
    "start_time": "2021-11-05T07:29:31.374Z"
   },
   {
    "duration": -353,
    "start_time": "2021-11-05T07:29:31.375Z"
   },
   {
    "duration": -462,
    "start_time": "2021-11-05T07:29:31.486Z"
   },
   {
    "duration": -462,
    "start_time": "2021-11-05T07:29:31.487Z"
   },
   {
    "duration": -461,
    "start_time": "2021-11-05T07:29:31.488Z"
   },
   {
    "duration": -462,
    "start_time": "2021-11-05T07:29:31.490Z"
   },
   {
    "duration": -461,
    "start_time": "2021-11-05T07:29:31.491Z"
   },
   {
    "duration": -461,
    "start_time": "2021-11-05T07:29:31.492Z"
   },
   {
    "duration": -460,
    "start_time": "2021-11-05T07:29:31.493Z"
   },
   {
    "duration": -460,
    "start_time": "2021-11-05T07:29:31.494Z"
   },
   {
    "duration": -459,
    "start_time": "2021-11-05T07:29:31.495Z"
   },
   {
    "duration": -459,
    "start_time": "2021-11-05T07:29:31.496Z"
   },
   {
    "duration": -460,
    "start_time": "2021-11-05T07:29:31.498Z"
   },
   {
    "duration": -459,
    "start_time": "2021-11-05T07:29:31.499Z"
   },
   {
    "duration": -400,
    "start_time": "2021-11-05T07:29:31.500Z"
   },
   {
    "duration": -399,
    "start_time": "2021-11-05T07:29:31.501Z"
   },
   {
    "duration": -400,
    "start_time": "2021-11-05T07:29:31.503Z"
   },
   {
    "duration": -400,
    "start_time": "2021-11-05T07:29:31.504Z"
   },
   {
    "duration": -399,
    "start_time": "2021-11-05T07:29:31.505Z"
   },
   {
    "duration": -399,
    "start_time": "2021-11-05T07:29:31.506Z"
   },
   {
    "duration": -398,
    "start_time": "2021-11-05T07:29:31.507Z"
   },
   {
    "duration": -398,
    "start_time": "2021-11-05T07:29:31.508Z"
   },
   {
    "duration": -397,
    "start_time": "2021-11-05T07:29:31.509Z"
   },
   {
    "duration": -397,
    "start_time": "2021-11-05T07:29:31.510Z"
   },
   {
    "duration": -397,
    "start_time": "2021-11-05T07:29:31.512Z"
   },
   {
    "duration": -397,
    "start_time": "2021-11-05T07:29:31.513Z"
   },
   {
    "duration": -396,
    "start_time": "2021-11-05T07:29:31.514Z"
   },
   {
    "duration": -396,
    "start_time": "2021-11-05T07:29:31.515Z"
   },
   {
    "duration": -396,
    "start_time": "2021-11-05T07:29:31.516Z"
   },
   {
    "duration": -395,
    "start_time": "2021-11-05T07:29:31.517Z"
   },
   {
    "duration": -395,
    "start_time": "2021-11-05T07:29:31.518Z"
   },
   {
    "duration": -394,
    "start_time": "2021-11-05T07:29:31.519Z"
   },
   {
    "duration": -394,
    "start_time": "2021-11-05T07:29:31.520Z"
   },
   {
    "duration": -394,
    "start_time": "2021-11-05T07:29:31.521Z"
   },
   {
    "duration": -393,
    "start_time": "2021-11-05T07:29:31.522Z"
   },
   {
    "duration": -393,
    "start_time": "2021-11-05T07:29:31.523Z"
   },
   {
    "duration": 7,
    "start_time": "2021-11-05T07:30:13.925Z"
   },
   {
    "duration": 24,
    "start_time": "2021-11-05T07:30:44.699Z"
   },
   {
    "duration": 421,
    "start_time": "2021-11-05T07:36:36.502Z"
   },
   {
    "duration": 288,
    "start_time": "2021-11-05T07:36:41.702Z"
   },
   {
    "duration": 14,
    "start_time": "2021-11-05T07:36:41.992Z"
   },
   {
    "duration": 22,
    "start_time": "2021-11-05T07:36:42.009Z"
   },
   {
    "duration": 27,
    "start_time": "2021-11-05T07:36:42.034Z"
   },
   {
    "duration": 6,
    "start_time": "2021-11-05T07:36:42.063Z"
   },
   {
    "duration": 24,
    "start_time": "2021-11-05T07:36:45.678Z"
   },
   {
    "duration": 21,
    "start_time": "2021-11-05T07:36:53.576Z"
   },
   {
    "duration": 9,
    "start_time": "2021-11-05T07:36:59.539Z"
   },
   {
    "duration": 11,
    "start_time": "2021-11-05T07:37:05.241Z"
   },
   {
    "duration": 6,
    "start_time": "2021-11-05T07:37:11.322Z"
   },
   {
    "duration": 23,
    "start_time": "2021-11-05T07:37:13.137Z"
   },
   {
    "duration": 23,
    "start_time": "2021-11-05T07:37:17.320Z"
   },
   {
    "duration": 7077,
    "start_time": "2021-11-05T07:37:21.091Z"
   },
   {
    "duration": 6,
    "start_time": "2021-11-05T07:37:28.170Z"
   },
   {
    "duration": 6,
    "start_time": "2021-11-05T07:37:40.857Z"
   },
   {
    "duration": 9148,
    "start_time": "2021-11-05T07:39:58.376Z"
   },
   {
    "duration": 293,
    "start_time": "2021-11-05T07:40:12.686Z"
   },
   {
    "duration": 14,
    "start_time": "2021-11-05T07:40:12.981Z"
   },
   {
    "duration": 24,
    "start_time": "2021-11-05T07:40:12.998Z"
   },
   {
    "duration": 30,
    "start_time": "2021-11-05T07:40:13.025Z"
   },
   {
    "duration": 6,
    "start_time": "2021-11-05T07:40:13.057Z"
   },
   {
    "duration": 46,
    "start_time": "2021-11-05T07:40:13.065Z"
   },
   {
    "duration": 21,
    "start_time": "2021-11-05T07:40:13.113Z"
   },
   {
    "duration": 8,
    "start_time": "2021-11-05T07:40:13.137Z"
   },
   {
    "duration": 10,
    "start_time": "2021-11-05T07:40:13.148Z"
   },
   {
    "duration": 41,
    "start_time": "2021-11-05T07:40:13.160Z"
   },
   {
    "duration": 21,
    "start_time": "2021-11-05T07:40:13.204Z"
   },
   {
    "duration": 23,
    "start_time": "2021-11-05T07:40:13.228Z"
   },
   {
    "duration": 7086,
    "start_time": "2021-11-05T07:40:13.253Z"
   },
   {
    "duration": 6,
    "start_time": "2021-11-05T07:40:20.341Z"
   },
   {
    "duration": 8995,
    "start_time": "2021-11-05T07:40:25.491Z"
   },
   {
    "duration": -344,
    "start_time": "2021-11-05T07:40:34.833Z"
   },
   {
    "duration": 8,
    "start_time": "2021-11-05T07:40:49.641Z"
   },
   {
    "duration": 6,
    "start_time": "2021-11-05T07:40:54.590Z"
   },
   {
    "duration": 13,
    "start_time": "2021-11-05T07:41:03.873Z"
   },
   {
    "duration": 5,
    "start_time": "2021-11-05T07:42:12.965Z"
   },
   {
    "duration": 282,
    "start_time": "2021-11-05T07:47:46.294Z"
   },
   {
    "duration": 13,
    "start_time": "2021-11-05T07:47:46.579Z"
   },
   {
    "duration": 24,
    "start_time": "2021-11-05T07:47:46.595Z"
   },
   {
    "duration": 34,
    "start_time": "2021-11-05T07:47:46.622Z"
   },
   {
    "duration": 6,
    "start_time": "2021-11-05T07:47:46.659Z"
   },
   {
    "duration": 43,
    "start_time": "2021-11-05T07:47:46.667Z"
   },
   {
    "duration": 30,
    "start_time": "2021-11-05T07:47:46.714Z"
   },
   {
    "duration": 10,
    "start_time": "2021-11-05T07:47:46.747Z"
   },
   {
    "duration": 43,
    "start_time": "2021-11-05T07:47:46.762Z"
   },
   {
    "duration": 14,
    "start_time": "2021-11-05T07:47:46.809Z"
   },
   {
    "duration": 37,
    "start_time": "2021-11-05T07:47:46.826Z"
   },
   {
    "duration": 39,
    "start_time": "2021-11-05T07:47:46.866Z"
   },
   {
    "duration": 6992,
    "start_time": "2021-11-05T07:47:46.908Z"
   },
   {
    "duration": 7,
    "start_time": "2021-11-05T07:47:53.902Z"
   },
   {
    "duration": 15,
    "start_time": "2021-11-05T07:47:53.912Z"
   },
   {
    "duration": 6,
    "start_time": "2021-11-05T07:47:53.929Z"
   },
   {
    "duration": 10,
    "start_time": "2021-11-05T07:47:53.937Z"
   },
   {
    "duration": 53,
    "start_time": "2021-11-05T07:47:53.949Z"
   },
   {
    "duration": 25,
    "start_time": "2021-11-05T07:47:54.005Z"
   },
   {
    "duration": 6787,
    "start_time": "2021-11-05T07:47:54.033Z"
   },
   {
    "duration": 6,
    "start_time": "2021-11-05T07:48:00.822Z"
   },
   {
    "duration": 29,
    "start_time": "2021-11-05T07:48:00.831Z"
   },
   {
    "duration": 23,
    "start_time": "2021-11-05T07:48:40.719Z"
   },
   {
    "duration": 9,
    "start_time": "2021-11-05T07:48:43.329Z"
   },
   {
    "duration": 8,
    "start_time": "2021-11-05T07:49:20.389Z"
   },
   {
    "duration": 7,
    "start_time": "2021-11-05T07:49:21.309Z"
   },
   {
    "duration": 10,
    "start_time": "2021-11-05T07:49:26.758Z"
   },
   {
    "duration": 6576,
    "start_time": "2021-11-05T07:49:27.572Z"
   },
   {
    "duration": 5,
    "start_time": "2021-11-05T07:49:34.151Z"
   },
   {
    "duration": 285,
    "start_time": "2021-11-05T07:49:39.337Z"
   },
   {
    "duration": 13,
    "start_time": "2021-11-05T07:49:39.625Z"
   },
   {
    "duration": 20,
    "start_time": "2021-11-05T07:49:39.641Z"
   },
   {
    "duration": 48,
    "start_time": "2021-11-05T07:49:39.664Z"
   },
   {
    "duration": 6,
    "start_time": "2021-11-05T07:49:39.714Z"
   },
   {
    "duration": 28,
    "start_time": "2021-11-05T07:49:39.722Z"
   },
   {
    "duration": 48,
    "start_time": "2021-11-05T07:49:39.752Z"
   },
   {
    "duration": 10,
    "start_time": "2021-11-05T07:49:39.802Z"
   },
   {
    "duration": 11,
    "start_time": "2021-11-05T07:49:39.816Z"
   },
   {
    "duration": 6,
    "start_time": "2021-11-05T07:49:39.830Z"
   },
   {
    "duration": 25,
    "start_time": "2021-11-05T07:49:39.838Z"
   },
   {
    "duration": 54,
    "start_time": "2021-11-05T07:49:39.865Z"
   },
   {
    "duration": 6772,
    "start_time": "2021-11-05T07:49:39.922Z"
   },
   {
    "duration": 5,
    "start_time": "2021-11-05T07:49:46.700Z"
   },
   {
    "duration": 15,
    "start_time": "2021-11-05T07:49:46.708Z"
   },
   {
    "duration": 4,
    "start_time": "2021-11-05T07:49:46.726Z"
   },
   {
    "duration": 11,
    "start_time": "2021-11-05T07:49:46.732Z"
   },
   {
    "duration": 8,
    "start_time": "2021-11-05T07:49:46.745Z"
   },
   {
    "duration": 59,
    "start_time": "2021-11-05T07:49:46.755Z"
   },
   {
    "duration": 6760,
    "start_time": "2021-11-05T07:49:46.816Z"
   },
   {
    "duration": 6,
    "start_time": "2021-11-05T07:49:53.578Z"
   },
   {
    "duration": 18,
    "start_time": "2021-11-05T07:49:53.586Z"
   },
   {
    "duration": 24,
    "start_time": "2021-11-05T07:49:53.606Z"
   },
   {
    "duration": 9,
    "start_time": "2021-11-05T07:49:53.632Z"
   },
   {
    "duration": 10,
    "start_time": "2021-11-05T07:49:53.643Z"
   },
   {
    "duration": 45,
    "start_time": "2021-11-05T07:49:53.655Z"
   },
   {
    "duration": 6587,
    "start_time": "2021-11-05T07:49:53.705Z"
   },
   {
    "duration": 12,
    "start_time": "2021-11-05T07:50:00.295Z"
   },
   {
    "duration": 6,
    "start_time": "2021-11-05T07:50:50.608Z"
   },
   {
    "duration": 6,
    "start_time": "2021-11-05T07:52:58.463Z"
   },
   {
    "duration": 301,
    "start_time": "2021-11-05T07:53:30.250Z"
   },
   {
    "duration": 13,
    "start_time": "2021-11-05T07:53:30.554Z"
   },
   {
    "duration": 26,
    "start_time": "2021-11-05T07:53:30.569Z"
   },
   {
    "duration": 39,
    "start_time": "2021-11-05T07:53:30.598Z"
   },
   {
    "duration": 10,
    "start_time": "2021-11-05T07:53:30.639Z"
   },
   {
    "duration": 94,
    "start_time": "2021-11-05T07:53:30.651Z"
   },
   {
    "duration": 22,
    "start_time": "2021-11-05T07:53:30.747Z"
   },
   {
    "duration": 29,
    "start_time": "2021-11-05T07:53:30.773Z"
   },
   {
    "duration": 13,
    "start_time": "2021-11-05T07:53:30.805Z"
   },
   {
    "duration": 12,
    "start_time": "2021-11-05T07:53:30.821Z"
   },
   {
    "duration": 33,
    "start_time": "2021-11-05T07:53:30.836Z"
   },
   {
    "duration": 46,
    "start_time": "2021-11-05T07:53:30.872Z"
   },
   {
    "duration": 6874,
    "start_time": "2021-11-05T07:53:30.921Z"
   },
   {
    "duration": 5,
    "start_time": "2021-11-05T07:53:37.801Z"
   },
   {
    "duration": 16,
    "start_time": "2021-11-05T07:53:37.809Z"
   },
   {
    "duration": 5,
    "start_time": "2021-11-05T07:53:37.827Z"
   },
   {
    "duration": 10,
    "start_time": "2021-11-05T07:53:37.835Z"
   },
   {
    "duration": 7,
    "start_time": "2021-11-05T07:53:37.848Z"
   },
   {
    "duration": 61,
    "start_time": "2021-11-05T07:53:37.857Z"
   },
   {
    "duration": 6535,
    "start_time": "2021-11-05T07:53:37.921Z"
   },
   {
    "duration": 6,
    "start_time": "2021-11-05T07:53:44.458Z"
   },
   {
    "duration": 453,
    "start_time": "2021-11-05T07:53:44.467Z"
   },
   {
    "duration": 26,
    "start_time": "2021-11-05T07:53:44.924Z"
   },
   {
    "duration": 9,
    "start_time": "2021-11-05T07:53:44.953Z"
   },
   {
    "duration": 9,
    "start_time": "2021-11-05T07:53:44.964Z"
   },
   {
    "duration": 26,
    "start_time": "2021-11-05T07:53:44.975Z"
   },
   {
    "duration": 6892,
    "start_time": "2021-11-05T07:53:45.003Z"
   },
   {
    "duration": 6,
    "start_time": "2021-11-05T07:53:51.900Z"
   },
   {
    "duration": 7,
    "start_time": "2021-11-05T07:54:28.134Z"
   },
   {
    "duration": 11,
    "start_time": "2021-11-05T07:54:55.842Z"
   },
   {
    "duration": 17,
    "start_time": "2021-11-05T07:55:06.174Z"
   },
   {
    "duration": 21,
    "start_time": "2021-11-05T07:55:07.270Z"
   },
   {
    "duration": 12,
    "start_time": "2021-11-05T07:55:09.990Z"
   },
   {
    "duration": 12,
    "start_time": "2021-11-05T07:55:13.185Z"
   },
   {
    "duration": 19,
    "start_time": "2021-11-05T07:55:15.427Z"
   },
   {
    "duration": 8990,
    "start_time": "2021-11-05T07:55:17.687Z"
   },
   {
    "duration": 9,
    "start_time": "2021-11-05T07:55:26.680Z"
   },
   {
    "duration": 36,
    "start_time": "2021-11-05T07:55:37.527Z"
   },
   {
    "duration": 381,
    "start_time": "2021-11-05T07:57:37.174Z"
   },
   {
    "duration": 5,
    "start_time": "2021-11-05T07:57:43.171Z"
   },
   {
    "duration": 6,
    "start_time": "2021-11-05T08:01:09.432Z"
   },
   {
    "duration": 17,
    "start_time": "2021-11-05T08:02:21.892Z"
   },
   {
    "duration": 14,
    "start_time": "2021-11-05T08:02:25.243Z"
   },
   {
    "duration": 24,
    "start_time": "2021-11-05T08:05:45.209Z"
   },
   {
    "duration": 12,
    "start_time": "2021-11-05T08:07:02.723Z"
   },
   {
    "duration": 376,
    "start_time": "2021-11-05T08:08:19.587Z"
   },
   {
    "duration": 14,
    "start_time": "2021-11-05T08:08:19.966Z"
   },
   {
    "duration": 19,
    "start_time": "2021-11-05T08:08:19.984Z"
   },
   {
    "duration": 95,
    "start_time": "2021-11-05T08:08:20.006Z"
   },
   {
    "duration": 6,
    "start_time": "2021-11-05T08:08:20.104Z"
   },
   {
    "duration": 33,
    "start_time": "2021-11-05T08:08:20.113Z"
   },
   {
    "duration": 22,
    "start_time": "2021-11-05T08:08:20.149Z"
   },
   {
    "duration": 10,
    "start_time": "2021-11-05T08:08:20.200Z"
   },
   {
    "duration": 17,
    "start_time": "2021-11-05T08:08:20.214Z"
   },
   {
    "duration": 15,
    "start_time": "2021-11-05T08:08:20.234Z"
   },
   {
    "duration": 22,
    "start_time": "2021-11-05T08:08:20.251Z"
   },
   {
    "duration": 43,
    "start_time": "2021-11-05T08:08:20.276Z"
   },
   {
    "duration": 10091,
    "start_time": "2021-11-05T08:08:20.322Z"
   },
   {
    "duration": 7,
    "start_time": "2021-11-05T08:08:30.416Z"
   },
   {
    "duration": 25,
    "start_time": "2021-11-05T08:08:30.426Z"
   },
   {
    "duration": 7,
    "start_time": "2021-11-05T08:08:30.454Z"
   },
   {
    "duration": 42,
    "start_time": "2021-11-05T08:08:30.464Z"
   },
   {
    "duration": 16,
    "start_time": "2021-11-05T08:08:30.509Z"
   },
   {
    "duration": 29,
    "start_time": "2021-11-05T08:08:30.528Z"
   },
   {
    "duration": 6754,
    "start_time": "2021-11-05T08:08:30.560Z"
   },
   {
    "duration": 7,
    "start_time": "2021-11-05T08:08:37.317Z"
   },
   {
    "duration": 7,
    "start_time": "2021-11-05T08:08:37.326Z"
   },
   {
    "duration": 23,
    "start_time": "2021-11-05T08:08:37.335Z"
   },
   {
    "duration": 8,
    "start_time": "2021-11-05T08:08:37.400Z"
   },
   {
    "duration": 15,
    "start_time": "2021-11-05T08:08:37.410Z"
   },
   {
    "duration": 19,
    "start_time": "2021-11-05T08:08:37.428Z"
   },
   {
    "duration": 6869,
    "start_time": "2021-11-05T08:08:37.455Z"
   },
   {
    "duration": 6,
    "start_time": "2021-11-05T08:08:44.327Z"
   },
   {
    "duration": 10,
    "start_time": "2021-11-05T08:08:44.335Z"
   },
   {
    "duration": 13,
    "start_time": "2021-11-05T08:08:44.347Z"
   },
   {
    "duration": 49,
    "start_time": "2021-11-05T08:08:44.362Z"
   },
   {
    "duration": 21,
    "start_time": "2021-11-05T08:08:44.414Z"
   },
   {
    "duration": 23,
    "start_time": "2021-11-05T08:08:44.437Z"
   },
   {
    "duration": 13,
    "start_time": "2021-11-05T08:08:44.463Z"
   },
   {
    "duration": 20,
    "start_time": "2021-11-05T08:08:44.500Z"
   },
   {
    "duration": 9094,
    "start_time": "2021-11-05T08:08:44.522Z"
   },
   {
    "duration": 9,
    "start_time": "2021-11-05T08:08:53.618Z"
   },
   {
    "duration": 11,
    "start_time": "2021-11-05T08:08:53.630Z"
   },
   {
    "duration": 16,
    "start_time": "2021-11-05T08:08:53.644Z"
   },
   {
    "duration": 522,
    "start_time": "2021-11-05T08:15:59.645Z"
   },
   {
    "duration": 461,
    "start_time": "2021-11-05T08:16:05.427Z"
   },
   {
    "duration": 20,
    "start_time": "2021-11-05T08:16:33.376Z"
   },
   {
    "duration": 37,
    "start_time": "2021-11-05T08:17:06.028Z"
   },
   {
    "duration": 570,
    "start_time": "2021-11-05T08:17:18.772Z"
   },
   {
    "duration": 24,
    "start_time": "2021-11-05T08:17:52.233Z"
   },
   {
    "duration": 35,
    "start_time": "2021-11-05T08:17:55.573Z"
   },
   {
    "duration": 569,
    "start_time": "2021-11-05T08:18:10.110Z"
   },
   {
    "duration": 13,
    "start_time": "2021-11-05T08:18:59.609Z"
   },
   {
    "duration": 525,
    "start_time": "2021-11-05T08:19:24.357Z"
   },
   {
    "duration": 18,
    "start_time": "2021-11-05T08:19:28.710Z"
   },
   {
    "duration": 520,
    "start_time": "2021-11-05T08:22:23.735Z"
   },
   {
    "duration": 8,
    "start_time": "2021-11-05T08:22:31.140Z"
   },
   {
    "duration": 489,
    "start_time": "2021-11-05T08:23:22.616Z"
   },
   {
    "duration": 8,
    "start_time": "2021-11-05T08:23:29.690Z"
   },
   {
    "duration": 60,
    "start_time": "2021-11-05T08:23:57.856Z"
   },
   {
    "duration": 41,
    "start_time": "2021-11-05T08:24:39.548Z"
   },
   {
    "duration": 337,
    "start_time": "2021-11-05T08:25:16.257Z"
   },
   {
    "duration": 203,
    "start_time": "2021-11-05T08:27:36.307Z"
   },
   {
    "duration": 194,
    "start_time": "2021-11-05T08:27:48.029Z"
   },
   {
    "duration": 190,
    "start_time": "2021-11-05T08:28:07.939Z"
   },
   {
    "duration": 21,
    "start_time": "2021-11-05T08:28:45.489Z"
   },
   {
    "duration": 118,
    "start_time": "2021-11-05T08:29:14.941Z"
   },
   {
    "duration": 18,
    "start_time": "2021-11-05T08:31:43.780Z"
   },
   {
    "duration": 6,
    "start_time": "2021-11-05T08:32:05.711Z"
   },
   {
    "duration": 7,
    "start_time": "2021-11-05T08:32:11.216Z"
   },
   {
    "duration": 15,
    "start_time": "2021-11-05T08:33:17.484Z"
   },
   {
    "duration": 16,
    "start_time": "2021-11-05T08:33:35.998Z"
   },
   {
    "duration": 7,
    "start_time": "2021-11-05T08:33:56.025Z"
   },
   {
    "duration": 6,
    "start_time": "2021-11-05T08:34:00.341Z"
   },
   {
    "duration": 1728,
    "start_time": "2021-11-05T08:37:35.286Z"
   },
   {
    "duration": 14,
    "start_time": "2021-11-05T08:37:37.017Z"
   },
   {
    "duration": 23,
    "start_time": "2021-11-05T08:37:37.034Z"
   },
   {
    "duration": 60,
    "start_time": "2021-11-05T08:37:37.060Z"
   },
   {
    "duration": 6,
    "start_time": "2021-11-05T08:37:37.123Z"
   },
   {
    "duration": 36,
    "start_time": "2021-11-05T08:37:37.131Z"
   },
   {
    "duration": 39,
    "start_time": "2021-11-05T08:37:37.169Z"
   },
   {
    "duration": 9,
    "start_time": "2021-11-05T08:37:37.212Z"
   },
   {
    "duration": 13,
    "start_time": "2021-11-05T08:37:37.224Z"
   },
   {
    "duration": 10,
    "start_time": "2021-11-05T08:37:37.239Z"
   },
   {
    "duration": 60,
    "start_time": "2021-11-05T08:37:37.251Z"
   },
   {
    "duration": 23,
    "start_time": "2021-11-05T08:37:37.313Z"
   },
   {
    "duration": 6819,
    "start_time": "2021-11-05T08:37:37.338Z"
   },
   {
    "duration": 6,
    "start_time": "2021-11-05T08:37:44.159Z"
   },
   {
    "duration": 35,
    "start_time": "2021-11-05T08:37:44.167Z"
   },
   {
    "duration": 5,
    "start_time": "2021-11-05T08:37:44.204Z"
   },
   {
    "duration": 11,
    "start_time": "2021-11-05T08:37:44.211Z"
   },
   {
    "duration": 6,
    "start_time": "2021-11-05T08:37:44.224Z"
   },
   {
    "duration": 21,
    "start_time": "2021-11-05T08:37:44.233Z"
   },
   {
    "duration": 6716,
    "start_time": "2021-11-05T08:37:44.256Z"
   },
   {
    "duration": 6,
    "start_time": "2021-11-05T08:37:50.974Z"
   },
   {
    "duration": 8,
    "start_time": "2021-11-05T08:37:50.982Z"
   },
   {
    "duration": 22,
    "start_time": "2021-11-05T08:37:51.000Z"
   },
   {
    "duration": 8,
    "start_time": "2021-11-05T08:37:51.027Z"
   },
   {
    "duration": 12,
    "start_time": "2021-11-05T08:37:51.037Z"
   },
   {
    "duration": 9,
    "start_time": "2021-11-05T08:37:51.051Z"
   },
   {
    "duration": 6843,
    "start_time": "2021-11-05T08:37:51.062Z"
   },
   {
    "duration": 7,
    "start_time": "2021-11-05T08:37:57.908Z"
   },
   {
    "duration": 8,
    "start_time": "2021-11-05T08:37:57.918Z"
   },
   {
    "duration": 12,
    "start_time": "2021-11-05T08:37:57.929Z"
   },
   {
    "duration": 59,
    "start_time": "2021-11-05T08:37:57.944Z"
   },
   {
    "duration": 21,
    "start_time": "2021-11-05T08:37:58.006Z"
   },
   {
    "duration": 13,
    "start_time": "2021-11-05T08:37:58.030Z"
   },
   {
    "duration": 16,
    "start_time": "2021-11-05T08:37:58.046Z"
   },
   {
    "duration": 52,
    "start_time": "2021-11-05T08:37:58.065Z"
   },
   {
    "duration": 9540,
    "start_time": "2021-11-05T08:37:58.120Z"
   },
   {
    "duration": 10,
    "start_time": "2021-11-05T08:38:07.663Z"
   },
   {
    "duration": 26,
    "start_time": "2021-11-05T08:38:07.675Z"
   },
   {
    "duration": 14,
    "start_time": "2021-11-05T08:38:07.704Z"
   },
   {
    "duration": 504,
    "start_time": "2021-11-05T08:38:07.720Z"
   },
   {
    "duration": 470,
    "start_time": "2021-11-05T08:38:08.226Z"
   },
   {
    "duration": 19,
    "start_time": "2021-11-05T08:38:08.701Z"
   },
   {
    "duration": 35,
    "start_time": "2021-11-05T08:38:08.722Z"
   },
   {
    "duration": 590,
    "start_time": "2021-11-05T08:38:08.760Z"
   },
   {
    "duration": 23,
    "start_time": "2021-11-05T08:38:09.352Z"
   },
   {
    "duration": 55,
    "start_time": "2021-11-05T08:38:09.378Z"
   },
   {
    "duration": 580,
    "start_time": "2021-11-05T08:38:09.436Z"
   },
   {
    "duration": 11,
    "start_time": "2021-11-05T08:38:10.019Z"
   },
   {
    "duration": 550,
    "start_time": "2021-11-05T08:38:10.033Z"
   },
   {
    "duration": 25,
    "start_time": "2021-11-05T08:38:10.586Z"
   },
   {
    "duration": 492,
    "start_time": "2021-11-05T08:38:10.613Z"
   },
   {
    "duration": 7,
    "start_time": "2021-11-05T08:38:11.107Z"
   },
   {
    "duration": 478,
    "start_time": "2021-11-05T08:38:11.117Z"
   },
   {
    "duration": 7,
    "start_time": "2021-11-05T08:38:11.601Z"
   },
   {
    "duration": 69,
    "start_time": "2021-11-05T08:38:11.610Z"
   },
   {
    "duration": 52,
    "start_time": "2021-11-05T08:38:11.682Z"
   },
   {
    "duration": 365,
    "start_time": "2021-11-05T08:38:11.736Z"
   },
   {
    "duration": 207,
    "start_time": "2021-11-05T08:38:12.104Z"
   },
   {
    "duration": 212,
    "start_time": "2021-11-05T08:38:12.314Z"
   },
   {
    "duration": 212,
    "start_time": "2021-11-05T08:38:12.529Z"
   },
   {
    "duration": 21,
    "start_time": "2021-11-05T08:38:12.744Z"
   },
   {
    "duration": 49,
    "start_time": "2021-11-05T08:38:12.767Z"
   },
   {
    "duration": 21,
    "start_time": "2021-11-05T08:38:12.819Z"
   },
   {
    "duration": 12,
    "start_time": "2021-11-05T08:38:12.843Z"
   },
   {
    "duration": 13,
    "start_time": "2021-11-05T08:38:12.857Z"
   },
   {
    "duration": 37,
    "start_time": "2021-11-05T08:38:12.873Z"
   },
   {
    "duration": 21,
    "start_time": "2021-11-05T08:38:12.913Z"
   },
   {
    "duration": 20,
    "start_time": "2021-11-05T08:38:12.943Z"
   },
   {
    "duration": 520,
    "start_time": "2021-11-05T08:41:04.413Z"
   },
   {
    "duration": 384,
    "start_time": "2021-11-05T08:42:52.199Z"
   },
   {
    "duration": 379,
    "start_time": "2021-11-05T08:46:13.549Z"
   },
   {
    "duration": 349,
    "start_time": "2021-11-05T08:50:44.440Z"
   },
   {
    "duration": 14,
    "start_time": "2021-11-05T08:50:44.792Z"
   },
   {
    "duration": 26,
    "start_time": "2021-11-05T08:50:44.809Z"
   },
   {
    "duration": 34,
    "start_time": "2021-11-05T08:50:44.838Z"
   },
   {
    "duration": 6,
    "start_time": "2021-11-05T08:50:44.875Z"
   },
   {
    "duration": 37,
    "start_time": "2021-11-05T08:50:44.883Z"
   },
   {
    "duration": 21,
    "start_time": "2021-11-05T08:50:44.922Z"
   },
   {
    "duration": 9,
    "start_time": "2021-11-05T08:50:44.945Z"
   },
   {
    "duration": 21,
    "start_time": "2021-11-05T08:50:44.958Z"
   },
   {
    "duration": 7,
    "start_time": "2021-11-05T08:50:45.002Z"
   },
   {
    "duration": 44,
    "start_time": "2021-11-05T08:50:45.013Z"
   },
   {
    "duration": 41,
    "start_time": "2021-11-05T08:50:45.060Z"
   },
   {
    "duration": 6644,
    "start_time": "2021-11-05T08:50:45.103Z"
   },
   {
    "duration": 5,
    "start_time": "2021-11-05T08:50:51.750Z"
   },
   {
    "duration": 17,
    "start_time": "2021-11-05T08:50:51.757Z"
   },
   {
    "duration": 24,
    "start_time": "2021-11-05T08:50:51.777Z"
   },
   {
    "duration": 10,
    "start_time": "2021-11-05T08:50:51.803Z"
   },
   {
    "duration": 8,
    "start_time": "2021-11-05T08:50:51.815Z"
   },
   {
    "duration": 22,
    "start_time": "2021-11-05T08:50:51.825Z"
   },
   {
    "duration": 6506,
    "start_time": "2021-11-05T08:50:51.849Z"
   },
   {
    "duration": 7,
    "start_time": "2021-11-05T08:50:58.358Z"
   },
   {
    "duration": 11,
    "start_time": "2021-11-05T08:50:58.368Z"
   },
   {
    "duration": 43,
    "start_time": "2021-11-05T08:50:58.382Z"
   },
   {
    "duration": 11,
    "start_time": "2021-11-05T08:50:58.428Z"
   },
   {
    "duration": 17,
    "start_time": "2021-11-05T08:50:58.442Z"
   },
   {
    "duration": 40,
    "start_time": "2021-11-05T08:50:58.461Z"
   },
   {
    "duration": 6588,
    "start_time": "2021-11-05T08:50:58.506Z"
   },
   {
    "duration": 6,
    "start_time": "2021-11-05T08:51:05.098Z"
   },
   {
    "duration": 13,
    "start_time": "2021-11-05T08:51:05.107Z"
   },
   {
    "duration": 14,
    "start_time": "2021-11-05T08:51:05.122Z"
   },
   {
    "duration": 26,
    "start_time": "2021-11-05T08:51:05.138Z"
   },
   {
    "duration": 43,
    "start_time": "2021-11-05T08:51:05.167Z"
   },
   {
    "duration": 13,
    "start_time": "2021-11-05T08:51:05.213Z"
   },
   {
    "duration": 14,
    "start_time": "2021-11-05T08:51:05.228Z"
   },
   {
    "duration": 30,
    "start_time": "2021-11-05T08:51:05.245Z"
   },
   {
    "duration": 9148,
    "start_time": "2021-11-05T08:51:05.278Z"
   },
   {
    "duration": 12,
    "start_time": "2021-11-05T08:51:14.429Z"
   },
   {
    "duration": 8,
    "start_time": "2021-11-05T08:51:14.444Z"
   },
   {
    "duration": 45,
    "start_time": "2021-11-05T08:51:14.455Z"
   },
   {
    "duration": 484,
    "start_time": "2021-11-05T08:51:14.504Z"
   },
   {
    "duration": 546,
    "start_time": "2021-11-05T08:51:14.992Z"
   },
   {
    "duration": 23,
    "start_time": "2021-11-05T08:51:15.541Z"
   },
   {
    "duration": 64,
    "start_time": "2021-11-05T08:51:15.567Z"
   },
   {
    "duration": 570,
    "start_time": "2021-11-05T08:51:15.635Z"
   },
   {
    "duration": 25,
    "start_time": "2021-11-05T08:51:16.207Z"
   },
   {
    "duration": 50,
    "start_time": "2021-11-05T08:51:16.234Z"
   },
   {
    "duration": 568,
    "start_time": "2021-11-05T08:51:16.287Z"
   },
   {
    "duration": 13,
    "start_time": "2021-11-05T08:51:16.857Z"
   },
   {
    "duration": 548,
    "start_time": "2021-11-05T08:51:16.873Z"
   },
   {
    "duration": 17,
    "start_time": "2021-11-05T08:51:17.424Z"
   },
   {
    "duration": 534,
    "start_time": "2021-11-05T08:51:17.443Z"
   },
   {
    "duration": 7,
    "start_time": "2021-11-05T08:51:17.979Z"
   },
   {
    "duration": 507,
    "start_time": "2021-11-05T08:51:17.988Z"
   },
   {
    "duration": 8,
    "start_time": "2021-11-05T08:51:18.497Z"
   },
   {
    "duration": 53,
    "start_time": "2021-11-05T08:51:18.507Z"
   },
   {
    "duration": 69,
    "start_time": "2021-11-05T08:51:18.562Z"
   },
   {
    "duration": 358,
    "start_time": "2021-11-05T08:51:18.633Z"
   },
   {
    "duration": 393,
    "start_time": "2021-11-05T08:51:33.359Z"
   },
   {
    "duration": 382,
    "start_time": "2021-11-05T08:54:53.942Z"
   },
   {
    "duration": 379,
    "start_time": "2021-11-05T08:55:43.207Z"
   },
   {
    "duration": 395,
    "start_time": "2021-11-05T08:56:18.019Z"
   },
   {
    "duration": 488,
    "start_time": "2021-11-05T08:57:04.798Z"
   },
   {
    "duration": 417,
    "start_time": "2021-11-05T08:58:09.904Z"
   },
   {
    "duration": 422,
    "start_time": "2021-11-05T09:01:24.277Z"
   },
   {
    "duration": 430,
    "start_time": "2021-11-05T09:03:02.519Z"
   },
   {
    "duration": 399,
    "start_time": "2021-11-05T09:03:25.223Z"
   },
   {
    "duration": 381,
    "start_time": "2021-11-05T09:04:44.520Z"
   },
   {
    "duration": 300,
    "start_time": "2021-11-05T09:07:12.415Z"
   },
   {
    "duration": 293,
    "start_time": "2021-11-05T09:07:41.676Z"
   },
   {
    "duration": 289,
    "start_time": "2021-11-05T09:11:06.883Z"
   },
   {
    "duration": 281,
    "start_time": "2021-11-05T09:11:35.155Z"
   },
   {
    "duration": 602,
    "start_time": "2021-11-05T09:11:58.102Z"
   },
   {
    "duration": 322,
    "start_time": "2021-11-05T09:12:05.405Z"
   },
   {
    "duration": 502,
    "start_time": "2021-11-05T09:12:56.969Z"
   },
   {
    "duration": 418,
    "start_time": "2021-11-05T09:13:33.772Z"
   },
   {
    "duration": 456,
    "start_time": "2021-11-05T09:13:59.673Z"
   },
   {
    "duration": 457,
    "start_time": "2021-11-05T09:16:17.892Z"
   },
   {
    "duration": 390,
    "start_time": "2021-11-05T09:16:35.862Z"
   },
   {
    "duration": 385,
    "start_time": "2021-11-05T09:16:47.487Z"
   },
   {
    "duration": 630,
    "start_time": "2021-11-05T09:17:16.434Z"
   },
   {
    "duration": 700,
    "start_time": "2021-11-05T09:18:32.645Z"
   },
   {
    "duration": 397,
    "start_time": "2021-11-05T09:18:55.744Z"
   },
   {
    "duration": 398,
    "start_time": "2021-11-05T09:19:14.579Z"
   },
   {
    "duration": 284,
    "start_time": "2021-11-05T09:19:24.873Z"
   },
   {
    "duration": 13,
    "start_time": "2021-11-05T09:19:25.159Z"
   },
   {
    "duration": 19,
    "start_time": "2021-11-05T09:19:25.176Z"
   },
   {
    "duration": 30,
    "start_time": "2021-11-05T09:19:25.197Z"
   },
   {
    "duration": 5,
    "start_time": "2021-11-05T09:19:25.229Z"
   },
   {
    "duration": 29,
    "start_time": "2021-11-05T09:19:25.237Z"
   },
   {
    "duration": 46,
    "start_time": "2021-11-05T09:19:25.269Z"
   },
   {
    "duration": 8,
    "start_time": "2021-11-05T09:19:25.319Z"
   },
   {
    "duration": 11,
    "start_time": "2021-11-05T09:19:25.330Z"
   },
   {
    "duration": 8,
    "start_time": "2021-11-05T09:19:25.344Z"
   },
   {
    "duration": 63,
    "start_time": "2021-11-05T09:19:25.354Z"
   },
   {
    "duration": 22,
    "start_time": "2021-11-05T09:19:25.420Z"
   },
   {
    "duration": 6844,
    "start_time": "2021-11-05T09:19:25.444Z"
   },
   {
    "duration": 12,
    "start_time": "2021-11-05T09:19:32.291Z"
   },
   {
    "duration": 18,
    "start_time": "2021-11-05T09:19:32.306Z"
   },
   {
    "duration": 7,
    "start_time": "2021-11-05T09:19:32.327Z"
   },
   {
    "duration": 14,
    "start_time": "2021-11-05T09:19:32.337Z"
   },
   {
    "duration": 9,
    "start_time": "2021-11-05T09:19:32.353Z"
   },
   {
    "duration": 55,
    "start_time": "2021-11-05T09:19:32.364Z"
   },
   {
    "duration": 6629,
    "start_time": "2021-11-05T09:19:32.422Z"
   },
   {
    "duration": 6,
    "start_time": "2021-11-05T09:19:39.054Z"
   },
   {
    "duration": 9,
    "start_time": "2021-11-05T09:19:39.062Z"
   },
   {
    "duration": 41,
    "start_time": "2021-11-05T09:19:39.077Z"
   },
   {
    "duration": 8,
    "start_time": "2021-11-05T09:19:39.121Z"
   },
   {
    "duration": 8,
    "start_time": "2021-11-05T09:19:39.132Z"
   },
   {
    "duration": 14,
    "start_time": "2021-11-05T09:19:39.143Z"
   },
   {
    "duration": 6869,
    "start_time": "2021-11-05T09:19:39.160Z"
   },
   {
    "duration": 6,
    "start_time": "2021-11-05T09:19:46.031Z"
   },
   {
    "duration": 6,
    "start_time": "2021-11-05T09:19:46.040Z"
   },
   {
    "duration": 15,
    "start_time": "2021-11-05T09:19:46.048Z"
   },
   {
    "duration": 43,
    "start_time": "2021-11-05T09:19:46.065Z"
   },
   {
    "duration": 19,
    "start_time": "2021-11-05T09:19:46.111Z"
   },
   {
    "duration": 13,
    "start_time": "2021-11-05T09:19:46.132Z"
   },
   {
    "duration": 53,
    "start_time": "2021-11-05T09:19:46.147Z"
   },
   {
    "duration": 21,
    "start_time": "2021-11-05T09:19:46.203Z"
   },
   {
    "duration": 9630,
    "start_time": "2021-11-05T09:19:46.226Z"
   },
   {
    "duration": 9,
    "start_time": "2021-11-05T09:19:55.859Z"
   },
   {
    "duration": 29,
    "start_time": "2021-11-05T09:19:55.871Z"
   },
   {
    "duration": 13,
    "start_time": "2021-11-05T09:19:55.903Z"
   },
   {
    "duration": 487,
    "start_time": "2021-11-05T09:19:55.919Z"
   },
   {
    "duration": 656,
    "start_time": "2021-11-05T09:19:56.409Z"
   },
   {
    "duration": 34,
    "start_time": "2021-11-05T09:19:57.068Z"
   },
   {
    "duration": 36,
    "start_time": "2021-11-05T09:19:57.104Z"
   },
   {
    "duration": 562,
    "start_time": "2021-11-05T09:19:57.142Z"
   },
   {
    "duration": 22,
    "start_time": "2021-11-05T09:19:57.707Z"
   },
   {
    "duration": 33,
    "start_time": "2021-11-05T09:19:57.732Z"
   },
   {
    "duration": 671,
    "start_time": "2021-11-05T09:19:57.801Z"
   },
   {
    "duration": 25,
    "start_time": "2021-11-05T09:19:58.475Z"
   },
   {
    "duration": 534,
    "start_time": "2021-11-05T09:19:58.503Z"
   },
   {
    "duration": 24,
    "start_time": "2021-11-05T09:19:59.040Z"
   },
   {
    "duration": 516,
    "start_time": "2021-11-05T09:19:59.066Z"
   },
   {
    "duration": 7,
    "start_time": "2021-11-05T09:19:59.584Z"
   },
   {
    "duration": 483,
    "start_time": "2021-11-05T09:19:59.600Z"
   },
   {
    "duration": 14,
    "start_time": "2021-11-05T09:20:00.086Z"
   },
   {
    "duration": 56,
    "start_time": "2021-11-05T09:20:00.103Z"
   },
   {
    "duration": 69,
    "start_time": "2021-11-05T09:20:00.161Z"
   },
   {
    "duration": 360,
    "start_time": "2021-11-05T09:20:00.233Z"
   },
   {
    "duration": 439,
    "start_time": "2021-11-05T09:20:13.562Z"
   },
   {
    "duration": 297,
    "start_time": "2021-11-05T09:20:36.850Z"
   },
   {
    "duration": 294,
    "start_time": "2021-11-05T09:20:43.909Z"
   },
   {
    "duration": 529,
    "start_time": "2021-11-05T09:21:01.812Z"
   },
   {
    "duration": 684,
    "start_time": "2021-11-05T09:21:15.229Z"
   },
   {
    "duration": 906,
    "start_time": "2021-11-05T09:22:46.164Z"
   },
   {
    "duration": 426,
    "start_time": "2021-11-05T09:23:03.928Z"
   },
   {
    "duration": 13,
    "start_time": "2021-11-05T09:24:12.604Z"
   },
   {
    "duration": 11,
    "start_time": "2021-11-05T09:24:22.296Z"
   },
   {
    "duration": 435,
    "start_time": "2021-11-05T09:24:35.065Z"
   },
   {
    "duration": 903,
    "start_time": "2021-11-05T09:26:31.004Z"
   },
   {
    "duration": 997,
    "start_time": "2021-11-05T09:26:38.580Z"
   },
   {
    "duration": 666,
    "start_time": "2021-11-05T09:31:01.093Z"
   },
   {
    "duration": 233,
    "start_time": "2021-11-05T09:31:08.496Z"
   },
   {
    "duration": 218,
    "start_time": "2021-11-05T09:31:16.874Z"
   },
   {
    "duration": 229,
    "start_time": "2021-11-05T09:32:45.177Z"
   },
   {
    "duration": 227,
    "start_time": "2021-11-05T09:33:13.318Z"
   },
   {
    "duration": 238,
    "start_time": "2021-11-05T09:33:22.556Z"
   },
   {
    "duration": 234,
    "start_time": "2021-11-05T09:34:08.051Z"
   },
   {
    "duration": 241,
    "start_time": "2021-11-05T09:37:00.863Z"
   },
   {
    "duration": 251,
    "start_time": "2021-11-05T09:37:12.931Z"
   },
   {
    "duration": 242,
    "start_time": "2021-11-05T09:37:16.851Z"
   },
   {
    "duration": 247,
    "start_time": "2021-11-05T09:38:42.433Z"
   },
   {
    "duration": 1152,
    "start_time": "2021-11-05T09:39:42.310Z"
   },
   {
    "duration": 945,
    "start_time": "2021-11-05T09:40:00.099Z"
   },
   {
    "duration": 242,
    "start_time": "2021-11-05T09:40:09.033Z"
   },
   {
    "duration": 130,
    "start_time": "2021-11-05T09:40:42.642Z"
   },
   {
    "duration": 291,
    "start_time": "2021-11-05T09:40:55.580Z"
   },
   {
    "duration": 572,
    "start_time": "2021-11-05T09:42:35.228Z"
   },
   {
    "duration": 372,
    "start_time": "2021-11-05T09:43:46.468Z"
   },
   {
    "duration": 346,
    "start_time": "2021-11-05T09:43:54.280Z"
   },
   {
    "duration": 346,
    "start_time": "2021-11-05T09:44:45.499Z"
   },
   {
    "duration": 285,
    "start_time": "2021-11-05T09:45:04.543Z"
   },
   {
    "duration": 470,
    "start_time": "2021-11-05T09:45:10.696Z"
   },
   {
    "duration": 137,
    "start_time": "2021-11-05T09:50:49.702Z"
   },
   {
    "duration": 348,
    "start_time": "2021-11-05T09:51:06.836Z"
   },
   {
    "duration": 339,
    "start_time": "2021-11-05T09:54:44.167Z"
   },
   {
    "duration": 1017,
    "start_time": "2021-11-05T09:55:06.591Z"
   },
   {
    "duration": 842,
    "start_time": "2021-11-05T09:56:43.480Z"
   },
   {
    "duration": 835,
    "start_time": "2021-11-05T09:57:13.767Z"
   },
   {
    "duration": 894,
    "start_time": "2021-11-05T09:57:40.942Z"
   },
   {
    "duration": 890,
    "start_time": "2021-11-05T09:57:53.084Z"
   },
   {
    "duration": 875,
    "start_time": "2021-11-05T09:58:30.371Z"
   },
   {
    "duration": 1052,
    "start_time": "2021-11-05T09:58:43.684Z"
   },
   {
    "duration": 831,
    "start_time": "2021-11-05T09:59:23.280Z"
   },
   {
    "duration": 346,
    "start_time": "2021-11-05T10:00:02.074Z"
   },
   {
    "duration": 849,
    "start_time": "2021-11-05T10:00:17.533Z"
   },
   {
    "duration": 341,
    "start_time": "2021-11-05T10:00:50.124Z"
   },
   {
    "duration": 333,
    "start_time": "2021-11-05T10:00:57.913Z"
   },
   {
    "duration": 336,
    "start_time": "2021-11-05T10:01:04.755Z"
   },
   {
    "duration": 356,
    "start_time": "2021-11-05T10:01:30.273Z"
   },
   {
    "duration": 833,
    "start_time": "2021-11-05T10:01:53.630Z"
   },
   {
    "duration": 956,
    "start_time": "2021-11-05T10:02:11.917Z"
   },
   {
    "duration": 356,
    "start_time": "2021-11-05T10:02:25.583Z"
   },
   {
    "duration": 347,
    "start_time": "2021-11-05T10:03:12.209Z"
   },
   {
    "duration": 338,
    "start_time": "2021-11-05T10:03:18.117Z"
   },
   {
    "duration": 357,
    "start_time": "2021-11-05T10:04:52.030Z"
   },
   {
    "duration": 352,
    "start_time": "2021-11-05T10:05:13.956Z"
   },
   {
    "duration": 10,
    "start_time": "2021-11-05T10:10:44.176Z"
   },
   {
    "duration": 14,
    "start_time": "2021-11-05T10:11:53.076Z"
   },
   {
    "duration": 11,
    "start_time": "2021-11-05T10:12:49.285Z"
   },
   {
    "duration": 17,
    "start_time": "2021-11-05T10:13:57.235Z"
   },
   {
    "duration": 28,
    "start_time": "2021-11-05T10:14:49.002Z"
   },
   {
    "duration": 1411,
    "start_time": "2021-11-05T10:15:27.123Z"
   },
   {
    "duration": 27,
    "start_time": "2021-11-05T10:15:47.919Z"
   },
   {
    "duration": 30,
    "start_time": "2021-11-05T10:15:58.310Z"
   },
   {
    "duration": 32,
    "start_time": "2021-11-05T10:16:53.309Z"
   },
   {
    "duration": 29,
    "start_time": "2021-11-05T10:17:40.050Z"
   },
   {
    "duration": 1922,
    "start_time": "2021-11-05T10:20:02.771Z"
   },
   {
    "duration": 16,
    "start_time": "2021-11-05T10:20:04.696Z"
   },
   {
    "duration": 30,
    "start_time": "2021-11-05T10:20:04.715Z"
   },
   {
    "duration": 53,
    "start_time": "2021-11-05T10:20:04.748Z"
   },
   {
    "duration": 7,
    "start_time": "2021-11-05T10:20:04.803Z"
   },
   {
    "duration": 50,
    "start_time": "2021-11-05T10:20:04.813Z"
   },
   {
    "duration": 33,
    "start_time": "2021-11-05T10:20:04.867Z"
   },
   {
    "duration": 22,
    "start_time": "2021-11-05T10:20:04.904Z"
   },
   {
    "duration": 37,
    "start_time": "2021-11-05T10:20:04.929Z"
   },
   {
    "duration": 21,
    "start_time": "2021-11-05T10:20:04.968Z"
   },
   {
    "duration": 44,
    "start_time": "2021-11-05T10:20:04.992Z"
   },
   {
    "duration": 43,
    "start_time": "2021-11-05T10:20:05.039Z"
   },
   {
    "duration": 6935,
    "start_time": "2021-11-05T10:20:05.085Z"
   },
   {
    "duration": 7,
    "start_time": "2021-11-05T10:20:12.022Z"
   },
   {
    "duration": 28,
    "start_time": "2021-11-05T10:20:12.031Z"
   },
   {
    "duration": 27,
    "start_time": "2021-11-05T10:20:12.062Z"
   },
   {
    "duration": 29,
    "start_time": "2021-11-05T10:20:12.091Z"
   },
   {
    "duration": 14,
    "start_time": "2021-11-05T10:20:12.122Z"
   },
   {
    "duration": 34,
    "start_time": "2021-11-05T10:20:12.138Z"
   },
   {
    "duration": 6740,
    "start_time": "2021-11-05T10:20:12.174Z"
   },
   {
    "duration": 6,
    "start_time": "2021-11-05T10:20:18.916Z"
   },
   {
    "duration": 18,
    "start_time": "2021-11-05T10:20:18.924Z"
   },
   {
    "duration": 30,
    "start_time": "2021-11-05T10:20:18.949Z"
   },
   {
    "duration": 20,
    "start_time": "2021-11-05T10:20:18.984Z"
   },
   {
    "duration": 14,
    "start_time": "2021-11-05T10:20:19.007Z"
   },
   {
    "duration": 31,
    "start_time": "2021-11-05T10:20:19.024Z"
   },
   {
    "duration": 6888,
    "start_time": "2021-11-05T10:20:19.058Z"
   },
   {
    "duration": 7,
    "start_time": "2021-11-05T10:20:25.949Z"
   },
   {
    "duration": 11,
    "start_time": "2021-11-05T10:20:25.959Z"
   },
   {
    "duration": 29,
    "start_time": "2021-11-05T10:20:25.973Z"
   },
   {
    "duration": 20,
    "start_time": "2021-11-05T10:20:26.004Z"
   },
   {
    "duration": 20,
    "start_time": "2021-11-05T10:20:26.027Z"
   },
   {
    "duration": 12,
    "start_time": "2021-11-05T10:20:26.050Z"
   },
   {
    "duration": 39,
    "start_time": "2021-11-05T10:20:26.065Z"
   },
   {
    "duration": 19,
    "start_time": "2021-11-05T10:20:26.107Z"
   },
   {
    "duration": 9412,
    "start_time": "2021-11-05T10:20:26.128Z"
   },
   {
    "duration": 10,
    "start_time": "2021-11-05T10:20:35.542Z"
   },
   {
    "duration": 8,
    "start_time": "2021-11-05T10:20:35.554Z"
   },
   {
    "duration": 37,
    "start_time": "2021-11-05T10:20:35.565Z"
   },
   {
    "duration": 483,
    "start_time": "2021-11-05T10:20:35.604Z"
   },
   {
    "duration": 467,
    "start_time": "2021-11-05T10:20:36.089Z"
   },
   {
    "duration": 20,
    "start_time": "2021-11-05T10:20:36.559Z"
   },
   {
    "duration": 38,
    "start_time": "2021-11-05T10:20:36.601Z"
   },
   {
    "duration": 565,
    "start_time": "2021-11-05T10:20:36.641Z"
   },
   {
    "duration": 23,
    "start_time": "2021-11-05T10:20:37.209Z"
   },
   {
    "duration": 33,
    "start_time": "2021-11-05T10:20:37.235Z"
   },
   {
    "duration": 602,
    "start_time": "2021-11-05T10:20:37.270Z"
   },
   {
    "duration": 26,
    "start_time": "2021-11-05T10:20:37.875Z"
   },
   {
    "duration": 521,
    "start_time": "2021-11-05T10:20:37.903Z"
   },
   {
    "duration": 17,
    "start_time": "2021-11-05T10:20:38.427Z"
   },
   {
    "duration": 564,
    "start_time": "2021-11-05T10:20:38.447Z"
   },
   {
    "duration": 8,
    "start_time": "2021-11-05T10:20:39.013Z"
   },
   {
    "duration": 553,
    "start_time": "2021-11-05T10:20:39.024Z"
   },
   {
    "duration": 6,
    "start_time": "2021-11-05T10:20:39.579Z"
   },
   {
    "duration": 62,
    "start_time": "2021-11-05T10:20:39.588Z"
   },
   {
    "duration": 60,
    "start_time": "2021-11-05T10:20:39.653Z"
   },
   {
    "duration": 355,
    "start_time": "2021-11-05T10:20:39.715Z"
   },
   {
    "duration": 514,
    "start_time": "2021-11-05T10:20:40.073Z"
   },
   {
    "duration": -119,
    "start_time": "2021-11-05T10:20:40.709Z"
   },
   {
    "duration": -122,
    "start_time": "2021-11-05T10:20:40.713Z"
   },
   {
    "duration": -123,
    "start_time": "2021-11-05T10:20:40.716Z"
   },
   {
    "duration": -124,
    "start_time": "2021-11-05T10:20:40.718Z"
   },
   {
    "duration": -126,
    "start_time": "2021-11-05T10:20:40.721Z"
   },
   {
    "duration": -127,
    "start_time": "2021-11-05T10:20:40.724Z"
   },
   {
    "duration": -128,
    "start_time": "2021-11-05T10:20:40.726Z"
   },
   {
    "duration": -130,
    "start_time": "2021-11-05T10:20:40.729Z"
   },
   {
    "duration": -131,
    "start_time": "2021-11-05T10:20:40.731Z"
   },
   {
    "duration": 465,
    "start_time": "2021-11-05T10:21:08.884Z"
   },
   {
    "duration": 799,
    "start_time": "2021-11-05T10:22:05.431Z"
   },
   {
    "duration": 347,
    "start_time": "2021-11-05T10:22:37.676Z"
   },
   {
    "duration": 739,
    "start_time": "2021-11-05T10:22:44.626Z"
   },
   {
    "duration": 432,
    "start_time": "2021-11-05T10:23:06.911Z"
   },
   {
    "duration": 336,
    "start_time": "2021-11-05T10:23:17.338Z"
   },
   {
    "duration": 1657,
    "start_time": "2021-11-05T10:23:35.144Z"
   },
   {
    "duration": 15,
    "start_time": "2021-11-05T10:23:36.803Z"
   },
   {
    "duration": 23,
    "start_time": "2021-11-05T10:23:36.821Z"
   },
   {
    "duration": 55,
    "start_time": "2021-11-05T10:23:36.847Z"
   },
   {
    "duration": 7,
    "start_time": "2021-11-05T10:23:36.904Z"
   },
   {
    "duration": 34,
    "start_time": "2021-11-05T10:23:36.913Z"
   },
   {
    "duration": 22,
    "start_time": "2021-11-05T10:23:36.949Z"
   },
   {
    "duration": 35,
    "start_time": "2021-11-05T10:23:36.975Z"
   },
   {
    "duration": 11,
    "start_time": "2021-11-05T10:23:37.013Z"
   },
   {
    "duration": 7,
    "start_time": "2021-11-05T10:23:37.026Z"
   },
   {
    "duration": 25,
    "start_time": "2021-11-05T10:23:37.035Z"
   },
   {
    "duration": 55,
    "start_time": "2021-11-05T10:23:37.063Z"
   },
   {
    "duration": 6623,
    "start_time": "2021-11-05T10:23:37.120Z"
   },
   {
    "duration": 6,
    "start_time": "2021-11-05T10:23:43.745Z"
   },
   {
    "duration": 15,
    "start_time": "2021-11-05T10:23:43.753Z"
   },
   {
    "duration": 32,
    "start_time": "2021-11-05T10:23:43.771Z"
   },
   {
    "duration": 13,
    "start_time": "2021-11-05T10:23:43.805Z"
   },
   {
    "duration": 8,
    "start_time": "2021-11-05T10:23:43.820Z"
   },
   {
    "duration": 21,
    "start_time": "2021-11-05T10:23:43.831Z"
   },
   {
    "duration": 6751,
    "start_time": "2021-11-05T10:23:43.855Z"
   },
   {
    "duration": 7,
    "start_time": "2021-11-05T10:23:50.609Z"
   },
   {
    "duration": 27,
    "start_time": "2021-11-05T10:23:50.618Z"
   },
   {
    "duration": 36,
    "start_time": "2021-11-05T10:23:50.651Z"
   },
   {
    "duration": 9,
    "start_time": "2021-11-05T10:23:50.703Z"
   },
   {
    "duration": 13,
    "start_time": "2021-11-05T10:23:50.714Z"
   },
   {
    "duration": 17,
    "start_time": "2021-11-05T10:23:50.729Z"
   },
   {
    "duration": 6807,
    "start_time": "2021-11-05T10:23:50.748Z"
   },
   {
    "duration": 6,
    "start_time": "2021-11-05T10:23:57.558Z"
   },
   {
    "duration": 7,
    "start_time": "2021-11-05T10:23:57.566Z"
   },
   {
    "duration": 31,
    "start_time": "2021-11-05T10:23:57.576Z"
   },
   {
    "duration": 17,
    "start_time": "2021-11-05T10:23:57.609Z"
   },
   {
    "duration": 20,
    "start_time": "2021-11-05T10:23:57.628Z"
   },
   {
    "duration": 11,
    "start_time": "2021-11-05T10:23:57.651Z"
   },
   {
    "duration": 45,
    "start_time": "2021-11-05T10:23:57.664Z"
   },
   {
    "duration": 19,
    "start_time": "2021-11-05T10:23:57.711Z"
   },
   {
    "duration": 9024,
    "start_time": "2021-11-05T10:23:57.733Z"
   },
   {
    "duration": 10,
    "start_time": "2021-11-05T10:24:06.760Z"
   },
   {
    "duration": 11,
    "start_time": "2021-11-05T10:24:06.772Z"
   },
   {
    "duration": 28,
    "start_time": "2021-11-05T10:24:06.785Z"
   },
   {
    "duration": 505,
    "start_time": "2021-11-05T10:24:06.816Z"
   },
   {
    "duration": 610,
    "start_time": "2021-11-05T10:24:07.324Z"
   },
   {
    "duration": 21,
    "start_time": "2021-11-05T10:24:07.936Z"
   },
   {
    "duration": 62,
    "start_time": "2021-11-05T10:24:07.960Z"
   },
   {
    "duration": 568,
    "start_time": "2021-11-05T10:24:08.024Z"
   },
   {
    "duration": 26,
    "start_time": "2021-11-05T10:24:08.603Z"
   },
   {
    "duration": 33,
    "start_time": "2021-11-05T10:24:08.631Z"
   },
   {
    "duration": 590,
    "start_time": "2021-11-05T10:24:08.666Z"
   },
   {
    "duration": 12,
    "start_time": "2021-11-05T10:24:09.258Z"
   },
   {
    "duration": 555,
    "start_time": "2021-11-05T10:24:09.272Z"
   },
   {
    "duration": 16,
    "start_time": "2021-11-05T10:24:09.830Z"
   },
   {
    "duration": 556,
    "start_time": "2021-11-05T10:24:09.849Z"
   },
   {
    "duration": 11,
    "start_time": "2021-11-05T10:24:10.407Z"
   },
   {
    "duration": 502,
    "start_time": "2021-11-05T10:24:10.421Z"
   },
   {
    "duration": 6,
    "start_time": "2021-11-05T10:24:10.925Z"
   },
   {
    "duration": 77,
    "start_time": "2021-11-05T10:24:10.934Z"
   },
   {
    "duration": 40,
    "start_time": "2021-11-05T10:24:11.013Z"
   },
   {
    "duration": 370,
    "start_time": "2021-11-05T10:24:11.055Z"
   },
   {
    "duration": 390,
    "start_time": "2021-11-05T10:24:11.428Z"
   },
   {
    "duration": 31,
    "start_time": "2021-11-05T10:24:11.820Z"
   },
   {
    "duration": 56,
    "start_time": "2021-11-05T10:24:11.853Z"
   },
   {
    "duration": 30,
    "start_time": "2021-11-05T10:24:11.912Z"
   },
   {
    "duration": 17,
    "start_time": "2021-11-05T10:24:11.945Z"
   },
   {
    "duration": 13,
    "start_time": "2021-11-05T10:24:11.965Z"
   },
   {
    "duration": 24,
    "start_time": "2021-11-05T10:24:11.981Z"
   },
   {
    "duration": 23,
    "start_time": "2021-11-05T10:24:12.007Z"
   },
   {
    "duration": 9,
    "start_time": "2021-11-05T10:24:12.033Z"
   },
   {
    "duration": 12,
    "start_time": "2021-11-05T10:24:12.045Z"
   },
   {
    "duration": 1751,
    "start_time": "2021-11-05T10:24:57.498Z"
   },
   {
    "duration": 15,
    "start_time": "2021-11-05T10:24:59.251Z"
   },
   {
    "duration": 22,
    "start_time": "2021-11-05T10:24:59.269Z"
   },
   {
    "duration": 34,
    "start_time": "2021-11-05T10:24:59.294Z"
   },
   {
    "duration": 6,
    "start_time": "2021-11-05T10:24:59.331Z"
   },
   {
    "duration": 26,
    "start_time": "2021-11-05T10:24:59.340Z"
   },
   {
    "duration": 51,
    "start_time": "2021-11-05T10:24:59.368Z"
   },
   {
    "duration": 9,
    "start_time": "2021-11-05T10:24:59.422Z"
   },
   {
    "duration": 11,
    "start_time": "2021-11-05T10:24:59.434Z"
   },
   {
    "duration": 6,
    "start_time": "2021-11-05T10:24:59.447Z"
   },
   {
    "duration": 63,
    "start_time": "2021-11-05T10:24:59.455Z"
   },
   {
    "duration": 21,
    "start_time": "2021-11-05T10:24:59.521Z"
   },
   {
    "duration": 6544,
    "start_time": "2021-11-05T10:24:59.544Z"
   },
   {
    "duration": 13,
    "start_time": "2021-11-05T10:25:06.091Z"
   },
   {
    "duration": 21,
    "start_time": "2021-11-05T10:25:06.107Z"
   },
   {
    "duration": 16,
    "start_time": "2021-11-05T10:25:06.130Z"
   },
   {
    "duration": 20,
    "start_time": "2021-11-05T10:25:06.149Z"
   },
   {
    "duration": 23,
    "start_time": "2021-11-05T10:25:06.171Z"
   },
   {
    "duration": 37,
    "start_time": "2021-11-05T10:25:06.196Z"
   },
   {
    "duration": 6622,
    "start_time": "2021-11-05T10:25:06.236Z"
   },
   {
    "duration": 6,
    "start_time": "2021-11-05T10:25:12.860Z"
   },
   {
    "duration": 10,
    "start_time": "2021-11-05T10:25:12.868Z"
   },
   {
    "duration": 23,
    "start_time": "2021-11-05T10:25:12.901Z"
   },
   {
    "duration": 9,
    "start_time": "2021-11-05T10:25:12.928Z"
   },
   {
    "duration": 13,
    "start_time": "2021-11-05T10:25:12.939Z"
   },
   {
    "duration": 12,
    "start_time": "2021-11-05T10:25:12.954Z"
   },
   {
    "duration": 6743,
    "start_time": "2021-11-05T10:25:12.968Z"
   },
   {
    "duration": 6,
    "start_time": "2021-11-05T10:25:19.714Z"
   },
   {
    "duration": 23,
    "start_time": "2021-11-05T10:25:19.722Z"
   },
   {
    "duration": 17,
    "start_time": "2021-11-05T10:25:19.748Z"
   },
   {
    "duration": 32,
    "start_time": "2021-11-05T10:25:19.768Z"
   },
   {
    "duration": 21,
    "start_time": "2021-11-05T10:25:19.803Z"
   },
   {
    "duration": 17,
    "start_time": "2021-11-05T10:25:19.827Z"
   },
   {
    "duration": 21,
    "start_time": "2021-11-05T10:25:19.846Z"
   },
   {
    "duration": 45,
    "start_time": "2021-11-05T10:25:19.870Z"
   },
   {
    "duration": 9912,
    "start_time": "2021-11-05T10:25:19.917Z"
   },
   {
    "duration": 9,
    "start_time": "2021-11-05T10:25:29.832Z"
   },
   {
    "duration": 11,
    "start_time": "2021-11-05T10:25:29.843Z"
   },
   {
    "duration": 16,
    "start_time": "2021-11-05T10:25:29.857Z"
   },
   {
    "duration": 520,
    "start_time": "2021-11-05T10:25:29.875Z"
   },
   {
    "duration": 478,
    "start_time": "2021-11-05T10:25:30.401Z"
   },
   {
    "duration": 30,
    "start_time": "2021-11-05T10:25:30.882Z"
   },
   {
    "duration": 38,
    "start_time": "2021-11-05T10:25:30.915Z"
   },
   {
    "duration": 585,
    "start_time": "2021-11-05T10:25:30.955Z"
   },
   {
    "duration": 24,
    "start_time": "2021-11-05T10:25:31.542Z"
   },
   {
    "duration": 61,
    "start_time": "2021-11-05T10:25:31.568Z"
   },
   {
    "duration": 581,
    "start_time": "2021-11-05T10:25:31.632Z"
   },
   {
    "duration": 14,
    "start_time": "2021-11-05T10:25:32.215Z"
   },
   {
    "duration": 548,
    "start_time": "2021-11-05T10:25:32.231Z"
   },
   {
    "duration": 32,
    "start_time": "2021-11-05T10:25:32.782Z"
   },
   {
    "duration": 483,
    "start_time": "2021-11-05T10:25:32.817Z"
   },
   {
    "duration": 7,
    "start_time": "2021-11-05T10:25:33.303Z"
   },
   {
    "duration": 488,
    "start_time": "2021-11-05T10:25:33.312Z"
   },
   {
    "duration": 7,
    "start_time": "2021-11-05T10:25:33.803Z"
   },
   {
    "duration": 58,
    "start_time": "2021-11-05T10:25:33.812Z"
   },
   {
    "duration": 65,
    "start_time": "2021-11-05T10:25:33.872Z"
   },
   {
    "duration": 366,
    "start_time": "2021-11-05T10:25:33.940Z"
   },
   {
    "duration": 359,
    "start_time": "2021-11-05T10:25:34.309Z"
   },
   {
    "duration": 40,
    "start_time": "2021-11-05T10:25:34.671Z"
   },
   {
    "duration": 22,
    "start_time": "2021-11-05T10:25:34.714Z"
   },
   {
    "duration": 26,
    "start_time": "2021-11-05T10:25:34.739Z"
   },
   {
    "duration": 47,
    "start_time": "2021-11-05T10:25:34.768Z"
   },
   {
    "duration": 6,
    "start_time": "2021-11-05T10:25:34.817Z"
   },
   {
    "duration": 9,
    "start_time": "2021-11-05T10:25:34.825Z"
   },
   {
    "duration": 16,
    "start_time": "2021-11-05T10:25:34.836Z"
   },
   {
    "duration": 51,
    "start_time": "2021-11-05T10:25:34.854Z"
   },
   {
    "duration": 9,
    "start_time": "2021-11-05T10:25:34.907Z"
   },
   {
    "duration": 1744,
    "start_time": "2021-11-05T10:38:15.697Z"
   },
   {
    "duration": 14,
    "start_time": "2021-11-05T10:38:17.444Z"
   },
   {
    "duration": 28,
    "start_time": "2021-11-05T10:38:17.461Z"
   },
   {
    "duration": 31,
    "start_time": "2021-11-05T10:38:17.501Z"
   },
   {
    "duration": 6,
    "start_time": "2021-11-05T10:38:17.534Z"
   },
   {
    "duration": 25,
    "start_time": "2021-11-05T10:38:17.543Z"
   },
   {
    "duration": 48,
    "start_time": "2021-11-05T10:38:17.571Z"
   },
   {
    "duration": 10,
    "start_time": "2021-11-05T10:38:17.621Z"
   },
   {
    "duration": 11,
    "start_time": "2021-11-05T10:38:17.636Z"
   },
   {
    "duration": 6,
    "start_time": "2021-11-05T10:38:17.650Z"
   },
   {
    "duration": 63,
    "start_time": "2021-11-05T10:38:17.659Z"
   },
   {
    "duration": 25,
    "start_time": "2021-11-05T10:38:17.724Z"
   },
   {
    "duration": 6843,
    "start_time": "2021-11-05T10:38:17.752Z"
   },
   {
    "duration": 7,
    "start_time": "2021-11-05T10:38:24.600Z"
   },
   {
    "duration": 16,
    "start_time": "2021-11-05T10:38:24.609Z"
   },
   {
    "duration": 5,
    "start_time": "2021-11-05T10:38:24.627Z"
   },
   {
    "duration": 12,
    "start_time": "2021-11-05T10:38:24.634Z"
   },
   {
    "duration": 12,
    "start_time": "2021-11-05T10:38:24.648Z"
   },
   {
    "duration": 59,
    "start_time": "2021-11-05T10:38:24.662Z"
   },
   {
    "duration": 6624,
    "start_time": "2021-11-05T10:38:24.723Z"
   },
   {
    "duration": 5,
    "start_time": "2021-11-05T10:38:31.350Z"
   },
   {
    "duration": 21,
    "start_time": "2021-11-05T10:38:31.357Z"
   },
   {
    "duration": 33,
    "start_time": "2021-11-05T10:38:31.381Z"
   },
   {
    "duration": 10,
    "start_time": "2021-11-05T10:38:31.416Z"
   },
   {
    "duration": 26,
    "start_time": "2021-11-05T10:38:31.428Z"
   },
   {
    "duration": 29,
    "start_time": "2021-11-05T10:38:31.456Z"
   },
   {
    "duration": 6409,
    "start_time": "2021-11-05T10:38:31.491Z"
   },
   {
    "duration": 6,
    "start_time": "2021-11-05T10:38:37.904Z"
   },
   {
    "duration": 14,
    "start_time": "2021-11-05T10:38:37.912Z"
   },
   {
    "duration": 11,
    "start_time": "2021-11-05T10:38:37.928Z"
   },
   {
    "duration": 17,
    "start_time": "2021-11-05T10:38:37.941Z"
   },
   {
    "duration": 51,
    "start_time": "2021-11-05T10:38:37.961Z"
   },
   {
    "duration": 24,
    "start_time": "2021-11-05T10:38:38.014Z"
   },
   {
    "duration": 23,
    "start_time": "2021-11-05T10:38:38.041Z"
   },
   {
    "duration": 23,
    "start_time": "2021-11-05T10:38:38.066Z"
   },
   {
    "duration": 9126,
    "start_time": "2021-11-05T10:38:38.091Z"
   },
   {
    "duration": 10,
    "start_time": "2021-11-05T10:38:47.219Z"
   },
   {
    "duration": 9,
    "start_time": "2021-11-05T10:38:47.231Z"
   },
   {
    "duration": 18,
    "start_time": "2021-11-05T10:38:47.242Z"
   },
   {
    "duration": 519,
    "start_time": "2021-11-05T10:38:47.263Z"
   },
   {
    "duration": 493,
    "start_time": "2021-11-05T10:38:47.785Z"
   },
   {
    "duration": 29,
    "start_time": "2021-11-05T10:38:48.280Z"
   },
   {
    "duration": 37,
    "start_time": "2021-11-05T10:38:48.312Z"
   },
   {
    "duration": 590,
    "start_time": "2021-11-05T10:38:48.351Z"
   },
   {
    "duration": 25,
    "start_time": "2021-11-05T10:38:48.944Z"
   },
   {
    "duration": 61,
    "start_time": "2021-11-05T10:38:48.972Z"
   },
   {
    "duration": 674,
    "start_time": "2021-11-05T10:38:49.036Z"
   },
   {
    "duration": 15,
    "start_time": "2021-11-05T10:38:49.713Z"
   },
   {
    "duration": 554,
    "start_time": "2021-11-05T10:38:49.731Z"
   },
   {
    "duration": 27,
    "start_time": "2021-11-05T10:38:50.289Z"
   },
   {
    "duration": 502,
    "start_time": "2021-11-05T10:38:50.318Z"
   },
   {
    "duration": 9,
    "start_time": "2021-11-05T10:38:50.823Z"
   },
   {
    "duration": 531,
    "start_time": "2021-11-05T10:38:50.835Z"
   },
   {
    "duration": 7,
    "start_time": "2021-11-05T10:38:51.369Z"
   },
   {
    "duration": 72,
    "start_time": "2021-11-05T10:38:51.379Z"
   },
   {
    "duration": 66,
    "start_time": "2021-11-05T10:38:51.454Z"
   },
   {
    "duration": 360,
    "start_time": "2021-11-05T10:38:51.523Z"
   },
   {
    "duration": 367,
    "start_time": "2021-11-05T10:38:51.886Z"
   },
   {
    "duration": 46,
    "start_time": "2021-11-05T10:38:52.256Z"
   },
   {
    "duration": 25,
    "start_time": "2021-11-05T10:38:52.305Z"
   },
   {
    "duration": 27,
    "start_time": "2021-11-05T10:38:52.333Z"
   },
   {
    "duration": 52,
    "start_time": "2021-11-05T10:38:52.362Z"
   },
   {
    "duration": 9,
    "start_time": "2021-11-05T10:38:52.416Z"
   },
   {
    "duration": 15,
    "start_time": "2021-11-05T10:38:52.427Z"
   },
   {
    "duration": 22,
    "start_time": "2021-11-05T10:38:52.444Z"
   },
   {
    "duration": 33,
    "start_time": "2021-11-05T10:38:52.468Z"
   },
   {
    "duration": 10,
    "start_time": "2021-11-05T10:38:52.503Z"
   }
  ],
  "kernelspec": {
   "display_name": "Python 3 (ipykernel)",
   "language": "python",
   "name": "python3"
  },
  "language_info": {
   "codemirror_mode": {
    "name": "ipython",
    "version": 3
   },
   "file_extension": ".py",
   "mimetype": "text/x-python",
   "name": "python",
   "nbconvert_exporter": "python",
   "pygments_lexer": "ipython3",
   "version": "3.9.12"
  },
  "toc": {
   "base_numbering": 1,
   "nav_menu": {},
   "number_sections": true,
   "sideBar": true,
   "skip_h1_title": true,
   "title_cell": "Table of Contents",
   "title_sidebar": "Contents",
   "toc_cell": false,
   "toc_position": {},
   "toc_section_display": true,
   "toc_window_display": false
  }
 },
 "nbformat": 4,
 "nbformat_minor": 5
}
