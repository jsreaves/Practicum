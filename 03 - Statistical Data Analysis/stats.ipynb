{
 "cells": [
  {
   "cell_type": "markdown",
   "id": "7140556e",
   "metadata": {},
   "source": [
    "# Introduction\n",
    "In this project, we are doing data analysis for Megaline, a telecom operator.  The company offers two prepaid plans, called Surf and Ultimate.  The marketing department has asked us to determine which plan brings in more revenue, so that they can adjust their advertising budget.\n",
    "\n",
    "Our analysis will be based on a sample of 500 clients during the year 2018.  We will analyze clients' usage of the service (phone calls, text messages, and data) and determine which plan brings in more revenue.\n",
    "\n",
    "In order to draw valid conclusions, the sample should be representative of the entire population of Megaline clients.  The sample should approximate the population in terms of such factors as geographic distribution, ages of customers, and, of course, usage patterns.  The sample should have similar the proportions of clients on the two plans."
   ]
  },
  {
   "cell_type": "code",
   "execution_count": 1,
   "id": "1b645d1d",
   "metadata": {},
   "outputs": [],
   "source": [
    "import pandas as pd\n",
    "import matplotlib.pyplot as plt\n",
    "from scipy import stats as st\n",
    "import math\n",
    "import numpy as np\n",
    "from functools import reduce\n",
    "import seaborn as sns\n",
    "from scipy.stats import levene\n",
    "import warnings\n",
    "\n",
    "warnings.filterwarnings('ignore')\n",
    "\n",
    "try:\n",
    "    df_pln = pd.read_csv('megaline_plans.csv')\n",
    "    df_usr = pd.read_csv('megaline_users.csv')\n",
    "    df_call = pd.read_csv('megaline_calls.csv')\n",
    "    df_msg = pd.read_csv('megaline_messages.csv')\n",
    "    df_net = pd.read_csv('megaline_internet.csv')\n",
    "except:\n",
    "    df_pln = pd.read_csv('/datasets/megaline_plans.csv')\n",
    "    df_usr = pd.read_csv('/datasets/megaline_users.csv')\n",
    "    df_call = pd.read_csv('/datasets/megaline_calls.csv')\n",
    "    df_msg = pd.read_csv('/datasets/megaline_messages.csv')\n",
    "    df_net = pd.read_csv('/datasets/megaline_internet.csv')"
   ]
  },
  {
   "cell_type": "markdown",
   "id": "26b22c00",
   "metadata": {},
   "source": [
    "# Initial data review\n",
    "In this section, we will take a preliminary look at 5 dataframes.\n",
    "- Plans:  Provides parameters on the Surf and Ultimate plans, i.e., monthly fee, monthly limits for calls, messages, and data, and rates for usage that exceeds the limits.\n",
    "- Users:  Provides information on the 500 users sampled.\n",
    "- Calls:  Lists the phone calls and their durations during the year.\n",
    "- Messages:  Lists text messages sent.\n",
    "- Internet:  Lists data usage."
   ]
  },
  {
   "cell_type": "markdown",
   "id": "afabe8c6",
   "metadata": {},
   "source": [
    "## Plans"
   ]
  },
  {
   "cell_type": "code",
   "execution_count": 2,
   "id": "93d3022d",
   "metadata": {},
   "outputs": [
    {
     "name": "stdout",
     "output_type": "stream",
     "text": [
      "<class 'pandas.core.frame.DataFrame'>\n",
      "RangeIndex: 2 entries, 0 to 1\n",
      "Data columns (total 8 columns):\n",
      " #   Column                 Non-Null Count  Dtype  \n",
      "---  ------                 --------------  -----  \n",
      " 0   messages_included      2 non-null      int64  \n",
      " 1   mb_per_month_included  2 non-null      int64  \n",
      " 2   minutes_included       2 non-null      int64  \n",
      " 3   usd_monthly_pay        2 non-null      int64  \n",
      " 4   usd_per_gb             2 non-null      int64  \n",
      " 5   usd_per_message        2 non-null      float64\n",
      " 6   usd_per_minute         2 non-null      float64\n",
      " 7   plan_name              2 non-null      object \n",
      "dtypes: float64(2), int64(5), object(1)\n",
      "memory usage: 256.0+ bytes\n"
     ]
    }
   ],
   "source": [
    "df_pln.info()"
   ]
  },
  {
   "cell_type": "code",
   "execution_count": 3,
   "id": "a5ef8b1b",
   "metadata": {},
   "outputs": [
    {
     "data": {
      "text/html": [
       "<div>\n",
       "<style scoped>\n",
       "    .dataframe tbody tr th:only-of-type {\n",
       "        vertical-align: middle;\n",
       "    }\n",
       "\n",
       "    .dataframe tbody tr th {\n",
       "        vertical-align: top;\n",
       "    }\n",
       "\n",
       "    .dataframe thead th {\n",
       "        text-align: right;\n",
       "    }\n",
       "</style>\n",
       "<table border=\"1\" class=\"dataframe\">\n",
       "  <thead>\n",
       "    <tr style=\"text-align: right;\">\n",
       "      <th></th>\n",
       "      <th>messages_included</th>\n",
       "      <th>mb_per_month_included</th>\n",
       "      <th>minutes_included</th>\n",
       "      <th>usd_monthly_pay</th>\n",
       "      <th>usd_per_gb</th>\n",
       "      <th>usd_per_message</th>\n",
       "      <th>usd_per_minute</th>\n",
       "      <th>plan_name</th>\n",
       "    </tr>\n",
       "  </thead>\n",
       "  <tbody>\n",
       "    <tr>\n",
       "      <th>0</th>\n",
       "      <td>50</td>\n",
       "      <td>15360</td>\n",
       "      <td>500</td>\n",
       "      <td>20</td>\n",
       "      <td>10</td>\n",
       "      <td>0.03</td>\n",
       "      <td>0.03</td>\n",
       "      <td>surf</td>\n",
       "    </tr>\n",
       "    <tr>\n",
       "      <th>1</th>\n",
       "      <td>1000</td>\n",
       "      <td>30720</td>\n",
       "      <td>3000</td>\n",
       "      <td>70</td>\n",
       "      <td>7</td>\n",
       "      <td>0.01</td>\n",
       "      <td>0.01</td>\n",
       "      <td>ultimate</td>\n",
       "    </tr>\n",
       "  </tbody>\n",
       "</table>\n",
       "</div>"
      ],
      "text/plain": [
       "   messages_included  mb_per_month_included  minutes_included  \\\n",
       "0                 50                  15360               500   \n",
       "1               1000                  30720              3000   \n",
       "\n",
       "   usd_monthly_pay  usd_per_gb  usd_per_message  usd_per_minute plan_name  \n",
       "0               20          10             0.03            0.03      surf  \n",
       "1               70           7             0.01            0.01  ultimate  "
      ]
     },
     "execution_count": 3,
     "metadata": {},
     "output_type": "execute_result"
    }
   ],
   "source": [
    "df_pln"
   ]
  },
  {
   "cell_type": "markdown",
   "id": "1be6c8de",
   "metadata": {},
   "source": [
    "Th <code>df_plans</code> dataframe describes the two prepaid plans that Megaline offers, Surf and Ultimate.  I note that the number of MB included is the binary equivalent rather than decimal.  The data types are appropriate:  integer types for whole numbers, float types for decimal numbers, and a string for the plan name."
   ]
  },
  {
   "cell_type": "markdown",
   "id": "85c4086c",
   "metadata": {},
   "source": [
    "## Users"
   ]
  },
  {
   "cell_type": "code",
   "execution_count": 4,
   "id": "0c7dd2d0",
   "metadata": {},
   "outputs": [
    {
     "name": "stdout",
     "output_type": "stream",
     "text": [
      "<class 'pandas.core.frame.DataFrame'>\n",
      "RangeIndex: 500 entries, 0 to 499\n",
      "Data columns (total 8 columns):\n",
      " #   Column      Non-Null Count  Dtype \n",
      "---  ------      --------------  ----- \n",
      " 0   user_id     500 non-null    int64 \n",
      " 1   first_name  500 non-null    object\n",
      " 2   last_name   500 non-null    object\n",
      " 3   age         500 non-null    int64 \n",
      " 4   city        500 non-null    object\n",
      " 5   reg_date    500 non-null    object\n",
      " 6   plan        500 non-null    object\n",
      " 7   churn_date  34 non-null     object\n",
      "dtypes: int64(2), object(6)\n",
      "memory usage: 31.4+ KB\n"
     ]
    }
   ],
   "source": [
    "df_usr.info()"
   ]
  },
  {
   "cell_type": "code",
   "execution_count": 5,
   "id": "929f8b32",
   "metadata": {},
   "outputs": [
    {
     "data": {
      "text/html": [
       "<div>\n",
       "<style scoped>\n",
       "    .dataframe tbody tr th:only-of-type {\n",
       "        vertical-align: middle;\n",
       "    }\n",
       "\n",
       "    .dataframe tbody tr th {\n",
       "        vertical-align: top;\n",
       "    }\n",
       "\n",
       "    .dataframe thead th {\n",
       "        text-align: right;\n",
       "    }\n",
       "</style>\n",
       "<table border=\"1\" class=\"dataframe\">\n",
       "  <thead>\n",
       "    <tr style=\"text-align: right;\">\n",
       "      <th></th>\n",
       "      <th>user_id</th>\n",
       "      <th>first_name</th>\n",
       "      <th>last_name</th>\n",
       "      <th>age</th>\n",
       "      <th>city</th>\n",
       "      <th>reg_date</th>\n",
       "      <th>plan</th>\n",
       "      <th>churn_date</th>\n",
       "    </tr>\n",
       "  </thead>\n",
       "  <tbody>\n",
       "    <tr>\n",
       "      <th>0</th>\n",
       "      <td>1000</td>\n",
       "      <td>Anamaria</td>\n",
       "      <td>Bauer</td>\n",
       "      <td>45</td>\n",
       "      <td>Atlanta-Sandy Springs-Roswell, GA MSA</td>\n",
       "      <td>2018-12-24</td>\n",
       "      <td>ultimate</td>\n",
       "      <td>NaN</td>\n",
       "    </tr>\n",
       "    <tr>\n",
       "      <th>1</th>\n",
       "      <td>1001</td>\n",
       "      <td>Mickey</td>\n",
       "      <td>Wilkerson</td>\n",
       "      <td>28</td>\n",
       "      <td>Seattle-Tacoma-Bellevue, WA MSA</td>\n",
       "      <td>2018-08-13</td>\n",
       "      <td>surf</td>\n",
       "      <td>NaN</td>\n",
       "    </tr>\n",
       "    <tr>\n",
       "      <th>2</th>\n",
       "      <td>1002</td>\n",
       "      <td>Carlee</td>\n",
       "      <td>Hoffman</td>\n",
       "      <td>36</td>\n",
       "      <td>Las Vegas-Henderson-Paradise, NV MSA</td>\n",
       "      <td>2018-10-21</td>\n",
       "      <td>surf</td>\n",
       "      <td>NaN</td>\n",
       "    </tr>\n",
       "    <tr>\n",
       "      <th>3</th>\n",
       "      <td>1003</td>\n",
       "      <td>Reynaldo</td>\n",
       "      <td>Jenkins</td>\n",
       "      <td>52</td>\n",
       "      <td>Tulsa, OK MSA</td>\n",
       "      <td>2018-01-28</td>\n",
       "      <td>surf</td>\n",
       "      <td>NaN</td>\n",
       "    </tr>\n",
       "    <tr>\n",
       "      <th>4</th>\n",
       "      <td>1004</td>\n",
       "      <td>Leonila</td>\n",
       "      <td>Thompson</td>\n",
       "      <td>40</td>\n",
       "      <td>Seattle-Tacoma-Bellevue, WA MSA</td>\n",
       "      <td>2018-05-23</td>\n",
       "      <td>surf</td>\n",
       "      <td>NaN</td>\n",
       "    </tr>\n",
       "  </tbody>\n",
       "</table>\n",
       "</div>"
      ],
      "text/plain": [
       "   user_id first_name  last_name  age                                   city  \\\n",
       "0     1000   Anamaria      Bauer   45  Atlanta-Sandy Springs-Roswell, GA MSA   \n",
       "1     1001     Mickey  Wilkerson   28        Seattle-Tacoma-Bellevue, WA MSA   \n",
       "2     1002     Carlee    Hoffman   36   Las Vegas-Henderson-Paradise, NV MSA   \n",
       "3     1003   Reynaldo    Jenkins   52                          Tulsa, OK MSA   \n",
       "4     1004    Leonila   Thompson   40        Seattle-Tacoma-Bellevue, WA MSA   \n",
       "\n",
       "     reg_date      plan churn_date  \n",
       "0  2018-12-24  ultimate        NaN  \n",
       "1  2018-08-13      surf        NaN  \n",
       "2  2018-10-21      surf        NaN  \n",
       "3  2018-01-28      surf        NaN  \n",
       "4  2018-05-23      surf        NaN  "
      ]
     },
     "execution_count": 5,
     "metadata": {},
     "output_type": "execute_result"
    }
   ],
   "source": [
    "df_usr.head()"
   ]
  },
  {
   "cell_type": "markdown",
   "id": "63247591",
   "metadata": {},
   "source": [
    "Data types are appropriate, except for <code>reg_date</code>, which should be <code>datatime</code>.  There are no true missing values; the <code>NaN</code> values for <code>churn_date</code> indicate that the plan was still being used when the data was extracted.  The city column refers to a Metropolitan Service Area (MSA).  This often encompasses several cities, which in some cases are located in adjoining states."
   ]
  },
  {
   "cell_type": "markdown",
   "id": "9691954b",
   "metadata": {},
   "source": [
    "## Calls"
   ]
  },
  {
   "cell_type": "code",
   "execution_count": 6,
   "id": "41ca7625",
   "metadata": {},
   "outputs": [
    {
     "name": "stdout",
     "output_type": "stream",
     "text": [
      "<class 'pandas.core.frame.DataFrame'>\n",
      "RangeIndex: 137735 entries, 0 to 137734\n",
      "Data columns (total 4 columns):\n",
      " #   Column     Non-Null Count   Dtype  \n",
      "---  ------     --------------   -----  \n",
      " 0   id         137735 non-null  object \n",
      " 1   user_id    137735 non-null  int64  \n",
      " 2   call_date  137735 non-null  object \n",
      " 3   duration   137735 non-null  float64\n",
      "dtypes: float64(1), int64(1), object(2)\n",
      "memory usage: 4.2+ MB\n"
     ]
    }
   ],
   "source": [
    "df_call.info()"
   ]
  },
  {
   "cell_type": "code",
   "execution_count": 7,
   "id": "23fb7d59",
   "metadata": {},
   "outputs": [
    {
     "data": {
      "text/html": [
       "<div>\n",
       "<style scoped>\n",
       "    .dataframe tbody tr th:only-of-type {\n",
       "        vertical-align: middle;\n",
       "    }\n",
       "\n",
       "    .dataframe tbody tr th {\n",
       "        vertical-align: top;\n",
       "    }\n",
       "\n",
       "    .dataframe thead th {\n",
       "        text-align: right;\n",
       "    }\n",
       "</style>\n",
       "<table border=\"1\" class=\"dataframe\">\n",
       "  <thead>\n",
       "    <tr style=\"text-align: right;\">\n",
       "      <th></th>\n",
       "      <th>id</th>\n",
       "      <th>user_id</th>\n",
       "      <th>call_date</th>\n",
       "      <th>duration</th>\n",
       "    </tr>\n",
       "  </thead>\n",
       "  <tbody>\n",
       "    <tr>\n",
       "      <th>0</th>\n",
       "      <td>1000_93</td>\n",
       "      <td>1000</td>\n",
       "      <td>2018-12-27</td>\n",
       "      <td>8.52</td>\n",
       "    </tr>\n",
       "    <tr>\n",
       "      <th>1</th>\n",
       "      <td>1000_145</td>\n",
       "      <td>1000</td>\n",
       "      <td>2018-12-27</td>\n",
       "      <td>13.66</td>\n",
       "    </tr>\n",
       "    <tr>\n",
       "      <th>2</th>\n",
       "      <td>1000_247</td>\n",
       "      <td>1000</td>\n",
       "      <td>2018-12-27</td>\n",
       "      <td>14.48</td>\n",
       "    </tr>\n",
       "    <tr>\n",
       "      <th>3</th>\n",
       "      <td>1000_309</td>\n",
       "      <td>1000</td>\n",
       "      <td>2018-12-28</td>\n",
       "      <td>5.76</td>\n",
       "    </tr>\n",
       "    <tr>\n",
       "      <th>4</th>\n",
       "      <td>1000_380</td>\n",
       "      <td>1000</td>\n",
       "      <td>2018-12-30</td>\n",
       "      <td>4.22</td>\n",
       "    </tr>\n",
       "  </tbody>\n",
       "</table>\n",
       "</div>"
      ],
      "text/plain": [
       "         id  user_id   call_date  duration\n",
       "0   1000_93     1000  2018-12-27      8.52\n",
       "1  1000_145     1000  2018-12-27     13.66\n",
       "2  1000_247     1000  2018-12-27     14.48\n",
       "3  1000_309     1000  2018-12-28      5.76\n",
       "4  1000_380     1000  2018-12-30      4.22"
      ]
     },
     "execution_count": 7,
     "metadata": {},
     "output_type": "execute_result"
    }
   ],
   "source": [
    "df_call.head()"
   ]
  },
  {
   "cell_type": "markdown",
   "id": "f4767aa3",
   "metadata": {},
   "source": [
    "The <code>id</code> appears to be the <code>user_id</code> joined by an underscore to a unique number for each call.  <code>call_date</code> should be <code>datetime</code>.  There do not appear to be any missing values.\n",
    "\n",
    "Let's inspect the distribution of calls, looking for any anomalies in the data."
   ]
  },
  {
   "cell_type": "code",
   "execution_count": 8,
   "id": "eceeb6a7",
   "metadata": {},
   "outputs": [
    {
     "data": {
      "image/png": "[encoded data removed]",
      "text/plain": [
       "<Figure size 720x576 with 1 Axes>"
      ]
     },
     "metadata": {
      "needs_background": "light"
     },
     "output_type": "display_data"
    }
   ],
   "source": [
    "plt.figure(figsize=(10,8))\n",
    "plt.hist(df_call['duration'], bins=20)\n",
    "plt.title('Call Duration')\n",
    "plt.xlabel('Call Duration')\n",
    "plt.ylabel('Number of calls')\n",
    "plt.grid()\n",
    "plt.show()"
   ]
  },
  {
   "cell_type": "markdown",
   "id": "c9b7932a",
   "metadata": {},
   "source": [
    "This histogram, which shows the distribution of the length of calls, shows a large peak at or near zero.  Let's manually inspect calls lasting less than a minute."
   ]
  },
  {
   "cell_type": "code",
   "execution_count": 9,
   "id": "152e28c8",
   "metadata": {},
   "outputs": [
    {
     "data": {
      "text/html": [
       "<div>\n",
       "<style scoped>\n",
       "    .dataframe tbody tr th:only-of-type {\n",
       "        vertical-align: middle;\n",
       "    }\n",
       "\n",
       "    .dataframe tbody tr th {\n",
       "        vertical-align: top;\n",
       "    }\n",
       "\n",
       "    .dataframe thead th {\n",
       "        text-align: right;\n",
       "    }\n",
       "</style>\n",
       "<table border=\"1\" class=\"dataframe\">\n",
       "  <thead>\n",
       "    <tr style=\"text-align: right;\">\n",
       "      <th></th>\n",
       "      <th>id</th>\n",
       "      <th>user_id</th>\n",
       "      <th>call_date</th>\n",
       "      <th>duration</th>\n",
       "    </tr>\n",
       "  </thead>\n",
       "  <tbody>\n",
       "    <tr>\n",
       "      <th>19</th>\n",
       "      <td>1001_4</td>\n",
       "      <td>1001</td>\n",
       "      <td>2018-12-05</td>\n",
       "      <td>0.00</td>\n",
       "    </tr>\n",
       "    <tr>\n",
       "      <th>25</th>\n",
       "      <td>1001_13</td>\n",
       "      <td>1001</td>\n",
       "      <td>2018-12-24</td>\n",
       "      <td>0.00</td>\n",
       "    </tr>\n",
       "    <tr>\n",
       "      <th>28</th>\n",
       "      <td>1001_23</td>\n",
       "      <td>1001</td>\n",
       "      <td>2018-10-27</td>\n",
       "      <td>0.98</td>\n",
       "    </tr>\n",
       "    <tr>\n",
       "      <th>31</th>\n",
       "      <td>1001_30</td>\n",
       "      <td>1001</td>\n",
       "      <td>2018-10-17</td>\n",
       "      <td>0.00</td>\n",
       "    </tr>\n",
       "    <tr>\n",
       "      <th>32</th>\n",
       "      <td>1001_31</td>\n",
       "      <td>1001</td>\n",
       "      <td>2018-11-03</td>\n",
       "      <td>0.00</td>\n",
       "    </tr>\n",
       "  </tbody>\n",
       "</table>\n",
       "</div>"
      ],
      "text/plain": [
       "         id  user_id   call_date  duration\n",
       "19   1001_4     1001  2018-12-05      0.00\n",
       "25  1001_13     1001  2018-12-24      0.00\n",
       "28  1001_23     1001  2018-10-27      0.98\n",
       "31  1001_30     1001  2018-10-17      0.00\n",
       "32  1001_31     1001  2018-11-03      0.00"
      ]
     },
     "execution_count": 9,
     "metadata": {},
     "output_type": "execute_result"
    }
   ],
   "source": [
    "df_call.query('duration < 1').head()"
   ]
  },
  {
   "cell_type": "markdown",
   "id": "7db73fbf",
   "metadata": {},
   "source": [
    "Many calls have a length of zero.  The most likely explanation is that the call went unanswered.  Megaline rounds up calls lasting one second to a minute, but these calls didn't even last a second.  These are not true missing values, and since Megaline doesn't bill for them, it does not make sense to fill in an average default value.  These calls will have no effect on revenue calculations and can be safely excluded from further analysis."
   ]
  },
  {
   "cell_type": "code",
   "execution_count": 10,
   "id": "8a609d9d",
   "metadata": {},
   "outputs": [
    {
     "data": {
      "image/png": "[encoded data removed]",
      "text/plain": [
       "<Figure size 720x576 with 1 Axes>"
      ]
     },
     "metadata": {
      "needs_background": "light"
     },
     "output_type": "display_data"
    }
   ],
   "source": [
    "zero_duration_indices = df_call[df_call['duration'] == 0].index\n",
    "df_call.drop(zero_duration_indices, inplace=True)\n",
    "\n",
    "plt.figure(figsize=(10,8))\n",
    "plt.hist(df_call['duration'], bins=20)\n",
    "plt.title('Call Duration')\n",
    "plt.xlabel('Call Duration')\n",
    "plt.ylabel('Number of calls')\n",
    "plt.grid()\n",
    "plt.show()"
   ]
  },
  {
   "cell_type": "markdown",
   "id": "3882f314",
   "metadata": {},
   "source": [
    "## Messages"
   ]
  },
  {
   "cell_type": "code",
   "execution_count": 11,
   "id": "e79b4b47",
   "metadata": {},
   "outputs": [
    {
     "name": "stdout",
     "output_type": "stream",
     "text": [
      "<class 'pandas.core.frame.DataFrame'>\n",
      "RangeIndex: 76051 entries, 0 to 76050\n",
      "Data columns (total 3 columns):\n",
      " #   Column        Non-Null Count  Dtype \n",
      "---  ------        --------------  ----- \n",
      " 0   id            76051 non-null  object\n",
      " 1   user_id       76051 non-null  int64 \n",
      " 2   message_date  76051 non-null  object\n",
      "dtypes: int64(1), object(2)\n",
      "memory usage: 1.7+ MB\n"
     ]
    }
   ],
   "source": [
    "df_msg.info()"
   ]
  },
  {
   "cell_type": "code",
   "execution_count": 12,
   "id": "c04f3b9d",
   "metadata": {},
   "outputs": [
    {
     "data": {
      "text/html": [
       "<div>\n",
       "<style scoped>\n",
       "    .dataframe tbody tr th:only-of-type {\n",
       "        vertical-align: middle;\n",
       "    }\n",
       "\n",
       "    .dataframe tbody tr th {\n",
       "        vertical-align: top;\n",
       "    }\n",
       "\n",
       "    .dataframe thead th {\n",
       "        text-align: right;\n",
       "    }\n",
       "</style>\n",
       "<table border=\"1\" class=\"dataframe\">\n",
       "  <thead>\n",
       "    <tr style=\"text-align: right;\">\n",
       "      <th></th>\n",
       "      <th>id</th>\n",
       "      <th>user_id</th>\n",
       "      <th>message_date</th>\n",
       "    </tr>\n",
       "  </thead>\n",
       "  <tbody>\n",
       "    <tr>\n",
       "      <th>0</th>\n",
       "      <td>1000_125</td>\n",
       "      <td>1000</td>\n",
       "      <td>2018-12-27</td>\n",
       "    </tr>\n",
       "    <tr>\n",
       "      <th>1</th>\n",
       "      <td>1000_160</td>\n",
       "      <td>1000</td>\n",
       "      <td>2018-12-31</td>\n",
       "    </tr>\n",
       "    <tr>\n",
       "      <th>2</th>\n",
       "      <td>1000_223</td>\n",
       "      <td>1000</td>\n",
       "      <td>2018-12-31</td>\n",
       "    </tr>\n",
       "    <tr>\n",
       "      <th>3</th>\n",
       "      <td>1000_251</td>\n",
       "      <td>1000</td>\n",
       "      <td>2018-12-27</td>\n",
       "    </tr>\n",
       "    <tr>\n",
       "      <th>4</th>\n",
       "      <td>1000_255</td>\n",
       "      <td>1000</td>\n",
       "      <td>2018-12-26</td>\n",
       "    </tr>\n",
       "  </tbody>\n",
       "</table>\n",
       "</div>"
      ],
      "text/plain": [
       "         id  user_id message_date\n",
       "0  1000_125     1000   2018-12-27\n",
       "1  1000_160     1000   2018-12-31\n",
       "2  1000_223     1000   2018-12-31\n",
       "3  1000_251     1000   2018-12-27\n",
       "4  1000_255     1000   2018-12-26"
      ]
     },
     "execution_count": 12,
     "metadata": {},
     "output_type": "execute_result"
    }
   ],
   "source": [
    "df_msg.head()"
   ]
  },
  {
   "cell_type": "markdown",
   "id": "c1df139b",
   "metadata": {},
   "source": [
    "The messages dataframe is similar to the calls dataframe.  There are no apparent missing values.  <code>message_date</code> should be <code>datetime</code>."
   ]
  },
  {
   "cell_type": "markdown",
   "id": "b13ddf2b",
   "metadata": {},
   "source": [
    "## Internet"
   ]
  },
  {
   "cell_type": "code",
   "execution_count": 13,
   "id": "93246fa4",
   "metadata": {},
   "outputs": [
    {
     "name": "stdout",
     "output_type": "stream",
     "text": [
      "<class 'pandas.core.frame.DataFrame'>\n",
      "RangeIndex: 104825 entries, 0 to 104824\n",
      "Data columns (total 4 columns):\n",
      " #   Column        Non-Null Count   Dtype  \n",
      "---  ------        --------------   -----  \n",
      " 0   id            104825 non-null  object \n",
      " 1   user_id       104825 non-null  int64  \n",
      " 2   session_date  104825 non-null  object \n",
      " 3   mb_used       104825 non-null  float64\n",
      "dtypes: float64(1), int64(1), object(2)\n",
      "memory usage: 3.2+ MB\n"
     ]
    }
   ],
   "source": [
    "df_net.info()"
   ]
  },
  {
   "cell_type": "code",
   "execution_count": 14,
   "id": "0478e5d6",
   "metadata": {},
   "outputs": [
    {
     "data": {
      "text/html": [
       "<div>\n",
       "<style scoped>\n",
       "    .dataframe tbody tr th:only-of-type {\n",
       "        vertical-align: middle;\n",
       "    }\n",
       "\n",
       "    .dataframe tbody tr th {\n",
       "        vertical-align: top;\n",
       "    }\n",
       "\n",
       "    .dataframe thead th {\n",
       "        text-align: right;\n",
       "    }\n",
       "</style>\n",
       "<table border=\"1\" class=\"dataframe\">\n",
       "  <thead>\n",
       "    <tr style=\"text-align: right;\">\n",
       "      <th></th>\n",
       "      <th>id</th>\n",
       "      <th>user_id</th>\n",
       "      <th>session_date</th>\n",
       "      <th>mb_used</th>\n",
       "    </tr>\n",
       "  </thead>\n",
       "  <tbody>\n",
       "    <tr>\n",
       "      <th>0</th>\n",
       "      <td>1000_13</td>\n",
       "      <td>1000</td>\n",
       "      <td>2018-12-29</td>\n",
       "      <td>89.86</td>\n",
       "    </tr>\n",
       "    <tr>\n",
       "      <th>1</th>\n",
       "      <td>1000_204</td>\n",
       "      <td>1000</td>\n",
       "      <td>2018-12-31</td>\n",
       "      <td>0.00</td>\n",
       "    </tr>\n",
       "    <tr>\n",
       "      <th>2</th>\n",
       "      <td>1000_379</td>\n",
       "      <td>1000</td>\n",
       "      <td>2018-12-28</td>\n",
       "      <td>660.40</td>\n",
       "    </tr>\n",
       "    <tr>\n",
       "      <th>3</th>\n",
       "      <td>1000_413</td>\n",
       "      <td>1000</td>\n",
       "      <td>2018-12-26</td>\n",
       "      <td>270.99</td>\n",
       "    </tr>\n",
       "    <tr>\n",
       "      <th>4</th>\n",
       "      <td>1000_442</td>\n",
       "      <td>1000</td>\n",
       "      <td>2018-12-27</td>\n",
       "      <td>880.22</td>\n",
       "    </tr>\n",
       "  </tbody>\n",
       "</table>\n",
       "</div>"
      ],
      "text/plain": [
       "         id  user_id session_date  mb_used\n",
       "0   1000_13     1000   2018-12-29    89.86\n",
       "1  1000_204     1000   2018-12-31     0.00\n",
       "2  1000_379     1000   2018-12-28   660.40\n",
       "3  1000_413     1000   2018-12-26   270.99\n",
       "4  1000_442     1000   2018-12-27   880.22"
      ]
     },
     "execution_count": 14,
     "metadata": {},
     "output_type": "execute_result"
    }
   ],
   "source": [
    "df_net.head()"
   ]
  },
  {
   "cell_type": "markdown",
   "id": "3d5da9d4",
   "metadata": {},
   "source": [
    "As with the calls and messages dataframes, we will convert <code>session_date</code> to <code>datetime</code>.\n",
    "\n",
    "Let's have a look at the distribution of internet data usage."
   ]
  },
  {
   "cell_type": "code",
   "execution_count": 15,
   "id": "5d9078be",
   "metadata": {},
   "outputs": [
    {
     "data": {
      "image/png": "[encoded data removed]",
      "text/plain": [
       "<Figure size 720x576 with 1 Axes>"
      ]
     },
     "metadata": {
      "needs_background": "light"
     },
     "output_type": "display_data"
    }
   ],
   "source": [
    "plt.figure(figsize=(10,8))\n",
    "plt.hist(df_net['mb_used'], bins=20)\n",
    "plt.title('Internet Session Data')\n",
    "plt.xlabel('MB used')\n",
    "plt.ylabel('Number of sessions')\n",
    "plt.grid()\n",
    "plt.show()"
   ]
  },
  {
   "cell_type": "code",
   "execution_count": 16,
   "id": "80f04396",
   "metadata": {},
   "outputs": [
    {
     "data": {
      "text/html": [
       "<div>\n",
       "<style scoped>\n",
       "    .dataframe tbody tr th:only-of-type {\n",
       "        vertical-align: middle;\n",
       "    }\n",
       "\n",
       "    .dataframe tbody tr th {\n",
       "        vertical-align: top;\n",
       "    }\n",
       "\n",
       "    .dataframe thead th {\n",
       "        text-align: right;\n",
       "    }\n",
       "</style>\n",
       "<table border=\"1\" class=\"dataframe\">\n",
       "  <thead>\n",
       "    <tr style=\"text-align: right;\">\n",
       "      <th></th>\n",
       "      <th>id</th>\n",
       "      <th>user_id</th>\n",
       "      <th>session_date</th>\n",
       "      <th>mb_used</th>\n",
       "    </tr>\n",
       "  </thead>\n",
       "  <tbody>\n",
       "    <tr>\n",
       "      <th>1</th>\n",
       "      <td>1000_204</td>\n",
       "      <td>1000</td>\n",
       "      <td>2018-12-31</td>\n",
       "      <td>0.0</td>\n",
       "    </tr>\n",
       "    <tr>\n",
       "      <th>14</th>\n",
       "      <td>1001_26</td>\n",
       "      <td>1001</td>\n",
       "      <td>2018-09-17</td>\n",
       "      <td>0.0</td>\n",
       "    </tr>\n",
       "    <tr>\n",
       "      <th>16</th>\n",
       "      <td>1001_28</td>\n",
       "      <td>1001</td>\n",
       "      <td>2018-10-17</td>\n",
       "      <td>0.0</td>\n",
       "    </tr>\n",
       "    <tr>\n",
       "      <th>34</th>\n",
       "      <td>1001_54</td>\n",
       "      <td>1001</td>\n",
       "      <td>2018-09-02</td>\n",
       "      <td>0.0</td>\n",
       "    </tr>\n",
       "    <tr>\n",
       "      <th>43</th>\n",
       "      <td>1001_77</td>\n",
       "      <td>1001</td>\n",
       "      <td>2018-10-31</td>\n",
       "      <td>0.0</td>\n",
       "    </tr>\n",
       "  </tbody>\n",
       "</table>\n",
       "</div>"
      ],
      "text/plain": [
       "          id  user_id session_date  mb_used\n",
       "1   1000_204     1000   2018-12-31      0.0\n",
       "14   1001_26     1001   2018-09-17      0.0\n",
       "16   1001_28     1001   2018-10-17      0.0\n",
       "34   1001_54     1001   2018-09-02      0.0\n",
       "43   1001_77     1001   2018-10-31      0.0"
      ]
     },
     "execution_count": 16,
     "metadata": {},
     "output_type": "execute_result"
    }
   ],
   "source": [
    "df_net.query('mb_used < 1').head()"
   ]
  },
  {
   "cell_type": "markdown",
   "id": "e2e23912",
   "metadata": {},
   "source": [
    "Similar to the situation with phone calls of zero length, there are many internet sessions with no data transmitted.  This could represent a dropped connection or a session where the client navigated away from a URL before receiving a response from the server.  These sessions do not have an impact on revenue."
   ]
  },
  {
   "cell_type": "code",
   "execution_count": 17,
   "id": "d017ed02",
   "metadata": {},
   "outputs": [
    {
     "data": {
      "image/png": "[encoded data removed]",
      "text/plain": [
       "<Figure size 720x576 with 1 Axes>"
      ]
     },
     "metadata": {
      "needs_background": "light"
     },
     "output_type": "display_data"
    }
   ],
   "source": [
    "zero_data_indices = df_net[df_net['mb_used'] == 0].index\n",
    "df_net.drop(zero_data_indices, inplace=True)\n",
    "\n",
    "plt.figure(figsize=(10,8))\n",
    "plt.hist(df_net['mb_used'], bins=20)\n",
    "plt.title('Internet Session Data')\n",
    "plt.xlabel('MB used')\n",
    "plt.ylabel('Number of sessions')\n",
    "plt.grid()\n",
    "plt.show()"
   ]
  },
  {
   "cell_type": "markdown",
   "id": "2544e061",
   "metadata": {},
   "source": [
    "## Clients with no usage\n",
    "The Surf and Ultimate plans include three services (phone calls, text messages, and internet data), but not all clients use all services.  If there are clients who did not use _any_ services in 2018, they will not appear in our analysis."
   ]
  },
  {
   "cell_type": "code",
   "execution_count": 18,
   "id": "2ac8c6c2",
   "metadata": {},
   "outputs": [
    {
     "data": {
      "text/html": [
       "<div>\n",
       "<style scoped>\n",
       "    .dataframe tbody tr th:only-of-type {\n",
       "        vertical-align: middle;\n",
       "    }\n",
       "\n",
       "    .dataframe tbody tr th {\n",
       "        vertical-align: top;\n",
       "    }\n",
       "\n",
       "    .dataframe thead th {\n",
       "        text-align: right;\n",
       "    }\n",
       "</style>\n",
       "<table border=\"1\" class=\"dataframe\">\n",
       "  <thead>\n",
       "    <tr style=\"text-align: right;\">\n",
       "      <th></th>\n",
       "      <th>user_id</th>\n",
       "      <th>first_name</th>\n",
       "      <th>last_name</th>\n",
       "      <th>age</th>\n",
       "      <th>city</th>\n",
       "      <th>reg_date</th>\n",
       "      <th>plan</th>\n",
       "      <th>churn_date</th>\n",
       "    </tr>\n",
       "  </thead>\n",
       "  <tbody>\n",
       "    <tr>\n",
       "      <th>25</th>\n",
       "      <td>1025</td>\n",
       "      <td>Jess</td>\n",
       "      <td>Wilkinson</td>\n",
       "      <td>64</td>\n",
       "      <td>Atlanta-Sandy Springs-Roswell, GA MSA</td>\n",
       "      <td>2018-10-28</td>\n",
       "      <td>ultimate</td>\n",
       "      <td>NaN</td>\n",
       "    </tr>\n",
       "    <tr>\n",
       "      <th>129</th>\n",
       "      <td>1129</td>\n",
       "      <td>Marin</td>\n",
       "      <td>Bolton</td>\n",
       "      <td>70</td>\n",
       "      <td>Baton Rouge, LA MSA</td>\n",
       "      <td>2018-11-10</td>\n",
       "      <td>surf</td>\n",
       "      <td>2018-12-27</td>\n",
       "    </tr>\n",
       "    <tr>\n",
       "      <th>143</th>\n",
       "      <td>1143</td>\n",
       "      <td>Lorina</td>\n",
       "      <td>Stevens</td>\n",
       "      <td>69</td>\n",
       "      <td>Cincinnati, OH-KY-IN MSA</td>\n",
       "      <td>2018-10-26</td>\n",
       "      <td>surf</td>\n",
       "      <td>NaN</td>\n",
       "    </tr>\n",
       "    <tr>\n",
       "      <th>269</th>\n",
       "      <td>1269</td>\n",
       "      <td>Irving</td>\n",
       "      <td>Thompson</td>\n",
       "      <td>39</td>\n",
       "      <td>Dallas-Fort Worth-Arlington, TX MSA</td>\n",
       "      <td>2018-09-13</td>\n",
       "      <td>ultimate</td>\n",
       "      <td>2018-12-15</td>\n",
       "    </tr>\n",
       "    <tr>\n",
       "      <th>275</th>\n",
       "      <td>1275</td>\n",
       "      <td>Elvie</td>\n",
       "      <td>Velazquez</td>\n",
       "      <td>33</td>\n",
       "      <td>New York-Newark-Jersey City, NY-NJ-PA MSA</td>\n",
       "      <td>2018-11-29</td>\n",
       "      <td>ultimate</td>\n",
       "      <td>NaN</td>\n",
       "    </tr>\n",
       "    <tr>\n",
       "      <th>307</th>\n",
       "      <td>1307</td>\n",
       "      <td>Kristopher</td>\n",
       "      <td>Lang</td>\n",
       "      <td>28</td>\n",
       "      <td>Boston-Cambridge-Newton, MA-NH MSA</td>\n",
       "      <td>2018-12-31</td>\n",
       "      <td>surf</td>\n",
       "      <td>NaN</td>\n",
       "    </tr>\n",
       "    <tr>\n",
       "      <th>319</th>\n",
       "      <td>1319</td>\n",
       "      <td>Eliseo</td>\n",
       "      <td>Carson</td>\n",
       "      <td>21</td>\n",
       "      <td>Colorado Springs, CO MSA</td>\n",
       "      <td>2018-06-17</td>\n",
       "      <td>surf</td>\n",
       "      <td>NaN</td>\n",
       "    </tr>\n",
       "    <tr>\n",
       "      <th>378</th>\n",
       "      <td>1378</td>\n",
       "      <td>Mckinley</td>\n",
       "      <td>Clayton</td>\n",
       "      <td>22</td>\n",
       "      <td>Denver-Aurora-Lakewood, CO MSA</td>\n",
       "      <td>2018-12-17</td>\n",
       "      <td>surf</td>\n",
       "      <td>NaN</td>\n",
       "    </tr>\n",
       "    <tr>\n",
       "      <th>463</th>\n",
       "      <td>1463</td>\n",
       "      <td>Dinorah</td>\n",
       "      <td>Simmons</td>\n",
       "      <td>30</td>\n",
       "      <td>Atlanta-Sandy Springs-Roswell, GA MSA</td>\n",
       "      <td>2018-11-27</td>\n",
       "      <td>ultimate</td>\n",
       "      <td>NaN</td>\n",
       "    </tr>\n",
       "    <tr>\n",
       "      <th>473</th>\n",
       "      <td>1473</td>\n",
       "      <td>Kirk</td>\n",
       "      <td>Velez</td>\n",
       "      <td>61</td>\n",
       "      <td>Louisville/Jefferson County, KY-IN MSA</td>\n",
       "      <td>2018-12-31</td>\n",
       "      <td>surf</td>\n",
       "      <td>NaN</td>\n",
       "    </tr>\n",
       "  </tbody>\n",
       "</table>\n",
       "</div>"
      ],
      "text/plain": [
       "     user_id  first_name  last_name  age  \\\n",
       "25      1025        Jess  Wilkinson   64   \n",
       "129     1129       Marin     Bolton   70   \n",
       "143     1143      Lorina    Stevens   69   \n",
       "269     1269      Irving   Thompson   39   \n",
       "275     1275       Elvie  Velazquez   33   \n",
       "307     1307  Kristopher       Lang   28   \n",
       "319     1319      Eliseo     Carson   21   \n",
       "378     1378    Mckinley    Clayton   22   \n",
       "463     1463     Dinorah    Simmons   30   \n",
       "473     1473        Kirk      Velez   61   \n",
       "\n",
       "                                          city    reg_date      plan  \\\n",
       "25       Atlanta-Sandy Springs-Roswell, GA MSA  2018-10-28  ultimate   \n",
       "129                        Baton Rouge, LA MSA  2018-11-10      surf   \n",
       "143                   Cincinnati, OH-KY-IN MSA  2018-10-26      surf   \n",
       "269        Dallas-Fort Worth-Arlington, TX MSA  2018-09-13  ultimate   \n",
       "275  New York-Newark-Jersey City, NY-NJ-PA MSA  2018-11-29  ultimate   \n",
       "307         Boston-Cambridge-Newton, MA-NH MSA  2018-12-31      surf   \n",
       "319                   Colorado Springs, CO MSA  2018-06-17      surf   \n",
       "378             Denver-Aurora-Lakewood, CO MSA  2018-12-17      surf   \n",
       "463      Atlanta-Sandy Springs-Roswell, GA MSA  2018-11-27  ultimate   \n",
       "473     Louisville/Jefferson County, KY-IN MSA  2018-12-31      surf   \n",
       "\n",
       "     churn_date  \n",
       "25          NaN  \n",
       "129  2018-12-27  \n",
       "143         NaN  \n",
       "269  2018-12-15  \n",
       "275         NaN  \n",
       "307         NaN  \n",
       "319         NaN  \n",
       "378         NaN  \n",
       "463         NaN  \n",
       "473         NaN  "
      ]
     },
     "execution_count": 18,
     "metadata": {},
     "output_type": "execute_result"
    }
   ],
   "source": [
    "all_users = set(df_usr['user_id'].values)\n",
    "call_users = set(df_call['user_id'].unique())\n",
    "msg_users = set(df_msg['user_id'].unique())\n",
    "net_users = set(df_net['user_id'].unique())\n",
    "non_users = all_users - call_users - msg_users - net_users\n",
    "df_usr.loc[df_usr['user_id'].isin(list(non_users))]"
   ]
  },
  {
   "cell_type": "markdown",
   "id": "300c1119",
   "metadata": {},
   "source": [
    "These ten users signed up for a plan but did not have any call, message, or internet usage in 2018.  In general, these users registered later in the year than the typical user.  Two of them registered on the last day of the year, so it makes sense that they didn't have any usage in 2018.  Two others registered late in the year and canceled in December.  Because of these users, our combined usage data will only represent 490 users, rather than 500."
   ]
  },
  {
   "cell_type": "markdown",
   "id": "e5083e4c",
   "metadata": {},
   "source": [
    "## Conclusion\n",
    "In this section, we did an initial review of the five dataframes for the project.\n",
    "- The plans dataframe describes the two prepaid plans.\n",
    "- The users dataframe lists the user's location, plan, registration date, and churn date.  The <code>reg_date</code> will be converted to <code>datetime</code>.\n",
    "- The calls, messages, and internet dataframes provide usage data.  Dates will be converted to <code>datetime</code>.\n",
    "- There are 10 users who signed up for a plan but did not have any calls, messages, or data usage during 2018.\n",
    "\n",
    "We can begin to think ahead to how we will merge the data.  Ultimately, for hypothesis testing, we will need a table with a row for each user, with columns for geographic location, plan, and average monthly revenue.  To get to this point, will need usage data for each user on a monthly basis."
   ]
  },
  {
   "cell_type": "markdown",
   "id": "3cf9224c",
   "metadata": {},
   "source": [
    "# Preprocessing\n",
    "In this section, we will make the data type changes identified above and will merge the dataframes for subsequent analysis and hypothesis testing."
   ]
  },
  {
   "cell_type": "markdown",
   "id": "362a840e",
   "metadata": {},
   "source": [
    "## Users\n",
    "We will convert <code>reg_date</code> to <code>datetime</code>.  We can also convert <code>churn_date</code> to <code>datetime</code>, although the column as a whole will still be <code>object</code> type because most clients did not churn during 2018."
   ]
  },
  {
   "cell_type": "code",
   "execution_count": 19,
   "id": "73513160",
   "metadata": {},
   "outputs": [],
   "source": [
    "df_usr['reg_date'] = pd.to_datetime(df_usr['reg_date'], format='%Y-%m-%d')\n",
    "df_usr['churn_date'] = pd.to_datetime(df_usr['churn_date'], format='%Y-%m-%d')"
   ]
  },
  {
   "cell_type": "markdown",
   "id": "6e6c65fb",
   "metadata": {},
   "source": [
    "## Calls\n",
    "In this section, we will apply several changes to the data.\n",
    "-  We will convert <code>call_date</code> to <code>datetime</code>.\n",
    "-  Since we will be looking at average monthly usage for each user, we will create a new column for the <code>month</code> the call was placed; this will be used later to merge the calls dataframe with the users, messages, and internet dataframes.\n",
    "- Megaline rounds all calls (even one second) up to to the next minute, so we will round up the <code>call_duration</code> column accordingly.\n",
    "-  Finally, we will create a pivot table to be used later for merging."
   ]
  },
  {
   "cell_type": "code",
   "execution_count": 20,
   "id": "8c396794",
   "metadata": {
    "scrolled": true
   },
   "outputs": [
    {
     "data": {
      "text/html": [
       "<div>\n",
       "<style scoped>\n",
       "    .dataframe tbody tr th:only-of-type {\n",
       "        vertical-align: middle;\n",
       "    }\n",
       "\n",
       "    .dataframe tbody tr th {\n",
       "        vertical-align: top;\n",
       "    }\n",
       "\n",
       "    .dataframe thead th {\n",
       "        text-align: right;\n",
       "    }\n",
       "</style>\n",
       "<table border=\"1\" class=\"dataframe\">\n",
       "  <thead>\n",
       "    <tr style=\"text-align: right;\">\n",
       "      <th></th>\n",
       "      <th>user_id</th>\n",
       "      <th>month</th>\n",
       "      <th>call_duration</th>\n",
       "      <th>call_count</th>\n",
       "    </tr>\n",
       "  </thead>\n",
       "  <tbody>\n",
       "    <tr>\n",
       "      <th>0</th>\n",
       "      <td>1000</td>\n",
       "      <td>12</td>\n",
       "      <td>124.0</td>\n",
       "      <td>16</td>\n",
       "    </tr>\n",
       "    <tr>\n",
       "      <th>1</th>\n",
       "      <td>1001</td>\n",
       "      <td>8</td>\n",
       "      <td>182.0</td>\n",
       "      <td>22</td>\n",
       "    </tr>\n",
       "    <tr>\n",
       "      <th>2</th>\n",
       "      <td>1001</td>\n",
       "      <td>9</td>\n",
       "      <td>315.0</td>\n",
       "      <td>38</td>\n",
       "    </tr>\n",
       "    <tr>\n",
       "      <th>3</th>\n",
       "      <td>1001</td>\n",
       "      <td>10</td>\n",
       "      <td>393.0</td>\n",
       "      <td>47</td>\n",
       "    </tr>\n",
       "    <tr>\n",
       "      <th>4</th>\n",
       "      <td>1001</td>\n",
       "      <td>11</td>\n",
       "      <td>426.0</td>\n",
       "      <td>49</td>\n",
       "    </tr>\n",
       "  </tbody>\n",
       "</table>\n",
       "</div>"
      ],
      "text/plain": [
       "   user_id  month  call_duration  call_count\n",
       "0     1000     12          124.0          16\n",
       "1     1001      8          182.0          22\n",
       "2     1001      9          315.0          38\n",
       "3     1001     10          393.0          47\n",
       "4     1001     11          426.0          49"
      ]
     },
     "execution_count": 20,
     "metadata": {},
     "output_type": "execute_result"
    }
   ],
   "source": [
    "# Convert to datetime\n",
    "df_call['call_date'] = pd.to_datetime(df_call['call_date'], format='%Y-%m-%d')\n",
    "\n",
    "# Add month column\n",
    "df_call['month'] = pd.DatetimeIndex(df_call['call_date']).month\n",
    "\n",
    "# Round up call_duration\n",
    "df_call['duration'] = df_call['duration'].apply(np.ceil)\n",
    "\n",
    "# Create pivot table\n",
    "df_call_pivot = df_call.pivot_table(index=['user_id', 'month'], values='duration', aggfunc=['sum','count'])\n",
    "df_call_pivot.columns = ['call_duration', 'call_count']\n",
    "df_call_pivot.reset_index(inplace=True)\n",
    "df_call_pivot.head()"
   ]
  },
  {
   "cell_type": "markdown",
   "id": "405bbfba",
   "metadata": {},
   "source": [
    "## Messages\n",
    "We will process the messages dataframe in a manner similar to the calls dataframe:  convert <code>message_date</code> to <code>datetime</code>, create a new <code>month</code> column, and create a table for subsequent merging."
   ]
  },
  {
   "cell_type": "code",
   "execution_count": 21,
   "id": "b8081516",
   "metadata": {},
   "outputs": [
    {
     "data": {
      "text/html": [
       "<div>\n",
       "<style scoped>\n",
       "    .dataframe tbody tr th:only-of-type {\n",
       "        vertical-align: middle;\n",
       "    }\n",
       "\n",
       "    .dataframe tbody tr th {\n",
       "        vertical-align: top;\n",
       "    }\n",
       "\n",
       "    .dataframe thead th {\n",
       "        text-align: right;\n",
       "    }\n",
       "</style>\n",
       "<table border=\"1\" class=\"dataframe\">\n",
       "  <thead>\n",
       "    <tr style=\"text-align: right;\">\n",
       "      <th></th>\n",
       "      <th>user_id</th>\n",
       "      <th>month</th>\n",
       "      <th>messages</th>\n",
       "    </tr>\n",
       "  </thead>\n",
       "  <tbody>\n",
       "    <tr>\n",
       "      <th>0</th>\n",
       "      <td>1000</td>\n",
       "      <td>12</td>\n",
       "      <td>11</td>\n",
       "    </tr>\n",
       "    <tr>\n",
       "      <th>1</th>\n",
       "      <td>1001</td>\n",
       "      <td>8</td>\n",
       "      <td>30</td>\n",
       "    </tr>\n",
       "    <tr>\n",
       "      <th>2</th>\n",
       "      <td>1001</td>\n",
       "      <td>9</td>\n",
       "      <td>44</td>\n",
       "    </tr>\n",
       "    <tr>\n",
       "      <th>3</th>\n",
       "      <td>1001</td>\n",
       "      <td>10</td>\n",
       "      <td>53</td>\n",
       "    </tr>\n",
       "    <tr>\n",
       "      <th>4</th>\n",
       "      <td>1001</td>\n",
       "      <td>11</td>\n",
       "      <td>36</td>\n",
       "    </tr>\n",
       "  </tbody>\n",
       "</table>\n",
       "</div>"
      ],
      "text/plain": [
       "   user_id  month  messages\n",
       "0     1000     12        11\n",
       "1     1001      8        30\n",
       "2     1001      9        44\n",
       "3     1001     10        53\n",
       "4     1001     11        36"
      ]
     },
     "execution_count": 21,
     "metadata": {},
     "output_type": "execute_result"
    }
   ],
   "source": [
    "df_msg['message_date'] = pd.to_datetime(df_msg['message_date'], format='%Y-%m-%d')\n",
    "df_msg['month'] = pd.DatetimeIndex(df_msg['message_date']).month\n",
    "df_msg_pivot = df_msg.pivot_table(index=['user_id', 'month'], values='id', aggfunc='count')\n",
    "df_msg_pivot.columns = ['messages']\n",
    "df_msg_pivot.reset_index(inplace=True)\n",
    "df_msg_pivot.head()"
   ]
  },
  {
   "cell_type": "markdown",
   "id": "67c912fd",
   "metadata": {},
   "source": [
    "## Internet\n",
    "We will process the internet dataframe in a manner similar to the calls and messages dataframes."
   ]
  },
  {
   "cell_type": "code",
   "execution_count": 22,
   "id": "1a8e1d8c",
   "metadata": {},
   "outputs": [
    {
     "data": {
      "text/html": [
       "<div>\n",
       "<style scoped>\n",
       "    .dataframe tbody tr th:only-of-type {\n",
       "        vertical-align: middle;\n",
       "    }\n",
       "\n",
       "    .dataframe tbody tr th {\n",
       "        vertical-align: top;\n",
       "    }\n",
       "\n",
       "    .dataframe thead th {\n",
       "        text-align: right;\n",
       "    }\n",
       "</style>\n",
       "<table border=\"1\" class=\"dataframe\">\n",
       "  <thead>\n",
       "    <tr style=\"text-align: right;\">\n",
       "      <th></th>\n",
       "      <th>user_id</th>\n",
       "      <th>month</th>\n",
       "      <th>mb_used</th>\n",
       "    </tr>\n",
       "  </thead>\n",
       "  <tbody>\n",
       "    <tr>\n",
       "      <th>0</th>\n",
       "      <td>1000</td>\n",
       "      <td>12</td>\n",
       "      <td>1901.47</td>\n",
       "    </tr>\n",
       "    <tr>\n",
       "      <th>1</th>\n",
       "      <td>1001</td>\n",
       "      <td>8</td>\n",
       "      <td>6919.15</td>\n",
       "    </tr>\n",
       "    <tr>\n",
       "      <th>2</th>\n",
       "      <td>1001</td>\n",
       "      <td>9</td>\n",
       "      <td>13314.82</td>\n",
       "    </tr>\n",
       "    <tr>\n",
       "      <th>3</th>\n",
       "      <td>1001</td>\n",
       "      <td>10</td>\n",
       "      <td>22330.49</td>\n",
       "    </tr>\n",
       "    <tr>\n",
       "      <th>4</th>\n",
       "      <td>1001</td>\n",
       "      <td>11</td>\n",
       "      <td>18504.30</td>\n",
       "    </tr>\n",
       "  </tbody>\n",
       "</table>\n",
       "</div>"
      ],
      "text/plain": [
       "   user_id  month   mb_used\n",
       "0     1000     12   1901.47\n",
       "1     1001      8   6919.15\n",
       "2     1001      9  13314.82\n",
       "3     1001     10  22330.49\n",
       "4     1001     11  18504.30"
      ]
     },
     "execution_count": 22,
     "metadata": {},
     "output_type": "execute_result"
    }
   ],
   "source": [
    "df_net['session_date'] = pd.to_datetime(df_net['session_date'], format='%Y-%m-%d')\n",
    "df_net['month'] = pd.DatetimeIndex(df_net['session_date']).month\n",
    "df_net_pivot = df_net.pivot_table(index=['user_id', 'month'], values='mb_used', aggfunc='sum')\n",
    "df_net_pivot.reset_index(inplace=True)\n",
    "df_net_pivot.head()"
   ]
  },
  {
   "cell_type": "markdown",
   "id": "889c9168",
   "metadata": {},
   "source": [
    "## Combined usage data\n",
    "In this section we will merge the calls, messages, internet, and users dataframes.  These will be <code>outer</code> merges since we want to include records present in _either_ of the dataframes being merged.  If a client did not have a particular type of usage, the merged dataframe will have NaN values; these will be filled in with zeroes."
   ]
  },
  {
   "cell_type": "code",
   "execution_count": 23,
   "id": "c0843b75",
   "metadata": {},
   "outputs": [
    {
     "data": {
      "text/html": [
       "<div>\n",
       "<style scoped>\n",
       "    .dataframe tbody tr th:only-of-type {\n",
       "        vertical-align: middle;\n",
       "    }\n",
       "\n",
       "    .dataframe tbody tr th {\n",
       "        vertical-align: top;\n",
       "    }\n",
       "\n",
       "    .dataframe thead th {\n",
       "        text-align: right;\n",
       "    }\n",
       "</style>\n",
       "<table border=\"1\" class=\"dataframe\">\n",
       "  <thead>\n",
       "    <tr style=\"text-align: right;\">\n",
       "      <th></th>\n",
       "      <th>user_id</th>\n",
       "      <th>month</th>\n",
       "      <th>call_duration</th>\n",
       "      <th>call_count</th>\n",
       "      <th>messages</th>\n",
       "      <th>mb_used</th>\n",
       "      <th>first_name</th>\n",
       "      <th>last_name</th>\n",
       "      <th>age</th>\n",
       "      <th>city</th>\n",
       "      <th>reg_date</th>\n",
       "      <th>plan</th>\n",
       "      <th>churn_date</th>\n",
       "    </tr>\n",
       "  </thead>\n",
       "  <tbody>\n",
       "    <tr>\n",
       "      <th>0</th>\n",
       "      <td>1000</td>\n",
       "      <td>12</td>\n",
       "      <td>124.0</td>\n",
       "      <td>16.0</td>\n",
       "      <td>11.0</td>\n",
       "      <td>1901.47</td>\n",
       "      <td>Anamaria</td>\n",
       "      <td>Bauer</td>\n",
       "      <td>45</td>\n",
       "      <td>Atlanta-Sandy Springs-Roswell, GA MSA</td>\n",
       "      <td>2018-12-24</td>\n",
       "      <td>ultimate</td>\n",
       "      <td>NaT</td>\n",
       "    </tr>\n",
       "    <tr>\n",
       "      <th>1</th>\n",
       "      <td>1001</td>\n",
       "      <td>8</td>\n",
       "      <td>182.0</td>\n",
       "      <td>22.0</td>\n",
       "      <td>30.0</td>\n",
       "      <td>6919.15</td>\n",
       "      <td>Mickey</td>\n",
       "      <td>Wilkerson</td>\n",
       "      <td>28</td>\n",
       "      <td>Seattle-Tacoma-Bellevue, WA MSA</td>\n",
       "      <td>2018-08-13</td>\n",
       "      <td>surf</td>\n",
       "      <td>NaT</td>\n",
       "    </tr>\n",
       "    <tr>\n",
       "      <th>2</th>\n",
       "      <td>1001</td>\n",
       "      <td>9</td>\n",
       "      <td>315.0</td>\n",
       "      <td>38.0</td>\n",
       "      <td>44.0</td>\n",
       "      <td>13314.82</td>\n",
       "      <td>Mickey</td>\n",
       "      <td>Wilkerson</td>\n",
       "      <td>28</td>\n",
       "      <td>Seattle-Tacoma-Bellevue, WA MSA</td>\n",
       "      <td>2018-08-13</td>\n",
       "      <td>surf</td>\n",
       "      <td>NaT</td>\n",
       "    </tr>\n",
       "    <tr>\n",
       "      <th>3</th>\n",
       "      <td>1001</td>\n",
       "      <td>10</td>\n",
       "      <td>393.0</td>\n",
       "      <td>47.0</td>\n",
       "      <td>53.0</td>\n",
       "      <td>22330.49</td>\n",
       "      <td>Mickey</td>\n",
       "      <td>Wilkerson</td>\n",
       "      <td>28</td>\n",
       "      <td>Seattle-Tacoma-Bellevue, WA MSA</td>\n",
       "      <td>2018-08-13</td>\n",
       "      <td>surf</td>\n",
       "      <td>NaT</td>\n",
       "    </tr>\n",
       "    <tr>\n",
       "      <th>4</th>\n",
       "      <td>1001</td>\n",
       "      <td>11</td>\n",
       "      <td>426.0</td>\n",
       "      <td>49.0</td>\n",
       "      <td>36.0</td>\n",
       "      <td>18504.30</td>\n",
       "      <td>Mickey</td>\n",
       "      <td>Wilkerson</td>\n",
       "      <td>28</td>\n",
       "      <td>Seattle-Tacoma-Bellevue, WA MSA</td>\n",
       "      <td>2018-08-13</td>\n",
       "      <td>surf</td>\n",
       "      <td>NaT</td>\n",
       "    </tr>\n",
       "  </tbody>\n",
       "</table>\n",
       "</div>"
      ],
      "text/plain": [
       "   user_id  month  call_duration  call_count  messages   mb_used first_name  \\\n",
       "0     1000     12          124.0        16.0      11.0   1901.47   Anamaria   \n",
       "1     1001      8          182.0        22.0      30.0   6919.15     Mickey   \n",
       "2     1001      9          315.0        38.0      44.0  13314.82     Mickey   \n",
       "3     1001     10          393.0        47.0      53.0  22330.49     Mickey   \n",
       "4     1001     11          426.0        49.0      36.0  18504.30     Mickey   \n",
       "\n",
       "   last_name  age                                   city   reg_date      plan  \\\n",
       "0      Bauer   45  Atlanta-Sandy Springs-Roswell, GA MSA 2018-12-24  ultimate   \n",
       "1  Wilkerson   28        Seattle-Tacoma-Bellevue, WA MSA 2018-08-13      surf   \n",
       "2  Wilkerson   28        Seattle-Tacoma-Bellevue, WA MSA 2018-08-13      surf   \n",
       "3  Wilkerson   28        Seattle-Tacoma-Bellevue, WA MSA 2018-08-13      surf   \n",
       "4  Wilkerson   28        Seattle-Tacoma-Bellevue, WA MSA 2018-08-13      surf   \n",
       "\n",
       "  churn_date  \n",
       "0        NaT  \n",
       "1        NaT  \n",
       "2        NaT  \n",
       "3        NaT  \n",
       "4        NaT  "
      ]
     },
     "execution_count": 23,
     "metadata": {},
     "output_type": "execute_result"
    }
   ],
   "source": [
    "#df = df_call_pivot.merge(df_msg_pivot, on=['user_id','month'], how='outer').merge(df_net_pivot, on=['user_id','month'], how='outer')\n",
    "\n",
    "df = reduce(lambda left, right: pd.merge(left, right, \n",
    "                                         on=['user_id','month'], \n",
    "                                         how='outer'), \n",
    "            [df_call_pivot, df_msg_pivot, df_net_pivot])\n",
    "\n",
    "df.fillna(value=0, inplace=True)\n",
    "df = df.merge(df_usr, on='user_id')\n",
    "df.head()"
   ]
  },
  {
   "cell_type": "markdown",
   "id": "000d1af9",
   "metadata": {},
   "source": [
    "We will clean up our table by removing columns we will not be using and ordering columns logically."
   ]
  },
  {
   "cell_type": "code",
   "execution_count": 24,
   "id": "56eff9d7",
   "metadata": {},
   "outputs": [
    {
     "data": {
      "text/html": [
       "<div>\n",
       "<style scoped>\n",
       "    .dataframe tbody tr th:only-of-type {\n",
       "        vertical-align: middle;\n",
       "    }\n",
       "\n",
       "    .dataframe tbody tr th {\n",
       "        vertical-align: top;\n",
       "    }\n",
       "\n",
       "    .dataframe thead th {\n",
       "        text-align: right;\n",
       "    }\n",
       "</style>\n",
       "<table border=\"1\" class=\"dataframe\">\n",
       "  <thead>\n",
       "    <tr style=\"text-align: right;\">\n",
       "      <th></th>\n",
       "      <th>user_id</th>\n",
       "      <th>city</th>\n",
       "      <th>plan</th>\n",
       "      <th>month</th>\n",
       "      <th>call_count</th>\n",
       "      <th>call_duration</th>\n",
       "      <th>messages</th>\n",
       "      <th>mb_used</th>\n",
       "    </tr>\n",
       "  </thead>\n",
       "  <tbody>\n",
       "    <tr>\n",
       "      <th>0</th>\n",
       "      <td>1000</td>\n",
       "      <td>Atlanta-Sandy Springs-Roswell, GA MSA</td>\n",
       "      <td>ultimate</td>\n",
       "      <td>12</td>\n",
       "      <td>16.0</td>\n",
       "      <td>124.0</td>\n",
       "      <td>11.0</td>\n",
       "      <td>1901.47</td>\n",
       "    </tr>\n",
       "    <tr>\n",
       "      <th>1</th>\n",
       "      <td>1001</td>\n",
       "      <td>Seattle-Tacoma-Bellevue, WA MSA</td>\n",
       "      <td>surf</td>\n",
       "      <td>8</td>\n",
       "      <td>22.0</td>\n",
       "      <td>182.0</td>\n",
       "      <td>30.0</td>\n",
       "      <td>6919.15</td>\n",
       "    </tr>\n",
       "    <tr>\n",
       "      <th>2</th>\n",
       "      <td>1001</td>\n",
       "      <td>Seattle-Tacoma-Bellevue, WA MSA</td>\n",
       "      <td>surf</td>\n",
       "      <td>9</td>\n",
       "      <td>38.0</td>\n",
       "      <td>315.0</td>\n",
       "      <td>44.0</td>\n",
       "      <td>13314.82</td>\n",
       "    </tr>\n",
       "    <tr>\n",
       "      <th>3</th>\n",
       "      <td>1001</td>\n",
       "      <td>Seattle-Tacoma-Bellevue, WA MSA</td>\n",
       "      <td>surf</td>\n",
       "      <td>10</td>\n",
       "      <td>47.0</td>\n",
       "      <td>393.0</td>\n",
       "      <td>53.0</td>\n",
       "      <td>22330.49</td>\n",
       "    </tr>\n",
       "    <tr>\n",
       "      <th>4</th>\n",
       "      <td>1001</td>\n",
       "      <td>Seattle-Tacoma-Bellevue, WA MSA</td>\n",
       "      <td>surf</td>\n",
       "      <td>11</td>\n",
       "      <td>49.0</td>\n",
       "      <td>426.0</td>\n",
       "      <td>36.0</td>\n",
       "      <td>18504.30</td>\n",
       "    </tr>\n",
       "  </tbody>\n",
       "</table>\n",
       "</div>"
      ],
      "text/plain": [
       "   user_id                                   city      plan  month  \\\n",
       "0     1000  Atlanta-Sandy Springs-Roswell, GA MSA  ultimate     12   \n",
       "1     1001        Seattle-Tacoma-Bellevue, WA MSA      surf      8   \n",
       "2     1001        Seattle-Tacoma-Bellevue, WA MSA      surf      9   \n",
       "3     1001        Seattle-Tacoma-Bellevue, WA MSA      surf     10   \n",
       "4     1001        Seattle-Tacoma-Bellevue, WA MSA      surf     11   \n",
       "\n",
       "   call_count  call_duration  messages   mb_used  \n",
       "0        16.0          124.0      11.0   1901.47  \n",
       "1        22.0          182.0      30.0   6919.15  \n",
       "2        38.0          315.0      44.0  13314.82  \n",
       "3        47.0          393.0      53.0  22330.49  \n",
       "4        49.0          426.0      36.0  18504.30  "
      ]
     },
     "execution_count": 24,
     "metadata": {},
     "output_type": "execute_result"
    }
   ],
   "source": [
    "df.drop(['first_name', 'last_name', 'age', 'reg_date', 'churn_date'], axis=1, inplace=True)\n",
    "df = df[['user_id', 'city', 'plan', 'month', 'call_count', 'call_duration', 'messages', 'mb_used']]\n",
    "df.head()"
   ]
  },
  {
   "cell_type": "markdown",
   "id": "1e646dc4",
   "metadata": {},
   "source": [
    "## Revenue\n",
    "In this section, we will add columns for the revenue generated by each type of usage."
   ]
  },
  {
   "cell_type": "markdown",
   "id": "671e0eee",
   "metadata": {},
   "source": [
    "### Monthly fee\n",
    "The Surf plan has a lower monthly fee but also has lower usage limits and higher rates for usage that exceeds the limits.  We will add a column for the monthly fee for each plan."
   ]
  },
  {
   "cell_type": "code",
   "execution_count": 25,
   "id": "f292f659",
   "metadata": {},
   "outputs": [
    {
     "data": {
      "text/html": [
       "<div>\n",
       "<style scoped>\n",
       "    .dataframe tbody tr th:only-of-type {\n",
       "        vertical-align: middle;\n",
       "    }\n",
       "\n",
       "    .dataframe tbody tr th {\n",
       "        vertical-align: top;\n",
       "    }\n",
       "\n",
       "    .dataframe thead th {\n",
       "        text-align: right;\n",
       "    }\n",
       "</style>\n",
       "<table border=\"1\" class=\"dataframe\">\n",
       "  <thead>\n",
       "    <tr style=\"text-align: right;\">\n",
       "      <th></th>\n",
       "      <th>user_id</th>\n",
       "      <th>city</th>\n",
       "      <th>plan</th>\n",
       "      <th>month</th>\n",
       "      <th>call_count</th>\n",
       "      <th>call_duration</th>\n",
       "      <th>messages</th>\n",
       "      <th>mb_used</th>\n",
       "      <th>monthly_fee</th>\n",
       "    </tr>\n",
       "  </thead>\n",
       "  <tbody>\n",
       "    <tr>\n",
       "      <th>0</th>\n",
       "      <td>1000</td>\n",
       "      <td>Atlanta-Sandy Springs-Roswell, GA MSA</td>\n",
       "      <td>ultimate</td>\n",
       "      <td>12</td>\n",
       "      <td>16.0</td>\n",
       "      <td>124.0</td>\n",
       "      <td>11.0</td>\n",
       "      <td>1901.47</td>\n",
       "      <td>70</td>\n",
       "    </tr>\n",
       "    <tr>\n",
       "      <th>1</th>\n",
       "      <td>1001</td>\n",
       "      <td>Seattle-Tacoma-Bellevue, WA MSA</td>\n",
       "      <td>surf</td>\n",
       "      <td>8</td>\n",
       "      <td>22.0</td>\n",
       "      <td>182.0</td>\n",
       "      <td>30.0</td>\n",
       "      <td>6919.15</td>\n",
       "      <td>20</td>\n",
       "    </tr>\n",
       "    <tr>\n",
       "      <th>2</th>\n",
       "      <td>1001</td>\n",
       "      <td>Seattle-Tacoma-Bellevue, WA MSA</td>\n",
       "      <td>surf</td>\n",
       "      <td>9</td>\n",
       "      <td>38.0</td>\n",
       "      <td>315.0</td>\n",
       "      <td>44.0</td>\n",
       "      <td>13314.82</td>\n",
       "      <td>20</td>\n",
       "    </tr>\n",
       "    <tr>\n",
       "      <th>3</th>\n",
       "      <td>1001</td>\n",
       "      <td>Seattle-Tacoma-Bellevue, WA MSA</td>\n",
       "      <td>surf</td>\n",
       "      <td>10</td>\n",
       "      <td>47.0</td>\n",
       "      <td>393.0</td>\n",
       "      <td>53.0</td>\n",
       "      <td>22330.49</td>\n",
       "      <td>20</td>\n",
       "    </tr>\n",
       "    <tr>\n",
       "      <th>4</th>\n",
       "      <td>1001</td>\n",
       "      <td>Seattle-Tacoma-Bellevue, WA MSA</td>\n",
       "      <td>surf</td>\n",
       "      <td>11</td>\n",
       "      <td>49.0</td>\n",
       "      <td>426.0</td>\n",
       "      <td>36.0</td>\n",
       "      <td>18504.30</td>\n",
       "      <td>20</td>\n",
       "    </tr>\n",
       "  </tbody>\n",
       "</table>\n",
       "</div>"
      ],
      "text/plain": [
       "   user_id                                   city      plan  month  \\\n",
       "0     1000  Atlanta-Sandy Springs-Roswell, GA MSA  ultimate     12   \n",
       "1     1001        Seattle-Tacoma-Bellevue, WA MSA      surf      8   \n",
       "2     1001        Seattle-Tacoma-Bellevue, WA MSA      surf      9   \n",
       "3     1001        Seattle-Tacoma-Bellevue, WA MSA      surf     10   \n",
       "4     1001        Seattle-Tacoma-Bellevue, WA MSA      surf     11   \n",
       "\n",
       "   call_count  call_duration  messages   mb_used  monthly_fee  \n",
       "0        16.0          124.0      11.0   1901.47           70  \n",
       "1        22.0          182.0      30.0   6919.15           20  \n",
       "2        38.0          315.0      44.0  13314.82           20  \n",
       "3        47.0          393.0      53.0  22330.49           20  \n",
       "4        49.0          426.0      36.0  18504.30           20  "
      ]
     },
     "execution_count": 25,
     "metadata": {},
     "output_type": "execute_result"
    }
   ],
   "source": [
    "surf_fee = df_pln.query('plan_name == \"surf\"').usd_monthly_pay.iloc[0]\n",
    "ultimate_fee = df_pln.query('plan_name == \"ultimate\"').usd_monthly_pay.iloc[0]\n",
    "\n",
    "df['monthly_fee'] = df['plan'].apply(lambda p: surf_fee if p == 'surf' else ultimate_fee)\n",
    "df.head()"
   ]
  },
  {
   "cell_type": "markdown",
   "id": "df18518e",
   "metadata": {},
   "source": [
    "### Calls\n",
    "Each plan has a monthly limit for calls and a rate per minute applied to calls exceeding the limit."
   ]
  },
  {
   "cell_type": "code",
   "execution_count": 26,
   "id": "8cdd6c5e",
   "metadata": {},
   "outputs": [
    {
     "data": {
      "text/html": [
       "<div>\n",
       "<style scoped>\n",
       "    .dataframe tbody tr th:only-of-type {\n",
       "        vertical-align: middle;\n",
       "    }\n",
       "\n",
       "    .dataframe tbody tr th {\n",
       "        vertical-align: top;\n",
       "    }\n",
       "\n",
       "    .dataframe thead th {\n",
       "        text-align: right;\n",
       "    }\n",
       "</style>\n",
       "<table border=\"1\" class=\"dataframe\">\n",
       "  <thead>\n",
       "    <tr style=\"text-align: right;\">\n",
       "      <th></th>\n",
       "      <th>user_id</th>\n",
       "      <th>city</th>\n",
       "      <th>plan</th>\n",
       "      <th>month</th>\n",
       "      <th>call_count</th>\n",
       "      <th>call_duration</th>\n",
       "      <th>messages</th>\n",
       "      <th>mb_used</th>\n",
       "      <th>monthly_fee</th>\n",
       "      <th>call_revenue</th>\n",
       "    </tr>\n",
       "  </thead>\n",
       "  <tbody>\n",
       "    <tr>\n",
       "      <th>9</th>\n",
       "      <td>1003</td>\n",
       "      <td>Tulsa, OK MSA</td>\n",
       "      <td>surf</td>\n",
       "      <td>12</td>\n",
       "      <td>118.0</td>\n",
       "      <td>1104.0</td>\n",
       "      <td>50.0</td>\n",
       "      <td>27044.14</td>\n",
       "      <td>20</td>\n",
       "      <td>18.12</td>\n",
       "    </tr>\n",
       "    <tr>\n",
       "      <th>23</th>\n",
       "      <td>1007</td>\n",
       "      <td>Grand Rapids-Kentwood, MI MSA</td>\n",
       "      <td>surf</td>\n",
       "      <td>10</td>\n",
       "      <td>70.0</td>\n",
       "      <td>645.0</td>\n",
       "      <td>59.0</td>\n",
       "      <td>37885.63</td>\n",
       "      <td>20</td>\n",
       "      <td>4.35</td>\n",
       "    </tr>\n",
       "    <tr>\n",
       "      <th>24</th>\n",
       "      <td>1007</td>\n",
       "      <td>Grand Rapids-Kentwood, MI MSA</td>\n",
       "      <td>surf</td>\n",
       "      <td>11</td>\n",
       "      <td>61.0</td>\n",
       "      <td>524.0</td>\n",
       "      <td>48.0</td>\n",
       "      <td>24334.00</td>\n",
       "      <td>20</td>\n",
       "      <td>0.72</td>\n",
       "    </tr>\n",
       "    <tr>\n",
       "      <th>25</th>\n",
       "      <td>1007</td>\n",
       "      <td>Grand Rapids-Kentwood, MI MSA</td>\n",
       "      <td>surf</td>\n",
       "      <td>12</td>\n",
       "      <td>71.0</td>\n",
       "      <td>617.0</td>\n",
       "      <td>50.0</td>\n",
       "      <td>29069.28</td>\n",
       "      <td>20</td>\n",
       "      <td>3.51</td>\n",
       "    </tr>\n",
       "    <tr>\n",
       "      <th>29</th>\n",
       "      <td>1009</td>\n",
       "      <td>San Jose-Sunnyvale-Santa Clara, CA MSA</td>\n",
       "      <td>surf</td>\n",
       "      <td>5</td>\n",
       "      <td>61.0</td>\n",
       "      <td>534.0</td>\n",
       "      <td>0.0</td>\n",
       "      <td>20389.40</td>\n",
       "      <td>20</td>\n",
       "      <td>1.02</td>\n",
       "    </tr>\n",
       "  </tbody>\n",
       "</table>\n",
       "</div>"
      ],
      "text/plain": [
       "    user_id                                    city  plan  month  call_count  \\\n",
       "9      1003                           Tulsa, OK MSA  surf     12       118.0   \n",
       "23     1007           Grand Rapids-Kentwood, MI MSA  surf     10        70.0   \n",
       "24     1007           Grand Rapids-Kentwood, MI MSA  surf     11        61.0   \n",
       "25     1007           Grand Rapids-Kentwood, MI MSA  surf     12        71.0   \n",
       "29     1009  San Jose-Sunnyvale-Santa Clara, CA MSA  surf      5        61.0   \n",
       "\n",
       "    call_duration  messages   mb_used  monthly_fee  call_revenue  \n",
       "9          1104.0      50.0  27044.14           20         18.12  \n",
       "23          645.0      59.0  37885.63           20          4.35  \n",
       "24          524.0      48.0  24334.00           20          0.72  \n",
       "25          617.0      50.0  29069.28           20          3.51  \n",
       "29          534.0       0.0  20389.40           20          1.02  "
      ]
     },
     "execution_count": 26,
     "metadata": {},
     "output_type": "execute_result"
    }
   ],
   "source": [
    "def calc_call_revenue(row):\n",
    "    plan = row['plan']\n",
    "    call_duration = row['call_duration']\n",
    "    included = df_pln.query('plan_name == @plan').minutes_included.iloc[0]\n",
    "    rate = df_pln.query('plan_name == @plan').usd_per_minute.iloc[0]\n",
    "    billable_minutes = max(0, call_duration-included)\n",
    "    return rate*billable_minutes\n",
    "\n",
    "df['call_revenue'] = df.apply(calc_call_revenue, axis=1)\n",
    "df.query('call_revenue > 0').head()"
   ]
  },
  {
   "cell_type": "markdown",
   "id": "a2f0587a",
   "metadata": {},
   "source": [
    "We can check our calculation manually. Let's look at the first client in the list.  The user is on the Surf plan.  In December, they had 1,104 minutes of calls.  (Individual call times were already rounded up to the next minute in an earlier section.)  Since the Surf plan includes 500 minutes, the user's billable minutes were 604.  These are billed at \\\\$0.03 per minute, for a charge of \\\\$18.12."
   ]
  },
  {
   "cell_type": "markdown",
   "id": "ace8f0cf",
   "metadata": {},
   "source": [
    "### Messages\n",
    "The two plans include a certain number of text messages per month, and a rate applied to messages that exceed the limits."
   ]
  },
  {
   "cell_type": "code",
   "execution_count": 27,
   "id": "3a1c83e8",
   "metadata": {},
   "outputs": [
    {
     "data": {
      "text/html": [
       "<div>\n",
       "<style scoped>\n",
       "    .dataframe tbody tr th:only-of-type {\n",
       "        vertical-align: middle;\n",
       "    }\n",
       "\n",
       "    .dataframe tbody tr th {\n",
       "        vertical-align: top;\n",
       "    }\n",
       "\n",
       "    .dataframe thead th {\n",
       "        text-align: right;\n",
       "    }\n",
       "</style>\n",
       "<table border=\"1\" class=\"dataframe\">\n",
       "  <thead>\n",
       "    <tr style=\"text-align: right;\">\n",
       "      <th></th>\n",
       "      <th>user_id</th>\n",
       "      <th>city</th>\n",
       "      <th>plan</th>\n",
       "      <th>month</th>\n",
       "      <th>call_count</th>\n",
       "      <th>call_duration</th>\n",
       "      <th>messages</th>\n",
       "      <th>mb_used</th>\n",
       "      <th>monthly_fee</th>\n",
       "      <th>call_revenue</th>\n",
       "      <th>message_revenue</th>\n",
       "    </tr>\n",
       "  </thead>\n",
       "  <tbody>\n",
       "    <tr>\n",
       "      <th>3</th>\n",
       "      <td>1001</td>\n",
       "      <td>Seattle-Tacoma-Bellevue, WA MSA</td>\n",
       "      <td>surf</td>\n",
       "      <td>10</td>\n",
       "      <td>47.0</td>\n",
       "      <td>393.0</td>\n",
       "      <td>53.0</td>\n",
       "      <td>22330.49</td>\n",
       "      <td>20</td>\n",
       "      <td>0.00</td>\n",
       "      <td>0.09</td>\n",
       "    </tr>\n",
       "    <tr>\n",
       "      <th>21</th>\n",
       "      <td>1007</td>\n",
       "      <td>Grand Rapids-Kentwood, MI MSA</td>\n",
       "      <td>surf</td>\n",
       "      <td>8</td>\n",
       "      <td>56.0</td>\n",
       "      <td>456.0</td>\n",
       "      <td>51.0</td>\n",
       "      <td>24439.88</td>\n",
       "      <td>20</td>\n",
       "      <td>0.00</td>\n",
       "      <td>0.03</td>\n",
       "    </tr>\n",
       "    <tr>\n",
       "      <th>23</th>\n",
       "      <td>1007</td>\n",
       "      <td>Grand Rapids-Kentwood, MI MSA</td>\n",
       "      <td>surf</td>\n",
       "      <td>10</td>\n",
       "      <td>70.0</td>\n",
       "      <td>645.0</td>\n",
       "      <td>59.0</td>\n",
       "      <td>37885.63</td>\n",
       "      <td>20</td>\n",
       "      <td>4.35</td>\n",
       "      <td>0.27</td>\n",
       "    </tr>\n",
       "    <tr>\n",
       "      <th>57</th>\n",
       "      <td>1014</td>\n",
       "      <td>New York-Newark-Jersey City, NY-NJ-PA MSA</td>\n",
       "      <td>surf</td>\n",
       "      <td>12</td>\n",
       "      <td>125.0</td>\n",
       "      <td>1114.0</td>\n",
       "      <td>64.0</td>\n",
       "      <td>7792.41</td>\n",
       "      <td>20</td>\n",
       "      <td>18.42</td>\n",
       "      <td>0.42</td>\n",
       "    </tr>\n",
       "    <tr>\n",
       "      <th>58</th>\n",
       "      <td>1015</td>\n",
       "      <td>Pittsburgh, PA MSA</td>\n",
       "      <td>surf</td>\n",
       "      <td>12</td>\n",
       "      <td>12.0</td>\n",
       "      <td>96.0</td>\n",
       "      <td>68.0</td>\n",
       "      <td>17495.12</td>\n",
       "      <td>20</td>\n",
       "      <td>0.00</td>\n",
       "      <td>0.54</td>\n",
       "    </tr>\n",
       "  </tbody>\n",
       "</table>\n",
       "</div>"
      ],
      "text/plain": [
       "    user_id                                       city  plan  month  \\\n",
       "3      1001            Seattle-Tacoma-Bellevue, WA MSA  surf     10   \n",
       "21     1007              Grand Rapids-Kentwood, MI MSA  surf      8   \n",
       "23     1007              Grand Rapids-Kentwood, MI MSA  surf     10   \n",
       "57     1014  New York-Newark-Jersey City, NY-NJ-PA MSA  surf     12   \n",
       "58     1015                         Pittsburgh, PA MSA  surf     12   \n",
       "\n",
       "    call_count  call_duration  messages   mb_used  monthly_fee  call_revenue  \\\n",
       "3         47.0          393.0      53.0  22330.49           20          0.00   \n",
       "21        56.0          456.0      51.0  24439.88           20          0.00   \n",
       "23        70.0          645.0      59.0  37885.63           20          4.35   \n",
       "57       125.0         1114.0      64.0   7792.41           20         18.42   \n",
       "58        12.0           96.0      68.0  17495.12           20          0.00   \n",
       "\n",
       "    message_revenue  \n",
       "3              0.09  \n",
       "21             0.03  \n",
       "23             0.27  \n",
       "57             0.42  \n",
       "58             0.54  "
      ]
     },
     "execution_count": 27,
     "metadata": {},
     "output_type": "execute_result"
    }
   ],
   "source": [
    "def calc_msg_revenue(row):\n",
    "    plan = row['plan']\n",
    "    msgs = row['messages']\n",
    "    included = df_pln.query('plan_name == @plan').messages_included.iloc[0]\n",
    "    rate = df_pln.query('plan_name == @plan').usd_per_message.iloc[0]\n",
    "    billable_msgs = max(0, msgs-included)\n",
    "    return rate*billable_msgs\n",
    "\n",
    "df['message_revenue'] = df.apply(calc_msg_revenue, axis=1)\n",
    "df.query('message_revenue > 0').head()"
   ]
  },
  {
   "cell_type": "markdown",
   "id": "e366c7ba",
   "metadata": {},
   "source": [
    "Let's manually check the results.  The first user is on the Surf plan.  The user exceeded the monthly limit of 50 messages by 3 and was charged \\\\$0.03 per message for a total charge of \\\\$0.09."
   ]
  },
  {
   "cell_type": "markdown",
   "id": "4cfcb5cb",
   "metadata": {},
   "source": [
    "### Internet\n",
    "As with other usage types, each plan includes a monthly limit and a rate that is applied to data above the limit.  In the users dataframe, limits are expressed in megabytes, while the rates are per gigabyte.  Since the limits are expressed in binary rather than decimal approximations (e.g., 15 GB = 15,360 MB), we will use the binary conversion factor of 1,024 to convert MB to GB.  We will also round billable GB up to the next GB."
   ]
  },
  {
   "cell_type": "code",
   "execution_count": 28,
   "id": "45495334",
   "metadata": {},
   "outputs": [
    {
     "data": {
      "text/html": [
       "<div>\n",
       "<style scoped>\n",
       "    .dataframe tbody tr th:only-of-type {\n",
       "        vertical-align: middle;\n",
       "    }\n",
       "\n",
       "    .dataframe tbody tr th {\n",
       "        vertical-align: top;\n",
       "    }\n",
       "\n",
       "    .dataframe thead th {\n",
       "        text-align: right;\n",
       "    }\n",
       "</style>\n",
       "<table border=\"1\" class=\"dataframe\">\n",
       "  <thead>\n",
       "    <tr style=\"text-align: right;\">\n",
       "      <th></th>\n",
       "      <th>user_id</th>\n",
       "      <th>city</th>\n",
       "      <th>plan</th>\n",
       "      <th>month</th>\n",
       "      <th>call_count</th>\n",
       "      <th>call_duration</th>\n",
       "      <th>messages</th>\n",
       "      <th>mb_used</th>\n",
       "      <th>monthly_fee</th>\n",
       "      <th>call_revenue</th>\n",
       "      <th>message_revenue</th>\n",
       "      <th>internet_revenue</th>\n",
       "    </tr>\n",
       "  </thead>\n",
       "  <tbody>\n",
       "    <tr>\n",
       "      <th>3</th>\n",
       "      <td>1001</td>\n",
       "      <td>Seattle-Tacoma-Bellevue, WA MSA</td>\n",
       "      <td>surf</td>\n",
       "      <td>10</td>\n",
       "      <td>47.0</td>\n",
       "      <td>393.0</td>\n",
       "      <td>53.0</td>\n",
       "      <td>22330.49</td>\n",
       "      <td>20</td>\n",
       "      <td>0.00</td>\n",
       "      <td>0.09</td>\n",
       "      <td>70</td>\n",
       "    </tr>\n",
       "    <tr>\n",
       "      <th>4</th>\n",
       "      <td>1001</td>\n",
       "      <td>Seattle-Tacoma-Bellevue, WA MSA</td>\n",
       "      <td>surf</td>\n",
       "      <td>11</td>\n",
       "      <td>49.0</td>\n",
       "      <td>426.0</td>\n",
       "      <td>36.0</td>\n",
       "      <td>18504.30</td>\n",
       "      <td>20</td>\n",
       "      <td>0.00</td>\n",
       "      <td>0.00</td>\n",
       "      <td>40</td>\n",
       "    </tr>\n",
       "    <tr>\n",
       "      <th>5</th>\n",
       "      <td>1001</td>\n",
       "      <td>Seattle-Tacoma-Bellevue, WA MSA</td>\n",
       "      <td>surf</td>\n",
       "      <td>12</td>\n",
       "      <td>46.0</td>\n",
       "      <td>412.0</td>\n",
       "      <td>44.0</td>\n",
       "      <td>19369.18</td>\n",
       "      <td>20</td>\n",
       "      <td>0.00</td>\n",
       "      <td>0.00</td>\n",
       "      <td>40</td>\n",
       "    </tr>\n",
       "    <tr>\n",
       "      <th>7</th>\n",
       "      <td>1002</td>\n",
       "      <td>Las Vegas-Henderson-Paradise, NV MSA</td>\n",
       "      <td>surf</td>\n",
       "      <td>11</td>\n",
       "      <td>48.0</td>\n",
       "      <td>386.0</td>\n",
       "      <td>32.0</td>\n",
       "      <td>19345.08</td>\n",
       "      <td>20</td>\n",
       "      <td>0.00</td>\n",
       "      <td>0.00</td>\n",
       "      <td>40</td>\n",
       "    </tr>\n",
       "    <tr>\n",
       "      <th>9</th>\n",
       "      <td>1003</td>\n",
       "      <td>Tulsa, OK MSA</td>\n",
       "      <td>surf</td>\n",
       "      <td>12</td>\n",
       "      <td>118.0</td>\n",
       "      <td>1104.0</td>\n",
       "      <td>50.0</td>\n",
       "      <td>27044.14</td>\n",
       "      <td>20</td>\n",
       "      <td>18.12</td>\n",
       "      <td>0.00</td>\n",
       "      <td>120</td>\n",
       "    </tr>\n",
       "  </tbody>\n",
       "</table>\n",
       "</div>"
      ],
      "text/plain": [
       "   user_id                                  city  plan  month  call_count  \\\n",
       "3     1001       Seattle-Tacoma-Bellevue, WA MSA  surf     10        47.0   \n",
       "4     1001       Seattle-Tacoma-Bellevue, WA MSA  surf     11        49.0   \n",
       "5     1001       Seattle-Tacoma-Bellevue, WA MSA  surf     12        46.0   \n",
       "7     1002  Las Vegas-Henderson-Paradise, NV MSA  surf     11        48.0   \n",
       "9     1003                         Tulsa, OK MSA  surf     12       118.0   \n",
       "\n",
       "   call_duration  messages   mb_used  monthly_fee  call_revenue  \\\n",
       "3          393.0      53.0  22330.49           20          0.00   \n",
       "4          426.0      36.0  18504.30           20          0.00   \n",
       "5          412.0      44.0  19369.18           20          0.00   \n",
       "7          386.0      32.0  19345.08           20          0.00   \n",
       "9         1104.0      50.0  27044.14           20         18.12   \n",
       "\n",
       "   message_revenue  internet_revenue  \n",
       "3             0.09                70  \n",
       "4             0.00                40  \n",
       "5             0.00                40  \n",
       "7             0.00                40  \n",
       "9             0.00               120  "
      ]
     },
     "execution_count": 28,
     "metadata": {},
     "output_type": "execute_result"
    }
   ],
   "source": [
    "def calc_internet_revenue(row):\n",
    "    plan = row['plan']\n",
    "    mb = row['mb_used']\n",
    "    included = df_pln.query('plan_name == @plan').mb_per_month_included.iloc[0]\n",
    "    rate = df_pln.query('plan_name == @plan').usd_per_gb.iloc[0]\n",
    "    billable_mb = max(0, mb-included)\n",
    "    billable_gb = billable_mb/1024\n",
    "    billable_gb = math.ceil(billable_gb)\n",
    "    return rate*billable_gb\n",
    "\n",
    "df['internet_revenue'] = df.apply(calc_internet_revenue, axis=1)\n",
    "df.query('internet_revenue > 0').head()"
   ]
  },
  {
   "cell_type": "markdown",
   "id": "26801035",
   "metadata": {},
   "source": [
    "We will manually check our work on the first client in the table.  They are on the Surf plan.  During the month of October, they used 22,330.49 MB of data.  This exceeds the Surf limit of 15,360 MB by 6,970.49 MB.  Diving by 1,024, this is 6.8 GB, which rounds to 7 billable GB.  Applying the Surf rate of \\\\$10 per GB, we get revenue of $70."
   ]
  },
  {
   "cell_type": "markdown",
   "id": "c0f6eb12",
   "metadata": {},
   "source": [
    "### Total revenue\n",
    "We will add a column for total monthly revenue, which consists of the monthly fee and the usage charges for calls, messages, and internet."
   ]
  },
  {
   "cell_type": "code",
   "execution_count": 29,
   "id": "91d355f9",
   "metadata": {},
   "outputs": [
    {
     "data": {
      "text/html": [
       "<div>\n",
       "<style scoped>\n",
       "    .dataframe tbody tr th:only-of-type {\n",
       "        vertical-align: middle;\n",
       "    }\n",
       "\n",
       "    .dataframe tbody tr th {\n",
       "        vertical-align: top;\n",
       "    }\n",
       "\n",
       "    .dataframe thead th {\n",
       "        text-align: right;\n",
       "    }\n",
       "</style>\n",
       "<table border=\"1\" class=\"dataframe\">\n",
       "  <thead>\n",
       "    <tr style=\"text-align: right;\">\n",
       "      <th></th>\n",
       "      <th>user_id</th>\n",
       "      <th>city</th>\n",
       "      <th>plan</th>\n",
       "      <th>month</th>\n",
       "      <th>call_count</th>\n",
       "      <th>call_duration</th>\n",
       "      <th>messages</th>\n",
       "      <th>mb_used</th>\n",
       "      <th>monthly_fee</th>\n",
       "      <th>call_revenue</th>\n",
       "      <th>message_revenue</th>\n",
       "      <th>internet_revenue</th>\n",
       "      <th>total_revenue</th>\n",
       "    </tr>\n",
       "  </thead>\n",
       "  <tbody>\n",
       "    <tr>\n",
       "      <th>0</th>\n",
       "      <td>1000</td>\n",
       "      <td>Atlanta-Sandy Springs-Roswell, GA MSA</td>\n",
       "      <td>ultimate</td>\n",
       "      <td>12</td>\n",
       "      <td>16.0</td>\n",
       "      <td>124.0</td>\n",
       "      <td>11.0</td>\n",
       "      <td>1901.47</td>\n",
       "      <td>70</td>\n",
       "      <td>0.0</td>\n",
       "      <td>0.00</td>\n",
       "      <td>0</td>\n",
       "      <td>70.00</td>\n",
       "    </tr>\n",
       "    <tr>\n",
       "      <th>1</th>\n",
       "      <td>1001</td>\n",
       "      <td>Seattle-Tacoma-Bellevue, WA MSA</td>\n",
       "      <td>surf</td>\n",
       "      <td>8</td>\n",
       "      <td>22.0</td>\n",
       "      <td>182.0</td>\n",
       "      <td>30.0</td>\n",
       "      <td>6919.15</td>\n",
       "      <td>20</td>\n",
       "      <td>0.0</td>\n",
       "      <td>0.00</td>\n",
       "      <td>0</td>\n",
       "      <td>20.00</td>\n",
       "    </tr>\n",
       "    <tr>\n",
       "      <th>2</th>\n",
       "      <td>1001</td>\n",
       "      <td>Seattle-Tacoma-Bellevue, WA MSA</td>\n",
       "      <td>surf</td>\n",
       "      <td>9</td>\n",
       "      <td>38.0</td>\n",
       "      <td>315.0</td>\n",
       "      <td>44.0</td>\n",
       "      <td>13314.82</td>\n",
       "      <td>20</td>\n",
       "      <td>0.0</td>\n",
       "      <td>0.00</td>\n",
       "      <td>0</td>\n",
       "      <td>20.00</td>\n",
       "    </tr>\n",
       "    <tr>\n",
       "      <th>3</th>\n",
       "      <td>1001</td>\n",
       "      <td>Seattle-Tacoma-Bellevue, WA MSA</td>\n",
       "      <td>surf</td>\n",
       "      <td>10</td>\n",
       "      <td>47.0</td>\n",
       "      <td>393.0</td>\n",
       "      <td>53.0</td>\n",
       "      <td>22330.49</td>\n",
       "      <td>20</td>\n",
       "      <td>0.0</td>\n",
       "      <td>0.09</td>\n",
       "      <td>70</td>\n",
       "      <td>90.09</td>\n",
       "    </tr>\n",
       "    <tr>\n",
       "      <th>4</th>\n",
       "      <td>1001</td>\n",
       "      <td>Seattle-Tacoma-Bellevue, WA MSA</td>\n",
       "      <td>surf</td>\n",
       "      <td>11</td>\n",
       "      <td>49.0</td>\n",
       "      <td>426.0</td>\n",
       "      <td>36.0</td>\n",
       "      <td>18504.30</td>\n",
       "      <td>20</td>\n",
       "      <td>0.0</td>\n",
       "      <td>0.00</td>\n",
       "      <td>40</td>\n",
       "      <td>60.00</td>\n",
       "    </tr>\n",
       "  </tbody>\n",
       "</table>\n",
       "</div>"
      ],
      "text/plain": [
       "   user_id                                   city      plan  month  \\\n",
       "0     1000  Atlanta-Sandy Springs-Roswell, GA MSA  ultimate     12   \n",
       "1     1001        Seattle-Tacoma-Bellevue, WA MSA      surf      8   \n",
       "2     1001        Seattle-Tacoma-Bellevue, WA MSA      surf      9   \n",
       "3     1001        Seattle-Tacoma-Bellevue, WA MSA      surf     10   \n",
       "4     1001        Seattle-Tacoma-Bellevue, WA MSA      surf     11   \n",
       "\n",
       "   call_count  call_duration  messages   mb_used  monthly_fee  call_revenue  \\\n",
       "0        16.0          124.0      11.0   1901.47           70           0.0   \n",
       "1        22.0          182.0      30.0   6919.15           20           0.0   \n",
       "2        38.0          315.0      44.0  13314.82           20           0.0   \n",
       "3        47.0          393.0      53.0  22330.49           20           0.0   \n",
       "4        49.0          426.0      36.0  18504.30           20           0.0   \n",
       "\n",
       "   message_revenue  internet_revenue  total_revenue  \n",
       "0             0.00                 0          70.00  \n",
       "1             0.00                 0          20.00  \n",
       "2             0.00                 0          20.00  \n",
       "3             0.09                70          90.09  \n",
       "4             0.00                40          60.00  "
      ]
     },
     "execution_count": 29,
     "metadata": {},
     "output_type": "execute_result"
    }
   ],
   "source": [
    "df['total_revenue'] = df['monthly_fee'] + df['call_revenue'] + df['message_revenue'] + df['internet_revenue']\n",
    "df.head()"
   ]
  },
  {
   "cell_type": "markdown",
   "id": "ef8497cb",
   "metadata": {},
   "source": [
    "### Average monthly revenue by user\n",
    "Subsequent analysis will focus on monthly averages for each user.  Thus, we will aggregate average values by user.  We will also include the plan type and city, which will also be used later.  This table should have 490 rows, since as we saw earlier, there are 10 users with no usage during the study period."
   ]
  },
  {
   "cell_type": "code",
   "execution_count": 30,
   "id": "9e6b46ad",
   "metadata": {},
   "outputs": [
    {
     "name": "stdout",
     "output_type": "stream",
     "text": [
      "Number of users for analysis: 490\n"
     ]
    },
    {
     "data": {
      "text/html": [
       "<div>\n",
       "<style scoped>\n",
       "    .dataframe tbody tr th:only-of-type {\n",
       "        vertical-align: middle;\n",
       "    }\n",
       "\n",
       "    .dataframe tbody tr th {\n",
       "        vertical-align: top;\n",
       "    }\n",
       "\n",
       "    .dataframe thead th {\n",
       "        text-align: right;\n",
       "    }\n",
       "</style>\n",
       "<table border=\"1\" class=\"dataframe\">\n",
       "  <thead>\n",
       "    <tr style=\"text-align: right;\">\n",
       "      <th></th>\n",
       "      <th></th>\n",
       "      <th></th>\n",
       "      <th>call_count</th>\n",
       "      <th>call_duration</th>\n",
       "      <th>messages</th>\n",
       "      <th>mb_used</th>\n",
       "      <th>total_revenue</th>\n",
       "    </tr>\n",
       "    <tr>\n",
       "      <th>user_id</th>\n",
       "      <th>plan</th>\n",
       "      <th>city</th>\n",
       "      <th></th>\n",
       "      <th></th>\n",
       "      <th></th>\n",
       "      <th></th>\n",
       "      <th></th>\n",
       "    </tr>\n",
       "  </thead>\n",
       "  <tbody>\n",
       "    <tr>\n",
       "      <th>1000</th>\n",
       "      <th>ultimate</th>\n",
       "      <th>Atlanta-Sandy Springs-Roswell, GA MSA</th>\n",
       "      <td>16.000000</td>\n",
       "      <td>124.000000</td>\n",
       "      <td>11.000000</td>\n",
       "      <td>1901.47000</td>\n",
       "      <td>70.000000</td>\n",
       "    </tr>\n",
       "    <tr>\n",
       "      <th>1001</th>\n",
       "      <th>surf</th>\n",
       "      <th>Seattle-Tacoma-Bellevue, WA MSA</th>\n",
       "      <td>40.400000</td>\n",
       "      <td>345.600000</td>\n",
       "      <td>41.400000</td>\n",
       "      <td>16087.58800</td>\n",
       "      <td>50.018000</td>\n",
       "    </tr>\n",
       "    <tr>\n",
       "      <th>1002</th>\n",
       "      <th>surf</th>\n",
       "      <th>Las Vegas-Henderson-Paradise, NV MSA</th>\n",
       "      <td>31.333333</td>\n",
       "      <td>276.333333</td>\n",
       "      <td>29.333333</td>\n",
       "      <td>13431.11000</td>\n",
       "      <td>33.333333</td>\n",
       "    </tr>\n",
       "    <tr>\n",
       "      <th>1003</th>\n",
       "      <th>surf</th>\n",
       "      <th>Tulsa, OK MSA</th>\n",
       "      <td>118.000000</td>\n",
       "      <td>1104.000000</td>\n",
       "      <td>50.000000</td>\n",
       "      <td>27044.14000</td>\n",
       "      <td>158.120000</td>\n",
       "    </tr>\n",
       "    <tr>\n",
       "      <th>1004</th>\n",
       "      <th>surf</th>\n",
       "      <th>Seattle-Tacoma-Bellevue, WA MSA</th>\n",
       "      <td>38.250000</td>\n",
       "      <td>346.500000</td>\n",
       "      <td>22.125000</td>\n",
       "      <td>19544.10125</td>\n",
       "      <td>76.250000</td>\n",
       "    </tr>\n",
       "  </tbody>\n",
       "</table>\n",
       "</div>"
      ],
      "text/plain": [
       "                                                        call_count  \\\n",
       "user_id plan     city                                                \n",
       "1000    ultimate Atlanta-Sandy Springs-Roswell, GA MSA   16.000000   \n",
       "1001    surf     Seattle-Tacoma-Bellevue, WA MSA         40.400000   \n",
       "1002    surf     Las Vegas-Henderson-Paradise, NV MSA    31.333333   \n",
       "1003    surf     Tulsa, OK MSA                          118.000000   \n",
       "1004    surf     Seattle-Tacoma-Bellevue, WA MSA         38.250000   \n",
       "\n",
       "                                                        call_duration  \\\n",
       "user_id plan     city                                                   \n",
       "1000    ultimate Atlanta-Sandy Springs-Roswell, GA MSA     124.000000   \n",
       "1001    surf     Seattle-Tacoma-Bellevue, WA MSA           345.600000   \n",
       "1002    surf     Las Vegas-Henderson-Paradise, NV MSA      276.333333   \n",
       "1003    surf     Tulsa, OK MSA                            1104.000000   \n",
       "1004    surf     Seattle-Tacoma-Bellevue, WA MSA           346.500000   \n",
       "\n",
       "                                                         messages  \\\n",
       "user_id plan     city                                               \n",
       "1000    ultimate Atlanta-Sandy Springs-Roswell, GA MSA  11.000000   \n",
       "1001    surf     Seattle-Tacoma-Bellevue, WA MSA        41.400000   \n",
       "1002    surf     Las Vegas-Henderson-Paradise, NV MSA   29.333333   \n",
       "1003    surf     Tulsa, OK MSA                          50.000000   \n",
       "1004    surf     Seattle-Tacoma-Bellevue, WA MSA        22.125000   \n",
       "\n",
       "                                                            mb_used  \\\n",
       "user_id plan     city                                                 \n",
       "1000    ultimate Atlanta-Sandy Springs-Roswell, GA MSA   1901.47000   \n",
       "1001    surf     Seattle-Tacoma-Bellevue, WA MSA        16087.58800   \n",
       "1002    surf     Las Vegas-Henderson-Paradise, NV MSA   13431.11000   \n",
       "1003    surf     Tulsa, OK MSA                          27044.14000   \n",
       "1004    surf     Seattle-Tacoma-Bellevue, WA MSA        19544.10125   \n",
       "\n",
       "                                                        total_revenue  \n",
       "user_id plan     city                                                  \n",
       "1000    ultimate Atlanta-Sandy Springs-Roswell, GA MSA      70.000000  \n",
       "1001    surf     Seattle-Tacoma-Bellevue, WA MSA            50.018000  \n",
       "1002    surf     Las Vegas-Henderson-Paradise, NV MSA       33.333333  \n",
       "1003    surf     Tulsa, OK MSA                             158.120000  \n",
       "1004    surf     Seattle-Tacoma-Bellevue, WA MSA            76.250000  "
      ]
     },
     "execution_count": 30,
     "metadata": {},
     "output_type": "execute_result"
    }
   ],
   "source": [
    "df_avg = df.groupby(['user_id','plan','city'])['call_count', 'call_duration','messages','mb_used','total_revenue'].agg('mean')\n",
    "df_avg.fillna(value=0, inplace=True)\n",
    "print('Number of users for analysis: {}'.format(len(df_avg)))\n",
    "df_avg.head()"
   ]
  },
  {
   "cell_type": "markdown",
   "id": "83b172c2",
   "metadata": {},
   "source": [
    "## Conclusion\n",
    "In this section, we prepared our data for analysis.  This consisted of these steps:\n",
    "1. Converted date types from <code>string</code> to <code>datetime</code>.\n",
    "2. Added a <code>month</code> for each usage type.\n",
    "3. Merged the calls, messages, internet, and usage tables.\n",
    "4. Added revenue-related columns.\n",
    "5. Aggregated monthly data into averages for each user."
   ]
  },
  {
   "cell_type": "markdown",
   "id": "446cf979",
   "metadata": {},
   "source": [
    "# Exploratory data analysis\n",
    "In this section, we will examine usage patterns for the two plans."
   ]
  },
  {
   "cell_type": "markdown",
   "id": "da09bfa6",
   "metadata": {},
   "source": [
    "## Calls"
   ]
  },
  {
   "cell_type": "code",
   "execution_count": 31,
   "id": "49b3b62f",
   "metadata": {},
   "outputs": [
    {
     "data": {
      "image/png": "[encoded data removed]",
      "text/plain": [
       "<Figure size 720x576 with 1 Axes>"
      ]
     },
     "metadata": {
      "needs_background": "light"
     },
     "output_type": "display_data"
    }
   ],
   "source": [
    "def plot_hist(column, title, xlabel, ylabel):\n",
    "    plt.figure(figsize=(10,8))\n",
    "    plt.hist(df_avg.query('plan == \"surf\"')[column], bins=20, alpha=0.8, label='surf')\n",
    "    plt.hist(df_avg.query('plan == \"ultimate\"')[column], bins=20, alpha=0.8, label='ultimate')\n",
    "    plt.title(title)\n",
    "    plt.xlabel(xlabel)\n",
    "    plt.ylabel(ylabel)\n",
    "    plt.grid()\n",
    "    plt.legend()\n",
    "    plt.show()\n",
    "\n",
    "plot_hist(column='call_duration',\n",
    "          title='Average Monthly Call Minutes',\n",
    "          xlabel='Average Monthly Call Minutes',\n",
    "          ylabel='Number of users')"
   ]
  },
  {
   "cell_type": "markdown",
   "id": "595b7df3",
   "metadata": {},
   "source": [
    "The histograms show the average number of minutes the users spent on the phone each month during the study period.  The distribution is _roughly_ normal in appearance, in the sense that it is fatter in the middle, and tapers on either side.\n",
    "\n",
    "There are fewer clients on the Ultimate plan, but the distributions for the two plans have very similar shapes.\n",
    "\n",
    "The Surf plan includes 500 minutes, so a significant minority of users on the plan will incur per-minute fees.  The Ultimate plan includes 3,000 minutes, so no users would be expected to incur per-minute fees."
   ]
  },
  {
   "cell_type": "code",
   "execution_count": 32,
   "id": "f0558bc1",
   "metadata": {},
   "outputs": [
    {
     "data": {
      "image/png": "[encoded data removed]",
      "text/plain": [
       "<Figure size 720x576 with 1 Axes>"
      ]
     },
     "metadata": {
      "needs_background": "light"
     },
     "output_type": "display_data"
    }
   ],
   "source": [
    "def plot_violin(column, title, xlabel, ylabel):\n",
    "    plt.figure(figsize=(10,8))\n",
    "    sns.violinplot(x=df_avg.index.get_level_values(1), y=df_avg[column], order=['surf', 'ultimate'])\n",
    "    plt.title(title)\n",
    "    plt.xlabel(xlabel)\n",
    "    plt.ylabel(ylabel)\n",
    "    plt.show()\n",
    "\n",
    "plot_violin(column='call_duration',\n",
    "          title='Average Monthly Call Duration by Plan',\n",
    "          xlabel='Plan',\n",
    "          ylabel='Call duration (minutes)')"
   ]
  },
  {
   "cell_type": "code",
   "execution_count": 33,
   "id": "e612676b",
   "metadata": {},
   "outputs": [
    {
     "data": {
      "text/html": [
       "<div>\n",
       "<style scoped>\n",
       "    .dataframe tbody tr th:only-of-type {\n",
       "        vertical-align: middle;\n",
       "    }\n",
       "\n",
       "    .dataframe tbody tr th {\n",
       "        vertical-align: top;\n",
       "    }\n",
       "\n",
       "    .dataframe thead th {\n",
       "        text-align: right;\n",
       "    }\n",
       "</style>\n",
       "<table border=\"1\" class=\"dataframe\">\n",
       "  <thead>\n",
       "    <tr style=\"text-align: right;\">\n",
       "      <th></th>\n",
       "      <th>Surf</th>\n",
       "      <th>Ultimate</th>\n",
       "    </tr>\n",
       "    <tr>\n",
       "      <th>Statistic</th>\n",
       "      <th></th>\n",
       "      <th></th>\n",
       "    </tr>\n",
       "  </thead>\n",
       "  <tbody>\n",
       "    <tr>\n",
       "      <th>Mean</th>\n",
       "      <td>408.7</td>\n",
       "      <td>408.0</td>\n",
       "    </tr>\n",
       "    <tr>\n",
       "      <th>Median</th>\n",
       "      <td>394.2</td>\n",
       "      <td>415.3</td>\n",
       "    </tr>\n",
       "    <tr>\n",
       "      <th>Variance</th>\n",
       "      <td>39628.7</td>\n",
       "      <td>39887.3</td>\n",
       "    </tr>\n",
       "    <tr>\n",
       "      <th>Std deviation</th>\n",
       "      <td>199.1</td>\n",
       "      <td>199.7</td>\n",
       "    </tr>\n",
       "  </tbody>\n",
       "</table>\n",
       "</div>"
      ],
      "text/plain": [
       "                  Surf  Ultimate\n",
       "Statistic                       \n",
       "Mean             408.7     408.0\n",
       "Median           394.2     415.3\n",
       "Variance       39628.7   39887.3\n",
       "Std deviation    199.1     199.7"
      ]
     },
     "execution_count": 33,
     "metadata": {},
     "output_type": "execute_result"
    }
   ],
   "source": [
    "def print_stats(col):\n",
    "    stats = [['Mean', \n",
    "             df_avg.query('plan == \"surf\"')[col].mean(),\n",
    "             df_avg.query('plan == \"ultimate\"')[col].mean()\n",
    "             ],\n",
    "             ['Median', \n",
    "             df_avg.query('plan == \"surf\"')[col].median(),\n",
    "             df_avg.query('plan == \"ultimate\"')[col].median()\n",
    "             ],\n",
    "             ['Variance',\n",
    "              np.var(df_avg.query('plan == \"surf\"')[col]),\n",
    "              np.var(df_avg.query('plan == \"ultimate\"')[col])\n",
    "             ],\n",
    "             ['Std deviation',\n",
    "              np.std(df_avg.query('plan == \"surf\"')[col]),\n",
    "              np.std(df_avg.query('plan == \"ultimate\"')[col])\n",
    "             ]\n",
    "            ]\n",
    "    return pd.DataFrame(stats, columns=['Statistic', 'Surf', 'Ultimate']).set_index('Statistic').round(decimals=1)\n",
    "\n",
    "    \n",
    "print_stats('call_duration')"
   ]
  },
  {
   "cell_type": "markdown",
   "id": "4bdeb318",
   "metadata": {},
   "source": [
    "As implied by the histograms, clients on the two plans have nearly identical usage patterns.  Clients spent an average of 386 mintues (6.4 hours) on the phone each month."
   ]
  },
  {
   "cell_type": "markdown",
   "id": "98ed30fa",
   "metadata": {},
   "source": [
    "## Messages"
   ]
  },
  {
   "cell_type": "code",
   "execution_count": 34,
   "id": "adf67aa7",
   "metadata": {},
   "outputs": [
    {
     "data": {
      "image/png": "[encoded data removed]",
      "text/plain": [
       "<Figure size 720x576 with 1 Axes>"
      ]
     },
     "metadata": {
      "needs_background": "light"
     },
     "output_type": "display_data"
    }
   ],
   "source": [
    "plot_hist(column='messages',\n",
    "          title='Average Monthly Messages',\n",
    "          xlabel='Average Monthly Messages',\n",
    "          ylabel='Number of users')"
   ]
  },
  {
   "cell_type": "markdown",
   "id": "83caad31",
   "metadata": {},
   "source": [
    "The histograms show the average number of text messages sent per month during the study period.  Many users sent fewer than 10 texts per month.  Again, the two plans exhibit very similar usage patterns."
   ]
  },
  {
   "cell_type": "code",
   "execution_count": 35,
   "id": "58ce6a84",
   "metadata": {},
   "outputs": [
    {
     "data": {
      "image/png": "[encoded data removed]",
      "text/plain": [
       "<Figure size 720x576 with 1 Axes>"
      ]
     },
     "metadata": {
      "needs_background": "light"
     },
     "output_type": "display_data"
    }
   ],
   "source": [
    "plot_violin(column='messages',\n",
    "          title='Average Monthly Text Messages by Plan',\n",
    "          xlabel='Plan',\n",
    "          ylabel='Texts')"
   ]
  },
  {
   "cell_type": "code",
   "execution_count": 36,
   "id": "826d45b3",
   "metadata": {},
   "outputs": [
    {
     "data": {
      "text/html": [
       "<div>\n",
       "<style scoped>\n",
       "    .dataframe tbody tr th:only-of-type {\n",
       "        vertical-align: middle;\n",
       "    }\n",
       "\n",
       "    .dataframe tbody tr th {\n",
       "        vertical-align: top;\n",
       "    }\n",
       "\n",
       "    .dataframe thead th {\n",
       "        text-align: right;\n",
       "    }\n",
       "</style>\n",
       "<table border=\"1\" class=\"dataframe\">\n",
       "  <thead>\n",
       "    <tr style=\"text-align: right;\">\n",
       "      <th></th>\n",
       "      <th>Surf</th>\n",
       "      <th>Ultimate</th>\n",
       "    </tr>\n",
       "    <tr>\n",
       "      <th>Statistic</th>\n",
       "      <th></th>\n",
       "      <th></th>\n",
       "    </tr>\n",
       "  </thead>\n",
       "  <tbody>\n",
       "    <tr>\n",
       "      <th>Mean</th>\n",
       "      <td>32.4</td>\n",
       "      <td>38.5</td>\n",
       "    </tr>\n",
       "    <tr>\n",
       "      <th>Median</th>\n",
       "      <td>27.0</td>\n",
       "      <td>32.5</td>\n",
       "    </tr>\n",
       "    <tr>\n",
       "      <th>Variance</th>\n",
       "      <td>959.2</td>\n",
       "      <td>1077.3</td>\n",
       "    </tr>\n",
       "    <tr>\n",
       "      <th>Std deviation</th>\n",
       "      <td>31.0</td>\n",
       "      <td>32.8</td>\n",
       "    </tr>\n",
       "  </tbody>\n",
       "</table>\n",
       "</div>"
      ],
      "text/plain": [
       "                Surf  Ultimate\n",
       "Statistic                     \n",
       "Mean            32.4      38.5\n",
       "Median          27.0      32.5\n",
       "Variance       959.2    1077.3\n",
       "Std deviation   31.0      32.8"
      ]
     },
     "execution_count": 36,
     "metadata": {},
     "output_type": "execute_result"
    }
   ],
   "source": [
    "print_stats('messages')"
   ]
  },
  {
   "cell_type": "markdown",
   "id": "8b847af6",
   "metadata": {},
   "source": [
    "Clients on the Ultimate plan sent more text messages per month than those on the Surf plan, but this difference is _much_ less than the standard deviation, suggesting that there is no statistically significant difference between the groups.\n",
    "\n",
    "The Surf plan includes 50 messages per month, so some users on the plan will incur per-message fees.  Because the Ultimate plan includes 1,000 messages per month, no users would be expected to pay the per-message fee."
   ]
  },
  {
   "cell_type": "markdown",
   "id": "a843d71b",
   "metadata": {},
   "source": [
    "## Internet"
   ]
  },
  {
   "cell_type": "code",
   "execution_count": 37,
   "id": "1925dbef",
   "metadata": {},
   "outputs": [
    {
     "data": {
      "image/png": "[encoded data removed]",
      "text/plain": [
       "<Figure size 720x576 with 1 Axes>"
      ]
     },
     "metadata": {
      "needs_background": "light"
     },
     "output_type": "display_data"
    }
   ],
   "source": [
    "plot_hist(column='mb_used',\n",
    "          title='Average Monthly Data Usage',\n",
    "          xlabel='Average Monthly Data Usage (MB)',\n",
    "          ylabel='Number of users')"
   ]
  },
  {
   "cell_type": "markdown",
   "id": "46c66ecc",
   "metadata": {},
   "source": [
    "The histograms show the average monthly internet usage for the two plans.  As with phone usage, the distributions are _roughly_ normal in appearance and similar to each other in shape."
   ]
  },
  {
   "cell_type": "code",
   "execution_count": 38,
   "id": "45427437",
   "metadata": {},
   "outputs": [
    {
     "data": {
      "image/png": "[encoded data removed]",
      "text/plain": [
       "<Figure size 720x576 with 1 Axes>"
      ]
     },
     "metadata": {
      "needs_background": "light"
     },
     "output_type": "display_data"
    }
   ],
   "source": [
    "plot_violin(column='mb_used',\n",
    "          title='Average Data Usage by Plan',\n",
    "          xlabel='Plan',\n",
    "          ylabel='Monthly Data Usage (MB)')"
   ]
  },
  {
   "cell_type": "code",
   "execution_count": 39,
   "id": "21a5b168",
   "metadata": {},
   "outputs": [
    {
     "data": {
      "text/html": [
       "<div>\n",
       "<style scoped>\n",
       "    .dataframe tbody tr th:only-of-type {\n",
       "        vertical-align: middle;\n",
       "    }\n",
       "\n",
       "    .dataframe tbody tr th {\n",
       "        vertical-align: top;\n",
       "    }\n",
       "\n",
       "    .dataframe thead th {\n",
       "        text-align: right;\n",
       "    }\n",
       "</style>\n",
       "<table border=\"1\" class=\"dataframe\">\n",
       "  <thead>\n",
       "    <tr style=\"text-align: right;\">\n",
       "      <th></th>\n",
       "      <th>Surf</th>\n",
       "      <th>Ultimate</th>\n",
       "    </tr>\n",
       "    <tr>\n",
       "      <th>Statistic</th>\n",
       "      <th></th>\n",
       "      <th></th>\n",
       "    </tr>\n",
       "  </thead>\n",
       "  <tbody>\n",
       "    <tr>\n",
       "      <th>Mean</th>\n",
       "      <td>15866.1</td>\n",
       "      <td>16042.3</td>\n",
       "    </tr>\n",
       "    <tr>\n",
       "      <th>Median</th>\n",
       "      <td>15916.5</td>\n",
       "      <td>15574.2</td>\n",
       "    </tr>\n",
       "    <tr>\n",
       "      <th>Variance</th>\n",
       "      <td>38644743.0</td>\n",
       "      <td>34715028.4</td>\n",
       "    </tr>\n",
       "    <tr>\n",
       "      <th>Std deviation</th>\n",
       "      <td>6216.5</td>\n",
       "      <td>5891.9</td>\n",
       "    </tr>\n",
       "  </tbody>\n",
       "</table>\n",
       "</div>"
      ],
      "text/plain": [
       "                     Surf    Ultimate\n",
       "Statistic                            \n",
       "Mean              15866.1     16042.3\n",
       "Median            15916.5     15574.2\n",
       "Variance       38644743.0  34715028.4\n",
       "Std deviation      6216.5      5891.9"
      ]
     },
     "execution_count": 39,
     "metadata": {},
     "output_type": "execute_result"
    }
   ],
   "source": [
    "print_stats('mb_used')"
   ]
  },
  {
   "cell_type": "markdown",
   "id": "be5ecb59",
   "metadata": {},
   "source": [
    "Clients on both plans used about 16 GB of data per month, on average.  Since the Surf plan includes 15 GB, one can surmise that many clients on this plan incurred fees for data exceeding the limit.  The Ultimate plan includes 30 GB of data, so few clients on that plan would have incurred per-GB fees."
   ]
  },
  {
   "cell_type": "markdown",
   "id": "cee5a2d2",
   "metadata": {},
   "source": [
    "## Revenue contribution by usage type"
   ]
  },
  {
   "cell_type": "code",
   "execution_count": 40,
   "id": "c9ca8748",
   "metadata": {},
   "outputs": [
    {
     "name": "stdout",
     "output_type": "stream",
     "text": [
      "Total revenue from Surf plan: $95491.\n",
      "Total revenue from Ultimate plan: $52066.\n"
     ]
    },
    {
     "data": {
      "text/html": [
       "<div>\n",
       "<style scoped>\n",
       "    .dataframe tbody tr th:only-of-type {\n",
       "        vertical-align: middle;\n",
       "    }\n",
       "\n",
       "    .dataframe tbody tr th {\n",
       "        vertical-align: top;\n",
       "    }\n",
       "\n",
       "    .dataframe thead th {\n",
       "        text-align: right;\n",
       "    }\n",
       "</style>\n",
       "<table border=\"1\" class=\"dataframe\">\n",
       "  <thead>\n",
       "    <tr style=\"text-align: right;\">\n",
       "      <th></th>\n",
       "      <th>Revenue type</th>\n",
       "      <th>Surf</th>\n",
       "      <th>Ultimate</th>\n",
       "    </tr>\n",
       "  </thead>\n",
       "  <tbody>\n",
       "    <tr>\n",
       "      <th>0</th>\n",
       "      <td>monthly_fee</td>\n",
       "      <td>32.945451</td>\n",
       "      <td>96.800215</td>\n",
       "    </tr>\n",
       "    <tr>\n",
       "      <th>1</th>\n",
       "      <td>call_revenue</td>\n",
       "      <td>3.037191</td>\n",
       "      <td>0.000000</td>\n",
       "    </tr>\n",
       "    <tr>\n",
       "      <th>2</th>\n",
       "      <td>message_revenue</td>\n",
       "      <td>0.346556</td>\n",
       "      <td>0.000000</td>\n",
       "    </tr>\n",
       "    <tr>\n",
       "      <th>3</th>\n",
       "      <td>internet_revenue</td>\n",
       "      <td>63.670802</td>\n",
       "      <td>3.199785</td>\n",
       "    </tr>\n",
       "  </tbody>\n",
       "</table>\n",
       "</div>"
      ],
      "text/plain": [
       "       Revenue type       Surf   Ultimate\n",
       "0       monthly_fee  32.945451  96.800215\n",
       "1      call_revenue   3.037191   0.000000\n",
       "2   message_revenue   0.346556   0.000000\n",
       "3  internet_revenue  63.670802   3.199785"
      ]
     },
     "execution_count": 40,
     "metadata": {},
     "output_type": "execute_result"
    }
   ],
   "source": [
    "surf_total = df.query('plan == \"surf\"')['total_revenue'].sum()\n",
    "ultimate_total = df.query('plan == \"ultimate\"')['total_revenue'].sum()\n",
    "print('Total revenue from Surf plan: ${:.0f}.'.format(surf_total))\n",
    "print('Total revenue from Ultimate plan: ${:.0f}.'.format(ultimate_total))\n",
    "\n",
    "df_rev_plan = df.groupby('plan')['monthly_fee','call_revenue', 'message_revenue', 'internet_revenue'].agg('sum')\n",
    "df_rev_plan = df_rev_plan.transpose().reset_index()\n",
    "df_rev_plan.columns = ['Revenue type', 'Surf', 'Ultimate']\n",
    "df_rev_plan['Surf'] = df_rev_plan['Surf'].apply(lambda x: x/surf_total*100)\n",
    "df_rev_plan['Ultimate'] = df_rev_plan['Ultimate'].apply(lambda x: x/ultimate_total*100)\n",
    "df_rev_plan\n"
   ]
  },
  {
   "cell_type": "markdown",
   "id": "0794f372",
   "metadata": {},
   "source": [
    "This table shows that almost all revenue from the Ultimate plan comes from the monthly fee.  Revenue from the Surf plan comes from the montly fee and internet data, with very little contribution from texts or calls."
   ]
  },
  {
   "cell_type": "markdown",
   "id": "115916c2",
   "metadata": {},
   "source": [
    "## Monthly revenue per user for each plan"
   ]
  },
  {
   "cell_type": "code",
   "execution_count": 41,
   "id": "abdecbcf",
   "metadata": {},
   "outputs": [
    {
     "name": "stdout",
     "output_type": "stream",
     "text": [
      "Surf users generate $58 per month.\n",
      "Ultimate users generate $72 per month.\n"
     ]
    }
   ],
   "source": [
    "df_surf = df_avg.query('plan == \"surf\"')\n",
    "print('Surf users generate ${:.0f} per month.'.format(df_surf['total_revenue'].sum()/len(df_surf)))\n",
    "\n",
    "df_ultimate = df_avg.query('plan == \"ultimate\"')\n",
    "print('Ultimate users generate ${:.0f} per month.'.format(df_ultimate['total_revenue'].sum()/len(df_ultimate)))"
   ]
  },
  {
   "cell_type": "markdown",
   "id": "83c4e835",
   "metadata": {},
   "source": [
    "Ultimate users bring in \\\\$14 more per month, on average, than Surf users."
   ]
  },
  {
   "cell_type": "markdown",
   "id": "ddf64820",
   "metadata": {},
   "source": [
    "## Conclusion\n",
    "In this section, we examined usage patterns for the Surf and Ultimate plans.  Usage patterns are remarkably similar for the two plans, for all three usage types.  Clients on the Surf plan generate revenue through a combination of the monthly fee and usage fees (mostly internet).  Although the Ultimate plan has the same structure as the Surf plan, its high usage limits mean that few clients actually incur usage fees.  Instead, the Ultimate plan generates revenue through its high monthly fee."
   ]
  },
  {
   "cell_type": "markdown",
   "id": "fdd9f538",
   "metadata": {},
   "source": [
    "# Hypothesis testing"
   ]
  },
  {
   "cell_type": "markdown",
   "id": "7dc82880",
   "metadata": {},
   "source": [
    "The main goal of this project is to compare the revenue generated by the Surf and Ultimate plans.  The marketing team will use this information to adjust the advertising budget.\n",
    "\n",
    "For our hypothesis tests, we will use a signifiance level (alpha) of 0.05.  This is a conventional, albeit arbitrary, choice.  If we were to choose a higher alpha, such as 0.1, we would increase the risk making a type I error, i.e., mistakenly concluding that there is a difference (rejecting the null hypothesis) when in fact there is no difference.  On the other hand, if we were to select a lower alpha, such as 0.01, we would increase the risk of making a type II error, mistakenly concluding that is is no difference (failing to reject the null hypothesis), when in fact there is a difference."
   ]
  },
  {
   "cell_type": "markdown",
   "id": "d203b2c0",
   "metadata": {},
   "source": [
    "## Average revenue from users of Ultimate and Surf calling plans\n",
    "The marketing department asked us to determine whether average revenue from the Surf and Ultimate plans differs.  To answer this question, we will first calculate the average revenue from each plan."
   ]
  },
  {
   "cell_type": "code",
   "execution_count": 42,
   "id": "37beb815",
   "metadata": {},
   "outputs": [
    {
     "name": "stdout",
     "output_type": "stream",
     "text": [
      "The Surf plan has 333 users with average monthly revenue of $58.19. The variance is 1892.\n",
      "The Ultimate plan has 157 users with average monthly revenue of $71.82. The variance is 55.\n"
     ]
    }
   ],
   "source": [
    "df_surf_rev = df_avg.query('plan == \"surf\"')['total_revenue'].values\n",
    "print('The Surf plan has {} users with average monthly revenue of ${:.2f}. The variance is {:.0f}.'.format(len(df_surf_rev), df_surf_rev.mean(), np.var(df_surf_rev)))\n",
    "\n",
    "df_ultimate_rev = df_avg.query('plan == \"ultimate\"')['total_revenue'].values\n",
    "print('The Ultimate plan has {} users with average monthly revenue of ${:.2f}. The variance is {:.0f}.'.format(len(df_ultimate_rev), df_ultimate_rev.mean(), np.var(df_ultimate_rev)))"
   ]
  },
  {
   "cell_type": "markdown",
   "id": "7429e905",
   "metadata": {},
   "source": [
    "The Ultimate plan has a higher average monthly revenue, but could this difference be due to chance?  To answer this question, we will construct a hypothesis test.\n",
    "- **H<sub>0</sub>**: The average revenue of the Surf and Ultimate plans is equal.\n",
    "- **H<sub>1</sub>**: The average revenue of the Surf and Ultimate plans is not equal."
   ]
  },
  {
   "cell_type": "code",
   "execution_count": 43,
   "id": "bf05f925",
   "metadata": {},
   "outputs": [
    {
     "name": "stdout",
     "output_type": "stream",
     "text": [
      "Levene test: revenue distributions do NOT have equal variance. (p=4.26e-21)\n"
     ]
    }
   ],
   "source": [
    "results = levene(df_surf_rev, df_ultimate_rev)\n",
    "if results.pvalue < 0.05:\n",
    "    print('Levene test: revenue distributions do NOT have equal variance. (p={:.2e})'.format(results.pvalue))\n",
    "else:\n",
    "    print('Levene test: revenue distributions DO have equal variance. (p={:.2e})'.format(results.pvalue))"
   ]
  },
  {
   "cell_type": "code",
   "execution_count": 44,
   "id": "b923dc7f",
   "metadata": {},
   "outputs": [
    {
     "name": "stdout",
     "output_type": "stream",
     "text": [
      "p-value: 5.72e-08\n",
      "We reject the null hypothesis.\n"
     ]
    }
   ],
   "source": [
    "alpha = 0.05\n",
    "results = st.ttest_ind(df_surf_rev, df_ultimate_rev, equal_var=False)\n",
    "\n",
    "print('p-value: {:.2e}'.format(results.pvalue))\n",
    "\n",
    "if results.pvalue < alpha:\n",
    "    print(\"We reject the null hypothesis.\")\n",
    "else:\n",
    "    print(\"We can't reject the null hypothesis.\") "
   ]
  },
  {
   "cell_type": "markdown",
   "id": "5afd20f7",
   "metadata": {},
   "source": [
    "Assuming that the null hypothesis that the revenue is equal is true, there is almost zero probability of observing such different revenues.  Therefore, we reject the null hypothesis that revenue from the two plans is equal.\n",
    "\n",
    "We found above that the variance of the two samples is quite different (1884 for Surf vs. 55 for Ultimate).  Therefore, our statistical test used Welch’s t-test, which does not assume equal population variance (<code>ttest_ind()</code> with <code>equal_var=False</code>).\n",
    "\n",
    "It appears that revenue from the Ultimate plan is higher.  Can we show this statistically?\n",
    "\n",
    "- **H<sub>0</sub>**: The average revenue from the Ultimate plan is not greater than the average revenue from the Surf plan.\n",
    "- **H<sub>1</sub>**: The average revenue from the Ultimate plan is greater than the average revenue from the Surf plan."
   ]
  },
  {
   "cell_type": "code",
   "execution_count": 45,
   "id": "79b5f93a",
   "metadata": {},
   "outputs": [
    {
     "name": "stdout",
     "output_type": "stream",
     "text": [
      "p-value: 2.86e-08\n",
      "We reject the null hypothesis.\n"
     ]
    }
   ],
   "source": [
    "alpha = 0.05\n",
    "results = st.ttest_ind(df_surf_rev, df_ultimate_rev, equal_var=False)\n",
    "\n",
    "# one-sided test: p-value will be halved\n",
    "print('p-value: {:.2e}'.format(results.pvalue/2))\n",
    "\n",
    "# one-sided test to the right:\n",
    "# reject the null hypothesis only if the average revenue for Ultimate is significantly greater than the predicted value\n",
    "if (results.pvalue/2 < alpha) and (df_ultimate_rev.mean() > df_surf_rev.mean()):\n",
    "    print(\"We reject the null hypothesis.\")\n",
    "else:\n",
    "    print(\"We can't reject the null hypothesis.\") "
   ]
  },
  {
   "cell_type": "markdown",
   "id": "701057e7",
   "metadata": {},
   "source": [
    "Assuming that the null hypothesis that the Ultimate revenue is not greater than Surf revenue is true, there is almost zero probability of observing such different revenues. Therefore, we conclude that revenue from the Ultimate plan is greater than revenue from the Surf plan."
   ]
  },
  {
   "cell_type": "markdown",
   "id": "b091406c",
   "metadata": {},
   "source": [
    "## Average revenue from users in NY-NJ area"
   ]
  },
  {
   "cell_type": "markdown",
   "id": "e992119b",
   "metadata": {},
   "source": [
    "Management also asked us to determine whether the average revenue of users in the NY-NJ area is different from that of the users in other regions.\n",
    "\n",
    "Manual inspection of the data reveals that there are 4 metropolitan areas encompassing New York:"
   ]
  },
  {
   "cell_type": "code",
   "execution_count": 46,
   "id": "32b9346c",
   "metadata": {},
   "outputs": [
    {
     "data": {
      "text/plain": [
       "array(['New York-Newark-Jersey City, NY-NJ-PA MSA',\n",
       "       'Buffalo-Cheektowaga, NY MSA', 'Albany-Schenectady-Troy, NY MSA',\n",
       "       'Rochester, NY MSA'], dtype=object)"
      ]
     },
     "execution_count": 46,
     "metadata": {},
     "output_type": "execute_result"
    }
   ],
   "source": [
    "df_usr[df_usr['city'].str.contains(\"NY\", case=True)]['city'].unique()"
   ]
  },
  {
   "cell_type": "markdown",
   "id": "f6bd0aba",
   "metadata": {},
   "source": [
    "The only area that also includes NJ is 'New York-Newark-Jersey City, NY-NJ-PA MSA', so this is the area that we will use to answer this question.  The other areas are in upstate New York."
   ]
  },
  {
   "cell_type": "code",
   "execution_count": 47,
   "id": "95573d5e",
   "metadata": {},
   "outputs": [
    {
     "name": "stdout",
     "output_type": "stream",
     "text": [
      "The NY-NJ-PA area has 79 users with average monthly revenue of $59.89. Variance is 1058.\n",
      "Other areas have 411 users with average monthly revenue of $63.07. Variance is 1397.\n"
     ]
    }
   ],
   "source": [
    "df_ny_rev = df_avg.query('city == \"New York-Newark-Jersey City, NY-NJ-PA MSA\"')['total_revenue'].values\n",
    "print('The NY-NJ-PA area has {} users with average monthly revenue of ${:.2f}. Variance is {:.0f}.'.format(len(df_ny_rev), df_ny_rev.mean(), np.var(df_ny_rev)))\n",
    "\n",
    "df_other_rev = df_avg.query('city != \"New York-Newark-Jersey City, NY-NJ-PA MSA\"')['total_revenue'].values\n",
    "print('Other areas have {} users with average monthly revenue of ${:.2f}. Variance is {:.0f}.'.format(len(df_other_rev), df_other_rev.mean(), np.var(df_other_rev)))"
   ]
  },
  {
   "cell_type": "markdown",
   "id": "24f625c0",
   "metadata": {},
   "source": [
    "- **H<sub>0</sub>**: The average revenue of users in the NY-NJ area is equal to that of users in other areas.\n",
    "- **H<sub>1</sub>**: The average revenue of users in the NY-NJ area is not equal to that of users in other areas."
   ]
  },
  {
   "cell_type": "code",
   "execution_count": 48,
   "id": "52949f64",
   "metadata": {},
   "outputs": [
    {
     "name": "stdout",
     "output_type": "stream",
     "text": [
      "Levene test: revenue distributions DO have equal variance. (p=8.62e-01)\n"
     ]
    }
   ],
   "source": [
    "results = levene(df_ny_rev, df_other_rev)\n",
    "if results.pvalue < 0.05:\n",
    "    print('Levene test: revenue distributions do NOT have equal variance. (p={:.2e})'.format(results.pvalue))\n",
    "else:\n",
    "    print('Levene test: revenue distributions DO have equal variance. (p={:.2e})'.format(results.pvalue))"
   ]
  },
  {
   "cell_type": "code",
   "execution_count": 49,
   "id": "11a31a6e",
   "metadata": {},
   "outputs": [
    {
     "name": "stdout",
     "output_type": "stream",
     "text": [
      "p-value: 4.80e-01\n",
      "We can't reject the null hypothesis.\n"
     ]
    }
   ],
   "source": [
    "alpha = 0.05\n",
    "results = st.ttest_ind(df_ny_rev, df_other_rev, equal_var=True)\n",
    "\n",
    "print('p-value: {:.2e}'.format(results.pvalue))\n",
    "\n",
    "if results.pvalue < alpha:\n",
    "    print(\"We reject the null hypothesis.\")\n",
    "else:\n",
    "    print(\"We can't reject the null hypothesis.\") "
   ]
  },
  {
   "cell_type": "markdown",
   "id": "9dc90380",
   "metadata": {},
   "source": [
    "Assuming that the null hypothesis (that the revenue from the two areas is equal) is true, there is a 44% chance of observing a difference of \\\\$3.18 (\\\\$63.07 - \\\\$59.89). Therefore, we can't reject the null hypothesis, and we conclude that there is no statitical difference between average revenue of the two areas.\n",
    "\n",
    "We found that the variance of the two groups was similar (1058 for NY, 1393 elsewhere). Therefore, our code performed a standard independent 2 sample test that assumes equal population variances (<code>ttest_ind()</code> with <code>equal_var=True</code>, the default parameter)."
   ]
  },
  {
   "cell_type": "markdown",
   "id": "eb2930cb",
   "metadata": {},
   "source": [
    "## Conclusion\n",
    "In this section, our hypothesis tests showed that the average monthly revenue from the Ultimate plan is higher than revenue from the Surf plan, at a significance level of 0.05.  We also found that the slightly higher revenue observed for the NY-NJ market is not statistically significant."
   ]
  },
  {
   "cell_type": "markdown",
   "id": "cd50121f",
   "metadata": {},
   "source": [
    "# Overall conclusion"
   ]
  },
  {
   "cell_type": "markdown",
   "id": "f3b67157",
   "metadata": {},
   "source": [
    "In this project, we analyzed a sample of 500 users of two prepaid plans offered by Megaline, a telecom operator.\n",
    "\n",
    "Data was provided in five tables, and we began by examining each one.  Overall, there were few problems with the data.  We did identify several date columns to convert to <code>datetime</code> type, and we found 10 users with no usage of any kind during the study period.\n",
    "\n",
    "Next we moved on to data preprocessing.  We converted the date types and created columns for month.  We merged the usage tables and the user table, and we created columns for monthly revenue.  Finally, we aggregated the monthly totals to show the monthly average for each user.\n",
    "\n",
    "In the exploratory data analysis phase, we created histograms for each usage type.  We found that there are more users are on the Surf plan, and because of this, it brings in the more revenue overall.  However, the Ultimate plan brings in the most revenue per user (\\\\$72, vs. \\\\$58 for Surf users).\n",
    "\n",
    "Usage patterns for the two plans is similar.  The Surf plan generates revenue through a combination of monthly fees and usage charges.  The Ultimate plan, because of its high limits, generates almost all of its revenue through the monthly fee.\n",
    "\n",
    "Finally, we constructed hypothesis tests to determine whether there is truly a difference in revenue between the two plans.  The Ultimate plan generates higher revenue than the Surf plan, and this difference is statistically significant.\n",
    "\n",
    "We also constructed a hypothesis test to determine whether revenue from the NY-NJ differs exceeds revenue from other areas.  In the sample data, NY-NJ did have a slightly higher monthly revenue than other areas, but this apparent superiority was not statistically significant."
   ]
  },
  {
   "cell_type": "markdown",
   "id": "5da6b7cb",
   "metadata": {},
   "source": [
    "# Recommendations"
   ]
  },
  {
   "cell_type": "markdown",
   "id": "c50cd254",
   "metadata": {},
   "source": [
    "- Encourage clients to sign up for, or switch to, the Ultimate plan since it generates more revenue per user than the Surf plan.\n",
    "- Increase the monthly fee for the Ultimate plan, since almost all of the revenue from this plan comes from the monthly fee.  Of course, this must be done in a way that does not drive away customers.  Some customers may be willing to pay a higher montly fee in exchange for higher usage limits or lower rates, even though few customers on the Ultimate plan actually exceed the limits.\n",
    "- Keep the monthly fee for the Surf plan low, to differentiate it from the Ultimate plan.\n",
    "- Aside from the monthly fee, the Surf plan generates revenue through internet data usage.  Increase internet revenue by increasing the rate, decreasing the plan limit, or both.\n",
    "- The Surf plan generates almost no revenue through calls or texts.  For these components, included limits can be raised or rates lowered at minimal cost to the company, yet customers may perceive value in these changes."
   ]
  }
 ],
 "metadata": {
  "ExecuteTimeLog": [
   {
    "duration": 1538,
    "start_time": "2021-10-14T18:28:02.604Z"
   },
   {
    "duration": 7,
    "start_time": "2021-10-14T18:28:04.144Z"
   },
   {
    "duration": 27,
    "start_time": "2021-10-14T18:28:04.153Z"
   },
   {
    "duration": 13,
    "start_time": "2021-10-14T18:28:04.182Z"
   },
   {
    "duration": 10,
    "start_time": "2021-10-14T18:28:04.197Z"
   },
   {
    "duration": 17,
    "start_time": "2021-10-14T18:28:04.209Z"
   },
   {
    "duration": 7,
    "start_time": "2021-10-14T18:28:04.228Z"
   },
   {
    "duration": 11,
    "start_time": "2021-10-14T18:28:04.238Z"
   },
   {
    "duration": 27,
    "start_time": "2021-10-14T18:28:04.252Z"
   },
   {
    "duration": 14,
    "start_time": "2021-10-14T18:28:04.281Z"
   },
   {
    "duration": 7,
    "start_time": "2021-10-14T18:28:04.297Z"
   },
   {
    "duration": 15,
    "start_time": "2021-10-14T18:28:04.305Z"
   },
   {
    "duration": 6,
    "start_time": "2021-10-14T18:28:04.322Z"
   },
   {
    "duration": 104,
    "start_time": "2021-10-14T18:28:04.330Z"
   },
   {
    "duration": 49,
    "start_time": "2021-10-14T18:28:04.435Z"
   },
   {
    "duration": 45,
    "start_time": "2021-10-14T18:28:04.486Z"
   },
   {
    "duration": 27,
    "start_time": "2021-10-14T18:28:04.533Z"
   },
   {
    "duration": 13,
    "start_time": "2021-10-14T18:28:04.577Z"
   },
   {
    "duration": 20,
    "start_time": "2021-10-14T18:28:04.592Z"
   },
   {
    "duration": 5878,
    "start_time": "2021-10-14T18:28:04.614Z"
   },
   {
    "duration": 5797,
    "start_time": "2021-10-14T18:28:10.494Z"
   },
   {
    "duration": 5789,
    "start_time": "2021-10-14T18:28:16.293Z"
   },
   {
    "duration": 14,
    "start_time": "2021-10-14T18:28:22.086Z"
   },
   {
    "duration": 18,
    "start_time": "2021-10-14T18:28:22.103Z"
   },
   {
    "duration": 334,
    "start_time": "2021-10-14T18:28:22.123Z"
   },
   {
    "duration": 31,
    "start_time": "2021-10-14T18:28:22.459Z"
   },
   {
    "duration": 326,
    "start_time": "2021-10-14T18:28:22.492Z"
   },
   {
    "duration": 23,
    "start_time": "2021-10-14T18:28:22.820Z"
   },
   {
    "duration": 318,
    "start_time": "2021-10-14T18:28:22.845Z"
   },
   {
    "duration": 28,
    "start_time": "2021-10-14T18:28:23.165Z"
   },
   {
    "duration": 11,
    "start_time": "2021-10-14T18:28:23.195Z"
   },
   {
    "duration": 6,
    "start_time": "2021-10-14T18:28:23.208Z"
   },
   {
    "duration": 5,
    "start_time": "2021-10-14T18:28:23.216Z"
   },
   {
    "duration": 7,
    "start_time": "2021-10-14T18:28:23.223Z"
   },
   {
    "duration": 49,
    "start_time": "2021-10-14T18:28:23.232Z"
   },
   {
    "duration": 9,
    "start_time": "2021-10-14T18:28:23.283Z"
   },
   {
    "duration": 13,
    "start_time": "2021-10-14T20:00:22.669Z"
   },
   {
    "duration": 4,
    "start_time": "2021-10-14T20:01:54.551Z"
   },
   {
    "duration": 4,
    "start_time": "2021-10-14T20:02:04.466Z"
   },
   {
    "duration": 326,
    "start_time": "2021-10-18T17:45:43.560Z"
   },
   {
    "duration": 1996,
    "start_time": "2021-10-18T17:45:49.186Z"
   },
   {
    "duration": 8,
    "start_time": "2021-10-18T17:45:51.185Z"
   },
   {
    "duration": 19,
    "start_time": "2021-10-18T17:45:51.196Z"
   },
   {
    "duration": 8,
    "start_time": "2021-10-18T17:45:51.218Z"
   },
   {
    "duration": 16,
    "start_time": "2021-10-18T17:45:51.229Z"
   },
   {
    "duration": 53,
    "start_time": "2021-10-18T17:45:51.248Z"
   },
   {
    "duration": 11,
    "start_time": "2021-10-18T17:45:51.303Z"
   },
   {
    "duration": 466,
    "start_time": "2021-10-18T17:45:54.305Z"
   },
   {
    "duration": 441,
    "start_time": "2021-10-18T17:47:18.864Z"
   },
   {
    "duration": 438,
    "start_time": "2021-10-18T17:47:34.947Z"
   },
   {
    "duration": 450,
    "start_time": "2021-10-18T17:48:29.991Z"
   },
   {
    "duration": 16,
    "start_time": "2021-10-18T17:49:03.109Z"
   },
   {
    "duration": 21,
    "start_time": "2021-10-18T17:49:46.029Z"
   },
   {
    "duration": 436,
    "start_time": "2021-10-18T17:52:25.354Z"
   },
   {
    "duration": 18,
    "start_time": "2021-10-18T17:57:01.566Z"
   },
   {
    "duration": 10,
    "start_time": "2021-10-18T18:14:31.073Z"
   },
   {
    "duration": 11,
    "start_time": "2021-10-18T18:14:39.647Z"
   },
   {
    "duration": 1049,
    "start_time": "2021-10-18T18:16:14.938Z"
   },
   {
    "duration": 9,
    "start_time": "2021-10-18T18:16:15.990Z"
   },
   {
    "duration": 31,
    "start_time": "2021-10-18T18:16:16.002Z"
   },
   {
    "duration": 17,
    "start_time": "2021-10-18T18:16:16.036Z"
   },
   {
    "duration": 27,
    "start_time": "2021-10-18T18:16:16.055Z"
   },
   {
    "duration": 35,
    "start_time": "2021-10-18T18:16:16.084Z"
   },
   {
    "duration": 11,
    "start_time": "2021-10-18T18:16:16.121Z"
   },
   {
    "duration": 438,
    "start_time": "2021-10-18T18:16:16.135Z"
   },
   {
    "duration": 18,
    "start_time": "2021-10-18T18:16:16.575Z"
   },
   {
    "duration": 24,
    "start_time": "2021-10-18T18:16:25.984Z"
   },
   {
    "duration": 434,
    "start_time": "2021-10-18T18:20:02.338Z"
   },
   {
    "duration": 451,
    "start_time": "2021-10-18T18:22:00.058Z"
   },
   {
    "duration": 564,
    "start_time": "2021-10-18T18:24:36.386Z"
   },
   {
    "duration": 502,
    "start_time": "2021-10-18T18:29:56.024Z"
   },
   {
    "duration": 18,
    "start_time": "2021-10-18T18:30:32.383Z"
   },
   {
    "duration": 7988,
    "start_time": "2021-10-18T18:36:45.597Z"
   },
   {
    "duration": 1361,
    "start_time": "2021-10-18T18:36:56.952Z"
   },
   {
    "duration": 9,
    "start_time": "2021-10-18T18:36:58.316Z"
   },
   {
    "duration": 15,
    "start_time": "2021-10-18T18:36:58.328Z"
   },
   {
    "duration": 12,
    "start_time": "2021-10-18T18:36:58.345Z"
   },
   {
    "duration": 15,
    "start_time": "2021-10-18T18:36:58.383Z"
   },
   {
    "duration": 25,
    "start_time": "2021-10-18T18:36:58.400Z"
   },
   {
    "duration": 12,
    "start_time": "2021-10-18T18:36:58.428Z"
   },
   {
    "duration": 489,
    "start_time": "2021-10-18T18:36:58.444Z"
   },
   {
    "duration": 18,
    "start_time": "2021-10-18T18:36:58.936Z"
   },
   {
    "duration": 457,
    "start_time": "2021-10-18T18:36:58.956Z"
   },
   {
    "duration": 17,
    "start_time": "2021-10-18T18:36:59.415Z"
   },
   {
    "duration": 10,
    "start_time": "2021-10-18T18:36:59.435Z"
   },
   {
    "duration": 50,
    "start_time": "2021-10-18T18:36:59.448Z"
   },
   {
    "duration": 12,
    "start_time": "2021-10-18T18:36:59.501Z"
   },
   {
    "duration": 474,
    "start_time": "2021-10-18T18:36:59.517Z"
   },
   {
    "duration": 16,
    "start_time": "2021-10-18T18:36:59.993Z"
   },
   {
    "duration": 6637,
    "start_time": "2021-10-18T18:37:05.182Z"
   },
   {
    "duration": 443,
    "start_time": "2021-10-18T18:37:32.734Z"
   },
   {
    "duration": 732,
    "start_time": "2021-10-18T18:45:33.693Z"
   },
   {
    "duration": 7189,
    "start_time": "2021-10-18T18:46:02.918Z"
   },
   {
    "duration": 78,
    "start_time": "2021-10-18T18:46:37.941Z"
   },
   {
    "duration": 73,
    "start_time": "2021-10-18T18:46:52.680Z"
   },
   {
    "duration": 503,
    "start_time": "2021-10-18T18:46:56.643Z"
   },
   {
    "duration": 9,
    "start_time": "2021-10-18T18:46:57.148Z"
   },
   {
    "duration": 26,
    "start_time": "2021-10-18T18:46:57.160Z"
   },
   {
    "duration": 18,
    "start_time": "2021-10-18T18:46:57.189Z"
   },
   {
    "duration": 23,
    "start_time": "2021-10-18T18:46:57.210Z"
   },
   {
    "duration": 25,
    "start_time": "2021-10-18T18:46:57.236Z"
   },
   {
    "duration": 12,
    "start_time": "2021-10-18T18:46:57.283Z"
   },
   {
    "duration": 436,
    "start_time": "2021-10-18T18:46:57.299Z"
   },
   {
    "duration": 19,
    "start_time": "2021-10-18T18:46:57.737Z"
   },
   {
    "duration": 461,
    "start_time": "2021-10-18T18:46:57.759Z"
   },
   {
    "duration": 15,
    "start_time": "2021-10-18T18:46:58.222Z"
   },
   {
    "duration": 9,
    "start_time": "2021-10-18T18:46:58.240Z"
   },
   {
    "duration": 44,
    "start_time": "2021-10-18T18:46:58.252Z"
   },
   {
    "duration": 12,
    "start_time": "2021-10-18T18:46:58.298Z"
   },
   {
    "duration": 470,
    "start_time": "2021-10-18T18:46:58.312Z"
   },
   {
    "duration": 16,
    "start_time": "2021-10-18T18:46:58.785Z"
   },
   {
    "duration": 445,
    "start_time": "2021-10-18T18:46:58.804Z"
   },
   {
    "duration": 33,
    "start_time": "2021-10-18T18:46:59.251Z"
   },
   {
    "duration": 9,
    "start_time": "2021-10-18T18:46:59.287Z"
   },
   {
    "duration": 103,
    "start_time": "2021-10-18T18:46:59.299Z"
   },
   {
    "duration": 75,
    "start_time": "2021-10-18T18:47:11.588Z"
   },
   {
    "duration": 712,
    "start_time": "2021-10-18T18:50:10.275Z"
   },
   {
    "duration": 81,
    "start_time": "2021-10-18T18:50:13.482Z"
   },
   {
    "duration": 539,
    "start_time": "2021-10-18T19:09:10.220Z"
   },
   {
    "duration": 10,
    "start_time": "2021-10-18T19:09:10.762Z"
   },
   {
    "duration": 16,
    "start_time": "2021-10-18T19:09:10.783Z"
   },
   {
    "duration": 14,
    "start_time": "2021-10-18T19:09:10.802Z"
   },
   {
    "duration": 18,
    "start_time": "2021-10-18T19:09:10.819Z"
   },
   {
    "duration": 55,
    "start_time": "2021-10-18T19:09:10.840Z"
   },
   {
    "duration": 12,
    "start_time": "2021-10-18T19:09:10.898Z"
   },
   {
    "duration": 551,
    "start_time": "2021-10-18T19:09:10.913Z"
   },
   {
    "duration": 28,
    "start_time": "2021-10-18T19:09:11.470Z"
   },
   {
    "duration": 443,
    "start_time": "2021-10-18T19:09:11.500Z"
   },
   {
    "duration": 13,
    "start_time": "2021-10-18T19:09:11.946Z"
   },
   {
    "duration": 23,
    "start_time": "2021-10-18T19:09:11.962Z"
   },
   {
    "duration": 36,
    "start_time": "2021-10-18T19:09:11.987Z"
   },
   {
    "duration": 11,
    "start_time": "2021-10-18T19:09:12.025Z"
   },
   {
    "duration": 531,
    "start_time": "2021-10-18T19:09:12.038Z"
   },
   {
    "duration": 25,
    "start_time": "2021-10-18T19:09:12.571Z"
   },
   {
    "duration": 495,
    "start_time": "2021-10-18T19:09:12.598Z"
   },
   {
    "duration": 21,
    "start_time": "2021-10-18T19:09:13.095Z"
   },
   {
    "duration": 8,
    "start_time": "2021-10-18T19:09:13.118Z"
   },
   {
    "duration": 106,
    "start_time": "2021-10-18T19:09:13.128Z"
   },
   {
    "duration": 67,
    "start_time": "2021-10-18T19:09:13.236Z"
   },
   {
    "duration": 56,
    "start_time": "2021-10-18T19:09:13.305Z"
   },
   {
    "duration": 241,
    "start_time": "2021-10-18T19:09:16.511Z"
   },
   {
    "duration": 277,
    "start_time": "2021-10-18T19:10:56.812Z"
   },
   {
    "duration": 529,
    "start_time": "2021-10-18T19:11:02.989Z"
   },
   {
    "duration": 12,
    "start_time": "2021-10-18T19:11:03.521Z"
   },
   {
    "duration": 28,
    "start_time": "2021-10-18T19:11:03.537Z"
   },
   {
    "duration": 22,
    "start_time": "2021-10-18T19:11:03.569Z"
   },
   {
    "duration": 50,
    "start_time": "2021-10-18T19:11:03.594Z"
   },
   {
    "duration": 46,
    "start_time": "2021-10-18T19:11:03.646Z"
   },
   {
    "duration": 14,
    "start_time": "2021-10-18T19:11:03.695Z"
   },
   {
    "duration": 452,
    "start_time": "2021-10-18T19:11:03.711Z"
   },
   {
    "duration": 26,
    "start_time": "2021-10-18T19:11:04.167Z"
   },
   {
    "duration": 457,
    "start_time": "2021-10-18T19:11:04.195Z"
   },
   {
    "duration": 17,
    "start_time": "2021-10-18T19:11:04.654Z"
   },
   {
    "duration": 14,
    "start_time": "2021-10-18T19:11:04.683Z"
   },
   {
    "duration": 33,
    "start_time": "2021-10-18T19:11:04.699Z"
   },
   {
    "duration": 16,
    "start_time": "2021-10-18T19:11:04.735Z"
   },
   {
    "duration": 442,
    "start_time": "2021-10-18T19:11:04.754Z"
   },
   {
    "duration": 16,
    "start_time": "2021-10-18T19:11:05.198Z"
   },
   {
    "duration": 450,
    "start_time": "2021-10-18T19:11:05.216Z"
   },
   {
    "duration": 30,
    "start_time": "2021-10-18T19:11:05.668Z"
   },
   {
    "duration": 8,
    "start_time": "2021-10-18T19:11:05.701Z"
   },
   {
    "duration": 116,
    "start_time": "2021-10-18T19:11:05.711Z"
   },
   {
    "duration": 68,
    "start_time": "2021-10-18T19:11:05.830Z"
   },
   {
    "duration": 61,
    "start_time": "2021-10-18T19:11:05.900Z"
   },
   {
    "duration": 2034,
    "start_time": "2021-10-18T19:11:45.173Z"
   },
   {
    "duration": 10,
    "start_time": "2021-10-18T19:11:47.209Z"
   },
   {
    "duration": 18,
    "start_time": "2021-10-18T19:11:47.222Z"
   },
   {
    "duration": 8,
    "start_time": "2021-10-18T19:11:47.243Z"
   },
   {
    "duration": 44,
    "start_time": "2021-10-18T19:11:47.254Z"
   },
   {
    "duration": 29,
    "start_time": "2021-10-18T19:11:47.301Z"
   },
   {
    "duration": 11,
    "start_time": "2021-10-18T19:11:47.333Z"
   },
   {
    "duration": 468,
    "start_time": "2021-10-18T19:11:47.347Z"
   },
   {
    "duration": 24,
    "start_time": "2021-10-18T19:11:47.821Z"
   },
   {
    "duration": 467,
    "start_time": "2021-10-18T19:11:47.848Z"
   },
   {
    "duration": 17,
    "start_time": "2021-10-18T19:11:48.318Z"
   },
   {
    "duration": 10,
    "start_time": "2021-10-18T19:11:48.339Z"
   },
   {
    "duration": 20,
    "start_time": "2021-10-18T19:11:48.383Z"
   },
   {
    "duration": 15,
    "start_time": "2021-10-18T19:11:48.405Z"
   },
   {
    "duration": 468,
    "start_time": "2021-10-18T19:11:48.423Z"
   },
   {
    "duration": 16,
    "start_time": "2021-10-18T19:11:48.893Z"
   },
   {
    "duration": 643,
    "start_time": "2021-10-18T19:11:48.912Z"
   },
   {
    "duration": 34,
    "start_time": "2021-10-18T19:11:49.557Z"
   },
   {
    "duration": 8,
    "start_time": "2021-10-18T19:11:49.594Z"
   },
   {
    "duration": 119,
    "start_time": "2021-10-18T19:11:49.605Z"
   },
   {
    "duration": 75,
    "start_time": "2021-10-18T19:11:49.727Z"
   },
   {
    "duration": 80,
    "start_time": "2021-10-18T19:11:49.805Z"
   },
   {
    "duration": 2070,
    "start_time": "2021-10-18T19:13:12.109Z"
   },
   {
    "duration": 11,
    "start_time": "2021-10-18T19:13:14.182Z"
   },
   {
    "duration": 28,
    "start_time": "2021-10-18T19:13:14.196Z"
   },
   {
    "duration": 13,
    "start_time": "2021-10-18T19:13:14.227Z"
   },
   {
    "duration": 20,
    "start_time": "2021-10-18T19:13:14.242Z"
   },
   {
    "duration": 39,
    "start_time": "2021-10-18T19:13:14.265Z"
   },
   {
    "duration": 13,
    "start_time": "2021-10-18T19:13:14.306Z"
   },
   {
    "duration": 452,
    "start_time": "2021-10-18T19:13:14.323Z"
   },
   {
    "duration": 24,
    "start_time": "2021-10-18T19:13:14.778Z"
   },
   {
    "duration": 465,
    "start_time": "2021-10-18T19:13:14.804Z"
   },
   {
    "duration": 19,
    "start_time": "2021-10-18T19:13:15.272Z"
   },
   {
    "duration": 15,
    "start_time": "2021-10-18T19:13:15.294Z"
   },
   {
    "duration": 27,
    "start_time": "2021-10-18T19:13:15.311Z"
   },
   {
    "duration": 11,
    "start_time": "2021-10-18T19:13:15.340Z"
   },
   {
    "duration": 492,
    "start_time": "2021-10-18T19:13:15.354Z"
   },
   {
    "duration": 16,
    "start_time": "2021-10-18T19:13:15.848Z"
   },
   {
    "duration": 448,
    "start_time": "2021-10-18T19:13:15.866Z"
   },
   {
    "duration": 20,
    "start_time": "2021-10-18T19:13:16.316Z"
   },
   {
    "duration": 8,
    "start_time": "2021-10-18T19:13:16.339Z"
   },
   {
    "duration": 116,
    "start_time": "2021-10-18T19:13:16.349Z"
   },
   {
    "duration": 72,
    "start_time": "2021-10-18T19:13:16.467Z"
   },
   {
    "duration": 79,
    "start_time": "2021-10-18T19:13:16.542Z"
   },
   {
    "duration": 317,
    "start_time": "2021-10-18T19:13:47.163Z"
   },
   {
    "duration": 1912,
    "start_time": "2021-10-18T19:14:02.404Z"
   },
   {
    "duration": 598,
    "start_time": "2021-10-18T19:14:13.618Z"
   },
   {
    "duration": 545,
    "start_time": "2021-10-18T19:14:26.418Z"
   },
   {
    "duration": 9,
    "start_time": "2021-10-18T19:14:26.966Z"
   },
   {
    "duration": 24,
    "start_time": "2021-10-18T19:14:26.983Z"
   },
   {
    "duration": 22,
    "start_time": "2021-10-18T19:14:27.010Z"
   },
   {
    "duration": 30,
    "start_time": "2021-10-18T19:14:27.035Z"
   },
   {
    "duration": 38,
    "start_time": "2021-10-18T19:14:27.068Z"
   },
   {
    "duration": 12,
    "start_time": "2021-10-18T19:14:27.109Z"
   },
   {
    "duration": 459,
    "start_time": "2021-10-18T19:14:27.123Z"
   },
   {
    "duration": 24,
    "start_time": "2021-10-18T19:14:27.586Z"
   },
   {
    "duration": 487,
    "start_time": "2021-10-18T19:14:27.613Z"
   },
   {
    "duration": 16,
    "start_time": "2021-10-18T19:14:28.102Z"
   },
   {
    "duration": 27,
    "start_time": "2021-10-18T19:14:28.120Z"
   },
   {
    "duration": 34,
    "start_time": "2021-10-18T19:14:28.149Z"
   },
   {
    "duration": 11,
    "start_time": "2021-10-18T19:14:28.186Z"
   },
   {
    "duration": 707,
    "start_time": "2021-10-18T19:14:28.200Z"
   },
   {
    "duration": 17,
    "start_time": "2021-10-18T19:14:28.910Z"
   },
   {
    "duration": 466,
    "start_time": "2021-10-18T19:14:28.930Z"
   },
   {
    "duration": 22,
    "start_time": "2021-10-18T19:14:29.399Z"
   },
   {
    "duration": 10,
    "start_time": "2021-10-18T19:14:29.424Z"
   },
   {
    "duration": 133,
    "start_time": "2021-10-18T19:14:29.436Z"
   },
   {
    "duration": 71,
    "start_time": "2021-10-18T19:14:29.572Z"
   },
   {
    "duration": 79,
    "start_time": "2021-10-18T19:14:29.646Z"
   },
   {
    "duration": 1992,
    "start_time": "2021-10-18T19:19:45.372Z"
   },
   {
    "duration": 10,
    "start_time": "2021-10-18T19:19:47.367Z"
   },
   {
    "duration": 25,
    "start_time": "2021-10-18T19:19:47.384Z"
   },
   {
    "duration": 26,
    "start_time": "2021-10-18T19:19:47.412Z"
   },
   {
    "duration": 28,
    "start_time": "2021-10-18T19:19:47.440Z"
   },
   {
    "duration": 35,
    "start_time": "2021-10-18T19:19:47.470Z"
   },
   {
    "duration": 12,
    "start_time": "2021-10-18T19:19:47.507Z"
   },
   {
    "duration": 459,
    "start_time": "2021-10-18T19:19:47.522Z"
   },
   {
    "duration": 22,
    "start_time": "2021-10-18T19:19:47.985Z"
   },
   {
    "duration": 461,
    "start_time": "2021-10-18T19:19:48.010Z"
   },
   {
    "duration": 28,
    "start_time": "2021-10-18T19:19:48.474Z"
   },
   {
    "duration": 15,
    "start_time": "2021-10-18T19:19:48.505Z"
   },
   {
    "duration": 20,
    "start_time": "2021-10-18T19:19:48.523Z"
   },
   {
    "duration": 38,
    "start_time": "2021-10-18T19:19:48.546Z"
   },
   {
    "duration": 449,
    "start_time": "2021-10-18T19:19:48.586Z"
   },
   {
    "duration": 20,
    "start_time": "2021-10-18T19:19:49.037Z"
   },
   {
    "duration": 452,
    "start_time": "2021-10-18T19:19:49.060Z"
   },
   {
    "duration": 25,
    "start_time": "2021-10-18T19:19:49.515Z"
   },
   {
    "duration": 8,
    "start_time": "2021-10-18T19:19:49.542Z"
   },
   {
    "duration": 132,
    "start_time": "2021-10-18T19:19:49.553Z"
   },
   {
    "duration": 60,
    "start_time": "2021-10-18T19:19:49.688Z"
   },
   {
    "duration": 80,
    "start_time": "2021-10-18T19:19:49.750Z"
   },
   {
    "duration": 1956,
    "start_time": "2021-10-18T19:20:08.985Z"
   },
   {
    "duration": 9,
    "start_time": "2021-10-18T19:20:10.943Z"
   },
   {
    "duration": 33,
    "start_time": "2021-10-18T19:20:10.956Z"
   },
   {
    "duration": 15,
    "start_time": "2021-10-18T19:20:10.992Z"
   },
   {
    "duration": 21,
    "start_time": "2021-10-18T19:20:11.010Z"
   },
   {
    "duration": 32,
    "start_time": "2021-10-18T19:20:11.033Z"
   },
   {
    "duration": 22,
    "start_time": "2021-10-18T19:20:11.067Z"
   },
   {
    "duration": 454,
    "start_time": "2021-10-18T19:20:11.091Z"
   },
   {
    "duration": 34,
    "start_time": "2021-10-18T19:20:11.549Z"
   },
   {
    "duration": 441,
    "start_time": "2021-10-18T19:20:11.586Z"
   },
   {
    "duration": 15,
    "start_time": "2021-10-18T19:20:12.030Z"
   },
   {
    "duration": 13,
    "start_time": "2021-10-18T19:20:12.047Z"
   },
   {
    "duration": 18,
    "start_time": "2021-10-18T19:20:12.083Z"
   },
   {
    "duration": 10,
    "start_time": "2021-10-18T19:20:12.104Z"
   },
   {
    "duration": 455,
    "start_time": "2021-10-18T19:20:12.117Z"
   },
   {
    "duration": 22,
    "start_time": "2021-10-18T19:20:12.575Z"
   },
   {
    "duration": 556,
    "start_time": "2021-10-18T19:20:12.599Z"
   },
   {
    "duration": 37,
    "start_time": "2021-10-18T19:20:13.158Z"
   },
   {
    "duration": 9,
    "start_time": "2021-10-18T19:20:13.197Z"
   },
   {
    "duration": 112,
    "start_time": "2021-10-18T19:20:13.209Z"
   },
   {
    "duration": 70,
    "start_time": "2021-10-18T19:20:13.323Z"
   },
   {
    "duration": 61,
    "start_time": "2021-10-18T19:20:13.397Z"
   },
   {
    "duration": 539,
    "start_time": "2021-10-18T19:20:40.138Z"
   },
   {
    "duration": 733,
    "start_time": "2021-10-18T19:23:25.995Z"
   },
   {
    "duration": 9,
    "start_time": "2021-10-18T19:23:26.731Z"
   },
   {
    "duration": 15,
    "start_time": "2021-10-18T19:23:26.743Z"
   },
   {
    "duration": 30,
    "start_time": "2021-10-18T19:23:26.760Z"
   },
   {
    "duration": 19,
    "start_time": "2021-10-18T19:23:26.792Z"
   },
   {
    "duration": 30,
    "start_time": "2021-10-18T19:23:26.813Z"
   },
   {
    "duration": 11,
    "start_time": "2021-10-18T19:23:26.846Z"
   },
   {
    "duration": 466,
    "start_time": "2021-10-18T19:23:26.882Z"
   },
   {
    "duration": 32,
    "start_time": "2021-10-18T19:23:27.352Z"
   },
   {
    "duration": 470,
    "start_time": "2021-10-18T19:23:27.386Z"
   },
   {
    "duration": 31,
    "start_time": "2021-10-18T19:23:27.859Z"
   },
   {
    "duration": 13,
    "start_time": "2021-10-18T19:23:27.894Z"
   },
   {
    "duration": 31,
    "start_time": "2021-10-18T19:23:27.910Z"
   },
   {
    "duration": 47,
    "start_time": "2021-10-18T19:23:27.944Z"
   },
   {
    "duration": 450,
    "start_time": "2021-10-18T19:23:27.994Z"
   },
   {
    "duration": 18,
    "start_time": "2021-10-18T19:23:28.446Z"
   },
   {
    "duration": 458,
    "start_time": "2021-10-18T19:23:28.467Z"
   },
   {
    "duration": 22,
    "start_time": "2021-10-18T19:23:28.929Z"
   },
   {
    "duration": 33,
    "start_time": "2021-10-18T19:23:28.954Z"
   },
   {
    "duration": 102,
    "start_time": "2021-10-18T19:23:28.989Z"
   },
   {
    "duration": 62,
    "start_time": "2021-10-18T19:23:29.094Z"
   },
   {
    "duration": 77,
    "start_time": "2021-10-18T19:23:29.159Z"
   },
   {
    "duration": 426,
    "start_time": "2021-10-18T19:23:41.914Z"
   },
   {
    "duration": 542,
    "start_time": "2021-10-18T19:39:59.015Z"
   },
   {
    "duration": 9,
    "start_time": "2021-10-18T19:39:59.559Z"
   },
   {
    "duration": 13,
    "start_time": "2021-10-18T19:39:59.583Z"
   },
   {
    "duration": 12,
    "start_time": "2021-10-18T19:39:59.598Z"
   },
   {
    "duration": 17,
    "start_time": "2021-10-18T19:39:59.612Z"
   },
   {
    "duration": 53,
    "start_time": "2021-10-18T19:39:59.631Z"
   },
   {
    "duration": 12,
    "start_time": "2021-10-18T19:39:59.686Z"
   },
   {
    "duration": 459,
    "start_time": "2021-10-18T19:39:59.701Z"
   },
   {
    "duration": 27,
    "start_time": "2021-10-18T19:40:00.164Z"
   },
   {
    "duration": 574,
    "start_time": "2021-10-18T19:40:00.194Z"
   },
   {
    "duration": 26,
    "start_time": "2021-10-18T19:40:00.771Z"
   },
   {
    "duration": 41,
    "start_time": "2021-10-18T19:40:00.800Z"
   },
   {
    "duration": 47,
    "start_time": "2021-10-18T19:40:00.844Z"
   },
   {
    "duration": 28,
    "start_time": "2021-10-18T19:40:00.894Z"
   },
   {
    "duration": 451,
    "start_time": "2021-10-18T19:40:00.924Z"
   },
   {
    "duration": 25,
    "start_time": "2021-10-18T19:40:01.382Z"
   },
   {
    "duration": 480,
    "start_time": "2021-10-18T19:40:01.410Z"
   },
   {
    "duration": 24,
    "start_time": "2021-10-18T19:40:01.893Z"
   },
   {
    "duration": 10,
    "start_time": "2021-10-18T19:40:01.919Z"
   },
   {
    "duration": 128,
    "start_time": "2021-10-18T19:40:01.932Z"
   },
   {
    "duration": 63,
    "start_time": "2021-10-18T19:40:02.063Z"
   },
   {
    "duration": 76,
    "start_time": "2021-10-18T19:40:02.129Z"
   },
   {
    "duration": 71,
    "start_time": "2021-10-18T19:40:08.759Z"
   },
   {
    "duration": 91,
    "start_time": "2021-10-18T19:40:26.921Z"
   },
   {
    "duration": 1995,
    "start_time": "2021-10-18T19:43:56.353Z"
   },
   {
    "duration": 11,
    "start_time": "2021-10-18T19:43:58.351Z"
   },
   {
    "duration": 24,
    "start_time": "2021-10-18T19:43:58.367Z"
   },
   {
    "duration": 8,
    "start_time": "2021-10-18T19:43:58.395Z"
   },
   {
    "duration": 18,
    "start_time": "2021-10-18T19:43:58.405Z"
   },
   {
    "duration": 22,
    "start_time": "2021-10-18T19:43:58.426Z"
   },
   {
    "duration": 41,
    "start_time": "2021-10-18T19:43:58.450Z"
   },
   {
    "duration": 449,
    "start_time": "2021-10-18T19:43:58.493Z"
   },
   {
    "duration": 24,
    "start_time": "2021-10-18T19:43:58.945Z"
   },
   {
    "duration": 453,
    "start_time": "2021-10-18T19:43:58.982Z"
   },
   {
    "duration": 14,
    "start_time": "2021-10-18T19:43:59.438Z"
   },
   {
    "duration": 32,
    "start_time": "2021-10-18T19:43:59.455Z"
   },
   {
    "duration": 24,
    "start_time": "2021-10-18T19:43:59.490Z"
   },
   {
    "duration": 12,
    "start_time": "2021-10-18T19:43:59.517Z"
   },
   {
    "duration": 453,
    "start_time": "2021-10-18T19:43:59.532Z"
   },
   {
    "duration": 19,
    "start_time": "2021-10-18T19:43:59.988Z"
   },
   {
    "duration": 458,
    "start_time": "2021-10-18T19:44:00.010Z"
   },
   {
    "duration": 26,
    "start_time": "2021-10-18T19:44:00.470Z"
   },
   {
    "duration": 38,
    "start_time": "2021-10-18T19:44:00.498Z"
   },
   {
    "duration": 108,
    "start_time": "2021-10-18T19:44:00.539Z"
   },
   {
    "duration": 75,
    "start_time": "2021-10-18T19:44:00.649Z"
   },
   {
    "duration": 75,
    "start_time": "2021-10-18T19:44:00.726Z"
   },
   {
    "duration": 45,
    "start_time": "2021-10-18T19:44:15.757Z"
   },
   {
    "duration": 46,
    "start_time": "2021-10-18T19:44:42.556Z"
   },
   {
    "duration": 10364,
    "start_time": "2021-10-18T19:50:58.936Z"
   },
   {
    "duration": 584,
    "start_time": "2021-10-18T19:51:09.302Z"
   },
   {
    "duration": 9,
    "start_time": "2021-10-18T19:51:09.890Z"
   },
   {
    "duration": 25,
    "start_time": "2021-10-18T19:51:09.902Z"
   },
   {
    "duration": 17,
    "start_time": "2021-10-18T19:51:09.930Z"
   },
   {
    "duration": 32,
    "start_time": "2021-10-18T19:51:09.950Z"
   },
   {
    "duration": 33,
    "start_time": "2021-10-18T19:51:09.985Z"
   },
   {
    "duration": 12,
    "start_time": "2021-10-18T19:51:10.022Z"
   },
   {
    "duration": 446,
    "start_time": "2021-10-18T19:51:10.037Z"
   },
   {
    "duration": 17,
    "start_time": "2021-10-18T19:51:10.485Z"
   },
   {
    "duration": 450,
    "start_time": "2021-10-18T19:51:10.505Z"
   },
   {
    "duration": 26,
    "start_time": "2021-10-18T19:51:10.957Z"
   },
   {
    "duration": 12,
    "start_time": "2021-10-18T19:51:10.986Z"
   },
   {
    "duration": 26,
    "start_time": "2021-10-18T19:51:11.001Z"
   },
   {
    "duration": 12,
    "start_time": "2021-10-18T19:51:11.031Z"
   },
   {
    "duration": 462,
    "start_time": "2021-10-18T19:51:11.045Z"
   },
   {
    "duration": 17,
    "start_time": "2021-10-18T19:51:11.509Z"
   },
   {
    "duration": 505,
    "start_time": "2021-10-18T19:51:11.528Z"
   },
   {
    "duration": 22,
    "start_time": "2021-10-18T19:51:12.036Z"
   },
   {
    "duration": 24,
    "start_time": "2021-10-18T19:51:12.060Z"
   },
   {
    "duration": 101,
    "start_time": "2021-10-18T19:51:12.087Z"
   },
   {
    "duration": 57,
    "start_time": "2021-10-18T19:51:12.190Z"
   },
   {
    "duration": 78,
    "start_time": "2021-10-18T19:51:12.251Z"
   },
   {
    "duration": 57,
    "start_time": "2021-10-18T19:51:12.331Z"
   },
   {
    "duration": 20,
    "start_time": "2021-10-18T19:51:12.390Z"
   },
   {
    "duration": 29,
    "start_time": "2021-10-18T19:51:12.412Z"
   },
   {
    "duration": 24,
    "start_time": "2021-10-18T19:51:29.846Z"
   },
   {
    "duration": 21,
    "start_time": "2021-10-18T20:22:19.068Z"
   },
   {
    "duration": 370,
    "start_time": "2021-10-18T20:40:30.770Z"
   },
   {
    "duration": 518,
    "start_time": "2021-10-18T20:40:35.761Z"
   },
   {
    "duration": 10,
    "start_time": "2021-10-18T20:40:36.283Z"
   },
   {
    "duration": 17,
    "start_time": "2021-10-18T20:40:36.296Z"
   },
   {
    "duration": 23,
    "start_time": "2021-10-18T20:40:36.316Z"
   },
   {
    "duration": 23,
    "start_time": "2021-10-18T20:40:36.342Z"
   },
   {
    "duration": 34,
    "start_time": "2021-10-18T20:40:36.368Z"
   },
   {
    "duration": 21,
    "start_time": "2021-10-18T20:40:36.405Z"
   },
   {
    "duration": 452,
    "start_time": "2021-10-18T20:40:36.430Z"
   },
   {
    "duration": 18,
    "start_time": "2021-10-18T20:40:36.887Z"
   },
   {
    "duration": 451,
    "start_time": "2021-10-18T20:40:36.907Z"
   },
   {
    "duration": 22,
    "start_time": "2021-10-18T20:40:37.361Z"
   },
   {
    "duration": 12,
    "start_time": "2021-10-18T20:40:37.386Z"
   },
   {
    "duration": 28,
    "start_time": "2021-10-18T20:40:37.400Z"
   },
   {
    "duration": 12,
    "start_time": "2021-10-18T20:40:37.431Z"
   },
   {
    "duration": 546,
    "start_time": "2021-10-18T20:40:37.445Z"
   },
   {
    "duration": 16,
    "start_time": "2021-10-18T20:40:37.993Z"
   },
   {
    "duration": 441,
    "start_time": "2021-10-18T20:40:38.011Z"
   },
   {
    "duration": 33,
    "start_time": "2021-10-18T20:40:38.455Z"
   },
   {
    "duration": 8,
    "start_time": "2021-10-18T20:40:38.491Z"
   },
   {
    "duration": 110,
    "start_time": "2021-10-18T20:40:38.501Z"
   },
   {
    "duration": 75,
    "start_time": "2021-10-18T20:40:38.613Z"
   },
   {
    "duration": 64,
    "start_time": "2021-10-18T20:40:38.691Z"
   },
   {
    "duration": 66,
    "start_time": "2021-10-18T20:40:38.759Z"
   },
   {
    "duration": 21,
    "start_time": "2021-10-18T20:40:38.827Z"
   },
   {
    "duration": 41,
    "start_time": "2021-10-18T20:40:38.850Z"
   },
   {
    "duration": 10122,
    "start_time": "2021-10-18T20:40:38.893Z"
   },
   {
    "duration": 10336,
    "start_time": "2021-10-18T20:40:49.019Z"
   },
   {
    "duration": 536,
    "start_time": "2021-10-18T20:41:09.902Z"
   },
   {
    "duration": 491,
    "start_time": "2021-10-18T20:41:10.441Z"
   },
   {
    "duration": 9,
    "start_time": "2021-10-18T20:41:10.934Z"
   },
   {
    "duration": 29,
    "start_time": "2021-10-18T20:41:10.945Z"
   },
   {
    "duration": 18,
    "start_time": "2021-10-18T20:41:10.977Z"
   },
   {
    "duration": 27,
    "start_time": "2021-10-18T20:41:10.997Z"
   },
   {
    "duration": 38,
    "start_time": "2021-10-18T20:41:11.027Z"
   },
   {
    "duration": 11,
    "start_time": "2021-10-18T20:41:11.068Z"
   },
   {
    "duration": 505,
    "start_time": "2021-10-18T20:41:11.083Z"
   },
   {
    "duration": 19,
    "start_time": "2021-10-18T20:41:11.591Z"
   },
   {
    "duration": 455,
    "start_time": "2021-10-18T20:41:11.612Z"
   },
   {
    "duration": 25,
    "start_time": "2021-10-18T20:41:12.070Z"
   },
   {
    "duration": 18,
    "start_time": "2021-10-18T20:41:12.098Z"
   },
   {
    "duration": 31,
    "start_time": "2021-10-18T20:41:12.120Z"
   },
   {
    "duration": 11,
    "start_time": "2021-10-18T20:41:12.154Z"
   },
   {
    "duration": 452,
    "start_time": "2021-10-18T20:41:12.182Z"
   },
   {
    "duration": 17,
    "start_time": "2021-10-18T20:41:12.637Z"
   },
   {
    "duration": 470,
    "start_time": "2021-10-18T20:41:12.657Z"
   },
   {
    "duration": 24,
    "start_time": "2021-10-18T20:41:13.129Z"
   },
   {
    "duration": 27,
    "start_time": "2021-10-18T20:41:13.156Z"
   },
   {
    "duration": 99,
    "start_time": "2021-10-18T20:41:13.186Z"
   },
   {
    "duration": 58,
    "start_time": "2021-10-18T20:41:13.287Z"
   },
   {
    "duration": 79,
    "start_time": "2021-10-18T20:41:13.348Z"
   },
   {
    "duration": 58,
    "start_time": "2021-10-18T20:41:13.430Z"
   },
   {
    "duration": 20,
    "start_time": "2021-10-18T20:41:13.490Z"
   },
   {
    "duration": 20,
    "start_time": "2021-10-18T20:41:13.512Z"
   },
   {
    "duration": 10209,
    "start_time": "2021-10-18T20:41:13.534Z"
   },
   {
    "duration": 10224,
    "start_time": "2021-10-18T20:41:23.745Z"
   },
   {
    "duration": 10263,
    "start_time": "2021-10-18T20:41:33.971Z"
   },
   {
    "duration": 23,
    "start_time": "2021-10-18T20:41:44.236Z"
   },
   {
    "duration": 46,
    "start_time": "2021-10-18T20:41:44.261Z"
   },
   {
    "duration": 536,
    "start_time": "2021-10-18T20:41:46.364Z"
   },
   {
    "duration": 33,
    "start_time": "2021-10-18T20:44:24.098Z"
   },
   {
    "duration": 39,
    "start_time": "2021-10-18T20:44:46.154Z"
   },
   {
    "duration": 36,
    "start_time": "2021-10-18T20:45:19.263Z"
   },
   {
    "duration": 36,
    "start_time": "2021-10-18T20:45:38.204Z"
   },
   {
    "duration": 592,
    "start_time": "2021-10-18T20:51:25.374Z"
   },
   {
    "duration": 8,
    "start_time": "2021-10-18T20:51:25.969Z"
   },
   {
    "duration": 22,
    "start_time": "2021-10-18T20:51:25.980Z"
   },
   {
    "duration": 21,
    "start_time": "2021-10-18T20:51:26.005Z"
   },
   {
    "duration": 29,
    "start_time": "2021-10-18T20:51:26.029Z"
   },
   {
    "duration": 30,
    "start_time": "2021-10-18T20:51:26.060Z"
   },
   {
    "duration": 15,
    "start_time": "2021-10-18T20:51:26.092Z"
   },
   {
    "duration": 448,
    "start_time": "2021-10-18T20:51:26.110Z"
   },
   {
    "duration": 26,
    "start_time": "2021-10-18T20:51:26.562Z"
   },
   {
    "duration": 457,
    "start_time": "2021-10-18T20:51:26.591Z"
   },
   {
    "duration": 15,
    "start_time": "2021-10-18T20:51:27.050Z"
   },
   {
    "duration": 24,
    "start_time": "2021-10-18T20:51:27.067Z"
   },
   {
    "duration": 29,
    "start_time": "2021-10-18T20:51:27.094Z"
   },
   {
    "duration": 11,
    "start_time": "2021-10-18T20:51:27.125Z"
   },
   {
    "duration": 535,
    "start_time": "2021-10-18T20:51:27.139Z"
   },
   {
    "duration": 19,
    "start_time": "2021-10-18T20:51:27.682Z"
   },
   {
    "duration": 464,
    "start_time": "2021-10-18T20:51:27.704Z"
   },
   {
    "duration": 30,
    "start_time": "2021-10-18T20:51:28.170Z"
   },
   {
    "duration": 12,
    "start_time": "2021-10-18T20:51:28.203Z"
   },
   {
    "duration": 105,
    "start_time": "2021-10-18T20:51:28.218Z"
   },
   {
    "duration": 71,
    "start_time": "2021-10-18T20:51:28.325Z"
   },
   {
    "duration": 61,
    "start_time": "2021-10-18T20:51:28.399Z"
   },
   {
    "duration": 64,
    "start_time": "2021-10-18T20:51:28.462Z"
   },
   {
    "duration": 20,
    "start_time": "2021-10-18T20:51:28.529Z"
   },
   {
    "duration": 45,
    "start_time": "2021-10-18T20:51:28.551Z"
   },
   {
    "duration": 10515,
    "start_time": "2021-10-18T20:51:28.598Z"
   },
   {
    "duration": 10605,
    "start_time": "2021-10-18T20:51:39.120Z"
   },
   {
    "duration": 10379,
    "start_time": "2021-10-18T20:51:49.728Z"
   },
   {
    "duration": 23,
    "start_time": "2021-10-18T20:52:00.110Z"
   },
   {
    "duration": 49,
    "start_time": "2021-10-18T20:52:00.135Z"
   },
   {
    "duration": 254,
    "start_time": "2021-10-18T20:52:00.188Z"
   },
   {
    "duration": 272,
    "start_time": "2021-10-18T20:52:36.091Z"
   },
   {
    "duration": 505,
    "start_time": "2021-10-18T20:54:57.808Z"
   },
   {
    "duration": 620,
    "start_time": "2021-10-18T20:56:07.049Z"
   },
   {
    "duration": 497,
    "start_time": "2021-10-18T20:58:08.464Z"
   },
   {
    "duration": 35,
    "start_time": "2021-10-18T20:58:13.887Z"
   },
   {
    "duration": 258,
    "start_time": "2021-10-18T22:21:27.216Z"
   },
   {
    "duration": 707,
    "start_time": "2021-10-18T22:21:36.830Z"
   },
   {
    "duration": 303,
    "start_time": "2021-10-18T22:21:58.557Z"
   },
   {
    "duration": 329,
    "start_time": "2021-10-18T22:22:53.641Z"
   },
   {
    "duration": 361,
    "start_time": "2021-10-18T22:23:34.342Z"
   },
   {
    "duration": 350,
    "start_time": "2021-10-18T22:24:04.466Z"
   },
   {
    "duration": 794,
    "start_time": "2021-10-18T22:25:37.497Z"
   },
   {
    "duration": -155,
    "start_time": "2021-10-18T22:26:19.989Z"
   },
   {
    "duration": 7365,
    "start_time": "2021-10-18T22:26:31.071Z"
   },
   {
    "duration": 7297,
    "start_time": "2021-10-18T22:27:08.570Z"
   },
   {
    "duration": 27,
    "start_time": "2021-10-18T22:27:35.217Z"
   },
   {
    "duration": 7118,
    "start_time": "2021-10-18T22:27:55.219Z"
   },
   {
    "duration": 27,
    "start_time": "2021-10-18T22:28:22.624Z"
   },
   {
    "duration": 6,
    "start_time": "2021-10-18T22:29:53.022Z"
   },
   {
    "duration": 374,
    "start_time": "2021-10-18T22:30:09.263Z"
   },
   {
    "duration": 93,
    "start_time": "2021-10-18T22:33:55.900Z"
   },
   {
    "duration": 368,
    "start_time": "2021-10-18T22:34:40.458Z"
   },
   {
    "duration": 373,
    "start_time": "2021-10-18T22:35:12.800Z"
   },
   {
    "duration": 378,
    "start_time": "2021-10-18T22:35:44.366Z"
   },
   {
    "duration": 330,
    "start_time": "2021-10-18T22:37:10.498Z"
   },
   {
    "duration": 366,
    "start_time": "2021-10-18T22:39:31.805Z"
   },
   {
    "duration": 366,
    "start_time": "2021-10-18T22:42:35.282Z"
   },
   {
    "duration": 548,
    "start_time": "2021-10-18T22:46:50.916Z"
   },
   {
    "duration": 789,
    "start_time": "2021-10-18T22:48:46.699Z"
   },
   {
    "duration": 484,
    "start_time": "2021-10-18T22:48:56.338Z"
   },
   {
    "duration": 440,
    "start_time": "2021-10-18T22:49:25.874Z"
   },
   {
    "duration": 471,
    "start_time": "2021-10-18T22:50:22.783Z"
   },
   {
    "duration": 789,
    "start_time": "2021-10-18T22:51:59.786Z"
   },
   {
    "duration": 471,
    "start_time": "2021-10-18T22:52:06.432Z"
   },
   {
    "duration": 485,
    "start_time": "2021-10-18T22:52:33.651Z"
   },
   {
    "duration": 487,
    "start_time": "2021-10-18T22:52:49.962Z"
   },
   {
    "duration": 639,
    "start_time": "2021-10-18T22:53:52.791Z"
   },
   {
    "duration": 624,
    "start_time": "2021-10-18T23:13:24.484Z"
   },
   {
    "duration": 621,
    "start_time": "2021-10-18T23:13:44.765Z"
   },
   {
    "duration": 620,
    "start_time": "2021-10-18T23:14:08.630Z"
   },
   {
    "duration": 482,
    "start_time": "2021-10-18T23:18:39.271Z"
   },
   {
    "duration": 491,
    "start_time": "2021-10-18T23:20:22.433Z"
   },
   {
    "duration": 470,
    "start_time": "2021-10-18T23:20:49.584Z"
   },
   {
    "duration": 478,
    "start_time": "2021-10-18T23:20:57.461Z"
   },
   {
    "duration": 47,
    "start_time": "2021-10-18T23:23:11.951Z"
   },
   {
    "duration": 667,
    "start_time": "2021-10-18T23:23:22.539Z"
   },
   {
    "duration": 519,
    "start_time": "2021-10-18T23:23:31.204Z"
   },
   {
    "duration": 43,
    "start_time": "2021-10-18T23:23:32.136Z"
   },
   {
    "duration": 447,
    "start_time": "2021-10-18T23:25:16.490Z"
   },
   {
    "duration": 45,
    "start_time": "2021-10-18T23:26:51.674Z"
   },
   {
    "duration": 553,
    "start_time": "2021-10-18T23:44:06.840Z"
   },
   {
    "duration": 499,
    "start_time": "2021-10-18T23:45:56.361Z"
   },
   {
    "duration": 19,
    "start_time": "2021-10-18T23:45:56.863Z"
   },
   {
    "duration": 16,
    "start_time": "2021-10-18T23:45:56.885Z"
   },
   {
    "duration": 9,
    "start_time": "2021-10-18T23:45:56.904Z"
   },
   {
    "duration": 17,
    "start_time": "2021-10-18T23:45:56.915Z"
   },
   {
    "duration": 57,
    "start_time": "2021-10-18T23:45:56.934Z"
   },
   {
    "duration": 10,
    "start_time": "2021-10-18T23:45:56.994Z"
   },
   {
    "duration": 550,
    "start_time": "2021-10-18T23:45:57.007Z"
   },
   {
    "duration": 30,
    "start_time": "2021-10-18T23:45:57.562Z"
   },
   {
    "duration": 577,
    "start_time": "2021-10-18T23:45:57.595Z"
   },
   {
    "duration": 15,
    "start_time": "2021-10-18T23:45:58.182Z"
   },
   {
    "duration": 9,
    "start_time": "2021-10-18T23:45:58.200Z"
   },
   {
    "duration": 20,
    "start_time": "2021-10-18T23:45:58.211Z"
   },
   {
    "duration": 11,
    "start_time": "2021-10-18T23:45:58.234Z"
   },
   {
    "duration": 531,
    "start_time": "2021-10-18T23:45:58.283Z"
   },
   {
    "duration": 16,
    "start_time": "2021-10-18T23:45:58.817Z"
   },
   {
    "duration": 647,
    "start_time": "2021-10-18T23:45:58.835Z"
   },
   {
    "duration": 21,
    "start_time": "2021-10-18T23:45:59.484Z"
   },
   {
    "duration": 7,
    "start_time": "2021-10-18T23:45:59.508Z"
   },
   {
    "duration": 110,
    "start_time": "2021-10-18T23:45:59.518Z"
   },
   {
    "duration": 70,
    "start_time": "2021-10-18T23:45:59.630Z"
   },
   {
    "duration": 59,
    "start_time": "2021-10-18T23:45:59.702Z"
   },
   {
    "duration": 60,
    "start_time": "2021-10-18T23:45:59.764Z"
   },
   {
    "duration": 19,
    "start_time": "2021-10-18T23:45:59.827Z"
   },
   {
    "duration": 43,
    "start_time": "2021-10-18T23:45:59.848Z"
   },
   {
    "duration": 10318,
    "start_time": "2021-10-18T23:45:59.894Z"
   },
   {
    "duration": 10311,
    "start_time": "2021-10-18T23:46:10.217Z"
   },
   {
    "duration": 10261,
    "start_time": "2021-10-18T23:46:20.531Z"
   },
   {
    "duration": 22,
    "start_time": "2021-10-18T23:46:30.794Z"
   },
   {
    "duration": 33,
    "start_time": "2021-10-18T23:46:30.819Z"
   },
   {
    "duration": 667,
    "start_time": "2021-10-18T23:46:30.854Z"
   },
   {
    "duration": 499,
    "start_time": "2021-10-18T23:46:31.524Z"
   },
   {
    "duration": 65,
    "start_time": "2021-10-18T23:46:32.025Z"
   },
   {
    "duration": 718,
    "start_time": "2021-10-18T23:46:32.093Z"
   },
   {
    "duration": 514,
    "start_time": "2021-10-18T23:46:32.814Z"
   },
   {
    "duration": 66,
    "start_time": "2021-10-18T23:46:33.330Z"
   },
   {
    "duration": 678,
    "start_time": "2021-10-18T23:46:33.399Z"
   },
   {
    "duration": 551,
    "start_time": "2021-10-18T23:46:34.084Z"
   },
   {
    "duration": 55,
    "start_time": "2021-10-18T23:46:34.637Z"
   },
   {
    "duration": 12,
    "start_time": "2021-10-18T23:46:34.695Z"
   },
   {
    "duration": 530,
    "start_time": "2021-10-18T23:46:50.161Z"
   },
   {
    "duration": 9,
    "start_time": "2021-10-18T23:46:52.840Z"
   },
   {
    "duration": 13,
    "start_time": "2021-10-18T23:46:53.709Z"
   },
   {
    "duration": 9,
    "start_time": "2021-10-18T23:46:54.425Z"
   },
   {
    "duration": 15,
    "start_time": "2021-10-18T23:46:54.594Z"
   },
   {
    "duration": 22,
    "start_time": "2021-10-18T23:46:55.109Z"
   },
   {
    "duration": 12,
    "start_time": "2021-10-18T23:46:55.332Z"
   },
   {
    "duration": 537,
    "start_time": "2021-10-18T23:46:55.667Z"
   },
   {
    "duration": 18,
    "start_time": "2021-10-18T23:46:56.235Z"
   },
   {
    "duration": 563,
    "start_time": "2021-10-18T23:46:56.500Z"
   },
   {
    "duration": 23,
    "start_time": "2021-10-18T23:46:57.065Z"
   },
   {
    "duration": 11,
    "start_time": "2021-10-18T23:46:57.201Z"
   },
   {
    "duration": 37,
    "start_time": "2021-10-18T23:46:57.739Z"
   },
   {
    "duration": 24,
    "start_time": "2021-10-18T23:46:57.894Z"
   },
   {
    "duration": 668,
    "start_time": "2021-10-18T23:46:58.214Z"
   },
   {
    "duration": 17,
    "start_time": "2021-10-18T23:46:58.884Z"
   },
   {
    "duration": 566,
    "start_time": "2021-10-18T23:46:58.903Z"
   },
   {
    "duration": 21,
    "start_time": "2021-10-18T23:46:59.625Z"
   },
   {
    "duration": 9,
    "start_time": "2021-10-18T23:47:00.486Z"
   },
   {
    "duration": 86,
    "start_time": "2021-10-18T23:47:00.810Z"
   },
   {
    "duration": 57,
    "start_time": "2021-10-18T23:47:02.432Z"
   },
   {
    "duration": 64,
    "start_time": "2021-10-18T23:47:02.728Z"
   },
   {
    "duration": 44,
    "start_time": "2021-10-18T23:47:03.034Z"
   },
   {
    "duration": 21,
    "start_time": "2021-10-18T23:47:03.675Z"
   },
   {
    "duration": 20,
    "start_time": "2021-10-18T23:47:08.787Z"
   },
   {
    "duration": 10313,
    "start_time": "2021-10-18T23:47:10.501Z"
   },
   {
    "duration": 10380,
    "start_time": "2021-10-18T23:47:23.739Z"
   },
   {
    "duration": 10245,
    "start_time": "2021-10-18T23:47:40.240Z"
   },
   {
    "duration": 23,
    "start_time": "2021-10-18T23:47:55.240Z"
   },
   {
    "duration": 26,
    "start_time": "2021-10-18T23:48:05.643Z"
   },
   {
    "duration": 631,
    "start_time": "2021-10-18T23:48:13.775Z"
   },
   {
    "duration": 460,
    "start_time": "2021-10-18T23:48:15.685Z"
   },
   {
    "duration": 48,
    "start_time": "2021-10-18T23:48:20.752Z"
   },
   {
    "duration": 725,
    "start_time": "2021-10-18T23:48:27.608Z"
   },
   {
    "duration": 509,
    "start_time": "2021-10-18T23:48:32.151Z"
   },
   {
    "duration": 42,
    "start_time": "2021-10-18T23:48:38.449Z"
   },
   {
    "duration": 710,
    "start_time": "2021-10-18T23:48:42.543Z"
   },
   {
    "duration": 492,
    "start_time": "2021-10-18T23:48:48.151Z"
   },
   {
    "duration": 43,
    "start_time": "2021-10-18T23:48:52.815Z"
   },
   {
    "duration": 14,
    "start_time": "2021-10-18T23:49:11.095Z"
   },
   {
    "duration": 15,
    "start_time": "2021-10-18T23:50:51.245Z"
   },
   {
    "duration": 267,
    "start_time": "2021-10-18T23:52:03.324Z"
   },
   {
    "duration": 7,
    "start_time": "2021-10-18T23:52:27.414Z"
   },
   {
    "duration": 7,
    "start_time": "2021-10-18T23:53:10.055Z"
   },
   {
    "duration": 6,
    "start_time": "2021-10-18T23:57:22.908Z"
   },
   {
    "duration": 6,
    "start_time": "2021-10-18T23:58:17.335Z"
   },
   {
    "duration": 357,
    "start_time": "2021-10-18T23:59:12.112Z"
   },
   {
    "duration": 9,
    "start_time": "2021-10-18T23:59:25.050Z"
   },
   {
    "duration": 14,
    "start_time": "2021-10-18T23:59:27.350Z"
   },
   {
    "duration": 7,
    "start_time": "2021-10-18T23:59:38.700Z"
   },
   {
    "duration": 7,
    "start_time": "2021-10-19T00:00:12.448Z"
   },
   {
    "duration": 7,
    "start_time": "2021-10-19T00:03:07.584Z"
   },
   {
    "duration": 6,
    "start_time": "2021-10-19T00:04:01.509Z"
   },
   {
    "duration": 6,
    "start_time": "2021-10-19T00:04:18.030Z"
   },
   {
    "duration": 512,
    "start_time": "2021-10-19T00:05:54.411Z"
   },
   {
    "duration": 9,
    "start_time": "2021-10-19T00:05:54.926Z"
   },
   {
    "duration": 19,
    "start_time": "2021-10-19T00:05:54.939Z"
   },
   {
    "duration": 30,
    "start_time": "2021-10-19T00:05:54.960Z"
   },
   {
    "duration": 18,
    "start_time": "2021-10-19T00:05:54.993Z"
   },
   {
    "duration": 24,
    "start_time": "2021-10-19T00:05:55.013Z"
   },
   {
    "duration": 12,
    "start_time": "2021-10-19T00:05:55.039Z"
   },
   {
    "duration": 545,
    "start_time": "2021-10-19T00:05:55.083Z"
   },
   {
    "duration": 17,
    "start_time": "2021-10-19T00:05:55.632Z"
   },
   {
    "duration": 666,
    "start_time": "2021-10-19T00:05:55.652Z"
   },
   {
    "duration": 14,
    "start_time": "2021-10-19T00:05:56.321Z"
   },
   {
    "duration": 11,
    "start_time": "2021-10-19T00:05:56.338Z"
   },
   {
    "duration": 46,
    "start_time": "2021-10-19T00:05:56.351Z"
   },
   {
    "duration": 12,
    "start_time": "2021-10-19T00:05:56.399Z"
   },
   {
    "duration": 558,
    "start_time": "2021-10-19T00:05:56.413Z"
   },
   {
    "duration": 22,
    "start_time": "2021-10-19T00:05:56.974Z"
   },
   {
    "duration": 563,
    "start_time": "2021-10-19T00:05:56.999Z"
   },
   {
    "duration": 29,
    "start_time": "2021-10-19T00:05:57.565Z"
   },
   {
    "duration": 9,
    "start_time": "2021-10-19T00:05:57.596Z"
   },
   {
    "duration": 107,
    "start_time": "2021-10-19T00:05:57.607Z"
   },
   {
    "duration": 73,
    "start_time": "2021-10-19T00:05:57.717Z"
   },
   {
    "duration": 58,
    "start_time": "2021-10-19T00:05:57.792Z"
   },
   {
    "duration": 61,
    "start_time": "2021-10-19T00:05:57.855Z"
   },
   {
    "duration": 22,
    "start_time": "2021-10-19T00:05:57.919Z"
   },
   {
    "duration": 48,
    "start_time": "2021-10-19T00:05:57.943Z"
   },
   {
    "duration": 10636,
    "start_time": "2021-10-19T00:05:57.994Z"
   },
   {
    "duration": 10577,
    "start_time": "2021-10-19T00:06:08.632Z"
   },
   {
    "duration": 10305,
    "start_time": "2021-10-19T00:06:19.212Z"
   },
   {
    "duration": 22,
    "start_time": "2021-10-19T00:06:29.519Z"
   },
   {
    "duration": 47,
    "start_time": "2021-10-19T00:06:29.543Z"
   },
   {
    "duration": 661,
    "start_time": "2021-10-19T00:06:29.592Z"
   },
   {
    "duration": 485,
    "start_time": "2021-10-19T00:06:30.256Z"
   },
   {
    "duration": 60,
    "start_time": "2021-10-19T00:06:30.744Z"
   },
   {
    "duration": 686,
    "start_time": "2021-10-19T00:06:30.807Z"
   },
   {
    "duration": 451,
    "start_time": "2021-10-19T00:06:31.495Z"
   },
   {
    "duration": 61,
    "start_time": "2021-10-19T00:06:31.949Z"
   },
   {
    "duration": 631,
    "start_time": "2021-10-19T00:06:32.014Z"
   },
   {
    "duration": 568,
    "start_time": "2021-10-19T00:06:32.648Z"
   },
   {
    "duration": 64,
    "start_time": "2021-10-19T00:06:33.219Z"
   },
   {
    "duration": 14,
    "start_time": "2021-10-19T00:06:33.286Z"
   },
   {
    "duration": 12,
    "start_time": "2021-10-19T00:06:33.302Z"
   },
   {
    "duration": 12,
    "start_time": "2021-10-19T00:06:33.317Z"
   },
   {
    "duration": 7,
    "start_time": "2021-10-19T00:06:33.332Z"
   },
   {
    "duration": 42,
    "start_time": "2021-10-19T00:06:33.342Z"
   },
   {
    "duration": 24,
    "start_time": "2021-10-19T00:06:33.387Z"
   },
   {
    "duration": 8,
    "start_time": "2021-10-19T00:06:33.414Z"
   },
   {
    "duration": 8,
    "start_time": "2021-10-19T00:06:33.425Z"
   },
   {
    "duration": 17,
    "start_time": "2021-10-19T01:52:32.374Z"
   },
   {
    "duration": 22,
    "start_time": "2021-10-19T02:02:43.865Z"
   },
   {
    "duration": 22,
    "start_time": "2021-10-19T02:03:08.344Z"
   },
   {
    "duration": 88,
    "start_time": "2021-10-19T02:03:26.819Z"
   },
   {
    "duration": 90,
    "start_time": "2021-10-19T02:03:58.988Z"
   },
   {
    "duration": 96,
    "start_time": "2021-10-19T02:04:22.913Z"
   },
   {
    "duration": 21,
    "start_time": "2021-10-19T02:05:27.642Z"
   },
   {
    "duration": 19,
    "start_time": "2021-10-19T02:06:04.570Z"
   },
   {
    "duration": 28,
    "start_time": "2021-10-19T02:07:31.769Z"
   },
   {
    "duration": 27,
    "start_time": "2021-10-19T02:07:46.777Z"
   },
   {
    "duration": 17,
    "start_time": "2021-10-19T02:09:42.638Z"
   },
   {
    "duration": 20,
    "start_time": "2021-10-19T02:12:48.831Z"
   },
   {
    "duration": 294,
    "start_time": "2021-10-19T02:14:27.688Z"
   },
   {
    "duration": 268,
    "start_time": "2021-10-19T02:15:24.879Z"
   },
   {
    "duration": 19,
    "start_time": "2021-10-19T02:15:34.849Z"
   },
   {
    "duration": 21,
    "start_time": "2021-10-19T02:16:01.186Z"
   },
   {
    "duration": 19,
    "start_time": "2021-10-19T02:16:06.226Z"
   },
   {
    "duration": 19,
    "start_time": "2021-10-19T02:16:32.606Z"
   },
   {
    "duration": 17,
    "start_time": "2021-10-19T02:16:41.535Z"
   },
   {
    "duration": 19,
    "start_time": "2021-10-19T02:17:25.146Z"
   },
   {
    "duration": 18,
    "start_time": "2021-10-19T02:17:31.364Z"
   },
   {
    "duration": 18,
    "start_time": "2021-10-19T02:17:46.778Z"
   },
   {
    "duration": 18,
    "start_time": "2021-10-19T02:18:16.028Z"
   },
   {
    "duration": 17,
    "start_time": "2021-10-19T02:18:30.600Z"
   },
   {
    "duration": 19,
    "start_time": "2021-10-19T02:21:36.343Z"
   },
   {
    "duration": 19,
    "start_time": "2021-10-19T02:21:42.167Z"
   },
   {
    "duration": 19,
    "start_time": "2021-10-19T02:22:52.535Z"
   },
   {
    "duration": 17,
    "start_time": "2021-10-19T02:23:17.741Z"
   },
   {
    "duration": 263,
    "start_time": "2021-10-19T02:25:12.752Z"
   },
   {
    "duration": 86,
    "start_time": "2021-10-19T02:27:18.782Z"
   },
   {
    "duration": 95,
    "start_time": "2021-10-19T02:27:33.022Z"
   },
   {
    "duration": 265,
    "start_time": "2021-10-19T02:27:59.796Z"
   },
   {
    "duration": 19,
    "start_time": "2021-10-19T02:28:09.654Z"
   },
   {
    "duration": 18,
    "start_time": "2021-10-19T02:28:32.022Z"
   },
   {
    "duration": 19,
    "start_time": "2021-10-19T02:28:50.921Z"
   },
   {
    "duration": 300,
    "start_time": "2021-10-19T02:30:44.298Z"
   },
   {
    "duration": 20,
    "start_time": "2021-10-19T02:30:52.168Z"
   },
   {
    "duration": 20,
    "start_time": "2021-10-19T02:31:02.913Z"
   },
   {
    "duration": 14,
    "start_time": "2021-10-19T02:31:11.718Z"
   },
   {
    "duration": 18,
    "start_time": "2021-10-19T02:31:22.389Z"
   },
   {
    "duration": 955,
    "start_time": "2021-10-19T02:32:10.683Z"
   },
   {
    "duration": 21,
    "start_time": "2021-10-19T02:32:38.762Z"
   },
   {
    "duration": 20,
    "start_time": "2021-10-19T02:32:55.020Z"
   },
   {
    "duration": 24,
    "start_time": "2021-10-19T02:35:07.949Z"
   },
   {
    "duration": 18,
    "start_time": "2021-10-19T02:35:14.677Z"
   },
   {
    "duration": 24,
    "start_time": "2021-10-19T02:35:19.648Z"
   },
   {
    "duration": 26,
    "start_time": "2021-10-19T02:36:23.339Z"
   },
   {
    "duration": 29,
    "start_time": "2021-10-19T02:37:57.823Z"
   },
   {
    "duration": 28,
    "start_time": "2021-10-19T02:38:06.773Z"
   },
   {
    "duration": 27,
    "start_time": "2021-10-19T02:38:22.078Z"
   },
   {
    "duration": 29,
    "start_time": "2021-10-19T02:41:07.056Z"
   },
   {
    "duration": 30,
    "start_time": "2021-10-19T02:41:41.903Z"
   },
   {
    "duration": 28,
    "start_time": "2021-10-19T02:45:40.223Z"
   },
   {
    "duration": 29,
    "start_time": "2021-10-19T02:45:50.199Z"
   },
   {
    "duration": 521,
    "start_time": "2021-10-19T03:25:11.883Z"
   },
   {
    "duration": 9,
    "start_time": "2021-10-19T03:25:12.406Z"
   },
   {
    "duration": 27,
    "start_time": "2021-10-19T03:25:12.419Z"
   },
   {
    "duration": 28,
    "start_time": "2021-10-19T03:25:12.449Z"
   },
   {
    "duration": 38,
    "start_time": "2021-10-19T03:25:12.480Z"
   },
   {
    "duration": 36,
    "start_time": "2021-10-19T03:25:12.520Z"
   },
   {
    "duration": 12,
    "start_time": "2021-10-19T03:25:12.559Z"
   },
   {
    "duration": 587,
    "start_time": "2021-10-19T03:25:12.574Z"
   },
   {
    "duration": 22,
    "start_time": "2021-10-19T03:25:13.165Z"
   },
   {
    "duration": 583,
    "start_time": "2021-10-19T03:25:13.190Z"
   },
   {
    "duration": 15,
    "start_time": "2021-10-19T03:25:13.775Z"
   },
   {
    "duration": 10,
    "start_time": "2021-10-19T03:25:13.793Z"
   },
   {
    "duration": 19,
    "start_time": "2021-10-19T03:25:13.805Z"
   },
   {
    "duration": 10,
    "start_time": "2021-10-19T03:25:13.827Z"
   },
   {
    "duration": 647,
    "start_time": "2021-10-19T03:25:13.839Z"
   },
   {
    "duration": 18,
    "start_time": "2021-10-19T03:25:14.488Z"
   },
   {
    "duration": 647,
    "start_time": "2021-10-19T03:25:14.508Z"
   },
   {
    "duration": 33,
    "start_time": "2021-10-19T03:25:15.158Z"
   },
   {
    "duration": 8,
    "start_time": "2021-10-19T03:25:15.193Z"
   },
   {
    "duration": 103,
    "start_time": "2021-10-19T03:25:15.203Z"
   },
   {
    "duration": 58,
    "start_time": "2021-10-19T03:25:15.309Z"
   },
   {
    "duration": 57,
    "start_time": "2021-10-19T03:25:15.382Z"
   },
   {
    "duration": 64,
    "start_time": "2021-10-19T03:25:15.441Z"
   },
   {
    "duration": 20,
    "start_time": "2021-10-19T03:25:15.508Z"
   },
   {
    "duration": 21,
    "start_time": "2021-10-19T03:25:15.530Z"
   },
   {
    "duration": 10398,
    "start_time": "2021-10-19T03:25:15.553Z"
   },
   {
    "duration": 10446,
    "start_time": "2021-10-19T03:25:25.957Z"
   },
   {
    "duration": 10730,
    "start_time": "2021-10-19T03:25:36.407Z"
   },
   {
    "duration": 22,
    "start_time": "2021-10-19T03:25:47.139Z"
   },
   {
    "duration": 43,
    "start_time": "2021-10-19T03:25:47.164Z"
   },
   {
    "duration": 638,
    "start_time": "2021-10-19T03:25:47.209Z"
   },
   {
    "duration": 518,
    "start_time": "2021-10-19T03:25:47.850Z"
   },
   {
    "duration": 65,
    "start_time": "2021-10-19T03:25:48.371Z"
   },
   {
    "duration": 824,
    "start_time": "2021-10-19T03:25:48.439Z"
   },
   {
    "duration": 577,
    "start_time": "2021-10-19T03:25:49.266Z"
   },
   {
    "duration": 55,
    "start_time": "2021-10-19T03:25:49.846Z"
   },
   {
    "duration": 642,
    "start_time": "2021-10-19T03:25:49.904Z"
   },
   {
    "duration": 479,
    "start_time": "2021-10-19T03:25:50.548Z"
   },
   {
    "duration": 58,
    "start_time": "2021-10-19T03:25:51.029Z"
   },
   {
    "duration": 29,
    "start_time": "2021-10-19T03:25:51.090Z"
   },
   {
    "duration": 13,
    "start_time": "2021-10-19T03:25:51.122Z"
   },
   {
    "duration": 7,
    "start_time": "2021-10-19T03:25:51.137Z"
   },
   {
    "duration": 40,
    "start_time": "2021-10-19T03:25:51.146Z"
   },
   {
    "duration": 8,
    "start_time": "2021-10-19T03:25:51.189Z"
   },
   {
    "duration": 13,
    "start_time": "2021-10-19T03:25:51.199Z"
   },
   {
    "duration": 17,
    "start_time": "2021-10-19T03:25:51.214Z"
   },
   {
    "duration": 7,
    "start_time": "2021-10-19T03:25:51.234Z"
   },
   {
    "duration": 7,
    "start_time": "2021-10-19T03:25:51.282Z"
   },
   {
    "duration": 231,
    "start_time": "2021-10-19T03:44:08.872Z"
   },
   {
    "duration": 8,
    "start_time": "2021-10-19T03:44:18.911Z"
   },
   {
    "duration": 13,
    "start_time": "2021-10-19T03:44:39.823Z"
   },
   {
    "duration": 7324,
    "start_time": "2021-10-19T03:51:21.280Z"
   },
   {
    "duration": 10,
    "start_time": "2021-10-19T03:51:49.957Z"
   },
   {
    "duration": 13,
    "start_time": "2021-10-19T03:52:45.158Z"
   },
   {
    "duration": 14,
    "start_time": "2021-10-19T03:57:00.344Z"
   },
   {
    "duration": 523,
    "start_time": "2021-10-19T04:00:19.309Z"
   },
   {
    "duration": 9,
    "start_time": "2021-10-19T04:00:19.835Z"
   },
   {
    "duration": 17,
    "start_time": "2021-10-19T04:00:19.847Z"
   },
   {
    "duration": 9,
    "start_time": "2021-10-19T04:00:19.883Z"
   },
   {
    "duration": 18,
    "start_time": "2021-10-19T04:00:19.895Z"
   },
   {
    "duration": 25,
    "start_time": "2021-10-19T04:00:19.915Z"
   },
   {
    "duration": 41,
    "start_time": "2021-10-19T04:00:19.943Z"
   },
   {
    "duration": 565,
    "start_time": "2021-10-19T04:00:19.989Z"
   },
   {
    "duration": 32,
    "start_time": "2021-10-19T04:00:20.557Z"
   },
   {
    "duration": 586,
    "start_time": "2021-10-19T04:00:20.591Z"
   },
   {
    "duration": 15,
    "start_time": "2021-10-19T04:00:21.183Z"
   },
   {
    "duration": 12,
    "start_time": "2021-10-19T04:00:21.201Z"
   },
   {
    "duration": 24,
    "start_time": "2021-10-19T04:00:21.215Z"
   },
   {
    "duration": 41,
    "start_time": "2021-10-19T04:00:21.241Z"
   },
   {
    "duration": 563,
    "start_time": "2021-10-19T04:00:21.284Z"
   },
   {
    "duration": 32,
    "start_time": "2021-10-19T04:00:21.849Z"
   },
   {
    "duration": 550,
    "start_time": "2021-10-19T04:00:21.883Z"
   },
   {
    "duration": 21,
    "start_time": "2021-10-19T04:00:22.435Z"
   },
   {
    "duration": 28,
    "start_time": "2021-10-19T04:00:22.459Z"
   },
   {
    "duration": 101,
    "start_time": "2021-10-19T04:00:22.490Z"
   },
   {
    "duration": 54,
    "start_time": "2021-10-19T04:00:22.593Z"
   },
   {
    "duration": 72,
    "start_time": "2021-10-19T04:00:22.650Z"
   },
   {
    "duration": 61,
    "start_time": "2021-10-19T04:00:22.728Z"
   },
   {
    "duration": 21,
    "start_time": "2021-10-19T04:00:22.792Z"
   },
   {
    "duration": 19,
    "start_time": "2021-10-19T04:00:22.816Z"
   },
   {
    "duration": 10422,
    "start_time": "2021-10-19T04:00:22.838Z"
   },
   {
    "duration": 10500,
    "start_time": "2021-10-19T04:00:33.263Z"
   },
   {
    "duration": 10567,
    "start_time": "2021-10-19T04:00:43.766Z"
   },
   {
    "duration": 22,
    "start_time": "2021-10-19T04:00:54.336Z"
   },
   {
    "duration": 44,
    "start_time": "2021-10-19T04:00:54.360Z"
   },
   {
    "duration": 638,
    "start_time": "2021-10-19T04:00:54.407Z"
   },
   {
    "duration": 488,
    "start_time": "2021-10-19T04:00:55.047Z"
   },
   {
    "duration": 61,
    "start_time": "2021-10-19T04:00:55.537Z"
   },
   {
    "duration": 755,
    "start_time": "2021-10-19T04:00:55.601Z"
   },
   {
    "duration": 477,
    "start_time": "2021-10-19T04:00:56.359Z"
   },
   {
    "duration": 55,
    "start_time": "2021-10-19T04:00:56.839Z"
   },
   {
    "duration": 622,
    "start_time": "2021-10-19T04:00:56.897Z"
   },
   {
    "duration": 505,
    "start_time": "2021-10-19T04:00:57.521Z"
   },
   {
    "duration": 56,
    "start_time": "2021-10-19T04:00:58.029Z"
   },
   {
    "duration": 33,
    "start_time": "2021-10-19T04:00:58.087Z"
   },
   {
    "duration": 13,
    "start_time": "2021-10-19T04:00:58.123Z"
   },
   {
    "duration": 46,
    "start_time": "2021-10-19T04:00:58.139Z"
   },
   {
    "duration": 14,
    "start_time": "2021-10-19T04:00:58.188Z"
   },
   {
    "duration": 12,
    "start_time": "2021-10-19T04:00:58.205Z"
   },
   {
    "duration": 17,
    "start_time": "2021-10-19T04:00:58.220Z"
   },
   {
    "duration": 18,
    "start_time": "2021-10-19T04:00:58.240Z"
   },
   {
    "duration": 23,
    "start_time": "2021-10-19T04:00:58.260Z"
   },
   {
    "duration": 14,
    "start_time": "2021-10-19T04:00:58.286Z"
   },
   {
    "duration": 6,
    "start_time": "2021-10-19T04:00:58.302Z"
   },
   {
    "duration": 286,
    "start_time": "2021-10-19T19:07:04.995Z"
   },
   {
    "duration": 1604,
    "start_time": "2021-10-19T19:07:09.376Z"
   },
   {
    "duration": 7,
    "start_time": "2021-10-19T19:07:10.982Z"
   },
   {
    "duration": 21,
    "start_time": "2021-10-19T19:07:10.991Z"
   },
   {
    "duration": 7,
    "start_time": "2021-10-19T19:07:11.015Z"
   },
   {
    "duration": 15,
    "start_time": "2021-10-19T19:07:11.024Z"
   },
   {
    "duration": 34,
    "start_time": "2021-10-19T19:07:11.042Z"
   },
   {
    "duration": 9,
    "start_time": "2021-10-19T19:07:11.078Z"
   },
   {
    "duration": 286,
    "start_time": "2021-10-19T19:07:11.090Z"
   },
   {
    "duration": 19,
    "start_time": "2021-10-19T19:07:11.379Z"
   },
   {
    "duration": 284,
    "start_time": "2021-10-19T19:07:11.400Z"
   },
   {
    "duration": 11,
    "start_time": "2021-10-19T19:07:11.686Z"
   },
   {
    "duration": 9,
    "start_time": "2021-10-19T19:07:11.699Z"
   },
   {
    "duration": 15,
    "start_time": "2021-10-19T19:07:11.710Z"
   },
   {
    "duration": 7,
    "start_time": "2021-10-19T19:07:11.728Z"
   },
   {
    "duration": 302,
    "start_time": "2021-10-19T19:07:11.737Z"
   },
   {
    "duration": 12,
    "start_time": "2021-10-19T19:07:12.041Z"
   },
   {
    "duration": 275,
    "start_time": "2021-10-19T19:07:12.055Z"
   },
   {
    "duration": 14,
    "start_time": "2021-10-19T19:07:12.332Z"
   },
   {
    "duration": 19,
    "start_time": "2021-10-19T19:07:12.348Z"
   },
   {
    "duration": 70,
    "start_time": "2021-10-19T19:07:12.369Z"
   },
   {
    "duration": 60,
    "start_time": "2021-10-19T19:07:12.441Z"
   },
   {
    "duration": 44,
    "start_time": "2021-10-19T19:07:12.503Z"
   },
   {
    "duration": 37,
    "start_time": "2021-10-19T19:07:12.551Z"
   },
   {
    "duration": 14,
    "start_time": "2021-10-19T19:07:12.591Z"
   },
   {
    "duration": 1229,
    "start_time": "2021-10-19T19:07:12.606Z"
   },
   {
    "duration": -154,
    "start_time": "2021-10-19T19:07:13.991Z"
   },
   {
    "duration": -159,
    "start_time": "2021-10-19T19:07:13.997Z"
   },
   {
    "duration": -162,
    "start_time": "2021-10-19T19:07:14.002Z"
   },
   {
    "duration": -165,
    "start_time": "2021-10-19T19:07:14.006Z"
   },
   {
    "duration": -170,
    "start_time": "2021-10-19T19:07:14.012Z"
   },
   {
    "duration": -173,
    "start_time": "2021-10-19T19:07:14.016Z"
   },
   {
    "duration": -176,
    "start_time": "2021-10-19T19:07:14.020Z"
   },
   {
    "duration": -179,
    "start_time": "2021-10-19T19:07:14.024Z"
   },
   {
    "duration": -182,
    "start_time": "2021-10-19T19:07:14.029Z"
   },
   {
    "duration": -185,
    "start_time": "2021-10-19T19:07:14.033Z"
   },
   {
    "duration": -188,
    "start_time": "2021-10-19T19:07:14.037Z"
   },
   {
    "duration": -191,
    "start_time": "2021-10-19T19:07:14.041Z"
   },
   {
    "duration": -196,
    "start_time": "2021-10-19T19:07:14.047Z"
   },
   {
    "duration": -198,
    "start_time": "2021-10-19T19:07:14.050Z"
   },
   {
    "duration": -202,
    "start_time": "2021-10-19T19:07:14.055Z"
   },
   {
    "duration": -215,
    "start_time": "2021-10-19T19:07:14.069Z"
   },
   {
    "duration": -219,
    "start_time": "2021-10-19T19:07:14.074Z"
   },
   {
    "duration": -222,
    "start_time": "2021-10-19T19:07:14.078Z"
   },
   {
    "duration": -226,
    "start_time": "2021-10-19T19:07:14.083Z"
   },
   {
    "duration": -229,
    "start_time": "2021-10-19T19:07:14.086Z"
   },
   {
    "duration": -233,
    "start_time": "2021-10-19T19:07:14.091Z"
   },
   {
    "duration": -238,
    "start_time": "2021-10-19T19:07:14.096Z"
   },
   {
    "duration": -241,
    "start_time": "2021-10-19T19:07:14.100Z"
   },
   {
    "duration": -245,
    "start_time": "2021-10-19T19:07:14.104Z"
   },
   {
    "duration": 282,
    "start_time": "2021-10-19T19:12:07.805Z"
   },
   {
    "duration": 16,
    "start_time": "2021-10-19T19:12:15.847Z"
   },
   {
    "duration": 263,
    "start_time": "2021-10-19T19:12:26.434Z"
   },
   {
    "duration": 256,
    "start_time": "2021-10-19T19:12:30.814Z"
   },
   {
    "duration": 1186,
    "start_time": "2021-10-19T19:12:34.327Z"
   },
   {
    "duration": 10,
    "start_time": "2021-10-19T19:13:14.929Z"
   },
   {
    "duration": 7,
    "start_time": "2021-10-19T19:14:21.821Z"
   },
   {
    "duration": 25,
    "start_time": "2021-10-19T19:14:26.466Z"
   },
   {
    "duration": 23,
    "start_time": "2021-10-19T19:15:11.181Z"
   },
   {
    "duration": 5,
    "start_time": "2021-10-19T19:16:24.064Z"
   },
   {
    "duration": 6,
    "start_time": "2021-10-19T19:16:29.797Z"
   },
   {
    "duration": 6,
    "start_time": "2021-10-19T19:16:44.870Z"
   },
   {
    "duration": 5,
    "start_time": "2021-10-19T19:16:48.369Z"
   },
   {
    "duration": 80,
    "start_time": "2021-10-19T19:16:49.295Z"
   },
   {
    "duration": 5,
    "start_time": "2021-10-19T19:16:51.135Z"
   },
   {
    "duration": 7,
    "start_time": "2021-10-19T19:16:53.177Z"
   },
   {
    "duration": 598,
    "start_time": "2021-10-19T19:21:39.794Z"
   },
   {
    "duration": 6135,
    "start_time": "2021-10-19T19:22:07.385Z"
   },
   {
    "duration": 6162,
    "start_time": "2021-10-19T19:22:13.522Z"
   },
   {
    "duration": 6361,
    "start_time": "2021-10-19T19:22:19.687Z"
   },
   {
    "duration": 6166,
    "start_time": "2021-10-19T19:22:26.050Z"
   },
   {
    "duration": -270,
    "start_time": "2021-10-19T19:22:32.488Z"
   },
   {
    "duration": -276,
    "start_time": "2021-10-19T19:22:32.495Z"
   },
   {
    "duration": -280,
    "start_time": "2021-10-19T19:22:32.500Z"
   },
   {
    "duration": -283,
    "start_time": "2021-10-19T19:22:32.504Z"
   },
   {
    "duration": -286,
    "start_time": "2021-10-19T19:22:32.509Z"
   },
   {
    "duration": -293,
    "start_time": "2021-10-19T19:22:32.517Z"
   },
   {
    "duration": -298,
    "start_time": "2021-10-19T19:22:32.523Z"
   },
   {
    "duration": -310,
    "start_time": "2021-10-19T19:22:32.536Z"
   },
   {
    "duration": -319,
    "start_time": "2021-10-19T19:22:32.546Z"
   },
   {
    "duration": -328,
    "start_time": "2021-10-19T19:22:32.556Z"
   },
   {
    "duration": 6029,
    "start_time": "2021-10-19T19:22:32.299Z"
   },
   {
    "duration": -196,
    "start_time": "2021-10-19T19:22:38.526Z"
   },
   {
    "duration": -201,
    "start_time": "2021-10-19T19:22:38.532Z"
   },
   {
    "duration": 613,
    "start_time": "2021-10-19T19:23:19.192Z"
   },
   {
    "duration": 6,
    "start_time": "2021-10-19T19:23:46.265Z"
   },
   {
    "duration": 247,
    "start_time": "2021-10-19T19:24:16.160Z"
   },
   {
    "duration": 5,
    "start_time": "2021-10-19T19:24:27.802Z"
   },
   {
    "duration": -123,
    "start_time": "2021-10-19T19:25:23.123Z"
   },
   {
    "duration": 17,
    "start_time": "2021-10-19T19:25:25.427Z"
   },
   {
    "duration": 24,
    "start_time": "2021-10-19T19:25:28.393Z"
   },
   {
    "duration": 601,
    "start_time": "2021-10-19T19:25:29.325Z"
   },
   {
    "duration": 460,
    "start_time": "2021-10-19T19:25:29.928Z"
   },
   {
    "duration": 43,
    "start_time": "2021-10-19T19:25:30.391Z"
   },
   {
    "duration": 451,
    "start_time": "2021-10-19T19:25:30.436Z"
   },
   {
    "duration": 342,
    "start_time": "2021-10-19T19:25:31.178Z"
   },
   {
    "duration": 45,
    "start_time": "2021-10-19T19:25:31.522Z"
   },
   {
    "duration": 422,
    "start_time": "2021-10-19T19:25:31.820Z"
   },
   {
    "duration": 395,
    "start_time": "2021-10-19T19:25:32.244Z"
   },
   {
    "duration": 39,
    "start_time": "2021-10-19T19:25:32.642Z"
   },
   {
    "duration": 255,
    "start_time": "2021-10-19T19:25:32.770Z"
   },
   {
    "duration": 11,
    "start_time": "2021-10-19T19:25:40.502Z"
   },
   {
    "duration": 682,
    "start_time": "2021-10-19T19:25:41.741Z"
   },
   {
    "duration": 18,
    "start_time": "2021-10-19T19:25:54.806Z"
   },
   {
    "duration": 598,
    "start_time": "2021-10-19T19:26:13.075Z"
   },
   {
    "duration": 663,
    "start_time": "2021-10-19T19:26:24.387Z"
   },
   {
    "duration": 581,
    "start_time": "2021-10-19T19:26:42.169Z"
   },
   {
    "duration": 710,
    "start_time": "2021-10-19T19:28:24.624Z"
   },
   {
    "duration": 817,
    "start_time": "2021-10-19T19:28:33.839Z"
   },
   {
    "duration": 1507,
    "start_time": "2021-10-19T19:28:49.752Z"
   },
   {
    "duration": 735,
    "start_time": "2021-10-19T19:29:14.898Z"
   },
   {
    "duration": 811,
    "start_time": "2021-10-19T19:30:12.620Z"
   },
   {
    "duration": 867,
    "start_time": "2021-10-19T19:30:20.015Z"
   },
   {
    "duration": 665,
    "start_time": "2021-10-19T19:30:33.826Z"
   },
   {
    "duration": 629,
    "start_time": "2021-10-19T19:31:54.756Z"
   },
   {
    "duration": 5,
    "start_time": "2021-10-19T19:32:15.930Z"
   },
   {
    "duration": 57,
    "start_time": "2021-10-19T19:32:48.580Z"
   },
   {
    "duration": 700,
    "start_time": "2021-10-19T19:32:56.473Z"
   },
   {
    "duration": 2786,
    "start_time": "2021-10-19T19:42:10.432Z"
   },
   {
    "duration": 10,
    "start_time": "2021-10-19T19:42:13.221Z"
   },
   {
    "duration": 30,
    "start_time": "2021-10-19T19:42:13.233Z"
   },
   {
    "duration": 16,
    "start_time": "2021-10-19T19:42:13.265Z"
   },
   {
    "duration": 32,
    "start_time": "2021-10-19T19:42:13.283Z"
   },
   {
    "duration": 27,
    "start_time": "2021-10-19T19:42:13.317Z"
   },
   {
    "duration": 25,
    "start_time": "2021-10-19T19:42:13.346Z"
   },
   {
    "duration": 466,
    "start_time": "2021-10-19T19:42:13.375Z"
   },
   {
    "duration": 23,
    "start_time": "2021-10-19T19:42:13.844Z"
   },
   {
    "duration": 481,
    "start_time": "2021-10-19T19:42:13.869Z"
   },
   {
    "duration": 17,
    "start_time": "2021-10-19T19:42:14.352Z"
   },
   {
    "duration": 32,
    "start_time": "2021-10-19T19:42:14.372Z"
   },
   {
    "duration": 34,
    "start_time": "2021-10-19T19:42:14.407Z"
   },
   {
    "duration": 18,
    "start_time": "2021-10-19T19:42:14.445Z"
   },
   {
    "duration": 475,
    "start_time": "2021-10-19T19:42:14.466Z"
   },
   {
    "duration": 17,
    "start_time": "2021-10-19T19:42:14.943Z"
   },
   {
    "duration": 474,
    "start_time": "2021-10-19T19:42:14.963Z"
   },
   {
    "duration": 23,
    "start_time": "2021-10-19T19:42:15.439Z"
   },
   {
    "duration": 8,
    "start_time": "2021-10-19T19:42:15.465Z"
   },
   {
    "duration": 129,
    "start_time": "2021-10-19T19:42:15.476Z"
   },
   {
    "duration": 63,
    "start_time": "2021-10-19T19:42:15.607Z"
   },
   {
    "duration": 80,
    "start_time": "2021-10-19T19:42:15.672Z"
   },
   {
    "duration": 61,
    "start_time": "2021-10-19T19:42:15.756Z"
   },
   {
    "duration": 21,
    "start_time": "2021-10-19T19:42:15.820Z"
   },
   {
    "duration": 1637,
    "start_time": "2021-10-19T19:42:29.771Z"
   },
   {
    "duration": 637,
    "start_time": "2021-10-19T19:45:23.222Z"
   },
   {
    "duration": 9,
    "start_time": "2021-10-19T19:45:23.862Z"
   },
   {
    "duration": 28,
    "start_time": "2021-10-19T19:45:23.874Z"
   },
   {
    "duration": 11,
    "start_time": "2021-10-19T19:45:23.904Z"
   },
   {
    "duration": 18,
    "start_time": "2021-10-19T19:45:23.918Z"
   },
   {
    "duration": 22,
    "start_time": "2021-10-19T19:45:23.938Z"
   },
   {
    "duration": 40,
    "start_time": "2021-10-19T19:45:23.962Z"
   },
   {
    "duration": 471,
    "start_time": "2021-10-19T19:45:24.006Z"
   },
   {
    "duration": 31,
    "start_time": "2021-10-19T19:45:24.481Z"
   },
   {
    "duration": 476,
    "start_time": "2021-10-19T19:45:24.515Z"
   },
   {
    "duration": 16,
    "start_time": "2021-10-19T19:45:25.000Z"
   },
   {
    "duration": 11,
    "start_time": "2021-10-19T19:45:25.019Z"
   },
   {
    "duration": 22,
    "start_time": "2021-10-19T19:45:25.032Z"
   },
   {
    "duration": 49,
    "start_time": "2021-10-19T19:45:25.057Z"
   },
   {
    "duration": 473,
    "start_time": "2021-10-19T19:45:25.109Z"
   },
   {
    "duration": 28,
    "start_time": "2021-10-19T19:45:25.585Z"
   },
   {
    "duration": 543,
    "start_time": "2021-10-19T19:45:25.616Z"
   },
   {
    "duration": 40,
    "start_time": "2021-10-19T19:45:26.161Z"
   },
   {
    "duration": 9,
    "start_time": "2021-10-19T19:45:26.204Z"
   },
   {
    "duration": 107,
    "start_time": "2021-10-19T19:45:26.216Z"
   },
   {
    "duration": 62,
    "start_time": "2021-10-19T19:45:26.325Z"
   },
   {
    "duration": 66,
    "start_time": "2021-10-19T19:45:26.401Z"
   },
   {
    "duration": 66,
    "start_time": "2021-10-19T19:45:26.471Z"
   },
   {
    "duration": 28,
    "start_time": "2021-10-19T19:45:26.540Z"
   },
   {
    "duration": 1498,
    "start_time": "2021-10-19T19:45:26.570Z"
   },
   {
    "duration": 855,
    "start_time": "2021-10-19T19:46:50.960Z"
   },
   {
    "duration": 9,
    "start_time": "2021-10-19T19:46:51.818Z"
   },
   {
    "duration": 19,
    "start_time": "2021-10-19T19:46:51.831Z"
   },
   {
    "duration": 11,
    "start_time": "2021-10-19T19:46:51.852Z"
   },
   {
    "duration": 16,
    "start_time": "2021-10-19T19:46:51.901Z"
   },
   {
    "duration": 25,
    "start_time": "2021-10-19T19:46:51.919Z"
   },
   {
    "duration": 12,
    "start_time": "2021-10-19T19:46:51.947Z"
   },
   {
    "duration": 478,
    "start_time": "2021-10-19T19:46:51.963Z"
   },
   {
    "duration": 19,
    "start_time": "2021-10-19T19:46:52.445Z"
   },
   {
    "duration": 485,
    "start_time": "2021-10-19T19:46:52.467Z"
   },
   {
    "duration": 16,
    "start_time": "2021-10-19T19:46:52.955Z"
   },
   {
    "duration": 33,
    "start_time": "2021-10-19T19:46:52.973Z"
   },
   {
    "duration": 28,
    "start_time": "2021-10-19T19:46:53.009Z"
   },
   {
    "duration": 16,
    "start_time": "2021-10-19T19:46:53.040Z"
   },
   {
    "duration": 475,
    "start_time": "2021-10-19T19:46:53.059Z"
   },
   {
    "duration": 18,
    "start_time": "2021-10-19T19:46:53.536Z"
   },
   {
    "duration": 469,
    "start_time": "2021-10-19T19:46:53.556Z"
   },
   {
    "duration": 23,
    "start_time": "2021-10-19T19:46:54.028Z"
   },
   {
    "duration": 12,
    "start_time": "2021-10-19T19:46:54.053Z"
   },
   {
    "duration": 134,
    "start_time": "2021-10-19T19:46:54.067Z"
   },
   {
    "duration": 63,
    "start_time": "2021-10-19T19:46:54.204Z"
   },
   {
    "duration": 80,
    "start_time": "2021-10-19T19:46:54.270Z"
   },
   {
    "duration": 64,
    "start_time": "2021-10-19T19:46:54.354Z"
   },
   {
    "duration": 20,
    "start_time": "2021-10-19T19:46:54.421Z"
   },
   {
    "duration": 28,
    "start_time": "2021-10-19T19:47:01.094Z"
   },
   {
    "duration": 633,
    "start_time": "2021-10-19T19:48:36.084Z"
   },
   {
    "duration": 10,
    "start_time": "2021-10-19T19:48:36.720Z"
   },
   {
    "duration": 19,
    "start_time": "2021-10-19T19:48:36.735Z"
   },
   {
    "duration": 13,
    "start_time": "2021-10-19T19:48:36.758Z"
   },
   {
    "duration": 23,
    "start_time": "2021-10-19T19:48:36.802Z"
   },
   {
    "duration": 28,
    "start_time": "2021-10-19T19:48:36.827Z"
   },
   {
    "duration": 14,
    "start_time": "2021-10-19T19:48:36.857Z"
   },
   {
    "duration": 499,
    "start_time": "2021-10-19T19:48:36.874Z"
   },
   {
    "duration": 31,
    "start_time": "2021-10-19T19:48:37.378Z"
   },
   {
    "duration": 480,
    "start_time": "2021-10-19T19:48:37.412Z"
   },
   {
    "duration": 20,
    "start_time": "2021-10-19T19:48:37.895Z"
   },
   {
    "duration": 14,
    "start_time": "2021-10-19T19:48:37.918Z"
   },
   {
    "duration": 20,
    "start_time": "2021-10-19T19:48:37.935Z"
   },
   {
    "duration": 56,
    "start_time": "2021-10-19T19:48:37.958Z"
   },
   {
    "duration": 469,
    "start_time": "2021-10-19T19:48:38.016Z"
   },
   {
    "duration": 25,
    "start_time": "2021-10-19T19:48:38.487Z"
   },
   {
    "duration": 473,
    "start_time": "2021-10-19T19:48:38.514Z"
   },
   {
    "duration": 28,
    "start_time": "2021-10-19T19:48:38.990Z"
   },
   {
    "duration": 9,
    "start_time": "2021-10-19T19:48:39.021Z"
   },
   {
    "duration": 124,
    "start_time": "2021-10-19T19:48:39.032Z"
   },
   {
    "duration": 76,
    "start_time": "2021-10-19T19:48:39.159Z"
   },
   {
    "duration": 77,
    "start_time": "2021-10-19T19:48:39.238Z"
   },
   {
    "duration": 48,
    "start_time": "2021-10-19T19:48:39.319Z"
   },
   {
    "duration": 39,
    "start_time": "2021-10-19T19:48:39.369Z"
   },
   {
    "duration": 26,
    "start_time": "2021-10-19T19:48:39.411Z"
   },
   {
    "duration": 11818,
    "start_time": "2021-10-19T19:48:39.440Z"
   },
   {
    "duration": 10934,
    "start_time": "2021-10-19T19:48:51.263Z"
   },
   {
    "duration": 10934,
    "start_time": "2021-10-19T19:49:02.202Z"
   },
   {
    "duration": 23,
    "start_time": "2021-10-19T19:49:13.138Z"
   },
   {
    "duration": 51,
    "start_time": "2021-10-19T19:49:13.163Z"
   },
   {
    "duration": 565,
    "start_time": "2021-10-19T19:49:13.216Z"
   },
   {
    "duration": 473,
    "start_time": "2021-10-19T19:49:13.784Z"
   },
   {
    "duration": 59,
    "start_time": "2021-10-19T19:49:14.259Z"
   },
   {
    "duration": 591,
    "start_time": "2021-10-19T19:49:14.320Z"
   },
   {
    "duration": 504,
    "start_time": "2021-10-19T19:49:14.913Z"
   },
   {
    "duration": 42,
    "start_time": "2021-10-19T19:49:15.420Z"
   },
   {
    "duration": 890,
    "start_time": "2021-10-19T19:49:15.464Z"
   },
   {
    "duration": 484,
    "start_time": "2021-10-19T19:49:16.357Z"
   },
   {
    "duration": 64,
    "start_time": "2021-10-19T19:49:16.843Z"
   },
   {
    "duration": 33,
    "start_time": "2021-10-19T19:49:16.909Z"
   },
   {
    "duration": 19,
    "start_time": "2021-10-19T19:49:16.945Z"
   },
   {
    "duration": 15,
    "start_time": "2021-10-19T19:49:17.002Z"
   },
   {
    "duration": 7,
    "start_time": "2021-10-19T19:49:17.020Z"
   },
   {
    "duration": 12,
    "start_time": "2021-10-19T19:49:17.029Z"
   },
   {
    "duration": 11,
    "start_time": "2021-10-19T19:49:17.044Z"
   },
   {
    "duration": 41,
    "start_time": "2021-10-19T19:49:17.058Z"
   },
   {
    "duration": 15,
    "start_time": "2021-10-19T19:49:17.102Z"
   },
   {
    "duration": 16,
    "start_time": "2021-10-19T19:49:17.120Z"
   },
   {
    "duration": 6,
    "start_time": "2021-10-19T19:49:17.138Z"
   }
  ],
  "kernelspec": {
   "display_name": "Python 3 (ipykernel)",
   "language": "python",
   "name": "python3"
  },
  "language_info": {
   "codemirror_mode": {
    "name": "ipython",
    "version": 3
   },
   "file_extension": ".py",
   "mimetype": "text/x-python",
   "name": "python",
   "nbconvert_exporter": "python",
   "pygments_lexer": "ipython3",
   "version": "3.9.12"
  },
  "toc": {
   "base_numbering": 1,
   "nav_menu": {},
   "number_sections": true,
   "sideBar": true,
   "skip_h1_title": true,
   "title_cell": "Table of Contents",
   "title_sidebar": "Contents",
   "toc_cell": false,
   "toc_position": {},
   "toc_section_display": true,
   "toc_window_display": false
  }
 },
 "nbformat": 4,
 "nbformat_minor": 5
}
