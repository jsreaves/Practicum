{
 "cells": [
  {
   "cell_type": "markdown",
   "id": "0cedcb15",
   "metadata": {},
   "source": [
    "# Analyzing borrowers’ risk of defaulting\n",
    "\n",
    "Your project is to prepare a report for a bank’s loan division. You’ll need to find out if a customer’s marital status and number of children has an impact on whether they will default on a loan. The bank already has some data on customers’ credit worthiness. Your report will be considered when building a **credit scoring** of a potential customer."
   ]
  },
  {
   "cell_type": "markdown",
   "id": "97977c94",
   "metadata": {},
   "source": [
    "## Open the data file and have a look at the general information. "
   ]
  },
  {
   "cell_type": "code",
   "execution_count": 1,
   "id": "876b6489",
   "metadata": {},
   "outputs": [
    {
     "name": "stderr",
     "output_type": "stream",
     "text": [
      "[nltk_data] Downloading package punkt to\n",
      "[nltk_data]     /Users/jasonreaves/nltk_data...\n",
      "[nltk_data]   Package punkt is already up-to-date!\n",
      "[nltk_data] Downloading package wordnet to\n",
      "[nltk_data]     /Users/jasonreaves/nltk_data...\n",
      "[nltk_data]   Package wordnet is already up-to-date!\n"
     ]
    }
   ],
   "source": [
    "import pandas as pd\n",
    "import nltk\n",
    "from nltk.stem import WordNetLemmatizer\n",
    "from collections import Counter\n",
    "import warnings\n",
    "\n",
    "warnings.filterwarnings('ignore')\n",
    "\n",
    "try:\n",
    "    df = pd.read_csv('credit_scoring_eng.csv')\n",
    "    nltk.download('punkt')\n",
    "    nltk.download('wordnet')\n",
    "except:\n",
    "    df = pd.read_csv('/datasets/credit_scoring_eng.csv')"
   ]
  },
  {
   "cell_type": "markdown",
   "id": "57e09468",
   "metadata": {},
   "source": [
    "### info()"
   ]
  },
  {
   "cell_type": "code",
   "execution_count": 2,
   "id": "3fe6c879",
   "metadata": {},
   "outputs": [
    {
     "name": "stdout",
     "output_type": "stream",
     "text": [
      "<class 'pandas.core.frame.DataFrame'>\n",
      "RangeIndex: 21525 entries, 0 to 21524\n",
      "Data columns (total 12 columns):\n",
      " #   Column            Non-Null Count  Dtype  \n",
      "---  ------            --------------  -----  \n",
      " 0   children          21525 non-null  int64  \n",
      " 1   days_employed     19351 non-null  float64\n",
      " 2   dob_years         21525 non-null  int64  \n",
      " 3   education         21525 non-null  object \n",
      " 4   education_id      21525 non-null  int64  \n",
      " 5   family_status     21525 non-null  object \n",
      " 6   family_status_id  21525 non-null  int64  \n",
      " 7   gender            21525 non-null  object \n",
      " 8   income_type       21525 non-null  object \n",
      " 9   debt              21525 non-null  int64  \n",
      " 10  total_income      19351 non-null  float64\n",
      " 11  purpose           21525 non-null  object \n",
      "dtypes: float64(2), int64(5), object(5)\n",
      "memory usage: 2.0+ MB\n"
     ]
    }
   ],
   "source": [
    "df.info()"
   ]
  },
  {
   "cell_type": "markdown",
   "id": "c89cfde0",
   "metadata": {},
   "source": [
    "### head() & tail()"
   ]
  },
  {
   "cell_type": "code",
   "execution_count": 3,
   "id": "099bb251",
   "metadata": {},
   "outputs": [
    {
     "data": {
      "text/html": [
       "<div>\n",
       "<style scoped>\n",
       "    .dataframe tbody tr th:only-of-type {\n",
       "        vertical-align: middle;\n",
       "    }\n",
       "\n",
       "    .dataframe tbody tr th {\n",
       "        vertical-align: top;\n",
       "    }\n",
       "\n",
       "    .dataframe thead th {\n",
       "        text-align: right;\n",
       "    }\n",
       "</style>\n",
       "<table border=\"1\" class=\"dataframe\">\n",
       "  <thead>\n",
       "    <tr style=\"text-align: right;\">\n",
       "      <th></th>\n",
       "      <th>children</th>\n",
       "      <th>days_employed</th>\n",
       "      <th>dob_years</th>\n",
       "      <th>education</th>\n",
       "      <th>education_id</th>\n",
       "      <th>family_status</th>\n",
       "      <th>family_status_id</th>\n",
       "      <th>gender</th>\n",
       "      <th>income_type</th>\n",
       "      <th>debt</th>\n",
       "      <th>total_income</th>\n",
       "      <th>purpose</th>\n",
       "    </tr>\n",
       "  </thead>\n",
       "  <tbody>\n",
       "    <tr>\n",
       "      <th>0</th>\n",
       "      <td>1</td>\n",
       "      <td>-8437.673028</td>\n",
       "      <td>42</td>\n",
       "      <td>bachelor's degree</td>\n",
       "      <td>0</td>\n",
       "      <td>married</td>\n",
       "      <td>0</td>\n",
       "      <td>F</td>\n",
       "      <td>employee</td>\n",
       "      <td>0</td>\n",
       "      <td>40620.102</td>\n",
       "      <td>purchase of the house</td>\n",
       "    </tr>\n",
       "    <tr>\n",
       "      <th>1</th>\n",
       "      <td>1</td>\n",
       "      <td>-4024.803754</td>\n",
       "      <td>36</td>\n",
       "      <td>secondary education</td>\n",
       "      <td>1</td>\n",
       "      <td>married</td>\n",
       "      <td>0</td>\n",
       "      <td>F</td>\n",
       "      <td>employee</td>\n",
       "      <td>0</td>\n",
       "      <td>17932.802</td>\n",
       "      <td>car purchase</td>\n",
       "    </tr>\n",
       "    <tr>\n",
       "      <th>2</th>\n",
       "      <td>0</td>\n",
       "      <td>-5623.422610</td>\n",
       "      <td>33</td>\n",
       "      <td>Secondary Education</td>\n",
       "      <td>1</td>\n",
       "      <td>married</td>\n",
       "      <td>0</td>\n",
       "      <td>M</td>\n",
       "      <td>employee</td>\n",
       "      <td>0</td>\n",
       "      <td>23341.752</td>\n",
       "      <td>purchase of the house</td>\n",
       "    </tr>\n",
       "    <tr>\n",
       "      <th>3</th>\n",
       "      <td>3</td>\n",
       "      <td>-4124.747207</td>\n",
       "      <td>32</td>\n",
       "      <td>secondary education</td>\n",
       "      <td>1</td>\n",
       "      <td>married</td>\n",
       "      <td>0</td>\n",
       "      <td>M</td>\n",
       "      <td>employee</td>\n",
       "      <td>0</td>\n",
       "      <td>42820.568</td>\n",
       "      <td>supplementary education</td>\n",
       "    </tr>\n",
       "    <tr>\n",
       "      <th>4</th>\n",
       "      <td>0</td>\n",
       "      <td>340266.072047</td>\n",
       "      <td>53</td>\n",
       "      <td>secondary education</td>\n",
       "      <td>1</td>\n",
       "      <td>civil partnership</td>\n",
       "      <td>1</td>\n",
       "      <td>F</td>\n",
       "      <td>retiree</td>\n",
       "      <td>0</td>\n",
       "      <td>25378.572</td>\n",
       "      <td>to have a wedding</td>\n",
       "    </tr>\n",
       "  </tbody>\n",
       "</table>\n",
       "</div>"
      ],
      "text/plain": [
       "   children  days_employed  dob_years            education  education_id  \\\n",
       "0         1   -8437.673028         42    bachelor's degree             0   \n",
       "1         1   -4024.803754         36  secondary education             1   \n",
       "2         0   -5623.422610         33  Secondary Education             1   \n",
       "3         3   -4124.747207         32  secondary education             1   \n",
       "4         0  340266.072047         53  secondary education             1   \n",
       "\n",
       "       family_status  family_status_id gender income_type  debt  total_income  \\\n",
       "0            married                 0      F    employee     0     40620.102   \n",
       "1            married                 0      F    employee     0     17932.802   \n",
       "2            married                 0      M    employee     0     23341.752   \n",
       "3            married                 0      M    employee     0     42820.568   \n",
       "4  civil partnership                 1      F     retiree     0     25378.572   \n",
       "\n",
       "                   purpose  \n",
       "0    purchase of the house  \n",
       "1             car purchase  \n",
       "2    purchase of the house  \n",
       "3  supplementary education  \n",
       "4        to have a wedding  "
      ]
     },
     "execution_count": 3,
     "metadata": {},
     "output_type": "execute_result"
    }
   ],
   "source": [
    "df.head()"
   ]
  },
  {
   "cell_type": "code",
   "execution_count": 4,
   "id": "633602ba",
   "metadata": {},
   "outputs": [
    {
     "data": {
      "text/html": [
       "<div>\n",
       "<style scoped>\n",
       "    .dataframe tbody tr th:only-of-type {\n",
       "        vertical-align: middle;\n",
       "    }\n",
       "\n",
       "    .dataframe tbody tr th {\n",
       "        vertical-align: top;\n",
       "    }\n",
       "\n",
       "    .dataframe thead th {\n",
       "        text-align: right;\n",
       "    }\n",
       "</style>\n",
       "<table border=\"1\" class=\"dataframe\">\n",
       "  <thead>\n",
       "    <tr style=\"text-align: right;\">\n",
       "      <th></th>\n",
       "      <th>children</th>\n",
       "      <th>days_employed</th>\n",
       "      <th>dob_years</th>\n",
       "      <th>education</th>\n",
       "      <th>education_id</th>\n",
       "      <th>family_status</th>\n",
       "      <th>family_status_id</th>\n",
       "      <th>gender</th>\n",
       "      <th>income_type</th>\n",
       "      <th>debt</th>\n",
       "      <th>total_income</th>\n",
       "      <th>purpose</th>\n",
       "    </tr>\n",
       "  </thead>\n",
       "  <tbody>\n",
       "    <tr>\n",
       "      <th>21520</th>\n",
       "      <td>1</td>\n",
       "      <td>-4529.316663</td>\n",
       "      <td>43</td>\n",
       "      <td>secondary education</td>\n",
       "      <td>1</td>\n",
       "      <td>civil partnership</td>\n",
       "      <td>1</td>\n",
       "      <td>F</td>\n",
       "      <td>business</td>\n",
       "      <td>0</td>\n",
       "      <td>35966.698</td>\n",
       "      <td>housing transactions</td>\n",
       "    </tr>\n",
       "    <tr>\n",
       "      <th>21521</th>\n",
       "      <td>0</td>\n",
       "      <td>343937.404131</td>\n",
       "      <td>67</td>\n",
       "      <td>secondary education</td>\n",
       "      <td>1</td>\n",
       "      <td>married</td>\n",
       "      <td>0</td>\n",
       "      <td>F</td>\n",
       "      <td>retiree</td>\n",
       "      <td>0</td>\n",
       "      <td>24959.969</td>\n",
       "      <td>purchase of a car</td>\n",
       "    </tr>\n",
       "    <tr>\n",
       "      <th>21522</th>\n",
       "      <td>1</td>\n",
       "      <td>-2113.346888</td>\n",
       "      <td>38</td>\n",
       "      <td>secondary education</td>\n",
       "      <td>1</td>\n",
       "      <td>civil partnership</td>\n",
       "      <td>1</td>\n",
       "      <td>M</td>\n",
       "      <td>employee</td>\n",
       "      <td>1</td>\n",
       "      <td>14347.610</td>\n",
       "      <td>property</td>\n",
       "    </tr>\n",
       "    <tr>\n",
       "      <th>21523</th>\n",
       "      <td>3</td>\n",
       "      <td>-3112.481705</td>\n",
       "      <td>38</td>\n",
       "      <td>secondary education</td>\n",
       "      <td>1</td>\n",
       "      <td>married</td>\n",
       "      <td>0</td>\n",
       "      <td>M</td>\n",
       "      <td>employee</td>\n",
       "      <td>1</td>\n",
       "      <td>39054.888</td>\n",
       "      <td>buying my own car</td>\n",
       "    </tr>\n",
       "    <tr>\n",
       "      <th>21524</th>\n",
       "      <td>2</td>\n",
       "      <td>-1984.507589</td>\n",
       "      <td>40</td>\n",
       "      <td>secondary education</td>\n",
       "      <td>1</td>\n",
       "      <td>married</td>\n",
       "      <td>0</td>\n",
       "      <td>F</td>\n",
       "      <td>employee</td>\n",
       "      <td>0</td>\n",
       "      <td>13127.587</td>\n",
       "      <td>to buy a car</td>\n",
       "    </tr>\n",
       "  </tbody>\n",
       "</table>\n",
       "</div>"
      ],
      "text/plain": [
       "       children  days_employed  dob_years            education  education_id  \\\n",
       "21520         1   -4529.316663         43  secondary education             1   \n",
       "21521         0  343937.404131         67  secondary education             1   \n",
       "21522         1   -2113.346888         38  secondary education             1   \n",
       "21523         3   -3112.481705         38  secondary education             1   \n",
       "21524         2   -1984.507589         40  secondary education             1   \n",
       "\n",
       "           family_status  family_status_id gender income_type  debt  \\\n",
       "21520  civil partnership                 1      F    business     0   \n",
       "21521            married                 0      F     retiree     0   \n",
       "21522  civil partnership                 1      M    employee     1   \n",
       "21523            married                 0      M    employee     1   \n",
       "21524            married                 0      F    employee     0   \n",
       "\n",
       "       total_income               purpose  \n",
       "21520     35966.698  housing transactions  \n",
       "21521     24959.969     purchase of a car  \n",
       "21522     14347.610              property  \n",
       "21523     39054.888     buying my own car  \n",
       "21524     13127.587          to buy a car  "
      ]
     },
     "execution_count": 4,
     "metadata": {},
     "output_type": "execute_result"
    }
   ],
   "source": [
    "df.tail()"
   ]
  },
  {
   "cell_type": "markdown",
   "id": "67c23914",
   "metadata": {},
   "source": [
    "### Conclusion\n",
    "\n",
    "| Column | info() | head() & tail() |\n",
    "|---|---|---|\n",
    "| children | OK | OK |\n",
    "| days_employed | 2,174 missing values<br>Change to int | Negative numbers for most<br>Huge numbers for retirees\n",
    "| dob_years | OK | OK |\n",
    "| education | OK | Capitalization |\n",
    "| education_id | OK | OK |\n",
    "| family_status | OK | OK |\n",
    "| family_status_id | OK | OK |\n",
    "| gender | OK | OK |\n",
    "| income_type | OK | OK |\n",
    "| debt | OK | OK |\n",
    "| total_income | 2,174 missing values | OK |\n",
    "| purpose | OK | Inconsistent wording |\n",
    "\n",
    "- There are 21,525 entries in the DataFrame. Most columns have all 21,525 entries, but <code>days_employed</code> and <code>total_income</code> appear to have 2,174 missing values each.\n",
    "- In addition to having missing values, <code>days_employed</code> has spurious data, including negative values and impossibly large values.\n",
    "- The <code>education</code> field has inconsistent capitalization.\n",
    "- The <code>purpose</code> field has in inconsistent wording. Different words are used to describe the same thing, possibly because a user entered the value as free text. This field will need to be standardized.\n",
    "- At first glance, the other fields look okay, but we will need to do a \"reality check\" on each one."
   ]
  },
  {
   "cell_type": "markdown",
   "id": "ccdc06bd",
   "metadata": {},
   "source": [
    "## Data preprocessing"
   ]
  },
  {
   "cell_type": "markdown",
   "id": "f9ccc5b4",
   "metadata": {},
   "source": [
    "### Processing missing values\n",
    "In this section, we will be processing missing values in the <code>days_employed</code> and <code>total_income</code> columns.  However, our preliminary analysis uncovered spurious values for <code>days_employed</code>.  This must be addressed before missing values can be handled."
   ]
  },
  {
   "cell_type": "markdown",
   "id": "e3d42f3b",
   "metadata": {},
   "source": [
    "#### Spurious values in the <code>days_employed</code> column\n",
    "Browsing through the data reveals that there are two types of values in the <code>days_employed</code> column: negative values and impossibly large ones. We can confirm that none of the values fall in a reasonable range for days employed, e.g., 0 through 29,200 days (which is 80 years)."
   ]
  },
  {
   "cell_type": "code",
   "execution_count": 5,
   "id": "f45351e0",
   "metadata": {},
   "outputs": [
    {
     "data": {
      "text/plain": [
       "0"
      ]
     },
     "execution_count": 5,
     "metadata": {},
     "output_type": "execute_result"
    }
   ],
   "source": [
    "df[(df['days_employed'] < 29200) & (df['days_employed'] >= 0)]['days_employed'].count()"
   ]
  },
  {
   "cell_type": "markdown",
   "id": "d22fbb92",
   "metadata": {},
   "source": [
    "Let's focus on the huge values first."
   ]
  },
  {
   "cell_type": "code",
   "execution_count": 6,
   "id": "83f2d7c5",
   "metadata": {},
   "outputs": [
    {
     "data": {
      "text/html": [
       "<div>\n",
       "<style scoped>\n",
       "    .dataframe tbody tr th:only-of-type {\n",
       "        vertical-align: middle;\n",
       "    }\n",
       "\n",
       "    .dataframe tbody tr th {\n",
       "        vertical-align: top;\n",
       "    }\n",
       "\n",
       "    .dataframe thead th {\n",
       "        text-align: right;\n",
       "    }\n",
       "</style>\n",
       "<table border=\"1\" class=\"dataframe\">\n",
       "  <thead>\n",
       "    <tr style=\"text-align: right;\">\n",
       "      <th></th>\n",
       "      <th>children</th>\n",
       "      <th>days_employed</th>\n",
       "      <th>dob_years</th>\n",
       "      <th>education</th>\n",
       "      <th>education_id</th>\n",
       "      <th>family_status</th>\n",
       "      <th>family_status_id</th>\n",
       "      <th>gender</th>\n",
       "      <th>income_type</th>\n",
       "      <th>debt</th>\n",
       "      <th>total_income</th>\n",
       "      <th>purpose</th>\n",
       "    </tr>\n",
       "  </thead>\n",
       "  <tbody>\n",
       "    <tr>\n",
       "      <th>4</th>\n",
       "      <td>0</td>\n",
       "      <td>340266.072047</td>\n",
       "      <td>53</td>\n",
       "      <td>secondary education</td>\n",
       "      <td>1</td>\n",
       "      <td>civil partnership</td>\n",
       "      <td>1</td>\n",
       "      <td>F</td>\n",
       "      <td>retiree</td>\n",
       "      <td>0</td>\n",
       "      <td>25378.572</td>\n",
       "      <td>to have a wedding</td>\n",
       "    </tr>\n",
       "    <tr>\n",
       "      <th>18</th>\n",
       "      <td>0</td>\n",
       "      <td>400281.136913</td>\n",
       "      <td>53</td>\n",
       "      <td>secondary education</td>\n",
       "      <td>1</td>\n",
       "      <td>widow / widower</td>\n",
       "      <td>2</td>\n",
       "      <td>F</td>\n",
       "      <td>retiree</td>\n",
       "      <td>0</td>\n",
       "      <td>9091.804</td>\n",
       "      <td>buying a second-hand car</td>\n",
       "    </tr>\n",
       "    <tr>\n",
       "      <th>24</th>\n",
       "      <td>1</td>\n",
       "      <td>338551.952911</td>\n",
       "      <td>57</td>\n",
       "      <td>secondary education</td>\n",
       "      <td>1</td>\n",
       "      <td>unmarried</td>\n",
       "      <td>4</td>\n",
       "      <td>F</td>\n",
       "      <td>retiree</td>\n",
       "      <td>0</td>\n",
       "      <td>46487.558</td>\n",
       "      <td>transactions with commercial real estate</td>\n",
       "    </tr>\n",
       "    <tr>\n",
       "      <th>25</th>\n",
       "      <td>0</td>\n",
       "      <td>363548.489348</td>\n",
       "      <td>67</td>\n",
       "      <td>secondary education</td>\n",
       "      <td>1</td>\n",
       "      <td>married</td>\n",
       "      <td>0</td>\n",
       "      <td>M</td>\n",
       "      <td>retiree</td>\n",
       "      <td>0</td>\n",
       "      <td>8818.041</td>\n",
       "      <td>buy real estate</td>\n",
       "    </tr>\n",
       "    <tr>\n",
       "      <th>30</th>\n",
       "      <td>1</td>\n",
       "      <td>335581.668515</td>\n",
       "      <td>62</td>\n",
       "      <td>secondary education</td>\n",
       "      <td>1</td>\n",
       "      <td>married</td>\n",
       "      <td>0</td>\n",
       "      <td>F</td>\n",
       "      <td>retiree</td>\n",
       "      <td>0</td>\n",
       "      <td>27432.971</td>\n",
       "      <td>transactions with commercial real estate</td>\n",
       "    </tr>\n",
       "  </tbody>\n",
       "</table>\n",
       "</div>"
      ],
      "text/plain": [
       "    children  days_employed  dob_years            education  education_id  \\\n",
       "4          0  340266.072047         53  secondary education             1   \n",
       "18         0  400281.136913         53  secondary education             1   \n",
       "24         1  338551.952911         57  secondary education             1   \n",
       "25         0  363548.489348         67  secondary education             1   \n",
       "30         1  335581.668515         62  secondary education             1   \n",
       "\n",
       "        family_status  family_status_id gender income_type  debt  \\\n",
       "4   civil partnership                 1      F     retiree     0   \n",
       "18    widow / widower                 2      F     retiree     0   \n",
       "24          unmarried                 4      F     retiree     0   \n",
       "25            married                 0      M     retiree     0   \n",
       "30            married                 0      F     retiree     0   \n",
       "\n",
       "    total_income                                   purpose  \n",
       "4      25378.572                         to have a wedding  \n",
       "18      9091.804                  buying a second-hand car  \n",
       "24     46487.558  transactions with commercial real estate  \n",
       "25      8818.041                           buy real estate  \n",
       "30     27432.971  transactions with commercial real estate  "
      ]
     },
     "execution_count": 6,
     "metadata": {},
     "output_type": "execute_result"
    }
   ],
   "source": [
    "df[df['days_employed'] > 29200].head()"
   ]
  },
  {
   "cell_type": "markdown",
   "id": "7c248956",
   "metadata": {},
   "source": [
    "These appear to be retirees.  Let's see if any _aren't_ retirees."
   ]
  },
  {
   "cell_type": "code",
   "execution_count": 7,
   "id": "093406ce",
   "metadata": {},
   "outputs": [
    {
     "data": {
      "text/html": [
       "<div>\n",
       "<style scoped>\n",
       "    .dataframe tbody tr th:only-of-type {\n",
       "        vertical-align: middle;\n",
       "    }\n",
       "\n",
       "    .dataframe tbody tr th {\n",
       "        vertical-align: top;\n",
       "    }\n",
       "\n",
       "    .dataframe thead th {\n",
       "        text-align: right;\n",
       "    }\n",
       "</style>\n",
       "<table border=\"1\" class=\"dataframe\">\n",
       "  <thead>\n",
       "    <tr style=\"text-align: right;\">\n",
       "      <th></th>\n",
       "      <th>children</th>\n",
       "      <th>days_employed</th>\n",
       "      <th>dob_years</th>\n",
       "      <th>education</th>\n",
       "      <th>education_id</th>\n",
       "      <th>family_status</th>\n",
       "      <th>family_status_id</th>\n",
       "      <th>gender</th>\n",
       "      <th>income_type</th>\n",
       "      <th>debt</th>\n",
       "      <th>total_income</th>\n",
       "      <th>purpose</th>\n",
       "    </tr>\n",
       "  </thead>\n",
       "  <tbody>\n",
       "    <tr>\n",
       "      <th>3133</th>\n",
       "      <td>1</td>\n",
       "      <td>337524.466835</td>\n",
       "      <td>31</td>\n",
       "      <td>secondary education</td>\n",
       "      <td>1</td>\n",
       "      <td>married</td>\n",
       "      <td>0</td>\n",
       "      <td>M</td>\n",
       "      <td>unemployed</td>\n",
       "      <td>1</td>\n",
       "      <td>9593.119</td>\n",
       "      <td>buying property for renting out</td>\n",
       "    </tr>\n",
       "    <tr>\n",
       "      <th>14798</th>\n",
       "      <td>0</td>\n",
       "      <td>395302.838654</td>\n",
       "      <td>45</td>\n",
       "      <td>Bachelor's Degree</td>\n",
       "      <td>0</td>\n",
       "      <td>civil partnership</td>\n",
       "      <td>1</td>\n",
       "      <td>F</td>\n",
       "      <td>unemployed</td>\n",
       "      <td>0</td>\n",
       "      <td>32435.602</td>\n",
       "      <td>housing renovation</td>\n",
       "    </tr>\n",
       "  </tbody>\n",
       "</table>\n",
       "</div>"
      ],
      "text/plain": [
       "       children  days_employed  dob_years            education  education_id  \\\n",
       "3133          1  337524.466835         31  secondary education             1   \n",
       "14798         0  395302.838654         45    Bachelor's Degree             0   \n",
       "\n",
       "           family_status  family_status_id gender income_type  debt  \\\n",
       "3133             married                 0      M  unemployed     1   \n",
       "14798  civil partnership                 1      F  unemployed     0   \n",
       "\n",
       "       total_income                          purpose  \n",
       "3133       9593.119  buying property for renting out  \n",
       "14798     32435.602               housing renovation  "
      ]
     },
     "execution_count": 7,
     "metadata": {},
     "output_type": "execute_result"
    }
   ],
   "source": [
    "df[(df['days_employed'] > 29200) & (df['income_type'] != 'retiree')]"
   ]
  },
  {
   "cell_type": "markdown",
   "id": "a4ef0b7a",
   "metadata": {},
   "source": [
    "All but two are retirees, and they are both unemployed.  Since the records with high values all represent retirees or unemployed, we will set <code>days_employed</code> for these rows to zero."
   ]
  },
  {
   "cell_type": "code",
   "execution_count": 8,
   "id": "2616c0ab",
   "metadata": {},
   "outputs": [
    {
     "data": {
      "text/plain": [
       "Series([], Name: days_employed, dtype: float64)"
      ]
     },
     "execution_count": 8,
     "metadata": {},
     "output_type": "execute_result"
    }
   ],
   "source": [
    "# We showed earlier that > 29200 catches all of the high values.\n",
    "df.loc[df['days_employed'] > 29200, 'days_employed'] = 0\n",
    "df.loc[df['days_employed'] > 29200, 'days_employed']"
   ]
  },
  {
   "cell_type": "markdown",
   "id": "cccf1088",
   "metadata": {},
   "source": [
    "What about the negative values? They represent the entire data set for <code>days_employed</code>, with the exception of the huge values processed above.  I suspect that the negative sign came from reasoning like, \"From today, when did the loan applicant start their current job?\" The answer, in that case, would be a negative number.  Another explanation would be a dash instead of a minus.  In order words, the data is valid, except for the negative sign in front.  I'll address this by replacing each value with its absolute value."
   ]
  },
  {
   "cell_type": "code",
   "execution_count": 9,
   "id": "4974e696",
   "metadata": {},
   "outputs": [],
   "source": [
    "df['days_employed'] = abs(df['days_employed'])"
   ]
  },
  {
   "cell_type": "markdown",
   "id": "99a05cfa",
   "metadata": {},
   "source": [
    "As a final reality check, let's check the range for <code>days_employed</code>."
   ]
  },
  {
   "cell_type": "code",
   "execution_count": 10,
   "id": "cf469087",
   "metadata": {},
   "outputs": [
    {
     "name": "stdout",
     "output_type": "stream",
     "text": [
      "days_employed ranges from 0 to 18388, which is 50 years.\n"
     ]
    }
   ],
   "source": [
    "min_days_employed = int(df['days_employed'].min())\n",
    "max_days_employed = int(df['days_employed'].max())\n",
    "max_years_employed = int(max_days_employed/365)\n",
    "print(\"days_employed ranges from {} to {}, which is {} years.\"\n",
    "      .format(min_days_employed, max_days_employed, max_years_employed)\n",
    ")"
   ]
  },
  {
   "cell_type": "markdown",
   "id": "2cce78e0",
   "metadata": {},
   "source": [
    "#### Missing values in <code>days_employed</code> and <code>total_income</code> columns"
   ]
  },
  {
   "cell_type": "markdown",
   "id": "da1b4d52",
   "metadata": {},
   "source": [
    "As noted above, <code>days_employed</code> and <code>total_income</code> each have 2,174 missing values.  Let's see what percentage of the data set this represents:"
   ]
  },
  {
   "cell_type": "code",
   "execution_count": 11,
   "id": "d037ad4c",
   "metadata": {},
   "outputs": [
    {
     "data": {
      "text/html": [
       "<style type=\"text/css\">\n",
       "#T_2f62e_row0_col0, #T_2f62e_row2_col0, #T_2f62e_row3_col0, #T_2f62e_row4_col0, #T_2f62e_row5_col0, #T_2f62e_row6_col0, #T_2f62e_row7_col0, #T_2f62e_row8_col0, #T_2f62e_row9_col0, #T_2f62e_row11_col0 {\n",
       "  background-color: #3b4cc0;\n",
       "  color: #f1f1f1;\n",
       "}\n",
       "#T_2f62e_row1_col0, #T_2f62e_row10_col0 {\n",
       "  background-color: #b40426;\n",
       "  color: #f1f1f1;\n",
       "}\n",
       "</style>\n",
       "<table id=\"T_2f62e\">\n",
       "  <thead>\n",
       "    <tr>\n",
       "      <th class=\"blank level0\" >&nbsp;</th>\n",
       "      <th id=\"T_2f62e_level0_col0\" class=\"col_heading level0 col0\" >0</th>\n",
       "    </tr>\n",
       "  </thead>\n",
       "  <tbody>\n",
       "    <tr>\n",
       "      <th id=\"T_2f62e_level0_row0\" class=\"row_heading level0 row0\" >children</th>\n",
       "      <td id=\"T_2f62e_row0_col0\" class=\"data row0 col0\" >0.000000</td>\n",
       "    </tr>\n",
       "    <tr>\n",
       "      <th id=\"T_2f62e_level0_row1\" class=\"row_heading level0 row1\" >days_employed</th>\n",
       "      <td id=\"T_2f62e_row1_col0\" class=\"data row1 col0\" >10.100000</td>\n",
       "    </tr>\n",
       "    <tr>\n",
       "      <th id=\"T_2f62e_level0_row2\" class=\"row_heading level0 row2\" >dob_years</th>\n",
       "      <td id=\"T_2f62e_row2_col0\" class=\"data row2 col0\" >0.000000</td>\n",
       "    </tr>\n",
       "    <tr>\n",
       "      <th id=\"T_2f62e_level0_row3\" class=\"row_heading level0 row3\" >education</th>\n",
       "      <td id=\"T_2f62e_row3_col0\" class=\"data row3 col0\" >0.000000</td>\n",
       "    </tr>\n",
       "    <tr>\n",
       "      <th id=\"T_2f62e_level0_row4\" class=\"row_heading level0 row4\" >education_id</th>\n",
       "      <td id=\"T_2f62e_row4_col0\" class=\"data row4 col0\" >0.000000</td>\n",
       "    </tr>\n",
       "    <tr>\n",
       "      <th id=\"T_2f62e_level0_row5\" class=\"row_heading level0 row5\" >family_status</th>\n",
       "      <td id=\"T_2f62e_row5_col0\" class=\"data row5 col0\" >0.000000</td>\n",
       "    </tr>\n",
       "    <tr>\n",
       "      <th id=\"T_2f62e_level0_row6\" class=\"row_heading level0 row6\" >family_status_id</th>\n",
       "      <td id=\"T_2f62e_row6_col0\" class=\"data row6 col0\" >0.000000</td>\n",
       "    </tr>\n",
       "    <tr>\n",
       "      <th id=\"T_2f62e_level0_row7\" class=\"row_heading level0 row7\" >gender</th>\n",
       "      <td id=\"T_2f62e_row7_col0\" class=\"data row7 col0\" >0.000000</td>\n",
       "    </tr>\n",
       "    <tr>\n",
       "      <th id=\"T_2f62e_level0_row8\" class=\"row_heading level0 row8\" >income_type</th>\n",
       "      <td id=\"T_2f62e_row8_col0\" class=\"data row8 col0\" >0.000000</td>\n",
       "    </tr>\n",
       "    <tr>\n",
       "      <th id=\"T_2f62e_level0_row9\" class=\"row_heading level0 row9\" >debt</th>\n",
       "      <td id=\"T_2f62e_row9_col0\" class=\"data row9 col0\" >0.000000</td>\n",
       "    </tr>\n",
       "    <tr>\n",
       "      <th id=\"T_2f62e_level0_row10\" class=\"row_heading level0 row10\" >total_income</th>\n",
       "      <td id=\"T_2f62e_row10_col0\" class=\"data row10 col0\" >10.100000</td>\n",
       "    </tr>\n",
       "    <tr>\n",
       "      <th id=\"T_2f62e_level0_row11\" class=\"row_heading level0 row11\" >purpose</th>\n",
       "      <td id=\"T_2f62e_row11_col0\" class=\"data row11 col0\" >0.000000</td>\n",
       "    </tr>\n",
       "  </tbody>\n",
       "</table>\n"
      ],
      "text/plain": [
       "<pandas.io.formats.style.Styler at 0x7fe3a000cf10>"
      ]
     },
     "execution_count": 11,
     "metadata": {},
     "output_type": "execute_result"
    }
   ],
   "source": [
    "pd.DataFrame(df.isna().mean().round(4)*100).style.background_gradient('coolwarm')"
   ]
  },
  {
   "cell_type": "code",
   "execution_count": 12,
   "id": "51b560d6",
   "metadata": {},
   "outputs": [
    {
     "data": {
      "text/html": [
       "<div>\n",
       "<style scoped>\n",
       "    .dataframe tbody tr th:only-of-type {\n",
       "        vertical-align: middle;\n",
       "    }\n",
       "\n",
       "    .dataframe tbody tr th {\n",
       "        vertical-align: top;\n",
       "    }\n",
       "\n",
       "    .dataframe thead th {\n",
       "        text-align: right;\n",
       "    }\n",
       "</style>\n",
       "<table border=\"1\" class=\"dataframe\">\n",
       "  <thead>\n",
       "    <tr style=\"text-align: right;\">\n",
       "      <th></th>\n",
       "      <th>children</th>\n",
       "      <th>days_employed</th>\n",
       "      <th>dob_years</th>\n",
       "      <th>education</th>\n",
       "      <th>education_id</th>\n",
       "      <th>family_status</th>\n",
       "      <th>family_status_id</th>\n",
       "      <th>gender</th>\n",
       "      <th>income_type</th>\n",
       "      <th>debt</th>\n",
       "      <th>total_income</th>\n",
       "      <th>purpose</th>\n",
       "    </tr>\n",
       "  </thead>\n",
       "  <tbody>\n",
       "    <tr>\n",
       "      <th>12</th>\n",
       "      <td>0</td>\n",
       "      <td>NaN</td>\n",
       "      <td>65</td>\n",
       "      <td>secondary education</td>\n",
       "      <td>1</td>\n",
       "      <td>civil partnership</td>\n",
       "      <td>1</td>\n",
       "      <td>M</td>\n",
       "      <td>retiree</td>\n",
       "      <td>0</td>\n",
       "      <td>NaN</td>\n",
       "      <td>to have a wedding</td>\n",
       "    </tr>\n",
       "    <tr>\n",
       "      <th>26</th>\n",
       "      <td>0</td>\n",
       "      <td>NaN</td>\n",
       "      <td>41</td>\n",
       "      <td>secondary education</td>\n",
       "      <td>1</td>\n",
       "      <td>married</td>\n",
       "      <td>0</td>\n",
       "      <td>M</td>\n",
       "      <td>civil servant</td>\n",
       "      <td>0</td>\n",
       "      <td>NaN</td>\n",
       "      <td>education</td>\n",
       "    </tr>\n",
       "    <tr>\n",
       "      <th>29</th>\n",
       "      <td>0</td>\n",
       "      <td>NaN</td>\n",
       "      <td>63</td>\n",
       "      <td>secondary education</td>\n",
       "      <td>1</td>\n",
       "      <td>unmarried</td>\n",
       "      <td>4</td>\n",
       "      <td>F</td>\n",
       "      <td>retiree</td>\n",
       "      <td>0</td>\n",
       "      <td>NaN</td>\n",
       "      <td>building a real estate</td>\n",
       "    </tr>\n",
       "    <tr>\n",
       "      <th>41</th>\n",
       "      <td>0</td>\n",
       "      <td>NaN</td>\n",
       "      <td>50</td>\n",
       "      <td>secondary education</td>\n",
       "      <td>1</td>\n",
       "      <td>married</td>\n",
       "      <td>0</td>\n",
       "      <td>F</td>\n",
       "      <td>civil servant</td>\n",
       "      <td>0</td>\n",
       "      <td>NaN</td>\n",
       "      <td>second-hand car purchase</td>\n",
       "    </tr>\n",
       "    <tr>\n",
       "      <th>55</th>\n",
       "      <td>0</td>\n",
       "      <td>NaN</td>\n",
       "      <td>54</td>\n",
       "      <td>secondary education</td>\n",
       "      <td>1</td>\n",
       "      <td>civil partnership</td>\n",
       "      <td>1</td>\n",
       "      <td>F</td>\n",
       "      <td>retiree</td>\n",
       "      <td>1</td>\n",
       "      <td>NaN</td>\n",
       "      <td>to have a wedding</td>\n",
       "    </tr>\n",
       "  </tbody>\n",
       "</table>\n",
       "</div>"
      ],
      "text/plain": [
       "    children  days_employed  dob_years            education  education_id  \\\n",
       "12         0            NaN         65  secondary education             1   \n",
       "26         0            NaN         41  secondary education             1   \n",
       "29         0            NaN         63  secondary education             1   \n",
       "41         0            NaN         50  secondary education             1   \n",
       "55         0            NaN         54  secondary education             1   \n",
       "\n",
       "        family_status  family_status_id gender    income_type  debt  \\\n",
       "12  civil partnership                 1      M        retiree     0   \n",
       "26            married                 0      M  civil servant     0   \n",
       "29          unmarried                 4      F        retiree     0   \n",
       "41            married                 0      F  civil servant     0   \n",
       "55  civil partnership                 1      F        retiree     1   \n",
       "\n",
       "    total_income                   purpose  \n",
       "12           NaN         to have a wedding  \n",
       "26           NaN                 education  \n",
       "29           NaN    building a real estate  \n",
       "41           NaN  second-hand car purchase  \n",
       "55           NaN         to have a wedding  "
      ]
     },
     "execution_count": 12,
     "metadata": {},
     "output_type": "execute_result"
    }
   ],
   "source": [
    "df[df['days_employed'].isnull()].head()"
   ]
  },
  {
   "cell_type": "markdown",
   "id": "a8182d1e",
   "metadata": {},
   "source": [
    "It appears that rows with missing values for <code>days_employed</code> also have missing values for <code>total_income</code>. We can confirm that these are all the same rows as follows:"
   ]
  },
  {
   "cell_type": "code",
   "execution_count": 13,
   "id": "6a91af90",
   "metadata": {},
   "outputs": [
    {
     "name": "stdout",
     "output_type": "stream",
     "text": [
      "Missing values for days_employed and missing values for total_income share the same rows.\n"
     ]
    }
   ],
   "source": [
    "days_employed_indices = df[df['days_employed'].isnull()].index.tolist()\n",
    "total_income_indices = df[df['total_income'].isnull()].index.tolist()\n",
    "\n",
    "if set(days_employed_indices) == set(total_income_indices):\n",
    "    print('Missing values for days_employed and missing values for total_income share the same rows.')"
   ]
  },
  {
   "cell_type": "markdown",
   "id": "8df71bd3",
   "metadata": {},
   "source": [
    "Note that these people are not all retirees or unemployed. Also, it is possible for reitrees and unemployed people to have non-employment income. For these reasons, we will choose non-zero default values.  For <code>days_cmployed</code>, we will fill in the mean value."
   ]
  },
  {
   "cell_type": "code",
   "execution_count": 14,
   "id": "7ede8e46",
   "metadata": {},
   "outputs": [],
   "source": [
    "df.loc[days_employed_indices, 'days_employed'] = df['days_employed'].mean(skipna=True)"
   ]
  },
  {
   "cell_type": "markdown",
   "id": "07c4f2a1",
   "metadata": {},
   "source": [
    "For <code>total_income</code>, we will fill in the median value based on the applicant's education level and income type.  First, we create a lookup table with the median incomes for each <code>education</code> and <code>income_type</code> pair:"
   ]
  },
  {
   "cell_type": "code",
   "execution_count": 15,
   "id": "8919217c",
   "metadata": {},
   "outputs": [
    {
     "data": {
      "text/html": [
       "<div>\n",
       "<style scoped>\n",
       "    .dataframe tbody tr th:only-of-type {\n",
       "        vertical-align: middle;\n",
       "    }\n",
       "\n",
       "    .dataframe tbody tr th {\n",
       "        vertical-align: top;\n",
       "    }\n",
       "\n",
       "    .dataframe thead th {\n",
       "        text-align: right;\n",
       "    }\n",
       "</style>\n",
       "<table border=\"1\" class=\"dataframe\">\n",
       "  <thead>\n",
       "    <tr style=\"text-align: right;\">\n",
       "      <th></th>\n",
       "      <th>education</th>\n",
       "      <th>employee</th>\n",
       "      <th>retiree</th>\n",
       "      <th>business</th>\n",
       "      <th>civil servant</th>\n",
       "      <th>unemployed</th>\n",
       "      <th>entrepreneur</th>\n",
       "      <th>student</th>\n",
       "      <th>paternity / maternity leave</th>\n",
       "    </tr>\n",
       "  </thead>\n",
       "  <tbody>\n",
       "    <tr>\n",
       "      <th>0</th>\n",
       "      <td>bachelor's degree</td>\n",
       "      <td>26502.5190</td>\n",
       "      <td>23078.523</td>\n",
       "      <td>32285.664</td>\n",
       "      <td>27601.7775</td>\n",
       "      <td>32435.602</td>\n",
       "      <td>79866.103</td>\n",
       "      <td>15712.26</td>\n",
       "      <td>0.000</td>\n",
       "    </tr>\n",
       "    <tr>\n",
       "      <th>1</th>\n",
       "      <td>secondary education</td>\n",
       "      <td>21848.8175</td>\n",
       "      <td>18374.857</td>\n",
       "      <td>25451.310</td>\n",
       "      <td>21864.4750</td>\n",
       "      <td>9593.119</td>\n",
       "      <td>0.000</td>\n",
       "      <td>0.00</td>\n",
       "      <td>8612.661</td>\n",
       "    </tr>\n",
       "    <tr>\n",
       "      <th>2</th>\n",
       "      <td>some college</td>\n",
       "      <td>24209.4300</td>\n",
       "      <td>19221.903</td>\n",
       "      <td>28778.744</td>\n",
       "      <td>25694.7750</td>\n",
       "      <td>0.000</td>\n",
       "      <td>0.000</td>\n",
       "      <td>0.00</td>\n",
       "      <td>0.000</td>\n",
       "    </tr>\n",
       "    <tr>\n",
       "      <th>3</th>\n",
       "      <td>primary education</td>\n",
       "      <td>20159.1860</td>\n",
       "      <td>16415.785</td>\n",
       "      <td>21887.825</td>\n",
       "      <td>23734.2870</td>\n",
       "      <td>0.000</td>\n",
       "      <td>0.000</td>\n",
       "      <td>0.00</td>\n",
       "      <td>0.000</td>\n",
       "    </tr>\n",
       "    <tr>\n",
       "      <th>4</th>\n",
       "      <td>graduate degree</td>\n",
       "      <td>31771.3210</td>\n",
       "      <td>28334.215</td>\n",
       "      <td>0.000</td>\n",
       "      <td>17822.7570</td>\n",
       "      <td>0.000</td>\n",
       "      <td>0.000</td>\n",
       "      <td>0.00</td>\n",
       "      <td>0.000</td>\n",
       "    </tr>\n",
       "  </tbody>\n",
       "</table>\n",
       "</div>"
      ],
      "text/plain": [
       "             education    employee    retiree   business  civil servant  \\\n",
       "0    bachelor's degree  26502.5190  23078.523  32285.664     27601.7775   \n",
       "1  secondary education  21848.8175  18374.857  25451.310     21864.4750   \n",
       "2         some college  24209.4300  19221.903  28778.744     25694.7750   \n",
       "3    primary education  20159.1860  16415.785  21887.825     23734.2870   \n",
       "4      graduate degree  31771.3210  28334.215      0.000     17822.7570   \n",
       "\n",
       "   unemployed  entrepreneur   student  paternity / maternity leave  \n",
       "0   32435.602     79866.103  15712.26                        0.000  \n",
       "1    9593.119         0.000      0.00                     8612.661  \n",
       "2       0.000         0.000      0.00                        0.000  \n",
       "3       0.000         0.000      0.00                        0.000  \n",
       "4       0.000         0.000      0.00                        0.000  "
      ]
     },
     "execution_count": 15,
     "metadata": {},
     "output_type": "execute_result"
    }
   ],
   "source": [
    "# Note: The following line fixes the duplicates in the education column\n",
    "df['education'] = df['education'].str.lower()\n",
    "\n",
    "education = df['education_id'].unique()\n",
    "columns = ['education']\n",
    "income_types = df['income_type'].unique()\n",
    "columns.extend(income_types)\n",
    "income_table = pd.DataFrame(columns=columns)\n",
    "\n",
    "for e in education:\n",
    "    income_table.loc[e, 'education'] = df[df['education_id'] == e]['education'].iloc[0]\n",
    "    for t in income_types:\n",
    "        income_table.loc[e, t] = df[(df['education_id'] == e) & (df['income_type'] == t)]['total_income'].median(skipna=True)\n",
    "\n",
    "income_table.fillna(0)"
   ]
  },
  {
   "cell_type": "markdown",
   "id": "340a0e81",
   "metadata": {},
   "source": [
    "Next, we will use this lookup table to supply default values for the missing values in the <code>total_income</code> column."
   ]
  },
  {
   "cell_type": "code",
   "execution_count": 16,
   "id": "ce77eed5",
   "metadata": {},
   "outputs": [
    {
     "data": {
      "text/html": [
       "<div>\n",
       "<style scoped>\n",
       "    .dataframe tbody tr th:only-of-type {\n",
       "        vertical-align: middle;\n",
       "    }\n",
       "\n",
       "    .dataframe tbody tr th {\n",
       "        vertical-align: top;\n",
       "    }\n",
       "\n",
       "    .dataframe thead th {\n",
       "        text-align: right;\n",
       "    }\n",
       "</style>\n",
       "<table border=\"1\" class=\"dataframe\">\n",
       "  <thead>\n",
       "    <tr style=\"text-align: right;\">\n",
       "      <th></th>\n",
       "      <th>children</th>\n",
       "      <th>days_employed</th>\n",
       "      <th>dob_years</th>\n",
       "      <th>education</th>\n",
       "      <th>education_id</th>\n",
       "      <th>family_status</th>\n",
       "      <th>family_status_id</th>\n",
       "      <th>gender</th>\n",
       "      <th>income_type</th>\n",
       "      <th>debt</th>\n",
       "      <th>total_income</th>\n",
       "      <th>purpose</th>\n",
       "    </tr>\n",
       "  </thead>\n",
       "  <tbody>\n",
       "    <tr>\n",
       "      <th>21489</th>\n",
       "      <td>2</td>\n",
       "      <td>1934.115623</td>\n",
       "      <td>47</td>\n",
       "      <td>secondary education</td>\n",
       "      <td>1</td>\n",
       "      <td>married</td>\n",
       "      <td>0</td>\n",
       "      <td>M</td>\n",
       "      <td>business</td>\n",
       "      <td>0</td>\n",
       "      <td>25451.3100</td>\n",
       "      <td>purchase of a car</td>\n",
       "    </tr>\n",
       "    <tr>\n",
       "      <th>21495</th>\n",
       "      <td>1</td>\n",
       "      <td>1934.115623</td>\n",
       "      <td>50</td>\n",
       "      <td>secondary education</td>\n",
       "      <td>1</td>\n",
       "      <td>civil partnership</td>\n",
       "      <td>1</td>\n",
       "      <td>F</td>\n",
       "      <td>employee</td>\n",
       "      <td>0</td>\n",
       "      <td>21848.8175</td>\n",
       "      <td>wedding ceremony</td>\n",
       "    </tr>\n",
       "    <tr>\n",
       "      <th>21497</th>\n",
       "      <td>0</td>\n",
       "      <td>1934.115623</td>\n",
       "      <td>48</td>\n",
       "      <td>bachelor's degree</td>\n",
       "      <td>0</td>\n",
       "      <td>married</td>\n",
       "      <td>0</td>\n",
       "      <td>F</td>\n",
       "      <td>business</td>\n",
       "      <td>0</td>\n",
       "      <td>32285.6640</td>\n",
       "      <td>building a property</td>\n",
       "    </tr>\n",
       "    <tr>\n",
       "      <th>21502</th>\n",
       "      <td>1</td>\n",
       "      <td>1934.115623</td>\n",
       "      <td>42</td>\n",
       "      <td>secondary education</td>\n",
       "      <td>1</td>\n",
       "      <td>married</td>\n",
       "      <td>0</td>\n",
       "      <td>F</td>\n",
       "      <td>employee</td>\n",
       "      <td>0</td>\n",
       "      <td>21848.8175</td>\n",
       "      <td>building a real estate</td>\n",
       "    </tr>\n",
       "    <tr>\n",
       "      <th>21510</th>\n",
       "      <td>2</td>\n",
       "      <td>1934.115623</td>\n",
       "      <td>28</td>\n",
       "      <td>secondary education</td>\n",
       "      <td>1</td>\n",
       "      <td>married</td>\n",
       "      <td>0</td>\n",
       "      <td>F</td>\n",
       "      <td>employee</td>\n",
       "      <td>0</td>\n",
       "      <td>21848.8175</td>\n",
       "      <td>car purchase</td>\n",
       "    </tr>\n",
       "  </tbody>\n",
       "</table>\n",
       "</div>"
      ],
      "text/plain": [
       "       children  days_employed  dob_years            education  education_id  \\\n",
       "21489         2    1934.115623         47  secondary education             1   \n",
       "21495         1    1934.115623         50  secondary education             1   \n",
       "21497         0    1934.115623         48    bachelor's degree             0   \n",
       "21502         1    1934.115623         42  secondary education             1   \n",
       "21510         2    1934.115623         28  secondary education             1   \n",
       "\n",
       "           family_status  family_status_id gender income_type  debt  \\\n",
       "21489            married                 0      M    business     0   \n",
       "21495  civil partnership                 1      F    employee     0   \n",
       "21497            married                 0      F    business     0   \n",
       "21502            married                 0      F    employee     0   \n",
       "21510            married                 0      F    employee     0   \n",
       "\n",
       "       total_income                 purpose  \n",
       "21489    25451.3100       purchase of a car  \n",
       "21495    21848.8175        wedding ceremony  \n",
       "21497    32285.6640     building a property  \n",
       "21502    21848.8175  building a real estate  \n",
       "21510    21848.8175            car purchase  "
      ]
     },
     "execution_count": 16,
     "metadata": {},
     "output_type": "execute_result"
    }
   ],
   "source": [
    "def add_default_income(row):\n",
    "    return income_table.loc[row['education_id'], row['income_type']]\n",
    "\n",
    "df.loc[total_income_indices, 'total_income'] = df.loc[total_income_indices].apply(add_default_income, axis=1)\n",
    "\n",
    "df.loc[total_income_indices].tail()"
   ]
  },
  {
   "cell_type": "markdown",
   "id": "7f242023",
   "metadata": {},
   "source": [
    "Missing values for <code>days_employed</code> have been replaced with the mean value for that column.  Missing values for <code>total_income</code> have been replaced with median values, taking education level and income type into account."
   ]
  },
  {
   "cell_type": "markdown",
   "id": "4e339879",
   "metadata": {},
   "source": [
    "### Conclusion\n",
    "In this section, we began by filling in the spurious values for <code>days_employed</code>.  Impossibly high values represented retirees (and a couple of unemployed), so these were set to zero.  The negative values seemed to be valid other than their sign and were replaced with their absolute value.  The range of <code>days_employed</code> was then checked and was reasonable.\n",
    "\n",
    "We investigated the missing values in the <code>days_employed</code> and <code>total_income</code> columns. We found that missing values for the columns shared the same rows but did not exhibit an obvious pattern in terms of other columns.  These \"missing at random\" values were replaced with mean and median default values.  The mean value was used for <code>days_employed</code>.  Median values, taking into account the applicant's education level and employment type, were used for <code>total_income</code>.\n",
    "\n",
    "How did the missing data arrive in the first place? <code>days_employed</code> and <code>total_income</code> were missing in exactly the same rows.  This suggests that the user interface of the software used by the borrower or loan officer links the two fields.  For instance, if the user fails to enter the employment length, the income field may not appear."
   ]
  },
  {
   "cell_type": "markdown",
   "id": "7b1b4bdd",
   "metadata": {},
   "source": [
    "### Processing spurious values\n",
    "In our initial look at the data, some columns looked \"OK\" but bad data could easily be hiding outside of the first and last 5 rows.  In this section, we examine each column in further detail, looking for any data that doesn't make sense."
   ]
  },
  {
   "cell_type": "markdown",
   "id": "21e227dc",
   "metadata": {},
   "source": [
    "#### children"
   ]
  },
  {
   "cell_type": "code",
   "execution_count": 17,
   "id": "c7065523",
   "metadata": {},
   "outputs": [
    {
     "data": {
      "text/plain": [
       " 0     14149\n",
       " 1      4818\n",
       " 2      2055\n",
       " 3       330\n",
       " 20       76\n",
       "-1        47\n",
       " 4        41\n",
       " 5         9\n",
       "Name: children, dtype: int64"
      ]
     },
     "execution_count": 17,
     "metadata": {},
     "output_type": "execute_result"
    }
   ],
   "source": [
    "df['children'].value_counts().sort_values(ascending=False)"
   ]
  },
  {
   "cell_type": "markdown",
   "id": "0eb6e8d2",
   "metadata": {},
   "source": [
    "Right off the bat, we have 47 rows with negative children, and 76 rows with 20 children.  Both of these are obviously erroneous.  (It is conceivable that someone could have 20 children, but it is inconveivable that the same data set would have no one with 19, 18...6 children, and that there would be more people with 20 children than with 5 children.)  First, let's look at the rows with negative children."
   ]
  },
  {
   "cell_type": "code",
   "execution_count": 18,
   "id": "8b543c57",
   "metadata": {},
   "outputs": [
    {
     "data": {
      "text/html": [
       "<div>\n",
       "<style scoped>\n",
       "    .dataframe tbody tr th:only-of-type {\n",
       "        vertical-align: middle;\n",
       "    }\n",
       "\n",
       "    .dataframe tbody tr th {\n",
       "        vertical-align: top;\n",
       "    }\n",
       "\n",
       "    .dataframe thead th {\n",
       "        text-align: right;\n",
       "    }\n",
       "</style>\n",
       "<table border=\"1\" class=\"dataframe\">\n",
       "  <thead>\n",
       "    <tr style=\"text-align: right;\">\n",
       "      <th></th>\n",
       "      <th>children</th>\n",
       "      <th>days_employed</th>\n",
       "      <th>dob_years</th>\n",
       "      <th>education</th>\n",
       "      <th>education_id</th>\n",
       "      <th>family_status</th>\n",
       "      <th>family_status_id</th>\n",
       "      <th>gender</th>\n",
       "      <th>income_type</th>\n",
       "      <th>debt</th>\n",
       "      <th>total_income</th>\n",
       "      <th>purpose</th>\n",
       "    </tr>\n",
       "  </thead>\n",
       "  <tbody>\n",
       "    <tr>\n",
       "      <th>291</th>\n",
       "      <td>-1</td>\n",
       "      <td>4417.703588</td>\n",
       "      <td>46</td>\n",
       "      <td>secondary education</td>\n",
       "      <td>1</td>\n",
       "      <td>civil partnership</td>\n",
       "      <td>1</td>\n",
       "      <td>F</td>\n",
       "      <td>employee</td>\n",
       "      <td>0</td>\n",
       "      <td>16450.615</td>\n",
       "      <td>profile education</td>\n",
       "    </tr>\n",
       "    <tr>\n",
       "      <th>705</th>\n",
       "      <td>-1</td>\n",
       "      <td>902.084528</td>\n",
       "      <td>50</td>\n",
       "      <td>secondary education</td>\n",
       "      <td>1</td>\n",
       "      <td>married</td>\n",
       "      <td>0</td>\n",
       "      <td>F</td>\n",
       "      <td>civil servant</td>\n",
       "      <td>0</td>\n",
       "      <td>22061.264</td>\n",
       "      <td>car purchase</td>\n",
       "    </tr>\n",
       "    <tr>\n",
       "      <th>742</th>\n",
       "      <td>-1</td>\n",
       "      <td>3174.456205</td>\n",
       "      <td>57</td>\n",
       "      <td>secondary education</td>\n",
       "      <td>1</td>\n",
       "      <td>married</td>\n",
       "      <td>0</td>\n",
       "      <td>F</td>\n",
       "      <td>employee</td>\n",
       "      <td>0</td>\n",
       "      <td>10282.887</td>\n",
       "      <td>supplementary education</td>\n",
       "    </tr>\n",
       "    <tr>\n",
       "      <th>800</th>\n",
       "      <td>-1</td>\n",
       "      <td>0.000000</td>\n",
       "      <td>54</td>\n",
       "      <td>secondary education</td>\n",
       "      <td>1</td>\n",
       "      <td>unmarried</td>\n",
       "      <td>4</td>\n",
       "      <td>F</td>\n",
       "      <td>retiree</td>\n",
       "      <td>0</td>\n",
       "      <td>13806.996</td>\n",
       "      <td>supplementary education</td>\n",
       "    </tr>\n",
       "    <tr>\n",
       "      <th>941</th>\n",
       "      <td>-1</td>\n",
       "      <td>1934.115623</td>\n",
       "      <td>57</td>\n",
       "      <td>secondary education</td>\n",
       "      <td>1</td>\n",
       "      <td>married</td>\n",
       "      <td>0</td>\n",
       "      <td>F</td>\n",
       "      <td>retiree</td>\n",
       "      <td>0</td>\n",
       "      <td>18374.857</td>\n",
       "      <td>buying my own car</td>\n",
       "    </tr>\n",
       "  </tbody>\n",
       "</table>\n",
       "</div>"
      ],
      "text/plain": [
       "     children  days_employed  dob_years            education  education_id  \\\n",
       "291        -1    4417.703588         46  secondary education             1   \n",
       "705        -1     902.084528         50  secondary education             1   \n",
       "742        -1    3174.456205         57  secondary education             1   \n",
       "800        -1       0.000000         54  secondary education             1   \n",
       "941        -1    1934.115623         57  secondary education             1   \n",
       "\n",
       "         family_status  family_status_id gender    income_type  debt  \\\n",
       "291  civil partnership                 1      F       employee     0   \n",
       "705            married                 0      F  civil servant     0   \n",
       "742            married                 0      F       employee     0   \n",
       "800          unmarried                 4      F        retiree     0   \n",
       "941            married                 0      F        retiree     0   \n",
       "\n",
       "     total_income                  purpose  \n",
       "291     16450.615        profile education  \n",
       "705     22061.264             car purchase  \n",
       "742     10282.887  supplementary education  \n",
       "800     13806.996  supplementary education  \n",
       "941     18374.857        buying my own car  "
      ]
     },
     "execution_count": 18,
     "metadata": {},
     "output_type": "execute_result"
    }
   ],
   "source": [
    "df[df['children'] == -1].head()"
   ]
  },
  {
   "cell_type": "markdown",
   "id": "29ffee07",
   "metadata": {},
   "source": [
    "I see no obvious pattern explaining why these rows have negative children.  Since the error appears to be random, a default value will be assigned.  Two approaches are evident:\n",
    "\n",
    "1. Fill all with 0, since thats the most frequent number of children (i.e., the mode).\n",
    "2. Fill in with different numbers of children based on a breakdown of number of children by something like age or marital status.\n",
    "\n",
    "The second option seems like a lot of work for little benefit. (The negatives only represent about 0.2% of the data.)  So, we will fill in zeros."
   ]
  },
  {
   "cell_type": "code",
   "execution_count": 19,
   "id": "7949de7b",
   "metadata": {},
   "outputs": [],
   "source": [
    "df.loc[df['children'] == -1, 'children'] = 0"
   ]
  },
  {
   "cell_type": "markdown",
   "id": "aa3f43e3",
   "metadata": {},
   "source": [
    "Next we turn our attention to the weird rows with 20 children."
   ]
  },
  {
   "cell_type": "code",
   "execution_count": 20,
   "id": "8b4a0bd6",
   "metadata": {},
   "outputs": [
    {
     "data": {
      "text/html": [
       "<div>\n",
       "<style scoped>\n",
       "    .dataframe tbody tr th:only-of-type {\n",
       "        vertical-align: middle;\n",
       "    }\n",
       "\n",
       "    .dataframe tbody tr th {\n",
       "        vertical-align: top;\n",
       "    }\n",
       "\n",
       "    .dataframe thead th {\n",
       "        text-align: right;\n",
       "    }\n",
       "</style>\n",
       "<table border=\"1\" class=\"dataframe\">\n",
       "  <thead>\n",
       "    <tr style=\"text-align: right;\">\n",
       "      <th></th>\n",
       "      <th>children</th>\n",
       "      <th>days_employed</th>\n",
       "      <th>dob_years</th>\n",
       "      <th>education</th>\n",
       "      <th>education_id</th>\n",
       "      <th>family_status</th>\n",
       "      <th>family_status_id</th>\n",
       "      <th>gender</th>\n",
       "      <th>income_type</th>\n",
       "      <th>debt</th>\n",
       "      <th>total_income</th>\n",
       "      <th>purpose</th>\n",
       "    </tr>\n",
       "  </thead>\n",
       "  <tbody>\n",
       "    <tr>\n",
       "      <th>606</th>\n",
       "      <td>20</td>\n",
       "      <td>880.221113</td>\n",
       "      <td>21</td>\n",
       "      <td>secondary education</td>\n",
       "      <td>1</td>\n",
       "      <td>married</td>\n",
       "      <td>0</td>\n",
       "      <td>M</td>\n",
       "      <td>business</td>\n",
       "      <td>0</td>\n",
       "      <td>23253.578</td>\n",
       "      <td>purchase of the house</td>\n",
       "    </tr>\n",
       "    <tr>\n",
       "      <th>720</th>\n",
       "      <td>20</td>\n",
       "      <td>855.595512</td>\n",
       "      <td>44</td>\n",
       "      <td>secondary education</td>\n",
       "      <td>1</td>\n",
       "      <td>married</td>\n",
       "      <td>0</td>\n",
       "      <td>F</td>\n",
       "      <td>business</td>\n",
       "      <td>0</td>\n",
       "      <td>18079.798</td>\n",
       "      <td>buy real estate</td>\n",
       "    </tr>\n",
       "    <tr>\n",
       "      <th>1074</th>\n",
       "      <td>20</td>\n",
       "      <td>3310.411598</td>\n",
       "      <td>56</td>\n",
       "      <td>secondary education</td>\n",
       "      <td>1</td>\n",
       "      <td>married</td>\n",
       "      <td>0</td>\n",
       "      <td>F</td>\n",
       "      <td>employee</td>\n",
       "      <td>1</td>\n",
       "      <td>36722.966</td>\n",
       "      <td>getting an education</td>\n",
       "    </tr>\n",
       "    <tr>\n",
       "      <th>2510</th>\n",
       "      <td>20</td>\n",
       "      <td>2714.161249</td>\n",
       "      <td>59</td>\n",
       "      <td>bachelor's degree</td>\n",
       "      <td>0</td>\n",
       "      <td>widow / widower</td>\n",
       "      <td>2</td>\n",
       "      <td>F</td>\n",
       "      <td>employee</td>\n",
       "      <td>0</td>\n",
       "      <td>42315.974</td>\n",
       "      <td>transactions with commercial real estate</td>\n",
       "    </tr>\n",
       "    <tr>\n",
       "      <th>2941</th>\n",
       "      <td>20</td>\n",
       "      <td>2161.591519</td>\n",
       "      <td>0</td>\n",
       "      <td>secondary education</td>\n",
       "      <td>1</td>\n",
       "      <td>married</td>\n",
       "      <td>0</td>\n",
       "      <td>F</td>\n",
       "      <td>employee</td>\n",
       "      <td>0</td>\n",
       "      <td>31958.391</td>\n",
       "      <td>to buy a car</td>\n",
       "    </tr>\n",
       "  </tbody>\n",
       "</table>\n",
       "</div>"
      ],
      "text/plain": [
       "      children  days_employed  dob_years            education  education_id  \\\n",
       "606         20     880.221113         21  secondary education             1   \n",
       "720         20     855.595512         44  secondary education             1   \n",
       "1074        20    3310.411598         56  secondary education             1   \n",
       "2510        20    2714.161249         59    bachelor's degree             0   \n",
       "2941        20    2161.591519          0  secondary education             1   \n",
       "\n",
       "        family_status  family_status_id gender income_type  debt  \\\n",
       "606           married                 0      M    business     0   \n",
       "720           married                 0      F    business     0   \n",
       "1074          married                 0      F    employee     1   \n",
       "2510  widow / widower                 2      F    employee     0   \n",
       "2941          married                 0      F    employee     0   \n",
       "\n",
       "      total_income                                   purpose  \n",
       "606      23253.578                     purchase of the house  \n",
       "720      18079.798                           buy real estate  \n",
       "1074     36722.966                      getting an education  \n",
       "2510     42315.974  transactions with commercial real estate  \n",
       "2941     31958.391                              to buy a car  "
      ]
     },
     "execution_count": 20,
     "metadata": {},
     "output_type": "execute_result"
    }
   ],
   "source": [
    "df[df['children'] == 20].head()"
   ]
  },
  {
   "cell_type": "markdown",
   "id": "3470faea",
   "metadata": {},
   "source": [
    "Again, no pattern emerges, and again, we will replace the values with zeros."
   ]
  },
  {
   "cell_type": "code",
   "execution_count": 21,
   "id": "e9f1f3d3",
   "metadata": {},
   "outputs": [
    {
     "data": {
      "text/plain": [
       "0    14272\n",
       "1     4818\n",
       "2     2055\n",
       "3      330\n",
       "4       41\n",
       "5        9\n",
       "Name: children, dtype: int64"
      ]
     },
     "execution_count": 21,
     "metadata": {},
     "output_type": "execute_result"
    }
   ],
   "source": [
    "df.loc[df['children'] == 20, 'children'] = 0\n",
    "df['children'].value_counts().sort_values(ascending=False)"
   ]
  },
  {
   "cell_type": "markdown",
   "id": "16e0c614",
   "metadata": {},
   "source": [
    "#### days_employed\n",
    "See previous section."
   ]
  },
  {
   "cell_type": "markdown",
   "id": "b29e8bc1",
   "metadata": {},
   "source": [
    "#### dob_years"
   ]
  },
  {
   "cell_type": "code",
   "execution_count": 22,
   "id": "be997cb2",
   "metadata": {},
   "outputs": [
    {
     "data": {
      "text/plain": [
       "0     101\n",
       "19     14\n",
       "20     51\n",
       "21    111\n",
       "22    183\n",
       "23    254\n",
       "24    264\n",
       "25    357\n",
       "26    408\n",
       "27    493\n",
       "28    503\n",
       "29    545\n",
       "30    540\n",
       "31    560\n",
       "32    510\n",
       "33    581\n",
       "34    603\n",
       "35    617\n",
       "36    555\n",
       "37    537\n",
       "38    598\n",
       "39    573\n",
       "40    609\n",
       "41    607\n",
       "42    597\n",
       "43    513\n",
       "44    547\n",
       "45    497\n",
       "46    475\n",
       "47    480\n",
       "48    538\n",
       "49    508\n",
       "50    514\n",
       "51    448\n",
       "52    484\n",
       "53    459\n",
       "54    479\n",
       "55    443\n",
       "56    487\n",
       "57    460\n",
       "58    461\n",
       "59    444\n",
       "60    377\n",
       "61    355\n",
       "62    352\n",
       "63    269\n",
       "64    265\n",
       "65    194\n",
       "66    183\n",
       "67    167\n",
       "68     99\n",
       "69     85\n",
       "70     65\n",
       "71     58\n",
       "72     33\n",
       "73      8\n",
       "74      6\n",
       "75      1\n",
       "Name: dob_years, dtype: int64"
      ]
     },
     "execution_count": 22,
     "metadata": {},
     "output_type": "execute_result"
    }
   ],
   "source": [
    "df['dob_years'].value_counts().sort_index()"
   ]
  },
  {
   "cell_type": "markdown",
   "id": "d884b11b",
   "metadata": {},
   "source": [
    "We have 101 zero-year-olds. Replace with the mean age, based on a new column, <code>years_employed</code>."
   ]
  },
  {
   "cell_type": "code",
   "execution_count": 23,
   "id": "d69aa907",
   "metadata": {},
   "outputs": [
    {
     "data": {
      "text/plain": [
       "19     14\n",
       "20     51\n",
       "21    111\n",
       "22    183\n",
       "23    254\n",
       "24    264\n",
       "25    357\n",
       "26    408\n",
       "27    493\n",
       "28    503\n",
       "29    545\n",
       "30    540\n",
       "31    560\n",
       "32    510\n",
       "33    581\n",
       "34    603\n",
       "35    617\n",
       "36    569\n",
       "37    549\n",
       "38    610\n",
       "39    577\n",
       "40    611\n",
       "41    611\n",
       "42    615\n",
       "43    518\n",
       "44    547\n",
       "45    497\n",
       "46    477\n",
       "47    481\n",
       "48    538\n",
       "49    510\n",
       "50    514\n",
       "51    473\n",
       "52    484\n",
       "53    459\n",
       "54    479\n",
       "55    443\n",
       "56    487\n",
       "57    460\n",
       "58    461\n",
       "59    444\n",
       "60    377\n",
       "61    355\n",
       "62    352\n",
       "63    269\n",
       "64    265\n",
       "65    194\n",
       "66    183\n",
       "67    167\n",
       "68     99\n",
       "69     85\n",
       "70     65\n",
       "71     58\n",
       "72     33\n",
       "73      8\n",
       "74      6\n",
       "75      1\n",
       "Name: dob_years, dtype: int64"
      ]
     },
     "execution_count": 23,
     "metadata": {},
     "output_type": "execute_result"
    }
   ],
   "source": [
    "df['years_employed'] = (df['days_employed']/365).astype('int')\n",
    "\n",
    "def guess_dob(row):\n",
    "    return int(df[df['years_employed'] == row['years_employed']]['dob_years'].mean(skipna=True))\n",
    "\n",
    "df.loc[df['dob_years'] == 0, 'dob_years'] = df.apply(guess_dob, axis=1)\n",
    "df['dob_years'].value_counts().sort_index()"
   ]
  },
  {
   "cell_type": "markdown",
   "id": "59ef9154",
   "metadata": {},
   "source": [
    "#### education\n",
    "See below (Processing Duplicates)."
   ]
  },
  {
   "cell_type": "markdown",
   "id": "a9f88eab",
   "metadata": {},
   "source": [
    "#### family_status"
   ]
  },
  {
   "cell_type": "code",
   "execution_count": 24,
   "id": "8d8521cd",
   "metadata": {},
   "outputs": [
    {
     "data": {
      "text/plain": [
       "civil partnership     4177\n",
       "divorced              1195\n",
       "married              12380\n",
       "unmarried             2813\n",
       "widow / widower        960\n",
       "Name: family_status, dtype: int64"
      ]
     },
     "execution_count": 24,
     "metadata": {},
     "output_type": "execute_result"
    }
   ],
   "source": [
    "df['family_status'].value_counts().sort_index()"
   ]
  },
  {
   "cell_type": "markdown",
   "id": "82f00b31",
   "metadata": {},
   "source": [
    "This one looks okay."
   ]
  },
  {
   "cell_type": "markdown",
   "id": "e41a081f",
   "metadata": {},
   "source": [
    "#### gender"
   ]
  },
  {
   "cell_type": "code",
   "execution_count": 25,
   "id": "851f2f6d",
   "metadata": {},
   "outputs": [
    {
     "data": {
      "text/plain": [
       "F      14236\n",
       "M       7288\n",
       "XNA        1\n",
       "Name: gender, dtype: int64"
      ]
     },
     "execution_count": 25,
     "metadata": {},
     "output_type": "execute_result"
    }
   ],
   "source": [
    "df['gender'].value_counts().sort_index()"
   ]
  },
  {
   "cell_type": "code",
   "execution_count": 26,
   "id": "4bc16d61",
   "metadata": {},
   "outputs": [
    {
     "data": {
      "text/html": [
       "<div>\n",
       "<style scoped>\n",
       "    .dataframe tbody tr th:only-of-type {\n",
       "        vertical-align: middle;\n",
       "    }\n",
       "\n",
       "    .dataframe tbody tr th {\n",
       "        vertical-align: top;\n",
       "    }\n",
       "\n",
       "    .dataframe thead th {\n",
       "        text-align: right;\n",
       "    }\n",
       "</style>\n",
       "<table border=\"1\" class=\"dataframe\">\n",
       "  <thead>\n",
       "    <tr style=\"text-align: right;\">\n",
       "      <th></th>\n",
       "      <th>children</th>\n",
       "      <th>days_employed</th>\n",
       "      <th>dob_years</th>\n",
       "      <th>education</th>\n",
       "      <th>education_id</th>\n",
       "      <th>family_status</th>\n",
       "      <th>family_status_id</th>\n",
       "      <th>gender</th>\n",
       "      <th>income_type</th>\n",
       "      <th>debt</th>\n",
       "      <th>total_income</th>\n",
       "      <th>purpose</th>\n",
       "      <th>years_employed</th>\n",
       "    </tr>\n",
       "  </thead>\n",
       "  <tbody>\n",
       "    <tr>\n",
       "      <th>10701</th>\n",
       "      <td>0</td>\n",
       "      <td>2358.600502</td>\n",
       "      <td>24</td>\n",
       "      <td>some college</td>\n",
       "      <td>2</td>\n",
       "      <td>civil partnership</td>\n",
       "      <td>1</td>\n",
       "      <td>XNA</td>\n",
       "      <td>business</td>\n",
       "      <td>0</td>\n",
       "      <td>32624.825</td>\n",
       "      <td>buy real estate</td>\n",
       "      <td>6</td>\n",
       "    </tr>\n",
       "  </tbody>\n",
       "</table>\n",
       "</div>"
      ],
      "text/plain": [
       "       children  days_employed  dob_years     education  education_id  \\\n",
       "10701         0    2358.600502         24  some college             2   \n",
       "\n",
       "           family_status  family_status_id gender income_type  debt  \\\n",
       "10701  civil partnership                 1    XNA    business     0   \n",
       "\n",
       "       total_income          purpose  years_employed  \n",
       "10701     32624.825  buy real estate               6  "
      ]
     },
     "execution_count": 26,
     "metadata": {},
     "output_type": "execute_result"
    }
   ],
   "source": [
    "df[df['gender'] == 'XNA']"
   ]
  },
  {
   "cell_type": "markdown",
   "id": "b9d9c189",
   "metadata": {},
   "source": [
    "They're in a civil partnership, so I suspect this is not a typo. No change."
   ]
  },
  {
   "cell_type": "markdown",
   "id": "3c3a8964",
   "metadata": {},
   "source": [
    "#### debt"
   ]
  },
  {
   "cell_type": "code",
   "execution_count": 27,
   "id": "8b59ea5d",
   "metadata": {},
   "outputs": [
    {
     "data": {
      "text/plain": [
       "0    19784\n",
       "1     1741\n",
       "Name: debt, dtype: int64"
      ]
     },
     "execution_count": 27,
     "metadata": {},
     "output_type": "execute_result"
    }
   ],
   "source": [
    "df['debt'].value_counts()"
   ]
  },
  {
   "cell_type": "markdown",
   "id": "5f424f4c",
   "metadata": {},
   "source": [
    "Looks correct."
   ]
  },
  {
   "cell_type": "markdown",
   "id": "abcd1003",
   "metadata": {},
   "source": [
    "#### total_income"
   ]
  },
  {
   "cell_type": "code",
   "execution_count": 28,
   "id": "ff4eaf99",
   "metadata": {},
   "outputs": [
    {
     "name": "stdout",
     "output_type": "stream",
     "text": [
      "Min income: 3306.762\n",
      "Max income: 362496.645\n",
      "\n"
     ]
    }
   ],
   "source": [
    "min_income = df['total_income'].min()\n",
    "max_income = df['total_income'].max()\n",
    "print(\"Min income: {}\\nMax income: {}\\n\".format(min_income, max_income))"
   ]
  },
  {
   "cell_type": "markdown",
   "id": "7ac9bef9",
   "metadata": {},
   "source": [
    "Again, seems reasonable."
   ]
  },
  {
   "cell_type": "markdown",
   "id": "2def2656",
   "metadata": {},
   "source": [
    "#### purpose"
   ]
  },
  {
   "cell_type": "markdown",
   "id": "b71b00b1",
   "metadata": {},
   "source": [
    "The purpose field will be processed to standardize its values. This will be covered below, in the Categorizing Data section."
   ]
  },
  {
   "cell_type": "markdown",
   "id": "dd0a4a2d",
   "metadata": {},
   "source": [
    "### Conclusion\n",
    "In this section, we examined each column in more detail.  While some of the columns seemed correct, we found and corrected a couple of errors:\n",
    "- Families with negative children and 20 children became childless.\n",
    "- Zero-year-olds were assigned the average age, based on how many years they've been employed."
   ]
  },
  {
   "cell_type": "markdown",
   "id": "c3bd032d",
   "metadata": {},
   "source": [
    "### Data type replacement"
   ]
  },
  {
   "cell_type": "markdown",
   "id": "efb43ecf",
   "metadata": {},
   "source": [
    "#### days_employed\n",
    "Overall, the data types in the initial data set seem appropriate.  One possible exception is <code>days_employed</code>, which is a float but should probably be an integer."
   ]
  },
  {
   "cell_type": "code",
   "execution_count": 29,
   "id": "94dcba56",
   "metadata": {},
   "outputs": [
    {
     "name": "stdout",
     "output_type": "stream",
     "text": [
      "<class 'pandas.core.frame.DataFrame'>\n",
      "RangeIndex: 21525 entries, 0 to 21524\n",
      "Data columns (total 13 columns):\n",
      " #   Column            Non-Null Count  Dtype  \n",
      "---  ------            --------------  -----  \n",
      " 0   children          21525 non-null  int64  \n",
      " 1   days_employed     21525 non-null  int64  \n",
      " 2   dob_years         21525 non-null  int64  \n",
      " 3   education         21525 non-null  object \n",
      " 4   education_id      21525 non-null  int64  \n",
      " 5   family_status     21525 non-null  object \n",
      " 6   family_status_id  21525 non-null  int64  \n",
      " 7   gender            21525 non-null  object \n",
      " 8   income_type       21525 non-null  object \n",
      " 9   debt              21525 non-null  int64  \n",
      " 10  total_income      21525 non-null  float64\n",
      " 11  purpose           21525 non-null  object \n",
      " 12  years_employed    21525 non-null  int64  \n",
      "dtypes: float64(1), int64(7), object(5)\n",
      "memory usage: 2.1+ MB\n"
     ]
    }
   ],
   "source": [
    "df['days_employed'] = df['days_employed'].astype('int')\n",
    "df.info()"
   ]
  },
  {
   "cell_type": "markdown",
   "id": "0f8d08fb",
   "metadata": {},
   "source": [
    "### Conclusion\n",
    "<code>astype()</code> was used to change <code>days_employed</code> from float to int.\n",
    "- <code>astype()</code> is the preferred approach when the column you want to convert is already a numeric type.\n",
    "- <code>to_numeric()</code> can be used when some of the data is not already numeric type.  It allows you to specify how to handle non-numeric input."
   ]
  },
  {
   "cell_type": "markdown",
   "id": "3fe3866c",
   "metadata": {},
   "source": [
    "### Processing duplicates\n",
    "Our initial look at the data revealed that the <code>education</code> field had inconsistent capitalization.   Fortunately, there were no other inconsistencies, such as punctuation or spelling errors. We already fixed the capitalization in the Processing missing values section above, with the following code:\n",
    "\n",
    "``` python\n",
    "df['education'] = df['education'].str.lower()\n",
    "```"
   ]
  },
  {
   "cell_type": "code",
   "execution_count": 30,
   "id": "3cef3535",
   "metadata": {},
   "outputs": [
    {
     "data": {
      "text/plain": [
       "secondary education    15233\n",
       "bachelor's degree       5260\n",
       "some college             744\n",
       "primary education        282\n",
       "graduate degree            6\n",
       "Name: education, dtype: int64"
      ]
     },
     "execution_count": 30,
     "metadata": {},
     "output_type": "execute_result"
    }
   ],
   "source": [
    "df['education'].value_counts()"
   ]
  },
  {
   "cell_type": "markdown",
   "id": "07a4df8f",
   "metadata": {},
   "source": [
    "### Conclusion\n",
    "The duplicate data (inconsistent capitalization) in the <code>education</code> column) may have resulted from manual data entry.  However, I would actually expect greater inconsistency in the data if it were entered by the borrowers themselves.  Another possible explanation for the the observed pattern of inconsistency could be changes in the software used to input or collect the data.  This could produce differences in capitalization without spelling or punctuation errors."
   ]
  },
  {
   "cell_type": "markdown",
   "id": "cbd31c71",
   "metadata": {},
   "source": [
    "### Categorizing Data"
   ]
  },
  {
   "cell_type": "markdown",
   "id": "bbf114e2",
   "metadata": {},
   "source": [
    "#### Standardizing the purpose column\n",
    "Our preliminary look at the data showed inconsistencies in the <code>purpose</code> column.  In particular, the same purpose was described in many different ways, and some descriptions were ambiguous.  The goal is to replace the current hodgepodge of purposes with a smaller, standardized list.  The overall approach is as follows:\n",
    "\n",
    "1. Lemmatize the purpose column.\n",
    "2. Examine the list of lemmas for patterns.\n",
    "3. Find a small, yet descriptive, set of purposes.\n",
    "4. Apply the standardized purposes to the DataFrame."
   ]
  },
  {
   "cell_type": "markdown",
   "id": "96ce410e",
   "metadata": {},
   "source": [
    "##### Lemmatize the purpose column\n",
    "First, we gather all of the lemmas in the data for analysis.  We use Counter to pick out the unique ones."
   ]
  },
  {
   "cell_type": "code",
   "execution_count": 31,
   "id": "cdbc7251",
   "metadata": {},
   "outputs": [
    {
     "data": {
      "text/plain": [
       "Counter({'purchase': 6,\n",
       "         'of': 5,\n",
       "         'the': 2,\n",
       "         'house': 3,\n",
       "         'car': 9,\n",
       "         'supplementary': 2,\n",
       "         'education': 7,\n",
       "         'to': 6,\n",
       "         'have': 1,\n",
       "         'a': 9,\n",
       "         'wedding': 3,\n",
       "         'housing': 3,\n",
       "         'transaction': 4,\n",
       "         'having': 1,\n",
       "         'for': 2,\n",
       "         'my': 4,\n",
       "         'family': 1,\n",
       "         'buy': 4,\n",
       "         'real': 7,\n",
       "         'estate': 7,\n",
       "         'commercial': 2,\n",
       "         'residential': 1,\n",
       "         'construction': 1,\n",
       "         'own': 4,\n",
       "         'property': 4,\n",
       "         'building': 2,\n",
       "         'buying': 3,\n",
       "         'second-hand': 2,\n",
       "         'with': 2,\n",
       "         'become': 1,\n",
       "         'educated': 1,\n",
       "         'getting': 2,\n",
       "         'an': 1,\n",
       "         'ceremony': 1,\n",
       "         'get': 1,\n",
       "         'higher': 1,\n",
       "         'profile': 1,\n",
       "         'university': 2,\n",
       "         'renting': 1,\n",
       "         'out': 1,\n",
       "         'renovation': 1,\n",
       "         'going': 1})"
      ]
     },
     "execution_count": 31,
     "metadata": {},
     "output_type": "execute_result"
    }
   ],
   "source": [
    "purposes = ' '.join(df['purpose'].unique())\n",
    "words = nltk.word_tokenize(purposes)\n",
    "wordnet_lemma = WordNetLemmatizer()\n",
    "lemmas = Counter([wordnet_lemma.lemmatize(w, pos='n') for w in words])\n",
    "lemmas"
   ]
  },
  {
   "cell_type": "markdown",
   "id": "6db7cd29",
   "metadata": {},
   "source": [
    "##### Examine the list of lemmas for patterns"
   ]
  },
  {
   "cell_type": "markdown",
   "id": "fb5d8b0a",
   "metadata": {},
   "source": [
    "Examining the lemmas, there appear to be three categories:\n",
    "\n",
    "1. Lemmas that clearly imply a particular purpose. These will become part of our standadized purpose.\n",
    "    - 'house', 'car', 'education', 'wedding', 'housing'\n",
    "2. Lemmas that carry no useful meaning. These will be ignored.\n",
    "    - 'purchase', 'purpose', 'of', 'the', 'to', 'have', 'a', 'having', 'for', 'my', 'buy', 'own', 'buying', 'second-hand', 'with', 'become', 'getting', 'an', 'get', 'out', 'going'\n",
    "3. Lemmas that require further investigation. These will be flagged for further analysis.\n",
    "\n",
    "For step 3, we will create a table relating the flagged lemmas and to how they appear in the <code>purpose</code> column."
   ]
  },
  {
   "cell_type": "code",
   "execution_count": 32,
   "id": "087f92ae",
   "metadata": {},
   "outputs": [
    {
     "data": {
      "text/html": [
       "<div>\n",
       "<style scoped>\n",
       "    .dataframe tbody tr th:only-of-type {\n",
       "        vertical-align: middle;\n",
       "    }\n",
       "\n",
       "    .dataframe tbody tr th {\n",
       "        vertical-align: top;\n",
       "    }\n",
       "\n",
       "    .dataframe thead th {\n",
       "        text-align: right;\n",
       "    }\n",
       "</style>\n",
       "<table border=\"1\" class=\"dataframe\">\n",
       "  <thead>\n",
       "    <tr style=\"text-align: right;\">\n",
       "      <th></th>\n",
       "      <th>flag</th>\n",
       "      <th>purpose</th>\n",
       "      <th>count</th>\n",
       "    </tr>\n",
       "  </thead>\n",
       "  <tbody>\n",
       "    <tr>\n",
       "      <th>0</th>\n",
       "      <td>supplementary</td>\n",
       "      <td>supplementary education</td>\n",
       "      <td>462</td>\n",
       "    </tr>\n",
       "    <tr>\n",
       "      <th>1</th>\n",
       "      <td>supplementary</td>\n",
       "      <td>to get a supplementary education</td>\n",
       "      <td>447</td>\n",
       "    </tr>\n",
       "    <tr>\n",
       "      <th>2</th>\n",
       "      <td>transaction</td>\n",
       "      <td>housing transaction</td>\n",
       "      <td>653</td>\n",
       "    </tr>\n",
       "    <tr>\n",
       "      <th>3</th>\n",
       "      <td>transaction</td>\n",
       "      <td>transaction with commercial real estate</td>\n",
       "      <td>651</td>\n",
       "    </tr>\n",
       "    <tr>\n",
       "      <th>4</th>\n",
       "      <td>transaction</td>\n",
       "      <td>transaction with my real estate</td>\n",
       "      <td>630</td>\n",
       "    </tr>\n",
       "    <tr>\n",
       "      <th>5</th>\n",
       "      <td>transaction</td>\n",
       "      <td>real estate transaction</td>\n",
       "      <td>676</td>\n",
       "    </tr>\n",
       "    <tr>\n",
       "      <th>6</th>\n",
       "      <td>family</td>\n",
       "      <td>purchase of the house for my family</td>\n",
       "      <td>641</td>\n",
       "    </tr>\n",
       "    <tr>\n",
       "      <th>7</th>\n",
       "      <td>real</td>\n",
       "      <td>buy real estate</td>\n",
       "      <td>624</td>\n",
       "    </tr>\n",
       "    <tr>\n",
       "      <th>8</th>\n",
       "      <td>real</td>\n",
       "      <td>buy commercial real estate</td>\n",
       "      <td>664</td>\n",
       "    </tr>\n",
       "    <tr>\n",
       "      <th>9</th>\n",
       "      <td>real</td>\n",
       "      <td>buy residential real estate</td>\n",
       "      <td>607</td>\n",
       "    </tr>\n",
       "    <tr>\n",
       "      <th>10</th>\n",
       "      <td>real</td>\n",
       "      <td>transaction with commercial real estate</td>\n",
       "      <td>651</td>\n",
       "    </tr>\n",
       "    <tr>\n",
       "      <th>11</th>\n",
       "      <td>real</td>\n",
       "      <td>building a real estate</td>\n",
       "      <td>626</td>\n",
       "    </tr>\n",
       "    <tr>\n",
       "      <th>12</th>\n",
       "      <td>real</td>\n",
       "      <td>transaction with my real estate</td>\n",
       "      <td>630</td>\n",
       "    </tr>\n",
       "    <tr>\n",
       "      <th>13</th>\n",
       "      <td>real</td>\n",
       "      <td>real estate transaction</td>\n",
       "      <td>676</td>\n",
       "    </tr>\n",
       "    <tr>\n",
       "      <th>14</th>\n",
       "      <td>estate</td>\n",
       "      <td>buy real estate</td>\n",
       "      <td>624</td>\n",
       "    </tr>\n",
       "    <tr>\n",
       "      <th>15</th>\n",
       "      <td>estate</td>\n",
       "      <td>buy commercial real estate</td>\n",
       "      <td>664</td>\n",
       "    </tr>\n",
       "    <tr>\n",
       "      <th>16</th>\n",
       "      <td>estate</td>\n",
       "      <td>buy residential real estate</td>\n",
       "      <td>607</td>\n",
       "    </tr>\n",
       "    <tr>\n",
       "      <th>17</th>\n",
       "      <td>estate</td>\n",
       "      <td>transaction with commercial real estate</td>\n",
       "      <td>651</td>\n",
       "    </tr>\n",
       "    <tr>\n",
       "      <th>18</th>\n",
       "      <td>estate</td>\n",
       "      <td>building a real estate</td>\n",
       "      <td>626</td>\n",
       "    </tr>\n",
       "    <tr>\n",
       "      <th>19</th>\n",
       "      <td>estate</td>\n",
       "      <td>transaction with my real estate</td>\n",
       "      <td>630</td>\n",
       "    </tr>\n",
       "    <tr>\n",
       "      <th>20</th>\n",
       "      <td>estate</td>\n",
       "      <td>real estate transaction</td>\n",
       "      <td>676</td>\n",
       "    </tr>\n",
       "    <tr>\n",
       "      <th>21</th>\n",
       "      <td>commercial</td>\n",
       "      <td>buy commercial real estate</td>\n",
       "      <td>664</td>\n",
       "    </tr>\n",
       "    <tr>\n",
       "      <th>22</th>\n",
       "      <td>commercial</td>\n",
       "      <td>transaction with commercial real estate</td>\n",
       "      <td>651</td>\n",
       "    </tr>\n",
       "    <tr>\n",
       "      <th>23</th>\n",
       "      <td>residential</td>\n",
       "      <td>buy residential real estate</td>\n",
       "      <td>607</td>\n",
       "    </tr>\n",
       "    <tr>\n",
       "      <th>24</th>\n",
       "      <td>construction</td>\n",
       "      <td>construction of own property</td>\n",
       "      <td>635</td>\n",
       "    </tr>\n",
       "    <tr>\n",
       "      <th>25</th>\n",
       "      <td>property</td>\n",
       "      <td>construction of own property</td>\n",
       "      <td>635</td>\n",
       "    </tr>\n",
       "    <tr>\n",
       "      <th>26</th>\n",
       "      <td>property</td>\n",
       "      <td>property</td>\n",
       "      <td>634</td>\n",
       "    </tr>\n",
       "    <tr>\n",
       "      <th>27</th>\n",
       "      <td>property</td>\n",
       "      <td>building a property</td>\n",
       "      <td>620</td>\n",
       "    </tr>\n",
       "    <tr>\n",
       "      <th>28</th>\n",
       "      <td>property</td>\n",
       "      <td>buying property for renting out</td>\n",
       "      <td>653</td>\n",
       "    </tr>\n",
       "    <tr>\n",
       "      <th>29</th>\n",
       "      <td>building</td>\n",
       "      <td>building a property</td>\n",
       "      <td>620</td>\n",
       "    </tr>\n",
       "    <tr>\n",
       "      <th>30</th>\n",
       "      <td>building</td>\n",
       "      <td>building a real estate</td>\n",
       "      <td>626</td>\n",
       "    </tr>\n",
       "    <tr>\n",
       "      <th>31</th>\n",
       "      <td>educated</td>\n",
       "      <td>to become educated</td>\n",
       "      <td>412</td>\n",
       "    </tr>\n",
       "    <tr>\n",
       "      <th>32</th>\n",
       "      <td>ceremony</td>\n",
       "      <td>wedding ceremony</td>\n",
       "      <td>797</td>\n",
       "    </tr>\n",
       "    <tr>\n",
       "      <th>33</th>\n",
       "      <td>higher</td>\n",
       "      <td>getting higher education</td>\n",
       "      <td>426</td>\n",
       "    </tr>\n",
       "    <tr>\n",
       "      <th>34</th>\n",
       "      <td>profile</td>\n",
       "      <td>profile education</td>\n",
       "      <td>436</td>\n",
       "    </tr>\n",
       "    <tr>\n",
       "      <th>35</th>\n",
       "      <td>university</td>\n",
       "      <td>university education</td>\n",
       "      <td>453</td>\n",
       "    </tr>\n",
       "    <tr>\n",
       "      <th>36</th>\n",
       "      <td>university</td>\n",
       "      <td>going to university</td>\n",
       "      <td>496</td>\n",
       "    </tr>\n",
       "    <tr>\n",
       "      <th>37</th>\n",
       "      <td>renting</td>\n",
       "      <td>buying property for renting out</td>\n",
       "      <td>653</td>\n",
       "    </tr>\n",
       "    <tr>\n",
       "      <th>38</th>\n",
       "      <td>renovation</td>\n",
       "      <td>housing renovation</td>\n",
       "      <td>612</td>\n",
       "    </tr>\n",
       "  </tbody>\n",
       "</table>\n",
       "</div>"
      ],
      "text/plain": [
       "             flag                                  purpose count\n",
       "0   supplementary                  supplementary education   462\n",
       "1   supplementary         to get a supplementary education   447\n",
       "2     transaction                      housing transaction   653\n",
       "3     transaction  transaction with commercial real estate   651\n",
       "4     transaction          transaction with my real estate   630\n",
       "5     transaction                  real estate transaction   676\n",
       "6          family      purchase of the house for my family   641\n",
       "7            real                          buy real estate   624\n",
       "8            real               buy commercial real estate   664\n",
       "9            real              buy residential real estate   607\n",
       "10           real  transaction with commercial real estate   651\n",
       "11           real                   building a real estate   626\n",
       "12           real          transaction with my real estate   630\n",
       "13           real                  real estate transaction   676\n",
       "14         estate                          buy real estate   624\n",
       "15         estate               buy commercial real estate   664\n",
       "16         estate              buy residential real estate   607\n",
       "17         estate  transaction with commercial real estate   651\n",
       "18         estate                   building a real estate   626\n",
       "19         estate          transaction with my real estate   630\n",
       "20         estate                  real estate transaction   676\n",
       "21     commercial               buy commercial real estate   664\n",
       "22     commercial  transaction with commercial real estate   651\n",
       "23    residential              buy residential real estate   607\n",
       "24   construction             construction of own property   635\n",
       "25       property             construction of own property   635\n",
       "26       property                                 property   634\n",
       "27       property                      building a property   620\n",
       "28       property          buying property for renting out   653\n",
       "29       building                      building a property   620\n",
       "30       building                   building a real estate   626\n",
       "31       educated                       to become educated   412\n",
       "32       ceremony                         wedding ceremony   797\n",
       "33         higher                 getting higher education   426\n",
       "34        profile                        profile education   436\n",
       "35     university                     university education   453\n",
       "36     university                      going to university   496\n",
       "37        renting          buying property for renting out   653\n",
       "38     renovation                       housing renovation   612"
      ]
     },
     "execution_count": 32,
     "metadata": {},
     "output_type": "execute_result"
    }
   ],
   "source": [
    "# These require further investigation\n",
    "flagged = ['supplementary', 'transaction', 'family', 'real', 'estate', 'commercial', 'residential', 'construction', 'property', 'building', 'educated', 'ceremony', 'higher', 'profile', 'university', 'renting', 'renovation']\n",
    "\n",
    "wordnet_lemma = WordNetLemmatizer()\n",
    "\n",
    "def get_lemmas(purpose):\n",
    "    words = nltk.word_tokenize(purpose)    \n",
    "    lemmas = [wordnet_lemma.lemmatize(w, pos='n') for w in words]\n",
    "    return lemmas\n",
    "\n",
    "# Create columns with lemmatized versions of purpose\n",
    "df['purpose_lemmas'] = df['purpose'].apply(get_lemmas)\n",
    "df['purpose_lemmas_str'] = df.apply(lambda r: ' '.join(r['purpose_lemmas']), axis=1)\n",
    "\n",
    "flag_data = pd.DataFrame(columns=['flag','purpose','count'])\n",
    "\n",
    "for f in flagged:\n",
    "    purposes = df[df['purpose_lemmas_str'].str.contains(f)]['purpose_lemmas_str'].unique()\n",
    "    for p in purposes:    \n",
    "        count = len(df[df['purpose_lemmas_str'] == p])\n",
    "        row = pd.DataFrame([[f, p, count]], columns=['flag','purpose','count'])\n",
    "        flag_data = pd.concat([flag_data, row], ignore_index=True)\n",
    "\n",
    "flag_data"
   ]
  },
  {
   "cell_type": "markdown",
   "id": "44e5817a",
   "metadata": {},
   "source": [
    "Reviewing how the flagged lemmas appear in the original purpose field, several patterns emerge.\n",
    "\n",
    "1. Some of the flagged lemmas are redundant.  For instance, \"supplementary\" always appears with \"education\".  Since we've already decided to use \"education\", \"supplementary\" can be ignored.\n",
    "    - Other lemmas that can be ignored include: family, residential, ceremony, higher, profile, university\n",
    "2. \"real\" always occurs with \"estate\".  One of them can be safely ignored.\n",
    "3. \"real estate\" is ambiguous.  It can refer to specific purposes such as residential and commercial, but also to vague purposes such as \"real estate transaction\".  I have elected to treat residential as \"house\" and commercial as \"commercial real estate\".  More vague uses will be assigned to \"real estate other\" if a more specific purposes is not available.\n",
    "    - Similar lemmas: transaction, property\n",
    "4. We will keep \"building\" and \"construction\" to refer to \"new construction\".\n",
    "5. \"renting\" will be kept, as \"buy to rent\"\n",
    "6. \"renovation\" will be kept as \"home renovation\". Note that we have to make sure it is treated with higher priority that \"housing\", which would otherwise be assigned to \"house\".\n",
    "\n",
    "In the next section, these ideas are implemented using a dictionary to map lemmas to their standard purpose description. (Scroll the output to the right and behold the new <code>std_purpose</code> column!)"
   ]
  },
  {
   "cell_type": "code",
   "execution_count": 33,
   "id": "1986bfb7",
   "metadata": {},
   "outputs": [
    {
     "data": {
      "text/html": [
       "<div>\n",
       "<style scoped>\n",
       "    .dataframe tbody tr th:only-of-type {\n",
       "        vertical-align: middle;\n",
       "    }\n",
       "\n",
       "    .dataframe tbody tr th {\n",
       "        vertical-align: top;\n",
       "    }\n",
       "\n",
       "    .dataframe thead th {\n",
       "        text-align: right;\n",
       "    }\n",
       "</style>\n",
       "<table border=\"1\" class=\"dataframe\">\n",
       "  <thead>\n",
       "    <tr style=\"text-align: right;\">\n",
       "      <th></th>\n",
       "      <th>children</th>\n",
       "      <th>days_employed</th>\n",
       "      <th>dob_years</th>\n",
       "      <th>education</th>\n",
       "      <th>education_id</th>\n",
       "      <th>family_status</th>\n",
       "      <th>family_status_id</th>\n",
       "      <th>gender</th>\n",
       "      <th>income_type</th>\n",
       "      <th>debt</th>\n",
       "      <th>total_income</th>\n",
       "      <th>purpose</th>\n",
       "      <th>years_employed</th>\n",
       "      <th>purpose_lemmas</th>\n",
       "      <th>purpose_lemmas_str</th>\n",
       "      <th>purpose_std</th>\n",
       "    </tr>\n",
       "  </thead>\n",
       "  <tbody>\n",
       "    <tr>\n",
       "      <th>21510</th>\n",
       "      <td>2</td>\n",
       "      <td>1934</td>\n",
       "      <td>28</td>\n",
       "      <td>secondary education</td>\n",
       "      <td>1</td>\n",
       "      <td>married</td>\n",
       "      <td>0</td>\n",
       "      <td>F</td>\n",
       "      <td>employee</td>\n",
       "      <td>0</td>\n",
       "      <td>21848.8175</td>\n",
       "      <td>car purchase</td>\n",
       "      <td>5</td>\n",
       "      <td>[car, purchase]</td>\n",
       "      <td>car purchase</td>\n",
       "      <td>car</td>\n",
       "    </tr>\n",
       "    <tr>\n",
       "      <th>21511</th>\n",
       "      <td>0</td>\n",
       "      <td>612</td>\n",
       "      <td>29</td>\n",
       "      <td>bachelor's degree</td>\n",
       "      <td>0</td>\n",
       "      <td>civil partnership</td>\n",
       "      <td>1</td>\n",
       "      <td>F</td>\n",
       "      <td>employee</td>\n",
       "      <td>1</td>\n",
       "      <td>22410.9560</td>\n",
       "      <td>buying property for renting out</td>\n",
       "      <td>1</td>\n",
       "      <td>[buying, property, for, renting, out]</td>\n",
       "      <td>buying property for renting out</td>\n",
       "      <td>buy to rent</td>\n",
       "    </tr>\n",
       "    <tr>\n",
       "      <th>21512</th>\n",
       "      <td>0</td>\n",
       "      <td>165</td>\n",
       "      <td>26</td>\n",
       "      <td>bachelor's degree</td>\n",
       "      <td>0</td>\n",
       "      <td>unmarried</td>\n",
       "      <td>4</td>\n",
       "      <td>M</td>\n",
       "      <td>business</td>\n",
       "      <td>0</td>\n",
       "      <td>23568.2330</td>\n",
       "      <td>to get a supplementary education</td>\n",
       "      <td>0</td>\n",
       "      <td>[to, get, a, supplementary, education]</td>\n",
       "      <td>to get a supplementary education</td>\n",
       "      <td>education</td>\n",
       "    </tr>\n",
       "    <tr>\n",
       "      <th>21513</th>\n",
       "      <td>0</td>\n",
       "      <td>1166</td>\n",
       "      <td>35</td>\n",
       "      <td>secondary education</td>\n",
       "      <td>1</td>\n",
       "      <td>married</td>\n",
       "      <td>0</td>\n",
       "      <td>F</td>\n",
       "      <td>employee</td>\n",
       "      <td>0</td>\n",
       "      <td>40157.7830</td>\n",
       "      <td>purchase of the house</td>\n",
       "      <td>3</td>\n",
       "      <td>[purchase, of, the, house]</td>\n",
       "      <td>purchase of the house</td>\n",
       "      <td>house</td>\n",
       "    </tr>\n",
       "    <tr>\n",
       "      <th>21514</th>\n",
       "      <td>0</td>\n",
       "      <td>280</td>\n",
       "      <td>27</td>\n",
       "      <td>some college</td>\n",
       "      <td>2</td>\n",
       "      <td>unmarried</td>\n",
       "      <td>4</td>\n",
       "      <td>M</td>\n",
       "      <td>business</td>\n",
       "      <td>0</td>\n",
       "      <td>56958.1450</td>\n",
       "      <td>building a property</td>\n",
       "      <td>0</td>\n",
       "      <td>[building, a, property]</td>\n",
       "      <td>building a property</td>\n",
       "      <td>new construction</td>\n",
       "    </tr>\n",
       "    <tr>\n",
       "      <th>21515</th>\n",
       "      <td>1</td>\n",
       "      <td>467</td>\n",
       "      <td>28</td>\n",
       "      <td>secondary education</td>\n",
       "      <td>1</td>\n",
       "      <td>married</td>\n",
       "      <td>0</td>\n",
       "      <td>F</td>\n",
       "      <td>employee</td>\n",
       "      <td>1</td>\n",
       "      <td>17517.8120</td>\n",
       "      <td>to become educated</td>\n",
       "      <td>1</td>\n",
       "      <td>[to, become, educated]</td>\n",
       "      <td>to become educated</td>\n",
       "      <td>education</td>\n",
       "    </tr>\n",
       "    <tr>\n",
       "      <th>21516</th>\n",
       "      <td>0</td>\n",
       "      <td>914</td>\n",
       "      <td>42</td>\n",
       "      <td>bachelor's degree</td>\n",
       "      <td>0</td>\n",
       "      <td>married</td>\n",
       "      <td>0</td>\n",
       "      <td>F</td>\n",
       "      <td>business</td>\n",
       "      <td>0</td>\n",
       "      <td>51649.2440</td>\n",
       "      <td>purchase of my own house</td>\n",
       "      <td>2</td>\n",
       "      <td>[purchase, of, my, own, house]</td>\n",
       "      <td>purchase of my own house</td>\n",
       "      <td>house</td>\n",
       "    </tr>\n",
       "    <tr>\n",
       "      <th>21517</th>\n",
       "      <td>0</td>\n",
       "      <td>404</td>\n",
       "      <td>42</td>\n",
       "      <td>bachelor's degree</td>\n",
       "      <td>0</td>\n",
       "      <td>civil partnership</td>\n",
       "      <td>1</td>\n",
       "      <td>F</td>\n",
       "      <td>business</td>\n",
       "      <td>0</td>\n",
       "      <td>28489.5290</td>\n",
       "      <td>buying my own car</td>\n",
       "      <td>1</td>\n",
       "      <td>[buying, my, own, car]</td>\n",
       "      <td>buying my own car</td>\n",
       "      <td>car</td>\n",
       "    </tr>\n",
       "    <tr>\n",
       "      <th>21518</th>\n",
       "      <td>0</td>\n",
       "      <td>0</td>\n",
       "      <td>59</td>\n",
       "      <td>secondary education</td>\n",
       "      <td>1</td>\n",
       "      <td>married</td>\n",
       "      <td>0</td>\n",
       "      <td>F</td>\n",
       "      <td>retiree</td>\n",
       "      <td>0</td>\n",
       "      <td>24618.3440</td>\n",
       "      <td>purchase of a car</td>\n",
       "      <td>0</td>\n",
       "      <td>[purchase, of, a, car]</td>\n",
       "      <td>purchase of a car</td>\n",
       "      <td>car</td>\n",
       "    </tr>\n",
       "    <tr>\n",
       "      <th>21519</th>\n",
       "      <td>1</td>\n",
       "      <td>2351</td>\n",
       "      <td>37</td>\n",
       "      <td>graduate degree</td>\n",
       "      <td>4</td>\n",
       "      <td>divorced</td>\n",
       "      <td>3</td>\n",
       "      <td>M</td>\n",
       "      <td>employee</td>\n",
       "      <td>0</td>\n",
       "      <td>18551.8460</td>\n",
       "      <td>buy commercial real estate</td>\n",
       "      <td>6</td>\n",
       "      <td>[buy, commercial, real, estate]</td>\n",
       "      <td>buy commercial real estate</td>\n",
       "      <td>commercial real estate</td>\n",
       "    </tr>\n",
       "    <tr>\n",
       "      <th>21520</th>\n",
       "      <td>1</td>\n",
       "      <td>4529</td>\n",
       "      <td>43</td>\n",
       "      <td>secondary education</td>\n",
       "      <td>1</td>\n",
       "      <td>civil partnership</td>\n",
       "      <td>1</td>\n",
       "      <td>F</td>\n",
       "      <td>business</td>\n",
       "      <td>0</td>\n",
       "      <td>35966.6980</td>\n",
       "      <td>housing transactions</td>\n",
       "      <td>12</td>\n",
       "      <td>[housing, transaction]</td>\n",
       "      <td>housing transaction</td>\n",
       "      <td>house</td>\n",
       "    </tr>\n",
       "    <tr>\n",
       "      <th>21521</th>\n",
       "      <td>0</td>\n",
       "      <td>0</td>\n",
       "      <td>67</td>\n",
       "      <td>secondary education</td>\n",
       "      <td>1</td>\n",
       "      <td>married</td>\n",
       "      <td>0</td>\n",
       "      <td>F</td>\n",
       "      <td>retiree</td>\n",
       "      <td>0</td>\n",
       "      <td>24959.9690</td>\n",
       "      <td>purchase of a car</td>\n",
       "      <td>0</td>\n",
       "      <td>[purchase, of, a, car]</td>\n",
       "      <td>purchase of a car</td>\n",
       "      <td>car</td>\n",
       "    </tr>\n",
       "    <tr>\n",
       "      <th>21522</th>\n",
       "      <td>1</td>\n",
       "      <td>2113</td>\n",
       "      <td>38</td>\n",
       "      <td>secondary education</td>\n",
       "      <td>1</td>\n",
       "      <td>civil partnership</td>\n",
       "      <td>1</td>\n",
       "      <td>M</td>\n",
       "      <td>employee</td>\n",
       "      <td>1</td>\n",
       "      <td>14347.6100</td>\n",
       "      <td>property</td>\n",
       "      <td>5</td>\n",
       "      <td>[property]</td>\n",
       "      <td>property</td>\n",
       "      <td>property other</td>\n",
       "    </tr>\n",
       "    <tr>\n",
       "      <th>21523</th>\n",
       "      <td>3</td>\n",
       "      <td>3112</td>\n",
       "      <td>38</td>\n",
       "      <td>secondary education</td>\n",
       "      <td>1</td>\n",
       "      <td>married</td>\n",
       "      <td>0</td>\n",
       "      <td>M</td>\n",
       "      <td>employee</td>\n",
       "      <td>1</td>\n",
       "      <td>39054.8880</td>\n",
       "      <td>buying my own car</td>\n",
       "      <td>8</td>\n",
       "      <td>[buying, my, own, car]</td>\n",
       "      <td>buying my own car</td>\n",
       "      <td>car</td>\n",
       "    </tr>\n",
       "    <tr>\n",
       "      <th>21524</th>\n",
       "      <td>2</td>\n",
       "      <td>1984</td>\n",
       "      <td>40</td>\n",
       "      <td>secondary education</td>\n",
       "      <td>1</td>\n",
       "      <td>married</td>\n",
       "      <td>0</td>\n",
       "      <td>F</td>\n",
       "      <td>employee</td>\n",
       "      <td>0</td>\n",
       "      <td>13127.5870</td>\n",
       "      <td>to buy a car</td>\n",
       "      <td>5</td>\n",
       "      <td>[to, buy, a, car]</td>\n",
       "      <td>to buy a car</td>\n",
       "      <td>car</td>\n",
       "    </tr>\n",
       "  </tbody>\n",
       "</table>\n",
       "</div>"
      ],
      "text/plain": [
       "       children  days_employed  dob_years            education  education_id  \\\n",
       "21510         2           1934         28  secondary education             1   \n",
       "21511         0            612         29    bachelor's degree             0   \n",
       "21512         0            165         26    bachelor's degree             0   \n",
       "21513         0           1166         35  secondary education             1   \n",
       "21514         0            280         27         some college             2   \n",
       "21515         1            467         28  secondary education             1   \n",
       "21516         0            914         42    bachelor's degree             0   \n",
       "21517         0            404         42    bachelor's degree             0   \n",
       "21518         0              0         59  secondary education             1   \n",
       "21519         1           2351         37      graduate degree             4   \n",
       "21520         1           4529         43  secondary education             1   \n",
       "21521         0              0         67  secondary education             1   \n",
       "21522         1           2113         38  secondary education             1   \n",
       "21523         3           3112         38  secondary education             1   \n",
       "21524         2           1984         40  secondary education             1   \n",
       "\n",
       "           family_status  family_status_id gender income_type  debt  \\\n",
       "21510            married                 0      F    employee     0   \n",
       "21511  civil partnership                 1      F    employee     1   \n",
       "21512          unmarried                 4      M    business     0   \n",
       "21513            married                 0      F    employee     0   \n",
       "21514          unmarried                 4      M    business     0   \n",
       "21515            married                 0      F    employee     1   \n",
       "21516            married                 0      F    business     0   \n",
       "21517  civil partnership                 1      F    business     0   \n",
       "21518            married                 0      F     retiree     0   \n",
       "21519           divorced                 3      M    employee     0   \n",
       "21520  civil partnership                 1      F    business     0   \n",
       "21521            married                 0      F     retiree     0   \n",
       "21522  civil partnership                 1      M    employee     1   \n",
       "21523            married                 0      M    employee     1   \n",
       "21524            married                 0      F    employee     0   \n",
       "\n",
       "       total_income                           purpose  years_employed  \\\n",
       "21510    21848.8175                      car purchase               5   \n",
       "21511    22410.9560   buying property for renting out               1   \n",
       "21512    23568.2330  to get a supplementary education               0   \n",
       "21513    40157.7830             purchase of the house               3   \n",
       "21514    56958.1450               building a property               0   \n",
       "21515    17517.8120                to become educated               1   \n",
       "21516    51649.2440          purchase of my own house               2   \n",
       "21517    28489.5290                 buying my own car               1   \n",
       "21518    24618.3440                 purchase of a car               0   \n",
       "21519    18551.8460        buy commercial real estate               6   \n",
       "21520    35966.6980              housing transactions              12   \n",
       "21521    24959.9690                 purchase of a car               0   \n",
       "21522    14347.6100                          property               5   \n",
       "21523    39054.8880                 buying my own car               8   \n",
       "21524    13127.5870                      to buy a car               5   \n",
       "\n",
       "                               purpose_lemmas  \\\n",
       "21510                         [car, purchase]   \n",
       "21511   [buying, property, for, renting, out]   \n",
       "21512  [to, get, a, supplementary, education]   \n",
       "21513              [purchase, of, the, house]   \n",
       "21514                 [building, a, property]   \n",
       "21515                  [to, become, educated]   \n",
       "21516          [purchase, of, my, own, house]   \n",
       "21517                  [buying, my, own, car]   \n",
       "21518                  [purchase, of, a, car]   \n",
       "21519         [buy, commercial, real, estate]   \n",
       "21520                  [housing, transaction]   \n",
       "21521                  [purchase, of, a, car]   \n",
       "21522                              [property]   \n",
       "21523                  [buying, my, own, car]   \n",
       "21524                       [to, buy, a, car]   \n",
       "\n",
       "                     purpose_lemmas_str             purpose_std  \n",
       "21510                      car purchase                     car  \n",
       "21511   buying property for renting out             buy to rent  \n",
       "21512  to get a supplementary education               education  \n",
       "21513             purchase of the house                   house  \n",
       "21514               building a property        new construction  \n",
       "21515                to become educated               education  \n",
       "21516          purchase of my own house                   house  \n",
       "21517                 buying my own car                     car  \n",
       "21518                 purchase of a car                     car  \n",
       "21519        buy commercial real estate  commercial real estate  \n",
       "21520               housing transaction                   house  \n",
       "21521                 purchase of a car                     car  \n",
       "21522                          property          property other  \n",
       "21523                 buying my own car                     car  \n",
       "21524                      to buy a car                     car  "
      ]
     },
     "execution_count": 33,
     "metadata": {},
     "output_type": "execute_result"
    }
   ],
   "source": [
    "# From python 3.6 onwards, dict maintains keys in insertion order.\n",
    "# We're relying on this: \"renovation\" must come before \"housing\"\n",
    "# so that \"housing renovation\" is classified correctly:  only if\n",
    "# there's no match on \"renovation\" is \"housing\" converted to \"house\".\n",
    "# The same goes for other generic classifiers like \"property\",\n",
    "# \"transaction\", and \"real estate\". More specific classifications are\n",
    "# preferred over generic ones like \"real estate other\" and \"property other\".\n",
    "purpose_dict = {\n",
    "                \"house\":\"house\",\n",
    "                \"car\":\"car\",\n",
    "                \"education\":\"education\",\n",
    "                \"wedding\": \"wedding\",\n",
    "                \"commercial\":\"commercial real estate\",\n",
    "                \"residential\":\"house\",\n",
    "                \"construction\":\"new construction\",\n",
    "                \"building\":\"new construction\",\n",
    "                \"educated\":\"education\",\n",
    "                \"university\":\"education\",\n",
    "                \"renting\":\"buy to rent\",\n",
    "                \"renovation\":\"home renovation\",\n",
    "                \"housing\":\"house\",\n",
    "                \"transaction\":\"real estate other\",\n",
    "                \"real\":\"real estate other\",\n",
    "                \"property\":\"property other\"\n",
    "}\n",
    "\n",
    "purpose_dict_keys = list(purpose_dict.keys())\n",
    "\n",
    "# Search for all purchase_lemmas in purpose_dict. Return the\n",
    "# match with the lowest index in purpose_dict. The match with\n",
    "# the lowest index is the most specific one.\n",
    "def standardize_purpose(row):\n",
    "    purpose_lemmas = row['purpose_lemmas']\n",
    "    purpose_std = ''\n",
    "    match = ''\n",
    "    min_match_index = None\n",
    "    for p in purpose_lemmas:\n",
    "        match = purpose_dict.get(p)\n",
    "        if match != None:\n",
    "            # Got a match\n",
    "            match_index = purpose_dict_keys.index(p)\n",
    "            if min_match_index == None: # First match\n",
    "                purpose_std = match\n",
    "                min_match_index = match_index\n",
    "            else:\n",
    "                if match_index < min_match_index:\n",
    "                    # Replace previous match with current\n",
    "                    # one only if current one has lower index.\n",
    "                    purpose_std = match\n",
    "                    min_match_index = match_index\n",
    "    if purpose_std != '':\n",
    "        return purpose_std\n",
    "    else:\n",
    "        # With the dictionary complete, we shouldn't get here.\n",
    "        print(purpose_lemmas)\n",
    "        return None\n",
    "\n",
    "df['purpose_std'] = df.apply(standardize_purpose, axis=1)\n",
    "df.tail(15)\n",
    "# Note that \"buying property for renting out\" was assigned correctly. Even\n",
    "# though \"property\" matched first, \"buy to rent\" was correctly assigned\n",
    "# because it had a lower index in purpose_dict. Similarly, \"home renovation\"\n",
    "# we maintained as higher priority than \"housing\"."
   ]
  },
  {
   "cell_type": "markdown",
   "id": "d81d5dad",
   "metadata": {},
   "source": [
    "#### Adding dictionaries for the <code>income_type</code> and <code>purpose_std</code> columns\n",
    "In this section we will add a <code>id</code> columns for <code>income_type</code> and <code>purpose_std</code>.  This enables the creation of dictionaries linking the id to the column text."
   ]
  },
  {
   "cell_type": "markdown",
   "id": "81700ff3",
   "metadata": {},
   "source": [
    "##### <code>income_type</code>"
   ]
  },
  {
   "cell_type": "code",
   "execution_count": 34,
   "id": "6101a44a",
   "metadata": {},
   "outputs": [
    {
     "data": {
      "text/plain": [
       "income_type_id  income_type                \n",
       "0               employee                       11119\n",
       "1               business                        5085\n",
       "2               retiree                         3856\n",
       "3               civil servant                   1459\n",
       "4               unemployed                         2\n",
       "5               entrepreneur                       2\n",
       "6               student                            1\n",
       "7               paternity / maternity leave        1\n",
       "dtype: int64"
      ]
     },
     "execution_count": 34,
     "metadata": {},
     "output_type": "execute_result"
    }
   ],
   "source": [
    "# Get a sorted list of income types\n",
    "income_types = df['income_type'].value_counts().index\n",
    "\n",
    "# Assign id's to each income type\n",
    "for i, t in enumerate(income_types):\n",
    "    df.loc[df['income_type'] == t, 'income_type_id'] = i\n",
    "\n",
    "df['income_type_id'] = df['income_type_id'].astype('int')\n",
    "\n",
    "# Print the id's along with their description\n",
    "df[['income_type_id', 'income_type']].value_counts()"
   ]
  },
  {
   "cell_type": "markdown",
   "id": "cfb7dd32",
   "metadata": {},
   "source": [
    "##### <code>purpose_std</code>"
   ]
  },
  {
   "cell_type": "code",
   "execution_count": 35,
   "id": "ebe6f27e",
   "metadata": {},
   "outputs": [
    {
     "data": {
      "text/plain": [
       "purpose_std_id  purpose_std           \n",
       "0               car                       4315\n",
       "1               education                 4022\n",
       "2               house                     3815\n",
       "3               wedding                   2348\n",
       "4               real estate other         1930\n",
       "5               new construction          1881\n",
       "6               commercial real estate    1315\n",
       "7               buy to rent                653\n",
       "8               property other             634\n",
       "9               home renovation            612\n",
       "dtype: int64"
      ]
     },
     "execution_count": 35,
     "metadata": {},
     "output_type": "execute_result"
    }
   ],
   "source": [
    "purposes = df['purpose_std'].value_counts().index\n",
    "\n",
    "for i, p in enumerate(purposes):\n",
    "    df.loc[df['purpose_std'] == p, 'purpose_std_id'] = i\n",
    "\n",
    "df['purpose_std_id'] = df['purpose_std_id'].astype('int')\n",
    "\n",
    "df[['purpose_std_id', 'purpose_std']].value_counts()"
   ]
  },
  {
   "cell_type": "markdown",
   "id": "e2499108",
   "metadata": {},
   "source": [
    "### Conclusion\n",
    "In this section, we used lemmatization to find a small, standardized set of purpose descriptions.  Then we used a dictionary to map the original <code>purpose</code> to <code>std_purpose</code>, applying the most specific description possible. \n",
    "\n",
    "We also created unique id's (dictionary keys) for the <code>income_type</code> and <code>purpose_std</code> columns."
   ]
  },
  {
   "cell_type": "markdown",
   "id": "ccb5cbb7",
   "metadata": {},
   "source": [
    "## Answer these questions"
   ]
  },
  {
   "cell_type": "markdown",
   "id": "306f58c7",
   "metadata": {},
   "source": [
    "### Children and default rate\n",
    "- Is there a relation between having kids and repaying a loan on time?"
   ]
  },
  {
   "cell_type": "code",
   "execution_count": 36,
   "id": "4954f591",
   "metadata": {},
   "outputs": [
    {
     "data": {
      "text/html": [
       "<div>\n",
       "<style scoped>\n",
       "    .dataframe tbody tr th:only-of-type {\n",
       "        vertical-align: middle;\n",
       "    }\n",
       "\n",
       "    .dataframe tbody tr th {\n",
       "        vertical-align: top;\n",
       "    }\n",
       "\n",
       "    .dataframe thead th {\n",
       "        text-align: right;\n",
       "    }\n",
       "</style>\n",
       "<table border=\"1\" class=\"dataframe\">\n",
       "  <thead>\n",
       "    <tr style=\"text-align: right;\">\n",
       "      <th></th>\n",
       "      <th>count</th>\n",
       "      <th>sum</th>\n",
       "      <th>&lt;lambda_0&gt;</th>\n",
       "    </tr>\n",
       "    <tr>\n",
       "      <th>children</th>\n",
       "      <th></th>\n",
       "      <th></th>\n",
       "      <th></th>\n",
       "    </tr>\n",
       "  </thead>\n",
       "  <tbody>\n",
       "    <tr>\n",
       "      <th>0</th>\n",
       "      <td>14272</td>\n",
       "      <td>1072</td>\n",
       "      <td>7.51%</td>\n",
       "    </tr>\n",
       "    <tr>\n",
       "      <th>1</th>\n",
       "      <td>4818</td>\n",
       "      <td>444</td>\n",
       "      <td>9.22%</td>\n",
       "    </tr>\n",
       "    <tr>\n",
       "      <th>2</th>\n",
       "      <td>2055</td>\n",
       "      <td>194</td>\n",
       "      <td>9.44%</td>\n",
       "    </tr>\n",
       "    <tr>\n",
       "      <th>3</th>\n",
       "      <td>330</td>\n",
       "      <td>27</td>\n",
       "      <td>8.18%</td>\n",
       "    </tr>\n",
       "    <tr>\n",
       "      <th>4</th>\n",
       "      <td>41</td>\n",
       "      <td>4</td>\n",
       "      <td>9.76%</td>\n",
       "    </tr>\n",
       "    <tr>\n",
       "      <th>5</th>\n",
       "      <td>9</td>\n",
       "      <td>0</td>\n",
       "      <td>0.00%</td>\n",
       "    </tr>\n",
       "  </tbody>\n",
       "</table>\n",
       "</div>"
      ],
      "text/plain": [
       "          count   sum <lambda_0>\n",
       "children                        \n",
       "0         14272  1072     7.51% \n",
       "1          4818   444     9.22% \n",
       "2          2055   194     9.44% \n",
       "3           330    27     8.18% \n",
       "4            41     4     9.76% \n",
       "5             9     0     0.00% "
      ]
     },
     "execution_count": 36,
     "metadata": {},
     "output_type": "execute_result"
    }
   ],
   "source": [
    "df.groupby('children')['debt'].agg(['count', 'sum', lambda x: '{:.2%} '.format(x.mean())])"
   ]
  },
  {
   "cell_type": "markdown",
   "id": "61bfacae",
   "metadata": {},
   "source": [
    "Borrowers with no children have the lowest default rate, but there is no trend toward increasing default rate as the number of children increases beyond one child."
   ]
  },
  {
   "cell_type": "markdown",
   "id": "809b454c",
   "metadata": {},
   "source": [
    "### Conclusion\n",
    "Borrowsers with no children had the lowest default rate."
   ]
  },
  {
   "cell_type": "markdown",
   "id": "f7c02c1a",
   "metadata": {},
   "source": [
    "### Marital status and default rate\n",
    "- Is there a relation between marital status and repaying a loan on time?"
   ]
  },
  {
   "cell_type": "code",
   "execution_count": 37,
   "id": "b702d2a7",
   "metadata": {},
   "outputs": [
    {
     "data": {
      "text/html": [
       "<div>\n",
       "<style scoped>\n",
       "    .dataframe tbody tr th:only-of-type {\n",
       "        vertical-align: middle;\n",
       "    }\n",
       "\n",
       "    .dataframe tbody tr th {\n",
       "        vertical-align: top;\n",
       "    }\n",
       "\n",
       "    .dataframe thead th {\n",
       "        text-align: right;\n",
       "    }\n",
       "</style>\n",
       "<table border=\"1\" class=\"dataframe\">\n",
       "  <thead>\n",
       "    <tr style=\"text-align: right;\">\n",
       "      <th></th>\n",
       "      <th>count</th>\n",
       "      <th>sum</th>\n",
       "      <th>&lt;lambda_0&gt;</th>\n",
       "    </tr>\n",
       "    <tr>\n",
       "      <th>family_status</th>\n",
       "      <th></th>\n",
       "      <th></th>\n",
       "      <th></th>\n",
       "    </tr>\n",
       "  </thead>\n",
       "  <tbody>\n",
       "    <tr>\n",
       "      <th>unmarried</th>\n",
       "      <td>2813</td>\n",
       "      <td>274</td>\n",
       "      <td>9.74%</td>\n",
       "    </tr>\n",
       "    <tr>\n",
       "      <th>civil partnership</th>\n",
       "      <td>4177</td>\n",
       "      <td>388</td>\n",
       "      <td>9.29%</td>\n",
       "    </tr>\n",
       "    <tr>\n",
       "      <th>married</th>\n",
       "      <td>12380</td>\n",
       "      <td>931</td>\n",
       "      <td>7.52%</td>\n",
       "    </tr>\n",
       "    <tr>\n",
       "      <th>divorced</th>\n",
       "      <td>1195</td>\n",
       "      <td>85</td>\n",
       "      <td>7.11%</td>\n",
       "    </tr>\n",
       "    <tr>\n",
       "      <th>widow / widower</th>\n",
       "      <td>960</td>\n",
       "      <td>63</td>\n",
       "      <td>6.56%</td>\n",
       "    </tr>\n",
       "  </tbody>\n",
       "</table>\n",
       "</div>"
      ],
      "text/plain": [
       "                   count  sum <lambda_0>\n",
       "family_status                           \n",
       "unmarried           2813  274     9.74% \n",
       "civil partnership   4177  388     9.29% \n",
       "married            12380  931     7.52% \n",
       "divorced            1195   85     7.11% \n",
       "widow / widower      960   63     6.56% "
      ]
     },
     "execution_count": 37,
     "metadata": {},
     "output_type": "execute_result"
    }
   ],
   "source": [
    "df.groupby('family_status')['debt'].agg(['count', 'sum', lambda x: '{:.2%} '.format(x.mean())]).sort_values(by='<lambda_0>', ascending=False)"
   ]
  },
  {
   "cell_type": "markdown",
   "id": "2fe64098",
   "metadata": {},
   "source": [
    "### Conclusion\n",
    "Unmarried borrwers had the highest default rate."
   ]
  },
  {
   "cell_type": "markdown",
   "id": "8c93b877",
   "metadata": {},
   "source": [
    "### Income and default rate\n",
    "- Is there a relation between income level and repaying a loan on time?"
   ]
  },
  {
   "cell_type": "code",
   "execution_count": 38,
   "id": "0089d4af",
   "metadata": {},
   "outputs": [
    {
     "data": {
      "text/html": [
       "<div>\n",
       "<style scoped>\n",
       "    .dataframe tbody tr th:only-of-type {\n",
       "        vertical-align: middle;\n",
       "    }\n",
       "\n",
       "    .dataframe tbody tr th {\n",
       "        vertical-align: top;\n",
       "    }\n",
       "\n",
       "    .dataframe thead th {\n",
       "        text-align: right;\n",
       "    }\n",
       "</style>\n",
       "<table border=\"1\" class=\"dataframe\">\n",
       "  <thead>\n",
       "    <tr style=\"text-align: right;\">\n",
       "      <th></th>\n",
       "      <th>count</th>\n",
       "      <th>sum</th>\n",
       "      <th>&lt;lambda_0&gt;</th>\n",
       "    </tr>\n",
       "    <tr>\n",
       "      <th>total_income</th>\n",
       "      <th></th>\n",
       "      <th></th>\n",
       "      <th></th>\n",
       "    </tr>\n",
       "  </thead>\n",
       "  <tbody>\n",
       "    <tr>\n",
       "      <th>1</th>\n",
       "      <td>2153</td>\n",
       "      <td>158</td>\n",
       "      <td>7.34%</td>\n",
       "    </tr>\n",
       "    <tr>\n",
       "      <th>2</th>\n",
       "      <td>2152</td>\n",
       "      <td>187</td>\n",
       "      <td>8.69%</td>\n",
       "    </tr>\n",
       "    <tr>\n",
       "      <th>3</th>\n",
       "      <td>2334</td>\n",
       "      <td>196</td>\n",
       "      <td>8.40%</td>\n",
       "    </tr>\n",
       "    <tr>\n",
       "      <th>4</th>\n",
       "      <td>1971</td>\n",
       "      <td>163</td>\n",
       "      <td>8.27%</td>\n",
       "    </tr>\n",
       "    <tr>\n",
       "      <th>5</th>\n",
       "      <td>2153</td>\n",
       "      <td>206</td>\n",
       "      <td>9.57%</td>\n",
       "    </tr>\n",
       "    <tr>\n",
       "      <th>6</th>\n",
       "      <td>2152</td>\n",
       "      <td>178</td>\n",
       "      <td>8.27%</td>\n",
       "    </tr>\n",
       "    <tr>\n",
       "      <th>7</th>\n",
       "      <td>2152</td>\n",
       "      <td>177</td>\n",
       "      <td>8.22%</td>\n",
       "    </tr>\n",
       "    <tr>\n",
       "      <th>8</th>\n",
       "      <td>2153</td>\n",
       "      <td>174</td>\n",
       "      <td>8.08%</td>\n",
       "    </tr>\n",
       "    <tr>\n",
       "      <th>9</th>\n",
       "      <td>2152</td>\n",
       "      <td>151</td>\n",
       "      <td>7.02%</td>\n",
       "    </tr>\n",
       "    <tr>\n",
       "      <th>10</th>\n",
       "      <td>2153</td>\n",
       "      <td>151</td>\n",
       "      <td>7.01%</td>\n",
       "    </tr>\n",
       "  </tbody>\n",
       "</table>\n",
       "</div>"
      ],
      "text/plain": [
       "              count  sum <lambda_0>\n",
       "total_income                       \n",
       "1              2153  158     7.34% \n",
       "2              2152  187     8.69% \n",
       "3              2334  196     8.40% \n",
       "4              1971  163     8.27% \n",
       "5              2153  206     9.57% \n",
       "6              2152  178     8.27% \n",
       "7              2152  177     8.22% \n",
       "8              2153  174     8.08% \n",
       "9              2152  151     7.02% \n",
       "10             2153  151     7.01% "
      ]
     },
     "execution_count": 38,
     "metadata": {},
     "output_type": "execute_result"
    }
   ],
   "source": [
    "num_buckets = 10\n",
    "labels = [str(i) for i in range(1,num_buckets+1)]\n",
    "#labels = None\n",
    "buckets = pd.qcut(df['total_income'], num_buckets, labels)\n",
    "df.groupby(buckets)['debt'].agg(['count', 'sum', lambda x: '{:.2%} '.format(x.mean())])"
   ]
  },
  {
   "cell_type": "markdown",
   "id": "99535ca7",
   "metadata": {},
   "source": [
    "### Conclusion\n",
    "With the exception of the very lowest income group, the default rate decreases fairly consistently as income increases."
   ]
  },
  {
   "cell_type": "markdown",
   "id": "2c1d6ebc",
   "metadata": {},
   "source": [
    "### Loan purpose and default rate\n",
    "- How do different loan purposes affect on-time repayment of the loan?"
   ]
  },
  {
   "cell_type": "code",
   "execution_count": 39,
   "id": "e6e1c74e",
   "metadata": {},
   "outputs": [
    {
     "data": {
      "text/html": [
       "<div>\n",
       "<style scoped>\n",
       "    .dataframe tbody tr th:only-of-type {\n",
       "        vertical-align: middle;\n",
       "    }\n",
       "\n",
       "    .dataframe tbody tr th {\n",
       "        vertical-align: top;\n",
       "    }\n",
       "\n",
       "    .dataframe thead th {\n",
       "        text-align: right;\n",
       "    }\n",
       "</style>\n",
       "<table border=\"1\" class=\"dataframe\">\n",
       "  <thead>\n",
       "    <tr style=\"text-align: right;\">\n",
       "      <th></th>\n",
       "      <th>count</th>\n",
       "      <th>sum</th>\n",
       "      <th>&lt;lambda_0&gt;</th>\n",
       "    </tr>\n",
       "    <tr>\n",
       "      <th>purpose_std</th>\n",
       "      <th></th>\n",
       "      <th></th>\n",
       "      <th></th>\n",
       "    </tr>\n",
       "  </thead>\n",
       "  <tbody>\n",
       "    <tr>\n",
       "      <th>car</th>\n",
       "      <td>4315</td>\n",
       "      <td>403</td>\n",
       "      <td>9.34%</td>\n",
       "    </tr>\n",
       "    <tr>\n",
       "      <th>education</th>\n",
       "      <td>4022</td>\n",
       "      <td>370</td>\n",
       "      <td>9.20%</td>\n",
       "    </tr>\n",
       "    <tr>\n",
       "      <th>buy to rent</th>\n",
       "      <td>653</td>\n",
       "      <td>52</td>\n",
       "      <td>7.96%</td>\n",
       "    </tr>\n",
       "    <tr>\n",
       "      <th>wedding</th>\n",
       "      <td>2348</td>\n",
       "      <td>186</td>\n",
       "      <td>7.92%</td>\n",
       "    </tr>\n",
       "    <tr>\n",
       "      <th>real estate other</th>\n",
       "      <td>1930</td>\n",
       "      <td>148</td>\n",
       "      <td>7.67%</td>\n",
       "    </tr>\n",
       "    <tr>\n",
       "      <th>new construction</th>\n",
       "      <td>1881</td>\n",
       "      <td>144</td>\n",
       "      <td>7.66%</td>\n",
       "    </tr>\n",
       "    <tr>\n",
       "      <th>commercial real estate</th>\n",
       "      <td>1315</td>\n",
       "      <td>99</td>\n",
       "      <td>7.53%</td>\n",
       "    </tr>\n",
       "    <tr>\n",
       "      <th>house</th>\n",
       "      <td>3815</td>\n",
       "      <td>262</td>\n",
       "      <td>6.87%</td>\n",
       "    </tr>\n",
       "    <tr>\n",
       "      <th>property other</th>\n",
       "      <td>634</td>\n",
       "      <td>42</td>\n",
       "      <td>6.62%</td>\n",
       "    </tr>\n",
       "    <tr>\n",
       "      <th>home renovation</th>\n",
       "      <td>612</td>\n",
       "      <td>35</td>\n",
       "      <td>5.72%</td>\n",
       "    </tr>\n",
       "  </tbody>\n",
       "</table>\n",
       "</div>"
      ],
      "text/plain": [
       "                        count  sum <lambda_0>\n",
       "purpose_std                                  \n",
       "car                      4315  403     9.34% \n",
       "education                4022  370     9.20% \n",
       "buy to rent               653   52     7.96% \n",
       "wedding                  2348  186     7.92% \n",
       "real estate other        1930  148     7.67% \n",
       "new construction         1881  144     7.66% \n",
       "commercial real estate   1315   99     7.53% \n",
       "house                    3815  262     6.87% \n",
       "property other            634   42     6.62% \n",
       "home renovation           612   35     5.72% "
      ]
     },
     "execution_count": 39,
     "metadata": {},
     "output_type": "execute_result"
    }
   ],
   "source": [
    "df.groupby('purpose_std')['debt'].agg(['count', 'sum', lambda x: '{:.2%} '.format(x.mean())]).sort_values(by='<lambda_0>', ascending=False)"
   ]
  },
  {
   "cell_type": "markdown",
   "id": "6cd4cd89",
   "metadata": {},
   "source": [
    "### Conclusion\n",
    "Car and education loans have the highest default rates. Real estate-related loans have the lowest default rates."
   ]
  },
  {
   "cell_type": "markdown",
   "id": "ddd28db6",
   "metadata": {},
   "source": [
    "## General conclusion\n",
    "The ideal borrower has no children, is not unmarried (could be married, in a civil partership, divorced, etc.), has a high income, and is borrowing money for a home renovation. The average default rate for such borrowers is:"
   ]
  },
  {
   "cell_type": "code",
   "execution_count": 40,
   "id": "677e0c8a",
   "metadata": {},
   "outputs": [
    {
     "name": "stdout",
     "output_type": "stream",
     "text": [
      "3.33%\n"
     ]
    }
   ],
   "source": [
    "print('{:.2%}'.format(\n",
    "    df[(df['children'] == 0) &\n",
    "   (df['family_status'] != 'unmarried') &\n",
    "   (df['total_income'] > 43000) &\n",
    "   (df['purpose_std'] == 'home renovation')]['debt'].mean())\n",
    "     )"
   ]
  },
  {
   "cell_type": "markdown",
   "id": "118f5fe2",
   "metadata": {},
   "source": [
    "The highest-risk borrower has children, is unmarried, has a low income, and is borrowing money to buy a car.  The average default rate for these borrowers is:"
   ]
  },
  {
   "cell_type": "code",
   "execution_count": 41,
   "id": "3614bed2",
   "metadata": {},
   "outputs": [
    {
     "name": "stdout",
     "output_type": "stream",
     "text": [
      "17.44%\n"
     ]
    }
   ],
   "source": [
    "print('{:.2%}'.format(\n",
    "    df[(df['children'] > 0) &\n",
    "   (df['family_status'] == 'unmarried') &\n",
    "   (df['total_income'] < 30000) &\n",
    "   (df['purpose_std'] == 'car')]['debt'].mean())\n",
    "     )"
   ]
  }
 ],
 "metadata": {
  "ExecuteTimeLog": [
   {
    "duration": 413,
    "start_time": "2021-09-03T15:33:22.360Z"
   },
   {
    "duration": 1950,
    "start_time": "2021-09-03T15:33:41.957Z"
   },
   {
    "duration": 16,
    "start_time": "2021-09-03T15:33:43.909Z"
   },
   {
    "duration": 47,
    "start_time": "2021-09-03T15:33:43.928Z"
   },
   {
    "duration": 17,
    "start_time": "2021-09-03T15:33:43.977Z"
   },
   {
    "duration": 977,
    "start_time": "2021-09-03T15:33:43.997Z"
   },
   {
    "duration": 11,
    "start_time": "2021-09-03T15:34:14.427Z"
   },
   {
    "duration": 22,
    "start_time": "2021-09-03T15:34:14.441Z"
   },
   {
    "duration": 20,
    "start_time": "2021-09-03T15:34:14.466Z"
   },
   {
    "duration": 12,
    "start_time": "2021-09-03T15:34:14.489Z"
   },
   {
    "duration": 5,
    "start_time": "2021-09-03T15:34:14.503Z"
   },
   {
    "duration": 56,
    "start_time": "2021-09-03T15:34:14.511Z"
   },
   {
    "duration": 16,
    "start_time": "2021-09-03T15:34:14.570Z"
   },
   {
    "duration": 25,
    "start_time": "2021-09-03T15:34:14.589Z"
   },
   {
    "duration": 50,
    "start_time": "2021-09-03T15:34:14.618Z"
   },
   {
    "duration": 29,
    "start_time": "2021-09-03T15:34:14.672Z"
   },
   {
    "duration": 9,
    "start_time": "2021-09-03T15:34:14.703Z"
   },
   {
    "duration": 53,
    "start_time": "2021-09-03T15:34:14.714Z"
   },
   {
    "duration": 8,
    "start_time": "2021-09-03T15:34:14.770Z"
   },
   {
    "duration": 23,
    "start_time": "2021-09-03T15:34:14.780Z"
   },
   {
    "duration": 16,
    "start_time": "2021-09-03T15:34:14.806Z"
   },
   {
    "duration": 44,
    "start_time": "2021-09-03T15:34:14.825Z"
   },
   {
    "duration": 16,
    "start_time": "2021-09-03T15:34:14.871Z"
   },
   {
    "duration": 10,
    "start_time": "2021-09-03T15:34:14.890Z"
   },
   {
    "duration": 10,
    "start_time": "2021-09-03T15:34:14.903Z"
   },
   {
    "duration": 65,
    "start_time": "2021-09-03T15:34:14.916Z"
   },
   {
    "duration": 8,
    "start_time": "2021-09-03T15:34:14.983Z"
   },
   {
    "duration": 6,
    "start_time": "2021-09-03T15:34:14.994Z"
   },
   {
    "duration": 31,
    "start_time": "2021-09-03T15:34:15.003Z"
   },
   {
    "duration": 35,
    "start_time": "2021-09-03T15:34:15.037Z"
   },
   {
    "duration": 107,
    "start_time": "2021-09-03T15:34:15.075Z"
   },
   {
    "duration": 2170,
    "start_time": "2021-09-03T15:34:15.185Z"
   },
   {
    "duration": 4481,
    "start_time": "2021-09-03T15:34:17.360Z"
   },
   {
    "duration": 643,
    "start_time": "2021-09-03T15:34:21.844Z"
   },
   {
    "duration": 39,
    "start_time": "2021-09-03T15:34:22.489Z"
   },
   {
    "duration": 86,
    "start_time": "2021-09-03T15:34:22.531Z"
   },
   {
    "duration": 7,
    "start_time": "2021-09-03T15:34:22.620Z"
   },
   {
    "duration": 28,
    "start_time": "2021-09-03T15:34:22.629Z"
   },
   {
    "duration": 1168,
    "start_time": "2021-09-03T15:34:22.660Z"
   },
   {
    "duration": 37,
    "start_time": "2021-09-03T15:34:23.830Z"
   },
   {
    "duration": 302,
    "start_time": "2021-09-03T15:51:37.607Z"
   },
   {
    "duration": 14,
    "start_time": "2021-09-03T15:51:37.911Z"
   },
   {
    "duration": 23,
    "start_time": "2021-09-03T15:51:37.928Z"
   },
   {
    "duration": 32,
    "start_time": "2021-09-03T15:51:37.953Z"
   },
   {
    "duration": 29,
    "start_time": "2021-09-03T15:51:37.987Z"
   },
   {
    "duration": 9,
    "start_time": "2021-09-03T15:51:38.018Z"
   },
   {
    "duration": 51,
    "start_time": "2021-09-03T15:51:38.029Z"
   },
   {
    "duration": 21,
    "start_time": "2021-09-03T15:51:38.082Z"
   },
   {
    "duration": 14,
    "start_time": "2021-09-03T15:51:38.107Z"
   },
   {
    "duration": 4,
    "start_time": "2021-09-03T15:51:38.124Z"
   },
   {
    "duration": 41,
    "start_time": "2021-09-03T15:51:38.131Z"
   },
   {
    "duration": 20,
    "start_time": "2021-09-03T15:51:38.175Z"
   },
   {
    "duration": 21,
    "start_time": "2021-09-03T15:51:38.197Z"
   },
   {
    "duration": 17,
    "start_time": "2021-09-03T15:51:38.220Z"
   },
   {
    "duration": 50,
    "start_time": "2021-09-03T15:51:38.239Z"
   },
   {
    "duration": 8,
    "start_time": "2021-09-03T15:51:38.292Z"
   },
   {
    "duration": 21,
    "start_time": "2021-09-03T15:51:38.302Z"
   },
   {
    "duration": 7,
    "start_time": "2021-09-03T15:51:38.325Z"
   },
   {
    "duration": 20,
    "start_time": "2021-09-03T15:51:38.366Z"
   },
   {
    "duration": 14,
    "start_time": "2021-09-03T15:51:38.388Z"
   },
   {
    "duration": 11,
    "start_time": "2021-09-03T15:51:38.404Z"
   },
   {
    "duration": 14,
    "start_time": "2021-09-03T15:51:38.417Z"
   },
   {
    "duration": 43,
    "start_time": "2021-09-03T15:51:38.433Z"
   },
   {
    "duration": 14,
    "start_time": "2021-09-03T15:51:38.478Z"
   },
   {
    "duration": 21,
    "start_time": "2021-09-03T15:51:38.494Z"
   },
   {
    "duration": 7,
    "start_time": "2021-09-03T15:51:38.518Z"
   },
   {
    "duration": 40,
    "start_time": "2021-09-03T15:51:38.530Z"
   },
   {
    "duration": 18,
    "start_time": "2021-09-03T15:51:38.573Z"
   },
   {
    "duration": 10,
    "start_time": "2021-09-03T15:51:38.593Z"
   },
   {
    "duration": 126,
    "start_time": "2021-09-03T15:51:38.606Z"
   },
   {
    "duration": 13,
    "start_time": "2021-09-03T15:51:38.734Z"
   },
   {
    "duration": 4387,
    "start_time": "2021-09-03T15:51:38.749Z"
   },
   {
    "duration": 595,
    "start_time": "2021-09-03T15:51:43.138Z"
   },
   {
    "duration": 46,
    "start_time": "2021-09-03T15:51:43.736Z"
   },
   {
    "duration": 87,
    "start_time": "2021-09-03T15:51:43.784Z"
   },
   {
    "duration": 6,
    "start_time": "2021-09-03T15:51:43.873Z"
   },
   {
    "duration": 24,
    "start_time": "2021-09-03T15:51:43.881Z"
   },
   {
    "duration": 976,
    "start_time": "2021-09-03T15:51:43.908Z"
   },
   {
    "duration": 20,
    "start_time": "2021-09-03T15:51:44.887Z"
   },
   {
    "duration": 6,
    "start_time": "2021-09-03T15:58:50.627Z"
   },
   {
    "duration": 1598,
    "start_time": "2021-09-03T16:01:41.141Z"
   },
   {
    "duration": 1240,
    "start_time": "2021-09-03T16:02:11.911Z"
   },
   {
    "duration": 6,
    "start_time": "2021-09-03T16:06:33.303Z"
   },
   {
    "duration": 6,
    "start_time": "2021-09-03T16:06:59.082Z"
   },
   {
    "duration": 26,
    "start_time": "2021-09-03T16:15:11.662Z"
   },
   {
    "duration": 21,
    "start_time": "2021-09-03T16:18:34.129Z"
   },
   {
    "duration": 15,
    "start_time": "2021-09-03T16:19:21.022Z"
   },
   {
    "duration": 28,
    "start_time": "2021-09-03T16:20:03.906Z"
   },
   {
    "duration": 2599,
    "start_time": "2021-09-09T09:51:55.795Z"
   },
   {
    "duration": 12,
    "start_time": "2021-09-09T09:51:58.396Z"
   },
   {
    "duration": 25,
    "start_time": "2021-09-09T09:51:58.410Z"
   },
   {
    "duration": 12,
    "start_time": "2021-09-09T09:51:58.438Z"
   },
   {
    "duration": 1186,
    "start_time": "2021-09-09T09:51:58.452Z"
   },
   {
    "duration": 9,
    "start_time": "2021-09-09T09:51:59.640Z"
   },
   {
    "duration": 30,
    "start_time": "2021-09-09T09:51:59.651Z"
   },
   {
    "duration": 15,
    "start_time": "2021-09-09T09:51:59.684Z"
   },
   {
    "duration": 11,
    "start_time": "2021-09-09T09:51:59.701Z"
   },
   {
    "duration": 4,
    "start_time": "2021-09-09T09:51:59.714Z"
   },
   {
    "duration": 7,
    "start_time": "2021-09-09T09:51:59.719Z"
   },
   {
    "duration": 57,
    "start_time": "2021-09-09T09:51:59.728Z"
   },
   {
    "duration": 15,
    "start_time": "2021-09-09T09:51:59.786Z"
   },
   {
    "duration": 9,
    "start_time": "2021-09-09T09:51:59.803Z"
   },
   {
    "duration": 6,
    "start_time": "2021-09-09T09:51:59.814Z"
   },
   {
    "duration": 195,
    "start_time": "2021-09-09T09:51:59.822Z"
   },
   {
    "duration": 420,
    "start_time": "2021-09-09T09:54:07.594Z"
   },
   {
    "duration": 27,
    "start_time": "2021-09-09T09:54:14.338Z"
   },
   {
    "duration": 26,
    "start_time": "2021-09-09T09:54:25.529Z"
   },
   {
    "duration": 3,
    "start_time": "2021-09-09T09:55:15.057Z"
   },
   {
    "duration": 272,
    "start_time": "2021-09-09T09:55:47.658Z"
   },
   {
    "duration": 13,
    "start_time": "2021-09-09T09:55:53.637Z"
   },
   {
    "duration": 16,
    "start_time": "2021-09-09T09:56:24.578Z"
   },
   {
    "duration": 25,
    "start_time": "2021-09-09T09:58:26.033Z"
   },
   {
    "duration": 31,
    "start_time": "2021-09-09T10:12:10.626Z"
   },
   {
    "duration": 9,
    "start_time": "2021-09-09T10:12:59.111Z"
   },
   {
    "duration": 15,
    "start_time": "2021-09-09T10:13:12.423Z"
   },
   {
    "duration": 20,
    "start_time": "2021-09-09T10:16:12.947Z"
   }
  ],
  "kernelspec": {
   "display_name": "Python 3 (ipykernel)",
   "language": "python",
   "name": "python3"
  },
  "language_info": {
   "codemirror_mode": {
    "name": "ipython",
    "version": 3
   },
   "file_extension": ".py",
   "mimetype": "text/x-python",
   "name": "python",
   "nbconvert_exporter": "python",
   "pygments_lexer": "ipython3",
   "version": "3.9.12"
  },
  "toc": {
   "base_numbering": 1,
   "nav_menu": {},
   "number_sections": true,
   "sideBar": true,
   "skip_h1_title": true,
   "title_cell": "Table of Contents",
   "title_sidebar": "Contents",
   "toc_cell": false,
   "toc_position": {
    "height": "calc(100% - 180px)",
    "left": "10px",
    "top": "150px",
    "width": "226px"
   },
   "toc_section_display": true,
   "toc_window_display": true
  }
 },
 "nbformat": 4,
 "nbformat_minor": 5
}
