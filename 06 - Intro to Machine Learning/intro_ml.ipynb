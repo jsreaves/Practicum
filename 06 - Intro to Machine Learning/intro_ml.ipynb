{
 "cells": [
  {
   "cell_type": "markdown",
   "id": "7361f344",
   "metadata": {},
   "source": [
    "# Introduction\n",
    "Mobile carrier Megaline has found out that many of their subscribers use legacy plans.  Megaline wants to develop a model to analyze subscribers' behavior and recommend one of the newer plans: Surf or Ultra.  In this project, we will develop a machine learning model to recommend one of the new plans, based on usage data from subscribers who have already switched to the new plans.\n",
    "\n",
    "First, we will review the data to gain a general familiarity and to identify any preprocessing requirements.  We will split the data into subsets for model development and testing.  Next, we will build several machine learning models, with the goal achieving the highest possible accuracy.  Our minimum accuracy threshhold will be 0.75.\n",
    "\n",
    "We will build models using 3 different techniques:  random forest, logistic regression, and naive Bayes.  Finally, we will develop a model that combines the 3 techniques for even higher accuracy."
   ]
  },
  {
   "cell_type": "markdown",
   "id": "9aa05b9f",
   "metadata": {},
   "source": [
    "# Data review and preparation\n",
    "The data already underwent proprocessing in an earlier project.  In this section, we will review the data to make sure their are no additional preprocessing requirements, and we will split the data into subsets for model development and testing."
   ]
  },
  {
   "cell_type": "code",
   "execution_count": 1,
   "id": "d74b31b7",
   "metadata": {},
   "outputs": [
    {
     "name": "stdout",
     "output_type": "stream",
     "text": [
      "<class 'pandas.core.frame.DataFrame'>\n",
      "RangeIndex: 3214 entries, 0 to 3213\n",
      "Data columns (total 5 columns):\n",
      " #   Column    Non-Null Count  Dtype  \n",
      "---  ------    --------------  -----  \n",
      " 0   calls     3214 non-null   float64\n",
      " 1   minutes   3214 non-null   float64\n",
      " 2   messages  3214 non-null   float64\n",
      " 3   mb_used   3214 non-null   float64\n",
      " 4   is_ultra  3214 non-null   int64  \n",
      "dtypes: float64(4), int64(1)\n",
      "memory usage: 125.7 KB\n"
     ]
    }
   ],
   "source": [
    "from sklearn.dummy import DummyClassifier\n",
    "from sklearn.ensemble import RandomForestClassifier\n",
    "from sklearn.linear_model import LogisticRegression\n",
    "from sklearn.metrics import confusion_matrix, accuracy_score, recall_score, precision_score, classification_report\n",
    "from sklearn.model_selection import GridSearchCV, train_test_split\n",
    "from sklearn.naive_bayes import GaussianNB\n",
    "from sklearn.utils import class_weight\n",
    "from statistics import mode\n",
    "import itertools\n",
    "import matplotlib.pyplot as plt\n",
    "import numpy as np\n",
    "import pandas as pd\n",
    "import seaborn as sns\n",
    "import sklearn.metrics as metrics\n",
    "import warnings\n",
    "\n",
    "# Not available with the older version of sklearn on Practicum\n",
    "#from sklearn.metrics import plot_confusion_matrix, plot_roc_curve\n",
    "\n",
    "warnings.filterwarnings('ignore')\n",
    "\n",
    "random_state = 12345\n",
    "\n",
    "try:\n",
    "    df = pd.read_csv('users_behavior.csv')\n",
    "except:\n",
    "    df = pd.read_csv('/datasets/users_behavior.csv')\n",
    "\n",
    "df.info()"
   ]
  },
  {
   "cell_type": "code",
   "execution_count": 2,
   "id": "786bc28a",
   "metadata": {},
   "outputs": [
    {
     "data": {
      "text/html": [
       "<div>\n",
       "<style scoped>\n",
       "    .dataframe tbody tr th:only-of-type {\n",
       "        vertical-align: middle;\n",
       "    }\n",
       "\n",
       "    .dataframe tbody tr th {\n",
       "        vertical-align: top;\n",
       "    }\n",
       "\n",
       "    .dataframe thead th {\n",
       "        text-align: right;\n",
       "    }\n",
       "</style>\n",
       "<table border=\"1\" class=\"dataframe\">\n",
       "  <thead>\n",
       "    <tr style=\"text-align: right;\">\n",
       "      <th></th>\n",
       "      <th>calls</th>\n",
       "      <th>minutes</th>\n",
       "      <th>messages</th>\n",
       "      <th>mb_used</th>\n",
       "      <th>is_ultra</th>\n",
       "    </tr>\n",
       "  </thead>\n",
       "  <tbody>\n",
       "    <tr>\n",
       "      <th>0</th>\n",
       "      <td>40.0</td>\n",
       "      <td>311.90</td>\n",
       "      <td>83.0</td>\n",
       "      <td>19915.42</td>\n",
       "      <td>0</td>\n",
       "    </tr>\n",
       "    <tr>\n",
       "      <th>1</th>\n",
       "      <td>85.0</td>\n",
       "      <td>516.75</td>\n",
       "      <td>56.0</td>\n",
       "      <td>22696.96</td>\n",
       "      <td>0</td>\n",
       "    </tr>\n",
       "    <tr>\n",
       "      <th>2</th>\n",
       "      <td>77.0</td>\n",
       "      <td>467.66</td>\n",
       "      <td>86.0</td>\n",
       "      <td>21060.45</td>\n",
       "      <td>0</td>\n",
       "    </tr>\n",
       "    <tr>\n",
       "      <th>3</th>\n",
       "      <td>106.0</td>\n",
       "      <td>745.53</td>\n",
       "      <td>81.0</td>\n",
       "      <td>8437.39</td>\n",
       "      <td>1</td>\n",
       "    </tr>\n",
       "    <tr>\n",
       "      <th>4</th>\n",
       "      <td>66.0</td>\n",
       "      <td>418.74</td>\n",
       "      <td>1.0</td>\n",
       "      <td>14502.75</td>\n",
       "      <td>0</td>\n",
       "    </tr>\n",
       "  </tbody>\n",
       "</table>\n",
       "</div>"
      ],
      "text/plain": [
       "   calls  minutes  messages   mb_used  is_ultra\n",
       "0   40.0   311.90      83.0  19915.42         0\n",
       "1   85.0   516.75      56.0  22696.96         0\n",
       "2   77.0   467.66      86.0  21060.45         0\n",
       "3  106.0   745.53      81.0   8437.39         1\n",
       "4   66.0   418.74       1.0  14502.75         0"
      ]
     },
     "execution_count": 2,
     "metadata": {},
     "output_type": "execute_result"
    }
   ],
   "source": [
    "df.head()"
   ]
  },
  {
   "cell_type": "code",
   "execution_count": 3,
   "id": "54bb745e",
   "metadata": {},
   "outputs": [
    {
     "data": {
      "text/html": [
       "<div>\n",
       "<style scoped>\n",
       "    .dataframe tbody tr th:only-of-type {\n",
       "        vertical-align: middle;\n",
       "    }\n",
       "\n",
       "    .dataframe tbody tr th {\n",
       "        vertical-align: top;\n",
       "    }\n",
       "\n",
       "    .dataframe thead th {\n",
       "        text-align: right;\n",
       "    }\n",
       "</style>\n",
       "<table border=\"1\" class=\"dataframe\">\n",
       "  <thead>\n",
       "    <tr style=\"text-align: right;\">\n",
       "      <th></th>\n",
       "      <th>calls</th>\n",
       "      <th>minutes</th>\n",
       "      <th>messages</th>\n",
       "      <th>mb_used</th>\n",
       "      <th>is_ultra</th>\n",
       "    </tr>\n",
       "  </thead>\n",
       "  <tbody>\n",
       "    <tr>\n",
       "      <th>count</th>\n",
       "      <td>3214.000000</td>\n",
       "      <td>3214.000000</td>\n",
       "      <td>3214.000000</td>\n",
       "      <td>3214.000000</td>\n",
       "      <td>3214.000000</td>\n",
       "    </tr>\n",
       "    <tr>\n",
       "      <th>mean</th>\n",
       "      <td>63.038892</td>\n",
       "      <td>438.208787</td>\n",
       "      <td>38.281269</td>\n",
       "      <td>17207.673836</td>\n",
       "      <td>0.306472</td>\n",
       "    </tr>\n",
       "    <tr>\n",
       "      <th>std</th>\n",
       "      <td>33.236368</td>\n",
       "      <td>234.569872</td>\n",
       "      <td>36.148326</td>\n",
       "      <td>7570.968246</td>\n",
       "      <td>0.461100</td>\n",
       "    </tr>\n",
       "    <tr>\n",
       "      <th>min</th>\n",
       "      <td>0.000000</td>\n",
       "      <td>0.000000</td>\n",
       "      <td>0.000000</td>\n",
       "      <td>0.000000</td>\n",
       "      <td>0.000000</td>\n",
       "    </tr>\n",
       "    <tr>\n",
       "      <th>25%</th>\n",
       "      <td>40.000000</td>\n",
       "      <td>274.575000</td>\n",
       "      <td>9.000000</td>\n",
       "      <td>12491.902500</td>\n",
       "      <td>0.000000</td>\n",
       "    </tr>\n",
       "    <tr>\n",
       "      <th>50%</th>\n",
       "      <td>62.000000</td>\n",
       "      <td>430.600000</td>\n",
       "      <td>30.000000</td>\n",
       "      <td>16943.235000</td>\n",
       "      <td>0.000000</td>\n",
       "    </tr>\n",
       "    <tr>\n",
       "      <th>75%</th>\n",
       "      <td>82.000000</td>\n",
       "      <td>571.927500</td>\n",
       "      <td>57.000000</td>\n",
       "      <td>21424.700000</td>\n",
       "      <td>1.000000</td>\n",
       "    </tr>\n",
       "    <tr>\n",
       "      <th>max</th>\n",
       "      <td>244.000000</td>\n",
       "      <td>1632.060000</td>\n",
       "      <td>224.000000</td>\n",
       "      <td>49745.730000</td>\n",
       "      <td>1.000000</td>\n",
       "    </tr>\n",
       "  </tbody>\n",
       "</table>\n",
       "</div>"
      ],
      "text/plain": [
       "             calls      minutes     messages       mb_used     is_ultra\n",
       "count  3214.000000  3214.000000  3214.000000   3214.000000  3214.000000\n",
       "mean     63.038892   438.208787    38.281269  17207.673836     0.306472\n",
       "std      33.236368   234.569872    36.148326   7570.968246     0.461100\n",
       "min       0.000000     0.000000     0.000000      0.000000     0.000000\n",
       "25%      40.000000   274.575000     9.000000  12491.902500     0.000000\n",
       "50%      62.000000   430.600000    30.000000  16943.235000     0.000000\n",
       "75%      82.000000   571.927500    57.000000  21424.700000     1.000000\n",
       "max     244.000000  1632.060000   224.000000  49745.730000     1.000000"
      ]
     },
     "execution_count": 3,
     "metadata": {},
     "output_type": "execute_result"
    }
   ],
   "source": [
    "df.describe()"
   ]
  },
  {
   "cell_type": "markdown",
   "id": "d6ade239",
   "metadata": {},
   "source": [
    "Our dataset has 3,214 entries.  There is no missing data, and the data types are appropriate.  The mean and median of the features are fairly close to each other, suggesting limited effect of outliers.  Our target will be <code>is_ultra</code>.  Other columns serve as features in our machine learning models."
   ]
  },
  {
   "cell_type": "markdown",
   "id": "e59a9419",
   "metadata": {},
   "source": [
    "## Target-feature correlation"
   ]
  },
  {
   "cell_type": "code",
   "execution_count": 4,
   "id": "c2c9700b",
   "metadata": {},
   "outputs": [
    {
     "data": {
      "text/html": [
       "<style type=\"text/css\">\n",
       "#T_dbec7_row0_col0, #T_dbec7_row4_col0 {\n",
       "  background-color: #e2d9e2;\n",
       "  color: #000000;\n",
       "}\n",
       "#T_dbec7_row1_col0, #T_dbec7_row2_col0 {\n",
       "  background-color: #dfd9e1;\n",
       "  color: #000000;\n",
       "}\n",
       "#T_dbec7_row3_col0 {\n",
       "  background-color: #e0d9e2;\n",
       "  color: #000000;\n",
       "}\n",
       "</style>\n",
       "<table id=\"T_dbec7\">\n",
       "  <thead>\n",
       "    <tr>\n",
       "      <th class=\"blank level0\" >&nbsp;</th>\n",
       "      <th id=\"T_dbec7_level0_col0\" class=\"col_heading level0 col0\" >is_ultra</th>\n",
       "    </tr>\n",
       "  </thead>\n",
       "  <tbody>\n",
       "    <tr>\n",
       "      <th id=\"T_dbec7_level0_row0\" class=\"row_heading level0 row0\" >is_ultra</th>\n",
       "      <td id=\"T_dbec7_row0_col0\" class=\"data row0 col0\" >1.000000</td>\n",
       "    </tr>\n",
       "    <tr>\n",
       "      <th id=\"T_dbec7_level0_row1\" class=\"row_heading level0 row1\" >calls</th>\n",
       "      <td id=\"T_dbec7_row1_col0\" class=\"data row1 col0\" >0.207122</td>\n",
       "    </tr>\n",
       "    <tr>\n",
       "      <th id=\"T_dbec7_level0_row2\" class=\"row_heading level0 row2\" >minutes</th>\n",
       "      <td id=\"T_dbec7_row2_col0\" class=\"data row2 col0\" >0.206955</td>\n",
       "    </tr>\n",
       "    <tr>\n",
       "      <th id=\"T_dbec7_level0_row3\" class=\"row_heading level0 row3\" >messages</th>\n",
       "      <td id=\"T_dbec7_row3_col0\" class=\"data row3 col0\" >0.203830</td>\n",
       "    </tr>\n",
       "    <tr>\n",
       "      <th id=\"T_dbec7_level0_row4\" class=\"row_heading level0 row4\" >mb_used</th>\n",
       "      <td id=\"T_dbec7_row4_col0\" class=\"data row4 col0\" >0.198568</td>\n",
       "    </tr>\n",
       "  </tbody>\n",
       "</table>\n"
      ],
      "text/plain": [
       "<pandas.io.formats.style.Styler at 0x7ff1e02f08b0>"
      ]
     },
     "execution_count": 4,
     "metadata": {},
     "output_type": "execute_result"
    }
   ],
   "source": [
    "pd.DataFrame(df.corr()['is_ultra']).sort_values(by='is_ultra',ascending=False).\\\n",
    "style.background_gradient(cmap='twilight')"
   ]
  },
  {
   "cell_type": "markdown",
   "id": "9d2b3f16",
   "metadata": {},
   "source": [
    "Featuers are not closely correlated with the target."
   ]
  },
  {
   "cell_type": "markdown",
   "id": "3fea345a",
   "metadata": {},
   "source": [
    "## Training and test datasets\n",
    "We will split the data into two datasets.  We will use 75% of the data to train and validate our models, and we will hold out the remaining 25% to test our models."
   ]
  },
  {
   "cell_type": "code",
   "execution_count": 5,
   "id": "a9475e13",
   "metadata": {},
   "outputs": [
    {
     "name": "stdout",
     "output_type": "stream",
     "text": [
      "Training features shape 2410 rows, 4 columns\n",
      "           target shape 2410 columns\n",
      "\n",
      "Test features shape 804 rows, 4 columns\n",
      "       target shape 804 columns\n",
      "\n"
     ]
    }
   ],
   "source": [
    "X = df.drop(columns=['is_ultra']).copy()\n",
    "y = df['is_ultra']\n",
    "X_train, X_test, y_train, y_test = train_test_split(X, y, train_size=0.75, random_state=random_state)\n",
    "\n",
    "print('Training features shape {} rows, {} columns\\n           target shape {} columns\\n'.format(\n",
    "    X_train.shape[0], \n",
    "    X_train.shape[1], \n",
    "    y_train.shape[0]))\n",
    "print('Test features shape {} rows, {} columns\\n       target shape {} columns\\n'.format(\n",
    "    X_test.shape[0], \n",
    "    X_test.shape[1], \n",
    "    y_test.shape[0]))"
   ]
  },
  {
   "cell_type": "markdown",
   "id": "5b4de707",
   "metadata": {},
   "source": [
    "We will not create a separate validation sample because we will be using <code>GridSearchCV</code>.  This library performs an exhaustive search over specified parameter values for an estimator.  It avoids overfitting through _k-fold cross-validation_.  With this approach, the training data is split into _k_ smaller sets or folds.  The model is trained using _k-1_ of the folds, and the resulting model is validated on the remaining fold.  This process is repeated for each possible fold, and the performance measure for the model is the average of the measures for each fold.\n",
    "\n",
    "The advantage cross validation is that it allows us to use a greater portion of our data for training purposes, i.e., a separate validation set is not required. (https://bit.ly/3l7XTdX)  In particular, we will be using 75% of the data for training (and cross-validation) and the remaining 25% for final evaluation.  Had we used a simple arbitrary validation set, a traditional approach would have been to use 60% for training, 20% for validation, and 20% for testing.  The disadvantage of exhaustive search and cross validation is that it is computationally expensive."
   ]
  },
  {
   "cell_type": "markdown",
   "id": "a12b254a",
   "metadata": {},
   "source": [
    "## Class distribution and weighting"
   ]
  },
  {
   "cell_type": "code",
   "execution_count": 6,
   "id": "8cd11414",
   "metadata": {},
   "outputs": [
    {
     "data": {
      "image/png": "[encoded data removed]",
      "text/plain": [
       "<Figure size 432x288 with 1 Axes>"
      ]
     },
     "metadata": {
      "needs_background": "light"
     },
     "output_type": "display_data"
    }
   ],
   "source": [
    "labels ='Surf=0   |   ' + 'Ultra=1'\n",
    "sns.countplot(x=df['is_ultra'], palette='Blues')\n",
    "plt.title('Class Distribution')\n",
    "plt.xlabel(labels);"
   ]
  },
  {
   "cell_type": "code",
   "execution_count": 7,
   "id": "d6f79b08",
   "metadata": {},
   "outputs": [
    {
     "name": "stdout",
     "output_type": "stream",
     "text": [
      "Our class weights:\n",
      "{0: 0.7232893157262905, 1: 1.6196236559139785}\n"
     ]
    }
   ],
   "source": [
    "# Creating our class weights dictionary\n",
    "class_weights = class_weight.compute_class_weight('balanced', classes=np.unique(y_train), y=y_train)\n",
    "class_weights_dict = {0: class_weights[0], 1: class_weights[1]}\n",
    "print(f\"Our class weights:\\n{class_weights_dict}\")"
   ]
  },
  {
   "cell_type": "markdown",
   "id": "1c3f88be",
   "metadata": {},
   "source": [
    "Because our classes are unbalanced, we made a class weights dictionary, which can be passed to the model to encourage correct classification by penalizing selection of the majority class and incentivizing selection of the minority class. (https://bit.ly/3nQXNJp)  Some learning models include a hyperparameter for <code>class_weight</code>, allowing passage of our dictionary as well as the use of built-in class weighting strategies."
   ]
  },
  {
   "cell_type": "markdown",
   "id": "f7f285b5",
   "metadata": {},
   "source": [
    "## Model evaluation criteria\n",
    "In this section, we present a function that will generate a performance report for each model, and we describe the parts of the report."
   ]
  },
  {
   "cell_type": "markdown",
   "id": "b6ca3b9f",
   "metadata": {},
   "source": [
    "### Model evaluation function\n",
    "<code>evaluate_model()</code> fits the model on the training set and evaluates the model on the test set.  It prints a performance report including accuracy and recall scores, classification report, confusion matrix, and ROC curve."
   ]
  },
  {
   "cell_type": "code",
   "execution_count": 8,
   "id": "80936bd1",
   "metadata": {},
   "outputs": [],
   "source": [
    "def evaluate_model(model, X_train, y_train, X_test, y_test):\n",
    "    # Fit model on training set\n",
    "    fit_model = model.fit(X_train, y_train)\n",
    "\n",
    "    # Predict on test, training data\n",
    "    y_hat_test = fit_model.predict(X_test)\n",
    "    y_hat_train = fit_model.predict(X_train)\n",
    "\n",
    "    # Accuracy, precision, and recall scores\n",
    "    print(\"\\nTraining data\")\n",
    "    print('-' * 13)\n",
    "    print(f\"Accuracy: {accuracy_score(y_train, y_hat_train)}\")\n",
    "    print(f\"Precision: {precision_score(y_train, y_hat_train)}\")\n",
    "    print(f\"Recall: {recall_score(y_train, y_hat_train)}\")\n",
    "    print(\"\\nTest data\")\n",
    "    print('-' * 9)\n",
    "    print(f\"Accuracy: {accuracy_score(y_test, y_hat_test)}\")\n",
    "    print(f\"Precision: {precision_score(y_test, y_hat_test)}\")\n",
    "    print(f\"Recall: {recall_score(y_test, y_hat_test)}\")\n",
    "    \n",
    "    # Classification report\n",
    "    print(\"\\nClassification Report\")\n",
    "    print('-' * 21)\n",
    "    print(classification_report(y_test, y_hat_test))\n",
    "    \n",
    "    # Confusion matrix\n",
    "    #labels = sorted(y_test.drop_duplicates().astype(str))\n",
    "    #ConfusionMatrixDisplay.from_predictions(y_test, y_hat_test, display_labels=labels)\n",
    "    cm = confusion_matrix(y_test, y_hat_test)\n",
    "    ax = sns.heatmap(cm, annot=True, fmt='d', cmap='Blues')\n",
    "    plt.title('Confusion Matrix')\n",
    "    plt.xlabel('Predicted')\n",
    "    plt.ylabel('Actual')\n",
    "    plt.show()\n",
    "    \n",
    "    # ROC curve on second ax\n",
    "    #roc_plot = plot_roc_curve(fit_model, X_test, y_test)\n",
    "    #plt.legend()\n",
    "    # Threshold line\n",
    "    #plt.plot([0,1],[0,1],ls=':')\n",
    "    #plt.title('ROC Curve')\n",
    "    #plt.show()\n",
    "    # calculate the fpr and tpr for all thresholds of the classification\n",
    "    probs = model.predict_proba(X_test)\n",
    "    preds = probs[:,1]\n",
    "    fpr, tpr, threshold = metrics.roc_curve(y_test, preds)\n",
    "    roc_auc = metrics.auc(fpr, tpr)\n",
    "    plt.title('ROC')\n",
    "    plt.plot(fpr, tpr, 'b', label = 'AUC = %0.2f' % roc_auc)\n",
    "    plt.legend(loc = 'lower right')\n",
    "    plt.plot([0, 1], [0, 1],'r--')\n",
    "    plt.xlim([0, 1])\n",
    "    plt.ylim([0, 1])\n",
    "    plt.ylabel('True Positive Rate')\n",
    "    plt.xlabel('False Positive Rate')\n",
    "    plt.show()"
   ]
  },
  {
   "cell_type": "markdown",
   "id": "a6a6a22a",
   "metadata": {},
   "source": [
    "### Accuracy, precision, and recall\n",
    "- __Accuracy__ is the fraction of correct predictions.  It is the main performance metric for this project.  With a class-imbalanced set, it is possible to have a high accuracy (by correctly identifying the majority class), while still failing to identify the minority class. (https://bit.ly/3l8tnRh)\n",
    "- __Precision__ is the ratio of true positive identifications to total positive identifications.  In this project, it is the ratio of records correctly classified as Ultra to the total records classified as Ultra.  Records classified as Ultra that are actually Surf will drive down our precision with respect to Ultra.\n",
    "- __Recall__ is the ratio of true positive identifations to total positives.  In this project, it is the ratio of records correctly classified as Ultra to the total number of Ultra records. If we incorrectly identify an Ultra record as Surf, we will our recall with respect to Surf will decrease. (https://bit.ly/2ZnYpwN)"
   ]
  },
  {
   "cell_type": "markdown",
   "id": "74a4acac",
   "metadata": {},
   "source": [
    "### Classification report\n",
    "The classification report includes an F1 score, in addition to the scores described above.   \n",
    "\n",
    "In addition to accuracy, recall, and precision, the classification report includes:\n",
    "- __F1 score__:  The F1 score is a weighted harmonic mean of precision and recall such that the best score is 1.0 and the worst is 0.0. Generally speaking, F1 scores are lower than accuracy measures as they embed precision and recall into their computation. (https://bit.ly/3xlzMNC)\n",
    "- __Support__:  The number of occurences of the given class in the dataset"
   ]
  },
  {
   "cell_type": "markdown",
   "id": "5d50a527",
   "metadata": {},
   "source": [
    "### Confusion matrix\n",
    "A confusion matrix is used to evaluate the quality of the output of a classifier. The diagonal elements (left upper to right lower) represent the number of points for which the predicted label is equal to the true label, while off-diagonal elements are those that are mislabeled by the classifier. The higher the diagonal values of the confusion matrix the better, the greater the number of correct predictions.  (https://bit.ly/3p4IgoV)"
   ]
  },
  {
   "cell_type": "markdown",
   "id": "721f58f6",
   "metadata": {},
   "source": [
    "### ROC curve\n",
    "- A receiver operating characteristic curve, or ROC curve, is a graphical plot that illustrates the diagnostic ability of a binary classifier system.  It is created by plotting the true positive rate (TPR) against the false positive rate (FPR).\n",
    "- ROC curves typically feature true positive rate on the Y axis, and false positive rate on the X axis.\n",
    "- The top left corner of the plot is the “ideal” point - a false positive rate of zero, and a true positive rate of one.\n",
    "- Curves that are bent toward the top left corner represent better classifiers.  The “steepness” of ROC curves is, since it is ideal to maximize the true positive rate while minimizing the false positive rate.\n",
    "- A diagonal line from the bottom left to the upper right is called a non-discrimination line and represents a random classifier.\n",
    "- When given one randomly selected positive instance and one randomly selected negative instance, AUC is the probability that the classifier will be able to tell which one is which. (https://bit.ly/3r7bwxF)"
   ]
  },
  {
   "cell_type": "markdown",
   "id": "17c0e4a8",
   "metadata": {},
   "source": [
    "## Conclusion\n",
    "In this section, we reviewed the dataset, split the data into training and test sets, and we described a function that will be used later to evaluate our machine learning models."
   ]
  },
  {
   "cell_type": "markdown",
   "id": "2a6a3193",
   "metadata": {},
   "source": [
    "# Random forest"
   ]
  },
  {
   "cell_type": "markdown",
   "id": "6edca328",
   "metadata": {},
   "source": [
    "## Model characteristics\n",
    "- The random forest model builds multiple decision trees from bootstrap samples of the test data, and performs classification by taking a \"vote\" from these trees.  This process is called bagging, which stands for \"bootstrapping and aggregating\".  Bagging reduces the variance of a classifier by decreasing the difference in error when we train the model on different datasets. In other words, bagging prevents overfitting. The efficacy of bagging comes from the fact that individual models are quite different due to the different training data and their errors cancel out during voting. Additionally, outliers are likely omitted in some of the training bootstap samples (though random forest can still be sensitive to outliers). (https://bit.ly/3I5kh1B)\n",
    "- A disadvantage of random forest models is computational complexity.  (This was apparent in this project when using <code>GridSearchCV</code> to select hyperparameters for the <code>RandomForestClassifier</code>, even through our data set is small.)"
   ]
  },
  {
   "cell_type": "markdown",
   "id": "62aa5042",
   "metadata": {},
   "source": [
    "## Hyperparameter selection\n",
    "- <code>n_estimators</code> is the number of trees in our forest.\n",
    "- <code>criterion</code> specifies a function to measure the information gained from a split.\n",
    "- <code>max_depth</code> can limit the depth of a tree.  Deeper trees can be more accurate for the training data, at the risk of overfitting.\n",
    "- <code>class_weight</code> can compensate for class imbalance."
   ]
  },
  {
   "cell_type": "code",
   "execution_count": 9,
   "id": "fd804028",
   "metadata": {},
   "outputs": [],
   "source": [
    "params = {'n_estimators': range(100, 1100, 100), \n",
    "          'criterion': ['gini'], \n",
    "          'max_depth': range(10, 21), \n",
    "          'min_samples_leaf': range(2, 11),\n",
    "          'class_weight': ['balanced', 'balanced_subsample', None]\n",
    "         }\n",
    "\n",
    "scoring='f1'\n",
    "\n",
    "params = {'class_weight': ['balanced'],\n",
    "          'criterion': ['gini'],\n",
    "          'max_depth': [11],\n",
    "          'min_samples_leaf': [9],\n",
    "          'n_estimators': range(10, 100, 10)\n",
    "         }\n",
    "\n",
    "# Best parameters\n",
    "params = {'class_weight': ['balanced'],\n",
    "          'criterion': ['gini'],\n",
    "          'max_depth': [11],\n",
    "          'min_samples_leaf': [9],\n",
    "          'n_estimators': [90]\n",
    "         }"
   ]
  },
  {
   "cell_type": "code",
   "execution_count": 10,
   "id": "24d6d7fe",
   "metadata": {},
   "outputs": [
    {
     "data": {
      "text/plain": [
       "{'class_weight': 'balanced',\n",
       " 'criterion': 'gini',\n",
       " 'max_depth': 11,\n",
       " 'min_samples_leaf': 9,\n",
       " 'n_estimators': 90}"
      ]
     },
     "execution_count": 10,
     "metadata": {},
     "output_type": "execute_result"
    }
   ],
   "source": [
    "forest = RandomForestClassifier(random_state=random_state)\n",
    "clf = GridSearchCV(estimator=forest, param_grid=params, scoring=scoring, cv=10)\n",
    "clf.fit(X_train, y_train)\n",
    "best_params = clf.best_params_\n",
    "best_params"
   ]
  },
  {
   "cell_type": "code",
   "execution_count": 11,
   "id": "5822b5c5",
   "metadata": {},
   "outputs": [
    {
     "data": {
      "text/plain": [
       "{'bootstrap': True,\n",
       " 'ccp_alpha': 0.0,\n",
       " 'class_weight': 'balanced',\n",
       " 'criterion': 'gini',\n",
       " 'max_depth': 11,\n",
       " 'max_features': 'auto',\n",
       " 'max_leaf_nodes': None,\n",
       " 'max_samples': None,\n",
       " 'min_impurity_decrease': 0.0,\n",
       " 'min_samples_leaf': 9,\n",
       " 'min_samples_split': 2,\n",
       " 'min_weight_fraction_leaf': 0.0,\n",
       " 'n_estimators': 90,\n",
       " 'n_jobs': None,\n",
       " 'oob_score': False,\n",
       " 'random_state': 12345,\n",
       " 'verbose': 0,\n",
       " 'warm_start': False}"
      ]
     },
     "execution_count": 11,
     "metadata": {},
     "output_type": "execute_result"
    }
   ],
   "source": [
    "best_forest = RandomForestClassifier(**best_params, random_state=random_state)\n",
    "best_forest.get_params()"
   ]
  },
  {
   "cell_type": "markdown",
   "id": "889b0438",
   "metadata": {},
   "source": [
    "## Model evaluation"
   ]
  },
  {
   "cell_type": "code",
   "execution_count": 12,
   "id": "f39691d1",
   "metadata": {},
   "outputs": [
    {
     "name": "stdout",
     "output_type": "stream",
     "text": [
      "\n",
      "Training data\n",
      "-------------\n",
      "Accuracy: 0.8522821576763485\n",
      "Precision: 0.7694444444444445\n",
      "Recall: 0.7446236559139785\n",
      "\n",
      "Test data\n",
      "---------\n",
      "Accuracy: 0.7786069651741293\n",
      "Precision: 0.6492890995260664\n",
      "Recall: 0.5684647302904564\n",
      "\n",
      "Classification Report\n",
      "---------------------\n",
      "              precision    recall  f1-score   support\n",
      "\n",
      "           0       0.82      0.87      0.85       563\n",
      "           1       0.65      0.57      0.61       241\n",
      "\n",
      "    accuracy                           0.78       804\n",
      "   macro avg       0.74      0.72      0.73       804\n",
      "weighted avg       0.77      0.78      0.77       804\n",
      "\n"
     ]
    },
    {
     "data": {
      "image/png": "[encoded data removed]",
      "text/plain": [
       "<Figure size 432x288 with 2 Axes>"
      ]
     },
     "metadata": {
      "needs_background": "light"
     },
     "output_type": "display_data"
    },
    {
     "data": {
      "image/png": "[encoded data removed]",
      "text/plain": [
       "<Figure size 432x288 with 1 Axes>"
      ]
     },
     "metadata": {
      "needs_background": "light"
     },
     "output_type": "display_data"
    }
   ],
   "source": [
    "evaluate_model(best_forest, X_train, y_train, X_test, y_test)"
   ]
  },
  {
   "cell_type": "markdown",
   "id": "ffbbb9e2",
   "metadata": {},
   "source": [
    "## Feature importance"
   ]
  },
  {
   "cell_type": "code",
   "execution_count": 13,
   "id": "25c8ee2d",
   "metadata": {},
   "outputs": [
    {
     "data": {
      "image/png": "[encoded data removed]",
      "text/plain": [
       "<Figure size 432x288 with 1 Axes>"
      ]
     },
     "metadata": {
      "needs_background": "light"
     },
     "output_type": "display_data"
    }
   ],
   "source": [
    "importances = best_forest.feature_importances_\n",
    "sorted_indices = np.argsort(importances)[::-1]\n",
    "plt.title('Feature Importance')\n",
    "plt.bar(range(X_train.shape[1]), importances[sorted_indices], align='center')\n",
    "plt.xticks(range(X_train.shape[1]), X_train.columns[sorted_indices], rotation=90)\n",
    "plt.tight_layout()\n",
    "plt.show()"
   ]
  },
  {
   "cell_type": "markdown",
   "id": "aa752574",
   "metadata": {},
   "source": [
    "## Conclusion\n",
    "In this section, we performed a grid search to identify a set of hyperparameters for the random forest model.  We used the f1 scoring system for <code>GridSearchCV</code> to incorporate both precision and recall into the model.  Previous iterations showed that we could have achieved a slightly higher accuracy with other scoring systems, but f1 yielded a higher AUC, suggesting a better model overall.  Our selected hyperparameters achieved an accuracy of 78% on the test data."
   ]
  },
  {
   "cell_type": "markdown",
   "id": "5fddabc5",
   "metadata": {},
   "source": [
    "# Logistic regression"
   ]
  },
  {
   "cell_type": "markdown",
   "id": "96df94e5",
   "metadata": {},
   "source": [
    "## Model characteristics\n",
    "Logistic regression is a statistical technique to evaluate the relationship between various predictor variables (either categorical or continuous) and an outcome which is binary (dichotomous).  (https://bit.ly/3xrQRWu)\n",
    "\n",
    "Advantages of logsistic regression:\n",
    "- Less prone to overfitting than random forest\n",
    "- Fast\n",
    "\n",
    "Disadvantages of logistic regression include:\n",
    "- Cannot handle non-linear problems\n",
    "- Cannot to capture complex relationships\n",
    "- Requires moderate or no multicollinearity between independent variables (https://bit.ly/3DVvGyf)"
   ]
  },
  {
   "cell_type": "markdown",
   "id": "43bcdffc",
   "metadata": {},
   "source": [
    "## Hyperparameter selection\n",
    "- <code>max_iter</code> is the number of iterations.\n",
    "- <code>solver</code> is the algorithm to use for optimization.\n",
    "- <code>class_weight</code> is to troubleshoot unbalanced data sampling."
   ]
  },
  {
   "cell_type": "code",
   "execution_count": 14,
   "id": "8c3eacd9",
   "metadata": {},
   "outputs": [],
   "source": [
    "params = {'penalty' : ['l2'],\n",
    "          'tol' : [10**i for i in range(-10, 0)],\n",
    "          'C' : [0.001, 0.01, 0.1],\n",
    "          'fit_intercept' : [True],\n",
    "          'max_iter' : range(10, 210, 10),\n",
    "          'class_weight': [class_weights_dict, 'balanced', None]\n",
    "         }\n",
    "\n",
    "scoring = 'f1'\n",
    "\n",
    "params = {'penalty' : ['l2'],\n",
    "          'tol' : [10**i for i in range(-12, 0)],\n",
    "          'C' : [0.00001, 0.0001, 0.001, 0.01, 0.1],\n",
    "          'fit_intercept' : [True],\n",
    "          'max_iter' : range(10, 210, 10),\n",
    "          'class_weight': [class_weights_dict, 'balanced', None]\n",
    "         }\n",
    "\n",
    "scoring = 'f1_weighted'\n",
    "\n",
    "# Best parameters\n",
    "\n",
    "params = {'C': [0.0001],\n",
    "          'class_weight': [None],\n",
    "          'fit_intercept': [True],\n",
    "          'max_iter': [90],\n",
    "          'penalty': ['l2'],\n",
    "          'tol': [1e-12]}"
   ]
  },
  {
   "cell_type": "code",
   "execution_count": 15,
   "id": "55736200",
   "metadata": {},
   "outputs": [
    {
     "data": {
      "text/plain": [
       "{'C': 0.0001,\n",
       " 'class_weight': None,\n",
       " 'fit_intercept': True,\n",
       " 'max_iter': 90,\n",
       " 'penalty': 'l2',\n",
       " 'tol': 1e-12}"
      ]
     },
     "execution_count": 15,
     "metadata": {},
     "output_type": "execute_result"
    }
   ],
   "source": [
    "logistic = LogisticRegression(random_state=random_state)\n",
    "clf = GridSearchCV(estimator=logistic, param_grid=params, scoring=scoring, cv=10)\n",
    "clf.fit(X_train, y_train)\n",
    "best_params = clf.best_params_\n",
    "best_params"
   ]
  },
  {
   "cell_type": "code",
   "execution_count": 16,
   "id": "0bda5572",
   "metadata": {},
   "outputs": [
    {
     "data": {
      "text/plain": [
       "{'C': 0.0001,\n",
       " 'class_weight': None,\n",
       " 'dual': False,\n",
       " 'fit_intercept': True,\n",
       " 'intercept_scaling': 1,\n",
       " 'l1_ratio': None,\n",
       " 'max_iter': 90,\n",
       " 'multi_class': 'auto',\n",
       " 'n_jobs': None,\n",
       " 'penalty': 'l2',\n",
       " 'random_state': 12345,\n",
       " 'solver': 'lbfgs',\n",
       " 'tol': 1e-12,\n",
       " 'verbose': 0,\n",
       " 'warm_start': False}"
      ]
     },
     "execution_count": 16,
     "metadata": {},
     "output_type": "execute_result"
    }
   ],
   "source": [
    "best_logistic = LogisticRegression(**best_params, random_state=random_state)\n",
    "best_logistic.get_params()"
   ]
  },
  {
   "cell_type": "markdown",
   "id": "6b0df57b",
   "metadata": {},
   "source": [
    "## Model evaluation"
   ]
  },
  {
   "cell_type": "code",
   "execution_count": 17,
   "id": "8b2daaad",
   "metadata": {},
   "outputs": [
    {
     "name": "stdout",
     "output_type": "stream",
     "text": [
      "\n",
      "Training data\n",
      "-------------\n",
      "Accuracy: 0.7120331950207469\n",
      "Precision: 0.5694444444444444\n",
      "Recall: 0.27553763440860213\n",
      "\n",
      "Test data\n",
      "---------\n",
      "Accuracy: 0.722636815920398\n",
      "Precision: 0.5882352941176471\n",
      "Recall: 0.24896265560165975\n",
      "\n",
      "Classification Report\n",
      "---------------------\n",
      "              precision    recall  f1-score   support\n",
      "\n",
      "           0       0.74      0.93      0.82       563\n",
      "           1       0.59      0.25      0.35       241\n",
      "\n",
      "    accuracy                           0.72       804\n",
      "   macro avg       0.67      0.59      0.59       804\n",
      "weighted avg       0.70      0.72      0.68       804\n",
      "\n"
     ]
    },
    {
     "data": {
      "image/png": "[encoded data removed]",
      "text/plain": [
       "<Figure size 432x288 with 2 Axes>"
      ]
     },
     "metadata": {
      "needs_background": "light"
     },
     "output_type": "display_data"
    },
    {
     "data": {
      "image/png": "[encoded data removed]",
      "text/plain": [
       "<Figure size 432x288 with 1 Axes>"
      ]
     },
     "metadata": {
      "needs_background": "light"
     },
     "output_type": "display_data"
    }
   ],
   "source": [
    "evaluate_model(best_logistic, X_train, y_train, X_test, y_test)"
   ]
  },
  {
   "cell_type": "markdown",
   "id": "1135d7a8",
   "metadata": {},
   "source": [
    "## Conclusion\n",
    "Logistic regression was the worst performer.  In an earlier iteration, when <code>GridSearchCV</code> scored on accuracy (<code>scoring='accuracy'</code>), logistic regression achieved an accuracy of 70%, but it failed to identify Ultra subscribers (recall score just 6%).  In the current iteration, with <code>GridSearchCV</code> scored on f1-weighted, logistic regression did slightly better at in identifying Ultra (recall score of 25%), but while improving accuracy to 72%.\n",
    "\n",
    "One plausible explanation for the failure of logistic regression is multicollinearity:  two of the features (<code>calls</code> and <code>minutes</code>) are very closely correlated.  However, even when one of these features was removed, logistic regression still performed poorly."
   ]
  },
  {
   "cell_type": "code",
   "execution_count": 18,
   "id": "095470ea",
   "metadata": {},
   "outputs": [
    {
     "data": {
      "text/html": [
       "<div>\n",
       "<style scoped>\n",
       "    .dataframe tbody tr th:only-of-type {\n",
       "        vertical-align: middle;\n",
       "    }\n",
       "\n",
       "    .dataframe tbody tr th {\n",
       "        vertical-align: top;\n",
       "    }\n",
       "\n",
       "    .dataframe thead th {\n",
       "        text-align: right;\n",
       "    }\n",
       "</style>\n",
       "<table border=\"1\" class=\"dataframe\">\n",
       "  <thead>\n",
       "    <tr style=\"text-align: right;\">\n",
       "      <th></th>\n",
       "      <th>calls</th>\n",
       "      <th>minutes</th>\n",
       "      <th>messages</th>\n",
       "      <th>mb_used</th>\n",
       "    </tr>\n",
       "  </thead>\n",
       "  <tbody>\n",
       "    <tr>\n",
       "      <th>calls</th>\n",
       "      <td>1.000000</td>\n",
       "      <td>0.982135</td>\n",
       "      <td>0.237576</td>\n",
       "      <td>0.300793</td>\n",
       "    </tr>\n",
       "    <tr>\n",
       "      <th>minutes</th>\n",
       "      <td>0.982135</td>\n",
       "      <td>1.000000</td>\n",
       "      <td>0.224739</td>\n",
       "      <td>0.289411</td>\n",
       "    </tr>\n",
       "    <tr>\n",
       "      <th>messages</th>\n",
       "      <td>0.237576</td>\n",
       "      <td>0.224739</td>\n",
       "      <td>1.000000</td>\n",
       "      <td>0.198115</td>\n",
       "    </tr>\n",
       "    <tr>\n",
       "      <th>mb_used</th>\n",
       "      <td>0.300793</td>\n",
       "      <td>0.289411</td>\n",
       "      <td>0.198115</td>\n",
       "      <td>1.000000</td>\n",
       "    </tr>\n",
       "  </tbody>\n",
       "</table>\n",
       "</div>"
      ],
      "text/plain": [
       "             calls   minutes  messages   mb_used\n",
       "calls     1.000000  0.982135  0.237576  0.300793\n",
       "minutes   0.982135  1.000000  0.224739  0.289411\n",
       "messages  0.237576  0.224739  1.000000  0.198115\n",
       "mb_used   0.300793  0.289411  0.198115  1.000000"
      ]
     },
     "execution_count": 18,
     "metadata": {},
     "output_type": "execute_result"
    }
   ],
   "source": [
    "X_test.corr()"
   ]
  },
  {
   "cell_type": "markdown",
   "id": "1420f196",
   "metadata": {},
   "source": [
    "# Naive Bayes"
   ]
  },
  {
   "cell_type": "markdown",
   "id": "d3d5c53f",
   "metadata": {},
   "source": [
    "## Model characteristics\n",
    "The naive Bayes algorithm uses the probability of observing features, given a target, to estimate what is really of interest: the probability of observing a target, given a set of features.\n",
    "\n",
    "Advantages:\n",
    "- Simple and fast\n",
    "- Performs well for data sets of all sizes\n",
    "- Works \"out of the box\" without hyperparameter tuning\n",
    "\n",
    "Disadvantages\n",
    "- Assumes that features are independent of each other (which is what makes this algorithm \"naive\")\n",
    "- Does not model complex relationships between features\n",
    "- Requires workarounds for continuous features"
   ]
  },
  {
   "cell_type": "markdown",
   "id": "88f01d81",
   "metadata": {},
   "source": [
    "## Data preparation\n",
    "The features in our dataset are continuous.  We will need to make them discrete for use with naive Bayes.  In order to pass our Naive Bayes model to our <code>evaluate_model()</code> function, we will write a wrapper class, <code>MyBayes()</code> to intercept calls to <code>fit()</code> and <code>predict()</code> and make the data categorical before calling the corresponding methods of the <code>GaussianNB</code> classifier. (sklearn offers several Bayes classifiers, and <code>GaussianNB</code> gives the best accuracy for our data set.)"
   ]
  },
  {
   "cell_type": "code",
   "execution_count": 19,
   "id": "bb1a26ec",
   "metadata": {},
   "outputs": [
    {
     "data": {
      "text/html": [
       "<div>\n",
       "<style scoped>\n",
       "    .dataframe tbody tr th:only-of-type {\n",
       "        vertical-align: middle;\n",
       "    }\n",
       "\n",
       "    .dataframe tbody tr th {\n",
       "        vertical-align: top;\n",
       "    }\n",
       "\n",
       "    .dataframe thead th {\n",
       "        text-align: right;\n",
       "    }\n",
       "</style>\n",
       "<table border=\"1\" class=\"dataframe\">\n",
       "  <thead>\n",
       "    <tr style=\"text-align: right;\">\n",
       "      <th></th>\n",
       "      <th>calls</th>\n",
       "      <th>minutes</th>\n",
       "      <th>messages</th>\n",
       "      <th>mb_used</th>\n",
       "    </tr>\n",
       "  </thead>\n",
       "  <tbody>\n",
       "    <tr>\n",
       "      <th>101</th>\n",
       "      <td>107.0</td>\n",
       "      <td>804.97</td>\n",
       "      <td>66.0</td>\n",
       "      <td>17935.91</td>\n",
       "    </tr>\n",
       "    <tr>\n",
       "      <th>1915</th>\n",
       "      <td>69.0</td>\n",
       "      <td>429.68</td>\n",
       "      <td>28.0</td>\n",
       "      <td>17314.66</td>\n",
       "    </tr>\n",
       "    <tr>\n",
       "      <th>88</th>\n",
       "      <td>48.0</td>\n",
       "      <td>331.33</td>\n",
       "      <td>0.0</td>\n",
       "      <td>8000.36</td>\n",
       "    </tr>\n",
       "    <tr>\n",
       "      <th>1348</th>\n",
       "      <td>69.0</td>\n",
       "      <td>528.67</td>\n",
       "      <td>47.0</td>\n",
       "      <td>22323.98</td>\n",
       "    </tr>\n",
       "    <tr>\n",
       "      <th>2264</th>\n",
       "      <td>51.0</td>\n",
       "      <td>310.77</td>\n",
       "      <td>22.0</td>\n",
       "      <td>24936.54</td>\n",
       "    </tr>\n",
       "  </tbody>\n",
       "</table>\n",
       "</div>"
      ],
      "text/plain": [
       "      calls  minutes  messages   mb_used\n",
       "101   107.0   804.97      66.0  17935.91\n",
       "1915   69.0   429.68      28.0  17314.66\n",
       "88     48.0   331.33       0.0   8000.36\n",
       "1348   69.0   528.67      47.0  22323.98\n",
       "2264   51.0   310.77      22.0  24936.54"
      ]
     },
     "execution_count": 19,
     "metadata": {},
     "output_type": "execute_result"
    }
   ],
   "source": [
    "X_train.head()"
   ]
  },
  {
   "cell_type": "code",
   "execution_count": 20,
   "id": "82244fb1",
   "metadata": {},
   "outputs": [
    {
     "data": {
      "text/html": [
       "<div>\n",
       "<style scoped>\n",
       "    .dataframe tbody tr th:only-of-type {\n",
       "        vertical-align: middle;\n",
       "    }\n",
       "\n",
       "    .dataframe tbody tr th {\n",
       "        vertical-align: top;\n",
       "    }\n",
       "\n",
       "    .dataframe thead th {\n",
       "        text-align: right;\n",
       "    }\n",
       "</style>\n",
       "<table border=\"1\" class=\"dataframe\">\n",
       "  <thead>\n",
       "    <tr style=\"text-align: right;\">\n",
       "      <th></th>\n",
       "      <th>calls</th>\n",
       "      <th>minutes</th>\n",
       "      <th>messages</th>\n",
       "      <th>mb_used</th>\n",
       "    </tr>\n",
       "  </thead>\n",
       "  <tbody>\n",
       "    <tr>\n",
       "      <th>101</th>\n",
       "      <td>4</td>\n",
       "      <td>4</td>\n",
       "      <td>2</td>\n",
       "      <td>4</td>\n",
       "    </tr>\n",
       "    <tr>\n",
       "      <th>1915</th>\n",
       "      <td>2</td>\n",
       "      <td>2</td>\n",
       "      <td>1</td>\n",
       "      <td>3</td>\n",
       "    </tr>\n",
       "    <tr>\n",
       "      <th>88</th>\n",
       "      <td>1</td>\n",
       "      <td>2</td>\n",
       "      <td>0</td>\n",
       "      <td>1</td>\n",
       "    </tr>\n",
       "    <tr>\n",
       "      <th>1348</th>\n",
       "      <td>2</td>\n",
       "      <td>3</td>\n",
       "      <td>2</td>\n",
       "      <td>5</td>\n",
       "    </tr>\n",
       "    <tr>\n",
       "      <th>2264</th>\n",
       "      <td>2</td>\n",
       "      <td>1</td>\n",
       "      <td>0</td>\n",
       "      <td>5</td>\n",
       "    </tr>\n",
       "  </tbody>\n",
       "</table>\n",
       "</div>"
      ],
      "text/plain": [
       "     calls minutes messages mb_used\n",
       "101      4       4        2       4\n",
       "1915     2       2        1       3\n",
       "88       1       2        0       1\n",
       "1348     2       3        2       5\n",
       "2264     2       1        0       5"
      ]
     },
     "execution_count": 20,
     "metadata": {},
     "output_type": "execute_result"
    }
   ],
   "source": [
    "class BayesWrapper():\n",
    "    def __init__(self):\n",
    "        self.model = GaussianNB()\n",
    "        self.num_cuts = 10\n",
    "        self._estimator_type = 'classifier'\n",
    "    def get_categorical(self, X):\n",
    "        self.df_X = pd.DataFrame()\n",
    "        for c in X.columns:\n",
    "            self.df_X[c] = pd.cut(X[c], self.num_cuts, labels=range(self.num_cuts))\n",
    "        return self.df_X\n",
    "    def fit(self, X, y):\n",
    "        self.X = self.get_categorical(X)\n",
    "        self.y = y\n",
    "        self.classes_ = np.array(y.unique())\n",
    "        self.model.fit(self.X, self.y)\n",
    "        return self\n",
    "    def predict(self, X):\n",
    "        self.X = self.get_categorical(X)\n",
    "        return self.model.predict(self.X)\n",
    "    def predict_proba(self, X):\n",
    "        self.X = self.get_categorical(X)\n",
    "        return self.model.predict_proba(self.X)\n",
    "    \n",
    "bayes = BayesWrapper()\n",
    "bayes.fit(X_train, y_train)\n",
    "bayes.X.head()"
   ]
  },
  {
   "cell_type": "markdown",
   "id": "867c369f",
   "metadata": {},
   "source": [
    "## Hyperparameter selection"
   ]
  },
  {
   "cell_type": "markdown",
   "id": "417a67f9",
   "metadata": {},
   "source": [
    "<code>GaussianNB</code> does not require (or even offer) hyperparameters for selection."
   ]
  },
  {
   "cell_type": "markdown",
   "id": "07fe74a3",
   "metadata": {},
   "source": [
    "## Model evaluation"
   ]
  },
  {
   "cell_type": "code",
   "execution_count": 21,
   "id": "58fd46bd",
   "metadata": {},
   "outputs": [
    {
     "name": "stdout",
     "output_type": "stream",
     "text": [
      "\n",
      "Training data\n",
      "-------------\n",
      "Accuracy: 0.7775933609958506\n",
      "Precision: 0.7096774193548387\n",
      "Recall: 0.4731182795698925\n",
      "\n",
      "Test data\n",
      "---------\n",
      "Accuracy: 0.7649253731343284\n",
      "Precision: 0.6511627906976745\n",
      "Recall: 0.46473029045643155\n",
      "\n",
      "Classification Report\n",
      "---------------------\n",
      "              precision    recall  f1-score   support\n",
      "\n",
      "           0       0.80      0.89      0.84       563\n",
      "           1       0.65      0.46      0.54       241\n",
      "\n",
      "    accuracy                           0.76       804\n",
      "   macro avg       0.72      0.68      0.69       804\n",
      "weighted avg       0.75      0.76      0.75       804\n",
      "\n"
     ]
    },
    {
     "data": {
      "image/png": "[encoded data removed]",
      "text/plain": [
       "<Figure size 432x288 with 2 Axes>"
      ]
     },
     "metadata": {
      "needs_background": "light"
     },
     "output_type": "display_data"
    },
    {
     "data": {
      "image/png": "[encoded data removed]",
      "text/plain": [
       "<Figure size 432x288 with 1 Axes>"
      ]
     },
     "metadata": {
      "needs_background": "light"
     },
     "output_type": "display_data"
    }
   ],
   "source": [
    "evaluate_model(bayes, X_train, y_train, X_test, y_test)"
   ]
  },
  {
   "cell_type": "markdown",
   "id": "ebb5f4ed",
   "metadata": {},
   "source": [
    "## Conclusion\n",
    "Naive Bayes performed well, with an accuracy close to our random forest classifier."
   ]
  },
  {
   "cell_type": "markdown",
   "id": "f11aca9e",
   "metadata": {},
   "source": [
    "# Combining models\n",
    "In this section, we experiment with combining models, in an effort to achieve even higher accuracy.  We wrote a <code>ComboClassifier()</code> class, which accepts a list of classifiers and combines them one of two ways:\n",
    "- Select the target class from the model that gives the highest probability (from <code>predict_proba()</code>)\n",
    "- Select the target class by taking a majority vote among the 3 models.\n",
    "Of these two approaches, selecting the class based on probability gave the best results and is used below."
   ]
  },
  {
   "cell_type": "code",
   "execution_count": 22,
   "id": "a30c9271",
   "metadata": {},
   "outputs": [],
   "source": [
    "class ComboClassifier():\n",
    "    def __init__(self, models):\n",
    "        self.models = models\n",
    "        self._estimator_type = 'classifier'\n",
    "    def fit(self, X, y):\n",
    "        self.X = X\n",
    "        self.y = y\n",
    "        self.classes_ = np.array(y.unique())\n",
    "        self.fitted_models = []\n",
    "        for m in self.models:\n",
    "            self.fitted_models.append(m.fit(X, y))\n",
    "        return self\n",
    "    def get_best_proba(self, X):\n",
    "        # Get best based on predict_proba() for each model\n",
    "        predictions = []\n",
    "        for m in self.fitted_models:\n",
    "            predictions.append(list(zip(m.predict(X), m.predict_proba(X))))\n",
    "        best = [(0, [0,0])]*len(X)\n",
    "        for m in predictions:\n",
    "            for i in range(len(X)):\n",
    "                if max(m[i][1]) > max(best[i][1]):\n",
    "                    best[i] = m[i]\n",
    "        return best\n",
    "    def get_best_vote(self, X):\n",
    "        # Get best based on majority of models\n",
    "        # This will only work if we have an odd number of models.\n",
    "        predictions = []\n",
    "        for m in self.fitted_models:\n",
    "            predictions.append(list(zip(m.predict(X), m.predict_proba(X))))\n",
    "        best = [(0, [0,0])]*len(X)\n",
    "        for i in range(len(X)):\n",
    "            votes = []\n",
    "            for m in predictions:\n",
    "                votes.append((m[i][0], m[i][1]))\n",
    "            winner = mode([v[0] for v in votes])\n",
    "            winner_prob = max(list(itertools.chain(*[v[1] for v in votes if v[0] == winner])))\n",
    "            best[i] = ((winner, [winner_prob,1-winner_prob]))\n",
    "        return best\n",
    "    def predict(self, X):\n",
    "        return [i[0] for i in self.get_best_proba(X)]\n",
    "    def predict_proba(self, X):\n",
    "        return np.array([i[1] for i in self.get_best_proba(X)])\n",
    "\n",
    "combo = ComboClassifier([best_forest, best_logistic, bayes])"
   ]
  },
  {
   "cell_type": "code",
   "execution_count": 23,
   "id": "04460da7",
   "metadata": {},
   "outputs": [
    {
     "name": "stdout",
     "output_type": "stream",
     "text": [
      "\n",
      "Training data\n",
      "-------------\n",
      "Accuracy: 0.8186721991701245\n",
      "Precision: 0.7912713472485768\n",
      "Recall: 0.5604838709677419\n",
      "\n",
      "Test data\n",
      "---------\n",
      "Accuracy: 0.8059701492537313\n",
      "Precision: 0.7544910179640718\n",
      "Recall: 0.5228215767634855\n",
      "\n",
      "Classification Report\n",
      "---------------------\n",
      "              precision    recall  f1-score   support\n",
      "\n",
      "           0       0.82      0.93      0.87       563\n",
      "           1       0.75      0.52      0.62       241\n",
      "\n",
      "    accuracy                           0.81       804\n",
      "   macro avg       0.79      0.72      0.74       804\n",
      "weighted avg       0.80      0.81      0.79       804\n",
      "\n"
     ]
    },
    {
     "data": {
      "image/png": "[encoded data removed]",
      "text/plain": [
       "<Figure size 432x288 with 2 Axes>"
      ]
     },
     "metadata": {
      "needs_background": "light"
     },
     "output_type": "display_data"
    },
    {
     "data": {
      "image/png": "[encoded data removed]",
      "text/plain": [
       "<Figure size 432x288 with 1 Axes>"
      ]
     },
     "metadata": {
      "needs_background": "light"
     },
     "output_type": "display_data"
    }
   ],
   "source": [
    "evaluate_model(combo, X_train, y_train, X_test, y_test)"
   ]
  },
  {
   "cell_type": "code",
   "execution_count": 24,
   "id": "7feadda6",
   "metadata": {},
   "outputs": [
    {
     "name": "stdout",
     "output_type": "stream",
     "text": [
      "Combo model differs from random forest by 66 points.\n",
      "Combo model differs from logistic regression 135 points.\n",
      "Combo model differs from naive bayes by 77 points.\n"
     ]
    }
   ],
   "source": [
    "forest_diff = sum(1 for i, j in zip(combo.predict(X_test), best_forest.predict(X_test)) if i != j)\n",
    "logistic_diff = sum(1 for i, j in zip(combo.predict(X_test), best_logistic.predict(X_test)) if i != j)\n",
    "bayes_diff = sum(1 for i, j in zip(combo.predict(X_test), bayes.predict(X_test)) if i != j)\n",
    "print('Combo model differs from random forest by {} points.'.format(forest_diff))\n",
    "print('Combo model differs from logistic regression {} points.'.format(logistic_diff))\n",
    "print('Combo model differs from naive bayes by {} points.'.format(bayes_diff))"
   ]
  },
  {
   "cell_type": "markdown",
   "id": "de9927b4",
   "metadata": {},
   "source": [
    "## Conclusion"
   ]
  },
  {
   "cell_type": "markdown",
   "id": "53773094",
   "metadata": {},
   "source": [
    "Combining our random forest, logistic regression, and naive Bayes classifiers and predicting the target based on the probability predictions of the underlying models produced a slight increase in accuracy, to __81%__."
   ]
  },
  {
   "cell_type": "markdown",
   "id": "5c4a5a54",
   "metadata": {},
   "source": [
    "## Sanity check:  Dummy classifier"
   ]
  },
  {
   "cell_type": "code",
   "execution_count": 25,
   "id": "5c997ba1",
   "metadata": {},
   "outputs": [
    {
     "name": "stdout",
     "output_type": "stream",
     "text": [
      "\n",
      "Training data\n",
      "-------------\n",
      "Accuracy: 0.5738589211618257\n",
      "Precision: 0.3069577080491132\n",
      "Recall: 0.3024193548387097\n",
      "\n",
      "Test data\n",
      "---------\n",
      "Accuracy: 0.5771144278606966\n",
      "Precision: 0.30278884462151395\n",
      "Recall: 0.3153526970954357\n",
      "\n",
      "Classification Report\n",
      "---------------------\n",
      "              precision    recall  f1-score   support\n",
      "\n",
      "           0       0.70      0.69      0.70       563\n",
      "           1       0.30      0.32      0.31       241\n",
      "\n",
      "    accuracy                           0.58       804\n",
      "   macro avg       0.50      0.50      0.50       804\n",
      "weighted avg       0.58      0.58      0.58       804\n",
      "\n"
     ]
    },
    {
     "data": {
      "image/png": "[encoded data removed]",
      "text/plain": [
       "<Figure size 432x288 with 2 Axes>"
      ]
     },
     "metadata": {
      "needs_background": "light"
     },
     "output_type": "display_data"
    },
    {
     "data": {
      "image/png": "[encoded data removed]",
      "text/plain": [
       "<Figure size 432x288 with 1 Axes>"
      ]
     },
     "metadata": {
      "needs_background": "light"
     },
     "output_type": "display_data"
    }
   ],
   "source": [
    "dummy = DummyClassifier(strategy='stratified', random_state=random_state)\n",
    "dummy.fit(X_train, y_train)\n",
    "evaluate_model(dummy, X_train, y_train, X_test, y_test)"
   ]
  },
  {
   "cell_type": "markdown",
   "id": "60138199",
   "metadata": {},
   "source": [
    "## Conclusion\n",
    "The Dummy classifier is useful as a simple baseline to compare with other (real) classifiers. By selecting the stratified strategy, the classifier generated predictions based on the training set's class distribution, and its ROC curve is that of a random classifier."
   ]
  },
  {
   "cell_type": "markdown",
   "id": "0dd53afd",
   "metadata": {},
   "source": [
    "# Conclusion"
   ]
  },
  {
   "cell_type": "markdown",
   "id": "b3ed69e0",
   "metadata": {},
   "source": [
    "In this project, we developed a machine learning model to predict a calling plan choice based on subscriber usage data for Megaline.  We built models using random forest, logistic regression, and naive Bayes classifiers.  Then, using these underlying models, we developed a combined model, which achieved a prediction accuracy of __81%__ on the test dataset."
   ]
  },
  {
   "cell_type": "markdown",
   "id": "26cc6a0d",
   "metadata": {},
   "source": [
    "# Resources\n",
    "- __Model evaluation__\n",
    "    - _The ultimate guide to binary classification metrics_: https://towardsdatascience.com/the-ultimate-guide-to-binary-classification-metrics-c25c3627dd0a\n",
    "    - _Receiver operating characteristic_: https://en.wikipedia.org/wiki/Receiver_operating_characteristic\n",
    "    - _Confusion matrix_: https://scikit-learn.org/stable/auto_examples/model_selection/plot_confusion_matrix.html#sphx-glr-auto-examples-model-selection-plot-confusion-matrix-py\n",
    "    - _Understanding the Classification report through sklearn_: https://muthu.co/understanding-the-classification-report-in-sklearn/\n",
    "    - _Classification: Precision and Recall_: https://developers.google.com/machine-learning/crash-course/classification/precision-and-recall\n",
    "    - _Classification: Accuracy_: https://developers.google.com/machine-learning/crash-course/classification/accuracy\n",
    "- __Grid search__\n",
    "    - _Optimize Hyperparameters with GridSearch_: https://medium.com/analytics-vidhya/optimize-hyperparameters-with-gridsearch-d351b0fd339d\n",
    "    - _Using explicit (predefined) validation set for grid search with sklearn_: https://stackoverflow.com/questions/31948879/using-explicit-predefined-validation-set-for-grid-search-with-sklearn\n",
    "\n",
    "    - _How to Improve Class Imbalance using Class Weights in Machine Learning_; https://www.analyticsvidhya.com/blog/2020/10/improve-class-imbalance-class-weights/\n",
    "    - _Cross-validation: evaluating estimator performance_: https://scikit-learn.org/stable/modules/cross_validation.html#cross-validation\n",
    "- __Random forest__\n",
    "    - _What’s in a “Random Forest”? Predicting Diabetes_: https://towardsdatascience.com/whats-in-a-random-forest-predicting-diabetes-18f3707b6343\n",
    "    - _Open Machine Learning Course. Topic 5. Bagging and Random Forest_: https://medium.com/open-machine-learning-course/open-machine-learning-course-topic-5-ensembles-of-algorithms-and-random-forest-8e05246cbba7\n",
    "    - _Growing a Random Forest using Sklearn’s DecisionTreeClassifier_: https://towardsdatascience.com/growing-a-random-forest-using-sklearns-decisiontreeclassifier-24e048e8bd84\n",
    "    - _Advantages and Disadvantages of Random Forest Algorithm in Machine Learning_: https://theprofessionalspoint.blogspot.com/2019/02/advantages-and-disadvantages-of-random.html\n",
    "- __Logistic regression__\n",
    "    - _Why use Logistic Regression?_: https://medium.com/analytics-vidhya/why-use-logistic-regression-6cd17e09e6d0\n",
    "    - _Logistic Regression Model Tuning with scikit-learn — Part 1_: https://towardsdatascience.com/logistic-regression-model-tuning-with-scikit-learn-part-1-425142e01af5\n",
    "    - _How to Improve Logistic Regression?_: https://medium.com/analytics-vidhya/how-to-improve-logistic-regression-b956e72f4492\n",
    "    - _Advantages and Disadvantages of Logistic Regression_: https://iq.opengenus.org/advantages-and-disadvantages-of-logistic-regression/\n",
    "    - _Common pitfalls in statistical analysis: Logistic regression_: https://www.ncbi.nlm.nih.gov/pmc/articles/PMC5543767/\n",
    "    - \n",
    "- __Naive Bayes__\n",
    "    - _Naive Bayes Overview_: https://medium.com/@heylemaster/naive-bayes-overview-1fee34268f6d\n",
    "    - _Naive Bayes Explained_: https://towardsdatascience.com/naive-bayes-explained-9d2b96f4a9c0"
   ]
  }
 ],
 "metadata": {
  "ExecuteTimeLog": [
   {
    "duration": 1054,
    "start_time": "2021-11-26T01:21:59.252Z"
   },
   {
    "duration": -1,
    "start_time": "2021-11-26T01:22:00.310Z"
   },
   {
    "duration": -135,
    "start_time": "2021-11-26T01:22:00.445Z"
   },
   {
    "duration": -139,
    "start_time": "2021-11-26T01:22:00.450Z"
   },
   {
    "duration": -140,
    "start_time": "2021-11-26T01:22:00.452Z"
   },
   {
    "duration": -141,
    "start_time": "2021-11-26T01:22:00.454Z"
   },
   {
    "duration": -142,
    "start_time": "2021-11-26T01:22:00.456Z"
   },
   {
    "duration": -143,
    "start_time": "2021-11-26T01:22:00.458Z"
   },
   {
    "duration": -144,
    "start_time": "2021-11-26T01:22:00.460Z"
   },
   {
    "duration": -145,
    "start_time": "2021-11-26T01:22:00.462Z"
   },
   {
    "duration": -145,
    "start_time": "2021-11-26T01:22:00.463Z"
   },
   {
    "duration": -146,
    "start_time": "2021-11-26T01:22:00.465Z"
   },
   {
    "duration": -146,
    "start_time": "2021-11-26T01:22:00.466Z"
   },
   {
    "duration": -146,
    "start_time": "2021-11-26T01:22:00.467Z"
   },
   {
    "duration": -147,
    "start_time": "2021-11-26T01:22:00.469Z"
   },
   {
    "duration": -148,
    "start_time": "2021-11-26T01:22:00.471Z"
   },
   {
    "duration": -148,
    "start_time": "2021-11-26T01:22:00.472Z"
   },
   {
    "duration": -149,
    "start_time": "2021-11-26T01:22:00.473Z"
   },
   {
    "duration": -150,
    "start_time": "2021-11-26T01:22:00.475Z"
   },
   {
    "duration": -149,
    "start_time": "2021-11-26T01:22:00.476Z"
   },
   {
    "duration": -280,
    "start_time": "2021-11-26T01:22:00.608Z"
   },
   {
    "duration": -283,
    "start_time": "2021-11-26T01:22:00.612Z"
   },
   {
    "duration": -283,
    "start_time": "2021-11-26T01:22:00.613Z"
   },
   {
    "duration": -285,
    "start_time": "2021-11-26T01:22:00.615Z"
   },
   {
    "duration": -285,
    "start_time": "2021-11-26T01:22:00.616Z"
   },
   {
    "duration": 307,
    "start_time": "2021-11-26T01:26:03.952Z"
   },
   {
    "duration": 365,
    "start_time": "2021-11-26T12:58:54.627Z"
   },
   {
    "duration": 1125,
    "start_time": "2021-11-26T12:59:28.093Z"
   },
   {
    "duration": 4,
    "start_time": "2021-11-26T12:59:50.525Z"
   },
   {
    "duration": 271,
    "start_time": "2021-11-26T13:01:32.573Z"
   },
   {
    "duration": 243,
    "start_time": "2021-11-26T13:06:09.316Z"
   },
   {
    "duration": 257,
    "start_time": "2021-11-26T13:06:18.388Z"
   },
   {
    "duration": 6,
    "start_time": "2021-11-26T13:16:19.684Z"
   },
   {
    "duration": 89,
    "start_time": "2021-11-26T13:29:20.248Z"
   },
   {
    "duration": 383,
    "start_time": "2021-11-26T14:11:50.065Z"
   },
   {
    "duration": 314,
    "start_time": "2021-11-26T14:14:01.215Z"
   },
   {
    "duration": 283,
    "start_time": "2021-11-26T14:14:39.898Z"
   },
   {
    "duration": 1147,
    "start_time": "2021-11-26T14:14:59.598Z"
   },
   {
    "duration": 179,
    "start_time": "2021-11-26T14:15:15.868Z"
   },
   {
    "duration": 17,
    "start_time": "2021-11-26T14:15:28.902Z"
   },
   {
    "duration": 42,
    "start_time": "2021-11-26T14:15:30.769Z"
   },
   {
    "duration": 986,
    "start_time": "2021-11-26T14:15:44.965Z"
   },
   {
    "duration": 13,
    "start_time": "2021-11-26T14:16:06.865Z"
   },
   {
    "duration": 232,
    "start_time": "2021-11-26T14:16:19.579Z"
   },
   {
    "duration": 7,
    "start_time": "2021-11-26T14:16:23.740Z"
   },
   {
    "duration": 7,
    "start_time": "2021-11-26T14:17:02.956Z"
   },
   {
    "duration": 5,
    "start_time": "2021-11-26T14:17:25.721Z"
   },
   {
    "duration": 25799,
    "start_time": "2021-11-26T14:17:29.887Z"
   },
   {
    "duration": 7,
    "start_time": "2021-11-26T14:18:02.996Z"
   },
   {
    "duration": 2630,
    "start_time": "2021-11-26T14:18:09.377Z"
   },
   {
    "duration": 479,
    "start_time": "2021-11-26T14:18:25.119Z"
   },
   {
    "duration": 6,
    "start_time": "2021-11-26T14:19:01.682Z"
   },
   {
    "duration": 311,
    "start_time": "2021-11-26T14:19:07.411Z"
   },
   {
    "duration": 8,
    "start_time": "2021-11-26T14:19:11.700Z"
   },
   {
    "duration": 237,
    "start_time": "2021-11-26T14:19:17.600Z"
   },
   {
    "duration": 17,
    "start_time": "2021-11-26T14:19:23.597Z"
   },
   {
    "duration": 13,
    "start_time": "2021-11-26T14:19:46.566Z"
   },
   {
    "duration": 43,
    "start_time": "2021-11-26T14:20:14.078Z"
   },
   {
    "duration": 104,
    "start_time": "2021-11-26T14:20:27.466Z"
   },
   {
    "duration": 16,
    "start_time": "2021-11-26T14:21:16.737Z"
   },
   {
    "duration": 3200,
    "start_time": "2021-11-26T14:21:22.896Z"
   },
   {
    "duration": 1151,
    "start_time": "2021-11-26T14:21:39.520Z"
   },
   {
    "duration": 930,
    "start_time": "2021-11-26T14:21:53.677Z"
   },
   {
    "duration": 29,
    "start_time": "2021-11-26T14:21:59.917Z"
   },
   {
    "duration": 2509,
    "start_time": "2021-11-26T14:32:09.734Z"
   },
   {
    "duration": 2854,
    "start_time": "2021-11-26T14:33:32.385Z"
   },
   {
    "duration": 10,
    "start_time": "2021-11-26T14:36:08.322Z"
   },
   {
    "duration": 3175,
    "start_time": "2021-11-26T14:36:20.701Z"
   },
   {
    "duration": 8,
    "start_time": "2021-11-26T14:38:58.464Z"
   },
   {
    "duration": 3063,
    "start_time": "2021-11-26T14:39:10.284Z"
   },
   {
    "duration": 7,
    "start_time": "2021-11-26T14:39:27.038Z"
   },
   {
    "duration": 3081,
    "start_time": "2021-11-26T14:39:37.229Z"
   },
   {
    "duration": 440,
    "start_time": "2021-11-26T14:41:52.677Z"
   },
   {
    "duration": 9,
    "start_time": "2021-11-26T14:42:48.090Z"
   },
   {
    "duration": 363,
    "start_time": "2021-11-26T14:45:08.621Z"
   },
   {
    "duration": 8,
    "start_time": "2021-11-26T14:45:30.040Z"
   },
   {
    "duration": 2986,
    "start_time": "2021-11-26T14:45:35.876Z"
   },
   {
    "duration": 534,
    "start_time": "2021-11-26T14:48:12.567Z"
   },
   {
    "duration": 459,
    "start_time": "2021-11-26T14:48:22.832Z"
   },
   {
    "duration": 7,
    "start_time": "2021-11-26T14:48:29.815Z"
   },
   {
    "duration": 121,
    "start_time": "2021-11-26T14:55:33.417Z"
   },
   {
    "duration": 112,
    "start_time": "2021-11-26T14:55:55.405Z"
   },
   {
    "duration": 114,
    "start_time": "2021-11-26T14:56:04.968Z"
   },
   {
    "duration": 747,
    "start_time": "2021-11-26T14:57:01.218Z"
   },
   {
    "duration": 454,
    "start_time": "2021-11-26T14:57:50.565Z"
   },
   {
    "duration": 539,
    "start_time": "2021-11-26T14:59:37.711Z"
   },
   {
    "duration": 459,
    "start_time": "2021-11-26T15:00:26.182Z"
   },
   {
    "duration": 436,
    "start_time": "2021-11-26T15:03:44.720Z"
   },
   {
    "duration": 467,
    "start_time": "2021-11-26T15:07:41.076Z"
   },
   {
    "duration": 424,
    "start_time": "2021-11-26T15:09:03.844Z"
   },
   {
    "duration": 192,
    "start_time": "2021-11-26T15:09:54.093Z"
   },
   {
    "duration": 8,
    "start_time": "2021-11-26T15:11:00.066Z"
   },
   {
    "duration": 2778,
    "start_time": "2021-11-26T15:11:08.181Z"
   },
   {
    "duration": 432,
    "start_time": "2021-11-26T15:15:42.602Z"
   },
   {
    "duration": 40,
    "start_time": "2021-11-26T15:15:51.341Z"
   },
   {
    "duration": 1758,
    "start_time": "2021-11-26T15:19:06.461Z"
   },
   {
    "duration": 16,
    "start_time": "2021-11-26T15:19:08.221Z"
   },
   {
    "duration": 33,
    "start_time": "2021-11-26T15:19:08.240Z"
   },
   {
    "duration": 598,
    "start_time": "2021-11-26T15:19:08.276Z"
   },
   {
    "duration": 14,
    "start_time": "2021-11-26T15:19:08.877Z"
   },
   {
    "duration": 220,
    "start_time": "2021-11-26T15:19:08.893Z"
   },
   {
    "duration": 16,
    "start_time": "2021-11-26T15:19:09.115Z"
   },
   {
    "duration": 9,
    "start_time": "2021-11-26T15:19:09.134Z"
   },
   {
    "duration": 6,
    "start_time": "2021-11-26T15:19:09.147Z"
   },
   {
    "duration": 24639,
    "start_time": "2021-11-26T15:19:09.156Z"
   },
   {
    "duration": 7,
    "start_time": "2021-11-26T15:19:33.797Z"
   },
   {
    "duration": 2898,
    "start_time": "2021-11-26T15:19:33.806Z"
   },
   {
    "duration": 435,
    "start_time": "2021-11-26T15:19:36.707Z"
   },
   {
    "duration": 6,
    "start_time": "2021-11-26T15:19:37.145Z"
   },
   {
    "duration": 252,
    "start_time": "2021-11-26T15:19:37.154Z"
   },
   {
    "duration": 7,
    "start_time": "2021-11-26T15:19:37.409Z"
   },
   {
    "duration": 534,
    "start_time": "2021-11-26T15:19:37.430Z"
   },
   {
    "duration": 14,
    "start_time": "2021-11-26T15:19:37.967Z"
   },
   {
    "duration": 15,
    "start_time": "2021-11-26T15:19:37.984Z"
   },
   {
    "duration": 70,
    "start_time": "2021-11-26T15:19:38.001Z"
   },
   {
    "duration": 464,
    "start_time": "2021-11-26T15:19:38.073Z"
   },
   {
    "duration": 14,
    "start_time": "2021-11-26T15:19:38.539Z"
   },
   {
    "duration": 3216,
    "start_time": "2021-11-26T15:19:38.556Z"
   },
   {
    "duration": 997,
    "start_time": "2021-11-26T15:19:41.774Z"
   },
   {
    "duration": 404,
    "start_time": "2021-11-26T15:19:42.774Z"
   },
   {
    "duration": 185,
    "start_time": "2021-11-26T15:25:17.294Z"
   },
   {
    "duration": 11,
    "start_time": "2021-11-26T15:26:24.441Z"
   },
   {
    "duration": 3176,
    "start_time": "2021-11-26T15:26:31.780Z"
   },
   {
    "duration": 1694,
    "start_time": "2021-11-26T15:28:36.638Z"
   },
   {
    "duration": 18,
    "start_time": "2021-11-26T15:28:38.334Z"
   },
   {
    "duration": 49,
    "start_time": "2021-11-26T15:28:38.355Z"
   },
   {
    "duration": 600,
    "start_time": "2021-11-26T15:28:38.408Z"
   },
   {
    "duration": 22,
    "start_time": "2021-11-26T15:28:39.011Z"
   },
   {
    "duration": 214,
    "start_time": "2021-11-26T15:28:39.035Z"
   },
   {
    "duration": 7,
    "start_time": "2021-11-26T15:28:39.251Z"
   },
   {
    "duration": 12,
    "start_time": "2021-11-26T15:28:39.261Z"
   },
   {
    "duration": 9,
    "start_time": "2021-11-26T15:28:39.275Z"
   },
   {
    "duration": 24215,
    "start_time": "2021-11-26T15:28:39.287Z"
   },
   {
    "duration": 8,
    "start_time": "2021-11-26T15:29:03.504Z"
   },
   {
    "duration": 3266,
    "start_time": "2021-11-26T15:29:03.529Z"
   },
   {
    "duration": 445,
    "start_time": "2021-11-26T15:29:06.798Z"
   },
   {
    "duration": 6,
    "start_time": "2021-11-26T15:29:07.246Z"
   },
   {
    "duration": 263,
    "start_time": "2021-11-26T15:29:07.255Z"
   },
   {
    "duration": 11,
    "start_time": "2021-11-26T15:29:07.520Z"
   },
   {
    "duration": 902,
    "start_time": "2021-11-26T15:29:07.533Z"
   },
   {
    "duration": 16,
    "start_time": "2021-11-26T15:29:08.437Z"
   },
   {
    "duration": 17,
    "start_time": "2021-11-26T15:29:08.456Z"
   },
   {
    "duration": 78,
    "start_time": "2021-11-26T15:29:08.475Z"
   },
   {
    "duration": 714,
    "start_time": "2021-11-26T15:29:08.556Z"
   },
   {
    "duration": 14,
    "start_time": "2021-11-26T15:29:09.272Z"
   },
   {
    "duration": 4208,
    "start_time": "2021-11-26T15:29:09.290Z"
   },
   {
    "duration": 898,
    "start_time": "2021-11-26T15:29:13.500Z"
   },
   {
    "duration": 745,
    "start_time": "2021-11-26T15:29:14.400Z"
   },
   {
    "duration": 14,
    "start_time": "2021-11-26T15:39:02.473Z"
   },
   {
    "duration": 4030,
    "start_time": "2021-11-26T15:39:15.247Z"
   },
   {
    "duration": 810,
    "start_time": "2021-11-26T15:52:10.534Z"
   },
   {
    "duration": 247,
    "start_time": "2021-11-26T15:55:39.434Z"
   },
   {
    "duration": 1708,
    "start_time": "2021-11-26T16:00:46.821Z"
   },
   {
    "duration": 16,
    "start_time": "2021-11-26T16:00:48.532Z"
   },
   {
    "duration": 43,
    "start_time": "2021-11-26T16:00:48.551Z"
   },
   {
    "duration": 656,
    "start_time": "2021-11-26T16:00:48.597Z"
   },
   {
    "duration": 13,
    "start_time": "2021-11-26T16:00:49.256Z"
   },
   {
    "duration": 228,
    "start_time": "2021-11-26T16:00:49.271Z"
   },
   {
    "duration": 7,
    "start_time": "2021-11-26T16:00:49.501Z"
   },
   {
    "duration": 23,
    "start_time": "2021-11-26T16:00:49.512Z"
   },
   {
    "duration": 24,
    "start_time": "2021-11-26T16:00:49.538Z"
   },
   {
    "duration": 1809571,
    "start_time": "2021-11-26T16:00:49.565Z"
   },
   {
    "duration": -195,
    "start_time": "2021-11-26T16:30:59.334Z"
   },
   {
    "duration": -196,
    "start_time": "2021-11-26T16:30:59.336Z"
   },
   {
    "duration": -197,
    "start_time": "2021-11-26T16:30:59.338Z"
   },
   {
    "duration": -197,
    "start_time": "2021-11-26T16:30:59.340Z"
   },
   {
    "duration": -339,
    "start_time": "2021-11-26T16:30:59.483Z"
   },
   {
    "duration": -343,
    "start_time": "2021-11-26T16:30:59.488Z"
   },
   {
    "duration": -344,
    "start_time": "2021-11-26T16:30:59.491Z"
   },
   {
    "duration": -346,
    "start_time": "2021-11-26T16:30:59.494Z"
   },
   {
    "duration": -347,
    "start_time": "2021-11-26T16:30:59.497Z"
   },
   {
    "duration": -348,
    "start_time": "2021-11-26T16:30:59.499Z"
   },
   {
    "duration": -348,
    "start_time": "2021-11-26T16:30:59.501Z"
   },
   {
    "duration": -349,
    "start_time": "2021-11-26T16:30:59.503Z"
   },
   {
    "duration": -349,
    "start_time": "2021-11-26T16:30:59.505Z"
   },
   {
    "duration": -349,
    "start_time": "2021-11-26T16:30:59.507Z"
   },
   {
    "duration": -349,
    "start_time": "2021-11-26T16:30:59.508Z"
   },
   {
    "duration": 6,
    "start_time": "2021-11-26T16:33:38.641Z"
   },
   {
    "duration": 1210911,
    "start_time": "2021-11-26T16:33:39.570Z"
   },
   {
    "duration": 6,
    "start_time": "2021-11-26T17:01:27.401Z"
   },
   {
    "duration": 1785099,
    "start_time": "2021-11-26T17:01:34.288Z"
   },
   {
    "duration": 53,
    "start_time": "2021-11-26T17:31:19.389Z"
   },
   {
    "duration": 7,
    "start_time": "2021-11-27T01:16:57.093Z"
   },
   {
    "duration": 4363,
    "start_time": "2021-11-27T01:17:08.527Z"
   },
   {
    "duration": 429,
    "start_time": "2021-11-27T01:17:41.845Z"
   },
   {
    "duration": 6,
    "start_time": "2021-11-27T01:17:52.724Z"
   },
   {
    "duration": 1933,
    "start_time": "2021-11-27T01:17:58.386Z"
   },
   {
    "duration": 6,
    "start_time": "2021-11-27T01:18:13.107Z"
   },
   {
    "duration": 806,
    "start_time": "2021-11-27T01:18:28.426Z"
   },
   {
    "duration": 12,
    "start_time": "2021-11-27T01:21:38.624Z"
   },
   {
    "duration": 12,
    "start_time": "2021-11-27T01:21:48.394Z"
   },
   {
    "duration": 40,
    "start_time": "2021-11-27T01:21:50.331Z"
   },
   {
    "duration": 732,
    "start_time": "2021-11-27T01:21:57.992Z"
   },
   {
    "duration": 15,
    "start_time": "2021-11-27T01:22:21.146Z"
   },
   {
    "duration": 5130,
    "start_time": "2021-11-27T01:22:24.878Z"
   },
   {
    "duration": 1062,
    "start_time": "2021-11-27T01:22:51.095Z"
   },
   {
    "duration": 13,
    "start_time": "2021-11-27T02:50:28.738Z"
   },
   {
    "duration": 638,
    "start_time": "2021-11-27T02:53:41.183Z"
   },
   {
    "duration": 5,
    "start_time": "2021-11-27T03:22:26.141Z"
   },
   {
    "duration": 5,
    "start_time": "2021-11-27T03:22:36.930Z"
   },
   {
    "duration": 5,
    "start_time": "2021-11-27T03:22:56.750Z"
   },
   {
    "duration": 6,
    "start_time": "2021-11-27T03:25:21.100Z"
   },
   {
    "duration": 5,
    "start_time": "2021-11-27T03:25:49.428Z"
   },
   {
    "duration": 5,
    "start_time": "2021-11-27T03:26:07.108Z"
   },
   {
    "duration": 264,
    "start_time": "2021-11-27T03:29:26.345Z"
   },
   {
    "duration": 85,
    "start_time": "2021-11-27T03:30:24.833Z"
   },
   {
    "duration": 93,
    "start_time": "2021-11-27T03:31:27.488Z"
   },
   {
    "duration": 85,
    "start_time": "2021-11-27T03:31:48.594Z"
   },
   {
    "duration": 6,
    "start_time": "2021-11-27T03:31:51.984Z"
   },
   {
    "duration": 7,
    "start_time": "2021-11-27T03:32:24.927Z"
   },
   {
    "duration": 7,
    "start_time": "2021-11-27T03:33:39.443Z"
   },
   {
    "duration": 6,
    "start_time": "2021-11-27T03:33:45.390Z"
   },
   {
    "duration": 1661,
    "start_time": "2021-11-28T04:57:39.225Z"
   },
   {
    "duration": 17,
    "start_time": "2021-11-28T04:57:40.889Z"
   },
   {
    "duration": 38,
    "start_time": "2021-11-28T04:57:40.909Z"
   },
   {
    "duration": 575,
    "start_time": "2021-11-28T04:57:40.950Z"
   },
   {
    "duration": 14,
    "start_time": "2021-11-28T04:57:41.529Z"
   },
   {
    "duration": 216,
    "start_time": "2021-11-28T04:57:41.545Z"
   },
   {
    "duration": 7,
    "start_time": "2021-11-28T04:57:41.763Z"
   },
   {
    "duration": 12,
    "start_time": "2021-11-28T04:57:41.772Z"
   },
   {
    "duration": 10,
    "start_time": "2021-11-28T04:57:41.788Z"
   },
   {
    "duration": 4446,
    "start_time": "2021-11-28T04:57:41.801Z"
   },
   {
    "duration": 5,
    "start_time": "2021-11-28T04:57:46.249Z"
   },
   {
    "duration": 1215,
    "start_time": "2021-11-28T04:57:46.257Z"
   },
   {
    "duration": 475,
    "start_time": "2021-11-28T04:57:47.475Z"
   },
   {
    "duration": 7,
    "start_time": "2021-11-28T04:57:47.952Z"
   },
   {
    "duration": 206,
    "start_time": "2021-11-28T04:57:47.962Z"
   },
   {
    "duration": 5,
    "start_time": "2021-11-28T04:57:48.170Z"
   },
   {
    "duration": 813,
    "start_time": "2021-11-28T04:57:48.178Z"
   },
   {
    "duration": 12,
    "start_time": "2021-11-28T04:57:48.994Z"
   },
   {
    "duration": 33,
    "start_time": "2021-11-28T04:57:49.009Z"
   },
   {
    "duration": 45,
    "start_time": "2021-11-28T04:57:49.045Z"
   },
   {
    "duration": 763,
    "start_time": "2021-11-28T04:57:49.093Z"
   },
   {
    "duration": 13,
    "start_time": "2021-11-28T04:57:49.859Z"
   },
   {
    "duration": 1655,
    "start_time": "2021-11-28T04:57:49.874Z"
   },
   {
    "duration": 317,
    "start_time": "2021-11-28T04:57:51.531Z"
   },
   {
    "duration": 674,
    "start_time": "2021-11-28T04:57:51.850Z"
   }
  ],
  "kernelspec": {
   "display_name": "Python 3 (ipykernel)",
   "language": "python",
   "name": "python3"
  },
  "language_info": {
   "codemirror_mode": {
    "name": "ipython",
    "version": 3
   },
   "file_extension": ".py",
   "mimetype": "text/x-python",
   "name": "python",
   "nbconvert_exporter": "python",
   "pygments_lexer": "ipython3",
   "version": "3.9.12"
  },
  "toc": {
   "base_numbering": 1,
   "nav_menu": {},
   "number_sections": true,
   "sideBar": true,
   "skip_h1_title": true,
   "title_cell": "Table of Contents",
   "title_sidebar": "Contents",
   "toc_cell": false,
   "toc_position": {},
   "toc_section_display": true,
   "toc_window_display": false
  }
 },
 "nbformat": 4,
 "nbformat_minor": 5
}
